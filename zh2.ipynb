{
    "metadata": {
        "kernelspec": {
            "name": "SQL",
            "display_name": "SQL",
            "language": "sql"
        },
        "language_info": {
            "name": "sql",
            "version": ""
        }
    },
    "nbformat_minor": 2,
    "nbformat": 4,
    "cells": [
        {
            "cell_type": "code",
            "source": [
                "SELECT   IIF(s.SZOBA_SZAMA IS NULL, 'Összesen', s.SZOBA_SZAMA) AS 'Szoba szám', COUNT(*) AS 'Több felnőttes foglalás száma'\r\n",
                "FROM Szoba s JOIN Foglalas f ON f.SZOBA_FK=SZOBA_ID\r\n",
                "WHERE f.FELNOTT_SZAM > f.GYERMEK_SZAM\r\n",
                "GROUP BY ROLLUP (s.SZOBA_SZAMA )\r\n",
                "\r\n",
                ""
            ],
            "metadata": {
                "azdata_cell_guid": "b6c17875-38ce-45bf-8d32-41ee2e46aa9a",
                "language": "sql"
            },
            "outputs": [
                {
                    "output_type": "display_data",
                    "data": {
                        "text/html": "(39 rows affected)"
                    },
                    "metadata": {}
                },
                {
                    "output_type": "display_data",
                    "data": {
                        "text/html": "Total execution time: 00:00:00.012"
                    },
                    "metadata": {}
                },
                {
                    "output_type": "execute_result",
                    "metadata": {},
                    "execution_count": 10,
                    "data": {
                        "application/vnd.dataresource+json": {
                            "schema": {
                                "fields": [
                                    {
                                        "name": "Szoba szám"
                                    },
                                    {
                                        "name": "Több felnőttes foglalás száma"
                                    }
                                ]
                            },
                            "data": [
                                {
                                    "Szoba szám": "1",
                                    "Több felnőttes foglalás száma": "39"
                                },
                                {
                                    "Szoba szám": "10",
                                    "Több felnőttes foglalás száma": "24"
                                },
                                {
                                    "Szoba szám": "11",
                                    "Több felnőttes foglalás száma": "17"
                                },
                                {
                                    "Szoba szám": "12",
                                    "Több felnőttes foglalás száma": "21"
                                },
                                {
                                    "Szoba szám": "13",
                                    "Több felnőttes foglalás száma": "8"
                                },
                                {
                                    "Szoba szám": "14",
                                    "Több felnőttes foglalás száma": "17"
                                },
                                {
                                    "Szoba szám": "15",
                                    "Több felnőttes foglalás száma": "16"
                                },
                                {
                                    "Szoba szám": "16",
                                    "Több felnőttes foglalás száma": "11"
                                },
                                {
                                    "Szoba szám": "17",
                                    "Több felnőttes foglalás száma": "14"
                                },
                                {
                                    "Szoba szám": "18",
                                    "Több felnőttes foglalás száma": "17"
                                },
                                {
                                    "Szoba szám": "19",
                                    "Több felnőttes foglalás száma": "9"
                                },
                                {
                                    "Szoba szám": "2",
                                    "Több felnőttes foglalás száma": "33"
                                },
                                {
                                    "Szoba szám": "20",
                                    "Több felnőttes foglalás száma": "14"
                                },
                                {
                                    "Szoba szám": "21",
                                    "Több felnőttes foglalás száma": "22"
                                },
                                {
                                    "Szoba szám": "22",
                                    "Több felnőttes foglalás száma": "9"
                                },
                                {
                                    "Szoba szám": "23",
                                    "Több felnőttes foglalás száma": "12"
                                },
                                {
                                    "Szoba szám": "24",
                                    "Több felnőttes foglalás száma": "10"
                                },
                                {
                                    "Szoba szám": "25",
                                    "Több felnőttes foglalás száma": "14"
                                },
                                {
                                    "Szoba szám": "26",
                                    "Több felnőttes foglalás száma": "7"
                                },
                                {
                                    "Szoba szám": "27",
                                    "Több felnőttes foglalás száma": "9"
                                },
                                {
                                    "Szoba szám": "28",
                                    "Több felnőttes foglalás száma": "6"
                                },
                                {
                                    "Szoba szám": "29",
                                    "Több felnőttes foglalás száma": "9"
                                },
                                {
                                    "Szoba szám": "3",
                                    "Több felnőttes foglalás száma": "44"
                                },
                                {
                                    "Szoba szám": "30",
                                    "Több felnőttes foglalás száma": "7"
                                },
                                {
                                    "Szoba szám": "31",
                                    "Több felnőttes foglalás száma": "15"
                                },
                                {
                                    "Szoba szám": "32",
                                    "Több felnőttes foglalás száma": "8"
                                },
                                {
                                    "Szoba szám": "33",
                                    "Több felnőttes foglalás száma": "16"
                                },
                                {
                                    "Szoba szám": "34",
                                    "Több felnőttes foglalás száma": "16"
                                },
                                {
                                    "Szoba szám": "35",
                                    "Több felnőttes foglalás száma": "3"
                                },
                                {
                                    "Szoba szám": "36",
                                    "Több felnőttes foglalás száma": "4"
                                },
                                {
                                    "Szoba szám": "37",
                                    "Több felnőttes foglalás száma": "5"
                                },
                                {
                                    "Szoba szám": "39",
                                    "Több felnőttes foglalás száma": "3"
                                },
                                {
                                    "Szoba szám": "4",
                                    "Több felnőttes foglalás száma": "46"
                                },
                                {
                                    "Szoba szám": "5",
                                    "Több felnőttes foglalás száma": "44"
                                },
                                {
                                    "Szoba szám": "6",
                                    "Több felnőttes foglalás száma": "33"
                                },
                                {
                                    "Szoba szám": "7",
                                    "Több felnőttes foglalás száma": "28"
                                },
                                {
                                    "Szoba szám": "8",
                                    "Több felnőttes foglalás száma": "25"
                                },
                                {
                                    "Szoba szám": "9",
                                    "Több felnőttes foglalás száma": "33"
                                },
                                {
                                    "Szoba szám": "Összesen",
                                    "Több felnőttes foglalás száma": "668"
                                }
                            ]
                        },
                        "text/html": [
                            "<table>",
                            "<tr><th>Szoba szám</th><th>Több felnőttes foglalás száma</th></tr>",
                            "<tr><td>1</td><td>39</td></tr>",
                            "<tr><td>10</td><td>24</td></tr>",
                            "<tr><td>11</td><td>17</td></tr>",
                            "<tr><td>12</td><td>21</td></tr>",
                            "<tr><td>13</td><td>8</td></tr>",
                            "<tr><td>14</td><td>17</td></tr>",
                            "<tr><td>15</td><td>16</td></tr>",
                            "<tr><td>16</td><td>11</td></tr>",
                            "<tr><td>17</td><td>14</td></tr>",
                            "<tr><td>18</td><td>17</td></tr>",
                            "<tr><td>19</td><td>9</td></tr>",
                            "<tr><td>2</td><td>33</td></tr>",
                            "<tr><td>20</td><td>14</td></tr>",
                            "<tr><td>21</td><td>22</td></tr>",
                            "<tr><td>22</td><td>9</td></tr>",
                            "<tr><td>23</td><td>12</td></tr>",
                            "<tr><td>24</td><td>10</td></tr>",
                            "<tr><td>25</td><td>14</td></tr>",
                            "<tr><td>26</td><td>7</td></tr>",
                            "<tr><td>27</td><td>9</td></tr>",
                            "<tr><td>28</td><td>6</td></tr>",
                            "<tr><td>29</td><td>9</td></tr>",
                            "<tr><td>3</td><td>44</td></tr>",
                            "<tr><td>30</td><td>7</td></tr>",
                            "<tr><td>31</td><td>15</td></tr>",
                            "<tr><td>32</td><td>8</td></tr>",
                            "<tr><td>33</td><td>16</td></tr>",
                            "<tr><td>34</td><td>16</td></tr>",
                            "<tr><td>35</td><td>3</td></tr>",
                            "<tr><td>36</td><td>4</td></tr>",
                            "<tr><td>37</td><td>5</td></tr>",
                            "<tr><td>39</td><td>3</td></tr>",
                            "<tr><td>4</td><td>46</td></tr>",
                            "<tr><td>5</td><td>44</td></tr>",
                            "<tr><td>6</td><td>33</td></tr>",
                            "<tr><td>7</td><td>28</td></tr>",
                            "<tr><td>8</td><td>25</td></tr>",
                            "<tr><td>9</td><td>33</td></tr>",
                            "<tr><td>Összesen</td><td>668</td></tr>",
                            "</table>"
                        ]
                    }
                }
            ],
            "execution_count": 10
        },
        {
            "cell_type": "code",
            "source": [
                "SELECT s.SZOBA_ID, f.FOGLALAS_PK, DATEDIFF(day, f.METTOL, f.MEDDIG) AS 'Időtartam' , LAG(DATEDIFF(day, f.METTOL, f.MEDDIG),1,0) OVER (ORDER BY f.METTOL ) AS 'Elöző szoba foglalás hossza'\r\n",
                "FROM Szoba s JOIN Foglalas f ON f.SZOBA_FK=s.SZOBA_ID"
            ],
            "metadata": {
                "azdata_cell_guid": "83ce2cb5-9022-48e7-92bc-ba88822c955d",
                "language": "sql"
            },
            "outputs": [
                {
                    "output_type": "display_data",
                    "data": {
                        "text/html": "(1027 rows affected)"
                    },
                    "metadata": {}
                },
                {
                    "output_type": "display_data",
                    "data": {
                        "text/html": "Total execution time: 00:00:00.014"
                    },
                    "metadata": {}
                },
                {
                    "output_type": "execute_result",
                    "metadata": {},
                    "execution_count": 15,
                    "data": {
                        "application/vnd.dataresource+json": {
                            "schema": {
                                "fields": [
                                    {
                                        "name": "SZOBA_ID"
                                    },
                                    {
                                        "name": "FOGLALAS_PK"
                                    },
                                    {
                                        "name": "Időtartam"
                                    },
                                    {
                                        "name": "Elöző szoba foglalás hossza"
                                    }
                                ]
                            },
                            "data": [
                                {
                                    "SZOBA_ID": "87",
                                    "FOGLALAS_PK": "558",
                                    "Időtartam": "4",
                                    "Elöző szoba foglalás hossza": "0"
                                },
                                {
                                    "SZOBA_ID": "131",
                                    "FOGLALAS_PK": "559",
                                    "Időtartam": "2",
                                    "Elöző szoba foglalás hossza": "4"
                                },
                                {
                                    "SZOBA_ID": "6",
                                    "FOGLALAS_PK": "560",
                                    "Időtartam": "6",
                                    "Elöző szoba foglalás hossza": "2"
                                },
                                {
                                    "SZOBA_ID": "42",
                                    "FOGLALAS_PK": "561",
                                    "Időtartam": "4",
                                    "Elöző szoba foglalás hossza": "6"
                                },
                                {
                                    "SZOBA_ID": "7",
                                    "FOGLALAS_PK": "562",
                                    "Időtartam": "4",
                                    "Elöző szoba foglalás hossza": "4"
                                },
                                {
                                    "SZOBA_ID": "68",
                                    "FOGLALAS_PK": "563",
                                    "Időtartam": "5",
                                    "Elöző szoba foglalás hossza": "4"
                                },
                                {
                                    "SZOBA_ID": "5",
                                    "FOGLALAS_PK": "564",
                                    "Időtartam": "2",
                                    "Elöző szoba foglalás hossza": "5"
                                },
                                {
                                    "SZOBA_ID": "141",
                                    "FOGLALAS_PK": "565",
                                    "Időtartam": "6",
                                    "Elöző szoba foglalás hossza": "2"
                                },
                                {
                                    "SZOBA_ID": "21",
                                    "FOGLALAS_PK": "566",
                                    "Időtartam": "6",
                                    "Elöző szoba foglalás hossza": "6"
                                },
                                {
                                    "SZOBA_ID": "170",
                                    "FOGLALAS_PK": "567",
                                    "Időtartam": "7",
                                    "Elöző szoba foglalás hossza": "6"
                                },
                                {
                                    "SZOBA_ID": "78",
                                    "FOGLALAS_PK": "568",
                                    "Időtartam": "1",
                                    "Elöző szoba foglalás hossza": "7"
                                },
                                {
                                    "SZOBA_ID": "10",
                                    "FOGLALAS_PK": "569",
                                    "Időtartam": "3",
                                    "Elöző szoba foglalás hossza": "1"
                                },
                                {
                                    "SZOBA_ID": "164",
                                    "FOGLALAS_PK": "570",
                                    "Időtartam": "7",
                                    "Elöző szoba foglalás hossza": "3"
                                },
                                {
                                    "SZOBA_ID": "182",
                                    "FOGLALAS_PK": "571",
                                    "Időtartam": "2",
                                    "Elöző szoba foglalás hossza": "7"
                                },
                                {
                                    "SZOBA_ID": "83",
                                    "FOGLALAS_PK": "572",
                                    "Időtartam": "7",
                                    "Elöző szoba foglalás hossza": "2"
                                },
                                {
                                    "SZOBA_ID": "169",
                                    "FOGLALAS_PK": "573",
                                    "Időtartam": "5",
                                    "Elöző szoba foglalás hossza": "7"
                                },
                                {
                                    "SZOBA_ID": "171",
                                    "FOGLALAS_PK": "574",
                                    "Időtartam": "2",
                                    "Elöző szoba foglalás hossza": "5"
                                },
                                {
                                    "SZOBA_ID": "155",
                                    "FOGLALAS_PK": "575",
                                    "Időtartam": "1",
                                    "Elöző szoba foglalás hossza": "2"
                                },
                                {
                                    "SZOBA_ID": "125",
                                    "FOGLALAS_PK": "576",
                                    "Időtartam": "1",
                                    "Elöző szoba foglalás hossza": "1"
                                },
                                {
                                    "SZOBA_ID": "155",
                                    "FOGLALAS_PK": "577",
                                    "Időtartam": "3",
                                    "Elöző szoba foglalás hossza": "1"
                                },
                                {
                                    "SZOBA_ID": "185",
                                    "FOGLALAS_PK": "578",
                                    "Időtartam": "6",
                                    "Elöző szoba foglalás hossza": "3"
                                },
                                {
                                    "SZOBA_ID": "139",
                                    "FOGLALAS_PK": "579",
                                    "Időtartam": "2",
                                    "Elöző szoba foglalás hossza": "6"
                                },
                                {
                                    "SZOBA_ID": "130",
                                    "FOGLALAS_PK": "580",
                                    "Időtartam": "3",
                                    "Elöző szoba foglalás hossza": "2"
                                },
                                {
                                    "SZOBA_ID": "144",
                                    "FOGLALAS_PK": "581",
                                    "Időtartam": "4",
                                    "Elöző szoba foglalás hossza": "3"
                                },
                                {
                                    "SZOBA_ID": "137",
                                    "FOGLALAS_PK": "582",
                                    "Időtartam": "3",
                                    "Elöző szoba foglalás hossza": "4"
                                },
                                {
                                    "SZOBA_ID": "79",
                                    "FOGLALAS_PK": "583",
                                    "Időtartam": "6",
                                    "Elöző szoba foglalás hossza": "3"
                                },
                                {
                                    "SZOBA_ID": "136",
                                    "FOGLALAS_PK": "584",
                                    "Időtartam": "2",
                                    "Elöző szoba foglalás hossza": "6"
                                },
                                {
                                    "SZOBA_ID": "70",
                                    "FOGLALAS_PK": "585",
                                    "Időtartam": "5",
                                    "Elöző szoba foglalás hossza": "2"
                                },
                                {
                                    "SZOBA_ID": "107",
                                    "FOGLALAS_PK": "586",
                                    "Időtartam": "6",
                                    "Elöző szoba foglalás hossza": "5"
                                },
                                {
                                    "SZOBA_ID": "123",
                                    "FOGLALAS_PK": "587",
                                    "Időtartam": "7",
                                    "Elöző szoba foglalás hossza": "6"
                                },
                                {
                                    "SZOBA_ID": "156",
                                    "FOGLALAS_PK": "588",
                                    "Időtartam": "7",
                                    "Elöző szoba foglalás hossza": "7"
                                },
                                {
                                    "SZOBA_ID": "44",
                                    "FOGLALAS_PK": "589",
                                    "Időtartam": "2",
                                    "Elöző szoba foglalás hossza": "7"
                                },
                                {
                                    "SZOBA_ID": "42",
                                    "FOGLALAS_PK": "590",
                                    "Időtartam": "5",
                                    "Elöző szoba foglalás hossza": "2"
                                },
                                {
                                    "SZOBA_ID": "149",
                                    "FOGLALAS_PK": "591",
                                    "Időtartam": "1",
                                    "Elöző szoba foglalás hossza": "5"
                                },
                                {
                                    "SZOBA_ID": "176",
                                    "FOGLALAS_PK": "592",
                                    "Időtartam": "5",
                                    "Elöző szoba foglalás hossza": "1"
                                },
                                {
                                    "SZOBA_ID": "77",
                                    "FOGLALAS_PK": "593",
                                    "Időtartam": "3",
                                    "Elöző szoba foglalás hossza": "5"
                                },
                                {
                                    "SZOBA_ID": "153",
                                    "FOGLALAS_PK": "594",
                                    "Időtartam": "3",
                                    "Elöző szoba foglalás hossza": "3"
                                },
                                {
                                    "SZOBA_ID": "74",
                                    "FOGLALAS_PK": "595",
                                    "Időtartam": "7",
                                    "Elöző szoba foglalás hossza": "3"
                                },
                                {
                                    "SZOBA_ID": "115",
                                    "FOGLALAS_PK": "596",
                                    "Időtartam": "7",
                                    "Elöző szoba foglalás hossza": "7"
                                },
                                {
                                    "SZOBA_ID": "100",
                                    "FOGLALAS_PK": "597",
                                    "Időtartam": "1",
                                    "Elöző szoba foglalás hossza": "7"
                                },
                                {
                                    "SZOBA_ID": "31",
                                    "FOGLALAS_PK": "598",
                                    "Időtartam": "2",
                                    "Elöző szoba foglalás hossza": "1"
                                },
                                {
                                    "SZOBA_ID": "162",
                                    "FOGLALAS_PK": "599",
                                    "Időtartam": "4",
                                    "Elöző szoba foglalás hossza": "2"
                                },
                                {
                                    "SZOBA_ID": "190",
                                    "FOGLALAS_PK": "600",
                                    "Időtartam": "7",
                                    "Elöző szoba foglalás hossza": "4"
                                },
                                {
                                    "SZOBA_ID": "39",
                                    "FOGLALAS_PK": "601",
                                    "Időtartam": "6",
                                    "Elöző szoba foglalás hossza": "7"
                                },
                                {
                                    "SZOBA_ID": "17",
                                    "FOGLALAS_PK": "602",
                                    "Időtartam": "6",
                                    "Elöző szoba foglalás hossza": "6"
                                },
                                {
                                    "SZOBA_ID": "48",
                                    "FOGLALAS_PK": "603",
                                    "Időtartam": "3",
                                    "Elöző szoba foglalás hossza": "6"
                                },
                                {
                                    "SZOBA_ID": "30",
                                    "FOGLALAS_PK": "604",
                                    "Időtartam": "2",
                                    "Elöző szoba foglalás hossza": "3"
                                },
                                {
                                    "SZOBA_ID": "111",
                                    "FOGLALAS_PK": "605",
                                    "Időtartam": "7",
                                    "Elöző szoba foglalás hossza": "2"
                                },
                                {
                                    "SZOBA_ID": "31",
                                    "FOGLALAS_PK": "606",
                                    "Időtartam": "1",
                                    "Elöző szoba foglalás hossza": "7"
                                },
                                {
                                    "SZOBA_ID": "96",
                                    "FOGLALAS_PK": "607",
                                    "Időtartam": "4",
                                    "Elöző szoba foglalás hossza": "1"
                                },
                                {
                                    "SZOBA_ID": "184",
                                    "FOGLALAS_PK": "608",
                                    "Időtartam": "2",
                                    "Elöző szoba foglalás hossza": "4"
                                },
                                {
                                    "SZOBA_ID": "9",
                                    "FOGLALAS_PK": "609",
                                    "Időtartam": "2",
                                    "Elöző szoba foglalás hossza": "2"
                                },
                                {
                                    "SZOBA_ID": "106",
                                    "FOGLALAS_PK": "610",
                                    "Időtartam": "3",
                                    "Elöző szoba foglalás hossza": "2"
                                },
                                {
                                    "SZOBA_ID": "29",
                                    "FOGLALAS_PK": "611",
                                    "Időtartam": "5",
                                    "Elöző szoba foglalás hossza": "3"
                                },
                                {
                                    "SZOBA_ID": "117",
                                    "FOGLALAS_PK": "612",
                                    "Időtartam": "2",
                                    "Elöző szoba foglalás hossza": "5"
                                },
                                {
                                    "SZOBA_ID": "130",
                                    "FOGLALAS_PK": "613",
                                    "Időtartam": "3",
                                    "Elöző szoba foglalás hossza": "2"
                                },
                                {
                                    "SZOBA_ID": "109",
                                    "FOGLALAS_PK": "614",
                                    "Időtartam": "4",
                                    "Elöző szoba foglalás hossza": "3"
                                },
                                {
                                    "SZOBA_ID": "186",
                                    "FOGLALAS_PK": "615",
                                    "Időtartam": "3",
                                    "Elöző szoba foglalás hossza": "4"
                                },
                                {
                                    "SZOBA_ID": "94",
                                    "FOGLALAS_PK": "616",
                                    "Időtartam": "4",
                                    "Elöző szoba foglalás hossza": "3"
                                },
                                {
                                    "SZOBA_ID": "117",
                                    "FOGLALAS_PK": "617",
                                    "Időtartam": "3",
                                    "Elöző szoba foglalás hossza": "4"
                                },
                                {
                                    "SZOBA_ID": "105",
                                    "FOGLALAS_PK": "618",
                                    "Időtartam": "1",
                                    "Elöző szoba foglalás hossza": "3"
                                },
                                {
                                    "SZOBA_ID": "132",
                                    "FOGLALAS_PK": "619",
                                    "Időtartam": "7",
                                    "Elöző szoba foglalás hossza": "1"
                                },
                                {
                                    "SZOBA_ID": "1",
                                    "FOGLALAS_PK": "620",
                                    "Időtartam": "5",
                                    "Elöző szoba foglalás hossza": "7"
                                },
                                {
                                    "SZOBA_ID": "109",
                                    "FOGLALAS_PK": "621",
                                    "Időtartam": "7",
                                    "Elöző szoba foglalás hossza": "5"
                                },
                                {
                                    "SZOBA_ID": "54",
                                    "FOGLALAS_PK": "622",
                                    "Időtartam": "7",
                                    "Elöző szoba foglalás hossza": "7"
                                },
                                {
                                    "SZOBA_ID": "96",
                                    "FOGLALAS_PK": "623",
                                    "Időtartam": "7",
                                    "Elöző szoba foglalás hossza": "7"
                                },
                                {
                                    "SZOBA_ID": "33",
                                    "FOGLALAS_PK": "624",
                                    "Időtartam": "6",
                                    "Elöző szoba foglalás hossza": "7"
                                },
                                {
                                    "SZOBA_ID": "63",
                                    "FOGLALAS_PK": "625",
                                    "Időtartam": "3",
                                    "Elöző szoba foglalás hossza": "6"
                                },
                                {
                                    "SZOBA_ID": "18",
                                    "FOGLALAS_PK": "626",
                                    "Időtartam": "3",
                                    "Elöző szoba foglalás hossza": "3"
                                },
                                {
                                    "SZOBA_ID": "38",
                                    "FOGLALAS_PK": "627",
                                    "Időtartam": "6",
                                    "Elöző szoba foglalás hossza": "3"
                                },
                                {
                                    "SZOBA_ID": "48",
                                    "FOGLALAS_PK": "628",
                                    "Időtartam": "2",
                                    "Elöző szoba foglalás hossza": "6"
                                },
                                {
                                    "SZOBA_ID": "3",
                                    "FOGLALAS_PK": "629",
                                    "Időtartam": "4",
                                    "Elöző szoba foglalás hossza": "2"
                                },
                                {
                                    "SZOBA_ID": "163",
                                    "FOGLALAS_PK": "630",
                                    "Időtartam": "2",
                                    "Elöző szoba foglalás hossza": "4"
                                },
                                {
                                    "SZOBA_ID": "98",
                                    "FOGLALAS_PK": "631",
                                    "Időtartam": "6",
                                    "Elöző szoba foglalás hossza": "2"
                                },
                                {
                                    "SZOBA_ID": "99",
                                    "FOGLALAS_PK": "632",
                                    "Időtartam": "1",
                                    "Elöző szoba foglalás hossza": "6"
                                },
                                {
                                    "SZOBA_ID": "187",
                                    "FOGLALAS_PK": "633",
                                    "Időtartam": "6",
                                    "Elöző szoba foglalás hossza": "1"
                                },
                                {
                                    "SZOBA_ID": "193",
                                    "FOGLALAS_PK": "634",
                                    "Időtartam": "6",
                                    "Elöző szoba foglalás hossza": "6"
                                },
                                {
                                    "SZOBA_ID": "97",
                                    "FOGLALAS_PK": "635",
                                    "Időtartam": "3",
                                    "Elöző szoba foglalás hossza": "6"
                                },
                                {
                                    "SZOBA_ID": "91",
                                    "FOGLALAS_PK": "636",
                                    "Időtartam": "6",
                                    "Elöző szoba foglalás hossza": "3"
                                },
                                {
                                    "SZOBA_ID": "100",
                                    "FOGLALAS_PK": "637",
                                    "Időtartam": "5",
                                    "Elöző szoba foglalás hossza": "6"
                                },
                                {
                                    "SZOBA_ID": "67",
                                    "FOGLALAS_PK": "638",
                                    "Időtartam": "5",
                                    "Elöző szoba foglalás hossza": "5"
                                },
                                {
                                    "SZOBA_ID": "161",
                                    "FOGLALAS_PK": "639",
                                    "Időtartam": "4",
                                    "Elöző szoba foglalás hossza": "5"
                                },
                                {
                                    "SZOBA_ID": "165",
                                    "FOGLALAS_PK": "640",
                                    "Időtartam": "3",
                                    "Elöző szoba foglalás hossza": "4"
                                },
                                {
                                    "SZOBA_ID": "150",
                                    "FOGLALAS_PK": "641",
                                    "Időtartam": "3",
                                    "Elöző szoba foglalás hossza": "3"
                                },
                                {
                                    "SZOBA_ID": "54",
                                    "FOGLALAS_PK": "642",
                                    "Időtartam": "5",
                                    "Elöző szoba foglalás hossza": "3"
                                },
                                {
                                    "SZOBA_ID": "127",
                                    "FOGLALAS_PK": "643",
                                    "Időtartam": "2",
                                    "Elöző szoba foglalás hossza": "5"
                                },
                                {
                                    "SZOBA_ID": "166",
                                    "FOGLALAS_PK": "644",
                                    "Időtartam": "7",
                                    "Elöző szoba foglalás hossza": "2"
                                },
                                {
                                    "SZOBA_ID": "67",
                                    "FOGLALAS_PK": "645",
                                    "Időtartam": "6",
                                    "Elöző szoba foglalás hossza": "7"
                                },
                                {
                                    "SZOBA_ID": "78",
                                    "FOGLALAS_PK": "646",
                                    "Időtartam": "3",
                                    "Elöző szoba foglalás hossza": "6"
                                },
                                {
                                    "SZOBA_ID": "85",
                                    "FOGLALAS_PK": "647",
                                    "Időtartam": "3",
                                    "Elöző szoba foglalás hossza": "3"
                                },
                                {
                                    "SZOBA_ID": "157",
                                    "FOGLALAS_PK": "648",
                                    "Időtartam": "4",
                                    "Elöző szoba foglalás hossza": "3"
                                },
                                {
                                    "SZOBA_ID": "137",
                                    "FOGLALAS_PK": "649",
                                    "Időtartam": "5",
                                    "Elöző szoba foglalás hossza": "4"
                                },
                                {
                                    "SZOBA_ID": "65",
                                    "FOGLALAS_PK": "650",
                                    "Időtartam": "6",
                                    "Elöző szoba foglalás hossza": "5"
                                },
                                {
                                    "SZOBA_ID": "4",
                                    "FOGLALAS_PK": "651",
                                    "Időtartam": "7",
                                    "Elöző szoba foglalás hossza": "6"
                                },
                                {
                                    "SZOBA_ID": "149",
                                    "FOGLALAS_PK": "652",
                                    "Időtartam": "1",
                                    "Elöző szoba foglalás hossza": "7"
                                },
                                {
                                    "SZOBA_ID": "161",
                                    "FOGLALAS_PK": "653",
                                    "Időtartam": "7",
                                    "Elöző szoba foglalás hossza": "1"
                                },
                                {
                                    "SZOBA_ID": "109",
                                    "FOGLALAS_PK": "654",
                                    "Időtartam": "5",
                                    "Elöző szoba foglalás hossza": "7"
                                },
                                {
                                    "SZOBA_ID": "131",
                                    "FOGLALAS_PK": "655",
                                    "Időtartam": "1",
                                    "Elöző szoba foglalás hossza": "5"
                                },
                                {
                                    "SZOBA_ID": "95",
                                    "FOGLALAS_PK": "656",
                                    "Időtartam": "7",
                                    "Elöző szoba foglalás hossza": "1"
                                },
                                {
                                    "SZOBA_ID": "137",
                                    "FOGLALAS_PK": "657",
                                    "Időtartam": "6",
                                    "Elöző szoba foglalás hossza": "7"
                                },
                                {
                                    "SZOBA_ID": "44",
                                    "FOGLALAS_PK": "658",
                                    "Időtartam": "6",
                                    "Elöző szoba foglalás hossza": "6"
                                },
                                {
                                    "SZOBA_ID": "169",
                                    "FOGLALAS_PK": "659",
                                    "Időtartam": "6",
                                    "Elöző szoba foglalás hossza": "6"
                                },
                                {
                                    "SZOBA_ID": "21",
                                    "FOGLALAS_PK": "660",
                                    "Időtartam": "5",
                                    "Elöző szoba foglalás hossza": "6"
                                },
                                {
                                    "SZOBA_ID": "136",
                                    "FOGLALAS_PK": "661",
                                    "Időtartam": "5",
                                    "Elöző szoba foglalás hossza": "5"
                                },
                                {
                                    "SZOBA_ID": "179",
                                    "FOGLALAS_PK": "662",
                                    "Időtartam": "2",
                                    "Elöző szoba foglalás hossza": "5"
                                },
                                {
                                    "SZOBA_ID": "14",
                                    "FOGLALAS_PK": "663",
                                    "Időtartam": "1",
                                    "Elöző szoba foglalás hossza": "2"
                                },
                                {
                                    "SZOBA_ID": "42",
                                    "FOGLALAS_PK": "851",
                                    "Időtartam": "7",
                                    "Elöző szoba foglalás hossza": "1"
                                },
                                {
                                    "SZOBA_ID": "24",
                                    "FOGLALAS_PK": "852",
                                    "Időtartam": "2",
                                    "Elöző szoba foglalás hossza": "7"
                                },
                                {
                                    "SZOBA_ID": "127",
                                    "FOGLALAS_PK": "853",
                                    "Időtartam": "5",
                                    "Elöző szoba foglalás hossza": "2"
                                },
                                {
                                    "SZOBA_ID": "167",
                                    "FOGLALAS_PK": "854",
                                    "Időtartam": "7",
                                    "Elöző szoba foglalás hossza": "5"
                                },
                                {
                                    "SZOBA_ID": "53",
                                    "FOGLALAS_PK": "855",
                                    "Időtartam": "1",
                                    "Elöző szoba foglalás hossza": "7"
                                },
                                {
                                    "SZOBA_ID": "16",
                                    "FOGLALAS_PK": "856",
                                    "Időtartam": "6",
                                    "Elöző szoba foglalás hossza": "1"
                                },
                                {
                                    "SZOBA_ID": "165",
                                    "FOGLALAS_PK": "857",
                                    "Időtartam": "5",
                                    "Elöző szoba foglalás hossza": "6"
                                },
                                {
                                    "SZOBA_ID": "121",
                                    "FOGLALAS_PK": "858",
                                    "Időtartam": "5",
                                    "Elöző szoba foglalás hossza": "5"
                                },
                                {
                                    "SZOBA_ID": "86",
                                    "FOGLALAS_PK": "859",
                                    "Időtartam": "1",
                                    "Elöző szoba foglalás hossza": "5"
                                },
                                {
                                    "SZOBA_ID": "70",
                                    "FOGLALAS_PK": "860",
                                    "Időtartam": "2",
                                    "Elöző szoba foglalás hossza": "1"
                                },
                                {
                                    "SZOBA_ID": "124",
                                    "FOGLALAS_PK": "861",
                                    "Időtartam": "1",
                                    "Elöző szoba foglalás hossza": "2"
                                },
                                {
                                    "SZOBA_ID": "82",
                                    "FOGLALAS_PK": "862",
                                    "Időtartam": "4",
                                    "Elöző szoba foglalás hossza": "1"
                                },
                                {
                                    "SZOBA_ID": "185",
                                    "FOGLALAS_PK": "863",
                                    "Időtartam": "4",
                                    "Elöző szoba foglalás hossza": "4"
                                },
                                {
                                    "SZOBA_ID": "118",
                                    "FOGLALAS_PK": "864",
                                    "Időtartam": "6",
                                    "Elöző szoba foglalás hossza": "4"
                                },
                                {
                                    "SZOBA_ID": "51",
                                    "FOGLALAS_PK": "865",
                                    "Időtartam": "7",
                                    "Elöző szoba foglalás hossza": "6"
                                },
                                {
                                    "SZOBA_ID": "88",
                                    "FOGLALAS_PK": "866",
                                    "Időtartam": "2",
                                    "Elöző szoba foglalás hossza": "7"
                                },
                                {
                                    "SZOBA_ID": "175",
                                    "FOGLALAS_PK": "867",
                                    "Időtartam": "6",
                                    "Elöző szoba foglalás hossza": "2"
                                },
                                {
                                    "SZOBA_ID": "187",
                                    "FOGLALAS_PK": "868",
                                    "Időtartam": "4",
                                    "Elöző szoba foglalás hossza": "6"
                                },
                                {
                                    "SZOBA_ID": "83",
                                    "FOGLALAS_PK": "869",
                                    "Időtartam": "6",
                                    "Elöző szoba foglalás hossza": "4"
                                },
                                {
                                    "SZOBA_ID": "34",
                                    "FOGLALAS_PK": "870",
                                    "Időtartam": "6",
                                    "Elöző szoba foglalás hossza": "6"
                                },
                                {
                                    "SZOBA_ID": "82",
                                    "FOGLALAS_PK": "871",
                                    "Időtartam": "5",
                                    "Elöző szoba foglalás hossza": "6"
                                },
                                {
                                    "SZOBA_ID": "28",
                                    "FOGLALAS_PK": "872",
                                    "Időtartam": "5",
                                    "Elöző szoba foglalás hossza": "5"
                                },
                                {
                                    "SZOBA_ID": "6",
                                    "FOGLALAS_PK": "873",
                                    "Időtartam": "3",
                                    "Elöző szoba foglalás hossza": "5"
                                },
                                {
                                    "SZOBA_ID": "67",
                                    "FOGLALAS_PK": "874",
                                    "Időtartam": "6",
                                    "Elöző szoba foglalás hossza": "3"
                                },
                                {
                                    "SZOBA_ID": "64",
                                    "FOGLALAS_PK": "875",
                                    "Időtartam": "2",
                                    "Elöző szoba foglalás hossza": "6"
                                },
                                {
                                    "SZOBA_ID": "12",
                                    "FOGLALAS_PK": "876",
                                    "Időtartam": "7",
                                    "Elöző szoba foglalás hossza": "2"
                                },
                                {
                                    "SZOBA_ID": "74",
                                    "FOGLALAS_PK": "877",
                                    "Időtartam": "4",
                                    "Elöző szoba foglalás hossza": "7"
                                },
                                {
                                    "SZOBA_ID": "83",
                                    "FOGLALAS_PK": "878",
                                    "Időtartam": "6",
                                    "Elöző szoba foglalás hossza": "4"
                                },
                                {
                                    "SZOBA_ID": "127",
                                    "FOGLALAS_PK": "879",
                                    "Időtartam": "2",
                                    "Elöző szoba foglalás hossza": "6"
                                },
                                {
                                    "SZOBA_ID": "184",
                                    "FOGLALAS_PK": "880",
                                    "Időtartam": "4",
                                    "Elöző szoba foglalás hossza": "2"
                                },
                                {
                                    "SZOBA_ID": "131",
                                    "FOGLALAS_PK": "881",
                                    "Időtartam": "6",
                                    "Elöző szoba foglalás hossza": "4"
                                },
                                {
                                    "SZOBA_ID": "8",
                                    "FOGLALAS_PK": "882",
                                    "Időtartam": "1",
                                    "Elöző szoba foglalás hossza": "6"
                                },
                                {
                                    "SZOBA_ID": "58",
                                    "FOGLALAS_PK": "883",
                                    "Időtartam": "5",
                                    "Elöző szoba foglalás hossza": "1"
                                },
                                {
                                    "SZOBA_ID": "98",
                                    "FOGLALAS_PK": "884",
                                    "Időtartam": "5",
                                    "Elöző szoba foglalás hossza": "5"
                                },
                                {
                                    "SZOBA_ID": "69",
                                    "FOGLALAS_PK": "885",
                                    "Időtartam": "1",
                                    "Elöző szoba foglalás hossza": "5"
                                },
                                {
                                    "SZOBA_ID": "28",
                                    "FOGLALAS_PK": "886",
                                    "Időtartam": "4",
                                    "Elöző szoba foglalás hossza": "1"
                                },
                                {
                                    "SZOBA_ID": "80",
                                    "FOGLALAS_PK": "887",
                                    "Időtartam": "6",
                                    "Elöző szoba foglalás hossza": "4"
                                },
                                {
                                    "SZOBA_ID": "49",
                                    "FOGLALAS_PK": "888",
                                    "Időtartam": "7",
                                    "Elöző szoba foglalás hossza": "6"
                                },
                                {
                                    "SZOBA_ID": "54",
                                    "FOGLALAS_PK": "889",
                                    "Időtartam": "2",
                                    "Elöző szoba foglalás hossza": "7"
                                },
                                {
                                    "SZOBA_ID": "146",
                                    "FOGLALAS_PK": "890",
                                    "Időtartam": "3",
                                    "Elöző szoba foglalás hossza": "2"
                                },
                                {
                                    "SZOBA_ID": "63",
                                    "FOGLALAS_PK": "891",
                                    "Időtartam": "6",
                                    "Elöző szoba foglalás hossza": "3"
                                },
                                {
                                    "SZOBA_ID": "165",
                                    "FOGLALAS_PK": "892",
                                    "Időtartam": "3",
                                    "Elöző szoba foglalás hossza": "6"
                                },
                                {
                                    "SZOBA_ID": "151",
                                    "FOGLALAS_PK": "893",
                                    "Időtartam": "3",
                                    "Elöző szoba foglalás hossza": "3"
                                },
                                {
                                    "SZOBA_ID": "29",
                                    "FOGLALAS_PK": "894",
                                    "Időtartam": "1",
                                    "Elöző szoba foglalás hossza": "3"
                                },
                                {
                                    "SZOBA_ID": "36",
                                    "FOGLALAS_PK": "895",
                                    "Időtartam": "5",
                                    "Elöző szoba foglalás hossza": "1"
                                },
                                {
                                    "SZOBA_ID": "16",
                                    "FOGLALAS_PK": "896",
                                    "Időtartam": "1",
                                    "Elöző szoba foglalás hossza": "5"
                                },
                                {
                                    "SZOBA_ID": "165",
                                    "FOGLALAS_PK": "897",
                                    "Időtartam": "6",
                                    "Elöző szoba foglalás hossza": "1"
                                },
                                {
                                    "SZOBA_ID": "185",
                                    "FOGLALAS_PK": "898",
                                    "Időtartam": "4",
                                    "Elöző szoba foglalás hossza": "6"
                                },
                                {
                                    "SZOBA_ID": "39",
                                    "FOGLALAS_PK": "899",
                                    "Időtartam": "6",
                                    "Elöző szoba foglalás hossza": "4"
                                },
                                {
                                    "SZOBA_ID": "165",
                                    "FOGLALAS_PK": "900",
                                    "Időtartam": "6",
                                    "Elöző szoba foglalás hossza": "6"
                                },
                                {
                                    "SZOBA_ID": "28",
                                    "FOGLALAS_PK": "901",
                                    "Időtartam": "4",
                                    "Elöző szoba foglalás hossza": "6"
                                },
                                {
                                    "SZOBA_ID": "72",
                                    "FOGLALAS_PK": "902",
                                    "Időtartam": "5",
                                    "Elöző szoba foglalás hossza": "4"
                                },
                                {
                                    "SZOBA_ID": "192",
                                    "FOGLALAS_PK": "903",
                                    "Időtartam": "7",
                                    "Elöző szoba foglalás hossza": "5"
                                },
                                {
                                    "SZOBA_ID": "34",
                                    "FOGLALAS_PK": "904",
                                    "Időtartam": "2",
                                    "Elöző szoba foglalás hossza": "7"
                                },
                                {
                                    "SZOBA_ID": "180",
                                    "FOGLALAS_PK": "905",
                                    "Időtartam": "5",
                                    "Elöző szoba foglalás hossza": "2"
                                },
                                {
                                    "SZOBA_ID": "22",
                                    "FOGLALAS_PK": "906",
                                    "Időtartam": "1",
                                    "Elöző szoba foglalás hossza": "5"
                                },
                                {
                                    "SZOBA_ID": "156",
                                    "FOGLALAS_PK": "907",
                                    "Időtartam": "3",
                                    "Elöző szoba foglalás hossza": "1"
                                },
                                {
                                    "SZOBA_ID": "141",
                                    "FOGLALAS_PK": "908",
                                    "Időtartam": "2",
                                    "Elöző szoba foglalás hossza": "3"
                                },
                                {
                                    "SZOBA_ID": "133",
                                    "FOGLALAS_PK": "909",
                                    "Időtartam": "4",
                                    "Elöző szoba foglalás hossza": "2"
                                },
                                {
                                    "SZOBA_ID": "130",
                                    "FOGLALAS_PK": "910",
                                    "Időtartam": "2",
                                    "Elöző szoba foglalás hossza": "4"
                                },
                                {
                                    "SZOBA_ID": "161",
                                    "FOGLALAS_PK": "911",
                                    "Időtartam": "4",
                                    "Elöző szoba foglalás hossza": "2"
                                },
                                {
                                    "SZOBA_ID": "188",
                                    "FOGLALAS_PK": "912",
                                    "Időtartam": "1",
                                    "Elöző szoba foglalás hossza": "4"
                                },
                                {
                                    "SZOBA_ID": "173",
                                    "FOGLALAS_PK": "913",
                                    "Időtartam": "1",
                                    "Elöző szoba foglalás hossza": "1"
                                },
                                {
                                    "SZOBA_ID": "48",
                                    "FOGLALAS_PK": "914",
                                    "Időtartam": "5",
                                    "Elöző szoba foglalás hossza": "1"
                                },
                                {
                                    "SZOBA_ID": "140",
                                    "FOGLALAS_PK": "915",
                                    "Időtartam": "2",
                                    "Elöző szoba foglalás hossza": "5"
                                },
                                {
                                    "SZOBA_ID": "17",
                                    "FOGLALAS_PK": "916",
                                    "Időtartam": "2",
                                    "Elöző szoba foglalás hossza": "2"
                                },
                                {
                                    "SZOBA_ID": "174",
                                    "FOGLALAS_PK": "917",
                                    "Időtartam": "2",
                                    "Elöző szoba foglalás hossza": "2"
                                },
                                {
                                    "SZOBA_ID": "11",
                                    "FOGLALAS_PK": "918",
                                    "Időtartam": "6",
                                    "Elöző szoba foglalás hossza": "2"
                                },
                                {
                                    "SZOBA_ID": "36",
                                    "FOGLALAS_PK": "919",
                                    "Időtartam": "1",
                                    "Elöző szoba foglalás hossza": "6"
                                },
                                {
                                    "SZOBA_ID": "32",
                                    "FOGLALAS_PK": "920",
                                    "Időtartam": "4",
                                    "Elöző szoba foglalás hossza": "1"
                                },
                                {
                                    "SZOBA_ID": "112",
                                    "FOGLALAS_PK": "921",
                                    "Időtartam": "1",
                                    "Elöző szoba foglalás hossza": "4"
                                },
                                {
                                    "SZOBA_ID": "160",
                                    "FOGLALAS_PK": "922",
                                    "Időtartam": "2",
                                    "Elöző szoba foglalás hossza": "1"
                                },
                                {
                                    "SZOBA_ID": "123",
                                    "FOGLALAS_PK": "923",
                                    "Időtartam": "4",
                                    "Elöző szoba foglalás hossza": "2"
                                },
                                {
                                    "SZOBA_ID": "40",
                                    "FOGLALAS_PK": "924",
                                    "Időtartam": "5",
                                    "Elöző szoba foglalás hossza": "4"
                                },
                                {
                                    "SZOBA_ID": "185",
                                    "FOGLALAS_PK": "925",
                                    "Időtartam": "6",
                                    "Elöző szoba foglalás hossza": "5"
                                },
                                {
                                    "SZOBA_ID": "193",
                                    "FOGLALAS_PK": "926",
                                    "Időtartam": "1",
                                    "Elöző szoba foglalás hossza": "6"
                                },
                                {
                                    "SZOBA_ID": "160",
                                    "FOGLALAS_PK": "927",
                                    "Időtartam": "4",
                                    "Elöző szoba foglalás hossza": "1"
                                },
                                {
                                    "SZOBA_ID": "182",
                                    "FOGLALAS_PK": "928",
                                    "Időtartam": "2",
                                    "Elöző szoba foglalás hossza": "4"
                                },
                                {
                                    "SZOBA_ID": "80",
                                    "FOGLALAS_PK": "929",
                                    "Időtartam": "2",
                                    "Elöző szoba foglalás hossza": "2"
                                },
                                {
                                    "SZOBA_ID": "168",
                                    "FOGLALAS_PK": "930",
                                    "Időtartam": "3",
                                    "Elöző szoba foglalás hossza": "2"
                                },
                                {
                                    "SZOBA_ID": "110",
                                    "FOGLALAS_PK": "931",
                                    "Időtartam": "5",
                                    "Elöző szoba foglalás hossza": "3"
                                },
                                {
                                    "SZOBA_ID": "40",
                                    "FOGLALAS_PK": "932",
                                    "Időtartam": "6",
                                    "Elöző szoba foglalás hossza": "5"
                                },
                                {
                                    "SZOBA_ID": "160",
                                    "FOGLALAS_PK": "933",
                                    "Időtartam": "4",
                                    "Elöző szoba foglalás hossza": "6"
                                },
                                {
                                    "SZOBA_ID": "23",
                                    "FOGLALAS_PK": "934",
                                    "Időtartam": "1",
                                    "Elöző szoba foglalás hossza": "4"
                                },
                                {
                                    "SZOBA_ID": "56",
                                    "FOGLALAS_PK": "935",
                                    "Időtartam": "4",
                                    "Elöző szoba foglalás hossza": "1"
                                },
                                {
                                    "SZOBA_ID": "62",
                                    "FOGLALAS_PK": "936",
                                    "Időtartam": "3",
                                    "Elöző szoba foglalás hossza": "4"
                                },
                                {
                                    "SZOBA_ID": "181",
                                    "FOGLALAS_PK": "937",
                                    "Időtartam": "3",
                                    "Elöző szoba foglalás hossza": "3"
                                },
                                {
                                    "SZOBA_ID": "62",
                                    "FOGLALAS_PK": "938",
                                    "Időtartam": "1",
                                    "Elöző szoba foglalás hossza": "3"
                                },
                                {
                                    "SZOBA_ID": "183",
                                    "FOGLALAS_PK": "939",
                                    "Időtartam": "4",
                                    "Elöző szoba foglalás hossza": "1"
                                },
                                {
                                    "SZOBA_ID": "74",
                                    "FOGLALAS_PK": "940",
                                    "Időtartam": "5",
                                    "Elöző szoba foglalás hossza": "4"
                                },
                                {
                                    "SZOBA_ID": "163",
                                    "FOGLALAS_PK": "941",
                                    "Időtartam": "1",
                                    "Elöző szoba foglalás hossza": "5"
                                },
                                {
                                    "SZOBA_ID": "92",
                                    "FOGLALAS_PK": "942",
                                    "Időtartam": "6",
                                    "Elöző szoba foglalás hossza": "1"
                                },
                                {
                                    "SZOBA_ID": "115",
                                    "FOGLALAS_PK": "943",
                                    "Időtartam": "7",
                                    "Elöző szoba foglalás hossza": "6"
                                },
                                {
                                    "SZOBA_ID": "170",
                                    "FOGLALAS_PK": "944",
                                    "Időtartam": "4",
                                    "Elöző szoba foglalás hossza": "7"
                                },
                                {
                                    "SZOBA_ID": "23",
                                    "FOGLALAS_PK": "945",
                                    "Időtartam": "7",
                                    "Elöző szoba foglalás hossza": "4"
                                },
                                {
                                    "SZOBA_ID": "4",
                                    "FOGLALAS_PK": "946",
                                    "Időtartam": "5",
                                    "Elöző szoba foglalás hossza": "7"
                                },
                                {
                                    "SZOBA_ID": "8",
                                    "FOGLALAS_PK": "947",
                                    "Időtartam": "3",
                                    "Elöző szoba foglalás hossza": "5"
                                },
                                {
                                    "SZOBA_ID": "19",
                                    "FOGLALAS_PK": "948",
                                    "Időtartam": "2",
                                    "Elöző szoba foglalás hossza": "3"
                                },
                                {
                                    "SZOBA_ID": "1",
                                    "FOGLALAS_PK": "949",
                                    "Időtartam": "1",
                                    "Elöző szoba foglalás hossza": "2"
                                },
                                {
                                    "SZOBA_ID": "66",
                                    "FOGLALAS_PK": "950",
                                    "Időtartam": "3",
                                    "Elöző szoba foglalás hossza": "1"
                                },
                                {
                                    "SZOBA_ID": "12",
                                    "FOGLALAS_PK": "951",
                                    "Időtartam": "3",
                                    "Elöző szoba foglalás hossza": "3"
                                },
                                {
                                    "SZOBA_ID": "196",
                                    "FOGLALAS_PK": "952",
                                    "Időtartam": "3",
                                    "Elöző szoba foglalás hossza": "3"
                                },
                                {
                                    "SZOBA_ID": "117",
                                    "FOGLALAS_PK": "953",
                                    "Időtartam": "5",
                                    "Elöző szoba foglalás hossza": "3"
                                },
                                {
                                    "SZOBA_ID": "84",
                                    "FOGLALAS_PK": "954",
                                    "Időtartam": "5",
                                    "Elöző szoba foglalás hossza": "5"
                                },
                                {
                                    "SZOBA_ID": "47",
                                    "FOGLALAS_PK": "955",
                                    "Időtartam": "1",
                                    "Elöző szoba foglalás hossza": "5"
                                },
                                {
                                    "SZOBA_ID": "156",
                                    "FOGLALAS_PK": "956",
                                    "Időtartam": "6",
                                    "Elöző szoba foglalás hossza": "1"
                                },
                                {
                                    "SZOBA_ID": "187",
                                    "FOGLALAS_PK": "957",
                                    "Időtartam": "4",
                                    "Elöző szoba foglalás hossza": "6"
                                },
                                {
                                    "SZOBA_ID": "181",
                                    "FOGLALAS_PK": "958",
                                    "Időtartam": "5",
                                    "Elöző szoba foglalás hossza": "4"
                                },
                                {
                                    "SZOBA_ID": "111",
                                    "FOGLALAS_PK": "959",
                                    "Időtartam": "7",
                                    "Elöző szoba foglalás hossza": "5"
                                },
                                {
                                    "SZOBA_ID": "41",
                                    "FOGLALAS_PK": "960",
                                    "Időtartam": "6",
                                    "Elöző szoba foglalás hossza": "7"
                                },
                                {
                                    "SZOBA_ID": "72",
                                    "FOGLALAS_PK": "961",
                                    "Időtartam": "6",
                                    "Elöző szoba foglalás hossza": "6"
                                },
                                {
                                    "SZOBA_ID": "117",
                                    "FOGLALAS_PK": "962",
                                    "Időtartam": "4",
                                    "Elöző szoba foglalás hossza": "6"
                                },
                                {
                                    "SZOBA_ID": "74",
                                    "FOGLALAS_PK": "963",
                                    "Időtartam": "1",
                                    "Elöző szoba foglalás hossza": "4"
                                },
                                {
                                    "SZOBA_ID": "110",
                                    "FOGLALAS_PK": "964",
                                    "Időtartam": "6",
                                    "Elöző szoba foglalás hossza": "1"
                                },
                                {
                                    "SZOBA_ID": "5",
                                    "FOGLALAS_PK": "965",
                                    "Időtartam": "7",
                                    "Elöző szoba foglalás hossza": "6"
                                },
                                {
                                    "SZOBA_ID": "114",
                                    "FOGLALAS_PK": "966",
                                    "Időtartam": "6",
                                    "Elöző szoba foglalás hossza": "7"
                                },
                                {
                                    "SZOBA_ID": "123",
                                    "FOGLALAS_PK": "967",
                                    "Időtartam": "5",
                                    "Elöző szoba foglalás hossza": "6"
                                },
                                {
                                    "SZOBA_ID": "154",
                                    "FOGLALAS_PK": "968",
                                    "Időtartam": "1",
                                    "Elöző szoba foglalás hossza": "5"
                                },
                                {
                                    "SZOBA_ID": "153",
                                    "FOGLALAS_PK": "969",
                                    "Időtartam": "6",
                                    "Elöző szoba foglalás hossza": "1"
                                },
                                {
                                    "SZOBA_ID": "12",
                                    "FOGLALAS_PK": "970",
                                    "Időtartam": "2",
                                    "Elöző szoba foglalás hossza": "6"
                                },
                                {
                                    "SZOBA_ID": "35",
                                    "FOGLALAS_PK": "971",
                                    "Időtartam": "3",
                                    "Elöző szoba foglalás hossza": "2"
                                },
                                {
                                    "SZOBA_ID": "103",
                                    "FOGLALAS_PK": "972",
                                    "Időtartam": "2",
                                    "Elöző szoba foglalás hossza": "3"
                                },
                                {
                                    "SZOBA_ID": "16",
                                    "FOGLALAS_PK": "973",
                                    "Időtartam": "1",
                                    "Elöző szoba foglalás hossza": "2"
                                },
                                {
                                    "SZOBA_ID": "169",
                                    "FOGLALAS_PK": "974",
                                    "Időtartam": "1",
                                    "Elöző szoba foglalás hossza": "1"
                                },
                                {
                                    "SZOBA_ID": "94",
                                    "FOGLALAS_PK": "975",
                                    "Időtartam": "5",
                                    "Elöző szoba foglalás hossza": "1"
                                },
                                {
                                    "SZOBA_ID": "76",
                                    "FOGLALAS_PK": "976",
                                    "Időtartam": "2",
                                    "Elöző szoba foglalás hossza": "5"
                                },
                                {
                                    "SZOBA_ID": "193",
                                    "FOGLALAS_PK": "977",
                                    "Időtartam": "2",
                                    "Elöző szoba foglalás hossza": "2"
                                },
                                {
                                    "SZOBA_ID": "198",
                                    "FOGLALAS_PK": "978",
                                    "Időtartam": "1",
                                    "Elöző szoba foglalás hossza": "2"
                                },
                                {
                                    "SZOBA_ID": "35",
                                    "FOGLALAS_PK": "979",
                                    "Időtartam": "7",
                                    "Elöző szoba foglalás hossza": "1"
                                },
                                {
                                    "SZOBA_ID": "143",
                                    "FOGLALAS_PK": "980",
                                    "Időtartam": "3",
                                    "Elöző szoba foglalás hossza": "7"
                                },
                                {
                                    "SZOBA_ID": "171",
                                    "FOGLALAS_PK": "981",
                                    "Időtartam": "4",
                                    "Elöző szoba foglalás hossza": "3"
                                },
                                {
                                    "SZOBA_ID": "77",
                                    "FOGLALAS_PK": "982",
                                    "Időtartam": "3",
                                    "Elöző szoba foglalás hossza": "4"
                                },
                                {
                                    "SZOBA_ID": "80",
                                    "FOGLALAS_PK": "983",
                                    "Időtartam": "6",
                                    "Elöző szoba foglalás hossza": "3"
                                },
                                {
                                    "SZOBA_ID": "172",
                                    "FOGLALAS_PK": "984",
                                    "Időtartam": "4",
                                    "Elöző szoba foglalás hossza": "6"
                                },
                                {
                                    "SZOBA_ID": "36",
                                    "FOGLALAS_PK": "985",
                                    "Időtartam": "6",
                                    "Elöző szoba foglalás hossza": "4"
                                },
                                {
                                    "SZOBA_ID": "48",
                                    "FOGLALAS_PK": "986",
                                    "Időtartam": "5",
                                    "Elöző szoba foglalás hossza": "6"
                                },
                                {
                                    "SZOBA_ID": "53",
                                    "FOGLALAS_PK": "987",
                                    "Időtartam": "4",
                                    "Elöző szoba foglalás hossza": "5"
                                },
                                {
                                    "SZOBA_ID": "133",
                                    "FOGLALAS_PK": "988",
                                    "Időtartam": "3",
                                    "Elöző szoba foglalás hossza": "4"
                                },
                                {
                                    "SZOBA_ID": "190",
                                    "FOGLALAS_PK": "989",
                                    "Időtartam": "1",
                                    "Elöző szoba foglalás hossza": "3"
                                },
                                {
                                    "SZOBA_ID": "6",
                                    "FOGLALAS_PK": "990",
                                    "Időtartam": "4",
                                    "Elöző szoba foglalás hossza": "1"
                                },
                                {
                                    "SZOBA_ID": "178",
                                    "FOGLALAS_PK": "991",
                                    "Időtartam": "7",
                                    "Elöző szoba foglalás hossza": "4"
                                },
                                {
                                    "SZOBA_ID": "103",
                                    "FOGLALAS_PK": "992",
                                    "Időtartam": "7",
                                    "Elöző szoba foglalás hossza": "7"
                                },
                                {
                                    "SZOBA_ID": "197",
                                    "FOGLALAS_PK": "993",
                                    "Időtartam": "7",
                                    "Elöző szoba foglalás hossza": "7"
                                },
                                {
                                    "SZOBA_ID": "118",
                                    "FOGLALAS_PK": "994",
                                    "Időtartam": "7",
                                    "Elöző szoba foglalás hossza": "7"
                                },
                                {
                                    "SZOBA_ID": "83",
                                    "FOGLALAS_PK": "995",
                                    "Időtartam": "5",
                                    "Elöző szoba foglalás hossza": "7"
                                },
                                {
                                    "SZOBA_ID": "118",
                                    "FOGLALAS_PK": "996",
                                    "Időtartam": "3",
                                    "Elöző szoba foglalás hossza": "5"
                                },
                                {
                                    "SZOBA_ID": "82",
                                    "FOGLALAS_PK": "997",
                                    "Időtartam": "6",
                                    "Elöző szoba foglalás hossza": "3"
                                },
                                {
                                    "SZOBA_ID": "120",
                                    "FOGLALAS_PK": "998",
                                    "Időtartam": "3",
                                    "Elöző szoba foglalás hossza": "6"
                                },
                                {
                                    "SZOBA_ID": "132",
                                    "FOGLALAS_PK": "999",
                                    "Időtartam": "6",
                                    "Elöző szoba foglalás hossza": "3"
                                },
                                {
                                    "SZOBA_ID": "73",
                                    "FOGLALAS_PK": "1000",
                                    "Időtartam": "4",
                                    "Elöző szoba foglalás hossza": "6"
                                },
                                {
                                    "SZOBA_ID": "4",
                                    "FOGLALAS_PK": "1001",
                                    "Időtartam": "7",
                                    "Elöző szoba foglalás hossza": "4"
                                },
                                {
                                    "SZOBA_ID": "117",
                                    "FOGLALAS_PK": "1002",
                                    "Időtartam": "1",
                                    "Elöző szoba foglalás hossza": "7"
                                },
                                {
                                    "SZOBA_ID": "36",
                                    "FOGLALAS_PK": "1003",
                                    "Időtartam": "4",
                                    "Elöző szoba foglalás hossza": "1"
                                },
                                {
                                    "SZOBA_ID": "134",
                                    "FOGLALAS_PK": "1004",
                                    "Időtartam": "5",
                                    "Elöző szoba foglalás hossza": "4"
                                },
                                {
                                    "SZOBA_ID": "22",
                                    "FOGLALAS_PK": "1005",
                                    "Időtartam": "3",
                                    "Elöző szoba foglalás hossza": "5"
                                },
                                {
                                    "SZOBA_ID": "70",
                                    "FOGLALAS_PK": "1006",
                                    "Időtartam": "3",
                                    "Elöző szoba foglalás hossza": "3"
                                },
                                {
                                    "SZOBA_ID": "122",
                                    "FOGLALAS_PK": "1007",
                                    "Időtartam": "2",
                                    "Elöző szoba foglalás hossza": "3"
                                },
                                {
                                    "SZOBA_ID": "182",
                                    "FOGLALAS_PK": "1008",
                                    "Időtartam": "6",
                                    "Elöző szoba foglalás hossza": "2"
                                },
                                {
                                    "SZOBA_ID": "71",
                                    "FOGLALAS_PK": "1009",
                                    "Időtartam": "1",
                                    "Elöző szoba foglalás hossza": "6"
                                },
                                {
                                    "SZOBA_ID": "164",
                                    "FOGLALAS_PK": "1010",
                                    "Időtartam": "2",
                                    "Elöző szoba foglalás hossza": "1"
                                },
                                {
                                    "SZOBA_ID": "198",
                                    "FOGLALAS_PK": "1011",
                                    "Időtartam": "7",
                                    "Elöző szoba foglalás hossza": "2"
                                },
                                {
                                    "SZOBA_ID": "33",
                                    "FOGLALAS_PK": "1012",
                                    "Időtartam": "7",
                                    "Elöző szoba foglalás hossza": "7"
                                },
                                {
                                    "SZOBA_ID": "75",
                                    "FOGLALAS_PK": "1013",
                                    "Időtartam": "5",
                                    "Elöző szoba foglalás hossza": "7"
                                },
                                {
                                    "SZOBA_ID": "137",
                                    "FOGLALAS_PK": "1014",
                                    "Időtartam": "1",
                                    "Elöző szoba foglalás hossza": "5"
                                },
                                {
                                    "SZOBA_ID": "174",
                                    "FOGLALAS_PK": "1015",
                                    "Időtartam": "5",
                                    "Elöző szoba foglalás hossza": "1"
                                },
                                {
                                    "SZOBA_ID": "92",
                                    "FOGLALAS_PK": "1016",
                                    "Időtartam": "2",
                                    "Elöző szoba foglalás hossza": "5"
                                },
                                {
                                    "SZOBA_ID": "190",
                                    "FOGLALAS_PK": "1017",
                                    "Időtartam": "1",
                                    "Elöző szoba foglalás hossza": "2"
                                },
                                {
                                    "SZOBA_ID": "40",
                                    "FOGLALAS_PK": "1018",
                                    "Időtartam": "5",
                                    "Elöző szoba foglalás hossza": "1"
                                },
                                {
                                    "SZOBA_ID": "43",
                                    "FOGLALAS_PK": "1019",
                                    "Időtartam": "4",
                                    "Elöző szoba foglalás hossza": "5"
                                },
                                {
                                    "SZOBA_ID": "12",
                                    "FOGLALAS_PK": "1020",
                                    "Időtartam": "5",
                                    "Elöző szoba foglalás hossza": "4"
                                },
                                {
                                    "SZOBA_ID": "179",
                                    "FOGLALAS_PK": "1021",
                                    "Időtartam": "1",
                                    "Elöző szoba foglalás hossza": "5"
                                },
                                {
                                    "SZOBA_ID": "181",
                                    "FOGLALAS_PK": "1022",
                                    "Időtartam": "1",
                                    "Elöző szoba foglalás hossza": "1"
                                },
                                {
                                    "SZOBA_ID": "30",
                                    "FOGLALAS_PK": "1023",
                                    "Időtartam": "7",
                                    "Elöző szoba foglalás hossza": "1"
                                },
                                {
                                    "SZOBA_ID": "134",
                                    "FOGLALAS_PK": "1024",
                                    "Időtartam": "1",
                                    "Elöző szoba foglalás hossza": "7"
                                },
                                {
                                    "SZOBA_ID": "157",
                                    "FOGLALAS_PK": "1025",
                                    "Időtartam": "3",
                                    "Elöző szoba foglalás hossza": "1"
                                },
                                {
                                    "SZOBA_ID": "119",
                                    "FOGLALAS_PK": "1026",
                                    "Időtartam": "3",
                                    "Elöző szoba foglalás hossza": "3"
                                },
                                {
                                    "SZOBA_ID": "68",
                                    "FOGLALAS_PK": "1027",
                                    "Időtartam": "7",
                                    "Elöző szoba foglalás hossza": "3"
                                },
                                {
                                    "SZOBA_ID": "15",
                                    "FOGLALAS_PK": "1028",
                                    "Időtartam": "2",
                                    "Elöző szoba foglalás hossza": "7"
                                },
                                {
                                    "SZOBA_ID": "146",
                                    "FOGLALAS_PK": "664",
                                    "Időtartam": "3",
                                    "Elöző szoba foglalás hossza": "2"
                                },
                                {
                                    "SZOBA_ID": "94",
                                    "FOGLALAS_PK": "665",
                                    "Időtartam": "7",
                                    "Elöző szoba foglalás hossza": "3"
                                },
                                {
                                    "SZOBA_ID": "3",
                                    "FOGLALAS_PK": "666",
                                    "Időtartam": "6",
                                    "Elöző szoba foglalás hossza": "7"
                                },
                                {
                                    "SZOBA_ID": "80",
                                    "FOGLALAS_PK": "667",
                                    "Időtartam": "6",
                                    "Elöző szoba foglalás hossza": "6"
                                },
                                {
                                    "SZOBA_ID": "54",
                                    "FOGLALAS_PK": "668",
                                    "Időtartam": "1",
                                    "Elöző szoba foglalás hossza": "6"
                                },
                                {
                                    "SZOBA_ID": "173",
                                    "FOGLALAS_PK": "669",
                                    "Időtartam": "7",
                                    "Elöző szoba foglalás hossza": "1"
                                },
                                {
                                    "SZOBA_ID": "43",
                                    "FOGLALAS_PK": "670",
                                    "Időtartam": "4",
                                    "Elöző szoba foglalás hossza": "7"
                                },
                                {
                                    "SZOBA_ID": "96",
                                    "FOGLALAS_PK": "671",
                                    "Időtartam": "4",
                                    "Elöző szoba foglalás hossza": "4"
                                },
                                {
                                    "SZOBA_ID": "185",
                                    "FOGLALAS_PK": "672",
                                    "Időtartam": "3",
                                    "Elöző szoba foglalás hossza": "4"
                                },
                                {
                                    "SZOBA_ID": "196",
                                    "FOGLALAS_PK": "673",
                                    "Időtartam": "5",
                                    "Elöző szoba foglalás hossza": "3"
                                },
                                {
                                    "SZOBA_ID": "83",
                                    "FOGLALAS_PK": "674",
                                    "Időtartam": "4",
                                    "Elöző szoba foglalás hossza": "5"
                                },
                                {
                                    "SZOBA_ID": "193",
                                    "FOGLALAS_PK": "675",
                                    "Időtartam": "2",
                                    "Elöző szoba foglalás hossza": "4"
                                },
                                {
                                    "SZOBA_ID": "60",
                                    "FOGLALAS_PK": "676",
                                    "Időtartam": "2",
                                    "Elöző szoba foglalás hossza": "2"
                                },
                                {
                                    "SZOBA_ID": "181",
                                    "FOGLALAS_PK": "677",
                                    "Időtartam": "4",
                                    "Elöző szoba foglalás hossza": "2"
                                },
                                {
                                    "SZOBA_ID": "148",
                                    "FOGLALAS_PK": "678",
                                    "Időtartam": "4",
                                    "Elöző szoba foglalás hossza": "4"
                                },
                                {
                                    "SZOBA_ID": "185",
                                    "FOGLALAS_PK": "679",
                                    "Időtartam": "5",
                                    "Elöző szoba foglalás hossza": "4"
                                },
                                {
                                    "SZOBA_ID": "192",
                                    "FOGLALAS_PK": "680",
                                    "Időtartam": "4",
                                    "Elöző szoba foglalás hossza": "5"
                                },
                                {
                                    "SZOBA_ID": "71",
                                    "FOGLALAS_PK": "681",
                                    "Időtartam": "3",
                                    "Elöző szoba foglalás hossza": "4"
                                },
                                {
                                    "SZOBA_ID": "174",
                                    "FOGLALAS_PK": "682",
                                    "Időtartam": "3",
                                    "Elöző szoba foglalás hossza": "3"
                                },
                                {
                                    "SZOBA_ID": "76",
                                    "FOGLALAS_PK": "683",
                                    "Időtartam": "7",
                                    "Elöző szoba foglalás hossza": "3"
                                },
                                {
                                    "SZOBA_ID": "184",
                                    "FOGLALAS_PK": "684",
                                    "Időtartam": "3",
                                    "Elöző szoba foglalás hossza": "7"
                                },
                                {
                                    "SZOBA_ID": "110",
                                    "FOGLALAS_PK": "685",
                                    "Időtartam": "1",
                                    "Elöző szoba foglalás hossza": "3"
                                },
                                {
                                    "SZOBA_ID": "35",
                                    "FOGLALAS_PK": "686",
                                    "Időtartam": "6",
                                    "Elöző szoba foglalás hossza": "1"
                                },
                                {
                                    "SZOBA_ID": "16",
                                    "FOGLALAS_PK": "687",
                                    "Időtartam": "3",
                                    "Elöző szoba foglalás hossza": "6"
                                },
                                {
                                    "SZOBA_ID": "37",
                                    "FOGLALAS_PK": "688",
                                    "Időtartam": "2",
                                    "Elöző szoba foglalás hossza": "3"
                                },
                                {
                                    "SZOBA_ID": "102",
                                    "FOGLALAS_PK": "689",
                                    "Időtartam": "5",
                                    "Elöző szoba foglalás hossza": "2"
                                },
                                {
                                    "SZOBA_ID": "188",
                                    "FOGLALAS_PK": "690",
                                    "Időtartam": "4",
                                    "Elöző szoba foglalás hossza": "5"
                                },
                                {
                                    "SZOBA_ID": "99",
                                    "FOGLALAS_PK": "691",
                                    "Időtartam": "5",
                                    "Elöző szoba foglalás hossza": "4"
                                },
                                {
                                    "SZOBA_ID": "156",
                                    "FOGLALAS_PK": "692",
                                    "Időtartam": "6",
                                    "Elöző szoba foglalás hossza": "5"
                                },
                                {
                                    "SZOBA_ID": "185",
                                    "FOGLALAS_PK": "693",
                                    "Időtartam": "2",
                                    "Elöző szoba foglalás hossza": "6"
                                },
                                {
                                    "SZOBA_ID": "8",
                                    "FOGLALAS_PK": "694",
                                    "Időtartam": "4",
                                    "Elöző szoba foglalás hossza": "2"
                                },
                                {
                                    "SZOBA_ID": "187",
                                    "FOGLALAS_PK": "695",
                                    "Időtartam": "6",
                                    "Elöző szoba foglalás hossza": "4"
                                },
                                {
                                    "SZOBA_ID": "19",
                                    "FOGLALAS_PK": "696",
                                    "Időtartam": "1",
                                    "Elöző szoba foglalás hossza": "6"
                                },
                                {
                                    "SZOBA_ID": "12",
                                    "FOGLALAS_PK": "697",
                                    "Időtartam": "2",
                                    "Elöző szoba foglalás hossza": "1"
                                },
                                {
                                    "SZOBA_ID": "77",
                                    "FOGLALAS_PK": "698",
                                    "Időtartam": "4",
                                    "Elöző szoba foglalás hossza": "2"
                                },
                                {
                                    "SZOBA_ID": "189",
                                    "FOGLALAS_PK": "699",
                                    "Időtartam": "2",
                                    "Elöző szoba foglalás hossza": "4"
                                },
                                {
                                    "SZOBA_ID": "78",
                                    "FOGLALAS_PK": "700",
                                    "Időtartam": "5",
                                    "Elöző szoba foglalás hossza": "2"
                                },
                                {
                                    "SZOBA_ID": "61",
                                    "FOGLALAS_PK": "701",
                                    "Időtartam": "2",
                                    "Elöző szoba foglalás hossza": "5"
                                },
                                {
                                    "SZOBA_ID": "62",
                                    "FOGLALAS_PK": "702",
                                    "Időtartam": "5",
                                    "Elöző szoba foglalás hossza": "2"
                                },
                                {
                                    "SZOBA_ID": "145",
                                    "FOGLALAS_PK": "703",
                                    "Időtartam": "4",
                                    "Elöző szoba foglalás hossza": "5"
                                },
                                {
                                    "SZOBA_ID": "70",
                                    "FOGLALAS_PK": "704",
                                    "Időtartam": "3",
                                    "Elöző szoba foglalás hossza": "4"
                                },
                                {
                                    "SZOBA_ID": "37",
                                    "FOGLALAS_PK": "705",
                                    "Időtartam": "4",
                                    "Elöző szoba foglalás hossza": "3"
                                },
                                {
                                    "SZOBA_ID": "119",
                                    "FOGLALAS_PK": "706",
                                    "Időtartam": "2",
                                    "Elöző szoba foglalás hossza": "4"
                                },
                                {
                                    "SZOBA_ID": "35",
                                    "FOGLALAS_PK": "707",
                                    "Időtartam": "2",
                                    "Elöző szoba foglalás hossza": "2"
                                },
                                {
                                    "SZOBA_ID": "106",
                                    "FOGLALAS_PK": "708",
                                    "Időtartam": "7",
                                    "Elöző szoba foglalás hossza": "2"
                                },
                                {
                                    "SZOBA_ID": "172",
                                    "FOGLALAS_PK": "709",
                                    "Időtartam": "5",
                                    "Elöző szoba foglalás hossza": "7"
                                },
                                {
                                    "SZOBA_ID": "188",
                                    "FOGLALAS_PK": "710",
                                    "Időtartam": "7",
                                    "Elöző szoba foglalás hossza": "5"
                                },
                                {
                                    "SZOBA_ID": "185",
                                    "FOGLALAS_PK": "711",
                                    "Időtartam": "3",
                                    "Elöző szoba foglalás hossza": "7"
                                },
                                {
                                    "SZOBA_ID": "71",
                                    "FOGLALAS_PK": "712",
                                    "Időtartam": "1",
                                    "Elöző szoba foglalás hossza": "3"
                                },
                                {
                                    "SZOBA_ID": "17",
                                    "FOGLALAS_PK": "713",
                                    "Időtartam": "6",
                                    "Elöző szoba foglalás hossza": "1"
                                },
                                {
                                    "SZOBA_ID": "73",
                                    "FOGLALAS_PK": "714",
                                    "Időtartam": "7",
                                    "Elöző szoba foglalás hossza": "6"
                                },
                                {
                                    "SZOBA_ID": "101",
                                    "FOGLALAS_PK": "715",
                                    "Időtartam": "3",
                                    "Elöző szoba foglalás hossza": "7"
                                },
                                {
                                    "SZOBA_ID": "118",
                                    "FOGLALAS_PK": "716",
                                    "Időtartam": "1",
                                    "Elöző szoba foglalás hossza": "3"
                                },
                                {
                                    "SZOBA_ID": "128",
                                    "FOGLALAS_PK": "717",
                                    "Időtartam": "2",
                                    "Elöző szoba foglalás hossza": "1"
                                },
                                {
                                    "SZOBA_ID": "97",
                                    "FOGLALAS_PK": "718",
                                    "Időtartam": "7",
                                    "Elöző szoba foglalás hossza": "2"
                                },
                                {
                                    "SZOBA_ID": "58",
                                    "FOGLALAS_PK": "719",
                                    "Időtartam": "3",
                                    "Elöző szoba foglalás hossza": "7"
                                },
                                {
                                    "SZOBA_ID": "160",
                                    "FOGLALAS_PK": "720",
                                    "Időtartam": "2",
                                    "Elöző szoba foglalás hossza": "3"
                                },
                                {
                                    "SZOBA_ID": "195",
                                    "FOGLALAS_PK": "721",
                                    "Időtartam": "4",
                                    "Elöző szoba foglalás hossza": "2"
                                },
                                {
                                    "SZOBA_ID": "119",
                                    "FOGLALAS_PK": "722",
                                    "Időtartam": "1",
                                    "Elöző szoba foglalás hossza": "4"
                                },
                                {
                                    "SZOBA_ID": "129",
                                    "FOGLALAS_PK": "723",
                                    "Időtartam": "7",
                                    "Elöző szoba foglalás hossza": "1"
                                },
                                {
                                    "SZOBA_ID": "135",
                                    "FOGLALAS_PK": "724",
                                    "Időtartam": "6",
                                    "Elöző szoba foglalás hossza": "7"
                                },
                                {
                                    "SZOBA_ID": "28",
                                    "FOGLALAS_PK": "725",
                                    "Időtartam": "5",
                                    "Elöző szoba foglalás hossza": "6"
                                },
                                {
                                    "SZOBA_ID": "97",
                                    "FOGLALAS_PK": "726",
                                    "Időtartam": "4",
                                    "Elöző szoba foglalás hossza": "5"
                                },
                                {
                                    "SZOBA_ID": "94",
                                    "FOGLALAS_PK": "727",
                                    "Időtartam": "3",
                                    "Elöző szoba foglalás hossza": "4"
                                },
                                {
                                    "SZOBA_ID": "31",
                                    "FOGLALAS_PK": "728",
                                    "Időtartam": "4",
                                    "Elöző szoba foglalás hossza": "3"
                                },
                                {
                                    "SZOBA_ID": "90",
                                    "FOGLALAS_PK": "729",
                                    "Időtartam": "2",
                                    "Elöző szoba foglalás hossza": "4"
                                },
                                {
                                    "SZOBA_ID": "152",
                                    "FOGLALAS_PK": "730",
                                    "Időtartam": "2",
                                    "Elöző szoba foglalás hossza": "2"
                                },
                                {
                                    "SZOBA_ID": "181",
                                    "FOGLALAS_PK": "731",
                                    "Időtartam": "6",
                                    "Elöző szoba foglalás hossza": "2"
                                },
                                {
                                    "SZOBA_ID": "91",
                                    "FOGLALAS_PK": "732",
                                    "Időtartam": "4",
                                    "Elöző szoba foglalás hossza": "6"
                                },
                                {
                                    "SZOBA_ID": "140",
                                    "FOGLALAS_PK": "733",
                                    "Időtartam": "1",
                                    "Elöző szoba foglalás hossza": "4"
                                },
                                {
                                    "SZOBA_ID": "55",
                                    "FOGLALAS_PK": "734",
                                    "Időtartam": "6",
                                    "Elöző szoba foglalás hossza": "1"
                                },
                                {
                                    "SZOBA_ID": "121",
                                    "FOGLALAS_PK": "735",
                                    "Időtartam": "6",
                                    "Elöző szoba foglalás hossza": "6"
                                },
                                {
                                    "SZOBA_ID": "66",
                                    "FOGLALAS_PK": "736",
                                    "Időtartam": "3",
                                    "Elöző szoba foglalás hossza": "6"
                                },
                                {
                                    "SZOBA_ID": "114",
                                    "FOGLALAS_PK": "737",
                                    "Időtartam": "2",
                                    "Elöző szoba foglalás hossza": "3"
                                },
                                {
                                    "SZOBA_ID": "1",
                                    "FOGLALAS_PK": "738",
                                    "Időtartam": "7",
                                    "Elöző szoba foglalás hossza": "2"
                                },
                                {
                                    "SZOBA_ID": "121",
                                    "FOGLALAS_PK": "739",
                                    "Időtartam": "6",
                                    "Elöző szoba foglalás hossza": "7"
                                },
                                {
                                    "SZOBA_ID": "182",
                                    "FOGLALAS_PK": "740",
                                    "Időtartam": "3",
                                    "Elöző szoba foglalás hossza": "6"
                                },
                                {
                                    "SZOBA_ID": "93",
                                    "FOGLALAS_PK": "741",
                                    "Időtartam": "7",
                                    "Elöző szoba foglalás hossza": "3"
                                },
                                {
                                    "SZOBA_ID": "164",
                                    "FOGLALAS_PK": "742",
                                    "Időtartam": "6",
                                    "Elöző szoba foglalás hossza": "7"
                                },
                                {
                                    "SZOBA_ID": "187",
                                    "FOGLALAS_PK": "743",
                                    "Időtartam": "2",
                                    "Elöző szoba foglalás hossza": "6"
                                },
                                {
                                    "SZOBA_ID": "17",
                                    "FOGLALAS_PK": "744",
                                    "Időtartam": "1",
                                    "Elöző szoba foglalás hossza": "2"
                                },
                                {
                                    "SZOBA_ID": "139",
                                    "FOGLALAS_PK": "745",
                                    "Időtartam": "1",
                                    "Elöző szoba foglalás hossza": "1"
                                },
                                {
                                    "SZOBA_ID": "169",
                                    "FOGLALAS_PK": "746",
                                    "Időtartam": "7",
                                    "Elöző szoba foglalás hossza": "1"
                                },
                                {
                                    "SZOBA_ID": "188",
                                    "FOGLALAS_PK": "747",
                                    "Időtartam": "3",
                                    "Elöző szoba foglalás hossza": "7"
                                },
                                {
                                    "SZOBA_ID": "36",
                                    "FOGLALAS_PK": "748",
                                    "Időtartam": "2",
                                    "Elöző szoba foglalás hossza": "3"
                                },
                                {
                                    "SZOBA_ID": "172",
                                    "FOGLALAS_PK": "749",
                                    "Időtartam": "6",
                                    "Elöző szoba foglalás hossza": "2"
                                },
                                {
                                    "SZOBA_ID": "36",
                                    "FOGLALAS_PK": "750",
                                    "Időtartam": "6",
                                    "Elöző szoba foglalás hossza": "6"
                                },
                                {
                                    "SZOBA_ID": "139",
                                    "FOGLALAS_PK": "751",
                                    "Időtartam": "4",
                                    "Elöző szoba foglalás hossza": "6"
                                },
                                {
                                    "SZOBA_ID": "46",
                                    "FOGLALAS_PK": "752",
                                    "Időtartam": "5",
                                    "Elöző szoba foglalás hossza": "4"
                                },
                                {
                                    "SZOBA_ID": "189",
                                    "FOGLALAS_PK": "753",
                                    "Időtartam": "1",
                                    "Elöző szoba foglalás hossza": "5"
                                },
                                {
                                    "SZOBA_ID": "126",
                                    "FOGLALAS_PK": "754",
                                    "Időtartam": "4",
                                    "Elöző szoba foglalás hossza": "1"
                                },
                                {
                                    "SZOBA_ID": "20",
                                    "FOGLALAS_PK": "755",
                                    "Időtartam": "6",
                                    "Elöző szoba foglalás hossza": "4"
                                },
                                {
                                    "SZOBA_ID": "61",
                                    "FOGLALAS_PK": "756",
                                    "Időtartam": "6",
                                    "Elöző szoba foglalás hossza": "6"
                                },
                                {
                                    "SZOBA_ID": "88",
                                    "FOGLALAS_PK": "757",
                                    "Időtartam": "7",
                                    "Elöző szoba foglalás hossza": "6"
                                },
                                {
                                    "SZOBA_ID": "27",
                                    "FOGLALAS_PK": "758",
                                    "Időtartam": "3",
                                    "Elöző szoba foglalás hossza": "7"
                                },
                                {
                                    "SZOBA_ID": "7",
                                    "FOGLALAS_PK": "759",
                                    "Időtartam": "7",
                                    "Elöző szoba foglalás hossza": "3"
                                },
                                {
                                    "SZOBA_ID": "131",
                                    "FOGLALAS_PK": "760",
                                    "Időtartam": "4",
                                    "Elöző szoba foglalás hossza": "7"
                                },
                                {
                                    "SZOBA_ID": "141",
                                    "FOGLALAS_PK": "761",
                                    "Időtartam": "3",
                                    "Elöző szoba foglalás hossza": "4"
                                },
                                {
                                    "SZOBA_ID": "120",
                                    "FOGLALAS_PK": "762",
                                    "Időtartam": "3",
                                    "Elöző szoba foglalás hossza": "3"
                                },
                                {
                                    "SZOBA_ID": "13",
                                    "FOGLALAS_PK": "763",
                                    "Időtartam": "4",
                                    "Elöző szoba foglalás hossza": "3"
                                },
                                {
                                    "SZOBA_ID": "197",
                                    "FOGLALAS_PK": "764",
                                    "Időtartam": "7",
                                    "Elöző szoba foglalás hossza": "4"
                                },
                                {
                                    "SZOBA_ID": "148",
                                    "FOGLALAS_PK": "765",
                                    "Időtartam": "3",
                                    "Elöző szoba foglalás hossza": "7"
                                },
                                {
                                    "SZOBA_ID": "187",
                                    "FOGLALAS_PK": "766",
                                    "Időtartam": "1",
                                    "Elöző szoba foglalás hossza": "3"
                                },
                                {
                                    "SZOBA_ID": "18",
                                    "FOGLALAS_PK": "767",
                                    "Időtartam": "3",
                                    "Elöző szoba foglalás hossza": "1"
                                },
                                {
                                    "SZOBA_ID": "138",
                                    "FOGLALAS_PK": "768",
                                    "Időtartam": "6",
                                    "Elöző szoba foglalás hossza": "3"
                                },
                                {
                                    "SZOBA_ID": "63",
                                    "FOGLALAS_PK": "769",
                                    "Időtartam": "5",
                                    "Elöző szoba foglalás hossza": "6"
                                },
                                {
                                    "SZOBA_ID": "42",
                                    "FOGLALAS_PK": "770",
                                    "Időtartam": "3",
                                    "Elöző szoba foglalás hossza": "5"
                                },
                                {
                                    "SZOBA_ID": "147",
                                    "FOGLALAS_PK": "771",
                                    "Időtartam": "4",
                                    "Elöző szoba foglalás hossza": "3"
                                },
                                {
                                    "SZOBA_ID": "6",
                                    "FOGLALAS_PK": "772",
                                    "Időtartam": "6",
                                    "Elöző szoba foglalás hossza": "4"
                                },
                                {
                                    "SZOBA_ID": "58",
                                    "FOGLALAS_PK": "773",
                                    "Időtartam": "2",
                                    "Elöző szoba foglalás hossza": "6"
                                },
                                {
                                    "SZOBA_ID": "190",
                                    "FOGLALAS_PK": "774",
                                    "Időtartam": "5",
                                    "Elöző szoba foglalás hossza": "2"
                                },
                                {
                                    "SZOBA_ID": "12",
                                    "FOGLALAS_PK": "775",
                                    "Időtartam": "4",
                                    "Elöző szoba foglalás hossza": "5"
                                },
                                {
                                    "SZOBA_ID": "112",
                                    "FOGLALAS_PK": "776",
                                    "Időtartam": "4",
                                    "Elöző szoba foglalás hossza": "4"
                                },
                                {
                                    "SZOBA_ID": "34",
                                    "FOGLALAS_PK": "777",
                                    "Időtartam": "3",
                                    "Elöző szoba foglalás hossza": "4"
                                },
                                {
                                    "SZOBA_ID": "19",
                                    "FOGLALAS_PK": "778",
                                    "Időtartam": "1",
                                    "Elöző szoba foglalás hossza": "3"
                                },
                                {
                                    "SZOBA_ID": "130",
                                    "FOGLALAS_PK": "779",
                                    "Időtartam": "6",
                                    "Elöző szoba foglalás hossza": "1"
                                },
                                {
                                    "SZOBA_ID": "96",
                                    "FOGLALAS_PK": "780",
                                    "Időtartam": "1",
                                    "Elöző szoba foglalás hossza": "6"
                                },
                                {
                                    "SZOBA_ID": "166",
                                    "FOGLALAS_PK": "781",
                                    "Időtartam": "7",
                                    "Elöző szoba foglalás hossza": "1"
                                },
                                {
                                    "SZOBA_ID": "163",
                                    "FOGLALAS_PK": "782",
                                    "Időtartam": "3",
                                    "Elöző szoba foglalás hossza": "7"
                                },
                                {
                                    "SZOBA_ID": "148",
                                    "FOGLALAS_PK": "783",
                                    "Időtartam": "7",
                                    "Elöző szoba foglalás hossza": "3"
                                },
                                {
                                    "SZOBA_ID": "141",
                                    "FOGLALAS_PK": "784",
                                    "Időtartam": "7",
                                    "Elöző szoba foglalás hossza": "7"
                                },
                                {
                                    "SZOBA_ID": "177",
                                    "FOGLALAS_PK": "785",
                                    "Időtartam": "3",
                                    "Elöző szoba foglalás hossza": "7"
                                },
                                {
                                    "SZOBA_ID": "111",
                                    "FOGLALAS_PK": "786",
                                    "Időtartam": "4",
                                    "Elöző szoba foglalás hossza": "3"
                                },
                                {
                                    "SZOBA_ID": "50",
                                    "FOGLALAS_PK": "787",
                                    "Időtartam": "3",
                                    "Elöző szoba foglalás hossza": "4"
                                },
                                {
                                    "SZOBA_ID": "3",
                                    "FOGLALAS_PK": "788",
                                    "Időtartam": "6",
                                    "Elöző szoba foglalás hossza": "3"
                                },
                                {
                                    "SZOBA_ID": "146",
                                    "FOGLALAS_PK": "789",
                                    "Időtartam": "7",
                                    "Elöző szoba foglalás hossza": "6"
                                },
                                {
                                    "SZOBA_ID": "10",
                                    "FOGLALAS_PK": "790",
                                    "Időtartam": "5",
                                    "Elöző szoba foglalás hossza": "7"
                                },
                                {
                                    "SZOBA_ID": "15",
                                    "FOGLALAS_PK": "791",
                                    "Időtartam": "5",
                                    "Elöző szoba foglalás hossza": "5"
                                },
                                {
                                    "SZOBA_ID": "168",
                                    "FOGLALAS_PK": "792",
                                    "Időtartam": "3",
                                    "Elöző szoba foglalás hossza": "5"
                                },
                                {
                                    "SZOBA_ID": "49",
                                    "FOGLALAS_PK": "793",
                                    "Időtartam": "6",
                                    "Elöző szoba foglalás hossza": "3"
                                },
                                {
                                    "SZOBA_ID": "168",
                                    "FOGLALAS_PK": "794",
                                    "Időtartam": "4",
                                    "Elöző szoba foglalás hossza": "6"
                                },
                                {
                                    "SZOBA_ID": "10",
                                    "FOGLALAS_PK": "795",
                                    "Időtartam": "4",
                                    "Elöző szoba foglalás hossza": "4"
                                },
                                {
                                    "SZOBA_ID": "138",
                                    "FOGLALAS_PK": "796",
                                    "Időtartam": "4",
                                    "Elöző szoba foglalás hossza": "4"
                                },
                                {
                                    "SZOBA_ID": "74",
                                    "FOGLALAS_PK": "797",
                                    "Időtartam": "5",
                                    "Elöző szoba foglalás hossza": "4"
                                },
                                {
                                    "SZOBA_ID": "83",
                                    "FOGLALAS_PK": "798",
                                    "Időtartam": "4",
                                    "Elöző szoba foglalás hossza": "5"
                                },
                                {
                                    "SZOBA_ID": "175",
                                    "FOGLALAS_PK": "799",
                                    "Időtartam": "4",
                                    "Elöző szoba foglalás hossza": "4"
                                },
                                {
                                    "SZOBA_ID": "45",
                                    "FOGLALAS_PK": "800",
                                    "Időtartam": "5",
                                    "Elöző szoba foglalás hossza": "4"
                                },
                                {
                                    "SZOBA_ID": "112",
                                    "FOGLALAS_PK": "801",
                                    "Időtartam": "5",
                                    "Elöző szoba foglalás hossza": "5"
                                },
                                {
                                    "SZOBA_ID": "45",
                                    "FOGLALAS_PK": "802",
                                    "Időtartam": "7",
                                    "Elöző szoba foglalás hossza": "5"
                                },
                                {
                                    "SZOBA_ID": "1",
                                    "FOGLALAS_PK": "803",
                                    "Időtartam": "4",
                                    "Elöző szoba foglalás hossza": "7"
                                },
                                {
                                    "SZOBA_ID": "146",
                                    "FOGLALAS_PK": "804",
                                    "Időtartam": "7",
                                    "Elöző szoba foglalás hossza": "4"
                                },
                                {
                                    "SZOBA_ID": "21",
                                    "FOGLALAS_PK": "805",
                                    "Időtartam": "1",
                                    "Elöző szoba foglalás hossza": "7"
                                },
                                {
                                    "SZOBA_ID": "126",
                                    "FOGLALAS_PK": "806",
                                    "Időtartam": "6",
                                    "Elöző szoba foglalás hossza": "1"
                                },
                                {
                                    "SZOBA_ID": "27",
                                    "FOGLALAS_PK": "807",
                                    "Időtartam": "2",
                                    "Elöző szoba foglalás hossza": "6"
                                },
                                {
                                    "SZOBA_ID": "148",
                                    "FOGLALAS_PK": "808",
                                    "Időtartam": "2",
                                    "Elöző szoba foglalás hossza": "2"
                                },
                                {
                                    "SZOBA_ID": "92",
                                    "FOGLALAS_PK": "809",
                                    "Időtartam": "3",
                                    "Elöző szoba foglalás hossza": "2"
                                },
                                {
                                    "SZOBA_ID": "109",
                                    "FOGLALAS_PK": "810",
                                    "Időtartam": "2",
                                    "Elöző szoba foglalás hossza": "3"
                                },
                                {
                                    "SZOBA_ID": "51",
                                    "FOGLALAS_PK": "811",
                                    "Időtartam": "2",
                                    "Elöző szoba foglalás hossza": "2"
                                },
                                {
                                    "SZOBA_ID": "148",
                                    "FOGLALAS_PK": "812",
                                    "Időtartam": "6",
                                    "Elöző szoba foglalás hossza": "2"
                                },
                                {
                                    "SZOBA_ID": "14",
                                    "FOGLALAS_PK": "813",
                                    "Időtartam": "3",
                                    "Elöző szoba foglalás hossza": "6"
                                },
                                {
                                    "SZOBA_ID": "70",
                                    "FOGLALAS_PK": "814",
                                    "Időtartam": "3",
                                    "Elöző szoba foglalás hossza": "3"
                                },
                                {
                                    "SZOBA_ID": "128",
                                    "FOGLALAS_PK": "815",
                                    "Időtartam": "1",
                                    "Elöző szoba foglalás hossza": "3"
                                },
                                {
                                    "SZOBA_ID": "178",
                                    "FOGLALAS_PK": "816",
                                    "Időtartam": "4",
                                    "Elöző szoba foglalás hossza": "1"
                                },
                                {
                                    "SZOBA_ID": "89",
                                    "FOGLALAS_PK": "817",
                                    "Időtartam": "3",
                                    "Elöző szoba foglalás hossza": "4"
                                },
                                {
                                    "SZOBA_ID": "8",
                                    "FOGLALAS_PK": "818",
                                    "Időtartam": "4",
                                    "Elöző szoba foglalás hossza": "3"
                                },
                                {
                                    "SZOBA_ID": "84",
                                    "FOGLALAS_PK": "819",
                                    "Időtartam": "2",
                                    "Elöző szoba foglalás hossza": "4"
                                },
                                {
                                    "SZOBA_ID": "20",
                                    "FOGLALAS_PK": "820",
                                    "Időtartam": "1",
                                    "Elöző szoba foglalás hossza": "2"
                                },
                                {
                                    "SZOBA_ID": "34",
                                    "FOGLALAS_PK": "821",
                                    "Időtartam": "1",
                                    "Elöző szoba foglalás hossza": "1"
                                },
                                {
                                    "SZOBA_ID": "52",
                                    "FOGLALAS_PK": "822",
                                    "Időtartam": "7",
                                    "Elöző szoba foglalás hossza": "1"
                                },
                                {
                                    "SZOBA_ID": "44",
                                    "FOGLALAS_PK": "823",
                                    "Időtartam": "2",
                                    "Elöző szoba foglalás hossza": "7"
                                },
                                {
                                    "SZOBA_ID": "48",
                                    "FOGLALAS_PK": "824",
                                    "Időtartam": "2",
                                    "Elöző szoba foglalás hossza": "2"
                                },
                                {
                                    "SZOBA_ID": "158",
                                    "FOGLALAS_PK": "825",
                                    "Időtartam": "4",
                                    "Elöző szoba foglalás hossza": "2"
                                },
                                {
                                    "SZOBA_ID": "49",
                                    "FOGLALAS_PK": "826",
                                    "Időtartam": "4",
                                    "Elöző szoba foglalás hossza": "4"
                                },
                                {
                                    "SZOBA_ID": "114",
                                    "FOGLALAS_PK": "827",
                                    "Időtartam": "7",
                                    "Elöző szoba foglalás hossza": "4"
                                },
                                {
                                    "SZOBA_ID": "2",
                                    "FOGLALAS_PK": "828",
                                    "Időtartam": "3",
                                    "Elöző szoba foglalás hossza": "7"
                                },
                                {
                                    "SZOBA_ID": "35",
                                    "FOGLALAS_PK": "829",
                                    "Időtartam": "2",
                                    "Elöző szoba foglalás hossza": "3"
                                },
                                {
                                    "SZOBA_ID": "74",
                                    "FOGLALAS_PK": "830",
                                    "Időtartam": "1",
                                    "Elöző szoba foglalás hossza": "2"
                                },
                                {
                                    "SZOBA_ID": "177",
                                    "FOGLALAS_PK": "831",
                                    "Időtartam": "7",
                                    "Elöző szoba foglalás hossza": "1"
                                },
                                {
                                    "SZOBA_ID": "8",
                                    "FOGLALAS_PK": "832",
                                    "Időtartam": "4",
                                    "Elöző szoba foglalás hossza": "7"
                                },
                                {
                                    "SZOBA_ID": "149",
                                    "FOGLALAS_PK": "833",
                                    "Időtartam": "2",
                                    "Elöző szoba foglalás hossza": "4"
                                },
                                {
                                    "SZOBA_ID": "149",
                                    "FOGLALAS_PK": "834",
                                    "Időtartam": "5",
                                    "Elöző szoba foglalás hossza": "2"
                                },
                                {
                                    "SZOBA_ID": "193",
                                    "FOGLALAS_PK": "835",
                                    "Időtartam": "2",
                                    "Elöző szoba foglalás hossza": "5"
                                },
                                {
                                    "SZOBA_ID": "97",
                                    "FOGLALAS_PK": "836",
                                    "Időtartam": "2",
                                    "Elöző szoba foglalás hossza": "2"
                                },
                                {
                                    "SZOBA_ID": "104",
                                    "FOGLALAS_PK": "837",
                                    "Időtartam": "4",
                                    "Elöző szoba foglalás hossza": "2"
                                },
                                {
                                    "SZOBA_ID": "56",
                                    "FOGLALAS_PK": "838",
                                    "Időtartam": "2",
                                    "Elöző szoba foglalás hossza": "4"
                                },
                                {
                                    "SZOBA_ID": "172",
                                    "FOGLALAS_PK": "839",
                                    "Időtartam": "5",
                                    "Elöző szoba foglalás hossza": "2"
                                },
                                {
                                    "SZOBA_ID": "158",
                                    "FOGLALAS_PK": "840",
                                    "Időtartam": "4",
                                    "Elöző szoba foglalás hossza": "5"
                                },
                                {
                                    "SZOBA_ID": "92",
                                    "FOGLALAS_PK": "841",
                                    "Időtartam": "6",
                                    "Elöző szoba foglalás hossza": "4"
                                },
                                {
                                    "SZOBA_ID": "195",
                                    "FOGLALAS_PK": "842",
                                    "Időtartam": "4",
                                    "Elöző szoba foglalás hossza": "6"
                                },
                                {
                                    "SZOBA_ID": "149",
                                    "FOGLALAS_PK": "843",
                                    "Időtartam": "4",
                                    "Elöző szoba foglalás hossza": "4"
                                },
                                {
                                    "SZOBA_ID": "87",
                                    "FOGLALAS_PK": "844",
                                    "Időtartam": "1",
                                    "Elöző szoba foglalás hossza": "4"
                                },
                                {
                                    "SZOBA_ID": "63",
                                    "FOGLALAS_PK": "845",
                                    "Időtartam": "1",
                                    "Elöző szoba foglalás hossza": "1"
                                },
                                {
                                    "SZOBA_ID": "45",
                                    "FOGLALAS_PK": "846",
                                    "Időtartam": "3",
                                    "Elöző szoba foglalás hossza": "1"
                                },
                                {
                                    "SZOBA_ID": "74",
                                    "FOGLALAS_PK": "847",
                                    "Időtartam": "3",
                                    "Elöző szoba foglalás hossza": "3"
                                },
                                {
                                    "SZOBA_ID": "23",
                                    "FOGLALAS_PK": "848",
                                    "Időtartam": "1",
                                    "Elöző szoba foglalás hossza": "3"
                                },
                                {
                                    "SZOBA_ID": "135",
                                    "FOGLALAS_PK": "849",
                                    "Időtartam": "7",
                                    "Elöző szoba foglalás hossza": "1"
                                },
                                {
                                    "SZOBA_ID": "6",
                                    "FOGLALAS_PK": "850",
                                    "Időtartam": "2",
                                    "Elöző szoba foglalás hossza": "7"
                                },
                                {
                                    "SZOBA_ID": "113",
                                    "FOGLALAS_PK": "1029",
                                    "Időtartam": "5",
                                    "Elöző szoba foglalás hossza": "2"
                                },
                                {
                                    "SZOBA_ID": "188",
                                    "FOGLALAS_PK": "1030",
                                    "Időtartam": "4",
                                    "Elöző szoba foglalás hossza": "5"
                                },
                                {
                                    "SZOBA_ID": "27",
                                    "FOGLALAS_PK": "1031",
                                    "Időtartam": "2",
                                    "Elöző szoba foglalás hossza": "4"
                                },
                                {
                                    "SZOBA_ID": "146",
                                    "FOGLALAS_PK": "1032",
                                    "Időtartam": "5",
                                    "Elöző szoba foglalás hossza": "2"
                                },
                                {
                                    "SZOBA_ID": "38",
                                    "FOGLALAS_PK": "1033",
                                    "Időtartam": "2",
                                    "Elöző szoba foglalás hossza": "5"
                                },
                                {
                                    "SZOBA_ID": "127",
                                    "FOGLALAS_PK": "1034",
                                    "Időtartam": "6",
                                    "Elöző szoba foglalás hossza": "2"
                                },
                                {
                                    "SZOBA_ID": "18",
                                    "FOGLALAS_PK": "1035",
                                    "Időtartam": "6",
                                    "Elöző szoba foglalás hossza": "6"
                                },
                                {
                                    "SZOBA_ID": "122",
                                    "FOGLALAS_PK": "1036",
                                    "Időtartam": "2",
                                    "Elöző szoba foglalás hossza": "6"
                                },
                                {
                                    "SZOBA_ID": "89",
                                    "FOGLALAS_PK": "1037",
                                    "Időtartam": "7",
                                    "Elöző szoba foglalás hossza": "2"
                                },
                                {
                                    "SZOBA_ID": "3",
                                    "FOGLALAS_PK": "1038",
                                    "Időtartam": "3",
                                    "Elöző szoba foglalás hossza": "7"
                                },
                                {
                                    "SZOBA_ID": "191",
                                    "FOGLALAS_PK": "1039",
                                    "Időtartam": "6",
                                    "Elöző szoba foglalás hossza": "3"
                                },
                                {
                                    "SZOBA_ID": "130",
                                    "FOGLALAS_PK": "1040",
                                    "Időtartam": "1",
                                    "Elöző szoba foglalás hossza": "6"
                                },
                                {
                                    "SZOBA_ID": "110",
                                    "FOGLALAS_PK": "1041",
                                    "Időtartam": "3",
                                    "Elöző szoba foglalás hossza": "1"
                                },
                                {
                                    "SZOBA_ID": "139",
                                    "FOGLALAS_PK": "1042",
                                    "Időtartam": "2",
                                    "Elöző szoba foglalás hossza": "3"
                                },
                                {
                                    "SZOBA_ID": "193",
                                    "FOGLALAS_PK": "1043",
                                    "Időtartam": "6",
                                    "Elöző szoba foglalás hossza": "2"
                                },
                                {
                                    "SZOBA_ID": "13",
                                    "FOGLALAS_PK": "1044",
                                    "Időtartam": "6",
                                    "Elöző szoba foglalás hossza": "6"
                                },
                                {
                                    "SZOBA_ID": "134",
                                    "FOGLALAS_PK": "1045",
                                    "Időtartam": "2",
                                    "Elöző szoba foglalás hossza": "6"
                                },
                                {
                                    "SZOBA_ID": "136",
                                    "FOGLALAS_PK": "1046",
                                    "Időtartam": "4",
                                    "Elöző szoba foglalás hossza": "2"
                                },
                                {
                                    "SZOBA_ID": "157",
                                    "FOGLALAS_PK": "1047",
                                    "Időtartam": "4",
                                    "Elöző szoba foglalás hossza": "4"
                                },
                                {
                                    "SZOBA_ID": "95",
                                    "FOGLALAS_PK": "1048",
                                    "Időtartam": "3",
                                    "Elöző szoba foglalás hossza": "4"
                                },
                                {
                                    "SZOBA_ID": "121",
                                    "FOGLALAS_PK": "1049",
                                    "Időtartam": "3",
                                    "Elöző szoba foglalás hossza": "3"
                                },
                                {
                                    "SZOBA_ID": "98",
                                    "FOGLALAS_PK": "1050",
                                    "Időtartam": "6",
                                    "Elöző szoba foglalás hossza": "3"
                                },
                                {
                                    "SZOBA_ID": "2",
                                    "FOGLALAS_PK": "1051",
                                    "Időtartam": "1",
                                    "Elöző szoba foglalás hossza": "6"
                                },
                                {
                                    "SZOBA_ID": "25",
                                    "FOGLALAS_PK": "1052",
                                    "Időtartam": "3",
                                    "Elöző szoba foglalás hossza": "1"
                                },
                                {
                                    "SZOBA_ID": "33",
                                    "FOGLALAS_PK": "1053",
                                    "Időtartam": "1",
                                    "Elöző szoba foglalás hossza": "3"
                                },
                                {
                                    "SZOBA_ID": "79",
                                    "FOGLALAS_PK": "1054",
                                    "Időtartam": "1",
                                    "Elöző szoba foglalás hossza": "1"
                                },
                                {
                                    "SZOBA_ID": "69",
                                    "FOGLALAS_PK": "1055",
                                    "Időtartam": "5",
                                    "Elöző szoba foglalás hossza": "1"
                                },
                                {
                                    "SZOBA_ID": "47",
                                    "FOGLALAS_PK": "1056",
                                    "Időtartam": "7",
                                    "Elöző szoba foglalás hossza": "5"
                                },
                                {
                                    "SZOBA_ID": "86",
                                    "FOGLALAS_PK": "1057",
                                    "Időtartam": "5",
                                    "Elöző szoba foglalás hossza": "7"
                                },
                                {
                                    "SZOBA_ID": "151",
                                    "FOGLALAS_PK": "1058",
                                    "Időtartam": "3",
                                    "Elöző szoba foglalás hossza": "5"
                                },
                                {
                                    "SZOBA_ID": "85",
                                    "FOGLALAS_PK": "1059",
                                    "Időtartam": "3",
                                    "Elöző szoba foglalás hossza": "3"
                                },
                                {
                                    "SZOBA_ID": "38",
                                    "FOGLALAS_PK": "1060",
                                    "Időtartam": "2",
                                    "Elöző szoba foglalás hossza": "3"
                                },
                                {
                                    "SZOBA_ID": "154",
                                    "FOGLALAS_PK": "1061",
                                    "Időtartam": "7",
                                    "Elöző szoba foglalás hossza": "2"
                                },
                                {
                                    "SZOBA_ID": "122",
                                    "FOGLALAS_PK": "1062",
                                    "Időtartam": "3",
                                    "Elöző szoba foglalás hossza": "7"
                                },
                                {
                                    "SZOBA_ID": "50",
                                    "FOGLALAS_PK": "1063",
                                    "Időtartam": "2",
                                    "Elöző szoba foglalás hossza": "3"
                                },
                                {
                                    "SZOBA_ID": "139",
                                    "FOGLALAS_PK": "1064",
                                    "Időtartam": "6",
                                    "Elöző szoba foglalás hossza": "2"
                                },
                                {
                                    "SZOBA_ID": "198",
                                    "FOGLALAS_PK": "1065",
                                    "Időtartam": "3",
                                    "Elöző szoba foglalás hossza": "6"
                                },
                                {
                                    "SZOBA_ID": "49",
                                    "FOGLALAS_PK": "1066",
                                    "Időtartam": "7",
                                    "Elöző szoba foglalás hossza": "3"
                                },
                                {
                                    "SZOBA_ID": "183",
                                    "FOGLALAS_PK": "1067",
                                    "Időtartam": "7",
                                    "Elöző szoba foglalás hossza": "7"
                                },
                                {
                                    "SZOBA_ID": "161",
                                    "FOGLALAS_PK": "1068",
                                    "Időtartam": "6",
                                    "Elöző szoba foglalás hossza": "7"
                                },
                                {
                                    "SZOBA_ID": "2",
                                    "FOGLALAS_PK": "1069",
                                    "Időtartam": "7",
                                    "Elöző szoba foglalás hossza": "6"
                                },
                                {
                                    "SZOBA_ID": "20",
                                    "FOGLALAS_PK": "1070",
                                    "Időtartam": "1",
                                    "Elöző szoba foglalás hossza": "7"
                                },
                                {
                                    "SZOBA_ID": "80",
                                    "FOGLALAS_PK": "1071",
                                    "Időtartam": "4",
                                    "Elöző szoba foglalás hossza": "1"
                                },
                                {
                                    "SZOBA_ID": "99",
                                    "FOGLALAS_PK": "1072",
                                    "Időtartam": "1",
                                    "Elöző szoba foglalás hossza": "4"
                                },
                                {
                                    "SZOBA_ID": "5",
                                    "FOGLALAS_PK": "1073",
                                    "Időtartam": "5",
                                    "Elöző szoba foglalás hossza": "1"
                                },
                                {
                                    "SZOBA_ID": "195",
                                    "FOGLALAS_PK": "1074",
                                    "Időtartam": "7",
                                    "Elöző szoba foglalás hossza": "5"
                                },
                                {
                                    "SZOBA_ID": "163",
                                    "FOGLALAS_PK": "1075",
                                    "Időtartam": "4",
                                    "Elöző szoba foglalás hossza": "7"
                                },
                                {
                                    "SZOBA_ID": "29",
                                    "FOGLALAS_PK": "1076",
                                    "Időtartam": "7",
                                    "Elöző szoba foglalás hossza": "4"
                                },
                                {
                                    "SZOBA_ID": "145",
                                    "FOGLALAS_PK": "1077",
                                    "Időtartam": "1",
                                    "Elöző szoba foglalás hossza": "7"
                                },
                                {
                                    "SZOBA_ID": "38",
                                    "FOGLALAS_PK": "1078",
                                    "Időtartam": "7",
                                    "Elöző szoba foglalás hossza": "1"
                                },
                                {
                                    "SZOBA_ID": "86",
                                    "FOGLALAS_PK": "1079",
                                    "Időtartam": "4",
                                    "Elöző szoba foglalás hossza": "7"
                                },
                                {
                                    "SZOBA_ID": "59",
                                    "FOGLALAS_PK": "1080",
                                    "Időtartam": "1",
                                    "Elöző szoba foglalás hossza": "4"
                                },
                                {
                                    "SZOBA_ID": "62",
                                    "FOGLALAS_PK": "1081",
                                    "Időtartam": "7",
                                    "Elöző szoba foglalás hossza": "1"
                                },
                                {
                                    "SZOBA_ID": "27",
                                    "FOGLALAS_PK": "1082",
                                    "Időtartam": "5",
                                    "Elöző szoba foglalás hossza": "7"
                                },
                                {
                                    "SZOBA_ID": "109",
                                    "FOGLALAS_PK": "1083",
                                    "Időtartam": "1",
                                    "Elöző szoba foglalás hossza": "5"
                                },
                                {
                                    "SZOBA_ID": "59",
                                    "FOGLALAS_PK": "1084",
                                    "Időtartam": "2",
                                    "Elöző szoba foglalás hossza": "1"
                                },
                                {
                                    "SZOBA_ID": "113",
                                    "FOGLALAS_PK": "1085",
                                    "Időtartam": "4",
                                    "Elöző szoba foglalás hossza": "2"
                                },
                                {
                                    "SZOBA_ID": "55",
                                    "FOGLALAS_PK": "1086",
                                    "Időtartam": "5",
                                    "Elöző szoba foglalás hossza": "4"
                                },
                                {
                                    "SZOBA_ID": "144",
                                    "FOGLALAS_PK": "1087",
                                    "Időtartam": "2",
                                    "Elöző szoba foglalás hossza": "5"
                                },
                                {
                                    "SZOBA_ID": "43",
                                    "FOGLALAS_PK": "1088",
                                    "Időtartam": "2",
                                    "Elöző szoba foglalás hossza": "2"
                                },
                                {
                                    "SZOBA_ID": "120",
                                    "FOGLALAS_PK": "1089",
                                    "Időtartam": "6",
                                    "Elöző szoba foglalás hossza": "2"
                                },
                                {
                                    "SZOBA_ID": "132",
                                    "FOGLALAS_PK": "1090",
                                    "Időtartam": "7",
                                    "Elöző szoba foglalás hossza": "6"
                                },
                                {
                                    "SZOBA_ID": "197",
                                    "FOGLALAS_PK": "1091",
                                    "Időtartam": "7",
                                    "Elöző szoba foglalás hossza": "7"
                                },
                                {
                                    "SZOBA_ID": "70",
                                    "FOGLALAS_PK": "1092",
                                    "Időtartam": "3",
                                    "Elöző szoba foglalás hossza": "7"
                                },
                                {
                                    "SZOBA_ID": "74",
                                    "FOGLALAS_PK": "1093",
                                    "Időtartam": "6",
                                    "Elöző szoba foglalás hossza": "3"
                                },
                                {
                                    "SZOBA_ID": "175",
                                    "FOGLALAS_PK": "1094",
                                    "Időtartam": "5",
                                    "Elöző szoba foglalás hossza": "6"
                                },
                                {
                                    "SZOBA_ID": "194",
                                    "FOGLALAS_PK": "1095",
                                    "Időtartam": "5",
                                    "Elöző szoba foglalás hossza": "5"
                                },
                                {
                                    "SZOBA_ID": "54",
                                    "FOGLALAS_PK": "1096",
                                    "Időtartam": "4",
                                    "Elöző szoba foglalás hossza": "5"
                                },
                                {
                                    "SZOBA_ID": "95",
                                    "FOGLALAS_PK": "1097",
                                    "Időtartam": "4",
                                    "Elöző szoba foglalás hossza": "4"
                                },
                                {
                                    "SZOBA_ID": "140",
                                    "FOGLALAS_PK": "1098",
                                    "Időtartam": "2",
                                    "Elöző szoba foglalás hossza": "4"
                                },
                                {
                                    "SZOBA_ID": "6",
                                    "FOGLALAS_PK": "1099",
                                    "Időtartam": "4",
                                    "Elöző szoba foglalás hossza": "2"
                                },
                                {
                                    "SZOBA_ID": "150",
                                    "FOGLALAS_PK": "1100",
                                    "Időtartam": "5",
                                    "Elöző szoba foglalás hossza": "4"
                                },
                                {
                                    "SZOBA_ID": "89",
                                    "FOGLALAS_PK": "1101",
                                    "Időtartam": "5",
                                    "Elöző szoba foglalás hossza": "5"
                                },
                                {
                                    "SZOBA_ID": "108",
                                    "FOGLALAS_PK": "1102",
                                    "Időtartam": "1",
                                    "Elöző szoba foglalás hossza": "5"
                                },
                                {
                                    "SZOBA_ID": "87",
                                    "FOGLALAS_PK": "1103",
                                    "Időtartam": "3",
                                    "Elöző szoba foglalás hossza": "1"
                                },
                                {
                                    "SZOBA_ID": "77",
                                    "FOGLALAS_PK": "1104",
                                    "Időtartam": "1",
                                    "Elöző szoba foglalás hossza": "3"
                                },
                                {
                                    "SZOBA_ID": "150",
                                    "FOGLALAS_PK": "1105",
                                    "Időtartam": "1",
                                    "Elöző szoba foglalás hossza": "1"
                                },
                                {
                                    "SZOBA_ID": "20",
                                    "FOGLALAS_PK": "1106",
                                    "Időtartam": "2",
                                    "Elöző szoba foglalás hossza": "1"
                                },
                                {
                                    "SZOBA_ID": "163",
                                    "FOGLALAS_PK": "1107",
                                    "Időtartam": "3",
                                    "Elöző szoba foglalás hossza": "2"
                                },
                                {
                                    "SZOBA_ID": "86",
                                    "FOGLALAS_PK": "1108",
                                    "Időtartam": "1",
                                    "Elöző szoba foglalás hossza": "3"
                                },
                                {
                                    "SZOBA_ID": "110",
                                    "FOGLALAS_PK": "1109",
                                    "Időtartam": "5",
                                    "Elöző szoba foglalás hossza": "1"
                                },
                                {
                                    "SZOBA_ID": "3",
                                    "FOGLALAS_PK": "1110",
                                    "Időtartam": "7",
                                    "Elöző szoba foglalás hossza": "5"
                                },
                                {
                                    "SZOBA_ID": "132",
                                    "FOGLALAS_PK": "1111",
                                    "Időtartam": "3",
                                    "Elöző szoba foglalás hossza": "7"
                                },
                                {
                                    "SZOBA_ID": "155",
                                    "FOGLALAS_PK": "1112",
                                    "Időtartam": "4",
                                    "Elöző szoba foglalás hossza": "3"
                                },
                                {
                                    "SZOBA_ID": "58",
                                    "FOGLALAS_PK": "1113",
                                    "Időtartam": "3",
                                    "Elöző szoba foglalás hossza": "4"
                                },
                                {
                                    "SZOBA_ID": "20",
                                    "FOGLALAS_PK": "1114",
                                    "Időtartam": "5",
                                    "Elöző szoba foglalás hossza": "3"
                                },
                                {
                                    "SZOBA_ID": "151",
                                    "FOGLALAS_PK": "1115",
                                    "Időtartam": "3",
                                    "Elöző szoba foglalás hossza": "5"
                                },
                                {
                                    "SZOBA_ID": "198",
                                    "FOGLALAS_PK": "1116",
                                    "Időtartam": "1",
                                    "Elöző szoba foglalás hossza": "3"
                                },
                                {
                                    "SZOBA_ID": "158",
                                    "FOGLALAS_PK": "1117",
                                    "Időtartam": "3",
                                    "Elöző szoba foglalás hossza": "1"
                                },
                                {
                                    "SZOBA_ID": "40",
                                    "FOGLALAS_PK": "1118",
                                    "Időtartam": "5",
                                    "Elöző szoba foglalás hossza": "3"
                                },
                                {
                                    "SZOBA_ID": "83",
                                    "FOGLALAS_PK": "1119",
                                    "Időtartam": "6",
                                    "Elöző szoba foglalás hossza": "5"
                                },
                                {
                                    "SZOBA_ID": "145",
                                    "FOGLALAS_PK": "1120",
                                    "Időtartam": "1",
                                    "Elöző szoba foglalás hossza": "6"
                                },
                                {
                                    "SZOBA_ID": "115",
                                    "FOGLALAS_PK": "1121",
                                    "Időtartam": "7",
                                    "Elöző szoba foglalás hossza": "1"
                                },
                                {
                                    "SZOBA_ID": "64",
                                    "FOGLALAS_PK": "1122",
                                    "Időtartam": "4",
                                    "Elöző szoba foglalás hossza": "7"
                                },
                                {
                                    "SZOBA_ID": "11",
                                    "FOGLALAS_PK": "1123",
                                    "Időtartam": "5",
                                    "Elöző szoba foglalás hossza": "4"
                                },
                                {
                                    "SZOBA_ID": "112",
                                    "FOGLALAS_PK": "1124",
                                    "Időtartam": "6",
                                    "Elöző szoba foglalás hossza": "5"
                                },
                                {
                                    "SZOBA_ID": "185",
                                    "FOGLALAS_PK": "1125",
                                    "Időtartam": "3",
                                    "Elöző szoba foglalás hossza": "6"
                                },
                                {
                                    "SZOBA_ID": "70",
                                    "FOGLALAS_PK": "1126",
                                    "Időtartam": "3",
                                    "Elöző szoba foglalás hossza": "3"
                                },
                                {
                                    "SZOBA_ID": "4",
                                    "FOGLALAS_PK": "1127",
                                    "Időtartam": "3",
                                    "Elöző szoba foglalás hossza": "3"
                                },
                                {
                                    "SZOBA_ID": "121",
                                    "FOGLALAS_PK": "1128",
                                    "Időtartam": "4",
                                    "Elöző szoba foglalás hossza": "3"
                                },
                                {
                                    "SZOBA_ID": "15",
                                    "FOGLALAS_PK": "1129",
                                    "Időtartam": "4",
                                    "Elöző szoba foglalás hossza": "4"
                                },
                                {
                                    "SZOBA_ID": "22",
                                    "FOGLALAS_PK": "1130",
                                    "Időtartam": "1",
                                    "Elöző szoba foglalás hossza": "4"
                                },
                                {
                                    "SZOBA_ID": "7",
                                    "FOGLALAS_PK": "1131",
                                    "Időtartam": "1",
                                    "Elöző szoba foglalás hossza": "1"
                                },
                                {
                                    "SZOBA_ID": "4",
                                    "FOGLALAS_PK": "1132",
                                    "Időtartam": "6",
                                    "Elöző szoba foglalás hossza": "1"
                                },
                                {
                                    "SZOBA_ID": "175",
                                    "FOGLALAS_PK": "1133",
                                    "Időtartam": "2",
                                    "Elöző szoba foglalás hossza": "6"
                                },
                                {
                                    "SZOBA_ID": "126",
                                    "FOGLALAS_PK": "1134",
                                    "Időtartam": "1",
                                    "Elöző szoba foglalás hossza": "2"
                                },
                                {
                                    "SZOBA_ID": "45",
                                    "FOGLALAS_PK": "1135",
                                    "Időtartam": "3",
                                    "Elöző szoba foglalás hossza": "1"
                                },
                                {
                                    "SZOBA_ID": "30",
                                    "FOGLALAS_PK": "1136",
                                    "Időtartam": "5",
                                    "Elöző szoba foglalás hossza": "3"
                                },
                                {
                                    "SZOBA_ID": "1",
                                    "FOGLALAS_PK": "1137",
                                    "Időtartam": "2",
                                    "Elöző szoba foglalás hossza": "5"
                                },
                                {
                                    "SZOBA_ID": "198",
                                    "FOGLALAS_PK": "1138",
                                    "Időtartam": "5",
                                    "Elöző szoba foglalás hossza": "2"
                                },
                                {
                                    "SZOBA_ID": "19",
                                    "FOGLALAS_PK": "1139",
                                    "Időtartam": "7",
                                    "Elöző szoba foglalás hossza": "5"
                                },
                                {
                                    "SZOBA_ID": "12",
                                    "FOGLALAS_PK": "1140",
                                    "Időtartam": "3",
                                    "Elöző szoba foglalás hossza": "7"
                                },
                                {
                                    "SZOBA_ID": "165",
                                    "FOGLALAS_PK": "1141",
                                    "Időtartam": "1",
                                    "Elöző szoba foglalás hossza": "3"
                                },
                                {
                                    "SZOBA_ID": "172",
                                    "FOGLALAS_PK": "1142",
                                    "Időtartam": "4",
                                    "Elöző szoba foglalás hossza": "1"
                                },
                                {
                                    "SZOBA_ID": "176",
                                    "FOGLALAS_PK": "1143",
                                    "Időtartam": "6",
                                    "Elöző szoba foglalás hossza": "4"
                                },
                                {
                                    "SZOBA_ID": "41",
                                    "FOGLALAS_PK": "1144",
                                    "Időtartam": "1",
                                    "Elöző szoba foglalás hossza": "6"
                                },
                                {
                                    "SZOBA_ID": "145",
                                    "FOGLALAS_PK": "1145",
                                    "Időtartam": "4",
                                    "Elöző szoba foglalás hossza": "1"
                                },
                                {
                                    "SZOBA_ID": "149",
                                    "FOGLALAS_PK": "1146",
                                    "Időtartam": "6",
                                    "Elöző szoba foglalás hossza": "4"
                                },
                                {
                                    "SZOBA_ID": "183",
                                    "FOGLALAS_PK": "1147",
                                    "Időtartam": "4",
                                    "Elöző szoba foglalás hossza": "6"
                                },
                                {
                                    "SZOBA_ID": "61",
                                    "FOGLALAS_PK": "1148",
                                    "Időtartam": "3",
                                    "Elöző szoba foglalás hossza": "4"
                                },
                                {
                                    "SZOBA_ID": "133",
                                    "FOGLALAS_PK": "1149",
                                    "Időtartam": "7",
                                    "Elöző szoba foglalás hossza": "3"
                                },
                                {
                                    "SZOBA_ID": "28",
                                    "FOGLALAS_PK": "1150",
                                    "Időtartam": "6",
                                    "Elöző szoba foglalás hossza": "7"
                                },
                                {
                                    "SZOBA_ID": "3",
                                    "FOGLALAS_PK": "1151",
                                    "Időtartam": "1",
                                    "Elöző szoba foglalás hossza": "6"
                                },
                                {
                                    "SZOBA_ID": "1",
                                    "FOGLALAS_PK": "1152",
                                    "Időtartam": "1",
                                    "Elöző szoba foglalás hossza": "1"
                                },
                                {
                                    "SZOBA_ID": "186",
                                    "FOGLALAS_PK": "1153",
                                    "Időtartam": "3",
                                    "Elöző szoba foglalás hossza": "1"
                                },
                                {
                                    "SZOBA_ID": "115",
                                    "FOGLALAS_PK": "1154",
                                    "Időtartam": "4",
                                    "Elöző szoba foglalás hossza": "3"
                                },
                                {
                                    "SZOBA_ID": "143",
                                    "FOGLALAS_PK": "1155",
                                    "Időtartam": "7",
                                    "Elöző szoba foglalás hossza": "4"
                                },
                                {
                                    "SZOBA_ID": "140",
                                    "FOGLALAS_PK": "1156",
                                    "Időtartam": "3",
                                    "Elöző szoba foglalás hossza": "7"
                                },
                                {
                                    "SZOBA_ID": "9",
                                    "FOGLALAS_PK": "1157",
                                    "Időtartam": "6",
                                    "Elöző szoba foglalás hossza": "3"
                                },
                                {
                                    "SZOBA_ID": "26",
                                    "FOGLALAS_PK": "1158",
                                    "Időtartam": "2",
                                    "Elöző szoba foglalás hossza": "6"
                                },
                                {
                                    "SZOBA_ID": "73",
                                    "FOGLALAS_PK": "1159",
                                    "Időtartam": "5",
                                    "Elöző szoba foglalás hossza": "2"
                                },
                                {
                                    "SZOBA_ID": "152",
                                    "FOGLALAS_PK": "1160",
                                    "Időtartam": "7",
                                    "Elöző szoba foglalás hossza": "5"
                                },
                                {
                                    "SZOBA_ID": "198",
                                    "FOGLALAS_PK": "1161",
                                    "Időtartam": "5",
                                    "Elöző szoba foglalás hossza": "7"
                                },
                                {
                                    "SZOBA_ID": "110",
                                    "FOGLALAS_PK": "1162",
                                    "Időtartam": "2",
                                    "Elöző szoba foglalás hossza": "5"
                                },
                                {
                                    "SZOBA_ID": "55",
                                    "FOGLALAS_PK": "1163",
                                    "Időtartam": "2",
                                    "Elöző szoba foglalás hossza": "2"
                                },
                                {
                                    "SZOBA_ID": "12",
                                    "FOGLALAS_PK": "1164",
                                    "Időtartam": "5",
                                    "Elöző szoba foglalás hossza": "2"
                                },
                                {
                                    "SZOBA_ID": "51",
                                    "FOGLALAS_PK": "1165",
                                    "Időtartam": "5",
                                    "Elöző szoba foglalás hossza": "5"
                                },
                                {
                                    "SZOBA_ID": "122",
                                    "FOGLALAS_PK": "1166",
                                    "Időtartam": "4",
                                    "Elöző szoba foglalás hossza": "5"
                                },
                                {
                                    "SZOBA_ID": "24",
                                    "FOGLALAS_PK": "1167",
                                    "Időtartam": "1",
                                    "Elöző szoba foglalás hossza": "4"
                                },
                                {
                                    "SZOBA_ID": "154",
                                    "FOGLALAS_PK": "1168",
                                    "Időtartam": "6",
                                    "Elöző szoba foglalás hossza": "1"
                                },
                                {
                                    "SZOBA_ID": "93",
                                    "FOGLALAS_PK": "1169",
                                    "Időtartam": "4",
                                    "Elöző szoba foglalás hossza": "6"
                                },
                                {
                                    "SZOBA_ID": "59",
                                    "FOGLALAS_PK": "1170",
                                    "Időtartam": "5",
                                    "Elöző szoba foglalás hossza": "4"
                                },
                                {
                                    "SZOBA_ID": "172",
                                    "FOGLALAS_PK": "1171",
                                    "Időtartam": "5",
                                    "Elöző szoba foglalás hossza": "5"
                                },
                                {
                                    "SZOBA_ID": "197",
                                    "FOGLALAS_PK": "1172",
                                    "Időtartam": "7",
                                    "Elöző szoba foglalás hossza": "5"
                                },
                                {
                                    "SZOBA_ID": "18",
                                    "FOGLALAS_PK": "1173",
                                    "Időtartam": "6",
                                    "Elöző szoba foglalás hossza": "7"
                                },
                                {
                                    "SZOBA_ID": "90",
                                    "FOGLALAS_PK": "1174",
                                    "Időtartam": "7",
                                    "Elöző szoba foglalás hossza": "6"
                                },
                                {
                                    "SZOBA_ID": "7",
                                    "FOGLALAS_PK": "1175",
                                    "Időtartam": "4",
                                    "Elöző szoba foglalás hossza": "7"
                                },
                                {
                                    "SZOBA_ID": "177",
                                    "FOGLALAS_PK": "1176",
                                    "Időtartam": "3",
                                    "Elöző szoba foglalás hossza": "4"
                                },
                                {
                                    "SZOBA_ID": "150",
                                    "FOGLALAS_PK": "1177",
                                    "Időtartam": "1",
                                    "Elöző szoba foglalás hossza": "3"
                                },
                                {
                                    "SZOBA_ID": "134",
                                    "FOGLALAS_PK": "1178",
                                    "Időtartam": "7",
                                    "Elöző szoba foglalás hossza": "1"
                                },
                                {
                                    "SZOBA_ID": "74",
                                    "FOGLALAS_PK": "1179",
                                    "Időtartam": "7",
                                    "Elöző szoba foglalás hossza": "7"
                                },
                                {
                                    "SZOBA_ID": "104",
                                    "FOGLALAS_PK": "1180",
                                    "Időtartam": "1",
                                    "Elöző szoba foglalás hossza": "7"
                                },
                                {
                                    "SZOBA_ID": "171",
                                    "FOGLALAS_PK": "1181",
                                    "Időtartam": "6",
                                    "Elöző szoba foglalás hossza": "1"
                                },
                                {
                                    "SZOBA_ID": "7",
                                    "FOGLALAS_PK": "1182",
                                    "Időtartam": "4",
                                    "Elöző szoba foglalás hossza": "6"
                                },
                                {
                                    "SZOBA_ID": "185",
                                    "FOGLALAS_PK": "1183",
                                    "Időtartam": "5",
                                    "Elöző szoba foglalás hossza": "4"
                                },
                                {
                                    "SZOBA_ID": "195",
                                    "FOGLALAS_PK": "1184",
                                    "Időtartam": "5",
                                    "Elöző szoba foglalás hossza": "5"
                                },
                                {
                                    "SZOBA_ID": "29",
                                    "FOGLALAS_PK": "1185",
                                    "Időtartam": "5",
                                    "Elöző szoba foglalás hossza": "5"
                                },
                                {
                                    "SZOBA_ID": "58",
                                    "FOGLALAS_PK": "1186",
                                    "Időtartam": "6",
                                    "Elöző szoba foglalás hossza": "5"
                                },
                                {
                                    "SZOBA_ID": "46",
                                    "FOGLALAS_PK": "1187",
                                    "Időtartam": "7",
                                    "Elöző szoba foglalás hossza": "6"
                                },
                                {
                                    "SZOBA_ID": "182",
                                    "FOGLALAS_PK": "1188",
                                    "Időtartam": "1",
                                    "Elöző szoba foglalás hossza": "7"
                                },
                                {
                                    "SZOBA_ID": "89",
                                    "FOGLALAS_PK": "1189",
                                    "Időtartam": "6",
                                    "Elöző szoba foglalás hossza": "1"
                                },
                                {
                                    "SZOBA_ID": "161",
                                    "FOGLALAS_PK": "1190",
                                    "Időtartam": "7",
                                    "Elöző szoba foglalás hossza": "6"
                                },
                                {
                                    "SZOBA_ID": "59",
                                    "FOGLALAS_PK": "1191",
                                    "Időtartam": "6",
                                    "Elöző szoba foglalás hossza": "7"
                                },
                                {
                                    "SZOBA_ID": "117",
                                    "FOGLALAS_PK": "1192",
                                    "Időtartam": "2",
                                    "Elöző szoba foglalás hossza": "6"
                                },
                                {
                                    "SZOBA_ID": "143",
                                    "FOGLALAS_PK": "1193",
                                    "Időtartam": "6",
                                    "Elöző szoba foglalás hossza": "2"
                                },
                                {
                                    "SZOBA_ID": "170",
                                    "FOGLALAS_PK": "1194",
                                    "Időtartam": "4",
                                    "Elöző szoba foglalás hossza": "6"
                                },
                                {
                                    "SZOBA_ID": "22",
                                    "FOGLALAS_PK": "1195",
                                    "Időtartam": "6",
                                    "Elöző szoba foglalás hossza": "4"
                                },
                                {
                                    "SZOBA_ID": "88",
                                    "FOGLALAS_PK": "1196",
                                    "Időtartam": "3",
                                    "Elöző szoba foglalás hossza": "6"
                                },
                                {
                                    "SZOBA_ID": "152",
                                    "FOGLALAS_PK": "1197",
                                    "Időtartam": "6",
                                    "Elöző szoba foglalás hossza": "3"
                                },
                                {
                                    "SZOBA_ID": "18",
                                    "FOGLALAS_PK": "1198",
                                    "Időtartam": "4",
                                    "Elöző szoba foglalás hossza": "6"
                                },
                                {
                                    "SZOBA_ID": "144",
                                    "FOGLALAS_PK": "1199",
                                    "Időtartam": "7",
                                    "Elöző szoba foglalás hossza": "4"
                                },
                                {
                                    "SZOBA_ID": "49",
                                    "FOGLALAS_PK": "1200",
                                    "Időtartam": "7",
                                    "Elöző szoba foglalás hossza": "7"
                                },
                                {
                                    "SZOBA_ID": "137",
                                    "FOGLALAS_PK": "1201",
                                    "Időtartam": "6",
                                    "Elöző szoba foglalás hossza": "7"
                                },
                                {
                                    "SZOBA_ID": "52",
                                    "FOGLALAS_PK": "1202",
                                    "Időtartam": "2",
                                    "Elöző szoba foglalás hossza": "6"
                                },
                                {
                                    "SZOBA_ID": "150",
                                    "FOGLALAS_PK": "1203",
                                    "Időtartam": "4",
                                    "Elöző szoba foglalás hossza": "2"
                                },
                                {
                                    "SZOBA_ID": "189",
                                    "FOGLALAS_PK": "1204",
                                    "Időtartam": "2",
                                    "Elöző szoba foglalás hossza": "4"
                                },
                                {
                                    "SZOBA_ID": "162",
                                    "FOGLALAS_PK": "1205",
                                    "Időtartam": "6",
                                    "Elöző szoba foglalás hossza": "2"
                                },
                                {
                                    "SZOBA_ID": "22",
                                    "FOGLALAS_PK": "1206",
                                    "Időtartam": "7",
                                    "Elöző szoba foglalás hossza": "6"
                                },
                                {
                                    "SZOBA_ID": "43",
                                    "FOGLALAS_PK": "1207",
                                    "Időtartam": "1",
                                    "Elöző szoba foglalás hossza": "7"
                                },
                                {
                                    "SZOBA_ID": "58",
                                    "FOGLALAS_PK": "1208",
                                    "Időtartam": "6",
                                    "Elöző szoba foglalás hossza": "1"
                                },
                                {
                                    "SZOBA_ID": "122",
                                    "FOGLALAS_PK": "1209",
                                    "Időtartam": "1",
                                    "Elöző szoba foglalás hossza": "6"
                                },
                                {
                                    "SZOBA_ID": "124",
                                    "FOGLALAS_PK": "1210",
                                    "Időtartam": "4",
                                    "Elöző szoba foglalás hossza": "1"
                                },
                                {
                                    "SZOBA_ID": "178",
                                    "FOGLALAS_PK": "1211",
                                    "Időtartam": "3",
                                    "Elöző szoba foglalás hossza": "4"
                                },
                                {
                                    "SZOBA_ID": "21",
                                    "FOGLALAS_PK": "1212",
                                    "Időtartam": "6",
                                    "Elöző szoba foglalás hossza": "3"
                                },
                                {
                                    "SZOBA_ID": "91",
                                    "FOGLALAS_PK": "1213",
                                    "Időtartam": "3",
                                    "Elöző szoba foglalás hossza": "6"
                                },
                                {
                                    "SZOBA_ID": "39",
                                    "FOGLALAS_PK": "1214",
                                    "Időtartam": "5",
                                    "Elöző szoba foglalás hossza": "3"
                                },
                                {
                                    "SZOBA_ID": "121",
                                    "FOGLALAS_PK": "1215",
                                    "Időtartam": "4",
                                    "Elöző szoba foglalás hossza": "5"
                                },
                                {
                                    "SZOBA_ID": "198",
                                    "FOGLALAS_PK": "1216",
                                    "Időtartam": "7",
                                    "Elöző szoba foglalás hossza": "4"
                                },
                                {
                                    "SZOBA_ID": "93",
                                    "FOGLALAS_PK": "1217",
                                    "Időtartam": "1",
                                    "Elöző szoba foglalás hossza": "7"
                                },
                                {
                                    "SZOBA_ID": "61",
                                    "FOGLALAS_PK": "1218",
                                    "Időtartam": "2",
                                    "Elöző szoba foglalás hossza": "1"
                                },
                                {
                                    "SZOBA_ID": "134",
                                    "FOGLALAS_PK": "1219",
                                    "Időtartam": "6",
                                    "Elöző szoba foglalás hossza": "2"
                                },
                                {
                                    "SZOBA_ID": "9",
                                    "FOGLALAS_PK": "1220",
                                    "Időtartam": "3",
                                    "Elöző szoba foglalás hossza": "6"
                                },
                                {
                                    "SZOBA_ID": "49",
                                    "FOGLALAS_PK": "1221",
                                    "Időtartam": "2",
                                    "Elöző szoba foglalás hossza": "3"
                                },
                                {
                                    "SZOBA_ID": "143",
                                    "FOGLALAS_PK": "1222",
                                    "Időtartam": "2",
                                    "Elöző szoba foglalás hossza": "2"
                                },
                                {
                                    "SZOBA_ID": "123",
                                    "FOGLALAS_PK": "1223",
                                    "Időtartam": "1",
                                    "Elöző szoba foglalás hossza": "2"
                                },
                                {
                                    "SZOBA_ID": "50",
                                    "FOGLALAS_PK": "1224",
                                    "Időtartam": "1",
                                    "Elöző szoba foglalás hossza": "1"
                                },
                                {
                                    "SZOBA_ID": "69",
                                    "FOGLALAS_PK": "1225",
                                    "Időtartam": "5",
                                    "Elöző szoba foglalás hossza": "1"
                                },
                                {
                                    "SZOBA_ID": "127",
                                    "FOGLALAS_PK": "1226",
                                    "Időtartam": "5",
                                    "Elöző szoba foglalás hossza": "5"
                                },
                                {
                                    "SZOBA_ID": "43",
                                    "FOGLALAS_PK": "1227",
                                    "Időtartam": "5",
                                    "Elöző szoba foglalás hossza": "5"
                                },
                                {
                                    "SZOBA_ID": "106",
                                    "FOGLALAS_PK": "1228",
                                    "Időtartam": "7",
                                    "Elöző szoba foglalás hossza": "5"
                                },
                                {
                                    "SZOBA_ID": "79",
                                    "FOGLALAS_PK": "1229",
                                    "Időtartam": "7",
                                    "Elöző szoba foglalás hossza": "7"
                                },
                                {
                                    "SZOBA_ID": "182",
                                    "FOGLALAS_PK": "1230",
                                    "Időtartam": "7",
                                    "Elöző szoba foglalás hossza": "7"
                                },
                                {
                                    "SZOBA_ID": "182",
                                    "FOGLALAS_PK": "1231",
                                    "Időtartam": "4",
                                    "Elöző szoba foglalás hossza": "7"
                                },
                                {
                                    "SZOBA_ID": "55",
                                    "FOGLALAS_PK": "1232",
                                    "Időtartam": "7",
                                    "Elöző szoba foglalás hossza": "4"
                                },
                                {
                                    "SZOBA_ID": "64",
                                    "FOGLALAS_PK": "1233",
                                    "Időtartam": "7",
                                    "Elöző szoba foglalás hossza": "7"
                                },
                                {
                                    "SZOBA_ID": "66",
                                    "FOGLALAS_PK": "1234",
                                    "Időtartam": "3",
                                    "Elöző szoba foglalás hossza": "7"
                                },
                                {
                                    "SZOBA_ID": "29",
                                    "FOGLALAS_PK": "1235",
                                    "Időtartam": "7",
                                    "Elöző szoba foglalás hossza": "3"
                                },
                                {
                                    "SZOBA_ID": "11",
                                    "FOGLALAS_PK": "1236",
                                    "Időtartam": "1",
                                    "Elöző szoba foglalás hossza": "7"
                                },
                                {
                                    "SZOBA_ID": "19",
                                    "FOGLALAS_PK": "1237",
                                    "Időtartam": "1",
                                    "Elöző szoba foglalás hossza": "1"
                                },
                                {
                                    "SZOBA_ID": "193",
                                    "FOGLALAS_PK": "1238",
                                    "Időtartam": "6",
                                    "Elöző szoba foglalás hossza": "1"
                                },
                                {
                                    "SZOBA_ID": "59",
                                    "FOGLALAS_PK": "1239",
                                    "Időtartam": "2",
                                    "Elöző szoba foglalás hossza": "6"
                                },
                                {
                                    "SZOBA_ID": "157",
                                    "FOGLALAS_PK": "1240",
                                    "Időtartam": "7",
                                    "Elöző szoba foglalás hossza": "2"
                                },
                                {
                                    "SZOBA_ID": "94",
                                    "FOGLALAS_PK": "1241",
                                    "Időtartam": "7",
                                    "Elöző szoba foglalás hossza": "7"
                                },
                                {
                                    "SZOBA_ID": "178",
                                    "FOGLALAS_PK": "1242",
                                    "Időtartam": "1",
                                    "Elöző szoba foglalás hossza": "7"
                                },
                                {
                                    "SZOBA_ID": "48",
                                    "FOGLALAS_PK": "1243",
                                    "Időtartam": "6",
                                    "Elöző szoba foglalás hossza": "1"
                                },
                                {
                                    "SZOBA_ID": "15",
                                    "FOGLALAS_PK": "1244",
                                    "Időtartam": "1",
                                    "Elöző szoba foglalás hossza": "6"
                                },
                                {
                                    "SZOBA_ID": "122",
                                    "FOGLALAS_PK": "1245",
                                    "Időtartam": "2",
                                    "Elöző szoba foglalás hossza": "1"
                                },
                                {
                                    "SZOBA_ID": "69",
                                    "FOGLALAS_PK": "1246",
                                    "Időtartam": "7",
                                    "Elöző szoba foglalás hossza": "2"
                                },
                                {
                                    "SZOBA_ID": "117",
                                    "FOGLALAS_PK": "1247",
                                    "Időtartam": "3",
                                    "Elöző szoba foglalás hossza": "7"
                                },
                                {
                                    "SZOBA_ID": "186",
                                    "FOGLALAS_PK": "1248",
                                    "Időtartam": "2",
                                    "Elöző szoba foglalás hossza": "3"
                                },
                                {
                                    "SZOBA_ID": "168",
                                    "FOGLALAS_PK": "1249",
                                    "Időtartam": "4",
                                    "Elöző szoba foglalás hossza": "2"
                                },
                                {
                                    "SZOBA_ID": "107",
                                    "FOGLALAS_PK": "1250",
                                    "Időtartam": "4",
                                    "Elöző szoba foglalás hossza": "4"
                                },
                                {
                                    "SZOBA_ID": "184",
                                    "FOGLALAS_PK": "1251",
                                    "Időtartam": "4",
                                    "Elöző szoba foglalás hossza": "4"
                                },
                                {
                                    "SZOBA_ID": "7",
                                    "FOGLALAS_PK": "1252",
                                    "Időtartam": "2",
                                    "Elöző szoba foglalás hossza": "4"
                                },
                                {
                                    "SZOBA_ID": "89",
                                    "FOGLALAS_PK": "1253",
                                    "Időtartam": "2",
                                    "Elöző szoba foglalás hossza": "2"
                                },
                                {
                                    "SZOBA_ID": "141",
                                    "FOGLALAS_PK": "1254",
                                    "Időtartam": "4",
                                    "Elöző szoba foglalás hossza": "2"
                                },
                                {
                                    "SZOBA_ID": "58",
                                    "FOGLALAS_PK": "1255",
                                    "Időtartam": "7",
                                    "Elöző szoba foglalás hossza": "4"
                                },
                                {
                                    "SZOBA_ID": "138",
                                    "FOGLALAS_PK": "1256",
                                    "Időtartam": "4",
                                    "Elöző szoba foglalás hossza": "7"
                                },
                                {
                                    "SZOBA_ID": "5",
                                    "FOGLALAS_PK": "1257",
                                    "Időtartam": "3",
                                    "Elöző szoba foglalás hossza": "4"
                                },
                                {
                                    "SZOBA_ID": "52",
                                    "FOGLALAS_PK": "1258",
                                    "Időtartam": "5",
                                    "Elöző szoba foglalás hossza": "3"
                                },
                                {
                                    "SZOBA_ID": "140",
                                    "FOGLALAS_PK": "1259",
                                    "Időtartam": "7",
                                    "Elöző szoba foglalás hossza": "5"
                                },
                                {
                                    "SZOBA_ID": "9",
                                    "FOGLALAS_PK": "1260",
                                    "Időtartam": "6",
                                    "Elöző szoba foglalás hossza": "7"
                                },
                                {
                                    "SZOBA_ID": "58",
                                    "FOGLALAS_PK": "1261",
                                    "Időtartam": "6",
                                    "Elöző szoba foglalás hossza": "6"
                                },
                                {
                                    "SZOBA_ID": "154",
                                    "FOGLALAS_PK": "1262",
                                    "Időtartam": "1",
                                    "Elöző szoba foglalás hossza": "6"
                                },
                                {
                                    "SZOBA_ID": "113",
                                    "FOGLALAS_PK": "1263",
                                    "Időtartam": "1",
                                    "Elöző szoba foglalás hossza": "1"
                                },
                                {
                                    "SZOBA_ID": "66",
                                    "FOGLALAS_PK": "1264",
                                    "Időtartam": "4",
                                    "Elöző szoba foglalás hossza": "1"
                                },
                                {
                                    "SZOBA_ID": "163",
                                    "FOGLALAS_PK": "1265",
                                    "Időtartam": "5",
                                    "Elöző szoba foglalás hossza": "4"
                                },
                                {
                                    "SZOBA_ID": "168",
                                    "FOGLALAS_PK": "1266",
                                    "Időtartam": "4",
                                    "Elöző szoba foglalás hossza": "5"
                                },
                                {
                                    "SZOBA_ID": "170",
                                    "FOGLALAS_PK": "1267",
                                    "Időtartam": "7",
                                    "Elöző szoba foglalás hossza": "4"
                                },
                                {
                                    "SZOBA_ID": "78",
                                    "FOGLALAS_PK": "1268",
                                    "Időtartam": "2",
                                    "Elöző szoba foglalás hossza": "7"
                                },
                                {
                                    "SZOBA_ID": "89",
                                    "FOGLALAS_PK": "1269",
                                    "Időtartam": "2",
                                    "Elöző szoba foglalás hossza": "2"
                                },
                                {
                                    "SZOBA_ID": "43",
                                    "FOGLALAS_PK": "1270",
                                    "Időtartam": "4",
                                    "Elöző szoba foglalás hossza": "2"
                                },
                                {
                                    "SZOBA_ID": "106",
                                    "FOGLALAS_PK": "1271",
                                    "Időtartam": "5",
                                    "Elöző szoba foglalás hossza": "4"
                                },
                                {
                                    "SZOBA_ID": "50",
                                    "FOGLALAS_PK": "1272",
                                    "Időtartam": "1",
                                    "Elöző szoba foglalás hossza": "5"
                                },
                                {
                                    "SZOBA_ID": "88",
                                    "FOGLALAS_PK": "1273",
                                    "Időtartam": "7",
                                    "Elöző szoba foglalás hossza": "1"
                                },
                                {
                                    "SZOBA_ID": "1",
                                    "FOGLALAS_PK": "1274",
                                    "Időtartam": "1",
                                    "Elöző szoba foglalás hossza": "7"
                                },
                                {
                                    "SZOBA_ID": "27",
                                    "FOGLALAS_PK": "1275",
                                    "Időtartam": "6",
                                    "Elöző szoba foglalás hossza": "1"
                                },
                                {
                                    "SZOBA_ID": "174",
                                    "FOGLALAS_PK": "1276",
                                    "Időtartam": "1",
                                    "Elöző szoba foglalás hossza": "6"
                                },
                                {
                                    "SZOBA_ID": "82",
                                    "FOGLALAS_PK": "1277",
                                    "Időtartam": "5",
                                    "Elöző szoba foglalás hossza": "1"
                                },
                                {
                                    "SZOBA_ID": "176",
                                    "FOGLALAS_PK": "1278",
                                    "Időtartam": "6",
                                    "Elöző szoba foglalás hossza": "5"
                                },
                                {
                                    "SZOBA_ID": "80",
                                    "FOGLALAS_PK": "1279",
                                    "Időtartam": "5",
                                    "Elöző szoba foglalás hossza": "6"
                                },
                                {
                                    "SZOBA_ID": "137",
                                    "FOGLALAS_PK": "1280",
                                    "Időtartam": "3",
                                    "Elöző szoba foglalás hossza": "5"
                                },
                                {
                                    "SZOBA_ID": "78",
                                    "FOGLALAS_PK": "1281",
                                    "Időtartam": "3",
                                    "Elöző szoba foglalás hossza": "3"
                                },
                                {
                                    "SZOBA_ID": "123",
                                    "FOGLALAS_PK": "1282",
                                    "Időtartam": "6",
                                    "Elöző szoba foglalás hossza": "3"
                                },
                                {
                                    "SZOBA_ID": "138",
                                    "FOGLALAS_PK": "1283",
                                    "Időtartam": "2",
                                    "Elöző szoba foglalás hossza": "6"
                                },
                                {
                                    "SZOBA_ID": "164",
                                    "FOGLALAS_PK": "1284",
                                    "Időtartam": "4",
                                    "Elöző szoba foglalás hossza": "2"
                                },
                                {
                                    "SZOBA_ID": "58",
                                    "FOGLALAS_PK": "1285",
                                    "Időtartam": "7",
                                    "Elöző szoba foglalás hossza": "4"
                                },
                                {
                                    "SZOBA_ID": "127",
                                    "FOGLALAS_PK": "1286",
                                    "Időtartam": "1",
                                    "Elöző szoba foglalás hossza": "7"
                                },
                                {
                                    "SZOBA_ID": "22",
                                    "FOGLALAS_PK": "1287",
                                    "Időtartam": "3",
                                    "Elöző szoba foglalás hossza": "1"
                                },
                                {
                                    "SZOBA_ID": "59",
                                    "FOGLALAS_PK": "1288",
                                    "Időtartam": "3",
                                    "Elöző szoba foglalás hossza": "3"
                                },
                                {
                                    "SZOBA_ID": "135",
                                    "FOGLALAS_PK": "1289",
                                    "Időtartam": "3",
                                    "Elöző szoba foglalás hossza": "3"
                                },
                                {
                                    "SZOBA_ID": "128",
                                    "FOGLALAS_PK": "1290",
                                    "Időtartam": "1",
                                    "Elöző szoba foglalás hossza": "3"
                                },
                                {
                                    "SZOBA_ID": "46",
                                    "FOGLALAS_PK": "1291",
                                    "Időtartam": "3",
                                    "Elöző szoba foglalás hossza": "1"
                                },
                                {
                                    "SZOBA_ID": "164",
                                    "FOGLALAS_PK": "1292",
                                    "Időtartam": "2",
                                    "Elöző szoba foglalás hossza": "3"
                                },
                                {
                                    "SZOBA_ID": "58",
                                    "FOGLALAS_PK": "1293",
                                    "Időtartam": "3",
                                    "Elöző szoba foglalás hossza": "2"
                                },
                                {
                                    "SZOBA_ID": "138",
                                    "FOGLALAS_PK": "1294",
                                    "Időtartam": "5",
                                    "Elöző szoba foglalás hossza": "3"
                                },
                                {
                                    "SZOBA_ID": "44",
                                    "FOGLALAS_PK": "1295",
                                    "Időtartam": "2",
                                    "Elöző szoba foglalás hossza": "5"
                                },
                                {
                                    "SZOBA_ID": "111",
                                    "FOGLALAS_PK": "1296",
                                    "Időtartam": "3",
                                    "Elöző szoba foglalás hossza": "2"
                                },
                                {
                                    "SZOBA_ID": "144",
                                    "FOGLALAS_PK": "1297",
                                    "Időtartam": "1",
                                    "Elöző szoba foglalás hossza": "3"
                                },
                                {
                                    "SZOBA_ID": "109",
                                    "FOGLALAS_PK": "1298",
                                    "Időtartam": "4",
                                    "Elöző szoba foglalás hossza": "1"
                                },
                                {
                                    "SZOBA_ID": "90",
                                    "FOGLALAS_PK": "1299",
                                    "Időtartam": "6",
                                    "Elöző szoba foglalás hossza": "4"
                                },
                                {
                                    "SZOBA_ID": "88",
                                    "FOGLALAS_PK": "1300",
                                    "Időtartam": "3",
                                    "Elöző szoba foglalás hossza": "6"
                                },
                                {
                                    "SZOBA_ID": "132",
                                    "FOGLALAS_PK": "1301",
                                    "Időtartam": "2",
                                    "Elöző szoba foglalás hossza": "3"
                                },
                                {
                                    "SZOBA_ID": "191",
                                    "FOGLALAS_PK": "1302",
                                    "Időtartam": "1",
                                    "Elöző szoba foglalás hossza": "2"
                                },
                                {
                                    "SZOBA_ID": "45",
                                    "FOGLALAS_PK": "1303",
                                    "Időtartam": "2",
                                    "Elöző szoba foglalás hossza": "1"
                                },
                                {
                                    "SZOBA_ID": "197",
                                    "FOGLALAS_PK": "1304",
                                    "Időtartam": "7",
                                    "Elöző szoba foglalás hossza": "2"
                                },
                                {
                                    "SZOBA_ID": "94",
                                    "FOGLALAS_PK": "1305",
                                    "Időtartam": "2",
                                    "Elöző szoba foglalás hossza": "7"
                                },
                                {
                                    "SZOBA_ID": "133",
                                    "FOGLALAS_PK": "1306",
                                    "Időtartam": "3",
                                    "Elöző szoba foglalás hossza": "2"
                                },
                                {
                                    "SZOBA_ID": "58",
                                    "FOGLALAS_PK": "1307",
                                    "Időtartam": "6",
                                    "Elöző szoba foglalás hossza": "3"
                                },
                                {
                                    "SZOBA_ID": "182",
                                    "FOGLALAS_PK": "1308",
                                    "Időtartam": "1",
                                    "Elöző szoba foglalás hossza": "6"
                                },
                                {
                                    "SZOBA_ID": "42",
                                    "FOGLALAS_PK": "1309",
                                    "Időtartam": "2",
                                    "Elöző szoba foglalás hossza": "1"
                                },
                                {
                                    "SZOBA_ID": "155",
                                    "FOGLALAS_PK": "1310",
                                    "Időtartam": "1",
                                    "Elöző szoba foglalás hossza": "2"
                                },
                                {
                                    "SZOBA_ID": "2",
                                    "FOGLALAS_PK": "1311",
                                    "Időtartam": "7",
                                    "Elöző szoba foglalás hossza": "1"
                                },
                                {
                                    "SZOBA_ID": "94",
                                    "FOGLALAS_PK": "1312",
                                    "Időtartam": "3",
                                    "Elöző szoba foglalás hossza": "7"
                                },
                                {
                                    "SZOBA_ID": "143",
                                    "FOGLALAS_PK": "1313",
                                    "Időtartam": "4",
                                    "Elöző szoba foglalás hossza": "3"
                                },
                                {
                                    "SZOBA_ID": "196",
                                    "FOGLALAS_PK": "1314",
                                    "Időtartam": "5",
                                    "Elöző szoba foglalás hossza": "4"
                                },
                                {
                                    "SZOBA_ID": "100",
                                    "FOGLALAS_PK": "1315",
                                    "Időtartam": "5",
                                    "Elöző szoba foglalás hossza": "5"
                                },
                                {
                                    "SZOBA_ID": "17",
                                    "FOGLALAS_PK": "1316",
                                    "Időtartam": "5",
                                    "Elöző szoba foglalás hossza": "5"
                                },
                                {
                                    "SZOBA_ID": "182",
                                    "FOGLALAS_PK": "1317",
                                    "Időtartam": "3",
                                    "Elöző szoba foglalás hossza": "5"
                                },
                                {
                                    "SZOBA_ID": "72",
                                    "FOGLALAS_PK": "1318",
                                    "Időtartam": "2",
                                    "Elöző szoba foglalás hossza": "3"
                                },
                                {
                                    "SZOBA_ID": "10",
                                    "FOGLALAS_PK": "1319",
                                    "Időtartam": "6",
                                    "Elöző szoba foglalás hossza": "2"
                                },
                                {
                                    "SZOBA_ID": "85",
                                    "FOGLALAS_PK": "1320",
                                    "Időtartam": "1",
                                    "Elöző szoba foglalás hossza": "6"
                                },
                                {
                                    "SZOBA_ID": "33",
                                    "FOGLALAS_PK": "1321",
                                    "Időtartam": "4",
                                    "Elöző szoba foglalás hossza": "1"
                                },
                                {
                                    "SZOBA_ID": "58",
                                    "FOGLALAS_PK": "1322",
                                    "Időtartam": "3",
                                    "Elöző szoba foglalás hossza": "4"
                                },
                                {
                                    "SZOBA_ID": "191",
                                    "FOGLALAS_PK": "1323",
                                    "Időtartam": "7",
                                    "Elöző szoba foglalás hossza": "3"
                                },
                                {
                                    "SZOBA_ID": "68",
                                    "FOGLALAS_PK": "1324",
                                    "Időtartam": "4",
                                    "Elöző szoba foglalás hossza": "7"
                                },
                                {
                                    "SZOBA_ID": "70",
                                    "FOGLALAS_PK": "1325",
                                    "Időtartam": "7",
                                    "Elöző szoba foglalás hossza": "4"
                                },
                                {
                                    "SZOBA_ID": "182",
                                    "FOGLALAS_PK": "1326",
                                    "Időtartam": "4",
                                    "Elöző szoba foglalás hossza": "7"
                                },
                                {
                                    "SZOBA_ID": "55",
                                    "FOGLALAS_PK": "1327",
                                    "Időtartam": "6",
                                    "Elöző szoba foglalás hossza": "4"
                                },
                                {
                                    "SZOBA_ID": "54",
                                    "FOGLALAS_PK": "1328",
                                    "Időtartam": "4",
                                    "Elöző szoba foglalás hossza": "6"
                                },
                                {
                                    "SZOBA_ID": "171",
                                    "FOGLALAS_PK": "1329",
                                    "Időtartam": "5",
                                    "Elöző szoba foglalás hossza": "4"
                                },
                                {
                                    "SZOBA_ID": "124",
                                    "FOGLALAS_PK": "1330",
                                    "Időtartam": "7",
                                    "Elöző szoba foglalás hossza": "5"
                                },
                                {
                                    "SZOBA_ID": "73",
                                    "FOGLALAS_PK": "1331",
                                    "Időtartam": "4",
                                    "Elöző szoba foglalás hossza": "7"
                                },
                                {
                                    "SZOBA_ID": "101",
                                    "FOGLALAS_PK": "1332",
                                    "Időtartam": "6",
                                    "Elöző szoba foglalás hossza": "4"
                                },
                                {
                                    "SZOBA_ID": "70",
                                    "FOGLALAS_PK": "1333",
                                    "Időtartam": "6",
                                    "Elöző szoba foglalás hossza": "6"
                                },
                                {
                                    "SZOBA_ID": "1",
                                    "FOGLALAS_PK": "1334",
                                    "Időtartam": "4",
                                    "Elöző szoba foglalás hossza": "6"
                                },
                                {
                                    "SZOBA_ID": "37",
                                    "FOGLALAS_PK": "1335",
                                    "Időtartam": "7",
                                    "Elöző szoba foglalás hossza": "4"
                                },
                                {
                                    "SZOBA_ID": "172",
                                    "FOGLALAS_PK": "1336",
                                    "Időtartam": "5",
                                    "Elöző szoba foglalás hossza": "7"
                                },
                                {
                                    "SZOBA_ID": "122",
                                    "FOGLALAS_PK": "1337",
                                    "Időtartam": "2",
                                    "Elöző szoba foglalás hossza": "5"
                                },
                                {
                                    "SZOBA_ID": "145",
                                    "FOGLALAS_PK": "1338",
                                    "Időtartam": "2",
                                    "Elöző szoba foglalás hossza": "2"
                                },
                                {
                                    "SZOBA_ID": "120",
                                    "FOGLALAS_PK": "1339",
                                    "Időtartam": "6",
                                    "Elöző szoba foglalás hossza": "2"
                                },
                                {
                                    "SZOBA_ID": "196",
                                    "FOGLALAS_PK": "1340",
                                    "Időtartam": "5",
                                    "Elöző szoba foglalás hossza": "6"
                                },
                                {
                                    "SZOBA_ID": "82",
                                    "FOGLALAS_PK": "1341",
                                    "Időtartam": "2",
                                    "Elöző szoba foglalás hossza": "5"
                                },
                                {
                                    "SZOBA_ID": "170",
                                    "FOGLALAS_PK": "1342",
                                    "Időtartam": "6",
                                    "Elöző szoba foglalás hossza": "2"
                                },
                                {
                                    "SZOBA_ID": "102",
                                    "FOGLALAS_PK": "1343",
                                    "Időtartam": "2",
                                    "Elöző szoba foglalás hossza": "6"
                                },
                                {
                                    "SZOBA_ID": "33",
                                    "FOGLALAS_PK": "1344",
                                    "Időtartam": "5",
                                    "Elöző szoba foglalás hossza": "2"
                                },
                                {
                                    "SZOBA_ID": "79",
                                    "FOGLALAS_PK": "1345",
                                    "Időtartam": "3",
                                    "Elöző szoba foglalás hossza": "5"
                                },
                                {
                                    "SZOBA_ID": "181",
                                    "FOGLALAS_PK": "1346",
                                    "Időtartam": "6",
                                    "Elöző szoba foglalás hossza": "3"
                                },
                                {
                                    "SZOBA_ID": "13",
                                    "FOGLALAS_PK": "1347",
                                    "Időtartam": "3",
                                    "Elöző szoba foglalás hossza": "6"
                                },
                                {
                                    "SZOBA_ID": "57",
                                    "FOGLALAS_PK": "1348",
                                    "Időtartam": "1",
                                    "Elöző szoba foglalás hossza": "3"
                                },
                                {
                                    "SZOBA_ID": "87",
                                    "FOGLALAS_PK": "1349",
                                    "Időtartam": "5",
                                    "Elöző szoba foglalás hossza": "1"
                                },
                                {
                                    "SZOBA_ID": "173",
                                    "FOGLALAS_PK": "1350",
                                    "Időtartam": "3",
                                    "Elöző szoba foglalás hossza": "5"
                                },
                                {
                                    "SZOBA_ID": "38",
                                    "FOGLALAS_PK": "1351",
                                    "Időtartam": "4",
                                    "Elöző szoba foglalás hossza": "3"
                                },
                                {
                                    "SZOBA_ID": "115",
                                    "FOGLALAS_PK": "1352",
                                    "Időtartam": "3",
                                    "Elöző szoba foglalás hossza": "4"
                                },
                                {
                                    "SZOBA_ID": "111",
                                    "FOGLALAS_PK": "1353",
                                    "Időtartam": "5",
                                    "Elöző szoba foglalás hossza": "3"
                                },
                                {
                                    "SZOBA_ID": "107",
                                    "FOGLALAS_PK": "1354",
                                    "Időtartam": "1",
                                    "Elöző szoba foglalás hossza": "5"
                                },
                                {
                                    "SZOBA_ID": "93",
                                    "FOGLALAS_PK": "1355",
                                    "Időtartam": "2",
                                    "Elöző szoba foglalás hossza": "1"
                                },
                                {
                                    "SZOBA_ID": "169",
                                    "FOGLALAS_PK": "1356",
                                    "Időtartam": "4",
                                    "Elöző szoba foglalás hossza": "2"
                                },
                                {
                                    "SZOBA_ID": "140",
                                    "FOGLALAS_PK": "1357",
                                    "Időtartam": "4",
                                    "Elöző szoba foglalás hossza": "4"
                                },
                                {
                                    "SZOBA_ID": "138",
                                    "FOGLALAS_PK": "1358",
                                    "Időtartam": "7",
                                    "Elöző szoba foglalás hossza": "4"
                                },
                                {
                                    "SZOBA_ID": "88",
                                    "FOGLALAS_PK": "1359",
                                    "Időtartam": "2",
                                    "Elöző szoba foglalás hossza": "7"
                                },
                                {
                                    "SZOBA_ID": "129",
                                    "FOGLALAS_PK": "1360",
                                    "Időtartam": "6",
                                    "Elöző szoba foglalás hossza": "2"
                                },
                                {
                                    "SZOBA_ID": "140",
                                    "FOGLALAS_PK": "1361",
                                    "Időtartam": "3",
                                    "Elöző szoba foglalás hossza": "6"
                                },
                                {
                                    "SZOBA_ID": "25",
                                    "FOGLALAS_PK": "1362",
                                    "Időtartam": "2",
                                    "Elöző szoba foglalás hossza": "3"
                                },
                                {
                                    "SZOBA_ID": "133",
                                    "FOGLALAS_PK": "1363",
                                    "Időtartam": "5",
                                    "Elöző szoba foglalás hossza": "2"
                                },
                                {
                                    "SZOBA_ID": "126",
                                    "FOGLALAS_PK": "1364",
                                    "Időtartam": "6",
                                    "Elöző szoba foglalás hossza": "5"
                                },
                                {
                                    "SZOBA_ID": "70",
                                    "FOGLALAS_PK": "1365",
                                    "Időtartam": "3",
                                    "Elöző szoba foglalás hossza": "6"
                                },
                                {
                                    "SZOBA_ID": "81",
                                    "FOGLALAS_PK": "1366",
                                    "Időtartam": "5",
                                    "Elöző szoba foglalás hossza": "3"
                                },
                                {
                                    "SZOBA_ID": "80",
                                    "FOGLALAS_PK": "1367",
                                    "Időtartam": "3",
                                    "Elöző szoba foglalás hossza": "5"
                                },
                                {
                                    "SZOBA_ID": "94",
                                    "FOGLALAS_PK": "1368",
                                    "Időtartam": "1",
                                    "Elöző szoba foglalás hossza": "3"
                                },
                                {
                                    "SZOBA_ID": "142",
                                    "FOGLALAS_PK": "1369",
                                    "Időtartam": "6",
                                    "Elöző szoba foglalás hossza": "1"
                                },
                                {
                                    "SZOBA_ID": "138",
                                    "FOGLALAS_PK": "1370",
                                    "Időtartam": "5",
                                    "Elöző szoba foglalás hossza": "6"
                                },
                                {
                                    "SZOBA_ID": "140",
                                    "FOGLALAS_PK": "1371",
                                    "Időtartam": "1",
                                    "Elöző szoba foglalás hossza": "5"
                                },
                                {
                                    "SZOBA_ID": "106",
                                    "FOGLALAS_PK": "1372",
                                    "Időtartam": "7",
                                    "Elöző szoba foglalás hossza": "1"
                                },
                                {
                                    "SZOBA_ID": "121",
                                    "FOGLALAS_PK": "1373",
                                    "Időtartam": "5",
                                    "Elöző szoba foglalás hossza": "7"
                                },
                                {
                                    "SZOBA_ID": "118",
                                    "FOGLALAS_PK": "1374",
                                    "Időtartam": "5",
                                    "Elöző szoba foglalás hossza": "5"
                                },
                                {
                                    "SZOBA_ID": "165",
                                    "FOGLALAS_PK": "1375",
                                    "Időtartam": "4",
                                    "Elöző szoba foglalás hossza": "5"
                                },
                                {
                                    "SZOBA_ID": "84",
                                    "FOGLALAS_PK": "1376",
                                    "Időtartam": "5",
                                    "Elöző szoba foglalás hossza": "4"
                                },
                                {
                                    "SZOBA_ID": "27",
                                    "FOGLALAS_PK": "1377",
                                    "Időtartam": "1",
                                    "Elöző szoba foglalás hossza": "5"
                                },
                                {
                                    "SZOBA_ID": "96",
                                    "FOGLALAS_PK": "1378",
                                    "Időtartam": "3",
                                    "Elöző szoba foglalás hossza": "1"
                                },
                                {
                                    "SZOBA_ID": "83",
                                    "FOGLALAS_PK": "1379",
                                    "Időtartam": "7",
                                    "Elöző szoba foglalás hossza": "3"
                                },
                                {
                                    "SZOBA_ID": "39",
                                    "FOGLALAS_PK": "1380",
                                    "Időtartam": "5",
                                    "Elöző szoba foglalás hossza": "7"
                                },
                                {
                                    "SZOBA_ID": "33",
                                    "FOGLALAS_PK": "1381",
                                    "Időtartam": "6",
                                    "Elöző szoba foglalás hossza": "5"
                                },
                                {
                                    "SZOBA_ID": "67",
                                    "FOGLALAS_PK": "1382",
                                    "Időtartam": "1",
                                    "Elöző szoba foglalás hossza": "6"
                                },
                                {
                                    "SZOBA_ID": "176",
                                    "FOGLALAS_PK": "1383",
                                    "Időtartam": "4",
                                    "Elöző szoba foglalás hossza": "1"
                                },
                                {
                                    "SZOBA_ID": "84",
                                    "FOGLALAS_PK": "1384",
                                    "Időtartam": "7",
                                    "Elöző szoba foglalás hossza": "4"
                                },
                                {
                                    "SZOBA_ID": "122",
                                    "FOGLALAS_PK": "1385",
                                    "Időtartam": "5",
                                    "Elöző szoba foglalás hossza": "7"
                                },
                                {
                                    "SZOBA_ID": "55",
                                    "FOGLALAS_PK": "1386",
                                    "Időtartam": "2",
                                    "Elöző szoba foglalás hossza": "5"
                                },
                                {
                                    "SZOBA_ID": "197",
                                    "FOGLALAS_PK": "1387",
                                    "Időtartam": "3",
                                    "Elöző szoba foglalás hossza": "2"
                                },
                                {
                                    "SZOBA_ID": "26",
                                    "FOGLALAS_PK": "1388",
                                    "Időtartam": "3",
                                    "Elöző szoba foglalás hossza": "3"
                                },
                                {
                                    "SZOBA_ID": "57",
                                    "FOGLALAS_PK": "1389",
                                    "Időtartam": "1",
                                    "Elöző szoba foglalás hossza": "3"
                                },
                                {
                                    "SZOBA_ID": "188",
                                    "FOGLALAS_PK": "1390",
                                    "Időtartam": "5",
                                    "Elöző szoba foglalás hossza": "1"
                                },
                                {
                                    "SZOBA_ID": "93",
                                    "FOGLALAS_PK": "1391",
                                    "Időtartam": "4",
                                    "Elöző szoba foglalás hossza": "5"
                                },
                                {
                                    "SZOBA_ID": "108",
                                    "FOGLALAS_PK": "1392",
                                    "Időtartam": "6",
                                    "Elöző szoba foglalás hossza": "4"
                                },
                                {
                                    "SZOBA_ID": "121",
                                    "FOGLALAS_PK": "1393",
                                    "Időtartam": "6",
                                    "Elöző szoba foglalás hossza": "6"
                                },
                                {
                                    "SZOBA_ID": "143",
                                    "FOGLALAS_PK": "1394",
                                    "Időtartam": "3",
                                    "Elöző szoba foglalás hossza": "6"
                                },
                                {
                                    "SZOBA_ID": "97",
                                    "FOGLALAS_PK": "1395",
                                    "Időtartam": "1",
                                    "Elöző szoba foglalás hossza": "3"
                                },
                                {
                                    "SZOBA_ID": "72",
                                    "FOGLALAS_PK": "1396",
                                    "Időtartam": "3",
                                    "Elöző szoba foglalás hossza": "1"
                                },
                                {
                                    "SZOBA_ID": "91",
                                    "FOGLALAS_PK": "1397",
                                    "Időtartam": "4",
                                    "Elöző szoba foglalás hossza": "3"
                                },
                                {
                                    "SZOBA_ID": "103",
                                    "FOGLALAS_PK": "1398",
                                    "Időtartam": "1",
                                    "Elöző szoba foglalás hossza": "4"
                                },
                                {
                                    "SZOBA_ID": "89",
                                    "FOGLALAS_PK": "1399",
                                    "Időtartam": "2",
                                    "Elöző szoba foglalás hossza": "1"
                                },
                                {
                                    "SZOBA_ID": "162",
                                    "FOGLALAS_PK": "1400",
                                    "Időtartam": "1",
                                    "Elöző szoba foglalás hossza": "2"
                                },
                                {
                                    "SZOBA_ID": "141",
                                    "FOGLALAS_PK": "1401",
                                    "Időtartam": "6",
                                    "Elöző szoba foglalás hossza": "1"
                                },
                                {
                                    "SZOBA_ID": "98",
                                    "FOGLALAS_PK": "1402",
                                    "Időtartam": "2",
                                    "Elöző szoba foglalás hossza": "6"
                                },
                                {
                                    "SZOBA_ID": "124",
                                    "FOGLALAS_PK": "1403",
                                    "Időtartam": "6",
                                    "Elöző szoba foglalás hossza": "2"
                                },
                                {
                                    "SZOBA_ID": "187",
                                    "FOGLALAS_PK": "1404",
                                    "Időtartam": "2",
                                    "Elöző szoba foglalás hossza": "6"
                                },
                                {
                                    "SZOBA_ID": "90",
                                    "FOGLALAS_PK": "1405",
                                    "Időtartam": "5",
                                    "Elöző szoba foglalás hossza": "2"
                                },
                                {
                                    "SZOBA_ID": "82",
                                    "FOGLALAS_PK": "1406",
                                    "Időtartam": "1",
                                    "Elöző szoba foglalás hossza": "5"
                                },
                                {
                                    "SZOBA_ID": "35",
                                    "FOGLALAS_PK": "1480",
                                    "Időtartam": "37",
                                    "Elöző szoba foglalás hossza": "1"
                                },
                                {
                                    "SZOBA_ID": "175",
                                    "FOGLALAS_PK": "1407",
                                    "Időtartam": "7",
                                    "Elöző szoba foglalás hossza": "37"
                                },
                                {
                                    "SZOBA_ID": "99",
                                    "FOGLALAS_PK": "1408",
                                    "Időtartam": "1",
                                    "Elöző szoba foglalás hossza": "7"
                                },
                                {
                                    "SZOBA_ID": "133",
                                    "FOGLALAS_PK": "1409",
                                    "Időtartam": "1",
                                    "Elöző szoba foglalás hossza": "1"
                                },
                                {
                                    "SZOBA_ID": "182",
                                    "FOGLALAS_PK": "1410",
                                    "Időtartam": "4",
                                    "Elöző szoba foglalás hossza": "1"
                                },
                                {
                                    "SZOBA_ID": "35",
                                    "FOGLALAS_PK": "1411",
                                    "Időtartam": "1",
                                    "Elöző szoba foglalás hossza": "4"
                                },
                                {
                                    "SZOBA_ID": "75",
                                    "FOGLALAS_PK": "1412",
                                    "Időtartam": "2",
                                    "Elöző szoba foglalás hossza": "1"
                                },
                                {
                                    "SZOBA_ID": "119",
                                    "FOGLALAS_PK": "1413",
                                    "Időtartam": "3",
                                    "Elöző szoba foglalás hossza": "2"
                                },
                                {
                                    "SZOBA_ID": "167",
                                    "FOGLALAS_PK": "1414",
                                    "Időtartam": "3",
                                    "Elöző szoba foglalás hossza": "3"
                                },
                                {
                                    "SZOBA_ID": "24",
                                    "FOGLALAS_PK": "1415",
                                    "Időtartam": "3",
                                    "Elöző szoba foglalás hossza": "3"
                                },
                                {
                                    "SZOBA_ID": "38",
                                    "FOGLALAS_PK": "1416",
                                    "Időtartam": "5",
                                    "Elöző szoba foglalás hossza": "3"
                                },
                                {
                                    "SZOBA_ID": "97",
                                    "FOGLALAS_PK": "1417",
                                    "Időtartam": "7",
                                    "Elöző szoba foglalás hossza": "5"
                                },
                                {
                                    "SZOBA_ID": "15",
                                    "FOGLALAS_PK": "1418",
                                    "Időtartam": "4",
                                    "Elöző szoba foglalás hossza": "7"
                                },
                                {
                                    "SZOBA_ID": "124",
                                    "FOGLALAS_PK": "1419",
                                    "Időtartam": "3",
                                    "Elöző szoba foglalás hossza": "4"
                                },
                                {
                                    "SZOBA_ID": "198",
                                    "FOGLALAS_PK": "1420",
                                    "Időtartam": "5",
                                    "Elöző szoba foglalás hossza": "3"
                                },
                                {
                                    "SZOBA_ID": "172",
                                    "FOGLALAS_PK": "1421",
                                    "Időtartam": "5",
                                    "Elöző szoba foglalás hossza": "5"
                                },
                                {
                                    "SZOBA_ID": "182",
                                    "FOGLALAS_PK": "1422",
                                    "Időtartam": "3",
                                    "Elöző szoba foglalás hossza": "5"
                                },
                                {
                                    "SZOBA_ID": "9",
                                    "FOGLALAS_PK": "1423",
                                    "Időtartam": "3",
                                    "Elöző szoba foglalás hossza": "3"
                                },
                                {
                                    "SZOBA_ID": "110",
                                    "FOGLALAS_PK": "1424",
                                    "Időtartam": "1",
                                    "Elöző szoba foglalás hossza": "3"
                                },
                                {
                                    "SZOBA_ID": "44",
                                    "FOGLALAS_PK": "1425",
                                    "Időtartam": "2",
                                    "Elöző szoba foglalás hossza": "1"
                                },
                                {
                                    "SZOBA_ID": "62",
                                    "FOGLALAS_PK": "1426",
                                    "Időtartam": "4",
                                    "Elöző szoba foglalás hossza": "2"
                                },
                                {
                                    "SZOBA_ID": "169",
                                    "FOGLALAS_PK": "1427",
                                    "Időtartam": "1",
                                    "Elöző szoba foglalás hossza": "4"
                                },
                                {
                                    "SZOBA_ID": "126",
                                    "FOGLALAS_PK": "1428",
                                    "Időtartam": "7",
                                    "Elöző szoba foglalás hossza": "1"
                                },
                                {
                                    "SZOBA_ID": "173",
                                    "FOGLALAS_PK": "1429",
                                    "Időtartam": "4",
                                    "Elöző szoba foglalás hossza": "7"
                                },
                                {
                                    "SZOBA_ID": "12",
                                    "FOGLALAS_PK": "1430",
                                    "Időtartam": "2",
                                    "Elöző szoba foglalás hossza": "4"
                                },
                                {
                                    "SZOBA_ID": "52",
                                    "FOGLALAS_PK": "1431",
                                    "Időtartam": "5",
                                    "Elöző szoba foglalás hossza": "2"
                                },
                                {
                                    "SZOBA_ID": "150",
                                    "FOGLALAS_PK": "1432",
                                    "Időtartam": "3",
                                    "Elöző szoba foglalás hossza": "5"
                                },
                                {
                                    "SZOBA_ID": "139",
                                    "FOGLALAS_PK": "1433",
                                    "Időtartam": "6",
                                    "Elöző szoba foglalás hossza": "3"
                                },
                                {
                                    "SZOBA_ID": "3",
                                    "FOGLALAS_PK": "1434",
                                    "Időtartam": "5",
                                    "Elöző szoba foglalás hossza": "6"
                                },
                                {
                                    "SZOBA_ID": "39",
                                    "FOGLALAS_PK": "1435",
                                    "Időtartam": "7",
                                    "Elöző szoba foglalás hossza": "5"
                                },
                                {
                                    "SZOBA_ID": "35",
                                    "FOGLALAS_PK": "1436",
                                    "Időtartam": "1",
                                    "Elöző szoba foglalás hossza": "7"
                                },
                                {
                                    "SZOBA_ID": "183",
                                    "FOGLALAS_PK": "1437",
                                    "Időtartam": "4",
                                    "Elöző szoba foglalás hossza": "1"
                                },
                                {
                                    "SZOBA_ID": "96",
                                    "FOGLALAS_PK": "1438",
                                    "Időtartam": "2",
                                    "Elöző szoba foglalás hossza": "4"
                                },
                                {
                                    "SZOBA_ID": "77",
                                    "FOGLALAS_PK": "1439",
                                    "Időtartam": "6",
                                    "Elöző szoba foglalás hossza": "2"
                                },
                                {
                                    "SZOBA_ID": "122",
                                    "FOGLALAS_PK": "1440",
                                    "Időtartam": "3",
                                    "Elöző szoba foglalás hossza": "6"
                                },
                                {
                                    "SZOBA_ID": "185",
                                    "FOGLALAS_PK": "1441",
                                    "Időtartam": "7",
                                    "Elöző szoba foglalás hossza": "3"
                                },
                                {
                                    "SZOBA_ID": "15",
                                    "FOGLALAS_PK": "1442",
                                    "Időtartam": "3",
                                    "Elöző szoba foglalás hossza": "7"
                                },
                                {
                                    "SZOBA_ID": "81",
                                    "FOGLALAS_PK": "1443",
                                    "Időtartam": "7",
                                    "Elöző szoba foglalás hossza": "3"
                                },
                                {
                                    "SZOBA_ID": "42",
                                    "FOGLALAS_PK": "1444",
                                    "Időtartam": "6",
                                    "Elöző szoba foglalás hossza": "7"
                                },
                                {
                                    "SZOBA_ID": "129",
                                    "FOGLALAS_PK": "1445",
                                    "Időtartam": "7",
                                    "Elöző szoba foglalás hossza": "6"
                                },
                                {
                                    "SZOBA_ID": "64",
                                    "FOGLALAS_PK": "1446",
                                    "Időtartam": "6",
                                    "Elöző szoba foglalás hossza": "7"
                                },
                                {
                                    "SZOBA_ID": "79",
                                    "FOGLALAS_PK": "1447",
                                    "Időtartam": "4",
                                    "Elöző szoba foglalás hossza": "6"
                                },
                                {
                                    "SZOBA_ID": "143",
                                    "FOGLALAS_PK": "1448",
                                    "Időtartam": "6",
                                    "Elöző szoba foglalás hossza": "4"
                                },
                                {
                                    "SZOBA_ID": "189",
                                    "FOGLALAS_PK": "1449",
                                    "Időtartam": "2",
                                    "Elöző szoba foglalás hossza": "6"
                                },
                                {
                                    "SZOBA_ID": "139",
                                    "FOGLALAS_PK": "1450",
                                    "Időtartam": "7",
                                    "Elöző szoba foglalás hossza": "2"
                                },
                                {
                                    "SZOBA_ID": "58",
                                    "FOGLALAS_PK": "1451",
                                    "Időtartam": "6",
                                    "Elöző szoba foglalás hossza": "7"
                                },
                                {
                                    "SZOBA_ID": "107",
                                    "FOGLALAS_PK": "1452",
                                    "Időtartam": "6",
                                    "Elöző szoba foglalás hossza": "6"
                                },
                                {
                                    "SZOBA_ID": "86",
                                    "FOGLALAS_PK": "1453",
                                    "Időtartam": "1",
                                    "Elöző szoba foglalás hossza": "6"
                                },
                                {
                                    "SZOBA_ID": "39",
                                    "FOGLALAS_PK": "1454",
                                    "Időtartam": "1",
                                    "Elöző szoba foglalás hossza": "1"
                                },
                                {
                                    "SZOBA_ID": "116",
                                    "FOGLALAS_PK": "1455",
                                    "Időtartam": "2",
                                    "Elöző szoba foglalás hossza": "1"
                                },
                                {
                                    "SZOBA_ID": "87",
                                    "FOGLALAS_PK": "1456",
                                    "Időtartam": "5",
                                    "Elöző szoba foglalás hossza": "2"
                                },
                                {
                                    "SZOBA_ID": "70",
                                    "FOGLALAS_PK": "1457",
                                    "Időtartam": "7",
                                    "Elöző szoba foglalás hossza": "5"
                                },
                                {
                                    "SZOBA_ID": "75",
                                    "FOGLALAS_PK": "1458",
                                    "Időtartam": "1",
                                    "Elöző szoba foglalás hossza": "7"
                                },
                                {
                                    "SZOBA_ID": "28",
                                    "FOGLALAS_PK": "1459",
                                    "Időtartam": "2",
                                    "Elöző szoba foglalás hossza": "1"
                                },
                                {
                                    "SZOBA_ID": "153",
                                    "FOGLALAS_PK": "1460",
                                    "Időtartam": "3",
                                    "Elöző szoba foglalás hossza": "2"
                                },
                                {
                                    "SZOBA_ID": "77",
                                    "FOGLALAS_PK": "1461",
                                    "Időtartam": "4",
                                    "Elöző szoba foglalás hossza": "3"
                                },
                                {
                                    "SZOBA_ID": "156",
                                    "FOGLALAS_PK": "1462",
                                    "Időtartam": "7",
                                    "Elöző szoba foglalás hossza": "4"
                                },
                                {
                                    "SZOBA_ID": "185",
                                    "FOGLALAS_PK": "1463",
                                    "Időtartam": "7",
                                    "Elöző szoba foglalás hossza": "7"
                                },
                                {
                                    "SZOBA_ID": "81",
                                    "FOGLALAS_PK": "1464",
                                    "Időtartam": "7",
                                    "Elöző szoba foglalás hossza": "7"
                                },
                                {
                                    "SZOBA_ID": "64",
                                    "FOGLALAS_PK": "1465",
                                    "Időtartam": "4",
                                    "Elöző szoba foglalás hossza": "7"
                                },
                                {
                                    "SZOBA_ID": "57",
                                    "FOGLALAS_PK": "1466",
                                    "Időtartam": "7",
                                    "Elöző szoba foglalás hossza": "4"
                                },
                                {
                                    "SZOBA_ID": "186",
                                    "FOGLALAS_PK": "1467",
                                    "Időtartam": "3",
                                    "Elöző szoba foglalás hossza": "7"
                                },
                                {
                                    "SZOBA_ID": "117",
                                    "FOGLALAS_PK": "1468",
                                    "Időtartam": "7",
                                    "Elöző szoba foglalás hossza": "3"
                                },
                                {
                                    "SZOBA_ID": "13",
                                    "FOGLALAS_PK": "1469",
                                    "Időtartam": "2",
                                    "Elöző szoba foglalás hossza": "7"
                                },
                                {
                                    "SZOBA_ID": "153",
                                    "FOGLALAS_PK": "1470",
                                    "Időtartam": "5",
                                    "Elöző szoba foglalás hossza": "2"
                                },
                                {
                                    "SZOBA_ID": "145",
                                    "FOGLALAS_PK": "1471",
                                    "Időtartam": "1",
                                    "Elöző szoba foglalás hossza": "5"
                                },
                                {
                                    "SZOBA_ID": "118",
                                    "FOGLALAS_PK": "1472",
                                    "Időtartam": "6",
                                    "Elöző szoba foglalás hossza": "1"
                                },
                                {
                                    "SZOBA_ID": "195",
                                    "FOGLALAS_PK": "1473",
                                    "Időtartam": "7",
                                    "Elöző szoba foglalás hossza": "6"
                                },
                                {
                                    "SZOBA_ID": "131",
                                    "FOGLALAS_PK": "1474",
                                    "Időtartam": "5",
                                    "Elöző szoba foglalás hossza": "7"
                                },
                                {
                                    "SZOBA_ID": "130",
                                    "FOGLALAS_PK": "1475",
                                    "Időtartam": "7",
                                    "Elöző szoba foglalás hossza": "5"
                                },
                                {
                                    "SZOBA_ID": "27",
                                    "FOGLALAS_PK": "1476",
                                    "Időtartam": "1",
                                    "Elöző szoba foglalás hossza": "7"
                                },
                                {
                                    "SZOBA_ID": "51",
                                    "FOGLALAS_PK": "1477",
                                    "Időtartam": "6",
                                    "Elöző szoba foglalás hossza": "1"
                                },
                                {
                                    "SZOBA_ID": "38",
                                    "FOGLALAS_PK": "1478",
                                    "Időtartam": "4",
                                    "Elöző szoba foglalás hossza": "6"
                                },
                                {
                                    "SZOBA_ID": "146",
                                    "FOGLALAS_PK": "1479",
                                    "Időtartam": "6",
                                    "Elöző szoba foglalás hossza": "4"
                                },
                                {
                                    "SZOBA_ID": "118",
                                    "FOGLALAS_PK": "1481",
                                    "Időtartam": "3",
                                    "Elöző szoba foglalás hossza": "6"
                                },
                                {
                                    "SZOBA_ID": "100",
                                    "FOGLALAS_PK": "1482",
                                    "Időtartam": "7",
                                    "Elöző szoba foglalás hossza": "3"
                                },
                                {
                                    "SZOBA_ID": "120",
                                    "FOGLALAS_PK": "1483",
                                    "Időtartam": "1",
                                    "Elöző szoba foglalás hossza": "7"
                                },
                                {
                                    "SZOBA_ID": "195",
                                    "FOGLALAS_PK": "1484",
                                    "Időtartam": "1",
                                    "Elöző szoba foglalás hossza": "1"
                                },
                                {
                                    "SZOBA_ID": "103",
                                    "FOGLALAS_PK": "1485",
                                    "Időtartam": "4",
                                    "Elöző szoba foglalás hossza": "1"
                                },
                                {
                                    "SZOBA_ID": "99",
                                    "FOGLALAS_PK": "1486",
                                    "Időtartam": "5",
                                    "Elöző szoba foglalás hossza": "4"
                                },
                                {
                                    "SZOBA_ID": "163",
                                    "FOGLALAS_PK": "1487",
                                    "Időtartam": "3",
                                    "Elöző szoba foglalás hossza": "5"
                                },
                                {
                                    "SZOBA_ID": "119",
                                    "FOGLALAS_PK": "1488",
                                    "Időtartam": "3",
                                    "Elöző szoba foglalás hossza": "3"
                                },
                                {
                                    "SZOBA_ID": "110",
                                    "FOGLALAS_PK": "1489",
                                    "Időtartam": "6",
                                    "Elöző szoba foglalás hossza": "3"
                                },
                                {
                                    "SZOBA_ID": "156",
                                    "FOGLALAS_PK": "1490",
                                    "Időtartam": "1",
                                    "Elöző szoba foglalás hossza": "6"
                                },
                                {
                                    "SZOBA_ID": "172",
                                    "FOGLALAS_PK": "1491",
                                    "Időtartam": "2",
                                    "Elöző szoba foglalás hossza": "1"
                                },
                                {
                                    "SZOBA_ID": "4",
                                    "FOGLALAS_PK": "1492",
                                    "Időtartam": "6",
                                    "Elöző szoba foglalás hossza": "2"
                                },
                                {
                                    "SZOBA_ID": "120",
                                    "FOGLALAS_PK": "1493",
                                    "Időtartam": "7",
                                    "Elöző szoba foglalás hossza": "6"
                                },
                                {
                                    "SZOBA_ID": "107",
                                    "FOGLALAS_PK": "1494",
                                    "Időtartam": "2",
                                    "Elöző szoba foglalás hossza": "7"
                                },
                                {
                                    "SZOBA_ID": "113",
                                    "FOGLALAS_PK": "1495",
                                    "Időtartam": "7",
                                    "Elöző szoba foglalás hossza": "2"
                                },
                                {
                                    "SZOBA_ID": "61",
                                    "FOGLALAS_PK": "1496",
                                    "Időtartam": "7",
                                    "Elöző szoba foglalás hossza": "7"
                                },
                                {
                                    "SZOBA_ID": "179",
                                    "FOGLALAS_PK": "1497",
                                    "Időtartam": "1",
                                    "Elöző szoba foglalás hossza": "7"
                                },
                                {
                                    "SZOBA_ID": "16",
                                    "FOGLALAS_PK": "1498",
                                    "Időtartam": "7",
                                    "Elöző szoba foglalás hossza": "1"
                                },
                                {
                                    "SZOBA_ID": "113",
                                    "FOGLALAS_PK": "1499",
                                    "Időtartam": "2",
                                    "Elöző szoba foglalás hossza": "7"
                                },
                                {
                                    "SZOBA_ID": "126",
                                    "FOGLALAS_PK": "1500",
                                    "Időtartam": "4",
                                    "Elöző szoba foglalás hossza": "2"
                                },
                                {
                                    "SZOBA_ID": "116",
                                    "FOGLALAS_PK": "1501",
                                    "Időtartam": "4",
                                    "Elöző szoba foglalás hossza": "4"
                                },
                                {
                                    "SZOBA_ID": "191",
                                    "FOGLALAS_PK": "1502",
                                    "Időtartam": "2",
                                    "Elöző szoba foglalás hossza": "4"
                                },
                                {
                                    "SZOBA_ID": "177",
                                    "FOGLALAS_PK": "1503",
                                    "Időtartam": "3",
                                    "Elöző szoba foglalás hossza": "2"
                                },
                                {
                                    "SZOBA_ID": "57",
                                    "FOGLALAS_PK": "1504",
                                    "Időtartam": "4",
                                    "Elöző szoba foglalás hossza": "3"
                                },
                                {
                                    "SZOBA_ID": "18",
                                    "FOGLALAS_PK": "1505",
                                    "Időtartam": "6",
                                    "Elöző szoba foglalás hossza": "4"
                                },
                                {
                                    "SZOBA_ID": "81",
                                    "FOGLALAS_PK": "1506",
                                    "Időtartam": "3",
                                    "Elöző szoba foglalás hossza": "6"
                                },
                                {
                                    "SZOBA_ID": "153",
                                    "FOGLALAS_PK": "1507",
                                    "Időtartam": "3",
                                    "Elöző szoba foglalás hossza": "3"
                                },
                                {
                                    "SZOBA_ID": "191",
                                    "FOGLALAS_PK": "1508",
                                    "Időtartam": "7",
                                    "Elöző szoba foglalás hossza": "3"
                                },
                                {
                                    "SZOBA_ID": "129",
                                    "FOGLALAS_PK": "1509",
                                    "Időtartam": "6",
                                    "Elöző szoba foglalás hossza": "7"
                                },
                                {
                                    "SZOBA_ID": "106",
                                    "FOGLALAS_PK": "1510",
                                    "Időtartam": "6",
                                    "Elöző szoba foglalás hossza": "6"
                                },
                                {
                                    "SZOBA_ID": "176",
                                    "FOGLALAS_PK": "1511",
                                    "Időtartam": "2",
                                    "Elöző szoba foglalás hossza": "6"
                                },
                                {
                                    "SZOBA_ID": "55",
                                    "FOGLALAS_PK": "1512",
                                    "Időtartam": "1",
                                    "Elöző szoba foglalás hossza": "2"
                                },
                                {
                                    "SZOBA_ID": "85",
                                    "FOGLALAS_PK": "1513",
                                    "Időtartam": "7",
                                    "Elöző szoba foglalás hossza": "1"
                                },
                                {
                                    "SZOBA_ID": "149",
                                    "FOGLALAS_PK": "1514",
                                    "Időtartam": "5",
                                    "Elöző szoba foglalás hossza": "7"
                                },
                                {
                                    "SZOBA_ID": "46",
                                    "FOGLALAS_PK": "1515",
                                    "Időtartam": "4",
                                    "Elöző szoba foglalás hossza": "5"
                                },
                                {
                                    "SZOBA_ID": "101",
                                    "FOGLALAS_PK": "1516",
                                    "Időtartam": "4",
                                    "Elöző szoba foglalás hossza": "4"
                                },
                                {
                                    "SZOBA_ID": "190",
                                    "FOGLALAS_PK": "1517",
                                    "Időtartam": "5",
                                    "Elöző szoba foglalás hossza": "4"
                                },
                                {
                                    "SZOBA_ID": "94",
                                    "FOGLALAS_PK": "1518",
                                    "Időtartam": "2",
                                    "Elöző szoba foglalás hossza": "5"
                                },
                                {
                                    "SZOBA_ID": "132",
                                    "FOGLALAS_PK": "1519",
                                    "Időtartam": "2",
                                    "Elöző szoba foglalás hossza": "2"
                                },
                                {
                                    "SZOBA_ID": "55",
                                    "FOGLALAS_PK": "1520",
                                    "Időtartam": "1",
                                    "Elöző szoba foglalás hossza": "2"
                                },
                                {
                                    "SZOBA_ID": "89",
                                    "FOGLALAS_PK": "1521",
                                    "Időtartam": "7",
                                    "Elöző szoba foglalás hossza": "1"
                                },
                                {
                                    "SZOBA_ID": "104",
                                    "FOGLALAS_PK": "1522",
                                    "Időtartam": "2",
                                    "Elöző szoba foglalás hossza": "7"
                                },
                                {
                                    "SZOBA_ID": "11",
                                    "FOGLALAS_PK": "1523",
                                    "Időtartam": "1",
                                    "Elöző szoba foglalás hossza": "2"
                                },
                                {
                                    "SZOBA_ID": "43",
                                    "FOGLALAS_PK": "1524",
                                    "Időtartam": "1",
                                    "Elöző szoba foglalás hossza": "1"
                                },
                                {
                                    "SZOBA_ID": "105",
                                    "FOGLALAS_PK": "1525",
                                    "Időtartam": "5",
                                    "Elöző szoba foglalás hossza": "1"
                                },
                                {
                                    "SZOBA_ID": "166",
                                    "FOGLALAS_PK": "1526",
                                    "Időtartam": "2",
                                    "Elöző szoba foglalás hossza": "5"
                                },
                                {
                                    "SZOBA_ID": "92",
                                    "FOGLALAS_PK": "1527",
                                    "Időtartam": "2",
                                    "Elöző szoba foglalás hossza": "2"
                                },
                                {
                                    "SZOBA_ID": "97",
                                    "FOGLALAS_PK": "1528",
                                    "Időtartam": "2",
                                    "Elöző szoba foglalás hossza": "2"
                                },
                                {
                                    "SZOBA_ID": "35",
                                    "FOGLALAS_PK": "1529",
                                    "Időtartam": "4",
                                    "Elöző szoba foglalás hossza": "2"
                                },
                                {
                                    "SZOBA_ID": "112",
                                    "FOGLALAS_PK": "1530",
                                    "Időtartam": "6",
                                    "Elöző szoba foglalás hossza": "4"
                                },
                                {
                                    "SZOBA_ID": "124",
                                    "FOGLALAS_PK": "1531",
                                    "Időtartam": "6",
                                    "Elöző szoba foglalás hossza": "6"
                                },
                                {
                                    "SZOBA_ID": "104",
                                    "FOGLALAS_PK": "1532",
                                    "Időtartam": "3",
                                    "Elöző szoba foglalás hossza": "6"
                                },
                                {
                                    "SZOBA_ID": "19",
                                    "FOGLALAS_PK": "1533",
                                    "Időtartam": "1",
                                    "Elöző szoba foglalás hossza": "3"
                                },
                                {
                                    "SZOBA_ID": "52",
                                    "FOGLALAS_PK": "1534",
                                    "Időtartam": "5",
                                    "Elöző szoba foglalás hossza": "1"
                                },
                                {
                                    "SZOBA_ID": "134",
                                    "FOGLALAS_PK": "1535",
                                    "Időtartam": "7",
                                    "Elöző szoba foglalás hossza": "5"
                                },
                                {
                                    "SZOBA_ID": "49",
                                    "FOGLALAS_PK": "1536",
                                    "Időtartam": "6",
                                    "Elöző szoba foglalás hossza": "7"
                                },
                                {
                                    "SZOBA_ID": "9",
                                    "FOGLALAS_PK": "1537",
                                    "Időtartam": "3",
                                    "Elöző szoba foglalás hossza": "6"
                                },
                                {
                                    "SZOBA_ID": "39",
                                    "FOGLALAS_PK": "1538",
                                    "Időtartam": "2",
                                    "Elöző szoba foglalás hossza": "3"
                                },
                                {
                                    "SZOBA_ID": "154",
                                    "FOGLALAS_PK": "1539",
                                    "Időtartam": "2",
                                    "Elöző szoba foglalás hossza": "2"
                                },
                                {
                                    "SZOBA_ID": "114",
                                    "FOGLALAS_PK": "1540",
                                    "Időtartam": "3",
                                    "Elöző szoba foglalás hossza": "2"
                                },
                                {
                                    "SZOBA_ID": "155",
                                    "FOGLALAS_PK": "1541",
                                    "Időtartam": "1",
                                    "Elöző szoba foglalás hossza": "3"
                                },
                                {
                                    "SZOBA_ID": "14",
                                    "FOGLALAS_PK": "1542",
                                    "Időtartam": "4",
                                    "Elöző szoba foglalás hossza": "1"
                                },
                                {
                                    "SZOBA_ID": "95",
                                    "FOGLALAS_PK": "1543",
                                    "Időtartam": "7",
                                    "Elöző szoba foglalás hossza": "4"
                                },
                                {
                                    "SZOBA_ID": "3",
                                    "FOGLALAS_PK": "1544",
                                    "Időtartam": "5",
                                    "Elöző szoba foglalás hossza": "7"
                                },
                                {
                                    "SZOBA_ID": "142",
                                    "FOGLALAS_PK": "1545",
                                    "Időtartam": "3",
                                    "Elöző szoba foglalás hossza": "5"
                                },
                                {
                                    "SZOBA_ID": "48",
                                    "FOGLALAS_PK": "1546",
                                    "Időtartam": "3",
                                    "Elöző szoba foglalás hossza": "3"
                                },
                                {
                                    "SZOBA_ID": "48",
                                    "FOGLALAS_PK": "1547",
                                    "Időtartam": "1",
                                    "Elöző szoba foglalás hossza": "3"
                                },
                                {
                                    "SZOBA_ID": "88",
                                    "FOGLALAS_PK": "1548",
                                    "Időtartam": "7",
                                    "Elöző szoba foglalás hossza": "1"
                                },
                                {
                                    "SZOBA_ID": "17",
                                    "FOGLALAS_PK": "1549",
                                    "Időtartam": "3",
                                    "Elöző szoba foglalás hossza": "7"
                                },
                                {
                                    "SZOBA_ID": "51",
                                    "FOGLALAS_PK": "1550",
                                    "Időtartam": "1",
                                    "Elöző szoba foglalás hossza": "3"
                                },
                                {
                                    "SZOBA_ID": "157",
                                    "FOGLALAS_PK": "1551",
                                    "Időtartam": "3",
                                    "Elöző szoba foglalás hossza": "1"
                                },
                                {
                                    "SZOBA_ID": "44",
                                    "FOGLALAS_PK": "1552",
                                    "Időtartam": "2",
                                    "Elöző szoba foglalás hossza": "3"
                                },
                                {
                                    "SZOBA_ID": "43",
                                    "FOGLALAS_PK": "1553",
                                    "Időtartam": "5",
                                    "Elöző szoba foglalás hossza": "2"
                                },
                                {
                                    "SZOBA_ID": "115",
                                    "FOGLALAS_PK": "1554",
                                    "Időtartam": "3",
                                    "Elöző szoba foglalás hossza": "5"
                                },
                                {
                                    "SZOBA_ID": "92",
                                    "FOGLALAS_PK": "1555",
                                    "Időtartam": "4",
                                    "Elöző szoba foglalás hossza": "3"
                                },
                                {
                                    "SZOBA_ID": "38",
                                    "FOGLALAS_PK": "1556",
                                    "Időtartam": "6",
                                    "Elöző szoba foglalás hossza": "4"
                                },
                                {
                                    "SZOBA_ID": "76",
                                    "FOGLALAS_PK": "1557",
                                    "Időtartam": "3",
                                    "Elöző szoba foglalás hossza": "6"
                                },
                                {
                                    "SZOBA_ID": "152",
                                    "FOGLALAS_PK": "1558",
                                    "Időtartam": "2",
                                    "Elöző szoba foglalás hossza": "3"
                                },
                                {
                                    "SZOBA_ID": "180",
                                    "FOGLALAS_PK": "1559",
                                    "Időtartam": "3",
                                    "Elöző szoba foglalás hossza": "2"
                                },
                                {
                                    "SZOBA_ID": "109",
                                    "FOGLALAS_PK": "1560",
                                    "Időtartam": "1",
                                    "Elöző szoba foglalás hossza": "3"
                                },
                                {
                                    "SZOBA_ID": "156",
                                    "FOGLALAS_PK": "1561",
                                    "Időtartam": "4",
                                    "Elöző szoba foglalás hossza": "1"
                                },
                                {
                                    "SZOBA_ID": "81",
                                    "FOGLALAS_PK": "1562",
                                    "Időtartam": "3",
                                    "Elöző szoba foglalás hossza": "4"
                                },
                                {
                                    "SZOBA_ID": "180",
                                    "FOGLALAS_PK": "1563",
                                    "Időtartam": "6",
                                    "Elöző szoba foglalás hossza": "3"
                                },
                                {
                                    "SZOBA_ID": "94",
                                    "FOGLALAS_PK": "1564",
                                    "Időtartam": "7",
                                    "Elöző szoba foglalás hossza": "6"
                                },
                                {
                                    "SZOBA_ID": "160",
                                    "FOGLALAS_PK": "1565",
                                    "Időtartam": "3",
                                    "Elöző szoba foglalás hossza": "7"
                                },
                                {
                                    "SZOBA_ID": "115",
                                    "FOGLALAS_PK": "1566",
                                    "Időtartam": "1",
                                    "Elöző szoba foglalás hossza": "3"
                                },
                                {
                                    "SZOBA_ID": "171",
                                    "FOGLALAS_PK": "1567",
                                    "Időtartam": "6",
                                    "Elöző szoba foglalás hossza": "1"
                                },
                                {
                                    "SZOBA_ID": "29",
                                    "FOGLALAS_PK": "1568",
                                    "Időtartam": "7",
                                    "Elöző szoba foglalás hossza": "6"
                                },
                                {
                                    "SZOBA_ID": "96",
                                    "FOGLALAS_PK": "1569",
                                    "Időtartam": "7",
                                    "Elöző szoba foglalás hossza": "7"
                                },
                                {
                                    "SZOBA_ID": "176",
                                    "FOGLALAS_PK": "1570",
                                    "Időtartam": "3",
                                    "Elöző szoba foglalás hossza": "7"
                                },
                                {
                                    "SZOBA_ID": "161",
                                    "FOGLALAS_PK": "1571",
                                    "Időtartam": "4",
                                    "Elöző szoba foglalás hossza": "3"
                                },
                                {
                                    "SZOBA_ID": "144",
                                    "FOGLALAS_PK": "1572",
                                    "Időtartam": "2",
                                    "Elöző szoba foglalás hossza": "4"
                                },
                                {
                                    "SZOBA_ID": "59",
                                    "FOGLALAS_PK": "1573",
                                    "Időtartam": "1",
                                    "Elöző szoba foglalás hossza": "2"
                                },
                                {
                                    "SZOBA_ID": "128",
                                    "FOGLALAS_PK": "1574",
                                    "Időtartam": "1",
                                    "Elöző szoba foglalás hossza": "1"
                                },
                                {
                                    "SZOBA_ID": "88",
                                    "FOGLALAS_PK": "1575",
                                    "Időtartam": "6",
                                    "Elöző szoba foglalás hossza": "1"
                                },
                                {
                                    "SZOBA_ID": "189",
                                    "FOGLALAS_PK": "1576",
                                    "Időtartam": "3",
                                    "Elöző szoba foglalás hossza": "6"
                                },
                                {
                                    "SZOBA_ID": "78",
                                    "FOGLALAS_PK": "1577",
                                    "Időtartam": "7",
                                    "Elöző szoba foglalás hossza": "3"
                                },
                                {
                                    "SZOBA_ID": "148",
                                    "FOGLALAS_PK": "1578",
                                    "Időtartam": "7",
                                    "Elöző szoba foglalás hossza": "7"
                                },
                                {
                                    "SZOBA_ID": "127",
                                    "FOGLALAS_PK": "1579",
                                    "Időtartam": "5",
                                    "Elöző szoba foglalás hossza": "7"
                                },
                                {
                                    "SZOBA_ID": "67",
                                    "FOGLALAS_PK": "1580",
                                    "Időtartam": "5",
                                    "Elöző szoba foglalás hossza": "5"
                                },
                                {
                                    "SZOBA_ID": "48",
                                    "FOGLALAS_PK": "1581",
                                    "Időtartam": "5",
                                    "Elöző szoba foglalás hossza": "5"
                                },
                                {
                                    "SZOBA_ID": "64",
                                    "FOGLALAS_PK": "1582",
                                    "Időtartam": "1",
                                    "Elöző szoba foglalás hossza": "5"
                                },
                                {
                                    "SZOBA_ID": "128",
                                    "FOGLALAS_PK": "1583",
                                    "Időtartam": "4",
                                    "Elöző szoba foglalás hossza": "1"
                                },
                                {
                                    "SZOBA_ID": "67",
                                    "FOGLALAS_PK": "1584",
                                    "Időtartam": "1",
                                    "Elöző szoba foglalás hossza": "4"
                                }
                            ]
                        },
                        "text/html": [
                            "<table>",
                            "<tr><th>SZOBA_ID</th><th>FOGLALAS_PK</th><th>Időtartam</th><th>Elöző szoba foglalás hossza</th></tr>",
                            "<tr><td>87</td><td>558</td><td>4</td><td>0</td></tr>",
                            "<tr><td>131</td><td>559</td><td>2</td><td>4</td></tr>",
                            "<tr><td>6</td><td>560</td><td>6</td><td>2</td></tr>",
                            "<tr><td>42</td><td>561</td><td>4</td><td>6</td></tr>",
                            "<tr><td>7</td><td>562</td><td>4</td><td>4</td></tr>",
                            "<tr><td>68</td><td>563</td><td>5</td><td>4</td></tr>",
                            "<tr><td>5</td><td>564</td><td>2</td><td>5</td></tr>",
                            "<tr><td>141</td><td>565</td><td>6</td><td>2</td></tr>",
                            "<tr><td>21</td><td>566</td><td>6</td><td>6</td></tr>",
                            "<tr><td>170</td><td>567</td><td>7</td><td>6</td></tr>",
                            "<tr><td>78</td><td>568</td><td>1</td><td>7</td></tr>",
                            "<tr><td>10</td><td>569</td><td>3</td><td>1</td></tr>",
                            "<tr><td>164</td><td>570</td><td>7</td><td>3</td></tr>",
                            "<tr><td>182</td><td>571</td><td>2</td><td>7</td></tr>",
                            "<tr><td>83</td><td>572</td><td>7</td><td>2</td></tr>",
                            "<tr><td>169</td><td>573</td><td>5</td><td>7</td></tr>",
                            "<tr><td>171</td><td>574</td><td>2</td><td>5</td></tr>",
                            "<tr><td>155</td><td>575</td><td>1</td><td>2</td></tr>",
                            "<tr><td>125</td><td>576</td><td>1</td><td>1</td></tr>",
                            "<tr><td>155</td><td>577</td><td>3</td><td>1</td></tr>",
                            "<tr><td>185</td><td>578</td><td>6</td><td>3</td></tr>",
                            "<tr><td>139</td><td>579</td><td>2</td><td>6</td></tr>",
                            "<tr><td>130</td><td>580</td><td>3</td><td>2</td></tr>",
                            "<tr><td>144</td><td>581</td><td>4</td><td>3</td></tr>",
                            "<tr><td>137</td><td>582</td><td>3</td><td>4</td></tr>",
                            "<tr><td>79</td><td>583</td><td>6</td><td>3</td></tr>",
                            "<tr><td>136</td><td>584</td><td>2</td><td>6</td></tr>",
                            "<tr><td>70</td><td>585</td><td>5</td><td>2</td></tr>",
                            "<tr><td>107</td><td>586</td><td>6</td><td>5</td></tr>",
                            "<tr><td>123</td><td>587</td><td>7</td><td>6</td></tr>",
                            "<tr><td>156</td><td>588</td><td>7</td><td>7</td></tr>",
                            "<tr><td>44</td><td>589</td><td>2</td><td>7</td></tr>",
                            "<tr><td>42</td><td>590</td><td>5</td><td>2</td></tr>",
                            "<tr><td>149</td><td>591</td><td>1</td><td>5</td></tr>",
                            "<tr><td>176</td><td>592</td><td>5</td><td>1</td></tr>",
                            "<tr><td>77</td><td>593</td><td>3</td><td>5</td></tr>",
                            "<tr><td>153</td><td>594</td><td>3</td><td>3</td></tr>",
                            "<tr><td>74</td><td>595</td><td>7</td><td>3</td></tr>",
                            "<tr><td>115</td><td>596</td><td>7</td><td>7</td></tr>",
                            "<tr><td>100</td><td>597</td><td>1</td><td>7</td></tr>",
                            "<tr><td>31</td><td>598</td><td>2</td><td>1</td></tr>",
                            "<tr><td>162</td><td>599</td><td>4</td><td>2</td></tr>",
                            "<tr><td>190</td><td>600</td><td>7</td><td>4</td></tr>",
                            "<tr><td>39</td><td>601</td><td>6</td><td>7</td></tr>",
                            "<tr><td>17</td><td>602</td><td>6</td><td>6</td></tr>",
                            "<tr><td>48</td><td>603</td><td>3</td><td>6</td></tr>",
                            "<tr><td>30</td><td>604</td><td>2</td><td>3</td></tr>",
                            "<tr><td>111</td><td>605</td><td>7</td><td>2</td></tr>",
                            "<tr><td>31</td><td>606</td><td>1</td><td>7</td></tr>",
                            "<tr><td>96</td><td>607</td><td>4</td><td>1</td></tr>",
                            "<tr><td>184</td><td>608</td><td>2</td><td>4</td></tr>",
                            "<tr><td>9</td><td>609</td><td>2</td><td>2</td></tr>",
                            "<tr><td>106</td><td>610</td><td>3</td><td>2</td></tr>",
                            "<tr><td>29</td><td>611</td><td>5</td><td>3</td></tr>",
                            "<tr><td>117</td><td>612</td><td>2</td><td>5</td></tr>",
                            "<tr><td>130</td><td>613</td><td>3</td><td>2</td></tr>",
                            "<tr><td>109</td><td>614</td><td>4</td><td>3</td></tr>",
                            "<tr><td>186</td><td>615</td><td>3</td><td>4</td></tr>",
                            "<tr><td>94</td><td>616</td><td>4</td><td>3</td></tr>",
                            "<tr><td>117</td><td>617</td><td>3</td><td>4</td></tr>",
                            "<tr><td>105</td><td>618</td><td>1</td><td>3</td></tr>",
                            "<tr><td>132</td><td>619</td><td>7</td><td>1</td></tr>",
                            "<tr><td>1</td><td>620</td><td>5</td><td>7</td></tr>",
                            "<tr><td>109</td><td>621</td><td>7</td><td>5</td></tr>",
                            "<tr><td>54</td><td>622</td><td>7</td><td>7</td></tr>",
                            "<tr><td>96</td><td>623</td><td>7</td><td>7</td></tr>",
                            "<tr><td>33</td><td>624</td><td>6</td><td>7</td></tr>",
                            "<tr><td>63</td><td>625</td><td>3</td><td>6</td></tr>",
                            "<tr><td>18</td><td>626</td><td>3</td><td>3</td></tr>",
                            "<tr><td>38</td><td>627</td><td>6</td><td>3</td></tr>",
                            "<tr><td>48</td><td>628</td><td>2</td><td>6</td></tr>",
                            "<tr><td>3</td><td>629</td><td>4</td><td>2</td></tr>",
                            "<tr><td>163</td><td>630</td><td>2</td><td>4</td></tr>",
                            "<tr><td>98</td><td>631</td><td>6</td><td>2</td></tr>",
                            "<tr><td>99</td><td>632</td><td>1</td><td>6</td></tr>",
                            "<tr><td>187</td><td>633</td><td>6</td><td>1</td></tr>",
                            "<tr><td>193</td><td>634</td><td>6</td><td>6</td></tr>",
                            "<tr><td>97</td><td>635</td><td>3</td><td>6</td></tr>",
                            "<tr><td>91</td><td>636</td><td>6</td><td>3</td></tr>",
                            "<tr><td>100</td><td>637</td><td>5</td><td>6</td></tr>",
                            "<tr><td>67</td><td>638</td><td>5</td><td>5</td></tr>",
                            "<tr><td>161</td><td>639</td><td>4</td><td>5</td></tr>",
                            "<tr><td>165</td><td>640</td><td>3</td><td>4</td></tr>",
                            "<tr><td>150</td><td>641</td><td>3</td><td>3</td></tr>",
                            "<tr><td>54</td><td>642</td><td>5</td><td>3</td></tr>",
                            "<tr><td>127</td><td>643</td><td>2</td><td>5</td></tr>",
                            "<tr><td>166</td><td>644</td><td>7</td><td>2</td></tr>",
                            "<tr><td>67</td><td>645</td><td>6</td><td>7</td></tr>",
                            "<tr><td>78</td><td>646</td><td>3</td><td>6</td></tr>",
                            "<tr><td>85</td><td>647</td><td>3</td><td>3</td></tr>",
                            "<tr><td>157</td><td>648</td><td>4</td><td>3</td></tr>",
                            "<tr><td>137</td><td>649</td><td>5</td><td>4</td></tr>",
                            "<tr><td>65</td><td>650</td><td>6</td><td>5</td></tr>",
                            "<tr><td>4</td><td>651</td><td>7</td><td>6</td></tr>",
                            "<tr><td>149</td><td>652</td><td>1</td><td>7</td></tr>",
                            "<tr><td>161</td><td>653</td><td>7</td><td>1</td></tr>",
                            "<tr><td>109</td><td>654</td><td>5</td><td>7</td></tr>",
                            "<tr><td>131</td><td>655</td><td>1</td><td>5</td></tr>",
                            "<tr><td>95</td><td>656</td><td>7</td><td>1</td></tr>",
                            "<tr><td>137</td><td>657</td><td>6</td><td>7</td></tr>",
                            "<tr><td>44</td><td>658</td><td>6</td><td>6</td></tr>",
                            "<tr><td>169</td><td>659</td><td>6</td><td>6</td></tr>",
                            "<tr><td>21</td><td>660</td><td>5</td><td>6</td></tr>",
                            "<tr><td>136</td><td>661</td><td>5</td><td>5</td></tr>",
                            "<tr><td>179</td><td>662</td><td>2</td><td>5</td></tr>",
                            "<tr><td>14</td><td>663</td><td>1</td><td>2</td></tr>",
                            "<tr><td>42</td><td>851</td><td>7</td><td>1</td></tr>",
                            "<tr><td>24</td><td>852</td><td>2</td><td>7</td></tr>",
                            "<tr><td>127</td><td>853</td><td>5</td><td>2</td></tr>",
                            "<tr><td>167</td><td>854</td><td>7</td><td>5</td></tr>",
                            "<tr><td>53</td><td>855</td><td>1</td><td>7</td></tr>",
                            "<tr><td>16</td><td>856</td><td>6</td><td>1</td></tr>",
                            "<tr><td>165</td><td>857</td><td>5</td><td>6</td></tr>",
                            "<tr><td>121</td><td>858</td><td>5</td><td>5</td></tr>",
                            "<tr><td>86</td><td>859</td><td>1</td><td>5</td></tr>",
                            "<tr><td>70</td><td>860</td><td>2</td><td>1</td></tr>",
                            "<tr><td>124</td><td>861</td><td>1</td><td>2</td></tr>",
                            "<tr><td>82</td><td>862</td><td>4</td><td>1</td></tr>",
                            "<tr><td>185</td><td>863</td><td>4</td><td>4</td></tr>",
                            "<tr><td>118</td><td>864</td><td>6</td><td>4</td></tr>",
                            "<tr><td>51</td><td>865</td><td>7</td><td>6</td></tr>",
                            "<tr><td>88</td><td>866</td><td>2</td><td>7</td></tr>",
                            "<tr><td>175</td><td>867</td><td>6</td><td>2</td></tr>",
                            "<tr><td>187</td><td>868</td><td>4</td><td>6</td></tr>",
                            "<tr><td>83</td><td>869</td><td>6</td><td>4</td></tr>",
                            "<tr><td>34</td><td>870</td><td>6</td><td>6</td></tr>",
                            "<tr><td>82</td><td>871</td><td>5</td><td>6</td></tr>",
                            "<tr><td>28</td><td>872</td><td>5</td><td>5</td></tr>",
                            "<tr><td>6</td><td>873</td><td>3</td><td>5</td></tr>",
                            "<tr><td>67</td><td>874</td><td>6</td><td>3</td></tr>",
                            "<tr><td>64</td><td>875</td><td>2</td><td>6</td></tr>",
                            "<tr><td>12</td><td>876</td><td>7</td><td>2</td></tr>",
                            "<tr><td>74</td><td>877</td><td>4</td><td>7</td></tr>",
                            "<tr><td>83</td><td>878</td><td>6</td><td>4</td></tr>",
                            "<tr><td>127</td><td>879</td><td>2</td><td>6</td></tr>",
                            "<tr><td>184</td><td>880</td><td>4</td><td>2</td></tr>",
                            "<tr><td>131</td><td>881</td><td>6</td><td>4</td></tr>",
                            "<tr><td>8</td><td>882</td><td>1</td><td>6</td></tr>",
                            "<tr><td>58</td><td>883</td><td>5</td><td>1</td></tr>",
                            "<tr><td>98</td><td>884</td><td>5</td><td>5</td></tr>",
                            "<tr><td>69</td><td>885</td><td>1</td><td>5</td></tr>",
                            "<tr><td>28</td><td>886</td><td>4</td><td>1</td></tr>",
                            "<tr><td>80</td><td>887</td><td>6</td><td>4</td></tr>",
                            "<tr><td>49</td><td>888</td><td>7</td><td>6</td></tr>",
                            "<tr><td>54</td><td>889</td><td>2</td><td>7</td></tr>",
                            "<tr><td>146</td><td>890</td><td>3</td><td>2</td></tr>",
                            "<tr><td>63</td><td>891</td><td>6</td><td>3</td></tr>",
                            "<tr><td>165</td><td>892</td><td>3</td><td>6</td></tr>",
                            "<tr><td>151</td><td>893</td><td>3</td><td>3</td></tr>",
                            "<tr><td>29</td><td>894</td><td>1</td><td>3</td></tr>",
                            "<tr><td>36</td><td>895</td><td>5</td><td>1</td></tr>",
                            "<tr><td>16</td><td>896</td><td>1</td><td>5</td></tr>",
                            "<tr><td>165</td><td>897</td><td>6</td><td>1</td></tr>",
                            "<tr><td>185</td><td>898</td><td>4</td><td>6</td></tr>",
                            "<tr><td>39</td><td>899</td><td>6</td><td>4</td></tr>",
                            "<tr><td>165</td><td>900</td><td>6</td><td>6</td></tr>",
                            "<tr><td>28</td><td>901</td><td>4</td><td>6</td></tr>",
                            "<tr><td>72</td><td>902</td><td>5</td><td>4</td></tr>",
                            "<tr><td>192</td><td>903</td><td>7</td><td>5</td></tr>",
                            "<tr><td>34</td><td>904</td><td>2</td><td>7</td></tr>",
                            "<tr><td>180</td><td>905</td><td>5</td><td>2</td></tr>",
                            "<tr><td>22</td><td>906</td><td>1</td><td>5</td></tr>",
                            "<tr><td>156</td><td>907</td><td>3</td><td>1</td></tr>",
                            "<tr><td>141</td><td>908</td><td>2</td><td>3</td></tr>",
                            "<tr><td>133</td><td>909</td><td>4</td><td>2</td></tr>",
                            "<tr><td>130</td><td>910</td><td>2</td><td>4</td></tr>",
                            "<tr><td>161</td><td>911</td><td>4</td><td>2</td></tr>",
                            "<tr><td>188</td><td>912</td><td>1</td><td>4</td></tr>",
                            "<tr><td>173</td><td>913</td><td>1</td><td>1</td></tr>",
                            "<tr><td>48</td><td>914</td><td>5</td><td>1</td></tr>",
                            "<tr><td>140</td><td>915</td><td>2</td><td>5</td></tr>",
                            "<tr><td>17</td><td>916</td><td>2</td><td>2</td></tr>",
                            "<tr><td>174</td><td>917</td><td>2</td><td>2</td></tr>",
                            "<tr><td>11</td><td>918</td><td>6</td><td>2</td></tr>",
                            "<tr><td>36</td><td>919</td><td>1</td><td>6</td></tr>",
                            "<tr><td>32</td><td>920</td><td>4</td><td>1</td></tr>",
                            "<tr><td>112</td><td>921</td><td>1</td><td>4</td></tr>",
                            "<tr><td>160</td><td>922</td><td>2</td><td>1</td></tr>",
                            "<tr><td>123</td><td>923</td><td>4</td><td>2</td></tr>",
                            "<tr><td>40</td><td>924</td><td>5</td><td>4</td></tr>",
                            "<tr><td>185</td><td>925</td><td>6</td><td>5</td></tr>",
                            "<tr><td>193</td><td>926</td><td>1</td><td>6</td></tr>",
                            "<tr><td>160</td><td>927</td><td>4</td><td>1</td></tr>",
                            "<tr><td>182</td><td>928</td><td>2</td><td>4</td></tr>",
                            "<tr><td>80</td><td>929</td><td>2</td><td>2</td></tr>",
                            "<tr><td>168</td><td>930</td><td>3</td><td>2</td></tr>",
                            "<tr><td>110</td><td>931</td><td>5</td><td>3</td></tr>",
                            "<tr><td>40</td><td>932</td><td>6</td><td>5</td></tr>",
                            "<tr><td>160</td><td>933</td><td>4</td><td>6</td></tr>",
                            "<tr><td>23</td><td>934</td><td>1</td><td>4</td></tr>",
                            "<tr><td>56</td><td>935</td><td>4</td><td>1</td></tr>",
                            "<tr><td>62</td><td>936</td><td>3</td><td>4</td></tr>",
                            "<tr><td>181</td><td>937</td><td>3</td><td>3</td></tr>",
                            "<tr><td>62</td><td>938</td><td>1</td><td>3</td></tr>",
                            "<tr><td>183</td><td>939</td><td>4</td><td>1</td></tr>",
                            "<tr><td>74</td><td>940</td><td>5</td><td>4</td></tr>",
                            "<tr><td>163</td><td>941</td><td>1</td><td>5</td></tr>",
                            "<tr><td>92</td><td>942</td><td>6</td><td>1</td></tr>",
                            "<tr><td>115</td><td>943</td><td>7</td><td>6</td></tr>",
                            "<tr><td>170</td><td>944</td><td>4</td><td>7</td></tr>",
                            "<tr><td>23</td><td>945</td><td>7</td><td>4</td></tr>",
                            "<tr><td>4</td><td>946</td><td>5</td><td>7</td></tr>",
                            "<tr><td>8</td><td>947</td><td>3</td><td>5</td></tr>",
                            "<tr><td>19</td><td>948</td><td>2</td><td>3</td></tr>",
                            "<tr><td>1</td><td>949</td><td>1</td><td>2</td></tr>",
                            "<tr><td>66</td><td>950</td><td>3</td><td>1</td></tr>",
                            "<tr><td>12</td><td>951</td><td>3</td><td>3</td></tr>",
                            "<tr><td>196</td><td>952</td><td>3</td><td>3</td></tr>",
                            "<tr><td>117</td><td>953</td><td>5</td><td>3</td></tr>",
                            "<tr><td>84</td><td>954</td><td>5</td><td>5</td></tr>",
                            "<tr><td>47</td><td>955</td><td>1</td><td>5</td></tr>",
                            "<tr><td>156</td><td>956</td><td>6</td><td>1</td></tr>",
                            "<tr><td>187</td><td>957</td><td>4</td><td>6</td></tr>",
                            "<tr><td>181</td><td>958</td><td>5</td><td>4</td></tr>",
                            "<tr><td>111</td><td>959</td><td>7</td><td>5</td></tr>",
                            "<tr><td>41</td><td>960</td><td>6</td><td>7</td></tr>",
                            "<tr><td>72</td><td>961</td><td>6</td><td>6</td></tr>",
                            "<tr><td>117</td><td>962</td><td>4</td><td>6</td></tr>",
                            "<tr><td>74</td><td>963</td><td>1</td><td>4</td></tr>",
                            "<tr><td>110</td><td>964</td><td>6</td><td>1</td></tr>",
                            "<tr><td>5</td><td>965</td><td>7</td><td>6</td></tr>",
                            "<tr><td>114</td><td>966</td><td>6</td><td>7</td></tr>",
                            "<tr><td>123</td><td>967</td><td>5</td><td>6</td></tr>",
                            "<tr><td>154</td><td>968</td><td>1</td><td>5</td></tr>",
                            "<tr><td>153</td><td>969</td><td>6</td><td>1</td></tr>",
                            "<tr><td>12</td><td>970</td><td>2</td><td>6</td></tr>",
                            "<tr><td>35</td><td>971</td><td>3</td><td>2</td></tr>",
                            "<tr><td>103</td><td>972</td><td>2</td><td>3</td></tr>",
                            "<tr><td>16</td><td>973</td><td>1</td><td>2</td></tr>",
                            "<tr><td>169</td><td>974</td><td>1</td><td>1</td></tr>",
                            "<tr><td>94</td><td>975</td><td>5</td><td>1</td></tr>",
                            "<tr><td>76</td><td>976</td><td>2</td><td>5</td></tr>",
                            "<tr><td>193</td><td>977</td><td>2</td><td>2</td></tr>",
                            "<tr><td>198</td><td>978</td><td>1</td><td>2</td></tr>",
                            "<tr><td>35</td><td>979</td><td>7</td><td>1</td></tr>",
                            "<tr><td>143</td><td>980</td><td>3</td><td>7</td></tr>",
                            "<tr><td>171</td><td>981</td><td>4</td><td>3</td></tr>",
                            "<tr><td>77</td><td>982</td><td>3</td><td>4</td></tr>",
                            "<tr><td>80</td><td>983</td><td>6</td><td>3</td></tr>",
                            "<tr><td>172</td><td>984</td><td>4</td><td>6</td></tr>",
                            "<tr><td>36</td><td>985</td><td>6</td><td>4</td></tr>",
                            "<tr><td>48</td><td>986</td><td>5</td><td>6</td></tr>",
                            "<tr><td>53</td><td>987</td><td>4</td><td>5</td></tr>",
                            "<tr><td>133</td><td>988</td><td>3</td><td>4</td></tr>",
                            "<tr><td>190</td><td>989</td><td>1</td><td>3</td></tr>",
                            "<tr><td>6</td><td>990</td><td>4</td><td>1</td></tr>",
                            "<tr><td>178</td><td>991</td><td>7</td><td>4</td></tr>",
                            "<tr><td>103</td><td>992</td><td>7</td><td>7</td></tr>",
                            "<tr><td>197</td><td>993</td><td>7</td><td>7</td></tr>",
                            "<tr><td>118</td><td>994</td><td>7</td><td>7</td></tr>",
                            "<tr><td>83</td><td>995</td><td>5</td><td>7</td></tr>",
                            "<tr><td>118</td><td>996</td><td>3</td><td>5</td></tr>",
                            "<tr><td>82</td><td>997</td><td>6</td><td>3</td></tr>",
                            "<tr><td>120</td><td>998</td><td>3</td><td>6</td></tr>",
                            "<tr><td>132</td><td>999</td><td>6</td><td>3</td></tr>",
                            "<tr><td>73</td><td>1000</td><td>4</td><td>6</td></tr>",
                            "<tr><td>4</td><td>1001</td><td>7</td><td>4</td></tr>",
                            "<tr><td>117</td><td>1002</td><td>1</td><td>7</td></tr>",
                            "<tr><td>36</td><td>1003</td><td>4</td><td>1</td></tr>",
                            "<tr><td>134</td><td>1004</td><td>5</td><td>4</td></tr>",
                            "<tr><td>22</td><td>1005</td><td>3</td><td>5</td></tr>",
                            "<tr><td>70</td><td>1006</td><td>3</td><td>3</td></tr>",
                            "<tr><td>122</td><td>1007</td><td>2</td><td>3</td></tr>",
                            "<tr><td>182</td><td>1008</td><td>6</td><td>2</td></tr>",
                            "<tr><td>71</td><td>1009</td><td>1</td><td>6</td></tr>",
                            "<tr><td>164</td><td>1010</td><td>2</td><td>1</td></tr>",
                            "<tr><td>198</td><td>1011</td><td>7</td><td>2</td></tr>",
                            "<tr><td>33</td><td>1012</td><td>7</td><td>7</td></tr>",
                            "<tr><td>75</td><td>1013</td><td>5</td><td>7</td></tr>",
                            "<tr><td>137</td><td>1014</td><td>1</td><td>5</td></tr>",
                            "<tr><td>174</td><td>1015</td><td>5</td><td>1</td></tr>",
                            "<tr><td>92</td><td>1016</td><td>2</td><td>5</td></tr>",
                            "<tr><td>190</td><td>1017</td><td>1</td><td>2</td></tr>",
                            "<tr><td>40</td><td>1018</td><td>5</td><td>1</td></tr>",
                            "<tr><td>43</td><td>1019</td><td>4</td><td>5</td></tr>",
                            "<tr><td>12</td><td>1020</td><td>5</td><td>4</td></tr>",
                            "<tr><td>179</td><td>1021</td><td>1</td><td>5</td></tr>",
                            "<tr><td>181</td><td>1022</td><td>1</td><td>1</td></tr>",
                            "<tr><td>30</td><td>1023</td><td>7</td><td>1</td></tr>",
                            "<tr><td>134</td><td>1024</td><td>1</td><td>7</td></tr>",
                            "<tr><td>157</td><td>1025</td><td>3</td><td>1</td></tr>",
                            "<tr><td>119</td><td>1026</td><td>3</td><td>3</td></tr>",
                            "<tr><td>68</td><td>1027</td><td>7</td><td>3</td></tr>",
                            "<tr><td>15</td><td>1028</td><td>2</td><td>7</td></tr>",
                            "<tr><td>146</td><td>664</td><td>3</td><td>2</td></tr>",
                            "<tr><td>94</td><td>665</td><td>7</td><td>3</td></tr>",
                            "<tr><td>3</td><td>666</td><td>6</td><td>7</td></tr>",
                            "<tr><td>80</td><td>667</td><td>6</td><td>6</td></tr>",
                            "<tr><td>54</td><td>668</td><td>1</td><td>6</td></tr>",
                            "<tr><td>173</td><td>669</td><td>7</td><td>1</td></tr>",
                            "<tr><td>43</td><td>670</td><td>4</td><td>7</td></tr>",
                            "<tr><td>96</td><td>671</td><td>4</td><td>4</td></tr>",
                            "<tr><td>185</td><td>672</td><td>3</td><td>4</td></tr>",
                            "<tr><td>196</td><td>673</td><td>5</td><td>3</td></tr>",
                            "<tr><td>83</td><td>674</td><td>4</td><td>5</td></tr>",
                            "<tr><td>193</td><td>675</td><td>2</td><td>4</td></tr>",
                            "<tr><td>60</td><td>676</td><td>2</td><td>2</td></tr>",
                            "<tr><td>181</td><td>677</td><td>4</td><td>2</td></tr>",
                            "<tr><td>148</td><td>678</td><td>4</td><td>4</td></tr>",
                            "<tr><td>185</td><td>679</td><td>5</td><td>4</td></tr>",
                            "<tr><td>192</td><td>680</td><td>4</td><td>5</td></tr>",
                            "<tr><td>71</td><td>681</td><td>3</td><td>4</td></tr>",
                            "<tr><td>174</td><td>682</td><td>3</td><td>3</td></tr>",
                            "<tr><td>76</td><td>683</td><td>7</td><td>3</td></tr>",
                            "<tr><td>184</td><td>684</td><td>3</td><td>7</td></tr>",
                            "<tr><td>110</td><td>685</td><td>1</td><td>3</td></tr>",
                            "<tr><td>35</td><td>686</td><td>6</td><td>1</td></tr>",
                            "<tr><td>16</td><td>687</td><td>3</td><td>6</td></tr>",
                            "<tr><td>37</td><td>688</td><td>2</td><td>3</td></tr>",
                            "<tr><td>102</td><td>689</td><td>5</td><td>2</td></tr>",
                            "<tr><td>188</td><td>690</td><td>4</td><td>5</td></tr>",
                            "<tr><td>99</td><td>691</td><td>5</td><td>4</td></tr>",
                            "<tr><td>156</td><td>692</td><td>6</td><td>5</td></tr>",
                            "<tr><td>185</td><td>693</td><td>2</td><td>6</td></tr>",
                            "<tr><td>8</td><td>694</td><td>4</td><td>2</td></tr>",
                            "<tr><td>187</td><td>695</td><td>6</td><td>4</td></tr>",
                            "<tr><td>19</td><td>696</td><td>1</td><td>6</td></tr>",
                            "<tr><td>12</td><td>697</td><td>2</td><td>1</td></tr>",
                            "<tr><td>77</td><td>698</td><td>4</td><td>2</td></tr>",
                            "<tr><td>189</td><td>699</td><td>2</td><td>4</td></tr>",
                            "<tr><td>78</td><td>700</td><td>5</td><td>2</td></tr>",
                            "<tr><td>61</td><td>701</td><td>2</td><td>5</td></tr>",
                            "<tr><td>62</td><td>702</td><td>5</td><td>2</td></tr>",
                            "<tr><td>145</td><td>703</td><td>4</td><td>5</td></tr>",
                            "<tr><td>70</td><td>704</td><td>3</td><td>4</td></tr>",
                            "<tr><td>37</td><td>705</td><td>4</td><td>3</td></tr>",
                            "<tr><td>119</td><td>706</td><td>2</td><td>4</td></tr>",
                            "<tr><td>35</td><td>707</td><td>2</td><td>2</td></tr>",
                            "<tr><td>106</td><td>708</td><td>7</td><td>2</td></tr>",
                            "<tr><td>172</td><td>709</td><td>5</td><td>7</td></tr>",
                            "<tr><td>188</td><td>710</td><td>7</td><td>5</td></tr>",
                            "<tr><td>185</td><td>711</td><td>3</td><td>7</td></tr>",
                            "<tr><td>71</td><td>712</td><td>1</td><td>3</td></tr>",
                            "<tr><td>17</td><td>713</td><td>6</td><td>1</td></tr>",
                            "<tr><td>73</td><td>714</td><td>7</td><td>6</td></tr>",
                            "<tr><td>101</td><td>715</td><td>3</td><td>7</td></tr>",
                            "<tr><td>118</td><td>716</td><td>1</td><td>3</td></tr>",
                            "<tr><td>128</td><td>717</td><td>2</td><td>1</td></tr>",
                            "<tr><td>97</td><td>718</td><td>7</td><td>2</td></tr>",
                            "<tr><td>58</td><td>719</td><td>3</td><td>7</td></tr>",
                            "<tr><td>160</td><td>720</td><td>2</td><td>3</td></tr>",
                            "<tr><td>195</td><td>721</td><td>4</td><td>2</td></tr>",
                            "<tr><td>119</td><td>722</td><td>1</td><td>4</td></tr>",
                            "<tr><td>129</td><td>723</td><td>7</td><td>1</td></tr>",
                            "<tr><td>135</td><td>724</td><td>6</td><td>7</td></tr>",
                            "<tr><td>28</td><td>725</td><td>5</td><td>6</td></tr>",
                            "<tr><td>97</td><td>726</td><td>4</td><td>5</td></tr>",
                            "<tr><td>94</td><td>727</td><td>3</td><td>4</td></tr>",
                            "<tr><td>31</td><td>728</td><td>4</td><td>3</td></tr>",
                            "<tr><td>90</td><td>729</td><td>2</td><td>4</td></tr>",
                            "<tr><td>152</td><td>730</td><td>2</td><td>2</td></tr>",
                            "<tr><td>181</td><td>731</td><td>6</td><td>2</td></tr>",
                            "<tr><td>91</td><td>732</td><td>4</td><td>6</td></tr>",
                            "<tr><td>140</td><td>733</td><td>1</td><td>4</td></tr>",
                            "<tr><td>55</td><td>734</td><td>6</td><td>1</td></tr>",
                            "<tr><td>121</td><td>735</td><td>6</td><td>6</td></tr>",
                            "<tr><td>66</td><td>736</td><td>3</td><td>6</td></tr>",
                            "<tr><td>114</td><td>737</td><td>2</td><td>3</td></tr>",
                            "<tr><td>1</td><td>738</td><td>7</td><td>2</td></tr>",
                            "<tr><td>121</td><td>739</td><td>6</td><td>7</td></tr>",
                            "<tr><td>182</td><td>740</td><td>3</td><td>6</td></tr>",
                            "<tr><td>93</td><td>741</td><td>7</td><td>3</td></tr>",
                            "<tr><td>164</td><td>742</td><td>6</td><td>7</td></tr>",
                            "<tr><td>187</td><td>743</td><td>2</td><td>6</td></tr>",
                            "<tr><td>17</td><td>744</td><td>1</td><td>2</td></tr>",
                            "<tr><td>139</td><td>745</td><td>1</td><td>1</td></tr>",
                            "<tr><td>169</td><td>746</td><td>7</td><td>1</td></tr>",
                            "<tr><td>188</td><td>747</td><td>3</td><td>7</td></tr>",
                            "<tr><td>36</td><td>748</td><td>2</td><td>3</td></tr>",
                            "<tr><td>172</td><td>749</td><td>6</td><td>2</td></tr>",
                            "<tr><td>36</td><td>750</td><td>6</td><td>6</td></tr>",
                            "<tr><td>139</td><td>751</td><td>4</td><td>6</td></tr>",
                            "<tr><td>46</td><td>752</td><td>5</td><td>4</td></tr>",
                            "<tr><td>189</td><td>753</td><td>1</td><td>5</td></tr>",
                            "<tr><td>126</td><td>754</td><td>4</td><td>1</td></tr>",
                            "<tr><td>20</td><td>755</td><td>6</td><td>4</td></tr>",
                            "<tr><td>61</td><td>756</td><td>6</td><td>6</td></tr>",
                            "<tr><td>88</td><td>757</td><td>7</td><td>6</td></tr>",
                            "<tr><td>27</td><td>758</td><td>3</td><td>7</td></tr>",
                            "<tr><td>7</td><td>759</td><td>7</td><td>3</td></tr>",
                            "<tr><td>131</td><td>760</td><td>4</td><td>7</td></tr>",
                            "<tr><td>141</td><td>761</td><td>3</td><td>4</td></tr>",
                            "<tr><td>120</td><td>762</td><td>3</td><td>3</td></tr>",
                            "<tr><td>13</td><td>763</td><td>4</td><td>3</td></tr>",
                            "<tr><td>197</td><td>764</td><td>7</td><td>4</td></tr>",
                            "<tr><td>148</td><td>765</td><td>3</td><td>7</td></tr>",
                            "<tr><td>187</td><td>766</td><td>1</td><td>3</td></tr>",
                            "<tr><td>18</td><td>767</td><td>3</td><td>1</td></tr>",
                            "<tr><td>138</td><td>768</td><td>6</td><td>3</td></tr>",
                            "<tr><td>63</td><td>769</td><td>5</td><td>6</td></tr>",
                            "<tr><td>42</td><td>770</td><td>3</td><td>5</td></tr>",
                            "<tr><td>147</td><td>771</td><td>4</td><td>3</td></tr>",
                            "<tr><td>6</td><td>772</td><td>6</td><td>4</td></tr>",
                            "<tr><td>58</td><td>773</td><td>2</td><td>6</td></tr>",
                            "<tr><td>190</td><td>774</td><td>5</td><td>2</td></tr>",
                            "<tr><td>12</td><td>775</td><td>4</td><td>5</td></tr>",
                            "<tr><td>112</td><td>776</td><td>4</td><td>4</td></tr>",
                            "<tr><td>34</td><td>777</td><td>3</td><td>4</td></tr>",
                            "<tr><td>19</td><td>778</td><td>1</td><td>3</td></tr>",
                            "<tr><td>130</td><td>779</td><td>6</td><td>1</td></tr>",
                            "<tr><td>96</td><td>780</td><td>1</td><td>6</td></tr>",
                            "<tr><td>166</td><td>781</td><td>7</td><td>1</td></tr>",
                            "<tr><td>163</td><td>782</td><td>3</td><td>7</td></tr>",
                            "<tr><td>148</td><td>783</td><td>7</td><td>3</td></tr>",
                            "<tr><td>141</td><td>784</td><td>7</td><td>7</td></tr>",
                            "<tr><td>177</td><td>785</td><td>3</td><td>7</td></tr>",
                            "<tr><td>111</td><td>786</td><td>4</td><td>3</td></tr>",
                            "<tr><td>50</td><td>787</td><td>3</td><td>4</td></tr>",
                            "<tr><td>3</td><td>788</td><td>6</td><td>3</td></tr>",
                            "<tr><td>146</td><td>789</td><td>7</td><td>6</td></tr>",
                            "<tr><td>10</td><td>790</td><td>5</td><td>7</td></tr>",
                            "<tr><td>15</td><td>791</td><td>5</td><td>5</td></tr>",
                            "<tr><td>168</td><td>792</td><td>3</td><td>5</td></tr>",
                            "<tr><td>49</td><td>793</td><td>6</td><td>3</td></tr>",
                            "<tr><td>168</td><td>794</td><td>4</td><td>6</td></tr>",
                            "<tr><td>10</td><td>795</td><td>4</td><td>4</td></tr>",
                            "<tr><td>138</td><td>796</td><td>4</td><td>4</td></tr>",
                            "<tr><td>74</td><td>797</td><td>5</td><td>4</td></tr>",
                            "<tr><td>83</td><td>798</td><td>4</td><td>5</td></tr>",
                            "<tr><td>175</td><td>799</td><td>4</td><td>4</td></tr>",
                            "<tr><td>45</td><td>800</td><td>5</td><td>4</td></tr>",
                            "<tr><td>112</td><td>801</td><td>5</td><td>5</td></tr>",
                            "<tr><td>45</td><td>802</td><td>7</td><td>5</td></tr>",
                            "<tr><td>1</td><td>803</td><td>4</td><td>7</td></tr>",
                            "<tr><td>146</td><td>804</td><td>7</td><td>4</td></tr>",
                            "<tr><td>21</td><td>805</td><td>1</td><td>7</td></tr>",
                            "<tr><td>126</td><td>806</td><td>6</td><td>1</td></tr>",
                            "<tr><td>27</td><td>807</td><td>2</td><td>6</td></tr>",
                            "<tr><td>148</td><td>808</td><td>2</td><td>2</td></tr>",
                            "<tr><td>92</td><td>809</td><td>3</td><td>2</td></tr>",
                            "<tr><td>109</td><td>810</td><td>2</td><td>3</td></tr>",
                            "<tr><td>51</td><td>811</td><td>2</td><td>2</td></tr>",
                            "<tr><td>148</td><td>812</td><td>6</td><td>2</td></tr>",
                            "<tr><td>14</td><td>813</td><td>3</td><td>6</td></tr>",
                            "<tr><td>70</td><td>814</td><td>3</td><td>3</td></tr>",
                            "<tr><td>128</td><td>815</td><td>1</td><td>3</td></tr>",
                            "<tr><td>178</td><td>816</td><td>4</td><td>1</td></tr>",
                            "<tr><td>89</td><td>817</td><td>3</td><td>4</td></tr>",
                            "<tr><td>8</td><td>818</td><td>4</td><td>3</td></tr>",
                            "<tr><td>84</td><td>819</td><td>2</td><td>4</td></tr>",
                            "<tr><td>20</td><td>820</td><td>1</td><td>2</td></tr>",
                            "<tr><td>34</td><td>821</td><td>1</td><td>1</td></tr>",
                            "<tr><td>52</td><td>822</td><td>7</td><td>1</td></tr>",
                            "<tr><td>44</td><td>823</td><td>2</td><td>7</td></tr>",
                            "<tr><td>48</td><td>824</td><td>2</td><td>2</td></tr>",
                            "<tr><td>158</td><td>825</td><td>4</td><td>2</td></tr>",
                            "<tr><td>49</td><td>826</td><td>4</td><td>4</td></tr>",
                            "<tr><td>114</td><td>827</td><td>7</td><td>4</td></tr>",
                            "<tr><td>2</td><td>828</td><td>3</td><td>7</td></tr>",
                            "<tr><td>35</td><td>829</td><td>2</td><td>3</td></tr>",
                            "<tr><td>74</td><td>830</td><td>1</td><td>2</td></tr>",
                            "<tr><td>177</td><td>831</td><td>7</td><td>1</td></tr>",
                            "<tr><td>8</td><td>832</td><td>4</td><td>7</td></tr>",
                            "<tr><td>149</td><td>833</td><td>2</td><td>4</td></tr>",
                            "<tr><td>149</td><td>834</td><td>5</td><td>2</td></tr>",
                            "<tr><td>193</td><td>835</td><td>2</td><td>5</td></tr>",
                            "<tr><td>97</td><td>836</td><td>2</td><td>2</td></tr>",
                            "<tr><td>104</td><td>837</td><td>4</td><td>2</td></tr>",
                            "<tr><td>56</td><td>838</td><td>2</td><td>4</td></tr>",
                            "<tr><td>172</td><td>839</td><td>5</td><td>2</td></tr>",
                            "<tr><td>158</td><td>840</td><td>4</td><td>5</td></tr>",
                            "<tr><td>92</td><td>841</td><td>6</td><td>4</td></tr>",
                            "<tr><td>195</td><td>842</td><td>4</td><td>6</td></tr>",
                            "<tr><td>149</td><td>843</td><td>4</td><td>4</td></tr>",
                            "<tr><td>87</td><td>844</td><td>1</td><td>4</td></tr>",
                            "<tr><td>63</td><td>845</td><td>1</td><td>1</td></tr>",
                            "<tr><td>45</td><td>846</td><td>3</td><td>1</td></tr>",
                            "<tr><td>74</td><td>847</td><td>3</td><td>3</td></tr>",
                            "<tr><td>23</td><td>848</td><td>1</td><td>3</td></tr>",
                            "<tr><td>135</td><td>849</td><td>7</td><td>1</td></tr>",
                            "<tr><td>6</td><td>850</td><td>2</td><td>7</td></tr>",
                            "<tr><td>113</td><td>1029</td><td>5</td><td>2</td></tr>",
                            "<tr><td>188</td><td>1030</td><td>4</td><td>5</td></tr>",
                            "<tr><td>27</td><td>1031</td><td>2</td><td>4</td></tr>",
                            "<tr><td>146</td><td>1032</td><td>5</td><td>2</td></tr>",
                            "<tr><td>38</td><td>1033</td><td>2</td><td>5</td></tr>",
                            "<tr><td>127</td><td>1034</td><td>6</td><td>2</td></tr>",
                            "<tr><td>18</td><td>1035</td><td>6</td><td>6</td></tr>",
                            "<tr><td>122</td><td>1036</td><td>2</td><td>6</td></tr>",
                            "<tr><td>89</td><td>1037</td><td>7</td><td>2</td></tr>",
                            "<tr><td>3</td><td>1038</td><td>3</td><td>7</td></tr>",
                            "<tr><td>191</td><td>1039</td><td>6</td><td>3</td></tr>",
                            "<tr><td>130</td><td>1040</td><td>1</td><td>6</td></tr>",
                            "<tr><td>110</td><td>1041</td><td>3</td><td>1</td></tr>",
                            "<tr><td>139</td><td>1042</td><td>2</td><td>3</td></tr>",
                            "<tr><td>193</td><td>1043</td><td>6</td><td>2</td></tr>",
                            "<tr><td>13</td><td>1044</td><td>6</td><td>6</td></tr>",
                            "<tr><td>134</td><td>1045</td><td>2</td><td>6</td></tr>",
                            "<tr><td>136</td><td>1046</td><td>4</td><td>2</td></tr>",
                            "<tr><td>157</td><td>1047</td><td>4</td><td>4</td></tr>",
                            "<tr><td>95</td><td>1048</td><td>3</td><td>4</td></tr>",
                            "<tr><td>121</td><td>1049</td><td>3</td><td>3</td></tr>",
                            "<tr><td>98</td><td>1050</td><td>6</td><td>3</td></tr>",
                            "<tr><td>2</td><td>1051</td><td>1</td><td>6</td></tr>",
                            "<tr><td>25</td><td>1052</td><td>3</td><td>1</td></tr>",
                            "<tr><td>33</td><td>1053</td><td>1</td><td>3</td></tr>",
                            "<tr><td>79</td><td>1054</td><td>1</td><td>1</td></tr>",
                            "<tr><td>69</td><td>1055</td><td>5</td><td>1</td></tr>",
                            "<tr><td>47</td><td>1056</td><td>7</td><td>5</td></tr>",
                            "<tr><td>86</td><td>1057</td><td>5</td><td>7</td></tr>",
                            "<tr><td>151</td><td>1058</td><td>3</td><td>5</td></tr>",
                            "<tr><td>85</td><td>1059</td><td>3</td><td>3</td></tr>",
                            "<tr><td>38</td><td>1060</td><td>2</td><td>3</td></tr>",
                            "<tr><td>154</td><td>1061</td><td>7</td><td>2</td></tr>",
                            "<tr><td>122</td><td>1062</td><td>3</td><td>7</td></tr>",
                            "<tr><td>50</td><td>1063</td><td>2</td><td>3</td></tr>",
                            "<tr><td>139</td><td>1064</td><td>6</td><td>2</td></tr>",
                            "<tr><td>198</td><td>1065</td><td>3</td><td>6</td></tr>",
                            "<tr><td>49</td><td>1066</td><td>7</td><td>3</td></tr>",
                            "<tr><td>183</td><td>1067</td><td>7</td><td>7</td></tr>",
                            "<tr><td>161</td><td>1068</td><td>6</td><td>7</td></tr>",
                            "<tr><td>2</td><td>1069</td><td>7</td><td>6</td></tr>",
                            "<tr><td>20</td><td>1070</td><td>1</td><td>7</td></tr>",
                            "<tr><td>80</td><td>1071</td><td>4</td><td>1</td></tr>",
                            "<tr><td>99</td><td>1072</td><td>1</td><td>4</td></tr>",
                            "<tr><td>5</td><td>1073</td><td>5</td><td>1</td></tr>",
                            "<tr><td>195</td><td>1074</td><td>7</td><td>5</td></tr>",
                            "<tr><td>163</td><td>1075</td><td>4</td><td>7</td></tr>",
                            "<tr><td>29</td><td>1076</td><td>7</td><td>4</td></tr>",
                            "<tr><td>145</td><td>1077</td><td>1</td><td>7</td></tr>",
                            "<tr><td>38</td><td>1078</td><td>7</td><td>1</td></tr>",
                            "<tr><td>86</td><td>1079</td><td>4</td><td>7</td></tr>",
                            "<tr><td>59</td><td>1080</td><td>1</td><td>4</td></tr>",
                            "<tr><td>62</td><td>1081</td><td>7</td><td>1</td></tr>",
                            "<tr><td>27</td><td>1082</td><td>5</td><td>7</td></tr>",
                            "<tr><td>109</td><td>1083</td><td>1</td><td>5</td></tr>",
                            "<tr><td>59</td><td>1084</td><td>2</td><td>1</td></tr>",
                            "<tr><td>113</td><td>1085</td><td>4</td><td>2</td></tr>",
                            "<tr><td>55</td><td>1086</td><td>5</td><td>4</td></tr>",
                            "<tr><td>144</td><td>1087</td><td>2</td><td>5</td></tr>",
                            "<tr><td>43</td><td>1088</td><td>2</td><td>2</td></tr>",
                            "<tr><td>120</td><td>1089</td><td>6</td><td>2</td></tr>",
                            "<tr><td>132</td><td>1090</td><td>7</td><td>6</td></tr>",
                            "<tr><td>197</td><td>1091</td><td>7</td><td>7</td></tr>",
                            "<tr><td>70</td><td>1092</td><td>3</td><td>7</td></tr>",
                            "<tr><td>74</td><td>1093</td><td>6</td><td>3</td></tr>",
                            "<tr><td>175</td><td>1094</td><td>5</td><td>6</td></tr>",
                            "<tr><td>194</td><td>1095</td><td>5</td><td>5</td></tr>",
                            "<tr><td>54</td><td>1096</td><td>4</td><td>5</td></tr>",
                            "<tr><td>95</td><td>1097</td><td>4</td><td>4</td></tr>",
                            "<tr><td>140</td><td>1098</td><td>2</td><td>4</td></tr>",
                            "<tr><td>6</td><td>1099</td><td>4</td><td>2</td></tr>",
                            "<tr><td>150</td><td>1100</td><td>5</td><td>4</td></tr>",
                            "<tr><td>89</td><td>1101</td><td>5</td><td>5</td></tr>",
                            "<tr><td>108</td><td>1102</td><td>1</td><td>5</td></tr>",
                            "<tr><td>87</td><td>1103</td><td>3</td><td>1</td></tr>",
                            "<tr><td>77</td><td>1104</td><td>1</td><td>3</td></tr>",
                            "<tr><td>150</td><td>1105</td><td>1</td><td>1</td></tr>",
                            "<tr><td>20</td><td>1106</td><td>2</td><td>1</td></tr>",
                            "<tr><td>163</td><td>1107</td><td>3</td><td>2</td></tr>",
                            "<tr><td>86</td><td>1108</td><td>1</td><td>3</td></tr>",
                            "<tr><td>110</td><td>1109</td><td>5</td><td>1</td></tr>",
                            "<tr><td>3</td><td>1110</td><td>7</td><td>5</td></tr>",
                            "<tr><td>132</td><td>1111</td><td>3</td><td>7</td></tr>",
                            "<tr><td>155</td><td>1112</td><td>4</td><td>3</td></tr>",
                            "<tr><td>58</td><td>1113</td><td>3</td><td>4</td></tr>",
                            "<tr><td>20</td><td>1114</td><td>5</td><td>3</td></tr>",
                            "<tr><td>151</td><td>1115</td><td>3</td><td>5</td></tr>",
                            "<tr><td>198</td><td>1116</td><td>1</td><td>3</td></tr>",
                            "<tr><td>158</td><td>1117</td><td>3</td><td>1</td></tr>",
                            "<tr><td>40</td><td>1118</td><td>5</td><td>3</td></tr>",
                            "<tr><td>83</td><td>1119</td><td>6</td><td>5</td></tr>",
                            "<tr><td>145</td><td>1120</td><td>1</td><td>6</td></tr>",
                            "<tr><td>115</td><td>1121</td><td>7</td><td>1</td></tr>",
                            "<tr><td>64</td><td>1122</td><td>4</td><td>7</td></tr>",
                            "<tr><td>11</td><td>1123</td><td>5</td><td>4</td></tr>",
                            "<tr><td>112</td><td>1124</td><td>6</td><td>5</td></tr>",
                            "<tr><td>185</td><td>1125</td><td>3</td><td>6</td></tr>",
                            "<tr><td>70</td><td>1126</td><td>3</td><td>3</td></tr>",
                            "<tr><td>4</td><td>1127</td><td>3</td><td>3</td></tr>",
                            "<tr><td>121</td><td>1128</td><td>4</td><td>3</td></tr>",
                            "<tr><td>15</td><td>1129</td><td>4</td><td>4</td></tr>",
                            "<tr><td>22</td><td>1130</td><td>1</td><td>4</td></tr>",
                            "<tr><td>7</td><td>1131</td><td>1</td><td>1</td></tr>",
                            "<tr><td>4</td><td>1132</td><td>6</td><td>1</td></tr>",
                            "<tr><td>175</td><td>1133</td><td>2</td><td>6</td></tr>",
                            "<tr><td>126</td><td>1134</td><td>1</td><td>2</td></tr>",
                            "<tr><td>45</td><td>1135</td><td>3</td><td>1</td></tr>",
                            "<tr><td>30</td><td>1136</td><td>5</td><td>3</td></tr>",
                            "<tr><td>1</td><td>1137</td><td>2</td><td>5</td></tr>",
                            "<tr><td>198</td><td>1138</td><td>5</td><td>2</td></tr>",
                            "<tr><td>19</td><td>1139</td><td>7</td><td>5</td></tr>",
                            "<tr><td>12</td><td>1140</td><td>3</td><td>7</td></tr>",
                            "<tr><td>165</td><td>1141</td><td>1</td><td>3</td></tr>",
                            "<tr><td>172</td><td>1142</td><td>4</td><td>1</td></tr>",
                            "<tr><td>176</td><td>1143</td><td>6</td><td>4</td></tr>",
                            "<tr><td>41</td><td>1144</td><td>1</td><td>6</td></tr>",
                            "<tr><td>145</td><td>1145</td><td>4</td><td>1</td></tr>",
                            "<tr><td>149</td><td>1146</td><td>6</td><td>4</td></tr>",
                            "<tr><td>183</td><td>1147</td><td>4</td><td>6</td></tr>",
                            "<tr><td>61</td><td>1148</td><td>3</td><td>4</td></tr>",
                            "<tr><td>133</td><td>1149</td><td>7</td><td>3</td></tr>",
                            "<tr><td>28</td><td>1150</td><td>6</td><td>7</td></tr>",
                            "<tr><td>3</td><td>1151</td><td>1</td><td>6</td></tr>",
                            "<tr><td>1</td><td>1152</td><td>1</td><td>1</td></tr>",
                            "<tr><td>186</td><td>1153</td><td>3</td><td>1</td></tr>",
                            "<tr><td>115</td><td>1154</td><td>4</td><td>3</td></tr>",
                            "<tr><td>143</td><td>1155</td><td>7</td><td>4</td></tr>",
                            "<tr><td>140</td><td>1156</td><td>3</td><td>7</td></tr>",
                            "<tr><td>9</td><td>1157</td><td>6</td><td>3</td></tr>",
                            "<tr><td>26</td><td>1158</td><td>2</td><td>6</td></tr>",
                            "<tr><td>73</td><td>1159</td><td>5</td><td>2</td></tr>",
                            "<tr><td>152</td><td>1160</td><td>7</td><td>5</td></tr>",
                            "<tr><td>198</td><td>1161</td><td>5</td><td>7</td></tr>",
                            "<tr><td>110</td><td>1162</td><td>2</td><td>5</td></tr>",
                            "<tr><td>55</td><td>1163</td><td>2</td><td>2</td></tr>",
                            "<tr><td>12</td><td>1164</td><td>5</td><td>2</td></tr>",
                            "<tr><td>51</td><td>1165</td><td>5</td><td>5</td></tr>",
                            "<tr><td>122</td><td>1166</td><td>4</td><td>5</td></tr>",
                            "<tr><td>24</td><td>1167</td><td>1</td><td>4</td></tr>",
                            "<tr><td>154</td><td>1168</td><td>6</td><td>1</td></tr>",
                            "<tr><td>93</td><td>1169</td><td>4</td><td>6</td></tr>",
                            "<tr><td>59</td><td>1170</td><td>5</td><td>4</td></tr>",
                            "<tr><td>172</td><td>1171</td><td>5</td><td>5</td></tr>",
                            "<tr><td>197</td><td>1172</td><td>7</td><td>5</td></tr>",
                            "<tr><td>18</td><td>1173</td><td>6</td><td>7</td></tr>",
                            "<tr><td>90</td><td>1174</td><td>7</td><td>6</td></tr>",
                            "<tr><td>7</td><td>1175</td><td>4</td><td>7</td></tr>",
                            "<tr><td>177</td><td>1176</td><td>3</td><td>4</td></tr>",
                            "<tr><td>150</td><td>1177</td><td>1</td><td>3</td></tr>",
                            "<tr><td>134</td><td>1178</td><td>7</td><td>1</td></tr>",
                            "<tr><td>74</td><td>1179</td><td>7</td><td>7</td></tr>",
                            "<tr><td>104</td><td>1180</td><td>1</td><td>7</td></tr>",
                            "<tr><td>171</td><td>1181</td><td>6</td><td>1</td></tr>",
                            "<tr><td>7</td><td>1182</td><td>4</td><td>6</td></tr>",
                            "<tr><td>185</td><td>1183</td><td>5</td><td>4</td></tr>",
                            "<tr><td>195</td><td>1184</td><td>5</td><td>5</td></tr>",
                            "<tr><td>29</td><td>1185</td><td>5</td><td>5</td></tr>",
                            "<tr><td>58</td><td>1186</td><td>6</td><td>5</td></tr>",
                            "<tr><td>46</td><td>1187</td><td>7</td><td>6</td></tr>",
                            "<tr><td>182</td><td>1188</td><td>1</td><td>7</td></tr>",
                            "<tr><td>89</td><td>1189</td><td>6</td><td>1</td></tr>",
                            "<tr><td>161</td><td>1190</td><td>7</td><td>6</td></tr>",
                            "<tr><td>59</td><td>1191</td><td>6</td><td>7</td></tr>",
                            "<tr><td>117</td><td>1192</td><td>2</td><td>6</td></tr>",
                            "<tr><td>143</td><td>1193</td><td>6</td><td>2</td></tr>",
                            "<tr><td>170</td><td>1194</td><td>4</td><td>6</td></tr>",
                            "<tr><td>22</td><td>1195</td><td>6</td><td>4</td></tr>",
                            "<tr><td>88</td><td>1196</td><td>3</td><td>6</td></tr>",
                            "<tr><td>152</td><td>1197</td><td>6</td><td>3</td></tr>",
                            "<tr><td>18</td><td>1198</td><td>4</td><td>6</td></tr>",
                            "<tr><td>144</td><td>1199</td><td>7</td><td>4</td></tr>",
                            "<tr><td>49</td><td>1200</td><td>7</td><td>7</td></tr>",
                            "<tr><td>137</td><td>1201</td><td>6</td><td>7</td></tr>",
                            "<tr><td>52</td><td>1202</td><td>2</td><td>6</td></tr>",
                            "<tr><td>150</td><td>1203</td><td>4</td><td>2</td></tr>",
                            "<tr><td>189</td><td>1204</td><td>2</td><td>4</td></tr>",
                            "<tr><td>162</td><td>1205</td><td>6</td><td>2</td></tr>",
                            "<tr><td>22</td><td>1206</td><td>7</td><td>6</td></tr>",
                            "<tr><td>43</td><td>1207</td><td>1</td><td>7</td></tr>",
                            "<tr><td>58</td><td>1208</td><td>6</td><td>1</td></tr>",
                            "<tr><td>122</td><td>1209</td><td>1</td><td>6</td></tr>",
                            "<tr><td>124</td><td>1210</td><td>4</td><td>1</td></tr>",
                            "<tr><td>178</td><td>1211</td><td>3</td><td>4</td></tr>",
                            "<tr><td>21</td><td>1212</td><td>6</td><td>3</td></tr>",
                            "<tr><td>91</td><td>1213</td><td>3</td><td>6</td></tr>",
                            "<tr><td>39</td><td>1214</td><td>5</td><td>3</td></tr>",
                            "<tr><td>121</td><td>1215</td><td>4</td><td>5</td></tr>",
                            "<tr><td>198</td><td>1216</td><td>7</td><td>4</td></tr>",
                            "<tr><td>93</td><td>1217</td><td>1</td><td>7</td></tr>",
                            "<tr><td>61</td><td>1218</td><td>2</td><td>1</td></tr>",
                            "<tr><td>134</td><td>1219</td><td>6</td><td>2</td></tr>",
                            "<tr><td>9</td><td>1220</td><td>3</td><td>6</td></tr>",
                            "<tr><td>49</td><td>1221</td><td>2</td><td>3</td></tr>",
                            "<tr><td>143</td><td>1222</td><td>2</td><td>2</td></tr>",
                            "<tr><td>123</td><td>1223</td><td>1</td><td>2</td></tr>",
                            "<tr><td>50</td><td>1224</td><td>1</td><td>1</td></tr>",
                            "<tr><td>69</td><td>1225</td><td>5</td><td>1</td></tr>",
                            "<tr><td>127</td><td>1226</td><td>5</td><td>5</td></tr>",
                            "<tr><td>43</td><td>1227</td><td>5</td><td>5</td></tr>",
                            "<tr><td>106</td><td>1228</td><td>7</td><td>5</td></tr>",
                            "<tr><td>79</td><td>1229</td><td>7</td><td>7</td></tr>",
                            "<tr><td>182</td><td>1230</td><td>7</td><td>7</td></tr>",
                            "<tr><td>182</td><td>1231</td><td>4</td><td>7</td></tr>",
                            "<tr><td>55</td><td>1232</td><td>7</td><td>4</td></tr>",
                            "<tr><td>64</td><td>1233</td><td>7</td><td>7</td></tr>",
                            "<tr><td>66</td><td>1234</td><td>3</td><td>7</td></tr>",
                            "<tr><td>29</td><td>1235</td><td>7</td><td>3</td></tr>",
                            "<tr><td>11</td><td>1236</td><td>1</td><td>7</td></tr>",
                            "<tr><td>19</td><td>1237</td><td>1</td><td>1</td></tr>",
                            "<tr><td>193</td><td>1238</td><td>6</td><td>1</td></tr>",
                            "<tr><td>59</td><td>1239</td><td>2</td><td>6</td></tr>",
                            "<tr><td>157</td><td>1240</td><td>7</td><td>2</td></tr>",
                            "<tr><td>94</td><td>1241</td><td>7</td><td>7</td></tr>",
                            "<tr><td>178</td><td>1242</td><td>1</td><td>7</td></tr>",
                            "<tr><td>48</td><td>1243</td><td>6</td><td>1</td></tr>",
                            "<tr><td>15</td><td>1244</td><td>1</td><td>6</td></tr>",
                            "<tr><td>122</td><td>1245</td><td>2</td><td>1</td></tr>",
                            "<tr><td>69</td><td>1246</td><td>7</td><td>2</td></tr>",
                            "<tr><td>117</td><td>1247</td><td>3</td><td>7</td></tr>",
                            "<tr><td>186</td><td>1248</td><td>2</td><td>3</td></tr>",
                            "<tr><td>168</td><td>1249</td><td>4</td><td>2</td></tr>",
                            "<tr><td>107</td><td>1250</td><td>4</td><td>4</td></tr>",
                            "<tr><td>184</td><td>1251</td><td>4</td><td>4</td></tr>",
                            "<tr><td>7</td><td>1252</td><td>2</td><td>4</td></tr>",
                            "<tr><td>89</td><td>1253</td><td>2</td><td>2</td></tr>",
                            "<tr><td>141</td><td>1254</td><td>4</td><td>2</td></tr>",
                            "<tr><td>58</td><td>1255</td><td>7</td><td>4</td></tr>",
                            "<tr><td>138</td><td>1256</td><td>4</td><td>7</td></tr>",
                            "<tr><td>5</td><td>1257</td><td>3</td><td>4</td></tr>",
                            "<tr><td>52</td><td>1258</td><td>5</td><td>3</td></tr>",
                            "<tr><td>140</td><td>1259</td><td>7</td><td>5</td></tr>",
                            "<tr><td>9</td><td>1260</td><td>6</td><td>7</td></tr>",
                            "<tr><td>58</td><td>1261</td><td>6</td><td>6</td></tr>",
                            "<tr><td>154</td><td>1262</td><td>1</td><td>6</td></tr>",
                            "<tr><td>113</td><td>1263</td><td>1</td><td>1</td></tr>",
                            "<tr><td>66</td><td>1264</td><td>4</td><td>1</td></tr>",
                            "<tr><td>163</td><td>1265</td><td>5</td><td>4</td></tr>",
                            "<tr><td>168</td><td>1266</td><td>4</td><td>5</td></tr>",
                            "<tr><td>170</td><td>1267</td><td>7</td><td>4</td></tr>",
                            "<tr><td>78</td><td>1268</td><td>2</td><td>7</td></tr>",
                            "<tr><td>89</td><td>1269</td><td>2</td><td>2</td></tr>",
                            "<tr><td>43</td><td>1270</td><td>4</td><td>2</td></tr>",
                            "<tr><td>106</td><td>1271</td><td>5</td><td>4</td></tr>",
                            "<tr><td>50</td><td>1272</td><td>1</td><td>5</td></tr>",
                            "<tr><td>88</td><td>1273</td><td>7</td><td>1</td></tr>",
                            "<tr><td>1</td><td>1274</td><td>1</td><td>7</td></tr>",
                            "<tr><td>27</td><td>1275</td><td>6</td><td>1</td></tr>",
                            "<tr><td>174</td><td>1276</td><td>1</td><td>6</td></tr>",
                            "<tr><td>82</td><td>1277</td><td>5</td><td>1</td></tr>",
                            "<tr><td>176</td><td>1278</td><td>6</td><td>5</td></tr>",
                            "<tr><td>80</td><td>1279</td><td>5</td><td>6</td></tr>",
                            "<tr><td>137</td><td>1280</td><td>3</td><td>5</td></tr>",
                            "<tr><td>78</td><td>1281</td><td>3</td><td>3</td></tr>",
                            "<tr><td>123</td><td>1282</td><td>6</td><td>3</td></tr>",
                            "<tr><td>138</td><td>1283</td><td>2</td><td>6</td></tr>",
                            "<tr><td>164</td><td>1284</td><td>4</td><td>2</td></tr>",
                            "<tr><td>58</td><td>1285</td><td>7</td><td>4</td></tr>",
                            "<tr><td>127</td><td>1286</td><td>1</td><td>7</td></tr>",
                            "<tr><td>22</td><td>1287</td><td>3</td><td>1</td></tr>",
                            "<tr><td>59</td><td>1288</td><td>3</td><td>3</td></tr>",
                            "<tr><td>135</td><td>1289</td><td>3</td><td>3</td></tr>",
                            "<tr><td>128</td><td>1290</td><td>1</td><td>3</td></tr>",
                            "<tr><td>46</td><td>1291</td><td>3</td><td>1</td></tr>",
                            "<tr><td>164</td><td>1292</td><td>2</td><td>3</td></tr>",
                            "<tr><td>58</td><td>1293</td><td>3</td><td>2</td></tr>",
                            "<tr><td>138</td><td>1294</td><td>5</td><td>3</td></tr>",
                            "<tr><td>44</td><td>1295</td><td>2</td><td>5</td></tr>",
                            "<tr><td>111</td><td>1296</td><td>3</td><td>2</td></tr>",
                            "<tr><td>144</td><td>1297</td><td>1</td><td>3</td></tr>",
                            "<tr><td>109</td><td>1298</td><td>4</td><td>1</td></tr>",
                            "<tr><td>90</td><td>1299</td><td>6</td><td>4</td></tr>",
                            "<tr><td>88</td><td>1300</td><td>3</td><td>6</td></tr>",
                            "<tr><td>132</td><td>1301</td><td>2</td><td>3</td></tr>",
                            "<tr><td>191</td><td>1302</td><td>1</td><td>2</td></tr>",
                            "<tr><td>45</td><td>1303</td><td>2</td><td>1</td></tr>",
                            "<tr><td>197</td><td>1304</td><td>7</td><td>2</td></tr>",
                            "<tr><td>94</td><td>1305</td><td>2</td><td>7</td></tr>",
                            "<tr><td>133</td><td>1306</td><td>3</td><td>2</td></tr>",
                            "<tr><td>58</td><td>1307</td><td>6</td><td>3</td></tr>",
                            "<tr><td>182</td><td>1308</td><td>1</td><td>6</td></tr>",
                            "<tr><td>42</td><td>1309</td><td>2</td><td>1</td></tr>",
                            "<tr><td>155</td><td>1310</td><td>1</td><td>2</td></tr>",
                            "<tr><td>2</td><td>1311</td><td>7</td><td>1</td></tr>",
                            "<tr><td>94</td><td>1312</td><td>3</td><td>7</td></tr>",
                            "<tr><td>143</td><td>1313</td><td>4</td><td>3</td></tr>",
                            "<tr><td>196</td><td>1314</td><td>5</td><td>4</td></tr>",
                            "<tr><td>100</td><td>1315</td><td>5</td><td>5</td></tr>",
                            "<tr><td>17</td><td>1316</td><td>5</td><td>5</td></tr>",
                            "<tr><td>182</td><td>1317</td><td>3</td><td>5</td></tr>",
                            "<tr><td>72</td><td>1318</td><td>2</td><td>3</td></tr>",
                            "<tr><td>10</td><td>1319</td><td>6</td><td>2</td></tr>",
                            "<tr><td>85</td><td>1320</td><td>1</td><td>6</td></tr>",
                            "<tr><td>33</td><td>1321</td><td>4</td><td>1</td></tr>",
                            "<tr><td>58</td><td>1322</td><td>3</td><td>4</td></tr>",
                            "<tr><td>191</td><td>1323</td><td>7</td><td>3</td></tr>",
                            "<tr><td>68</td><td>1324</td><td>4</td><td>7</td></tr>",
                            "<tr><td>70</td><td>1325</td><td>7</td><td>4</td></tr>",
                            "<tr><td>182</td><td>1326</td><td>4</td><td>7</td></tr>",
                            "<tr><td>55</td><td>1327</td><td>6</td><td>4</td></tr>",
                            "<tr><td>54</td><td>1328</td><td>4</td><td>6</td></tr>",
                            "<tr><td>171</td><td>1329</td><td>5</td><td>4</td></tr>",
                            "<tr><td>124</td><td>1330</td><td>7</td><td>5</td></tr>",
                            "<tr><td>73</td><td>1331</td><td>4</td><td>7</td></tr>",
                            "<tr><td>101</td><td>1332</td><td>6</td><td>4</td></tr>",
                            "<tr><td>70</td><td>1333</td><td>6</td><td>6</td></tr>",
                            "<tr><td>1</td><td>1334</td><td>4</td><td>6</td></tr>",
                            "<tr><td>37</td><td>1335</td><td>7</td><td>4</td></tr>",
                            "<tr><td>172</td><td>1336</td><td>5</td><td>7</td></tr>",
                            "<tr><td>122</td><td>1337</td><td>2</td><td>5</td></tr>",
                            "<tr><td>145</td><td>1338</td><td>2</td><td>2</td></tr>",
                            "<tr><td>120</td><td>1339</td><td>6</td><td>2</td></tr>",
                            "<tr><td>196</td><td>1340</td><td>5</td><td>6</td></tr>",
                            "<tr><td>82</td><td>1341</td><td>2</td><td>5</td></tr>",
                            "<tr><td>170</td><td>1342</td><td>6</td><td>2</td></tr>",
                            "<tr><td>102</td><td>1343</td><td>2</td><td>6</td></tr>",
                            "<tr><td>33</td><td>1344</td><td>5</td><td>2</td></tr>",
                            "<tr><td>79</td><td>1345</td><td>3</td><td>5</td></tr>",
                            "<tr><td>181</td><td>1346</td><td>6</td><td>3</td></tr>",
                            "<tr><td>13</td><td>1347</td><td>3</td><td>6</td></tr>",
                            "<tr><td>57</td><td>1348</td><td>1</td><td>3</td></tr>",
                            "<tr><td>87</td><td>1349</td><td>5</td><td>1</td></tr>",
                            "<tr><td>173</td><td>1350</td><td>3</td><td>5</td></tr>",
                            "<tr><td>38</td><td>1351</td><td>4</td><td>3</td></tr>",
                            "<tr><td>115</td><td>1352</td><td>3</td><td>4</td></tr>",
                            "<tr><td>111</td><td>1353</td><td>5</td><td>3</td></tr>",
                            "<tr><td>107</td><td>1354</td><td>1</td><td>5</td></tr>",
                            "<tr><td>93</td><td>1355</td><td>2</td><td>1</td></tr>",
                            "<tr><td>169</td><td>1356</td><td>4</td><td>2</td></tr>",
                            "<tr><td>140</td><td>1357</td><td>4</td><td>4</td></tr>",
                            "<tr><td>138</td><td>1358</td><td>7</td><td>4</td></tr>",
                            "<tr><td>88</td><td>1359</td><td>2</td><td>7</td></tr>",
                            "<tr><td>129</td><td>1360</td><td>6</td><td>2</td></tr>",
                            "<tr><td>140</td><td>1361</td><td>3</td><td>6</td></tr>",
                            "<tr><td>25</td><td>1362</td><td>2</td><td>3</td></tr>",
                            "<tr><td>133</td><td>1363</td><td>5</td><td>2</td></tr>",
                            "<tr><td>126</td><td>1364</td><td>6</td><td>5</td></tr>",
                            "<tr><td>70</td><td>1365</td><td>3</td><td>6</td></tr>",
                            "<tr><td>81</td><td>1366</td><td>5</td><td>3</td></tr>",
                            "<tr><td>80</td><td>1367</td><td>3</td><td>5</td></tr>",
                            "<tr><td>94</td><td>1368</td><td>1</td><td>3</td></tr>",
                            "<tr><td>142</td><td>1369</td><td>6</td><td>1</td></tr>",
                            "<tr><td>138</td><td>1370</td><td>5</td><td>6</td></tr>",
                            "<tr><td>140</td><td>1371</td><td>1</td><td>5</td></tr>",
                            "<tr><td>106</td><td>1372</td><td>7</td><td>1</td></tr>",
                            "<tr><td>121</td><td>1373</td><td>5</td><td>7</td></tr>",
                            "<tr><td>118</td><td>1374</td><td>5</td><td>5</td></tr>",
                            "<tr><td>165</td><td>1375</td><td>4</td><td>5</td></tr>",
                            "<tr><td>84</td><td>1376</td><td>5</td><td>4</td></tr>",
                            "<tr><td>27</td><td>1377</td><td>1</td><td>5</td></tr>",
                            "<tr><td>96</td><td>1378</td><td>3</td><td>1</td></tr>",
                            "<tr><td>83</td><td>1379</td><td>7</td><td>3</td></tr>",
                            "<tr><td>39</td><td>1380</td><td>5</td><td>7</td></tr>",
                            "<tr><td>33</td><td>1381</td><td>6</td><td>5</td></tr>",
                            "<tr><td>67</td><td>1382</td><td>1</td><td>6</td></tr>",
                            "<tr><td>176</td><td>1383</td><td>4</td><td>1</td></tr>",
                            "<tr><td>84</td><td>1384</td><td>7</td><td>4</td></tr>",
                            "<tr><td>122</td><td>1385</td><td>5</td><td>7</td></tr>",
                            "<tr><td>55</td><td>1386</td><td>2</td><td>5</td></tr>",
                            "<tr><td>197</td><td>1387</td><td>3</td><td>2</td></tr>",
                            "<tr><td>26</td><td>1388</td><td>3</td><td>3</td></tr>",
                            "<tr><td>57</td><td>1389</td><td>1</td><td>3</td></tr>",
                            "<tr><td>188</td><td>1390</td><td>5</td><td>1</td></tr>",
                            "<tr><td>93</td><td>1391</td><td>4</td><td>5</td></tr>",
                            "<tr><td>108</td><td>1392</td><td>6</td><td>4</td></tr>",
                            "<tr><td>121</td><td>1393</td><td>6</td><td>6</td></tr>",
                            "<tr><td>143</td><td>1394</td><td>3</td><td>6</td></tr>",
                            "<tr><td>97</td><td>1395</td><td>1</td><td>3</td></tr>",
                            "<tr><td>72</td><td>1396</td><td>3</td><td>1</td></tr>",
                            "<tr><td>91</td><td>1397</td><td>4</td><td>3</td></tr>",
                            "<tr><td>103</td><td>1398</td><td>1</td><td>4</td></tr>",
                            "<tr><td>89</td><td>1399</td><td>2</td><td>1</td></tr>",
                            "<tr><td>162</td><td>1400</td><td>1</td><td>2</td></tr>",
                            "<tr><td>141</td><td>1401</td><td>6</td><td>1</td></tr>",
                            "<tr><td>98</td><td>1402</td><td>2</td><td>6</td></tr>",
                            "<tr><td>124</td><td>1403</td><td>6</td><td>2</td></tr>",
                            "<tr><td>187</td><td>1404</td><td>2</td><td>6</td></tr>",
                            "<tr><td>90</td><td>1405</td><td>5</td><td>2</td></tr>",
                            "<tr><td>82</td><td>1406</td><td>1</td><td>5</td></tr>",
                            "<tr><td>35</td><td>1480</td><td>37</td><td>1</td></tr>",
                            "<tr><td>175</td><td>1407</td><td>7</td><td>37</td></tr>",
                            "<tr><td>99</td><td>1408</td><td>1</td><td>7</td></tr>",
                            "<tr><td>133</td><td>1409</td><td>1</td><td>1</td></tr>",
                            "<tr><td>182</td><td>1410</td><td>4</td><td>1</td></tr>",
                            "<tr><td>35</td><td>1411</td><td>1</td><td>4</td></tr>",
                            "<tr><td>75</td><td>1412</td><td>2</td><td>1</td></tr>",
                            "<tr><td>119</td><td>1413</td><td>3</td><td>2</td></tr>",
                            "<tr><td>167</td><td>1414</td><td>3</td><td>3</td></tr>",
                            "<tr><td>24</td><td>1415</td><td>3</td><td>3</td></tr>",
                            "<tr><td>38</td><td>1416</td><td>5</td><td>3</td></tr>",
                            "<tr><td>97</td><td>1417</td><td>7</td><td>5</td></tr>",
                            "<tr><td>15</td><td>1418</td><td>4</td><td>7</td></tr>",
                            "<tr><td>124</td><td>1419</td><td>3</td><td>4</td></tr>",
                            "<tr><td>198</td><td>1420</td><td>5</td><td>3</td></tr>",
                            "<tr><td>172</td><td>1421</td><td>5</td><td>5</td></tr>",
                            "<tr><td>182</td><td>1422</td><td>3</td><td>5</td></tr>",
                            "<tr><td>9</td><td>1423</td><td>3</td><td>3</td></tr>",
                            "<tr><td>110</td><td>1424</td><td>1</td><td>3</td></tr>",
                            "<tr><td>44</td><td>1425</td><td>2</td><td>1</td></tr>",
                            "<tr><td>62</td><td>1426</td><td>4</td><td>2</td></tr>",
                            "<tr><td>169</td><td>1427</td><td>1</td><td>4</td></tr>",
                            "<tr><td>126</td><td>1428</td><td>7</td><td>1</td></tr>",
                            "<tr><td>173</td><td>1429</td><td>4</td><td>7</td></tr>",
                            "<tr><td>12</td><td>1430</td><td>2</td><td>4</td></tr>",
                            "<tr><td>52</td><td>1431</td><td>5</td><td>2</td></tr>",
                            "<tr><td>150</td><td>1432</td><td>3</td><td>5</td></tr>",
                            "<tr><td>139</td><td>1433</td><td>6</td><td>3</td></tr>",
                            "<tr><td>3</td><td>1434</td><td>5</td><td>6</td></tr>",
                            "<tr><td>39</td><td>1435</td><td>7</td><td>5</td></tr>",
                            "<tr><td>35</td><td>1436</td><td>1</td><td>7</td></tr>",
                            "<tr><td>183</td><td>1437</td><td>4</td><td>1</td></tr>",
                            "<tr><td>96</td><td>1438</td><td>2</td><td>4</td></tr>",
                            "<tr><td>77</td><td>1439</td><td>6</td><td>2</td></tr>",
                            "<tr><td>122</td><td>1440</td><td>3</td><td>6</td></tr>",
                            "<tr><td>185</td><td>1441</td><td>7</td><td>3</td></tr>",
                            "<tr><td>15</td><td>1442</td><td>3</td><td>7</td></tr>",
                            "<tr><td>81</td><td>1443</td><td>7</td><td>3</td></tr>",
                            "<tr><td>42</td><td>1444</td><td>6</td><td>7</td></tr>",
                            "<tr><td>129</td><td>1445</td><td>7</td><td>6</td></tr>",
                            "<tr><td>64</td><td>1446</td><td>6</td><td>7</td></tr>",
                            "<tr><td>79</td><td>1447</td><td>4</td><td>6</td></tr>",
                            "<tr><td>143</td><td>1448</td><td>6</td><td>4</td></tr>",
                            "<tr><td>189</td><td>1449</td><td>2</td><td>6</td></tr>",
                            "<tr><td>139</td><td>1450</td><td>7</td><td>2</td></tr>",
                            "<tr><td>58</td><td>1451</td><td>6</td><td>7</td></tr>",
                            "<tr><td>107</td><td>1452</td><td>6</td><td>6</td></tr>",
                            "<tr><td>86</td><td>1453</td><td>1</td><td>6</td></tr>",
                            "<tr><td>39</td><td>1454</td><td>1</td><td>1</td></tr>",
                            "<tr><td>116</td><td>1455</td><td>2</td><td>1</td></tr>",
                            "<tr><td>87</td><td>1456</td><td>5</td><td>2</td></tr>",
                            "<tr><td>70</td><td>1457</td><td>7</td><td>5</td></tr>",
                            "<tr><td>75</td><td>1458</td><td>1</td><td>7</td></tr>",
                            "<tr><td>28</td><td>1459</td><td>2</td><td>1</td></tr>",
                            "<tr><td>153</td><td>1460</td><td>3</td><td>2</td></tr>",
                            "<tr><td>77</td><td>1461</td><td>4</td><td>3</td></tr>",
                            "<tr><td>156</td><td>1462</td><td>7</td><td>4</td></tr>",
                            "<tr><td>185</td><td>1463</td><td>7</td><td>7</td></tr>",
                            "<tr><td>81</td><td>1464</td><td>7</td><td>7</td></tr>",
                            "<tr><td>64</td><td>1465</td><td>4</td><td>7</td></tr>",
                            "<tr><td>57</td><td>1466</td><td>7</td><td>4</td></tr>",
                            "<tr><td>186</td><td>1467</td><td>3</td><td>7</td></tr>",
                            "<tr><td>117</td><td>1468</td><td>7</td><td>3</td></tr>",
                            "<tr><td>13</td><td>1469</td><td>2</td><td>7</td></tr>",
                            "<tr><td>153</td><td>1470</td><td>5</td><td>2</td></tr>",
                            "<tr><td>145</td><td>1471</td><td>1</td><td>5</td></tr>",
                            "<tr><td>118</td><td>1472</td><td>6</td><td>1</td></tr>",
                            "<tr><td>195</td><td>1473</td><td>7</td><td>6</td></tr>",
                            "<tr><td>131</td><td>1474</td><td>5</td><td>7</td></tr>",
                            "<tr><td>130</td><td>1475</td><td>7</td><td>5</td></tr>",
                            "<tr><td>27</td><td>1476</td><td>1</td><td>7</td></tr>",
                            "<tr><td>51</td><td>1477</td><td>6</td><td>1</td></tr>",
                            "<tr><td>38</td><td>1478</td><td>4</td><td>6</td></tr>",
                            "<tr><td>146</td><td>1479</td><td>6</td><td>4</td></tr>",
                            "<tr><td>118</td><td>1481</td><td>3</td><td>6</td></tr>",
                            "<tr><td>100</td><td>1482</td><td>7</td><td>3</td></tr>",
                            "<tr><td>120</td><td>1483</td><td>1</td><td>7</td></tr>",
                            "<tr><td>195</td><td>1484</td><td>1</td><td>1</td></tr>",
                            "<tr><td>103</td><td>1485</td><td>4</td><td>1</td></tr>",
                            "<tr><td>99</td><td>1486</td><td>5</td><td>4</td></tr>",
                            "<tr><td>163</td><td>1487</td><td>3</td><td>5</td></tr>",
                            "<tr><td>119</td><td>1488</td><td>3</td><td>3</td></tr>",
                            "<tr><td>110</td><td>1489</td><td>6</td><td>3</td></tr>",
                            "<tr><td>156</td><td>1490</td><td>1</td><td>6</td></tr>",
                            "<tr><td>172</td><td>1491</td><td>2</td><td>1</td></tr>",
                            "<tr><td>4</td><td>1492</td><td>6</td><td>2</td></tr>",
                            "<tr><td>120</td><td>1493</td><td>7</td><td>6</td></tr>",
                            "<tr><td>107</td><td>1494</td><td>2</td><td>7</td></tr>",
                            "<tr><td>113</td><td>1495</td><td>7</td><td>2</td></tr>",
                            "<tr><td>61</td><td>1496</td><td>7</td><td>7</td></tr>",
                            "<tr><td>179</td><td>1497</td><td>1</td><td>7</td></tr>",
                            "<tr><td>16</td><td>1498</td><td>7</td><td>1</td></tr>",
                            "<tr><td>113</td><td>1499</td><td>2</td><td>7</td></tr>",
                            "<tr><td>126</td><td>1500</td><td>4</td><td>2</td></tr>",
                            "<tr><td>116</td><td>1501</td><td>4</td><td>4</td></tr>",
                            "<tr><td>191</td><td>1502</td><td>2</td><td>4</td></tr>",
                            "<tr><td>177</td><td>1503</td><td>3</td><td>2</td></tr>",
                            "<tr><td>57</td><td>1504</td><td>4</td><td>3</td></tr>",
                            "<tr><td>18</td><td>1505</td><td>6</td><td>4</td></tr>",
                            "<tr><td>81</td><td>1506</td><td>3</td><td>6</td></tr>",
                            "<tr><td>153</td><td>1507</td><td>3</td><td>3</td></tr>",
                            "<tr><td>191</td><td>1508</td><td>7</td><td>3</td></tr>",
                            "<tr><td>129</td><td>1509</td><td>6</td><td>7</td></tr>",
                            "<tr><td>106</td><td>1510</td><td>6</td><td>6</td></tr>",
                            "<tr><td>176</td><td>1511</td><td>2</td><td>6</td></tr>",
                            "<tr><td>55</td><td>1512</td><td>1</td><td>2</td></tr>",
                            "<tr><td>85</td><td>1513</td><td>7</td><td>1</td></tr>",
                            "<tr><td>149</td><td>1514</td><td>5</td><td>7</td></tr>",
                            "<tr><td>46</td><td>1515</td><td>4</td><td>5</td></tr>",
                            "<tr><td>101</td><td>1516</td><td>4</td><td>4</td></tr>",
                            "<tr><td>190</td><td>1517</td><td>5</td><td>4</td></tr>",
                            "<tr><td>94</td><td>1518</td><td>2</td><td>5</td></tr>",
                            "<tr><td>132</td><td>1519</td><td>2</td><td>2</td></tr>",
                            "<tr><td>55</td><td>1520</td><td>1</td><td>2</td></tr>",
                            "<tr><td>89</td><td>1521</td><td>7</td><td>1</td></tr>",
                            "<tr><td>104</td><td>1522</td><td>2</td><td>7</td></tr>",
                            "<tr><td>11</td><td>1523</td><td>1</td><td>2</td></tr>",
                            "<tr><td>43</td><td>1524</td><td>1</td><td>1</td></tr>",
                            "<tr><td>105</td><td>1525</td><td>5</td><td>1</td></tr>",
                            "<tr><td>166</td><td>1526</td><td>2</td><td>5</td></tr>",
                            "<tr><td>92</td><td>1527</td><td>2</td><td>2</td></tr>",
                            "<tr><td>97</td><td>1528</td><td>2</td><td>2</td></tr>",
                            "<tr><td>35</td><td>1529</td><td>4</td><td>2</td></tr>",
                            "<tr><td>112</td><td>1530</td><td>6</td><td>4</td></tr>",
                            "<tr><td>124</td><td>1531</td><td>6</td><td>6</td></tr>",
                            "<tr><td>104</td><td>1532</td><td>3</td><td>6</td></tr>",
                            "<tr><td>19</td><td>1533</td><td>1</td><td>3</td></tr>",
                            "<tr><td>52</td><td>1534</td><td>5</td><td>1</td></tr>",
                            "<tr><td>134</td><td>1535</td><td>7</td><td>5</td></tr>",
                            "<tr><td>49</td><td>1536</td><td>6</td><td>7</td></tr>",
                            "<tr><td>9</td><td>1537</td><td>3</td><td>6</td></tr>",
                            "<tr><td>39</td><td>1538</td><td>2</td><td>3</td></tr>",
                            "<tr><td>154</td><td>1539</td><td>2</td><td>2</td></tr>",
                            "<tr><td>114</td><td>1540</td><td>3</td><td>2</td></tr>",
                            "<tr><td>155</td><td>1541</td><td>1</td><td>3</td></tr>",
                            "<tr><td>14</td><td>1542</td><td>4</td><td>1</td></tr>",
                            "<tr><td>95</td><td>1543</td><td>7</td><td>4</td></tr>",
                            "<tr><td>3</td><td>1544</td><td>5</td><td>7</td></tr>",
                            "<tr><td>142</td><td>1545</td><td>3</td><td>5</td></tr>",
                            "<tr><td>48</td><td>1546</td><td>3</td><td>3</td></tr>",
                            "<tr><td>48</td><td>1547</td><td>1</td><td>3</td></tr>",
                            "<tr><td>88</td><td>1548</td><td>7</td><td>1</td></tr>",
                            "<tr><td>17</td><td>1549</td><td>3</td><td>7</td></tr>",
                            "<tr><td>51</td><td>1550</td><td>1</td><td>3</td></tr>",
                            "<tr><td>157</td><td>1551</td><td>3</td><td>1</td></tr>",
                            "<tr><td>44</td><td>1552</td><td>2</td><td>3</td></tr>",
                            "<tr><td>43</td><td>1553</td><td>5</td><td>2</td></tr>",
                            "<tr><td>115</td><td>1554</td><td>3</td><td>5</td></tr>",
                            "<tr><td>92</td><td>1555</td><td>4</td><td>3</td></tr>",
                            "<tr><td>38</td><td>1556</td><td>6</td><td>4</td></tr>",
                            "<tr><td>76</td><td>1557</td><td>3</td><td>6</td></tr>",
                            "<tr><td>152</td><td>1558</td><td>2</td><td>3</td></tr>",
                            "<tr><td>180</td><td>1559</td><td>3</td><td>2</td></tr>",
                            "<tr><td>109</td><td>1560</td><td>1</td><td>3</td></tr>",
                            "<tr><td>156</td><td>1561</td><td>4</td><td>1</td></tr>",
                            "<tr><td>81</td><td>1562</td><td>3</td><td>4</td></tr>",
                            "<tr><td>180</td><td>1563</td><td>6</td><td>3</td></tr>",
                            "<tr><td>94</td><td>1564</td><td>7</td><td>6</td></tr>",
                            "<tr><td>160</td><td>1565</td><td>3</td><td>7</td></tr>",
                            "<tr><td>115</td><td>1566</td><td>1</td><td>3</td></tr>",
                            "<tr><td>171</td><td>1567</td><td>6</td><td>1</td></tr>",
                            "<tr><td>29</td><td>1568</td><td>7</td><td>6</td></tr>",
                            "<tr><td>96</td><td>1569</td><td>7</td><td>7</td></tr>",
                            "<tr><td>176</td><td>1570</td><td>3</td><td>7</td></tr>",
                            "<tr><td>161</td><td>1571</td><td>4</td><td>3</td></tr>",
                            "<tr><td>144</td><td>1572</td><td>2</td><td>4</td></tr>",
                            "<tr><td>59</td><td>1573</td><td>1</td><td>2</td></tr>",
                            "<tr><td>128</td><td>1574</td><td>1</td><td>1</td></tr>",
                            "<tr><td>88</td><td>1575</td><td>6</td><td>1</td></tr>",
                            "<tr><td>189</td><td>1576</td><td>3</td><td>6</td></tr>",
                            "<tr><td>78</td><td>1577</td><td>7</td><td>3</td></tr>",
                            "<tr><td>148</td><td>1578</td><td>7</td><td>7</td></tr>",
                            "<tr><td>127</td><td>1579</td><td>5</td><td>7</td></tr>",
                            "<tr><td>67</td><td>1580</td><td>5</td><td>5</td></tr>",
                            "<tr><td>48</td><td>1581</td><td>5</td><td>5</td></tr>",
                            "<tr><td>64</td><td>1582</td><td>1</td><td>5</td></tr>",
                            "<tr><td>128</td><td>1583</td><td>4</td><td>1</td></tr>",
                            "<tr><td>67</td><td>1584</td><td>1</td><td>4</td></tr>",
                            "</table>"
                        ]
                    }
                }
            ],
            "execution_count": 15
        },
        {
            "cell_type": "code",
            "source": [
                "SELECT *, v.NEV, AVG(f.FELNOTT_SZAM+f.GYERMEK_SZAM) OVER (PARTITION BY v.NEV ORDER BY v.NEV ROWS BETWEEN 3 PRECEDING AND 1 PRECEDING) AS 'Elöző három foglalás átlaga'\r\n",
                "FROM Foglalas f  RIGHT JOIN Vendeg v ON v.USERNEV=f.UGYFEL_FK\r\n",
                "WHERE (f.FELNOTT_SZAM+f.GYERMEK_SZAM)<(\r\n",
                "    SELECT AVG(f2.FELNOTT_SZAM+f2.GYERMEK_SZAM)\r\n",
                "    FROM Foglalas f2\r\n",
                ")"
            ],
            "metadata": {
                "azdata_cell_guid": "e0ad7858-82ac-4873-8d7f-cf5b557b9039",
                "language": "sql"
            },
            "outputs": [
                {
                    "output_type": "display_data",
                    "data": {
                        "text/html": "(147 rows affected)"
                    },
                    "metadata": {}
                },
                {
                    "output_type": "display_data",
                    "data": {
                        "text/html": "Total execution time: 00:00:00.016"
                    },
                    "metadata": {}
                },
                {
                    "output_type": "execute_result",
                    "metadata": {},
                    "execution_count": 23,
                    "data": {
                        "application/vnd.dataresource+json": {
                            "schema": {
                                "fields": [
                                    {
                                        "name": "FOGLALAS_PK"
                                    },
                                    {
                                        "name": "UGYFEL_FK"
                                    },
                                    {
                                        "name": "SZOBA_FK"
                                    },
                                    {
                                        "name": "METTOL"
                                    },
                                    {
                                        "name": "MEDDIG"
                                    },
                                    {
                                        "name": "FELNOTT_SZAM"
                                    },
                                    {
                                        "name": "GYERMEK_SZAM"
                                    },
                                    {
                                        "name": "USERNEV"
                                    },
                                    {
                                        "name": "NEV"
                                    },
                                    {
                                        "name": "EMAIL"
                                    },
                                    {
                                        "name": "SZAML_CIM"
                                    },
                                    {
                                        "name": "SZUL_DAT"
                                    },
                                    {
                                        "name": "NEV"
                                    },
                                    {
                                        "name": "Elöző három foglalás átlaga"
                                    }
                                ]
                            },
                            "data": [
                                {
                                    "FOGLALAS_PK": "757",
                                    "UGYFEL_FK": "david",
                                    "SZOBA_FK": "88",
                                    "METTOL": "2016-08-05",
                                    "MEDDIG": "2016-08-12",
                                    "FELNOTT_SZAM": "1",
                                    "GYERMEK_SZAM": "0",
                                    "USERNEV": "david",
                                    "NEV": "Ambrus Dávid",
                                    "EMAIL": "david@gmail.com",
                                    "SZAML_CIM": "1149 Budapest Fő út 18.",
                                    "SZUL_DAT": "1974-02-11",
                                    "Elöző három foglalás átlaga": "NULL"
                                },
                                {
                                    "FOGLALAS_PK": "923",
                                    "UGYFEL_FK": "LASZLOA",
                                    "SZOBA_FK": "123",
                                    "METTOL": "2016-06-07",
                                    "MEDDIG": "2016-06-11",
                                    "FELNOTT_SZAM": "1",
                                    "GYERMEK_SZAM": "0",
                                    "USERNEV": "LASZLOA",
                                    "NEV": "Antal László",
                                    "EMAIL": "lászló.antal@mail.hu",
                                    "SZAML_CIM": "2484 Agárd Bécsi utca 82.",
                                    "SZUL_DAT": "1969-06-29",
                                    "Elöző három foglalás átlaga": "NULL"
                                },
                                {
                                    "FOGLALAS_PK": "1005",
                                    "UGYFEL_FK": "beata4",
                                    "SZOBA_FK": "22",
                                    "METTOL": "2016-07-03",
                                    "MEDDIG": "2016-07-06",
                                    "FELNOTT_SZAM": "1",
                                    "GYERMEK_SZAM": "0",
                                    "USERNEV": "beata4",
                                    "NEV": "Bagi Beáta",
                                    "EMAIL": "beáta.bagi@mail.hu",
                                    "SZAML_CIM": "8477 Tüskevár Felszabadulás utca 32.",
                                    "SZUL_DAT": "1994-03-19",
                                    "Elöző három foglalás átlaga": "NULL"
                                },
                                {
                                    "FOGLALAS_PK": "1112",
                                    "UGYFEL_FK": "beata4",
                                    "SZOBA_FK": "155",
                                    "METTOL": "2016-10-01",
                                    "MEDDIG": "2016-10-05",
                                    "FELNOTT_SZAM": "1",
                                    "GYERMEK_SZAM": "0",
                                    "USERNEV": "beata4",
                                    "NEV": "Bagi Beáta",
                                    "EMAIL": "beáta.bagi@mail.hu",
                                    "SZAML_CIM": "8477 Tüskevár Felszabadulás utca 32.",
                                    "SZUL_DAT": "1994-03-19",
                                    "Elöző három foglalás átlaga": "1"
                                },
                                {
                                    "FOGLALAS_PK": "1436",
                                    "UGYFEL_FK": "alexandra",
                                    "SZOBA_FK": "35",
                                    "METTOL": "2017-01-13",
                                    "MEDDIG": "2017-01-14",
                                    "FELNOTT_SZAM": "1",
                                    "GYERMEK_SZAM": "0",
                                    "USERNEV": "alexandra",
                                    "NEV": "Bagóczki Alexandra",
                                    "EMAIL": "alexandra.bagóczki@mail.hu",
                                    "SZAML_CIM": "2381 Táborfalva Petőfi utca 1/2.",
                                    "SZUL_DAT": "1992-03-25",
                                    "Elöző három foglalás átlaga": "NULL"
                                },
                                {
                                    "FOGLALAS_PK": "1187",
                                    "UGYFEL_FK": "eszter2",
                                    "SZOBA_FK": "46",
                                    "METTOL": "2016-10-23",
                                    "MEDDIG": "2016-10-30",
                                    "FELNOTT_SZAM": "1",
                                    "GYERMEK_SZAM": "0",
                                    "USERNEV": "eszter2",
                                    "NEV": "Balogh Eszter",
                                    "EMAIL": "eszter.balogh@mail.hu",
                                    "SZAML_CIM": "6760 Kistelek Kossuth utca 11.",
                                    "SZUL_DAT": "1998-01-31",
                                    "Elöző három foglalás átlaga": "NULL"
                                },
                                {
                                    "FOGLALAS_PK": "1171",
                                    "UGYFEL_FK": "eszter2",
                                    "SZOBA_FK": "172",
                                    "METTOL": "2016-10-20",
                                    "MEDDIG": "2016-10-25",
                                    "FELNOTT_SZAM": "1",
                                    "GYERMEK_SZAM": "0",
                                    "USERNEV": "eszter2",
                                    "NEV": "Balogh Eszter",
                                    "EMAIL": "eszter.balogh@mail.hu",
                                    "SZAML_CIM": "6760 Kistelek Kossuth utca 11.",
                                    "SZUL_DAT": "1998-01-31",
                                    "Elöző három foglalás átlaga": "1"
                                },
                                {
                                    "FOGLALAS_PK": "1109",
                                    "UGYFEL_FK": "eszter2",
                                    "SZOBA_FK": "110",
                                    "METTOL": "2016-10-01",
                                    "MEDDIG": "2016-10-06",
                                    "FELNOTT_SZAM": "1",
                                    "GYERMEK_SZAM": "0",
                                    "USERNEV": "eszter2",
                                    "NEV": "Balogh Eszter",
                                    "EMAIL": "eszter.balogh@mail.hu",
                                    "SZAML_CIM": "6760 Kistelek Kossuth utca 11.",
                                    "SZUL_DAT": "1998-01-31",
                                    "Elöző három foglalás átlaga": "1"
                                },
                                {
                                    "FOGLALAS_PK": "1017",
                                    "UGYFEL_FK": "eszter2",
                                    "SZOBA_FK": "190",
                                    "METTOL": "2016-07-08",
                                    "MEDDIG": "2016-07-09",
                                    "FELNOTT_SZAM": "1",
                                    "GYERMEK_SZAM": "0",
                                    "USERNEV": "eszter2",
                                    "NEV": "Balogh Eszter",
                                    "EMAIL": "eszter.balogh@mail.hu",
                                    "SZAML_CIM": "6760 Kistelek Kossuth utca 11.",
                                    "SZUL_DAT": "1998-01-31",
                                    "Elöző három foglalás átlaga": "1"
                                },
                                {
                                    "FOGLALAS_PK": "1480",
                                    "UGYFEL_FK": "eszter2",
                                    "SZOBA_FK": "35",
                                    "METTOL": "2016-12-29",
                                    "MEDDIG": "2017-02-04",
                                    "FELNOTT_SZAM": "1",
                                    "GYERMEK_SZAM": "0",
                                    "USERNEV": "eszter2",
                                    "NEV": "Balogh Eszter",
                                    "EMAIL": "eszter.balogh@mail.hu",
                                    "SZAML_CIM": "6760 Kistelek Kossuth utca 11.",
                                    "SZUL_DAT": "1998-01-31",
                                    "Elöző három foglalás átlaga": "1"
                                },
                                {
                                    "FOGLALAS_PK": "1336",
                                    "UGYFEL_FK": "eszter2",
                                    "SZOBA_FK": "172",
                                    "METTOL": "2016-12-02",
                                    "MEDDIG": "2016-12-07",
                                    "FELNOTT_SZAM": "1",
                                    "GYERMEK_SZAM": "0",
                                    "USERNEV": "eszter2",
                                    "NEV": "Balogh Eszter",
                                    "EMAIL": "eszter.balogh@mail.hu",
                                    "SZAML_CIM": "6760 Kistelek Kossuth utca 11.",
                                    "SZUL_DAT": "1998-01-31",
                                    "Elöző három foglalás átlaga": "1"
                                },
                                {
                                    "FOGLALAS_PK": "981",
                                    "UGYFEL_FK": "maria1",
                                    "SZOBA_FK": "171",
                                    "METTOL": "2016-06-23",
                                    "MEDDIG": "2016-06-27",
                                    "FELNOTT_SZAM": "1",
                                    "GYERMEK_SZAM": "0",
                                    "USERNEV": "maria1",
                                    "NEV": "Baráth Mária",
                                    "EMAIL": "mária.baráth@mail.hu",
                                    "SZAML_CIM": "1047 Budapest Posta köz 2.",
                                    "SZUL_DAT": "1995-11-19",
                                    "Elöző három foglalás átlaga": "NULL"
                                },
                                {
                                    "FOGLALAS_PK": "652",
                                    "UGYFEL_FK": "maria1",
                                    "SZOBA_FK": "149",
                                    "METTOL": "2016-05-18",
                                    "MEDDIG": "2016-05-19",
                                    "FELNOTT_SZAM": "1",
                                    "GYERMEK_SZAM": "0",
                                    "USERNEV": "maria1",
                                    "NEV": "Baráth Mária",
                                    "EMAIL": "mária.baráth@mail.hu",
                                    "SZAML_CIM": "1047 Budapest Posta köz 2.",
                                    "SZUL_DAT": "1995-11-19",
                                    "Elöző három foglalás átlaga": "1"
                                },
                                {
                                    "FOGLALAS_PK": "846",
                                    "UGYFEL_FK": "maria1",
                                    "SZOBA_FK": "45",
                                    "METTOL": "2016-09-02",
                                    "MEDDIG": "2016-09-05",
                                    "FELNOTT_SZAM": "1",
                                    "GYERMEK_SZAM": "0",
                                    "USERNEV": "maria1",
                                    "NEV": "Baráth Mária",
                                    "EMAIL": "mária.baráth@mail.hu",
                                    "SZAML_CIM": "1047 Budapest Posta köz 2.",
                                    "SZUL_DAT": "1995-11-19",
                                    "Elöző három foglalás átlaga": "1"
                                },
                                {
                                    "FOGLALAS_PK": "1504",
                                    "UGYFEL_FK": "adam3",
                                    "SZOBA_FK": "57",
                                    "METTOL": "2017-02-06",
                                    "MEDDIG": "2017-02-10",
                                    "FELNOTT_SZAM": "1",
                                    "GYERMEK_SZAM": "0",
                                    "USERNEV": "adam3",
                                    "NEV": "Barkóci Ádám",
                                    "EMAIL": "adam3@gmail.com",
                                    "SZAML_CIM": "3910 Tokaj Dózsa György utca 37.",
                                    "SZUL_DAT": "1970-06-07",
                                    "Elöző három foglalás átlaga": "NULL"
                                },
                                {
                                    "FOGLALAS_PK": "1230",
                                    "UGYFEL_FK": "zoltan4",
                                    "SZOBA_FK": "182",
                                    "METTOL": "2016-10-30",
                                    "MEDDIG": "2016-11-06",
                                    "FELNOTT_SZAM": "1",
                                    "GYERMEK_SZAM": "0",
                                    "USERNEV": "zoltan4",
                                    "NEV": "Barna Zoltán",
                                    "EMAIL": "zoltan4@gmail.com",
                                    "SZAML_CIM": "8313 Balatongyörök Jászai tér 21.",
                                    "SZUL_DAT": "1986-05-20",
                                    "Elöző három foglalás átlaga": "NULL"
                                },
                                {
                                    "FOGLALAS_PK": "1403",
                                    "UGYFEL_FK": "zoltan4",
                                    "SZOBA_FK": "124",
                                    "METTOL": "2016-12-29",
                                    "MEDDIG": "2017-01-04",
                                    "FELNOTT_SZAM": "1",
                                    "GYERMEK_SZAM": "0",
                                    "USERNEV": "zoltan4",
                                    "NEV": "Barna Zoltán",
                                    "EMAIL": "zoltan4@gmail.com",
                                    "SZAML_CIM": "8313 Balatongyörök Jászai tér 21.",
                                    "SZUL_DAT": "1986-05-20",
                                    "Elöző három foglalás átlaga": "1"
                                },
                                {
                                    "FOGLALAS_PK": "779",
                                    "UGYFEL_FK": "zoltan4",
                                    "SZOBA_FK": "130",
                                    "METTOL": "2016-08-15",
                                    "MEDDIG": "2016-08-21",
                                    "FELNOTT_SZAM": "1",
                                    "GYERMEK_SZAM": "0",
                                    "USERNEV": "zoltan4",
                                    "NEV": "Barna Zoltán",
                                    "EMAIL": "zoltan4@gmail.com",
                                    "SZAML_CIM": "8313 Balatongyörök Jászai tér 21.",
                                    "SZUL_DAT": "1986-05-20",
                                    "Elöző három foglalás átlaga": "1"
                                },
                                {
                                    "FOGLALAS_PK": "893",
                                    "UGYFEL_FK": "zoltan4",
                                    "SZOBA_FK": "151",
                                    "METTOL": "2016-06-03",
                                    "MEDDIG": "2016-06-06",
                                    "FELNOTT_SZAM": "1",
                                    "GYERMEK_SZAM": "0",
                                    "USERNEV": "zoltan4",
                                    "NEV": "Barna Zoltán",
                                    "EMAIL": "zoltan4@gmail.com",
                                    "SZAML_CIM": "8313 Balatongyörök Jászai tér 21.",
                                    "SZUL_DAT": "1986-05-20",
                                    "Elöző három foglalás átlaga": "1"
                                },
                                {
                                    "FOGLALAS_PK": "1428",
                                    "UGYFEL_FK": "zsuzsanna",
                                    "SZOBA_FK": "126",
                                    "METTOL": "2017-01-09",
                                    "MEDDIG": "2017-01-16",
                                    "FELNOTT_SZAM": "1",
                                    "GYERMEK_SZAM": "0",
                                    "USERNEV": "zsuzsanna",
                                    "NEV": "Barta Zsuzsanna",
                                    "EMAIL": "zsuzsanna.barta@mail.hu",
                                    "SZAML_CIM": "4172 Biharnagybajom Dózsa György utca 37.",
                                    "SZUL_DAT": "1994-10-07",
                                    "Elöző három foglalás átlaga": "NULL"
                                },
                                {
                                    "FOGLALAS_PK": "562",
                                    "UGYFEL_FK": "PETERB",
                                    "SZOBA_FK": "7",
                                    "METTOL": "2016-04-06",
                                    "MEDDIG": "2016-04-10",
                                    "FELNOTT_SZAM": "1",
                                    "GYERMEK_SZAM": "0",
                                    "USERNEV": "PETERB",
                                    "NEV": "Berendi Péter",
                                    "EMAIL": "péter.berendi@mail.hu",
                                    "SZAML_CIM": "3980 Sátoraljaújhely Vasút utca 4/10.",
                                    "SZUL_DAT": "1969-01-01",
                                    "Elöző három foglalás átlaga": "NULL"
                                },
                                {
                                    "FOGLALAS_PK": "781",
                                    "UGYFEL_FK": "PETERB",
                                    "SZOBA_FK": "166",
                                    "METTOL": "2016-08-16",
                                    "MEDDIG": "2016-08-23",
                                    "FELNOTT_SZAM": "1",
                                    "GYERMEK_SZAM": "0",
                                    "USERNEV": "PETERB",
                                    "NEV": "Berendi Péter",
                                    "EMAIL": "péter.berendi@mail.hu",
                                    "SZAML_CIM": "3980 Sátoraljaújhely Vasút utca 4/10.",
                                    "SZUL_DAT": "1969-01-01",
                                    "Elöző három foglalás átlaga": "1"
                                },
                                {
                                    "FOGLALAS_PK": "1252",
                                    "UGYFEL_FK": "norbert5",
                                    "SZOBA_FK": "7",
                                    "METTOL": "2016-11-05",
                                    "MEDDIG": "2016-11-07",
                                    "FELNOTT_SZAM": "1",
                                    "GYERMEK_SZAM": "0",
                                    "USERNEV": "norbert5",
                                    "NEV": "Béres Norbert",
                                    "EMAIL": "norbert5@gmail.com",
                                    "SZAML_CIM": "8640 Fonyód Bajcsy-Zsilinszky utca 4.",
                                    "SZUL_DAT": "1975-07-27",
                                    "Elöző három foglalás átlaga": "NULL"
                                },
                                {
                                    "FOGLALAS_PK": "1034",
                                    "UGYFEL_FK": "akos",
                                    "SZOBA_FK": "127",
                                    "METTOL": "2016-09-06",
                                    "MEDDIG": "2016-09-12",
                                    "FELNOTT_SZAM": "1",
                                    "GYERMEK_SZAM": "0",
                                    "USERNEV": "akos",
                                    "NEV": "Bíró Ákos",
                                    "EMAIL": "ákos.bíró@mail.hu",
                                    "SZAML_CIM": "9023 Győr Kossuth Lajos utca 47/b.",
                                    "SZUL_DAT": "1982-04-24",
                                    "Elöző három foglalás átlaga": "NULL"
                                },
                                {
                                    "FOGLALAS_PK": "705",
                                    "UGYFEL_FK": "akos",
                                    "SZOBA_FK": "37",
                                    "METTOL": "2016-07-22",
                                    "MEDDIG": "2016-07-26",
                                    "FELNOTT_SZAM": "1",
                                    "GYERMEK_SZAM": "0",
                                    "USERNEV": "akos",
                                    "NEV": "Bíró Ákos",
                                    "EMAIL": "ákos.bíró@mail.hu",
                                    "SZAML_CIM": "9023 Győr Kossuth Lajos utca 47/b.",
                                    "SZUL_DAT": "1982-04-24",
                                    "Elöző három foglalás átlaga": "1"
                                },
                                {
                                    "FOGLALAS_PK": "648",
                                    "UGYFEL_FK": "krisztina1",
                                    "SZOBA_FK": "157",
                                    "METTOL": "2016-05-16",
                                    "MEDDIG": "2016-05-20",
                                    "FELNOTT_SZAM": "1",
                                    "GYERMEK_SZAM": "0",
                                    "USERNEV": "krisztina1",
                                    "NEV": "Bori Krisztina",
                                    "EMAIL": "krisztina.bori@mail.hu",
                                    "SZAML_CIM": "2115 Vácszentlászló Fő utca 47.",
                                    "SZUL_DAT": "1969-10-13",
                                    "Elöző három foglalás átlaga": "NULL"
                                },
                                {
                                    "FOGLALAS_PK": "1103",
                                    "UGYFEL_FK": "vivien3",
                                    "SZOBA_FK": "87",
                                    "METTOL": "2016-10-01",
                                    "MEDDIG": "2016-10-04",
                                    "FELNOTT_SZAM": "1",
                                    "GYERMEK_SZAM": "0",
                                    "USERNEV": "vivien3",
                                    "NEV": "Boros Vivien",
                                    "EMAIL": "vivien3@gmail.com",
                                    "SZAML_CIM": "2117 Isaszeg Fő út 122.",
                                    "SZUL_DAT": "1991-07-01",
                                    "Elöző három foglalás átlaga": "NULL"
                                },
                                {
                                    "FOGLALAS_PK": "1001",
                                    "UGYFEL_FK": "aniko4",
                                    "SZOBA_FK": "4",
                                    "METTOL": "2016-07-02",
                                    "MEDDIG": "2016-07-09",
                                    "FELNOTT_SZAM": "1",
                                    "GYERMEK_SZAM": "0",
                                    "USERNEV": "aniko4",
                                    "NEV": "Böröcz Anikó",
                                    "EMAIL": "aniko4@gmail.com",
                                    "SZAML_CIM": "2484 Agárd Petőfi Sándor tér 1.",
                                    "SZUL_DAT": "1978-03-26",
                                    "Elöző három foglalás átlaga": "NULL"
                                },
                                {
                                    "FOGLALAS_PK": "787",
                                    "UGYFEL_FK": "krisztian4",
                                    "SZOBA_FK": "50",
                                    "METTOL": "2016-08-16",
                                    "MEDDIG": "2016-08-19",
                                    "FELNOTT_SZAM": "1",
                                    "GYERMEK_SZAM": "0",
                                    "USERNEV": "krisztian4",
                                    "NEV": "Czérna Krisztián",
                                    "EMAIL": "krisztián.czérna@mail.hu",
                                    "SZAML_CIM": "1107 Budapest Dózsa György utca 37.",
                                    "SZUL_DAT": "1970-08-01",
                                    "Elöző három foglalás átlaga": "NULL"
                                },
                                {
                                    "FOGLALAS_PK": "834",
                                    "UGYFEL_FK": "krisztian4",
                                    "SZOBA_FK": "149",
                                    "METTOL": "2016-08-29",
                                    "MEDDIG": "2016-09-03",
                                    "FELNOTT_SZAM": "1",
                                    "GYERMEK_SZAM": "0",
                                    "USERNEV": "krisztian4",
                                    "NEV": "Czérna Krisztián",
                                    "EMAIL": "krisztián.czérna@mail.hu",
                                    "SZAML_CIM": "1107 Budapest Dózsa György utca 37.",
                                    "SZUL_DAT": "1970-08-01",
                                    "Elöző három foglalás átlaga": "1"
                                },
                                {
                                    "FOGLALAS_PK": "1422",
                                    "UGYFEL_FK": "krisztian4",
                                    "SZOBA_FK": "182",
                                    "METTOL": "2017-01-06",
                                    "MEDDIG": "2017-01-09",
                                    "FELNOTT_SZAM": "1",
                                    "GYERMEK_SZAM": "0",
                                    "USERNEV": "krisztian4",
                                    "NEV": "Czérna Krisztián",
                                    "EMAIL": "krisztián.czérna@mail.hu",
                                    "SZAML_CIM": "1107 Budapest Dózsa György utca 37.",
                                    "SZUL_DAT": "1970-08-01",
                                    "Elöző három foglalás átlaga": "1"
                                },
                                {
                                    "FOGLALAS_PK": "974",
                                    "UGYFEL_FK": "bertalan",
                                    "SZOBA_FK": "169",
                                    "METTOL": "2016-06-20",
                                    "MEDDIG": "2016-06-21",
                                    "FELNOTT_SZAM": "1",
                                    "GYERMEK_SZAM": "0",
                                    "USERNEV": "bertalan",
                                    "NEV": "Csiger Bertalan",
                                    "EMAIL": "bertalan@gmail.com",
                                    "SZAML_CIM": "1192 Budapest Fő út 169.",
                                    "SZUL_DAT": "1977-10-15",
                                    "Elöző három foglalás átlaga": "NULL"
                                },
                                {
                                    "FOGLALAS_PK": "1154",
                                    "UGYFEL_FK": "attila",
                                    "SZOBA_FK": "115",
                                    "METTOL": "2016-10-15",
                                    "MEDDIG": "2016-10-19",
                                    "FELNOTT_SZAM": "1",
                                    "GYERMEK_SZAM": "0",
                                    "USERNEV": "attila",
                                    "NEV": "Csóti Attila",
                                    "EMAIL": "attila@gmail.com",
                                    "SZAML_CIM": "3000 Hatvan Bajcsy-Zsilinszky utca 4.",
                                    "SZUL_DAT": "1979-12-25",
                                    "Elöző három foglalás átlaga": "NULL"
                                },
                                {
                                    "FOGLALAS_PK": "651",
                                    "UGYFEL_FK": "aladar",
                                    "SZOBA_FK": "4",
                                    "METTOL": "2016-05-17",
                                    "MEDDIG": "2016-05-24",
                                    "FELNOTT_SZAM": "1",
                                    "GYERMEK_SZAM": "0",
                                    "USERNEV": "aladar",
                                    "NEV": "Dunai Aladár",
                                    "EMAIL": "aladár.dunai@mail.hu",
                                    "SZAML_CIM": "5931 Nagyszénás Árpád utca 23.",
                                    "SZUL_DAT": "1980-11-01",
                                    "Elöző három foglalás átlaga": "NULL"
                                },
                                {
                                    "FOGLALAS_PK": "1079",
                                    "UGYFEL_FK": "aladar",
                                    "SZOBA_FK": "86",
                                    "METTOL": "2016-09-24",
                                    "MEDDIG": "2016-09-28",
                                    "FELNOTT_SZAM": "1",
                                    "GYERMEK_SZAM": "0",
                                    "USERNEV": "aladar",
                                    "NEV": "Dunai Aladár",
                                    "EMAIL": "aladár.dunai@mail.hu",
                                    "SZAML_CIM": "5931 Nagyszénás Árpád utca 23.",
                                    "SZUL_DAT": "1980-11-01",
                                    "Elöző három foglalás átlaga": "1"
                                },
                                {
                                    "FOGLALAS_PK": "600",
                                    "UGYFEL_FK": "ANDRASE",
                                    "SZOBA_FK": "190",
                                    "METTOL": "2016-04-24",
                                    "MEDDIG": "2016-05-01",
                                    "FELNOTT_SZAM": "1",
                                    "GYERMEK_SZAM": "0",
                                    "USERNEV": "ANDRASE",
                                    "NEV": "Erdei András",
                                    "EMAIL": "ANDRASE@gmail.com",
                                    "SZAML_CIM": "5071 Besenyszög Szolnoki út 8.",
                                    "SZUL_DAT": "1997-05-29",
                                    "Elöző három foglalás átlaga": "NULL"
                                },
                                {
                                    "FOGLALAS_PK": "1350",
                                    "UGYFEL_FK": "BELAF",
                                    "SZOBA_FK": "173",
                                    "METTOL": "2016-12-06",
                                    "MEDDIG": "2016-12-09",
                                    "FELNOTT_SZAM": "1",
                                    "GYERMEK_SZAM": "0",
                                    "USERNEV": "BELAF",
                                    "NEV": "Farkas Béla",
                                    "EMAIL": "BELAF@gmail.com",
                                    "SZAML_CIM": "5530 Vésztő Petőfi Sándor utca 3.",
                                    "SZUL_DAT": "1995-02-24",
                                    "Elöző három foglalás átlaga": "NULL"
                                },
                                {
                                    "FOGLALAS_PK": "858",
                                    "UGYFEL_FK": "sandor3",
                                    "SZOBA_FK": "121",
                                    "METTOL": "2016-05-25",
                                    "MEDDIG": "2016-05-30",
                                    "FELNOTT_SZAM": "1",
                                    "GYERMEK_SZAM": "0",
                                    "USERNEV": "sandor3",
                                    "NEV": "Farkas Sándor",
                                    "EMAIL": "sándor.farkas@mail.hu",
                                    "SZAML_CIM": "8640 Fonyód Tanácsköztársaság tér 1.",
                                    "SZUL_DAT": "1989-01-27",
                                    "Elöző három foglalás átlaga": "NULL"
                                },
                                {
                                    "FOGLALAS_PK": "1351",
                                    "UGYFEL_FK": "sara",
                                    "SZOBA_FK": "38",
                                    "METTOL": "2016-12-06",
                                    "MEDDIG": "2016-12-10",
                                    "FELNOTT_SZAM": "1",
                                    "GYERMEK_SZAM": "0",
                                    "USERNEV": "sara",
                                    "NEV": "Farkas Sára",
                                    "EMAIL": "sára.farkas@mail.hu",
                                    "SZAML_CIM": "5940 Tótkomlós Felszabadulás utca 32.",
                                    "SZUL_DAT": "1973-04-05",
                                    "Elöző három foglalás átlaga": "NULL"
                                },
                                {
                                    "FOGLALAS_PK": "1338",
                                    "UGYFEL_FK": "TAMASF",
                                    "SZOBA_FK": "145",
                                    "METTOL": "2016-12-02",
                                    "MEDDIG": "2016-12-04",
                                    "FELNOTT_SZAM": "1",
                                    "GYERMEK_SZAM": "0",
                                    "USERNEV": "TAMASF",
                                    "NEV": "Fényes Tamás",
                                    "EMAIL": "TAMASF@gmail.com",
                                    "SZAML_CIM": "9023 Győr Arany János utca 1.",
                                    "SZUL_DAT": "1997-11-06",
                                    "Elöző három foglalás átlaga": "NULL"
                                },
                                {
                                    "FOGLALAS_PK": "1384",
                                    "UGYFEL_FK": "roland1",
                                    "SZOBA_FK": "84",
                                    "METTOL": "2016-12-22",
                                    "MEDDIG": "2016-12-29",
                                    "FELNOTT_SZAM": "1",
                                    "GYERMEK_SZAM": "0",
                                    "USERNEV": "roland1",
                                    "NEV": "Ferencz Roland",
                                    "EMAIL": "roland.ferencz@mail.hu",
                                    "SZAML_CIM": "2424 Előszállás Fő út 169.",
                                    "SZUL_DAT": "1985-12-31",
                                    "Elöző három foglalás átlaga": "NULL"
                                },
                                {
                                    "FOGLALAS_PK": "709",
                                    "UGYFEL_FK": "valentin",
                                    "SZOBA_FK": "172",
                                    "METTOL": "2016-07-24",
                                    "MEDDIG": "2016-07-29",
                                    "FELNOTT_SZAM": "1",
                                    "GYERMEK_SZAM": "0",
                                    "USERNEV": "valentin",
                                    "NEV": "Feró Valentin",
                                    "EMAIL": "valentin.feró@mail.hu",
                                    "SZAML_CIM": "3895 Gönc Búvár utca 4.",
                                    "SZUL_DAT": "1986-01-09",
                                    "Elöző három foglalás átlaga": "NULL"
                                },
                                {
                                    "FOGLALAS_PK": "1366",
                                    "UGYFEL_FK": "fruzsina4",
                                    "SZOBA_FK": "81",
                                    "METTOL": "2016-12-16",
                                    "MEDDIG": "2016-12-21",
                                    "FELNOTT_SZAM": "1",
                                    "GYERMEK_SZAM": "0",
                                    "USERNEV": "fruzsina4",
                                    "NEV": "Frank Fruzsina",
                                    "EMAIL": "fruzsina4@gmail.com",
                                    "SZAML_CIM": "9700 Szombathely Szabadság utca 95.",
                                    "SZUL_DAT": "1996-08-16",
                                    "Elöző három foglalás átlaga": "NULL"
                                },
                                {
                                    "FOGLALAS_PK": "631",
                                    "UGYFEL_FK": "JANOSG",
                                    "SZOBA_FK": "98",
                                    "METTOL": "2016-05-09",
                                    "MEDDIG": "2016-05-15",
                                    "FELNOTT_SZAM": "1",
                                    "GYERMEK_SZAM": "0",
                                    "USERNEV": "JANOSG",
                                    "NEV": "Giliga János",
                                    "EMAIL": "JANOSG@gmail.com",
                                    "SZAML_CIM": "3300 Eger Deák Ferenc út 5.",
                                    "SZUL_DAT": "1975-01-03",
                                    "Elöző három foglalás átlaga": "NULL"
                                },
                                {
                                    "FOGLALAS_PK": "1251",
                                    "UGYFEL_FK": "tibor",
                                    "SZOBA_FK": "184",
                                    "METTOL": "2016-11-05",
                                    "MEDDIG": "2016-11-09",
                                    "FELNOTT_SZAM": "1",
                                    "GYERMEK_SZAM": "0",
                                    "USERNEV": "tibor",
                                    "NEV": "Gombos Tibor",
                                    "EMAIL": "tibor.gombos@mail.hu",
                                    "SZAML_CIM": "7100 Szekszárd Kossuth utca 77.",
                                    "SZUL_DAT": "1993-11-28",
                                    "Elöző három foglalás átlaga": "NULL"
                                },
                                {
                                    "FOGLALAS_PK": "601",
                                    "UGYFEL_FK": "kata",
                                    "SZOBA_FK": "39",
                                    "METTOL": "2016-04-25",
                                    "MEDDIG": "2016-05-01",
                                    "FELNOTT_SZAM": "1",
                                    "GYERMEK_SZAM": "0",
                                    "USERNEV": "kata",
                                    "NEV": "Gondos Katalin",
                                    "EMAIL": "katalin.gondos@mail.hu",
                                    "SZAML_CIM": "8237 Tihany Kossuth Lajos utca 6.",
                                    "SZUL_DAT": "1968-06-22",
                                    "Elöző három foglalás átlaga": "NULL"
                                },
                                {
                                    "FOGLALAS_PK": "1006",
                                    "UGYFEL_FK": "kata",
                                    "SZOBA_FK": "70",
                                    "METTOL": "2016-07-03",
                                    "MEDDIG": "2016-07-06",
                                    "FELNOTT_SZAM": "1",
                                    "GYERMEK_SZAM": "0",
                                    "USERNEV": "kata",
                                    "NEV": "Gondos Katalin",
                                    "EMAIL": "katalin.gondos@mail.hu",
                                    "SZAML_CIM": "8237 Tihany Kossuth Lajos utca 6.",
                                    "SZUL_DAT": "1968-06-22",
                                    "Elöző három foglalás átlaga": "1"
                                },
                                {
                                    "FOGLALAS_PK": "1134",
                                    "UGYFEL_FK": "miklos2",
                                    "SZOBA_FK": "126",
                                    "METTOL": "2016-10-08",
                                    "MEDDIG": "2016-10-09",
                                    "FELNOTT_SZAM": "1",
                                    "GYERMEK_SZAM": "0",
                                    "USERNEV": "miklos2",
                                    "NEV": "Gondos Miklós",
                                    "EMAIL": "miklos2@gmail.com",
                                    "SZAML_CIM": "2100 Gödöllő Árpád utca 23.",
                                    "SZUL_DAT": "1995-10-07",
                                    "Elöző három foglalás átlaga": "NULL"
                                },
                                {
                                    "FOGLALAS_PK": "657",
                                    "UGYFEL_FK": "attila1",
                                    "SZOBA_FK": "137",
                                    "METTOL": "2016-05-20",
                                    "MEDDIG": "2016-05-26",
                                    "FELNOTT_SZAM": "1",
                                    "GYERMEK_SZAM": "0",
                                    "USERNEV": "attila1",
                                    "NEV": "Gulyás Attila",
                                    "EMAIL": "attila.gulyás@mail.hu",
                                    "SZAML_CIM": "3881 Abaújszántó Szolnoki út 8.",
                                    "SZUL_DAT": "1982-08-16",
                                    "Elöző három foglalás átlaga": "NULL"
                                },
                                {
                                    "FOGLALAS_PK": "935",
                                    "UGYFEL_FK": "KRISZTINAG",
                                    "SZOBA_FK": "56",
                                    "METTOL": "2016-06-08",
                                    "MEDDIG": "2016-06-12",
                                    "FELNOTT_SZAM": "1",
                                    "GYERMEK_SZAM": "0",
                                    "USERNEV": "KRISZTINAG",
                                    "NEV": "Gyárfás Krisztina",
                                    "EMAIL": "KRISZTINAG@gmail.com",
                                    "SZAML_CIM": "6762 Sándorfalva Arany János utca 1.",
                                    "SZUL_DAT": "1987-09-19",
                                    "Elöző három foglalás átlaga": "NULL"
                                },
                                {
                                    "FOGLALAS_PK": "854",
                                    "UGYFEL_FK": "KRISZTINAG",
                                    "SZOBA_FK": "167",
                                    "METTOL": "2016-05-24",
                                    "MEDDIG": "2016-05-31",
                                    "FELNOTT_SZAM": "1",
                                    "GYERMEK_SZAM": "0",
                                    "USERNEV": "KRISZTINAG",
                                    "NEV": "Gyárfás Krisztina",
                                    "EMAIL": "KRISZTINAG@gmail.com",
                                    "SZAML_CIM": "6762 Sándorfalva Arany János utca 1.",
                                    "SZUL_DAT": "1987-09-19",
                                    "Elöző három foglalás átlaga": "1"
                                },
                                {
                                    "FOGLALAS_PK": "872",
                                    "UGYFEL_FK": "bence",
                                    "SZOBA_FK": "28",
                                    "METTOL": "2016-05-29",
                                    "MEDDIG": "2016-06-03",
                                    "FELNOTT_SZAM": "1",
                                    "GYERMEK_SZAM": "0",
                                    "USERNEV": "bence",
                                    "NEV": "Győrffy Bence",
                                    "EMAIL": "bence@gmail.com",
                                    "SZAML_CIM": "6900 Makó Árpád utca 23.",
                                    "SZUL_DAT": "1987-07-09",
                                    "Elöző három foglalás átlaga": "NULL"
                                },
                                {
                                    "FOGLALAS_PK": "852",
                                    "UGYFEL_FK": "JOZSEFG",
                                    "SZOBA_FK": "24",
                                    "METTOL": "2016-05-23",
                                    "MEDDIG": "2016-05-25",
                                    "FELNOTT_SZAM": "1",
                                    "GYERMEK_SZAM": "0",
                                    "USERNEV": "JOZSEFG",
                                    "NEV": "Gyuris József",
                                    "EMAIL": "józsef.gyuris@mail.hu",
                                    "SZAML_CIM": "2660 Balassagyarmat Petőfi utca 1/2.",
                                    "SZUL_DAT": "1975-05-26",
                                    "Elöző három foglalás átlaga": "NULL"
                                },
                                {
                                    "FOGLALAS_PK": "1461",
                                    "UGYFEL_FK": "JOZSEFG",
                                    "SZOBA_FK": "77",
                                    "METTOL": "2017-01-22",
                                    "MEDDIG": "2017-01-26",
                                    "FELNOTT_SZAM": "1",
                                    "GYERMEK_SZAM": "0",
                                    "USERNEV": "JOZSEFG",
                                    "NEV": "Gyuris József",
                                    "EMAIL": "józsef.gyuris@mail.hu",
                                    "SZAML_CIM": "2660 Balassagyarmat Petőfi utca 1/2.",
                                    "SZUL_DAT": "1975-05-26",
                                    "Elöző három foglalás átlaga": "1"
                                },
                                {
                                    "FOGLALAS_PK": "904",
                                    "UGYFEL_FK": "janos3",
                                    "SZOBA_FK": "34",
                                    "METTOL": "2016-06-04",
                                    "MEDDIG": "2016-06-06",
                                    "FELNOTT_SZAM": "1",
                                    "GYERMEK_SZAM": "0",
                                    "USERNEV": "janos3",
                                    "NEV": "Harangozó János",
                                    "EMAIL": "janos3@gmail.com",
                                    "SZAML_CIM": "8700 Marcali Petőfi Sándor tér 1.",
                                    "SZUL_DAT": "1967-11-02",
                                    "Elöző három foglalás átlaga": "NULL"
                                },
                                {
                                    "FOGLALAS_PK": "1177",
                                    "UGYFEL_FK": "janos3",
                                    "SZOBA_FK": "150",
                                    "METTOL": "2016-10-22",
                                    "MEDDIG": "2016-10-23",
                                    "FELNOTT_SZAM": "1",
                                    "GYERMEK_SZAM": "0",
                                    "USERNEV": "janos3",
                                    "NEV": "Harangozó János",
                                    "EMAIL": "janos3@gmail.com",
                                    "SZAML_CIM": "8700 Marcali Petőfi Sándor tér 1.",
                                    "SZUL_DAT": "1967-11-02",
                                    "Elöző három foglalás átlaga": "1"
                                },
                                {
                                    "FOGLALAS_PK": "755",
                                    "UGYFEL_FK": "agnes3",
                                    "SZOBA_FK": "20",
                                    "METTOL": "2016-08-04",
                                    "MEDDIG": "2016-08-10",
                                    "FELNOTT_SZAM": "1",
                                    "GYERMEK_SZAM": "0",
                                    "USERNEV": "agnes3",
                                    "NEV": "Hartyánszky Ágnes",
                                    "EMAIL": "agnes3@gmail.com",
                                    "SZAML_CIM": "6430 Bácsalmás Posta köz 2.",
                                    "SZUL_DAT": "1967-04-11",
                                    "Elöző három foglalás átlaga": "NULL"
                                },
                                {
                                    "FOGLALAS_PK": "782",
                                    "UGYFEL_FK": "norbert2",
                                    "SZOBA_FK": "163",
                                    "METTOL": "2016-08-16",
                                    "MEDDIG": "2016-08-19",
                                    "FELNOTT_SZAM": "1",
                                    "GYERMEK_SZAM": "0",
                                    "USERNEV": "norbert2",
                                    "NEV": "Hegedűs Norbert",
                                    "EMAIL": "norbert.hegedűs@mail.hu",
                                    "SZAML_CIM": "2081 Piliscsaba Rendeki utca 21.",
                                    "SZUL_DAT": "1991-07-17",
                                    "Elöző három foglalás átlaga": "NULL"
                                },
                                {
                                    "FOGLALAS_PK": "587",
                                    "UGYFEL_FK": "norbert2",
                                    "SZOBA_FK": "123",
                                    "METTOL": "2016-04-19",
                                    "MEDDIG": "2016-04-26",
                                    "FELNOTT_SZAM": "1",
                                    "GYERMEK_SZAM": "0",
                                    "USERNEV": "norbert2",
                                    "NEV": "Hegedűs Norbert",
                                    "EMAIL": "norbert.hegedűs@mail.hu",
                                    "SZAML_CIM": "2081 Piliscsaba Rendeki utca 21.",
                                    "SZUL_DAT": "1991-07-17",
                                    "Elöző három foglalás átlaga": "1"
                                },
                                {
                                    "FOGLALAS_PK": "1379",
                                    "UGYFEL_FK": "JUDITH",
                                    "SZOBA_FK": "83",
                                    "METTOL": "2016-12-19",
                                    "MEDDIG": "2016-12-26",
                                    "FELNOTT_SZAM": "1",
                                    "GYERMEK_SZAM": "0",
                                    "USERNEV": "JUDITH",
                                    "NEV": "Hídasi Judit",
                                    "EMAIL": "JUDITH@gmail.com",
                                    "SZAML_CIM": "2100 Gödöllő Fő út 169.",
                                    "SZUL_DAT": "1997-07-12",
                                    "Elöző három foglalás átlaga": "NULL"
                                },
                                {
                                    "FOGLALAS_PK": "980",
                                    "UGYFEL_FK": "AGNESH",
                                    "SZOBA_FK": "143",
                                    "METTOL": "2016-06-23",
                                    "MEDDIG": "2016-06-26",
                                    "FELNOTT_SZAM": "1",
                                    "GYERMEK_SZAM": "0",
                                    "USERNEV": "AGNESH",
                                    "NEV": "Horváth Ágnes",
                                    "EMAIL": "AGNESH@gmail.com",
                                    "SZAML_CIM": "8200 Veszprém Rákóczi utca 21.",
                                    "SZUL_DAT": "1981-12-24",
                                    "Elöző három foglalás átlaga": "NULL"
                                },
                                {
                                    "FOGLALAS_PK": "1225",
                                    "UGYFEL_FK": "AGNESH",
                                    "SZOBA_FK": "69",
                                    "METTOL": "2016-10-30",
                                    "MEDDIG": "2016-11-04",
                                    "FELNOTT_SZAM": "1",
                                    "GYERMEK_SZAM": "0",
                                    "USERNEV": "AGNESH",
                                    "NEV": "Horváth Ágnes",
                                    "EMAIL": "AGNESH@gmail.com",
                                    "SZAML_CIM": "8200 Veszprém Rákóczi utca 21.",
                                    "SZUL_DAT": "1981-12-24",
                                    "Elöző három foglalás átlaga": "1"
                                },
                                {
                                    "FOGLALAS_PK": "1066",
                                    "UGYFEL_FK": "ARPADH",
                                    "SZOBA_FK": "49",
                                    "METTOL": "2016-09-18",
                                    "MEDDIG": "2016-09-25",
                                    "FELNOTT_SZAM": "1",
                                    "GYERMEK_SZAM": "0",
                                    "USERNEV": "ARPADH",
                                    "NEV": "Horváth Árpád",
                                    "EMAIL": "árpád.horváth@mail.hu",
                                    "SZAML_CIM": "7349 Szászvár Dózsa György u. 1.",
                                    "SZUL_DAT": "1990-05-18",
                                    "Elöző három foglalás átlaga": "NULL"
                                },
                                {
                                    "FOGLALAS_PK": "1056",
                                    "UGYFEL_FK": "ARPADH",
                                    "SZOBA_FK": "47",
                                    "METTOL": "2016-09-16",
                                    "MEDDIG": "2016-09-23",
                                    "FELNOTT_SZAM": "1",
                                    "GYERMEK_SZAM": "0",
                                    "USERNEV": "ARPADH",
                                    "NEV": "Horváth Árpád",
                                    "EMAIL": "árpád.horváth@mail.hu",
                                    "SZAML_CIM": "7349 Szászvár Dózsa György u. 1.",
                                    "SZUL_DAT": "1990-05-18",
                                    "Elöző három foglalás átlaga": "1"
                                },
                                {
                                    "FOGLALAS_PK": "1342",
                                    "UGYFEL_FK": "ARPADH",
                                    "SZOBA_FK": "170",
                                    "METTOL": "2016-12-04",
                                    "MEDDIG": "2016-12-10",
                                    "FELNOTT_SZAM": "1",
                                    "GYERMEK_SZAM": "0",
                                    "USERNEV": "ARPADH",
                                    "NEV": "Horváth Árpád",
                                    "EMAIL": "árpád.horváth@mail.hu",
                                    "SZAML_CIM": "7349 Szászvár Dózsa György u. 1.",
                                    "SZUL_DAT": "1990-05-18",
                                    "Elöző három foglalás átlaga": "1"
                                },
                                {
                                    "FOGLALAS_PK": "1015",
                                    "UGYFEL_FK": "katalin",
                                    "SZOBA_FK": "174",
                                    "METTOL": "2016-07-06",
                                    "MEDDIG": "2016-07-11",
                                    "FELNOTT_SZAM": "1",
                                    "GYERMEK_SZAM": "0",
                                    "USERNEV": "katalin",
                                    "NEV": "Horváth Katalin",
                                    "EMAIL": "katalin.horváth@mail.hu",
                                    "SZAML_CIM": "2424 Előszállás Rákóczi út 200.",
                                    "SZUL_DAT": "1968-01-01",
                                    "Elöző három foglalás átlaga": "NULL"
                                },
                                {
                                    "FOGLALAS_PK": "661",
                                    "UGYFEL_FK": "katalin",
                                    "SZOBA_FK": "136",
                                    "METTOL": "2016-05-21",
                                    "MEDDIG": "2016-05-26",
                                    "FELNOTT_SZAM": "1",
                                    "GYERMEK_SZAM": "0",
                                    "USERNEV": "katalin",
                                    "NEV": "Horváth Katalin",
                                    "EMAIL": "katalin.horváth@mail.hu",
                                    "SZAML_CIM": "2424 Előszállás Rákóczi út 200.",
                                    "SZUL_DAT": "1968-01-01",
                                    "Elöző három foglalás átlaga": "1"
                                },
                                {
                                    "FOGLALAS_PK": "733",
                                    "UGYFEL_FK": "katalin",
                                    "SZOBA_FK": "140",
                                    "METTOL": "2016-07-28",
                                    "MEDDIG": "2016-07-29",
                                    "FELNOTT_SZAM": "1",
                                    "GYERMEK_SZAM": "0",
                                    "USERNEV": "katalin",
                                    "NEV": "Horváth Katalin",
                                    "EMAIL": "katalin.horváth@mail.hu",
                                    "SZAML_CIM": "2424 Előszállás Rákóczi út 200.",
                                    "SZUL_DAT": "1968-01-01",
                                    "Elöző három foglalás átlaga": "1"
                                },
                                {
                                    "FOGLALAS_PK": "1372",
                                    "UGYFEL_FK": "katalin",
                                    "SZOBA_FK": "106",
                                    "METTOL": "2016-12-17",
                                    "MEDDIG": "2016-12-24",
                                    "FELNOTT_SZAM": "1",
                                    "GYERMEK_SZAM": "0",
                                    "USERNEV": "katalin",
                                    "NEV": "Horváth Katalin",
                                    "EMAIL": "katalin.horváth@mail.hu",
                                    "SZAML_CIM": "2424 Előszállás Rákóczi út 200.",
                                    "SZUL_DAT": "1968-01-01",
                                    "Elöző három foglalás átlaga": "1"
                                },
                                {
                                    "FOGLALAS_PK": "897",
                                    "UGYFEL_FK": "nikolett3",
                                    "SZOBA_FK": "165",
                                    "METTOL": "2016-06-03",
                                    "MEDDIG": "2016-06-09",
                                    "FELNOTT_SZAM": "1",
                                    "GYERMEK_SZAM": "0",
                                    "USERNEV": "nikolett3",
                                    "NEV": "Horváth Nikolett",
                                    "EMAIL": "nikolett3@gmail.com",
                                    "SZAML_CIM": "1072 Budapest Arany János utca 1.",
                                    "SZUL_DAT": "1981-09-29",
                                    "Elöző három foglalás átlaga": "NULL"
                                },
                                {
                                    "FOGLALAS_PK": "976",
                                    "UGYFEL_FK": "nikolett3",
                                    "SZOBA_FK": "76",
                                    "METTOL": "2016-06-22",
                                    "MEDDIG": "2016-06-24",
                                    "FELNOTT_SZAM": "1",
                                    "GYERMEK_SZAM": "0",
                                    "USERNEV": "nikolett3",
                                    "NEV": "Horváth Nikolett",
                                    "EMAIL": "nikolett3@gmail.com",
                                    "SZAML_CIM": "1072 Budapest Arany János utca 1.",
                                    "SZUL_DAT": "1981-09-29",
                                    "Elöző három foglalás átlaga": "1"
                                },
                                {
                                    "FOGLALAS_PK": "1186",
                                    "UGYFEL_FK": "ROBERTI",
                                    "SZOBA_FK": "58",
                                    "METTOL": "2016-10-23",
                                    "MEDDIG": "2016-10-29",
                                    "FELNOTT_SZAM": "1",
                                    "GYERMEK_SZAM": "0",
                                    "USERNEV": "ROBERTI",
                                    "NEV": "Iván Róbert",
                                    "EMAIL": "róbert.iván@mail.hu",
                                    "SZAML_CIM": "2377 Örkény Petőfi Sándor utca 3.",
                                    "SZUL_DAT": "1967-07-02",
                                    "Elöző három foglalás átlaga": "NULL"
                                },
                                {
                                    "FOGLALAS_PK": "867",
                                    "UGYFEL_FK": "ZSOLTJ",
                                    "SZOBA_FK": "175",
                                    "METTOL": "2016-05-28",
                                    "MEDDIG": "2016-06-03",
                                    "FELNOTT_SZAM": "1",
                                    "GYERMEK_SZAM": "0",
                                    "USERNEV": "ZSOLTJ",
                                    "NEV": "Józsa Zsolt",
                                    "EMAIL": "ZSOLTJ@gmail.com",
                                    "SZAML_CIM": "8315 Gyenesdiás Bajcsy-Zsilinszky utca 4.",
                                    "SZUL_DAT": "1983-09-29",
                                    "Elöző három foglalás átlaga": "NULL"
                                },
                                {
                                    "FOGLALAS_PK": "990",
                                    "UGYFEL_FK": "MIHALYJ",
                                    "SZOBA_FK": "6",
                                    "METTOL": "2016-06-27",
                                    "MEDDIG": "2016-07-01",
                                    "FELNOTT_SZAM": "1",
                                    "GYERMEK_SZAM": "0",
                                    "USERNEV": "MIHALYJ",
                                    "NEV": "Juhász Mihály",
                                    "EMAIL": "mihály.juhász@mail.hu",
                                    "SZAML_CIM": "6786 Ruzsa Rákóczi utca 1.",
                                    "SZUL_DAT": "1979-10-12",
                                    "Elöző három foglalás átlaga": "NULL"
                                },
                                {
                                    "FOGLALAS_PK": "839",
                                    "UGYFEL_FK": "MIHALYJ",
                                    "SZOBA_FK": "172",
                                    "METTOL": "2016-08-29",
                                    "MEDDIG": "2016-09-03",
                                    "FELNOTT_SZAM": "1",
                                    "GYERMEK_SZAM": "0",
                                    "USERNEV": "MIHALYJ",
                                    "NEV": "Juhász Mihály",
                                    "EMAIL": "mihály.juhász@mail.hu",
                                    "SZAML_CIM": "6786 Ruzsa Rákóczi utca 1.",
                                    "SZUL_DAT": "1979-10-12",
                                    "Elöző három foglalás átlaga": "1"
                                },
                                {
                                    "FOGLALAS_PK": "620",
                                    "UGYFEL_FK": "marton",
                                    "SZOBA_FK": "1",
                                    "METTOL": "2016-05-05",
                                    "MEDDIG": "2016-05-10",
                                    "FELNOTT_SZAM": "1",
                                    "GYERMEK_SZAM": "0",
                                    "USERNEV": "marton",
                                    "NEV": "Kalacsi Márton",
                                    "EMAIL": "marton@gmail.com",
                                    "SZAML_CIM": "5137 Jászkisér Fő út 169.",
                                    "SZUL_DAT": "1989-06-24",
                                    "Elöző három foglalás átlaga": "NULL"
                                },
                                {
                                    "FOGLALAS_PK": "1312",
                                    "UGYFEL_FK": "RENATAK",
                                    "SZOBA_FK": "94",
                                    "METTOL": "2016-11-23",
                                    "MEDDIG": "2016-11-26",
                                    "FELNOTT_SZAM": "1",
                                    "GYERMEK_SZAM": "0",
                                    "USERNEV": "RENATAK",
                                    "NEV": "Kardos Renáta",
                                    "EMAIL": "renáta.kardos@mail.hu",
                                    "SZAML_CIM": "7086 Ozora Bécsi utca 82.",
                                    "SZUL_DAT": "1988-05-17",
                                    "Elöző három foglalás átlaga": "NULL"
                                },
                                {
                                    "FOGLALAS_PK": "1224",
                                    "UGYFEL_FK": "RENATAK",
                                    "SZOBA_FK": "50",
                                    "METTOL": "2016-10-30",
                                    "MEDDIG": "2016-10-31",
                                    "FELNOTT_SZAM": "1",
                                    "GYERMEK_SZAM": "0",
                                    "USERNEV": "RENATAK",
                                    "NEV": "Kardos Renáta",
                                    "EMAIL": "renáta.kardos@mail.hu",
                                    "SZAML_CIM": "7086 Ozora Bécsi utca 82.",
                                    "SZUL_DAT": "1988-05-17",
                                    "Elöző három foglalás átlaga": "1"
                                },
                                {
                                    "FOGLALAS_PK": "1543",
                                    "UGYFEL_FK": "RENATAK",
                                    "SZOBA_FK": "95",
                                    "METTOL": "2017-02-16",
                                    "MEDDIG": "2017-02-23",
                                    "FELNOTT_SZAM": "1",
                                    "GYERMEK_SZAM": "0",
                                    "USERNEV": "RENATAK",
                                    "NEV": "Kardos Renáta",
                                    "EMAIL": "renáta.kardos@mail.hu",
                                    "SZAML_CIM": "7086 Ozora Bécsi utca 82.",
                                    "SZUL_DAT": "1988-05-17",
                                    "Elöző három foglalás átlaga": "1"
                                },
                                {
                                    "FOGLALAS_PK": "1581",
                                    "UGYFEL_FK": "RENATAK",
                                    "SZOBA_FK": "48",
                                    "METTOL": "2017-03-01",
                                    "MEDDIG": "2017-03-06",
                                    "FELNOTT_SZAM": "1",
                                    "GYERMEK_SZAM": "0",
                                    "USERNEV": "RENATAK",
                                    "NEV": "Kardos Renáta",
                                    "EMAIL": "renáta.kardos@mail.hu",
                                    "SZAML_CIM": "7086 Ozora Bécsi utca 82.",
                                    "SZUL_DAT": "1988-05-17",
                                    "Elöző három foglalás átlaga": "1"
                                },
                                {
                                    "FOGLALAS_PK": "881",
                                    "UGYFEL_FK": "tihamer",
                                    "SZOBA_FK": "131",
                                    "METTOL": "2016-05-30",
                                    "MEDDIG": "2016-06-05",
                                    "FELNOTT_SZAM": "1",
                                    "GYERMEK_SZAM": "0",
                                    "USERNEV": "tihamer",
                                    "NEV": "Kazy Tihamér",
                                    "EMAIL": "tihamér.kazy@mail.hu",
                                    "SZAML_CIM": "2370 Dabas Fő utca 60.",
                                    "SZUL_DAT": "1991-07-05",
                                    "Elöző három foglalás átlaga": "NULL"
                                },
                                {
                                    "FOGLALAS_PK": "997",
                                    "UGYFEL_FK": "katalin4",
                                    "SZOBA_FK": "82",
                                    "METTOL": "2016-07-01",
                                    "MEDDIG": "2016-07-07",
                                    "FELNOTT_SZAM": "1",
                                    "GYERMEK_SZAM": "0",
                                    "USERNEV": "katalin4",
                                    "NEV": "Kertész Katalin",
                                    "EMAIL": "katalin4@gmail.com",
                                    "SZAML_CIM": "2800 Tatabánya Búvár utca 4.",
                                    "SZUL_DAT": "1986-04-13",
                                    "Elöző három foglalás átlaga": "NULL"
                                },
                                {
                                    "FOGLALAS_PK": "1172",
                                    "UGYFEL_FK": "mark",
                                    "SZOBA_FK": "197",
                                    "METTOL": "2016-10-20",
                                    "MEDDIG": "2016-10-27",
                                    "FELNOTT_SZAM": "1",
                                    "GYERMEK_SZAM": "0",
                                    "USERNEV": "mark",
                                    "NEV": "Kispál Márk",
                                    "EMAIL": "márk.kispál@mail.hu",
                                    "SZAML_CIM": "1086 Budapest Juhászföldi út 1.",
                                    "SZUL_DAT": "1996-01-23",
                                    "Elöző három foglalás átlaga": "NULL"
                                },
                                {
                                    "FOGLALAS_PK": "803",
                                    "UGYFEL_FK": "adam1",
                                    "SZOBA_FK": "1",
                                    "METTOL": "2016-08-20",
                                    "MEDDIG": "2016-08-24",
                                    "FELNOTT_SZAM": "1",
                                    "GYERMEK_SZAM": "0",
                                    "USERNEV": "adam1",
                                    "NEV": "Kiss Ádám",
                                    "EMAIL": "ádám.kiss@mail.hu",
                                    "SZAML_CIM": "5630 Békés Szolnoki út 8.",
                                    "SZUL_DAT": "1991-12-28",
                                    "Elöző három foglalás átlaga": "NULL"
                                },
                                {
                                    "FOGLALAS_PK": "1523",
                                    "UGYFEL_FK": "lajos",
                                    "SZOBA_FK": "11",
                                    "METTOL": "2017-02-12",
                                    "MEDDIG": "2017-02-13",
                                    "FELNOTT_SZAM": "1",
                                    "GYERMEK_SZAM": "0",
                                    "USERNEV": "lajos",
                                    "NEV": "Kiss Lajos",
                                    "EMAIL": "lajos.kiss@mail.hu",
                                    "SZAML_CIM": "1077 Budapest Dob utca 1",
                                    "SZUL_DAT": "1978-10-31",
                                    "Elöző három foglalás átlaga": "NULL"
                                },
                                {
                                    "FOGLALAS_PK": "799",
                                    "UGYFEL_FK": "andras41",
                                    "SZOBA_FK": "175",
                                    "METTOL": "2016-08-19",
                                    "MEDDIG": "2016-08-23",
                                    "FELNOTT_SZAM": "1",
                                    "GYERMEK_SZAM": "0",
                                    "USERNEV": "andras41",
                                    "NEV": "Komjáti András",
                                    "EMAIL": "andras41@gmail.com",
                                    "SZAML_CIM": "5065 Nagykörű Kossuth út 24.",
                                    "SZUL_DAT": "1997-10-25",
                                    "Elöző három foglalás átlaga": "NULL"
                                },
                                {
                                    "FOGLALAS_PK": "1308",
                                    "UGYFEL_FK": "andras41",
                                    "SZOBA_FK": "182",
                                    "METTOL": "2016-11-23",
                                    "MEDDIG": "2016-11-24",
                                    "FELNOTT_SZAM": "1",
                                    "GYERMEK_SZAM": "0",
                                    "USERNEV": "andras41",
                                    "NEV": "Komjáti András",
                                    "EMAIL": "andras41@gmail.com",
                                    "SZAML_CIM": "5065 Nagykörű Kossuth út 24.",
                                    "SZUL_DAT": "1997-10-25",
                                    "Elöző három foglalás átlaga": "1"
                                },
                                {
                                    "FOGLALAS_PK": "1074",
                                    "UGYFEL_FK": "andras41",
                                    "SZOBA_FK": "195",
                                    "METTOL": "2016-09-22",
                                    "MEDDIG": "2016-09-29",
                                    "FELNOTT_SZAM": "1",
                                    "GYERMEK_SZAM": "0",
                                    "USERNEV": "andras41",
                                    "NEV": "Komjáti András",
                                    "EMAIL": "andras41@gmail.com",
                                    "SZAML_CIM": "5065 Nagykörű Kossuth út 24.",
                                    "SZUL_DAT": "1997-10-25",
                                    "Elöző három foglalás átlaga": "1"
                                },
                                {
                                    "FOGLALAS_PK": "945",
                                    "UGYFEL_FK": "GYONGYIK",
                                    "SZOBA_FK": "23",
                                    "METTOL": "2016-06-10",
                                    "MEDDIG": "2016-06-17",
                                    "FELNOTT_SZAM": "1",
                                    "GYERMEK_SZAM": "0",
                                    "USERNEV": "GYONGYIK",
                                    "NEV": "Kornseé Gyöngyi",
                                    "EMAIL": "gyöngyi.kornseé@mail.hu",
                                    "SZAML_CIM": "8800 Nagykanizsa Fő út 60.",
                                    "SZUL_DAT": "1974-06-07",
                                    "Elöző három foglalás átlaga": "NULL"
                                },
                                {
                                    "FOGLALAS_PK": "1367",
                                    "UGYFEL_FK": "bernadett2",
                                    "SZOBA_FK": "80",
                                    "METTOL": "2016-12-17",
                                    "MEDDIG": "2016-12-20",
                                    "FELNOTT_SZAM": "1",
                                    "GYERMEK_SZAM": "0",
                                    "USERNEV": "bernadett2",
                                    "NEV": "Kovács Bernadett",
                                    "EMAIL": "bernadett.kovács@mail.hu",
                                    "SZAML_CIM": "4200 Hajdúszoboszló Fő út 122.",
                                    "SZUL_DAT": "1996-08-20",
                                    "Elöző három foglalás átlaga": "NULL"
                                },
                                {
                                    "FOGLALAS_PK": "954",
                                    "UGYFEL_FK": "katka",
                                    "SZOBA_FK": "84",
                                    "METTOL": "2016-06-13",
                                    "MEDDIG": "2016-06-18",
                                    "FELNOTT_SZAM": "1",
                                    "GYERMEK_SZAM": "0",
                                    "USERNEV": "katka",
                                    "NEV": "Kovács Katalin",
                                    "EMAIL": "katalin.kovács@mail.hu",
                                    "SZAML_CIM": "8254 Kővágóörs Petőfi utca 22.",
                                    "SZUL_DAT": "1975-03-31",
                                    "Elöző három foglalás átlaga": "NULL"
                                },
                                {
                                    "FOGLALAS_PK": "1026",
                                    "UGYFEL_FK": "gabor1",
                                    "SZOBA_FK": "119",
                                    "METTOL": "2016-07-12",
                                    "MEDDIG": "2016-07-15",
                                    "FELNOTT_SZAM": "1",
                                    "GYERMEK_SZAM": "0",
                                    "USERNEV": "gabor1",
                                    "NEV": "Köves Gábor",
                                    "EMAIL": "gabor1@gmail.com",
                                    "SZAML_CIM": "6762 Sándorfalva Árpád utca 23.",
                                    "SZUL_DAT": "1973-07-15",
                                    "Elöző három foglalás átlaga": "NULL"
                                },
                                {
                                    "FOGLALAS_PK": "1169",
                                    "UGYFEL_FK": "gabor1",
                                    "SZOBA_FK": "93",
                                    "METTOL": "2016-10-20",
                                    "MEDDIG": "2016-10-24",
                                    "FELNOTT_SZAM": "1",
                                    "GYERMEK_SZAM": "0",
                                    "USERNEV": "gabor1",
                                    "NEV": "Köves Gábor",
                                    "EMAIL": "gabor1@gmail.com",
                                    "SZAML_CIM": "6762 Sándorfalva Árpád utca 23.",
                                    "SZUL_DAT": "1973-07-15",
                                    "Elöző három foglalás átlaga": "1"
                                },
                                {
                                    "FOGLALAS_PK": "1250",
                                    "UGYFEL_FK": "emese",
                                    "SZOBA_FK": "107",
                                    "METTOL": "2016-11-05",
                                    "MEDDIG": "2016-11-09",
                                    "FELNOTT_SZAM": "1",
                                    "GYERMEK_SZAM": "0",
                                    "USERNEV": "emese",
                                    "NEV": "Kuruc Emese",
                                    "EMAIL": "emese.kuruc@mail.hu",
                                    "SZAML_CIM": "6700 Szeged Rákóczi utca 67.",
                                    "SZUL_DAT": "1989-08-10",
                                    "Elöző három foglalás átlaga": "NULL"
                                },
                                {
                                    "FOGLALAS_PK": "857",
                                    "UGYFEL_FK": "agnes",
                                    "SZOBA_FK": "165",
                                    "METTOL": "2016-05-25",
                                    "MEDDIG": "2016-05-30",
                                    "FELNOTT_SZAM": "1",
                                    "GYERMEK_SZAM": "0",
                                    "USERNEV": "agnes",
                                    "NEV": "Lengyel Ágnes",
                                    "EMAIL": "agnes@gmail.com",
                                    "SZAML_CIM": "5200 Törökszentmiklós Deák Ferenc út 5.",
                                    "SZUL_DAT": "1979-12-10",
                                    "Elöző három foglalás átlaga": "NULL"
                                },
                                {
                                    "FOGLALAS_PK": "955",
                                    "UGYFEL_FK": "andi",
                                    "SZOBA_FK": "47",
                                    "METTOL": "2016-06-13",
                                    "MEDDIG": "2016-06-14",
                                    "FELNOTT_SZAM": "1",
                                    "GYERMEK_SZAM": "0",
                                    "USERNEV": "andi",
                                    "NEV": "Maródi Andrea",
                                    "EMAIL": "andrea.maródi@mail.hu",
                                    "SZAML_CIM": "5465 Cserkeszőlő Árpád utca 4.",
                                    "SZUL_DAT": "1968-05-07",
                                    "Elöző három foglalás átlaga": "NULL"
                                },
                                {
                                    "FOGLALAS_PK": "1541",
                                    "UGYFEL_FK": "norbert4",
                                    "SZOBA_FK": "155",
                                    "METTOL": "2017-02-16",
                                    "MEDDIG": "2017-02-17",
                                    "FELNOTT_SZAM": "1",
                                    "GYERMEK_SZAM": "0",
                                    "USERNEV": "norbert4",
                                    "NEV": "Mile Norbert",
                                    "EMAIL": "norbert4@gmail.com",
                                    "SZAML_CIM": "3973 Cigánd Bajcsy-Zsilinszky utca 4.",
                                    "SZUL_DAT": "1983-06-15",
                                    "Elöző három foglalás átlaga": "NULL"
                                },
                                {
                                    "FOGLALAS_PK": "1443",
                                    "UGYFEL_FK": "KRISZTIANM",
                                    "SZOBA_FK": "81",
                                    "METTOL": "2017-01-16",
                                    "MEDDIG": "2017-01-23",
                                    "FELNOTT_SZAM": "1",
                                    "GYERMEK_SZAM": "0",
                                    "USERNEV": "KRISZTIANM",
                                    "NEV": "Mogyródi Krisztián",
                                    "EMAIL": "KRISZTIANM@gmail.com",
                                    "SZAML_CIM": "9155 Lébény Jászai tér 21.",
                                    "SZUL_DAT": "1968-05-27",
                                    "Elöző három foglalás átlaga": "NULL"
                                },
                                {
                                    "FOGLALAS_PK": "1450",
                                    "UGYFEL_FK": "MONIKAM",
                                    "SZOBA_FK": "139",
                                    "METTOL": "2017-01-17",
                                    "MEDDIG": "2017-01-24",
                                    "FELNOTT_SZAM": "1",
                                    "GYERMEK_SZAM": "0",
                                    "USERNEV": "MONIKAM",
                                    "NEV": "Mohos Mónika",
                                    "EMAIL": "mónika.mohos@mail.hu",
                                    "SZAML_CIM": "2241 Sülysáp Baracsi László utca 14.",
                                    "SZUL_DAT": "1974-10-01",
                                    "Elöző három foglalás átlaga": "NULL"
                                },
                                {
                                    "FOGLALAS_PK": "708",
                                    "UGYFEL_FK": "MONIKAM",
                                    "SZOBA_FK": "106",
                                    "METTOL": "2016-07-23",
                                    "MEDDIG": "2016-07-30",
                                    "FELNOTT_SZAM": "1",
                                    "GYERMEK_SZAM": "0",
                                    "USERNEV": "MONIKAM",
                                    "NEV": "Mohos Mónika",
                                    "EMAIL": "mónika.mohos@mail.hu",
                                    "SZAML_CIM": "2241 Sülysáp Baracsi László utca 14.",
                                    "SZUL_DAT": "1974-10-01",
                                    "Elöző három foglalás átlaga": "1"
                                },
                                {
                                    "FOGLALAS_PK": "697",
                                    "UGYFEL_FK": "andras21",
                                    "SZOBA_FK": "12",
                                    "METTOL": "2016-07-20",
                                    "MEDDIG": "2016-07-22",
                                    "FELNOTT_SZAM": "1",
                                    "GYERMEK_SZAM": "0",
                                    "USERNEV": "andras21",
                                    "NEV": "Molnár András",
                                    "EMAIL": "andrás.molnár@mail.hu",
                                    "SZAML_CIM": "7900 Szigetvár Rákóczi utca 67.",
                                    "SZUL_DAT": "1977-11-16",
                                    "Elöző három foglalás átlaga": "NULL"
                                },
                                {
                                    "FOGLALAS_PK": "948",
                                    "UGYFEL_FK": "balint1",
                                    "SZOBA_FK": "19",
                                    "METTOL": "2016-06-10",
                                    "MEDDIG": "2016-06-12",
                                    "FELNOTT_SZAM": "1",
                                    "GYERMEK_SZAM": "0",
                                    "USERNEV": "balint1",
                                    "NEV": "Molnár Bálint",
                                    "EMAIL": "balint1@gmail.com",
                                    "SZAML_CIM": "9181 Kimle Fő út 169.",
                                    "SZUL_DAT": "1989-08-24",
                                    "Elöző három foglalás átlaga": "NULL"
                                },
                                {
                                    "FOGLALAS_PK": "1057",
                                    "UGYFEL_FK": "balint1",
                                    "SZOBA_FK": "86",
                                    "METTOL": "2016-09-16",
                                    "MEDDIG": "2016-09-21",
                                    "FELNOTT_SZAM": "1",
                                    "GYERMEK_SZAM": "0",
                                    "USERNEV": "balint1",
                                    "NEV": "Molnár Bálint",
                                    "EMAIL": "balint1@gmail.com",
                                    "SZAML_CIM": "9181 Kimle Fő út 169.",
                                    "SZUL_DAT": "1989-08-24",
                                    "Elöző három foglalás átlaga": "1"
                                },
                                {
                                    "FOGLALAS_PK": "1420",
                                    "UGYFEL_FK": "ARPADM",
                                    "SZOBA_FK": "198",
                                    "METTOL": "2017-01-05",
                                    "MEDDIG": "2017-01-10",
                                    "FELNOTT_SZAM": "1",
                                    "GYERMEK_SZAM": "0",
                                    "USERNEV": "ARPADM",
                                    "NEV": "Móricz Árpád",
                                    "EMAIL": "árpád.móricz@mail.hu",
                                    "SZAML_CIM": "3910 Tokaj Rákóczi utca 67.",
                                    "SZUL_DAT": "1986-04-20",
                                    "Elöző három foglalás átlaga": "NULL"
                                },
                                {
                                    "FOGLALAS_PK": "818",
                                    "UGYFEL_FK": "henrik3",
                                    "SZOBA_FK": "8",
                                    "METTOL": "2016-08-24",
                                    "MEDDIG": "2016-08-28",
                                    "FELNOTT_SZAM": "1",
                                    "GYERMEK_SZAM": "0",
                                    "USERNEV": "henrik3",
                                    "NEV": "Nádudvari Henrik",
                                    "EMAIL": "henrik.nádudvari@mail.hu",
                                    "SZAML_CIM": "1077 Budapest Tanácsköztársaság tér 1.",
                                    "SZUL_DAT": "1986-12-05",
                                    "Elöző három foglalás átlaga": "NULL"
                                },
                                {
                                    "FOGLALAS_PK": "1258",
                                    "UGYFEL_FK": "julia4",
                                    "SZOBA_FK": "52",
                                    "METTOL": "2016-11-07",
                                    "MEDDIG": "2016-11-12",
                                    "FELNOTT_SZAM": "1",
                                    "GYERMEK_SZAM": "0",
                                    "USERNEV": "julia4",
                                    "NEV": "Nagy Júlia",
                                    "EMAIL": "julia4@gmail.com",
                                    "SZAML_CIM": "7000 Sárbogárd Jászai tér 21.",
                                    "SZUL_DAT": "1985-08-11",
                                    "Elöző három foglalás átlaga": "NULL"
                                },
                                {
                                    "FOGLALAS_PK": "892",
                                    "UGYFEL_FK": "LASZLON",
                                    "SZOBA_FK": "165",
                                    "METTOL": "2016-06-03",
                                    "MEDDIG": "2016-06-06",
                                    "FELNOTT_SZAM": "1",
                                    "GYERMEK_SZAM": "0",
                                    "USERNEV": "LASZLON",
                                    "NEV": "Nagy László",
                                    "EMAIL": "lászló.nagy@mail.hu",
                                    "SZAML_CIM": "1173 Budapest Jászai tér 21.",
                                    "SZUL_DAT": "1969-04-12",
                                    "Elöző három foglalás átlaga": "NULL"
                                },
                                {
                                    "FOGLALAS_PK": "1329",
                                    "UGYFEL_FK": "LASZLON",
                                    "SZOBA_FK": "171",
                                    "METTOL": "2016-11-29",
                                    "MEDDIG": "2016-12-04",
                                    "FELNOTT_SZAM": "1",
                                    "GYERMEK_SZAM": "0",
                                    "USERNEV": "LASZLON",
                                    "NEV": "Nagy László",
                                    "EMAIL": "lászló.nagy@mail.hu",
                                    "SZAML_CIM": "1173 Budapest Jászai tér 21.",
                                    "SZUL_DAT": "1969-04-12",
                                    "Elöző három foglalás átlaga": "1"
                                },
                                {
                                    "FOGLALAS_PK": "1136",
                                    "UGYFEL_FK": "LASZLON",
                                    "SZOBA_FK": "30",
                                    "METTOL": "2016-10-09",
                                    "MEDDIG": "2016-10-14",
                                    "FELNOTT_SZAM": "1",
                                    "GYERMEK_SZAM": "0",
                                    "USERNEV": "LASZLON",
                                    "NEV": "Nagy László",
                                    "EMAIL": "lászló.nagy@mail.hu",
                                    "SZAML_CIM": "1173 Budapest Jászai tér 21.",
                                    "SZUL_DAT": "1969-04-12",
                                    "Elöző három foglalás átlaga": "1"
                                },
                                {
                                    "FOGLALAS_PK": "1339",
                                    "UGYFEL_FK": "sandor4",
                                    "SZOBA_FK": "120",
                                    "METTOL": "2016-12-03",
                                    "MEDDIG": "2016-12-09",
                                    "FELNOTT_SZAM": "1",
                                    "GYERMEK_SZAM": "0",
                                    "USERNEV": "sandor4",
                                    "NEV": "Nagy Sándor",
                                    "EMAIL": "sandor4@gmail.com",
                                    "SZAML_CIM": "4600 Kisvárda Fő utca 47.",
                                    "SZUL_DAT": "1997-06-11",
                                    "Elöző három foglalás átlaga": "NULL"
                                },
                                {
                                    "FOGLALAS_PK": "1156",
                                    "UGYFEL_FK": "sandor4",
                                    "SZOBA_FK": "140",
                                    "METTOL": "2016-10-15",
                                    "MEDDIG": "2016-10-18",
                                    "FELNOTT_SZAM": "1",
                                    "GYERMEK_SZAM": "0",
                                    "USERNEV": "sandor4",
                                    "NEV": "Nagy Sándor",
                                    "EMAIL": "sandor4@gmail.com",
                                    "SZAML_CIM": "4600 Kisvárda Fő utca 47.",
                                    "SZUL_DAT": "1997-06-11",
                                    "Elöző három foglalás átlaga": "1"
                                },
                                {
                                    "FOGLALAS_PK": "860",
                                    "UGYFEL_FK": "andrea4",
                                    "SZOBA_FK": "70",
                                    "METTOL": "2016-05-27",
                                    "MEDDIG": "2016-05-29",
                                    "FELNOTT_SZAM": "1",
                                    "GYERMEK_SZAM": "0",
                                    "USERNEV": "andrea4",
                                    "NEV": "Neizer Andrea",
                                    "EMAIL": "andrea4@gmail.com",
                                    "SZAML_CIM": "1124 Budapest Kiss u. 8.",
                                    "SZUL_DAT": "1981-05-17",
                                    "Elöző három foglalás átlaga": "NULL"
                                },
                                {
                                    "FOGLALAS_PK": "1213",
                                    "UGYFEL_FK": "GYORGYO",
                                    "SZOBA_FK": "91",
                                    "METTOL": "2016-10-28",
                                    "MEDDIG": "2016-10-31",
                                    "FELNOTT_SZAM": "1",
                                    "GYERMEK_SZAM": "0",
                                    "USERNEV": "GYORGYO",
                                    "NEV": "Oroszi György",
                                    "EMAIL": "GYORGYO@gmail.com",
                                    "SZAML_CIM": "7220 Sarkad Dózsa György u. 1.",
                                    "SZUL_DAT": "1980-03-23",
                                    "Elöző három foglalás átlaga": "NULL"
                                },
                                {
                                    "FOGLALAS_PK": "1374",
                                    "UGYFEL_FK": "robert2",
                                    "SZOBA_FK": "118",
                                    "METTOL": "2016-12-17",
                                    "MEDDIG": "2016-12-22",
                                    "FELNOTT_SZAM": "1",
                                    "GYERMEK_SZAM": "0",
                                    "USERNEV": "robert2",
                                    "NEV": "Patay Róbert",
                                    "EMAIL": "robert2@gmail.com",
                                    "SZAML_CIM": "2370 Dabas Rákóczi utca 21.",
                                    "SZUL_DAT": "1977-01-08",
                                    "Elöző három foglalás átlaga": "NULL"
                                },
                                {
                                    "FOGLALAS_PK": "845",
                                    "UGYFEL_FK": "eva2",
                                    "SZOBA_FK": "63",
                                    "METTOL": "2016-09-02",
                                    "MEDDIG": "2016-09-03",
                                    "FELNOTT_SZAM": "1",
                                    "GYERMEK_SZAM": "0",
                                    "USERNEV": "eva2",
                                    "NEV": "Perlinger Éva",
                                    "EMAIL": "eva2@gmail.com",
                                    "SZAML_CIM": "9653 Répcelak Bécsi utca 82.",
                                    "SZUL_DAT": "1971-08-19",
                                    "Elöző három foglalás átlaga": "NULL"
                                },
                                {
                                    "FOGLALAS_PK": "567",
                                    "UGYFEL_FK": "anett3",
                                    "SZOBA_FK": "170",
                                    "METTOL": "2016-04-10",
                                    "MEDDIG": "2016-04-17",
                                    "FELNOTT_SZAM": "1",
                                    "GYERMEK_SZAM": "0",
                                    "USERNEV": "anett3",
                                    "NEV": "Pivarcsi Anett",
                                    "EMAIL": "anett.pivarcsi@mail.hu",
                                    "SZAML_CIM": "1149 Budapest Fő út 60.",
                                    "SZUL_DAT": "1967-01-03",
                                    "Elöző három foglalás átlaga": "NULL"
                                },
                                {
                                    "FOGLALAS_PK": "1159",
                                    "UGYFEL_FK": "anett3",
                                    "SZOBA_FK": "73",
                                    "METTOL": "2016-10-16",
                                    "MEDDIG": "2016-10-21",
                                    "FELNOTT_SZAM": "1",
                                    "GYERMEK_SZAM": "0",
                                    "USERNEV": "anett3",
                                    "NEV": "Pivarcsi Anett",
                                    "EMAIL": "anett.pivarcsi@mail.hu",
                                    "SZAML_CIM": "1149 Budapest Fő út 60.",
                                    "SZUL_DAT": "1967-01-03",
                                    "Elöző három foglalás átlaga": "1"
                                },
                                {
                                    "FOGLALAS_PK": "1430",
                                    "UGYFEL_FK": "daniel",
                                    "SZOBA_FK": "12",
                                    "METTOL": "2017-01-09",
                                    "MEDDIG": "2017-01-11",
                                    "FELNOTT_SZAM": "1",
                                    "GYERMEK_SZAM": "0",
                                    "USERNEV": "daniel",
                                    "NEV": "Rácz Dániel",
                                    "EMAIL": "dániel.rácz@mail.hu",
                                    "SZAML_CIM": "9181 Kimle Szabadság tér 9.",
                                    "SZUL_DAT": "1978-11-28",
                                    "Elöző három foglalás átlaga": "NULL"
                                },
                                {
                                    "FOGLALAS_PK": "684",
                                    "UGYFEL_FK": "ANNAMARIAR",
                                    "SZOBA_FK": "184",
                                    "METTOL": "2016-07-18",
                                    "MEDDIG": "2016-07-21",
                                    "FELNOTT_SZAM": "1",
                                    "GYERMEK_SZAM": "0",
                                    "USERNEV": "ANNAMARIAR",
                                    "NEV": "Regős Annamária",
                                    "EMAIL": "ANNAMARIAR@gmail.com",
                                    "SZAML_CIM": "8283 Káptalantóti Petőfi Sándor tér 1.",
                                    "SZUL_DAT": "1977-09-26",
                                    "Elöző három foglalás átlaga": "NULL"
                                },
                                {
                                    "FOGLALAS_PK": "965",
                                    "UGYFEL_FK": "ANIKOS",
                                    "SZOBA_FK": "5",
                                    "METTOL": "2016-06-16",
                                    "MEDDIG": "2016-06-23",
                                    "FELNOTT_SZAM": "1",
                                    "GYERMEK_SZAM": "0",
                                    "USERNEV": "ANIKOS",
                                    "NEV": "Simon Anikó",
                                    "EMAIL": "ANIKOS@gmail.com",
                                    "SZAML_CIM": "5137 Jászkisér Bécsi utca 82.",
                                    "SZUL_DAT": "1988-12-14",
                                    "Elöző három foglalás átlaga": "NULL"
                                },
                                {
                                    "FOGLALAS_PK": "1568",
                                    "UGYFEL_FK": "bernadett1",
                                    "SZOBA_FK": "29",
                                    "METTOL": "2017-02-24",
                                    "MEDDIG": "2017-03-03",
                                    "FELNOTT_SZAM": "1",
                                    "GYERMEK_SZAM": "0",
                                    "USERNEV": "bernadett1",
                                    "NEV": "Simon Bernadett",
                                    "EMAIL": "bernadett1@gmail.com",
                                    "SZAML_CIM": "2300 Ráckeve Fő utca 108.",
                                    "SZUL_DAT": "1984-10-13",
                                    "Elöző három foglalás átlaga": "NULL"
                                },
                                {
                                    "FOGLALAS_PK": "1434",
                                    "UGYFEL_FK": "peter3",
                                    "SZOBA_FK": "3",
                                    "METTOL": "2017-01-12",
                                    "MEDDIG": "2017-01-17",
                                    "FELNOTT_SZAM": "1",
                                    "GYERMEK_SZAM": "0",
                                    "USERNEV": "peter3",
                                    "NEV": "Szalai Péter",
                                    "EMAIL": "peter3@gmail.com",
                                    "SZAML_CIM": "1155 Budapest Arany János utca 3.",
                                    "SZUL_DAT": "1983-07-18",
                                    "Elöző három foglalás átlaga": "NULL"
                                },
                                {
                                    "FOGLALAS_PK": "1396",
                                    "UGYFEL_FK": "peter3",
                                    "SZOBA_FK": "72",
                                    "METTOL": "2016-12-25",
                                    "MEDDIG": "2016-12-28",
                                    "FELNOTT_SZAM": "1",
                                    "GYERMEK_SZAM": "0",
                                    "USERNEV": "peter3",
                                    "NEV": "Szalai Péter",
                                    "EMAIL": "peter3@gmail.com",
                                    "SZAML_CIM": "1155 Budapest Arany János utca 3.",
                                    "SZUL_DAT": "1983-07-18",
                                    "Elöző három foglalás átlaga": "1"
                                },
                                {
                                    "FOGLALAS_PK": "1508",
                                    "UGYFEL_FK": "SZILARDS",
                                    "SZOBA_FK": "191",
                                    "METTOL": "2017-02-08",
                                    "MEDDIG": "2017-02-15",
                                    "FELNOTT_SZAM": "1",
                                    "GYERMEK_SZAM": "0",
                                    "USERNEV": "SZILARDS",
                                    "NEV": "Szalai Szilárd",
                                    "EMAIL": "szilárd.szalai@mail.hu",
                                    "SZAML_CIM": "1077 Budapest Fő út 18.",
                                    "SZUL_DAT": "1967-09-28",
                                    "Elöző három foglalás átlaga": "NULL"
                                },
                                {
                                    "FOGLALAS_PK": "1306",
                                    "UGYFEL_FK": "krisztina",
                                    "SZOBA_FK": "133",
                                    "METTOL": "2016-11-22",
                                    "MEDDIG": "2016-11-25",
                                    "FELNOTT_SZAM": "1",
                                    "GYERMEK_SZAM": "0",
                                    "USERNEV": "krisztina",
                                    "NEV": "Szedlár Krisztina",
                                    "EMAIL": "krisztina@gmail.com",
                                    "SZAML_CIM": "6646 Tömörkény Arany János utca 1.",
                                    "SZUL_DAT": "1979-05-10",
                                    "Elöző három foglalás átlaga": "NULL"
                                },
                                {
                                    "FOGLALAS_PK": "1048",
                                    "UGYFEL_FK": "krisztina",
                                    "SZOBA_FK": "95",
                                    "METTOL": "2016-09-13",
                                    "MEDDIG": "2016-09-16",
                                    "FELNOTT_SZAM": "1",
                                    "GYERMEK_SZAM": "0",
                                    "USERNEV": "krisztina",
                                    "NEV": "Szedlár Krisztina",
                                    "EMAIL": "krisztina@gmail.com",
                                    "SZAML_CIM": "6646 Tömörkény Arany János utca 1.",
                                    "SZUL_DAT": "1979-05-10",
                                    "Elöző három foglalás átlaga": "1"
                                },
                                {
                                    "FOGLALAS_PK": "1469",
                                    "UGYFEL_FK": "brigitta",
                                    "SZOBA_FK": "13",
                                    "METTOL": "2017-01-23",
                                    "MEDDIG": "2017-01-25",
                                    "FELNOTT_SZAM": "1",
                                    "GYERMEK_SZAM": "0",
                                    "USERNEV": "brigitta",
                                    "NEV": "Székely Brigitta",
                                    "EMAIL": "brigitta.székely@mail.hu",
                                    "SZAML_CIM": "2462 Martonvásár Fő utca 47.",
                                    "SZUL_DAT": "1978-09-13",
                                    "Elöző három foglalás átlaga": "NULL"
                                },
                                {
                                    "FOGLALAS_PK": "586",
                                    "UGYFEL_FK": "BEATRIXS",
                                    "SZOBA_FK": "107",
                                    "METTOL": "2016-04-18",
                                    "MEDDIG": "2016-04-24",
                                    "FELNOTT_SZAM": "1",
                                    "GYERMEK_SZAM": "0",
                                    "USERNEV": "BEATRIXS",
                                    "NEV": "Szekendi Beatrix",
                                    "EMAIL": "beatrix.szekendi@mail.hu",
                                    "SZAML_CIM": "4060 Balmazújváros Jászai tér 21.",
                                    "SZUL_DAT": "1981-04-06",
                                    "Elöző három foglalás átlaga": "NULL"
                                },
                                {
                                    "FOGLALAS_PK": "891",
                                    "UGYFEL_FK": "MATYASS",
                                    "SZOBA_FK": "63",
                                    "METTOL": "2016-06-02",
                                    "MEDDIG": "2016-06-08",
                                    "FELNOTT_SZAM": "1",
                                    "GYERMEK_SZAM": "0",
                                    "USERNEV": "MATYASS",
                                    "NEV": "Szilágyi Mátyás",
                                    "EMAIL": "mátyás.szilágyi@mail.hu",
                                    "SZAML_CIM": "9023 Győr Kossuth Lajos utca 6.",
                                    "SZUL_DAT": "1975-03-22",
                                    "Elöző három foglalás átlaga": "NULL"
                                },
                                {
                                    "FOGLALAS_PK": "1190",
                                    "UGYFEL_FK": "MATYASS",
                                    "SZOBA_FK": "161",
                                    "METTOL": "2016-10-24",
                                    "MEDDIG": "2016-10-31",
                                    "FELNOTT_SZAM": "1",
                                    "GYERMEK_SZAM": "0",
                                    "USERNEV": "MATYASS",
                                    "NEV": "Szilágyi Mátyás",
                                    "EMAIL": "mátyás.szilágyi@mail.hu",
                                    "SZAML_CIM": "9023 Győr Kossuth Lajos utca 6.",
                                    "SZUL_DAT": "1975-03-22",
                                    "Elöző három foglalás átlaga": "1"
                                },
                                {
                                    "FOGLALAS_PK": "1529",
                                    "UGYFEL_FK": "RENATAS",
                                    "SZOBA_FK": "35",
                                    "METTOL": "2017-02-13",
                                    "MEDDIG": "2017-02-17",
                                    "FELNOTT_SZAM": "1",
                                    "GYERMEK_SZAM": "0",
                                    "USERNEV": "RENATAS",
                                    "NEV": "Szirmai Renáta",
                                    "EMAIL": "RENATAS@gmail.com",
                                    "SZAML_CIM": "2053 Herceghalom Kossuth utca 27.",
                                    "SZUL_DAT": "1991-03-26",
                                    "Elöző három foglalás átlaga": "NULL"
                                },
                                {
                                    "FOGLALAS_PK": "1578",
                                    "UGYFEL_FK": "balazs2",
                                    "SZOBA_FK": "148",
                                    "METTOL": "2017-02-27",
                                    "MEDDIG": "2017-03-06",
                                    "FELNOTT_SZAM": "1",
                                    "GYERMEK_SZAM": "0",
                                    "USERNEV": "balazs2",
                                    "NEV": "Szűcs Balázs",
                                    "EMAIL": "balázs.szűcs@mail.hu",
                                    "SZAML_CIM": "3170 Szécsény Szabadság utca 95.",
                                    "SZUL_DAT": "1984-10-31",
                                    "Elöző három foglalás átlaga": "NULL"
                                },
                                {
                                    "FOGLALAS_PK": "1018",
                                    "UGYFEL_FK": "norbert",
                                    "SZOBA_FK": "40",
                                    "METTOL": "2016-07-08",
                                    "MEDDIG": "2016-07-13",
                                    "FELNOTT_SZAM": "1",
                                    "GYERMEK_SZAM": "0",
                                    "USERNEV": "norbert",
                                    "NEV": "Szűcs Norbert",
                                    "EMAIL": "norbert@gmail.com",
                                    "SZAML_CIM": "5071 Besenyszög Győri utca 12.",
                                    "SZUL_DAT": "1969-07-17",
                                    "Elöző három foglalás átlaga": "NULL"
                                },
                                {
                                    "FOGLALAS_PK": "1576",
                                    "UGYFEL_FK": "norbert",
                                    "SZOBA_FK": "189",
                                    "METTOL": "2017-02-26",
                                    "MEDDIG": "2017-03-01",
                                    "FELNOTT_SZAM": "1",
                                    "GYERMEK_SZAM": "0",
                                    "USERNEV": "norbert",
                                    "NEV": "Szűcs Norbert",
                                    "EMAIL": "norbert@gmail.com",
                                    "SZAML_CIM": "5071 Besenyszög Győri utca 12.",
                                    "SZUL_DAT": "1969-07-17",
                                    "Elöző három foglalás átlaga": "1"
                                },
                                {
                                    "FOGLALAS_PK": "790",
                                    "UGYFEL_FK": "veronika4",
                                    "SZOBA_FK": "10",
                                    "METTOL": "2016-08-16",
                                    "MEDDIG": "2016-08-21",
                                    "FELNOTT_SZAM": "1",
                                    "GYERMEK_SZAM": "0",
                                    "USERNEV": "veronika4",
                                    "NEV": "Tankó Veronika",
                                    "EMAIL": "veronika4@gmail.com",
                                    "SZAML_CIM": "6412 Balotaszállás Rendeki utca 21.",
                                    "SZUL_DAT": "1983-08-28",
                                    "Elöző három foglalás átlaga": "NULL"
                                },
                                {
                                    "FOGLALAS_PK": "878",
                                    "UGYFEL_FK": "gabor4",
                                    "SZOBA_FK": "83",
                                    "METTOL": "2016-05-30",
                                    "MEDDIG": "2016-06-05",
                                    "FELNOTT_SZAM": "1",
                                    "GYERMEK_SZAM": "0",
                                    "USERNEV": "gabor4",
                                    "NEV": "Telek Gábor",
                                    "EMAIL": "gábor.telek@mail.hu",
                                    "SZAML_CIM": "9071 Görbeháza Fő út 169.",
                                    "SZUL_DAT": "1987-03-15",
                                    "Elöző három foglalás átlaga": "NULL"
                                },
                                {
                                    "FOGLALAS_PK": "884",
                                    "UGYFEL_FK": "andras2",
                                    "SZOBA_FK": "98",
                                    "METTOL": "2016-05-30",
                                    "MEDDIG": "2016-06-04",
                                    "FELNOTT_SZAM": "1",
                                    "GYERMEK_SZAM": "0",
                                    "USERNEV": "andras2",
                                    "NEV": "Tóth András",
                                    "EMAIL": "andrás.tóth@mail.hu",
                                    "SZAML_CIM": "4071 Egyek Petőfi utca 30.",
                                    "SZUL_DAT": "1997-10-31",
                                    "Elöző három foglalás átlaga": "NULL"
                                },
                                {
                                    "FOGLALAS_PK": "638",
                                    "UGYFEL_FK": "julia",
                                    "SZOBA_FK": "67",
                                    "METTOL": "2016-05-12",
                                    "MEDDIG": "2016-05-17",
                                    "FELNOTT_SZAM": "1",
                                    "GYERMEK_SZAM": "0",
                                    "USERNEV": "julia",
                                    "NEV": "Tóth Júlia",
                                    "EMAIL": "julia@gmail.com",
                                    "SZAML_CIM": "5310 Kisújszállás Árpád utca 4.",
                                    "SZUL_DAT": "1993-03-02",
                                    "Elöző három foglalás átlaga": "NULL"
                                },
                                {
                                    "FOGLALAS_PK": "669",
                                    "UGYFEL_FK": "tunde",
                                    "SZOBA_FK": "173",
                                    "METTOL": "2016-07-14",
                                    "MEDDIG": "2016-07-21",
                                    "FELNOTT_SZAM": "1",
                                    "GYERMEK_SZAM": "0",
                                    "USERNEV": "tunde",
                                    "NEV": "Turcsik Tünde",
                                    "EMAIL": "tunde@gmail.com",
                                    "SZAML_CIM": "7130 Tolna Fő út 122.",
                                    "SZUL_DAT": "1974-02-12",
                                    "Elöző három foglalás átlaga": "NULL"
                                },
                                {
                                    "FOGLALAS_PK": "610",
                                    "UGYFEL_FK": "VIKTORIAU",
                                    "SZOBA_FK": "106",
                                    "METTOL": "2016-04-30",
                                    "MEDDIG": "2016-05-03",
                                    "FELNOTT_SZAM": "1",
                                    "GYERMEK_SZAM": "0",
                                    "USERNEV": "VIKTORIAU",
                                    "NEV": "Urbán Viktoria",
                                    "EMAIL": "viktoria.urbán@mail.hu",
                                    "SZAML_CIM": "3860 Encs Népboltsor  2.",
                                    "SZUL_DAT": "1996-05-03",
                                    "Elöző három foglalás átlaga": "NULL"
                                },
                                {
                                    "FOGLALAS_PK": "1202",
                                    "UGYFEL_FK": "ZSUZSAV",
                                    "SZOBA_FK": "52",
                                    "METTOL": "2016-10-26",
                                    "MEDDIG": "2016-10-28",
                                    "FELNOTT_SZAM": "1",
                                    "GYERMEK_SZAM": "0",
                                    "USERNEV": "ZSUZSAV",
                                    "NEV": "Vajda Zsuzsa",
                                    "EMAIL": "zsuzsa.vajda@mail.hu",
                                    "SZAML_CIM": "6786 Ruzsa Kossuth utca 77.",
                                    "SZUL_DAT": "1976-12-11",
                                    "Elöző három foglalás átlaga": "NULL"
                                },
                                {
                                    "FOGLALAS_PK": "880",
                                    "UGYFEL_FK": "andras3",
                                    "SZOBA_FK": "184",
                                    "METTOL": "2016-05-30",
                                    "MEDDIG": "2016-06-03",
                                    "FELNOTT_SZAM": "1",
                                    "GYERMEK_SZAM": "0",
                                    "USERNEV": "andras3",
                                    "NEV": "Vígh András",
                                    "EMAIL": "andrás.vígh@mail.hu",
                                    "SZAML_CIM": "1118 Budapest Arany János utca 1.",
                                    "SZUL_DAT": "1971-04-02",
                                    "Elöző három foglalás átlaga": "NULL"
                                },
                                {
                                    "FOGLALAS_PK": "949",
                                    "UGYFEL_FK": "andras3",
                                    "SZOBA_FK": "1",
                                    "METTOL": "2016-06-10",
                                    "MEDDIG": "2016-06-11",
                                    "FELNOTT_SZAM": "1",
                                    "GYERMEK_SZAM": "0",
                                    "USERNEV": "andras3",
                                    "NEV": "Vígh András",
                                    "EMAIL": "andrás.vígh@mail.hu",
                                    "SZAML_CIM": "1118 Budapest Arany János utca 1.",
                                    "SZUL_DAT": "1971-04-02",
                                    "Elöző három foglalás átlaga": "1"
                                },
                                {
                                    "FOGLALAS_PK": "689",
                                    "UGYFEL_FK": "istvan1",
                                    "SZOBA_FK": "102",
                                    "METTOL": "2016-07-19",
                                    "MEDDIG": "2016-07-24",
                                    "FELNOTT_SZAM": "1",
                                    "GYERMEK_SZAM": "0",
                                    "USERNEV": "istvan1",
                                    "NEV": "Vizi István",
                                    "EMAIL": "istván.vizi@mail.hu",
                                    "SZAML_CIM": "7086 Ozora Rákóczi utca 1.",
                                    "SZUL_DAT": "1997-12-01",
                                    "Elöző három foglalás átlaga": "NULL"
                                },
                                {
                                    "FOGLALAS_PK": "1466",
                                    "UGYFEL_FK": "dani",
                                    "SZOBA_FK": "57",
                                    "METTOL": "2017-01-22",
                                    "MEDDIG": "2017-01-29",
                                    "FELNOTT_SZAM": "1",
                                    "GYERMEK_SZAM": "0",
                                    "USERNEV": "dani",
                                    "NEV": "Vörös Dániel",
                                    "EMAIL": "daniel@gmail.com",
                                    "SZAML_CIM": "7150 Bonyhád Dózsa György u. 1.",
                                    "SZUL_DAT": "1986-10-14",
                                    "Elöző három foglalás átlaga": "NULL"
                                },
                                {
                                    "FOGLALAS_PK": "1102",
                                    "UGYFEL_FK": "dani",
                                    "SZOBA_FK": "108",
                                    "METTOL": "2016-10-01",
                                    "MEDDIG": "2016-10-02",
                                    "FELNOTT_SZAM": "1",
                                    "GYERMEK_SZAM": "0",
                                    "USERNEV": "dani",
                                    "NEV": "Vörös Dániel",
                                    "EMAIL": "daniel@gmail.com",
                                    "SZAML_CIM": "7150 Bonyhád Dózsa György u. 1.",
                                    "SZUL_DAT": "1986-10-14",
                                    "Elöző három foglalás átlaga": "1"
                                },
                                {
                                    "FOGLALAS_PK": "702",
                                    "UGYFEL_FK": "balint2",
                                    "SZOBA_FK": "62",
                                    "METTOL": "2016-07-21",
                                    "MEDDIG": "2016-07-26",
                                    "FELNOTT_SZAM": "1",
                                    "GYERMEK_SZAM": "0",
                                    "USERNEV": "balint2",
                                    "NEV": "Vukasinovity Bálint",
                                    "EMAIL": "balint2@gmail.com",
                                    "SZAML_CIM": "2330 Dunaharaszti Béke utca 7.",
                                    "SZUL_DAT": "1997-09-03",
                                    "Elöző három foglalás átlaga": "NULL"
                                }
                            ]
                        },
                        "text/html": [
                            "<table>",
                            "<tr><th>FOGLALAS_PK</th><th>UGYFEL_FK</th><th>SZOBA_FK</th><th>METTOL</th><th>MEDDIG</th><th>FELNOTT_SZAM</th><th>GYERMEK_SZAM</th><th>USERNEV</th><th>NEV</th><th>EMAIL</th><th>SZAML_CIM</th><th>SZUL_DAT</th><th>NEV</th><th>Elöző három foglalás átlaga</th></tr>",
                            "<tr><td>757</td><td>david</td><td>88</td><td>2016-08-05</td><td>2016-08-12</td><td>1</td><td>0</td><td>david</td><td>Ambrus Dávid</td><td>david@gmail.com</td><td>1149 Budapest Fő út 18.</td><td>1974-02-11</td><td>Ambrus Dávid</td><td>NULL</td></tr>",
                            "<tr><td>923</td><td>LASZLOA</td><td>123</td><td>2016-06-07</td><td>2016-06-11</td><td>1</td><td>0</td><td>LASZLOA</td><td>Antal László</td><td>lászló.antal@mail.hu</td><td>2484 Agárd Bécsi utca 82.</td><td>1969-06-29</td><td>Antal László</td><td>NULL</td></tr>",
                            "<tr><td>1005</td><td>beata4</td><td>22</td><td>2016-07-03</td><td>2016-07-06</td><td>1</td><td>0</td><td>beata4</td><td>Bagi Beáta</td><td>beáta.bagi@mail.hu</td><td>8477 Tüskevár Felszabadulás utca 32.</td><td>1994-03-19</td><td>Bagi Beáta</td><td>NULL</td></tr>",
                            "<tr><td>1112</td><td>beata4</td><td>155</td><td>2016-10-01</td><td>2016-10-05</td><td>1</td><td>0</td><td>beata4</td><td>Bagi Beáta</td><td>beáta.bagi@mail.hu</td><td>8477 Tüskevár Felszabadulás utca 32.</td><td>1994-03-19</td><td>Bagi Beáta</td><td>1</td></tr>",
                            "<tr><td>1436</td><td>alexandra</td><td>35</td><td>2017-01-13</td><td>2017-01-14</td><td>1</td><td>0</td><td>alexandra</td><td>Bagóczki Alexandra</td><td>alexandra.bagóczki@mail.hu</td><td>2381 Táborfalva Petőfi utca 1/2.</td><td>1992-03-25</td><td>Bagóczki Alexandra</td><td>NULL</td></tr>",
                            "<tr><td>1187</td><td>eszter2</td><td>46</td><td>2016-10-23</td><td>2016-10-30</td><td>1</td><td>0</td><td>eszter2</td><td>Balogh Eszter</td><td>eszter.balogh@mail.hu</td><td>6760 Kistelek Kossuth utca 11.</td><td>1998-01-31</td><td>Balogh Eszter</td><td>NULL</td></tr>",
                            "<tr><td>1171</td><td>eszter2</td><td>172</td><td>2016-10-20</td><td>2016-10-25</td><td>1</td><td>0</td><td>eszter2</td><td>Balogh Eszter</td><td>eszter.balogh@mail.hu</td><td>6760 Kistelek Kossuth utca 11.</td><td>1998-01-31</td><td>Balogh Eszter</td><td>1</td></tr>",
                            "<tr><td>1109</td><td>eszter2</td><td>110</td><td>2016-10-01</td><td>2016-10-06</td><td>1</td><td>0</td><td>eszter2</td><td>Balogh Eszter</td><td>eszter.balogh@mail.hu</td><td>6760 Kistelek Kossuth utca 11.</td><td>1998-01-31</td><td>Balogh Eszter</td><td>1</td></tr>",
                            "<tr><td>1017</td><td>eszter2</td><td>190</td><td>2016-07-08</td><td>2016-07-09</td><td>1</td><td>0</td><td>eszter2</td><td>Balogh Eszter</td><td>eszter.balogh@mail.hu</td><td>6760 Kistelek Kossuth utca 11.</td><td>1998-01-31</td><td>Balogh Eszter</td><td>1</td></tr>",
                            "<tr><td>1480</td><td>eszter2</td><td>35</td><td>2016-12-29</td><td>2017-02-04</td><td>1</td><td>0</td><td>eszter2</td><td>Balogh Eszter</td><td>eszter.balogh@mail.hu</td><td>6760 Kistelek Kossuth utca 11.</td><td>1998-01-31</td><td>Balogh Eszter</td><td>1</td></tr>",
                            "<tr><td>1336</td><td>eszter2</td><td>172</td><td>2016-12-02</td><td>2016-12-07</td><td>1</td><td>0</td><td>eszter2</td><td>Balogh Eszter</td><td>eszter.balogh@mail.hu</td><td>6760 Kistelek Kossuth utca 11.</td><td>1998-01-31</td><td>Balogh Eszter</td><td>1</td></tr>",
                            "<tr><td>981</td><td>maria1</td><td>171</td><td>2016-06-23</td><td>2016-06-27</td><td>1</td><td>0</td><td>maria1</td><td>Baráth Mária</td><td>mária.baráth@mail.hu</td><td>1047 Budapest Posta köz 2.</td><td>1995-11-19</td><td>Baráth Mária</td><td>NULL</td></tr>",
                            "<tr><td>652</td><td>maria1</td><td>149</td><td>2016-05-18</td><td>2016-05-19</td><td>1</td><td>0</td><td>maria1</td><td>Baráth Mária</td><td>mária.baráth@mail.hu</td><td>1047 Budapest Posta köz 2.</td><td>1995-11-19</td><td>Baráth Mária</td><td>1</td></tr>",
                            "<tr><td>846</td><td>maria1</td><td>45</td><td>2016-09-02</td><td>2016-09-05</td><td>1</td><td>0</td><td>maria1</td><td>Baráth Mária</td><td>mária.baráth@mail.hu</td><td>1047 Budapest Posta köz 2.</td><td>1995-11-19</td><td>Baráth Mária</td><td>1</td></tr>",
                            "<tr><td>1504</td><td>adam3</td><td>57</td><td>2017-02-06</td><td>2017-02-10</td><td>1</td><td>0</td><td>adam3</td><td>Barkóci Ádám</td><td>adam3@gmail.com</td><td>3910 Tokaj Dózsa György utca 37.</td><td>1970-06-07</td><td>Barkóci Ádám</td><td>NULL</td></tr>",
                            "<tr><td>1230</td><td>zoltan4</td><td>182</td><td>2016-10-30</td><td>2016-11-06</td><td>1</td><td>0</td><td>zoltan4</td><td>Barna Zoltán</td><td>zoltan4@gmail.com</td><td>8313 Balatongyörök Jászai tér 21.</td><td>1986-05-20</td><td>Barna Zoltán</td><td>NULL</td></tr>",
                            "<tr><td>1403</td><td>zoltan4</td><td>124</td><td>2016-12-29</td><td>2017-01-04</td><td>1</td><td>0</td><td>zoltan4</td><td>Barna Zoltán</td><td>zoltan4@gmail.com</td><td>8313 Balatongyörök Jászai tér 21.</td><td>1986-05-20</td><td>Barna Zoltán</td><td>1</td></tr>",
                            "<tr><td>779</td><td>zoltan4</td><td>130</td><td>2016-08-15</td><td>2016-08-21</td><td>1</td><td>0</td><td>zoltan4</td><td>Barna Zoltán</td><td>zoltan4@gmail.com</td><td>8313 Balatongyörök Jászai tér 21.</td><td>1986-05-20</td><td>Barna Zoltán</td><td>1</td></tr>",
                            "<tr><td>893</td><td>zoltan4</td><td>151</td><td>2016-06-03</td><td>2016-06-06</td><td>1</td><td>0</td><td>zoltan4</td><td>Barna Zoltán</td><td>zoltan4@gmail.com</td><td>8313 Balatongyörök Jászai tér 21.</td><td>1986-05-20</td><td>Barna Zoltán</td><td>1</td></tr>",
                            "<tr><td>1428</td><td>zsuzsanna</td><td>126</td><td>2017-01-09</td><td>2017-01-16</td><td>1</td><td>0</td><td>zsuzsanna</td><td>Barta Zsuzsanna</td><td>zsuzsanna.barta@mail.hu</td><td>4172 Biharnagybajom Dózsa György utca 37.</td><td>1994-10-07</td><td>Barta Zsuzsanna</td><td>NULL</td></tr>",
                            "<tr><td>562</td><td>PETERB</td><td>7</td><td>2016-04-06</td><td>2016-04-10</td><td>1</td><td>0</td><td>PETERB</td><td>Berendi Péter</td><td>péter.berendi@mail.hu</td><td>3980 Sátoraljaújhely Vasút utca 4/10.</td><td>1969-01-01</td><td>Berendi Péter</td><td>NULL</td></tr>",
                            "<tr><td>781</td><td>PETERB</td><td>166</td><td>2016-08-16</td><td>2016-08-23</td><td>1</td><td>0</td><td>PETERB</td><td>Berendi Péter</td><td>péter.berendi@mail.hu</td><td>3980 Sátoraljaújhely Vasút utca 4/10.</td><td>1969-01-01</td><td>Berendi Péter</td><td>1</td></tr>",
                            "<tr><td>1252</td><td>norbert5</td><td>7</td><td>2016-11-05</td><td>2016-11-07</td><td>1</td><td>0</td><td>norbert5</td><td>Béres Norbert</td><td>norbert5@gmail.com</td><td>8640 Fonyód Bajcsy-Zsilinszky utca 4.</td><td>1975-07-27</td><td>Béres Norbert</td><td>NULL</td></tr>",
                            "<tr><td>1034</td><td>akos</td><td>127</td><td>2016-09-06</td><td>2016-09-12</td><td>1</td><td>0</td><td>akos</td><td>Bíró Ákos</td><td>ákos.bíró@mail.hu</td><td>9023 Győr Kossuth Lajos utca 47/b.</td><td>1982-04-24</td><td>Bíró Ákos</td><td>NULL</td></tr>",
                            "<tr><td>705</td><td>akos</td><td>37</td><td>2016-07-22</td><td>2016-07-26</td><td>1</td><td>0</td><td>akos</td><td>Bíró Ákos</td><td>ákos.bíró@mail.hu</td><td>9023 Győr Kossuth Lajos utca 47/b.</td><td>1982-04-24</td><td>Bíró Ákos</td><td>1</td></tr>",
                            "<tr><td>648</td><td>krisztina1</td><td>157</td><td>2016-05-16</td><td>2016-05-20</td><td>1</td><td>0</td><td>krisztina1</td><td>Bori Krisztina</td><td>krisztina.bori@mail.hu</td><td>2115 Vácszentlászló Fő utca 47.</td><td>1969-10-13</td><td>Bori Krisztina</td><td>NULL</td></tr>",
                            "<tr><td>1103</td><td>vivien3</td><td>87</td><td>2016-10-01</td><td>2016-10-04</td><td>1</td><td>0</td><td>vivien3</td><td>Boros Vivien</td><td>vivien3@gmail.com</td><td>2117 Isaszeg Fő út 122.</td><td>1991-07-01</td><td>Boros Vivien</td><td>NULL</td></tr>",
                            "<tr><td>1001</td><td>aniko4</td><td>4</td><td>2016-07-02</td><td>2016-07-09</td><td>1</td><td>0</td><td>aniko4</td><td>Böröcz Anikó</td><td>aniko4@gmail.com</td><td>2484 Agárd Petőfi Sándor tér 1.</td><td>1978-03-26</td><td>Böröcz Anikó</td><td>NULL</td></tr>",
                            "<tr><td>787</td><td>krisztian4</td><td>50</td><td>2016-08-16</td><td>2016-08-19</td><td>1</td><td>0</td><td>krisztian4</td><td>Czérna Krisztián</td><td>krisztián.czérna@mail.hu</td><td>1107 Budapest Dózsa György utca 37.</td><td>1970-08-01</td><td>Czérna Krisztián</td><td>NULL</td></tr>",
                            "<tr><td>834</td><td>krisztian4</td><td>149</td><td>2016-08-29</td><td>2016-09-03</td><td>1</td><td>0</td><td>krisztian4</td><td>Czérna Krisztián</td><td>krisztián.czérna@mail.hu</td><td>1107 Budapest Dózsa György utca 37.</td><td>1970-08-01</td><td>Czérna Krisztián</td><td>1</td></tr>",
                            "<tr><td>1422</td><td>krisztian4</td><td>182</td><td>2017-01-06</td><td>2017-01-09</td><td>1</td><td>0</td><td>krisztian4</td><td>Czérna Krisztián</td><td>krisztián.czérna@mail.hu</td><td>1107 Budapest Dózsa György utca 37.</td><td>1970-08-01</td><td>Czérna Krisztián</td><td>1</td></tr>",
                            "<tr><td>974</td><td>bertalan</td><td>169</td><td>2016-06-20</td><td>2016-06-21</td><td>1</td><td>0</td><td>bertalan</td><td>Csiger Bertalan</td><td>bertalan@gmail.com</td><td>1192 Budapest Fő út 169.</td><td>1977-10-15</td><td>Csiger Bertalan</td><td>NULL</td></tr>",
                            "<tr><td>1154</td><td>attila</td><td>115</td><td>2016-10-15</td><td>2016-10-19</td><td>1</td><td>0</td><td>attila</td><td>Csóti Attila</td><td>attila@gmail.com</td><td>3000 Hatvan Bajcsy-Zsilinszky utca 4.</td><td>1979-12-25</td><td>Csóti Attila</td><td>NULL</td></tr>",
                            "<tr><td>651</td><td>aladar</td><td>4</td><td>2016-05-17</td><td>2016-05-24</td><td>1</td><td>0</td><td>aladar</td><td>Dunai Aladár</td><td>aladár.dunai@mail.hu</td><td>5931 Nagyszénás Árpád utca 23.</td><td>1980-11-01</td><td>Dunai Aladár</td><td>NULL</td></tr>",
                            "<tr><td>1079</td><td>aladar</td><td>86</td><td>2016-09-24</td><td>2016-09-28</td><td>1</td><td>0</td><td>aladar</td><td>Dunai Aladár</td><td>aladár.dunai@mail.hu</td><td>5931 Nagyszénás Árpád utca 23.</td><td>1980-11-01</td><td>Dunai Aladár</td><td>1</td></tr>",
                            "<tr><td>600</td><td>ANDRASE</td><td>190</td><td>2016-04-24</td><td>2016-05-01</td><td>1</td><td>0</td><td>ANDRASE</td><td>Erdei András</td><td>ANDRASE@gmail.com</td><td>5071 Besenyszög Szolnoki út 8.</td><td>1997-05-29</td><td>Erdei András</td><td>NULL</td></tr>",
                            "<tr><td>1350</td><td>BELAF</td><td>173</td><td>2016-12-06</td><td>2016-12-09</td><td>1</td><td>0</td><td>BELAF</td><td>Farkas Béla</td><td>BELAF@gmail.com</td><td>5530 Vésztő Petőfi Sándor utca 3.</td><td>1995-02-24</td><td>Farkas Béla</td><td>NULL</td></tr>",
                            "<tr><td>858</td><td>sandor3</td><td>121</td><td>2016-05-25</td><td>2016-05-30</td><td>1</td><td>0</td><td>sandor3</td><td>Farkas Sándor</td><td>sándor.farkas@mail.hu</td><td>8640 Fonyód Tanácsköztársaság tér 1.</td><td>1989-01-27</td><td>Farkas Sándor</td><td>NULL</td></tr>",
                            "<tr><td>1351</td><td>sara</td><td>38</td><td>2016-12-06</td><td>2016-12-10</td><td>1</td><td>0</td><td>sara</td><td>Farkas Sára</td><td>sára.farkas@mail.hu</td><td>5940 Tótkomlós Felszabadulás utca 32.</td><td>1973-04-05</td><td>Farkas Sára</td><td>NULL</td></tr>",
                            "<tr><td>1338</td><td>TAMASF</td><td>145</td><td>2016-12-02</td><td>2016-12-04</td><td>1</td><td>0</td><td>TAMASF</td><td>Fényes Tamás</td><td>TAMASF@gmail.com</td><td>9023 Győr Arany János utca 1.</td><td>1997-11-06</td><td>Fényes Tamás</td><td>NULL</td></tr>",
                            "<tr><td>1384</td><td>roland1</td><td>84</td><td>2016-12-22</td><td>2016-12-29</td><td>1</td><td>0</td><td>roland1</td><td>Ferencz Roland</td><td>roland.ferencz@mail.hu</td><td>2424 Előszállás Fő út 169.</td><td>1985-12-31</td><td>Ferencz Roland</td><td>NULL</td></tr>",
                            "<tr><td>709</td><td>valentin</td><td>172</td><td>2016-07-24</td><td>2016-07-29</td><td>1</td><td>0</td><td>valentin</td><td>Feró Valentin</td><td>valentin.feró@mail.hu</td><td>3895 Gönc Búvár utca 4.</td><td>1986-01-09</td><td>Feró Valentin</td><td>NULL</td></tr>",
                            "<tr><td>1366</td><td>fruzsina4</td><td>81</td><td>2016-12-16</td><td>2016-12-21</td><td>1</td><td>0</td><td>fruzsina4</td><td>Frank Fruzsina</td><td>fruzsina4@gmail.com</td><td>9700 Szombathely Szabadság utca 95.</td><td>1996-08-16</td><td>Frank Fruzsina</td><td>NULL</td></tr>",
                            "<tr><td>631</td><td>JANOSG</td><td>98</td><td>2016-05-09</td><td>2016-05-15</td><td>1</td><td>0</td><td>JANOSG</td><td>Giliga János</td><td>JANOSG@gmail.com</td><td>3300 Eger Deák Ferenc út 5.</td><td>1975-01-03</td><td>Giliga János</td><td>NULL</td></tr>",
                            "<tr><td>1251</td><td>tibor</td><td>184</td><td>2016-11-05</td><td>2016-11-09</td><td>1</td><td>0</td><td>tibor</td><td>Gombos Tibor</td><td>tibor.gombos@mail.hu</td><td>7100 Szekszárd Kossuth utca 77.</td><td>1993-11-28</td><td>Gombos Tibor</td><td>NULL</td></tr>",
                            "<tr><td>601</td><td>kata</td><td>39</td><td>2016-04-25</td><td>2016-05-01</td><td>1</td><td>0</td><td>kata</td><td>Gondos Katalin</td><td>katalin.gondos@mail.hu</td><td>8237 Tihany Kossuth Lajos utca 6.</td><td>1968-06-22</td><td>Gondos Katalin</td><td>NULL</td></tr>",
                            "<tr><td>1006</td><td>kata</td><td>70</td><td>2016-07-03</td><td>2016-07-06</td><td>1</td><td>0</td><td>kata</td><td>Gondos Katalin</td><td>katalin.gondos@mail.hu</td><td>8237 Tihany Kossuth Lajos utca 6.</td><td>1968-06-22</td><td>Gondos Katalin</td><td>1</td></tr>",
                            "<tr><td>1134</td><td>miklos2</td><td>126</td><td>2016-10-08</td><td>2016-10-09</td><td>1</td><td>0</td><td>miklos2</td><td>Gondos Miklós</td><td>miklos2@gmail.com</td><td>2100 Gödöllő Árpád utca 23.</td><td>1995-10-07</td><td>Gondos Miklós</td><td>NULL</td></tr>",
                            "<tr><td>657</td><td>attila1</td><td>137</td><td>2016-05-20</td><td>2016-05-26</td><td>1</td><td>0</td><td>attila1</td><td>Gulyás Attila</td><td>attila.gulyás@mail.hu</td><td>3881 Abaújszántó Szolnoki út 8.</td><td>1982-08-16</td><td>Gulyás Attila</td><td>NULL</td></tr>",
                            "<tr><td>935</td><td>KRISZTINAG</td><td>56</td><td>2016-06-08</td><td>2016-06-12</td><td>1</td><td>0</td><td>KRISZTINAG</td><td>Gyárfás Krisztina</td><td>KRISZTINAG@gmail.com</td><td>6762 Sándorfalva Arany János utca 1.</td><td>1987-09-19</td><td>Gyárfás Krisztina</td><td>NULL</td></tr>",
                            "<tr><td>854</td><td>KRISZTINAG</td><td>167</td><td>2016-05-24</td><td>2016-05-31</td><td>1</td><td>0</td><td>KRISZTINAG</td><td>Gyárfás Krisztina</td><td>KRISZTINAG@gmail.com</td><td>6762 Sándorfalva Arany János utca 1.</td><td>1987-09-19</td><td>Gyárfás Krisztina</td><td>1</td></tr>",
                            "<tr><td>872</td><td>bence</td><td>28</td><td>2016-05-29</td><td>2016-06-03</td><td>1</td><td>0</td><td>bence</td><td>Győrffy Bence</td><td>bence@gmail.com</td><td>6900 Makó Árpád utca 23.</td><td>1987-07-09</td><td>Győrffy Bence</td><td>NULL</td></tr>",
                            "<tr><td>852</td><td>JOZSEFG</td><td>24</td><td>2016-05-23</td><td>2016-05-25</td><td>1</td><td>0</td><td>JOZSEFG</td><td>Gyuris József</td><td>józsef.gyuris@mail.hu</td><td>2660 Balassagyarmat Petőfi utca 1/2.</td><td>1975-05-26</td><td>Gyuris József</td><td>NULL</td></tr>",
                            "<tr><td>1461</td><td>JOZSEFG</td><td>77</td><td>2017-01-22</td><td>2017-01-26</td><td>1</td><td>0</td><td>JOZSEFG</td><td>Gyuris József</td><td>józsef.gyuris@mail.hu</td><td>2660 Balassagyarmat Petőfi utca 1/2.</td><td>1975-05-26</td><td>Gyuris József</td><td>1</td></tr>",
                            "<tr><td>904</td><td>janos3</td><td>34</td><td>2016-06-04</td><td>2016-06-06</td><td>1</td><td>0</td><td>janos3</td><td>Harangozó János</td><td>janos3@gmail.com</td><td>8700 Marcali Petőfi Sándor tér 1.</td><td>1967-11-02</td><td>Harangozó János</td><td>NULL</td></tr>",
                            "<tr><td>1177</td><td>janos3</td><td>150</td><td>2016-10-22</td><td>2016-10-23</td><td>1</td><td>0</td><td>janos3</td><td>Harangozó János</td><td>janos3@gmail.com</td><td>8700 Marcali Petőfi Sándor tér 1.</td><td>1967-11-02</td><td>Harangozó János</td><td>1</td></tr>",
                            "<tr><td>755</td><td>agnes3</td><td>20</td><td>2016-08-04</td><td>2016-08-10</td><td>1</td><td>0</td><td>agnes3</td><td>Hartyánszky Ágnes</td><td>agnes3@gmail.com</td><td>6430 Bácsalmás Posta köz 2.</td><td>1967-04-11</td><td>Hartyánszky Ágnes</td><td>NULL</td></tr>",
                            "<tr><td>782</td><td>norbert2</td><td>163</td><td>2016-08-16</td><td>2016-08-19</td><td>1</td><td>0</td><td>norbert2</td><td>Hegedűs Norbert</td><td>norbert.hegedűs@mail.hu</td><td>2081 Piliscsaba Rendeki utca 21.</td><td>1991-07-17</td><td>Hegedűs Norbert</td><td>NULL</td></tr>",
                            "<tr><td>587</td><td>norbert2</td><td>123</td><td>2016-04-19</td><td>2016-04-26</td><td>1</td><td>0</td><td>norbert2</td><td>Hegedűs Norbert</td><td>norbert.hegedűs@mail.hu</td><td>2081 Piliscsaba Rendeki utca 21.</td><td>1991-07-17</td><td>Hegedűs Norbert</td><td>1</td></tr>",
                            "<tr><td>1379</td><td>JUDITH</td><td>83</td><td>2016-12-19</td><td>2016-12-26</td><td>1</td><td>0</td><td>JUDITH</td><td>Hídasi Judit</td><td>JUDITH@gmail.com</td><td>2100 Gödöllő Fő út 169.</td><td>1997-07-12</td><td>Hídasi Judit</td><td>NULL</td></tr>",
                            "<tr><td>980</td><td>AGNESH</td><td>143</td><td>2016-06-23</td><td>2016-06-26</td><td>1</td><td>0</td><td>AGNESH</td><td>Horváth Ágnes</td><td>AGNESH@gmail.com</td><td>8200 Veszprém Rákóczi utca 21.</td><td>1981-12-24</td><td>Horváth Ágnes</td><td>NULL</td></tr>",
                            "<tr><td>1225</td><td>AGNESH</td><td>69</td><td>2016-10-30</td><td>2016-11-04</td><td>1</td><td>0</td><td>AGNESH</td><td>Horváth Ágnes</td><td>AGNESH@gmail.com</td><td>8200 Veszprém Rákóczi utca 21.</td><td>1981-12-24</td><td>Horváth Ágnes</td><td>1</td></tr>",
                            "<tr><td>1066</td><td>ARPADH</td><td>49</td><td>2016-09-18</td><td>2016-09-25</td><td>1</td><td>0</td><td>ARPADH</td><td>Horváth Árpád</td><td>árpád.horváth@mail.hu</td><td>7349 Szászvár Dózsa György u. 1.</td><td>1990-05-18</td><td>Horváth Árpád</td><td>NULL</td></tr>",
                            "<tr><td>1056</td><td>ARPADH</td><td>47</td><td>2016-09-16</td><td>2016-09-23</td><td>1</td><td>0</td><td>ARPADH</td><td>Horváth Árpád</td><td>árpád.horváth@mail.hu</td><td>7349 Szászvár Dózsa György u. 1.</td><td>1990-05-18</td><td>Horváth Árpád</td><td>1</td></tr>",
                            "<tr><td>1342</td><td>ARPADH</td><td>170</td><td>2016-12-04</td><td>2016-12-10</td><td>1</td><td>0</td><td>ARPADH</td><td>Horváth Árpád</td><td>árpád.horváth@mail.hu</td><td>7349 Szászvár Dózsa György u. 1.</td><td>1990-05-18</td><td>Horváth Árpád</td><td>1</td></tr>",
                            "<tr><td>1015</td><td>katalin</td><td>174</td><td>2016-07-06</td><td>2016-07-11</td><td>1</td><td>0</td><td>katalin</td><td>Horváth Katalin</td><td>katalin.horváth@mail.hu</td><td>2424 Előszállás Rákóczi út 200.</td><td>1968-01-01</td><td>Horváth Katalin</td><td>NULL</td></tr>",
                            "<tr><td>661</td><td>katalin</td><td>136</td><td>2016-05-21</td><td>2016-05-26</td><td>1</td><td>0</td><td>katalin</td><td>Horváth Katalin</td><td>katalin.horváth@mail.hu</td><td>2424 Előszállás Rákóczi út 200.</td><td>1968-01-01</td><td>Horváth Katalin</td><td>1</td></tr>",
                            "<tr><td>733</td><td>katalin</td><td>140</td><td>2016-07-28</td><td>2016-07-29</td><td>1</td><td>0</td><td>katalin</td><td>Horváth Katalin</td><td>katalin.horváth@mail.hu</td><td>2424 Előszállás Rákóczi út 200.</td><td>1968-01-01</td><td>Horváth Katalin</td><td>1</td></tr>",
                            "<tr><td>1372</td><td>katalin</td><td>106</td><td>2016-12-17</td><td>2016-12-24</td><td>1</td><td>0</td><td>katalin</td><td>Horváth Katalin</td><td>katalin.horváth@mail.hu</td><td>2424 Előszállás Rákóczi út 200.</td><td>1968-01-01</td><td>Horváth Katalin</td><td>1</td></tr>",
                            "<tr><td>897</td><td>nikolett3</td><td>165</td><td>2016-06-03</td><td>2016-06-09</td><td>1</td><td>0</td><td>nikolett3</td><td>Horváth Nikolett</td><td>nikolett3@gmail.com</td><td>1072 Budapest Arany János utca 1.</td><td>1981-09-29</td><td>Horváth Nikolett</td><td>NULL</td></tr>",
                            "<tr><td>976</td><td>nikolett3</td><td>76</td><td>2016-06-22</td><td>2016-06-24</td><td>1</td><td>0</td><td>nikolett3</td><td>Horváth Nikolett</td><td>nikolett3@gmail.com</td><td>1072 Budapest Arany János utca 1.</td><td>1981-09-29</td><td>Horváth Nikolett</td><td>1</td></tr>",
                            "<tr><td>1186</td><td>ROBERTI</td><td>58</td><td>2016-10-23</td><td>2016-10-29</td><td>1</td><td>0</td><td>ROBERTI</td><td>Iván Róbert</td><td>róbert.iván@mail.hu</td><td>2377 Örkény Petőfi Sándor utca 3.</td><td>1967-07-02</td><td>Iván Róbert</td><td>NULL</td></tr>",
                            "<tr><td>867</td><td>ZSOLTJ</td><td>175</td><td>2016-05-28</td><td>2016-06-03</td><td>1</td><td>0</td><td>ZSOLTJ</td><td>Józsa Zsolt</td><td>ZSOLTJ@gmail.com</td><td>8315 Gyenesdiás Bajcsy-Zsilinszky utca 4.</td><td>1983-09-29</td><td>Józsa Zsolt</td><td>NULL</td></tr>",
                            "<tr><td>990</td><td>MIHALYJ</td><td>6</td><td>2016-06-27</td><td>2016-07-01</td><td>1</td><td>0</td><td>MIHALYJ</td><td>Juhász Mihály</td><td>mihály.juhász@mail.hu</td><td>6786 Ruzsa Rákóczi utca 1.</td><td>1979-10-12</td><td>Juhász Mihály</td><td>NULL</td></tr>",
                            "<tr><td>839</td><td>MIHALYJ</td><td>172</td><td>2016-08-29</td><td>2016-09-03</td><td>1</td><td>0</td><td>MIHALYJ</td><td>Juhász Mihály</td><td>mihály.juhász@mail.hu</td><td>6786 Ruzsa Rákóczi utca 1.</td><td>1979-10-12</td><td>Juhász Mihály</td><td>1</td></tr>",
                            "<tr><td>620</td><td>marton</td><td>1</td><td>2016-05-05</td><td>2016-05-10</td><td>1</td><td>0</td><td>marton</td><td>Kalacsi Márton</td><td>marton@gmail.com</td><td>5137 Jászkisér Fő út 169.</td><td>1989-06-24</td><td>Kalacsi Márton</td><td>NULL</td></tr>",
                            "<tr><td>1312</td><td>RENATAK</td><td>94</td><td>2016-11-23</td><td>2016-11-26</td><td>1</td><td>0</td><td>RENATAK</td><td>Kardos Renáta</td><td>renáta.kardos@mail.hu</td><td>7086 Ozora Bécsi utca 82.</td><td>1988-05-17</td><td>Kardos Renáta</td><td>NULL</td></tr>",
                            "<tr><td>1224</td><td>RENATAK</td><td>50</td><td>2016-10-30</td><td>2016-10-31</td><td>1</td><td>0</td><td>RENATAK</td><td>Kardos Renáta</td><td>renáta.kardos@mail.hu</td><td>7086 Ozora Bécsi utca 82.</td><td>1988-05-17</td><td>Kardos Renáta</td><td>1</td></tr>",
                            "<tr><td>1543</td><td>RENATAK</td><td>95</td><td>2017-02-16</td><td>2017-02-23</td><td>1</td><td>0</td><td>RENATAK</td><td>Kardos Renáta</td><td>renáta.kardos@mail.hu</td><td>7086 Ozora Bécsi utca 82.</td><td>1988-05-17</td><td>Kardos Renáta</td><td>1</td></tr>",
                            "<tr><td>1581</td><td>RENATAK</td><td>48</td><td>2017-03-01</td><td>2017-03-06</td><td>1</td><td>0</td><td>RENATAK</td><td>Kardos Renáta</td><td>renáta.kardos@mail.hu</td><td>7086 Ozora Bécsi utca 82.</td><td>1988-05-17</td><td>Kardos Renáta</td><td>1</td></tr>",
                            "<tr><td>881</td><td>tihamer</td><td>131</td><td>2016-05-30</td><td>2016-06-05</td><td>1</td><td>0</td><td>tihamer</td><td>Kazy Tihamér</td><td>tihamér.kazy@mail.hu</td><td>2370 Dabas Fő utca 60.</td><td>1991-07-05</td><td>Kazy Tihamér</td><td>NULL</td></tr>",
                            "<tr><td>997</td><td>katalin4</td><td>82</td><td>2016-07-01</td><td>2016-07-07</td><td>1</td><td>0</td><td>katalin4</td><td>Kertész Katalin</td><td>katalin4@gmail.com</td><td>2800 Tatabánya Búvár utca 4.</td><td>1986-04-13</td><td>Kertész Katalin</td><td>NULL</td></tr>",
                            "<tr><td>1172</td><td>mark</td><td>197</td><td>2016-10-20</td><td>2016-10-27</td><td>1</td><td>0</td><td>mark</td><td>Kispál Márk</td><td>márk.kispál@mail.hu</td><td>1086 Budapest Juhászföldi út 1.</td><td>1996-01-23</td><td>Kispál Márk</td><td>NULL</td></tr>",
                            "<tr><td>803</td><td>adam1</td><td>1</td><td>2016-08-20</td><td>2016-08-24</td><td>1</td><td>0</td><td>adam1</td><td>Kiss Ádám</td><td>ádám.kiss@mail.hu</td><td>5630 Békés Szolnoki út 8.</td><td>1991-12-28</td><td>Kiss Ádám</td><td>NULL</td></tr>",
                            "<tr><td>1523</td><td>lajos</td><td>11</td><td>2017-02-12</td><td>2017-02-13</td><td>1</td><td>0</td><td>lajos</td><td>Kiss Lajos</td><td>lajos.kiss@mail.hu</td><td>1077 Budapest Dob utca 1</td><td>1978-10-31</td><td>Kiss Lajos</td><td>NULL</td></tr>",
                            "<tr><td>799</td><td>andras41</td><td>175</td><td>2016-08-19</td><td>2016-08-23</td><td>1</td><td>0</td><td>andras41</td><td>Komjáti András</td><td>andras41@gmail.com</td><td>5065 Nagykörű Kossuth út 24.</td><td>1997-10-25</td><td>Komjáti András</td><td>NULL</td></tr>",
                            "<tr><td>1308</td><td>andras41</td><td>182</td><td>2016-11-23</td><td>2016-11-24</td><td>1</td><td>0</td><td>andras41</td><td>Komjáti András</td><td>andras41@gmail.com</td><td>5065 Nagykörű Kossuth út 24.</td><td>1997-10-25</td><td>Komjáti András</td><td>1</td></tr>",
                            "<tr><td>1074</td><td>andras41</td><td>195</td><td>2016-09-22</td><td>2016-09-29</td><td>1</td><td>0</td><td>andras41</td><td>Komjáti András</td><td>andras41@gmail.com</td><td>5065 Nagykörű Kossuth út 24.</td><td>1997-10-25</td><td>Komjáti András</td><td>1</td></tr>",
                            "<tr><td>945</td><td>GYONGYIK</td><td>23</td><td>2016-06-10</td><td>2016-06-17</td><td>1</td><td>0</td><td>GYONGYIK</td><td>Kornseé Gyöngyi</td><td>gyöngyi.kornseé@mail.hu</td><td>8800 Nagykanizsa Fő út 60.</td><td>1974-06-07</td><td>Kornseé Gyöngyi</td><td>NULL</td></tr>",
                            "<tr><td>1367</td><td>bernadett2</td><td>80</td><td>2016-12-17</td><td>2016-12-20</td><td>1</td><td>0</td><td>bernadett2</td><td>Kovács Bernadett</td><td>bernadett.kovács@mail.hu</td><td>4200 Hajdúszoboszló Fő út 122.</td><td>1996-08-20</td><td>Kovács Bernadett</td><td>NULL</td></tr>",
                            "<tr><td>954</td><td>katka</td><td>84</td><td>2016-06-13</td><td>2016-06-18</td><td>1</td><td>0</td><td>katka</td><td>Kovács Katalin</td><td>katalin.kovács@mail.hu</td><td>8254 Kővágóörs Petőfi utca 22.</td><td>1975-03-31</td><td>Kovács Katalin</td><td>NULL</td></tr>",
                            "<tr><td>1026</td><td>gabor1</td><td>119</td><td>2016-07-12</td><td>2016-07-15</td><td>1</td><td>0</td><td>gabor1</td><td>Köves Gábor</td><td>gabor1@gmail.com</td><td>6762 Sándorfalva Árpád utca 23.</td><td>1973-07-15</td><td>Köves Gábor</td><td>NULL</td></tr>",
                            "<tr><td>1169</td><td>gabor1</td><td>93</td><td>2016-10-20</td><td>2016-10-24</td><td>1</td><td>0</td><td>gabor1</td><td>Köves Gábor</td><td>gabor1@gmail.com</td><td>6762 Sándorfalva Árpád utca 23.</td><td>1973-07-15</td><td>Köves Gábor</td><td>1</td></tr>",
                            "<tr><td>1250</td><td>emese</td><td>107</td><td>2016-11-05</td><td>2016-11-09</td><td>1</td><td>0</td><td>emese</td><td>Kuruc Emese</td><td>emese.kuruc@mail.hu</td><td>6700 Szeged Rákóczi utca 67.</td><td>1989-08-10</td><td>Kuruc Emese</td><td>NULL</td></tr>",
                            "<tr><td>857</td><td>agnes</td><td>165</td><td>2016-05-25</td><td>2016-05-30</td><td>1</td><td>0</td><td>agnes</td><td>Lengyel Ágnes</td><td>agnes@gmail.com</td><td>5200 Törökszentmiklós Deák Ferenc út 5.</td><td>1979-12-10</td><td>Lengyel Ágnes</td><td>NULL</td></tr>",
                            "<tr><td>955</td><td>andi</td><td>47</td><td>2016-06-13</td><td>2016-06-14</td><td>1</td><td>0</td><td>andi</td><td>Maródi Andrea</td><td>andrea.maródi@mail.hu</td><td>5465 Cserkeszőlő Árpád utca 4.</td><td>1968-05-07</td><td>Maródi Andrea</td><td>NULL</td></tr>",
                            "<tr><td>1541</td><td>norbert4</td><td>155</td><td>2017-02-16</td><td>2017-02-17</td><td>1</td><td>0</td><td>norbert4</td><td>Mile Norbert</td><td>norbert4@gmail.com</td><td>3973 Cigánd Bajcsy-Zsilinszky utca 4.</td><td>1983-06-15</td><td>Mile Norbert</td><td>NULL</td></tr>",
                            "<tr><td>1443</td><td>KRISZTIANM</td><td>81</td><td>2017-01-16</td><td>2017-01-23</td><td>1</td><td>0</td><td>KRISZTIANM</td><td>Mogyródi Krisztián</td><td>KRISZTIANM@gmail.com</td><td>9155 Lébény Jászai tér 21.</td><td>1968-05-27</td><td>Mogyródi Krisztián</td><td>NULL</td></tr>",
                            "<tr><td>1450</td><td>MONIKAM</td><td>139</td><td>2017-01-17</td><td>2017-01-24</td><td>1</td><td>0</td><td>MONIKAM</td><td>Mohos Mónika</td><td>mónika.mohos@mail.hu</td><td>2241 Sülysáp Baracsi László utca 14.</td><td>1974-10-01</td><td>Mohos Mónika</td><td>NULL</td></tr>",
                            "<tr><td>708</td><td>MONIKAM</td><td>106</td><td>2016-07-23</td><td>2016-07-30</td><td>1</td><td>0</td><td>MONIKAM</td><td>Mohos Mónika</td><td>mónika.mohos@mail.hu</td><td>2241 Sülysáp Baracsi László utca 14.</td><td>1974-10-01</td><td>Mohos Mónika</td><td>1</td></tr>",
                            "<tr><td>697</td><td>andras21</td><td>12</td><td>2016-07-20</td><td>2016-07-22</td><td>1</td><td>0</td><td>andras21</td><td>Molnár András</td><td>andrás.molnár@mail.hu</td><td>7900 Szigetvár Rákóczi utca 67.</td><td>1977-11-16</td><td>Molnár András</td><td>NULL</td></tr>",
                            "<tr><td>948</td><td>balint1</td><td>19</td><td>2016-06-10</td><td>2016-06-12</td><td>1</td><td>0</td><td>balint1</td><td>Molnár Bálint</td><td>balint1@gmail.com</td><td>9181 Kimle Fő út 169.</td><td>1989-08-24</td><td>Molnár Bálint</td><td>NULL</td></tr>",
                            "<tr><td>1057</td><td>balint1</td><td>86</td><td>2016-09-16</td><td>2016-09-21</td><td>1</td><td>0</td><td>balint1</td><td>Molnár Bálint</td><td>balint1@gmail.com</td><td>9181 Kimle Fő út 169.</td><td>1989-08-24</td><td>Molnár Bálint</td><td>1</td></tr>",
                            "<tr><td>1420</td><td>ARPADM</td><td>198</td><td>2017-01-05</td><td>2017-01-10</td><td>1</td><td>0</td><td>ARPADM</td><td>Móricz Árpád</td><td>árpád.móricz@mail.hu</td><td>3910 Tokaj Rákóczi utca 67.</td><td>1986-04-20</td><td>Móricz Árpád</td><td>NULL</td></tr>",
                            "<tr><td>818</td><td>henrik3</td><td>8</td><td>2016-08-24</td><td>2016-08-28</td><td>1</td><td>0</td><td>henrik3</td><td>Nádudvari Henrik</td><td>henrik.nádudvari@mail.hu</td><td>1077 Budapest Tanácsköztársaság tér 1.</td><td>1986-12-05</td><td>Nádudvari Henrik</td><td>NULL</td></tr>",
                            "<tr><td>1258</td><td>julia4</td><td>52</td><td>2016-11-07</td><td>2016-11-12</td><td>1</td><td>0</td><td>julia4</td><td>Nagy Júlia</td><td>julia4@gmail.com</td><td>7000 Sárbogárd Jászai tér 21.</td><td>1985-08-11</td><td>Nagy Júlia</td><td>NULL</td></tr>",
                            "<tr><td>892</td><td>LASZLON</td><td>165</td><td>2016-06-03</td><td>2016-06-06</td><td>1</td><td>0</td><td>LASZLON</td><td>Nagy László</td><td>lászló.nagy@mail.hu</td><td>1173 Budapest Jászai tér 21.</td><td>1969-04-12</td><td>Nagy László</td><td>NULL</td></tr>",
                            "<tr><td>1329</td><td>LASZLON</td><td>171</td><td>2016-11-29</td><td>2016-12-04</td><td>1</td><td>0</td><td>LASZLON</td><td>Nagy László</td><td>lászló.nagy@mail.hu</td><td>1173 Budapest Jászai tér 21.</td><td>1969-04-12</td><td>Nagy László</td><td>1</td></tr>",
                            "<tr><td>1136</td><td>LASZLON</td><td>30</td><td>2016-10-09</td><td>2016-10-14</td><td>1</td><td>0</td><td>LASZLON</td><td>Nagy László</td><td>lászló.nagy@mail.hu</td><td>1173 Budapest Jászai tér 21.</td><td>1969-04-12</td><td>Nagy László</td><td>1</td></tr>",
                            "<tr><td>1339</td><td>sandor4</td><td>120</td><td>2016-12-03</td><td>2016-12-09</td><td>1</td><td>0</td><td>sandor4</td><td>Nagy Sándor</td><td>sandor4@gmail.com</td><td>4600 Kisvárda Fő utca 47.</td><td>1997-06-11</td><td>Nagy Sándor</td><td>NULL</td></tr>",
                            "<tr><td>1156</td><td>sandor4</td><td>140</td><td>2016-10-15</td><td>2016-10-18</td><td>1</td><td>0</td><td>sandor4</td><td>Nagy Sándor</td><td>sandor4@gmail.com</td><td>4600 Kisvárda Fő utca 47.</td><td>1997-06-11</td><td>Nagy Sándor</td><td>1</td></tr>",
                            "<tr><td>860</td><td>andrea4</td><td>70</td><td>2016-05-27</td><td>2016-05-29</td><td>1</td><td>0</td><td>andrea4</td><td>Neizer Andrea</td><td>andrea4@gmail.com</td><td>1124 Budapest Kiss u. 8.</td><td>1981-05-17</td><td>Neizer Andrea</td><td>NULL</td></tr>",
                            "<tr><td>1213</td><td>GYORGYO</td><td>91</td><td>2016-10-28</td><td>2016-10-31</td><td>1</td><td>0</td><td>GYORGYO</td><td>Oroszi György</td><td>GYORGYO@gmail.com</td><td>7220 Sarkad Dózsa György u. 1.</td><td>1980-03-23</td><td>Oroszi György</td><td>NULL</td></tr>",
                            "<tr><td>1374</td><td>robert2</td><td>118</td><td>2016-12-17</td><td>2016-12-22</td><td>1</td><td>0</td><td>robert2</td><td>Patay Róbert</td><td>robert2@gmail.com</td><td>2370 Dabas Rákóczi utca 21.</td><td>1977-01-08</td><td>Patay Róbert</td><td>NULL</td></tr>",
                            "<tr><td>845</td><td>eva2</td><td>63</td><td>2016-09-02</td><td>2016-09-03</td><td>1</td><td>0</td><td>eva2</td><td>Perlinger Éva</td><td>eva2@gmail.com</td><td>9653 Répcelak Bécsi utca 82.</td><td>1971-08-19</td><td>Perlinger Éva</td><td>NULL</td></tr>",
                            "<tr><td>567</td><td>anett3</td><td>170</td><td>2016-04-10</td><td>2016-04-17</td><td>1</td><td>0</td><td>anett3</td><td>Pivarcsi Anett</td><td>anett.pivarcsi@mail.hu</td><td>1149 Budapest Fő út 60.</td><td>1967-01-03</td><td>Pivarcsi Anett</td><td>NULL</td></tr>",
                            "<tr><td>1159</td><td>anett3</td><td>73</td><td>2016-10-16</td><td>2016-10-21</td><td>1</td><td>0</td><td>anett3</td><td>Pivarcsi Anett</td><td>anett.pivarcsi@mail.hu</td><td>1149 Budapest Fő út 60.</td><td>1967-01-03</td><td>Pivarcsi Anett</td><td>1</td></tr>",
                            "<tr><td>1430</td><td>daniel</td><td>12</td><td>2017-01-09</td><td>2017-01-11</td><td>1</td><td>0</td><td>daniel</td><td>Rácz Dániel</td><td>dániel.rácz@mail.hu</td><td>9181 Kimle Szabadság tér 9.</td><td>1978-11-28</td><td>Rácz Dániel</td><td>NULL</td></tr>",
                            "<tr><td>684</td><td>ANNAMARIAR</td><td>184</td><td>2016-07-18</td><td>2016-07-21</td><td>1</td><td>0</td><td>ANNAMARIAR</td><td>Regős Annamária</td><td>ANNAMARIAR@gmail.com</td><td>8283 Káptalantóti Petőfi Sándor tér 1.</td><td>1977-09-26</td><td>Regős Annamária</td><td>NULL</td></tr>",
                            "<tr><td>965</td><td>ANIKOS</td><td>5</td><td>2016-06-16</td><td>2016-06-23</td><td>1</td><td>0</td><td>ANIKOS</td><td>Simon Anikó</td><td>ANIKOS@gmail.com</td><td>5137 Jászkisér Bécsi utca 82.</td><td>1988-12-14</td><td>Simon Anikó</td><td>NULL</td></tr>",
                            "<tr><td>1568</td><td>bernadett1</td><td>29</td><td>2017-02-24</td><td>2017-03-03</td><td>1</td><td>0</td><td>bernadett1</td><td>Simon Bernadett</td><td>bernadett1@gmail.com</td><td>2300 Ráckeve Fő utca 108.</td><td>1984-10-13</td><td>Simon Bernadett</td><td>NULL</td></tr>",
                            "<tr><td>1434</td><td>peter3</td><td>3</td><td>2017-01-12</td><td>2017-01-17</td><td>1</td><td>0</td><td>peter3</td><td>Szalai Péter</td><td>peter3@gmail.com</td><td>1155 Budapest Arany János utca 3.</td><td>1983-07-18</td><td>Szalai Péter</td><td>NULL</td></tr>",
                            "<tr><td>1396</td><td>peter3</td><td>72</td><td>2016-12-25</td><td>2016-12-28</td><td>1</td><td>0</td><td>peter3</td><td>Szalai Péter</td><td>peter3@gmail.com</td><td>1155 Budapest Arany János utca 3.</td><td>1983-07-18</td><td>Szalai Péter</td><td>1</td></tr>",
                            "<tr><td>1508</td><td>SZILARDS</td><td>191</td><td>2017-02-08</td><td>2017-02-15</td><td>1</td><td>0</td><td>SZILARDS</td><td>Szalai Szilárd</td><td>szilárd.szalai@mail.hu</td><td>1077 Budapest Fő út 18.</td><td>1967-09-28</td><td>Szalai Szilárd</td><td>NULL</td></tr>",
                            "<tr><td>1306</td><td>krisztina</td><td>133</td><td>2016-11-22</td><td>2016-11-25</td><td>1</td><td>0</td><td>krisztina</td><td>Szedlár Krisztina</td><td>krisztina@gmail.com</td><td>6646 Tömörkény Arany János utca 1.</td><td>1979-05-10</td><td>Szedlár Krisztina</td><td>NULL</td></tr>",
                            "<tr><td>1048</td><td>krisztina</td><td>95</td><td>2016-09-13</td><td>2016-09-16</td><td>1</td><td>0</td><td>krisztina</td><td>Szedlár Krisztina</td><td>krisztina@gmail.com</td><td>6646 Tömörkény Arany János utca 1.</td><td>1979-05-10</td><td>Szedlár Krisztina</td><td>1</td></tr>",
                            "<tr><td>1469</td><td>brigitta</td><td>13</td><td>2017-01-23</td><td>2017-01-25</td><td>1</td><td>0</td><td>brigitta</td><td>Székely Brigitta</td><td>brigitta.székely@mail.hu</td><td>2462 Martonvásár Fő utca 47.</td><td>1978-09-13</td><td>Székely Brigitta</td><td>NULL</td></tr>",
                            "<tr><td>586</td><td>BEATRIXS</td><td>107</td><td>2016-04-18</td><td>2016-04-24</td><td>1</td><td>0</td><td>BEATRIXS</td><td>Szekendi Beatrix</td><td>beatrix.szekendi@mail.hu</td><td>4060 Balmazújváros Jászai tér 21.</td><td>1981-04-06</td><td>Szekendi Beatrix</td><td>NULL</td></tr>",
                            "<tr><td>891</td><td>MATYASS</td><td>63</td><td>2016-06-02</td><td>2016-06-08</td><td>1</td><td>0</td><td>MATYASS</td><td>Szilágyi Mátyás</td><td>mátyás.szilágyi@mail.hu</td><td>9023 Győr Kossuth Lajos utca 6.</td><td>1975-03-22</td><td>Szilágyi Mátyás</td><td>NULL</td></tr>",
                            "<tr><td>1190</td><td>MATYASS</td><td>161</td><td>2016-10-24</td><td>2016-10-31</td><td>1</td><td>0</td><td>MATYASS</td><td>Szilágyi Mátyás</td><td>mátyás.szilágyi@mail.hu</td><td>9023 Győr Kossuth Lajos utca 6.</td><td>1975-03-22</td><td>Szilágyi Mátyás</td><td>1</td></tr>",
                            "<tr><td>1529</td><td>RENATAS</td><td>35</td><td>2017-02-13</td><td>2017-02-17</td><td>1</td><td>0</td><td>RENATAS</td><td>Szirmai Renáta</td><td>RENATAS@gmail.com</td><td>2053 Herceghalom Kossuth utca 27.</td><td>1991-03-26</td><td>Szirmai Renáta</td><td>NULL</td></tr>",
                            "<tr><td>1578</td><td>balazs2</td><td>148</td><td>2017-02-27</td><td>2017-03-06</td><td>1</td><td>0</td><td>balazs2</td><td>Szűcs Balázs</td><td>balázs.szűcs@mail.hu</td><td>3170 Szécsény Szabadság utca 95.</td><td>1984-10-31</td><td>Szűcs Balázs</td><td>NULL</td></tr>",
                            "<tr><td>1018</td><td>norbert</td><td>40</td><td>2016-07-08</td><td>2016-07-13</td><td>1</td><td>0</td><td>norbert</td><td>Szűcs Norbert</td><td>norbert@gmail.com</td><td>5071 Besenyszög Győri utca 12.</td><td>1969-07-17</td><td>Szűcs Norbert</td><td>NULL</td></tr>",
                            "<tr><td>1576</td><td>norbert</td><td>189</td><td>2017-02-26</td><td>2017-03-01</td><td>1</td><td>0</td><td>norbert</td><td>Szűcs Norbert</td><td>norbert@gmail.com</td><td>5071 Besenyszög Győri utca 12.</td><td>1969-07-17</td><td>Szűcs Norbert</td><td>1</td></tr>",
                            "<tr><td>790</td><td>veronika4</td><td>10</td><td>2016-08-16</td><td>2016-08-21</td><td>1</td><td>0</td><td>veronika4</td><td>Tankó Veronika</td><td>veronika4@gmail.com</td><td>6412 Balotaszállás Rendeki utca 21.</td><td>1983-08-28</td><td>Tankó Veronika</td><td>NULL</td></tr>",
                            "<tr><td>878</td><td>gabor4</td><td>83</td><td>2016-05-30</td><td>2016-06-05</td><td>1</td><td>0</td><td>gabor4</td><td>Telek Gábor</td><td>gábor.telek@mail.hu</td><td>9071 Görbeháza Fő út 169.</td><td>1987-03-15</td><td>Telek Gábor</td><td>NULL</td></tr>",
                            "<tr><td>884</td><td>andras2</td><td>98</td><td>2016-05-30</td><td>2016-06-04</td><td>1</td><td>0</td><td>andras2</td><td>Tóth András</td><td>andrás.tóth@mail.hu</td><td>4071 Egyek Petőfi utca 30.</td><td>1997-10-31</td><td>Tóth András</td><td>NULL</td></tr>",
                            "<tr><td>638</td><td>julia</td><td>67</td><td>2016-05-12</td><td>2016-05-17</td><td>1</td><td>0</td><td>julia</td><td>Tóth Júlia</td><td>julia@gmail.com</td><td>5310 Kisújszállás Árpád utca 4.</td><td>1993-03-02</td><td>Tóth Júlia</td><td>NULL</td></tr>",
                            "<tr><td>669</td><td>tunde</td><td>173</td><td>2016-07-14</td><td>2016-07-21</td><td>1</td><td>0</td><td>tunde</td><td>Turcsik Tünde</td><td>tunde@gmail.com</td><td>7130 Tolna Fő út 122.</td><td>1974-02-12</td><td>Turcsik Tünde</td><td>NULL</td></tr>",
                            "<tr><td>610</td><td>VIKTORIAU</td><td>106</td><td>2016-04-30</td><td>2016-05-03</td><td>1</td><td>0</td><td>VIKTORIAU</td><td>Urbán Viktoria</td><td>viktoria.urbán@mail.hu</td><td>3860 Encs Népboltsor  2.</td><td>1996-05-03</td><td>Urbán Viktoria</td><td>NULL</td></tr>",
                            "<tr><td>1202</td><td>ZSUZSAV</td><td>52</td><td>2016-10-26</td><td>2016-10-28</td><td>1</td><td>0</td><td>ZSUZSAV</td><td>Vajda Zsuzsa</td><td>zsuzsa.vajda@mail.hu</td><td>6786 Ruzsa Kossuth utca 77.</td><td>1976-12-11</td><td>Vajda Zsuzsa</td><td>NULL</td></tr>",
                            "<tr><td>880</td><td>andras3</td><td>184</td><td>2016-05-30</td><td>2016-06-03</td><td>1</td><td>0</td><td>andras3</td><td>Vígh András</td><td>andrás.vígh@mail.hu</td><td>1118 Budapest Arany János utca 1.</td><td>1971-04-02</td><td>Vígh András</td><td>NULL</td></tr>",
                            "<tr><td>949</td><td>andras3</td><td>1</td><td>2016-06-10</td><td>2016-06-11</td><td>1</td><td>0</td><td>andras3</td><td>Vígh András</td><td>andrás.vígh@mail.hu</td><td>1118 Budapest Arany János utca 1.</td><td>1971-04-02</td><td>Vígh András</td><td>1</td></tr>",
                            "<tr><td>689</td><td>istvan1</td><td>102</td><td>2016-07-19</td><td>2016-07-24</td><td>1</td><td>0</td><td>istvan1</td><td>Vizi István</td><td>istván.vizi@mail.hu</td><td>7086 Ozora Rákóczi utca 1.</td><td>1997-12-01</td><td>Vizi István</td><td>NULL</td></tr>",
                            "<tr><td>1466</td><td>dani</td><td>57</td><td>2017-01-22</td><td>2017-01-29</td><td>1</td><td>0</td><td>dani</td><td>Vörös Dániel</td><td>daniel@gmail.com</td><td>7150 Bonyhád Dózsa György u. 1.</td><td>1986-10-14</td><td>Vörös Dániel</td><td>NULL</td></tr>",
                            "<tr><td>1102</td><td>dani</td><td>108</td><td>2016-10-01</td><td>2016-10-02</td><td>1</td><td>0</td><td>dani</td><td>Vörös Dániel</td><td>daniel@gmail.com</td><td>7150 Bonyhád Dózsa György u. 1.</td><td>1986-10-14</td><td>Vörös Dániel</td><td>1</td></tr>",
                            "<tr><td>702</td><td>balint2</td><td>62</td><td>2016-07-21</td><td>2016-07-26</td><td>1</td><td>0</td><td>balint2</td><td>Vukasinovity Bálint</td><td>balint2@gmail.com</td><td>2330 Dunaharaszti Béke utca 7.</td><td>1997-09-03</td><td>Vukasinovity Bálint</td><td>NULL</td></tr>",
                            "</table>"
                        ]
                    }
                }
            ],
            "execution_count": 23
        },
        {
            "cell_type": "code",
            "source": [
                "SELECT AVG(f2.FELNOTT_SZAM+f2.GYERMEK_SZAM)\r\n",
                "FROM Foglalas f2"
            ],
            "metadata": {
                "azdata_cell_guid": "61a903de-4ee8-4a18-9f97-c56feacece22",
                "language": "sql"
            },
            "outputs": [
                {
                    "output_type": "display_data",
                    "data": {
                        "text/html": "(1 row affected)"
                    },
                    "metadata": {}
                },
                {
                    "output_type": "display_data",
                    "data": {
                        "text/html": "Total execution time: 00:00:00.004"
                    },
                    "metadata": {}
                },
                {
                    "output_type": "execute_result",
                    "metadata": {},
                    "execution_count": 17,
                    "data": {
                        "application/vnd.dataresource+json": {
                            "schema": {
                                "fields": [
                                    {
                                        "name": "(No column name)"
                                    }
                                ]
                            },
                            "data": [
                                {
                                    "(No column name)": "2"
                                }
                            ]
                        },
                        "text/html": [
                            "<table>",
                            "<tr><th>(No column name)</th></tr>",
                            "<tr><td>2</td></tr>",
                            "</table>"
                        ]
                    }
                }
            ],
            "execution_count": 17
        }
    ]
}