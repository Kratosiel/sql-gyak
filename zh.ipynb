{
    "metadata": {
        "kernelspec": {
            "name": "SQL",
            "display_name": "SQL",
            "language": "sql"
        },
        "language_info": {
            "name": "sql",
            "version": ""
        }
    },
    "nbformat_minor": 2,
    "nbformat": 4,
    "cells": [
        {
            "cell_type": "code",
            "source": [
                "SELECT v.NEV, s.SZALLAS_NEV, s.CIM\r\n",
                "FROM Foglalas f JOIN Vendeg v ON v.USERNEV = f.UGYFEL_FK\r\n",
                "                JOIN Szoba szoba ON f.SZOBA_FK = szoba.SZOBA_ID\r\n",
                "                JOIN Szallashely s ON s.SZALLAS_ID = szoba.SZALLAS_FK\r\n",
                "WHERE MONTH(s.ROGZ_IDO)=3\r\n",
                "ORDER BY s.CSILLAGOK_SZAMA DESC\r\n",
                "\r\n",
                "--githubon is fent van--"
            ],
            "metadata": {
                "azdata_cell_guid": "5ae7b72f-b965-41b3-8e2c-8aebbe233536",
                "language": "sql"
            },
            "outputs": [
                {
                    "output_type": "display_data",
                    "data": {
                        "text/html": "(957 rows affected)"
                    },
                    "metadata": {}
                },
                {
                    "output_type": "display_data",
                    "data": {
                        "text/html": "Total execution time: 00:00:00.012"
                    },
                    "metadata": {}
                },
                {
                    "output_type": "execute_result",
                    "metadata": {},
                    "execution_count": 3,
                    "data": {
                        "application/vnd.dataresource+json": {
                            "schema": {
                                "fields": [
                                    {
                                        "name": "NEV"
                                    },
                                    {
                                        "name": "SZALLAS_NEV"
                                    },
                                    {
                                        "name": "CIM"
                                    }
                                ]
                            },
                            "data": [
                                {
                                    "NEV": "Poprádi Kristóf",
                                    "SZALLAS_NEV": "Lagúna Hotel",
                                    "CIM": "1097 Budapest, Albert Flórián út 3"
                                },
                                {
                                    "NEV": "Rácz Dániel",
                                    "SZALLAS_NEV": "Lagúna Hotel",
                                    "CIM": "1097 Budapest, Albert Flórián út 3"
                                },
                                {
                                    "NEV": "Jakab Áron",
                                    "SZALLAS_NEV": "Hotel Három Hattyú",
                                    "CIM": "8623 Balatonföldvár, Rákóczi Ferenc út 45."
                                },
                                {
                                    "NEV": "Bíró Péter",
                                    "SZALLAS_NEV": "Lagúna Hotel",
                                    "CIM": "1097 Budapest, Albert Flórián út 3"
                                },
                                {
                                    "NEV": "Vajda Zsuzsa",
                                    "SZALLAS_NEV": "Lagúna Hotel",
                                    "CIM": "1097 Budapest, Albert Flórián út 3"
                                },
                                {
                                    "NEV": "Pivarcsi Anett",
                                    "SZALLAS_NEV": "Lagúna Hotel",
                                    "CIM": "1097 Budapest, Albert Flórián út 3"
                                },
                                {
                                    "NEV": "Szűcs Balázs",
                                    "SZALLAS_NEV": "Lagúna Hotel",
                                    "CIM": "1097 Budapest, Albert Flórián út 3"
                                },
                                {
                                    "NEV": "Orbán Bernadett",
                                    "SZALLAS_NEV": "Lagúna Hotel",
                                    "CIM": "1097 Budapest, Albert Flórián út 3"
                                },
                                {
                                    "NEV": "Szekendi Beatrix",
                                    "SZALLAS_NEV": "Hotel Három Hattyú",
                                    "CIM": "8623 Balatonföldvár, Rákóczi Ferenc út 45."
                                },
                                {
                                    "NEV": "Hegedűs Norbert",
                                    "SZALLAS_NEV": "Hotel Három Hattyú",
                                    "CIM": "8623 Balatonföldvár, Rákóczi Ferenc út 45."
                                },
                                {
                                    "NEV": "Kispál Márk",
                                    "SZALLAS_NEV": "Lagúna Hotel",
                                    "CIM": "1097 Budapest, Albert Flórián út 3"
                                },
                                {
                                    "NEV": "Bagi Beáta",
                                    "SZALLAS_NEV": "Lagúna Hotel",
                                    "CIM": "1097 Budapest, Albert Flórián út 3"
                                },
                                {
                                    "NEV": "Rácz Dániel",
                                    "SZALLAS_NEV": "Lagúna Hotel",
                                    "CIM": "1097 Budapest, Albert Flórián út 3"
                                },
                                {
                                    "NEV": "Szalai Szilárd",
                                    "SZALLAS_NEV": "Hotel Három Hattyú",
                                    "CIM": "8623 Balatonföldvár, Rákóczi Ferenc út 45."
                                },
                                {
                                    "NEV": "Gyárfás Krisztina",
                                    "SZALLAS_NEV": "Hotel Három Hattyú",
                                    "CIM": "8623 Balatonföldvár, Rákóczi Ferenc út 45."
                                },
                                {
                                    "NEV": "Kalacsi Márton",
                                    "SZALLAS_NEV": "Hotel Három Hattyú",
                                    "CIM": "8623 Balatonföldvár, Rákóczi Ferenc út 45."
                                },
                                {
                                    "NEV": "Pivarcsi Anett",
                                    "SZALLAS_NEV": "Hotel Három Hattyú",
                                    "CIM": "8623 Balatonföldvár, Rákóczi Ferenc út 45."
                                },
                                {
                                    "NEV": "Urbán Viktoria",
                                    "SZALLAS_NEV": "Hotel Három Hattyú",
                                    "CIM": "8623 Balatonföldvár, Rákóczi Ferenc út 45."
                                },
                                {
                                    "NEV": "Kovács Bernadett",
                                    "SZALLAS_NEV": "Hotel Három Hattyú",
                                    "CIM": "8623 Balatonföldvár, Rákóczi Ferenc út 45."
                                },
                                {
                                    "NEV": "Gyuris József",
                                    "SZALLAS_NEV": "Hotel Három Hattyú",
                                    "CIM": "8623 Balatonföldvár, Rákóczi Ferenc út 45."
                                },
                                {
                                    "NEV": "Boros Vivien",
                                    "SZALLAS_NEV": "Hotel Három Hattyú",
                                    "CIM": "8623 Balatonföldvár, Rákóczi Ferenc út 45."
                                },
                                {
                                    "NEV": "Fényes Tamás",
                                    "SZALLAS_NEV": "Hotel Három Hattyú",
                                    "CIM": "8623 Balatonföldvár, Rákóczi Ferenc út 45."
                                },
                                {
                                    "NEV": "Viktor Éva",
                                    "SZALLAS_NEV": "Hotel Három Hattyú",
                                    "CIM": "8623 Balatonföldvár, Rákóczi Ferenc út 45."
                                },
                                {
                                    "NEV": "Bárci Gusztáv",
                                    "SZALLAS_NEV": "Hotel Három Hattyú",
                                    "CIM": "8623 Balatonföldvár, Rákóczi Ferenc út 45."
                                },
                                {
                                    "NEV": "Nagymihály Csongor",
                                    "SZALLAS_NEV": "Hotel Három Hattyú",
                                    "CIM": "8623 Balatonföldvár, Rákóczi Ferenc út 45."
                                },
                                {
                                    "NEV": "Giliga János",
                                    "SZALLAS_NEV": "Hotel Három Hattyú",
                                    "CIM": "8623 Balatonföldvár, Rákóczi Ferenc út 45."
                                },
                                {
                                    "NEV": "Hegedűs Norbert",
                                    "SZALLAS_NEV": "Hotel Három Hattyú",
                                    "CIM": "8623 Balatonföldvár, Rákóczi Ferenc út 45."
                                },
                                {
                                    "NEV": "Keszler Dániel",
                                    "SZALLAS_NEV": "Hotel Három Hattyú",
                                    "CIM": "8623 Balatonföldvár, Rákóczi Ferenc út 45."
                                },
                                {
                                    "NEV": "Szilágyi Mátyás",
                                    "SZALLAS_NEV": "Hotel Három Hattyú",
                                    "CIM": "8623 Balatonföldvár, Rákóczi Ferenc út 45."
                                },
                                {
                                    "NEV": "Szirmai Renáta",
                                    "SZALLAS_NEV": "Hotel Három Hattyú",
                                    "CIM": "8623 Balatonföldvár, Rákóczi Ferenc út 45."
                                },
                                {
                                    "NEV": "Komjáti András",
                                    "SZALLAS_NEV": "Hotel Három Hattyú",
                                    "CIM": "8623 Balatonföldvár, Rákóczi Ferenc út 45."
                                },
                                {
                                    "NEV": "Barna Zoltán",
                                    "SZALLAS_NEV": "Lagúna Hotel",
                                    "CIM": "1097 Budapest, Albert Flórián út 3"
                                },
                                {
                                    "NEV": "Bori Krisztina",
                                    "SZALLAS_NEV": "Lagúna Hotel",
                                    "CIM": "1097 Budapest, Albert Flórián út 3"
                                },
                                {
                                    "NEV": "Antal Tamás",
                                    "SZALLAS_NEV": "Lagúna Hotel",
                                    "CIM": "1097 Budapest, Albert Flórián út 3"
                                },
                                {
                                    "NEV": "Baráth Mária",
                                    "SZALLAS_NEV": "Lagúna Hotel",
                                    "CIM": "1097 Budapest, Albert Flórián út 3"
                                },
                                {
                                    "NEV": "Csiger Bertalan",
                                    "SZALLAS_NEV": "Hotel Három Hattyú",
                                    "CIM": "8623 Balatonföldvár, Rákóczi Ferenc út 45."
                                },
                                {
                                    "NEV": "Horváth Krisztina",
                                    "SZALLAS_NEV": "Hotel Három Hattyú",
                                    "CIM": "8623 Balatonföldvár, Rákóczi Ferenc út 45."
                                },
                                {
                                    "NEV": "Gulyás Attila",
                                    "SZALLAS_NEV": "Lagúna Hotel",
                                    "CIM": "1097 Budapest, Albert Flórián út 3"
                                },
                                {
                                    "NEV": "Botka Mátyás",
                                    "SZALLAS_NEV": "Lagúna Hotel",
                                    "CIM": "1097 Budapest, Albert Flórián út 3"
                                },
                                {
                                    "NEV": "Zatykó Katalin",
                                    "SZALLAS_NEV": "Hotel Három Hattyú",
                                    "CIM": "8623 Balatonföldvár, Rákóczi Ferenc út 45."
                                },
                                {
                                    "NEV": "Kozma Péter",
                                    "SZALLAS_NEV": "Hotel Három Hattyú",
                                    "CIM": "8623 Balatonföldvár, Rákóczi Ferenc út 45."
                                },
                                {
                                    "NEV": "Bakódy Balázs",
                                    "SZALLAS_NEV": "Lagúna Hotel",
                                    "CIM": "1097 Budapest, Albert Flórián út 3"
                                },
                                {
                                    "NEV": "Horváth Katalin",
                                    "SZALLAS_NEV": "Lagúna Hotel",
                                    "CIM": "1097 Budapest, Albert Flórián út 3"
                                },
                                {
                                    "NEV": "Józsa Zsolt",
                                    "SZALLAS_NEV": "Hotel Három Hattyú",
                                    "CIM": "8623 Balatonföldvár, Rákóczi Ferenc út 45."
                                },
                                {
                                    "NEV": "Szűcs Balázs",
                                    "SZALLAS_NEV": "Hotel Három Hattyú",
                                    "CIM": "8623 Balatonföldvár, Rákóczi Ferenc út 45."
                                },
                                {
                                    "NEV": "Szabó Julianna",
                                    "SZALLAS_NEV": "Lagúna Hotel",
                                    "CIM": "1097 Budapest, Albert Flórián út 3"
                                },
                                {
                                    "NEV": "Vizi István",
                                    "SZALLAS_NEV": "Hotel Három Hattyú",
                                    "CIM": "8623 Balatonföldvár, Rákóczi Ferenc út 45."
                                },
                                {
                                    "NEV": "Bozsik Balázs",
                                    "SZALLAS_NEV": "Lagúna Hotel",
                                    "CIM": "1097 Budapest, Albert Flórián út 3"
                                },
                                {
                                    "NEV": "Mohos Mónika",
                                    "SZALLAS_NEV": "Hotel Három Hattyú",
                                    "CIM": "8623 Balatonföldvár, Rákóczi Ferenc út 45."
                                },
                                {
                                    "NEV": "Kuruc Emese",
                                    "SZALLAS_NEV": "Hotel Három Hattyú",
                                    "CIM": "8623 Balatonföldvár, Rákóczi Ferenc út 45."
                                },
                                {
                                    "NEV": "Tari Szilvia",
                                    "SZALLAS_NEV": "Hotel Három Hattyú",
                                    "CIM": "8623 Balatonföldvár, Rákóczi Ferenc út 45."
                                },
                                {
                                    "NEV": "Nagymihály Lajos",
                                    "SZALLAS_NEV": "Hotel Három Hattyú",
                                    "CIM": "8623 Balatonföldvár, Rákóczi Ferenc út 45."
                                },
                                {
                                    "NEV": "Molnár Bálint",
                                    "SZALLAS_NEV": "Hotel Három Hattyú",
                                    "CIM": "8623 Balatonföldvár, Rákóczi Ferenc út 45."
                                },
                                {
                                    "NEV": "Szalai Szilárd",
                                    "SZALLAS_NEV": "Hotel Három Hattyú",
                                    "CIM": "8623 Balatonföldvár, Rákóczi Ferenc út 45."
                                },
                                {
                                    "NEV": "Kiss Andrea",
                                    "SZALLAS_NEV": "Hotel Három Hattyú",
                                    "CIM": "8623 Balatonföldvár, Rákóczi Ferenc út 45."
                                },
                                {
                                    "NEV": "Zatykó Katalin",
                                    "SZALLAS_NEV": "Hotel Három Hattyú",
                                    "CIM": "8623 Balatonföldvár, Rákóczi Ferenc út 45."
                                },
                                {
                                    "NEV": "Hegedűs Norbert",
                                    "SZALLAS_NEV": "Lagúna Hotel",
                                    "CIM": "1097 Budapest, Albert Flórián út 3"
                                },
                                {
                                    "NEV": "Szalai Péter",
                                    "SZALLAS_NEV": "Hotel Három Hattyú",
                                    "CIM": "8623 Balatonföldvár, Rákóczi Ferenc út 45."
                                },
                                {
                                    "NEV": "Bagóczki Alexandra",
                                    "SZALLAS_NEV": "Hotel Három Hattyú",
                                    "CIM": "8623 Balatonföldvár, Rákóczi Ferenc út 45."
                                },
                                {
                                    "NEV": "Köves Gábor",
                                    "SZALLAS_NEV": "Lagúna Hotel",
                                    "CIM": "1097 Budapest, Albert Flórián út 3"
                                },
                                {
                                    "NEV": "Czérna Krisztián",
                                    "SZALLAS_NEV": "Hotel Három Hattyú",
                                    "CIM": "8623 Balatonföldvár, Rákóczi Ferenc út 45."
                                },
                                {
                                    "NEV": "Horváth Katalin",
                                    "SZALLAS_NEV": "Lagúna Hotel",
                                    "CIM": "1097 Budapest, Albert Flórián út 3"
                                },
                                {
                                    "NEV": "Miklós Szabolcs",
                                    "SZALLAS_NEV": "Hotel Három Hattyú",
                                    "CIM": "8623 Balatonföldvár, Rákóczi Ferenc út 45."
                                },
                                {
                                    "NEV": "Farkas Béla",
                                    "SZALLAS_NEV": "Hotel Három Hattyú",
                                    "CIM": "8623 Balatonföldvár, Rákóczi Ferenc út 45."
                                },
                                {
                                    "NEV": "Pásztor Róbert",
                                    "SZALLAS_NEV": "Hotel Három Hattyú",
                                    "CIM": "8623 Balatonföldvár, Rákóczi Ferenc út 45."
                                },
                                {
                                    "NEV": "Foltényi Sebastián",
                                    "SZALLAS_NEV": "Hotel Három Hattyú",
                                    "CIM": "8623 Balatonföldvár, Rákóczi Ferenc út 45."
                                },
                                {
                                    "NEV": "Bajusz Bence",
                                    "SZALLAS_NEV": "Lagúna Hotel",
                                    "CIM": "1097 Budapest, Albert Flórián út 3"
                                },
                                {
                                    "NEV": "Zatykó Katalin",
                                    "SZALLAS_NEV": "Lagúna Hotel",
                                    "CIM": "1097 Budapest, Albert Flórián út 3"
                                },
                                {
                                    "NEV": "Bosnyák Ilona",
                                    "SZALLAS_NEV": "Hotel Három Hattyú",
                                    "CIM": "8623 Balatonföldvár, Rákóczi Ferenc út 45."
                                },
                                {
                                    "NEV": "Vörös Dániel",
                                    "SZALLAS_NEV": "Lagúna Hotel",
                                    "CIM": "1097 Budapest, Albert Flórián út 3"
                                },
                                {
                                    "NEV": "Dusha Tímea",
                                    "SZALLAS_NEV": "Hotel Három Hattyú",
                                    "CIM": "8623 Balatonföldvár, Rákóczi Ferenc út 45."
                                },
                                {
                                    "NEV": "Kuruc Emese",
                                    "SZALLAS_NEV": "Lagúna Hotel",
                                    "CIM": "1097 Budapest, Albert Flórián út 3"
                                },
                                {
                                    "NEV": "Kerényi Beatrix",
                                    "SZALLAS_NEV": "Lagúna Hotel",
                                    "CIM": "1097 Budapest, Albert Flórián út 3"
                                },
                                {
                                    "NEV": "Móricz Árpád",
                                    "SZALLAS_NEV": "Lagúna Hotel",
                                    "CIM": "1097 Budapest, Albert Flórián út 3"
                                },
                                {
                                    "NEV": "Barabás Pál",
                                    "SZALLAS_NEV": "Hotel Három Hattyú",
                                    "CIM": "8623 Balatonföldvár, Rákóczi Ferenc út 45."
                                },
                                {
                                    "NEV": "Pivarcsi Anett",
                                    "SZALLAS_NEV": "Hotel Három Hattyú",
                                    "CIM": "8623 Balatonföldvár, Rákóczi Ferenc út 45."
                                },
                                {
                                    "NEV": "Tömböly Dénes",
                                    "SZALLAS_NEV": "Lagúna Hotel",
                                    "CIM": "1097 Budapest, Albert Flórián út 3"
                                },
                                {
                                    "NEV": "Barna Zoltán",
                                    "SZALLAS_NEV": "Lagúna Hotel",
                                    "CIM": "1097 Budapest, Albert Flórián út 3"
                                },
                                {
                                    "NEV": "Erdei András",
                                    "SZALLAS_NEV": "Hotel Három Hattyú",
                                    "CIM": "8623 Balatonföldvár, Rákóczi Ferenc út 45."
                                },
                                {
                                    "NEV": "Giliga János",
                                    "SZALLAS_NEV": "Lagúna Hotel",
                                    "CIM": "1097 Budapest, Albert Flórián út 3"
                                },
                                {
                                    "NEV": "Komjáti András",
                                    "SZALLAS_NEV": "Lagúna Hotel",
                                    "CIM": "1097 Budapest, Albert Flórián út 3"
                                },
                                {
                                    "NEV": "Ambrus Dávid",
                                    "SZALLAS_NEV": "Hotel Három Hattyú",
                                    "CIM": "8623 Balatonföldvár, Rákóczi Ferenc út 45."
                                },
                                {
                                    "NEV": "Tömböly Dénes",
                                    "SZALLAS_NEV": "Lagúna Hotel",
                                    "CIM": "1097 Budapest, Albert Flórián út 3"
                                },
                                {
                                    "NEV": "Papp Imre",
                                    "SZALLAS_NEV": "Hotel Három Hattyú",
                                    "CIM": "8623 Balatonföldvár, Rákóczi Ferenc út 45."
                                },
                                {
                                    "NEV": "Iván Róbert",
                                    "SZALLAS_NEV": "Lagúna Hotel",
                                    "CIM": "1097 Budapest, Albert Flórián út 3"
                                },
                                {
                                    "NEV": "Kiss Andrea",
                                    "SZALLAS_NEV": "Hotel Három Hattyú",
                                    "CIM": "8623 Balatonföldvár, Rákóczi Ferenc út 45."
                                },
                                {
                                    "NEV": "Papp Imre",
                                    "SZALLAS_NEV": "Hotel Három Hattyú",
                                    "CIM": "8623 Balatonföldvár, Rákóczi Ferenc út 45."
                                },
                                {
                                    "NEV": "Kovács Bernadett",
                                    "SZALLAS_NEV": "Lagúna Hotel",
                                    "CIM": "1097 Budapest, Albert Flórián út 3"
                                },
                                {
                                    "NEV": "Bíró Péter",
                                    "SZALLAS_NEV": "Hotel Három Hattyú",
                                    "CIM": "8623 Balatonföldvár, Rákóczi Ferenc út 45."
                                },
                                {
                                    "NEV": "Simon Anikó",
                                    "SZALLAS_NEV": "Hotel Három Hattyú",
                                    "CIM": "8623 Balatonföldvár, Rákóczi Ferenc út 45."
                                },
                                {
                                    "NEV": "Sarodi Dóra",
                                    "SZALLAS_NEV": "Lagúna Hotel",
                                    "CIM": "1097 Budapest, Albert Flórián út 3"
                                },
                                {
                                    "NEV": "Pusztai Zsuzsanna",
                                    "SZALLAS_NEV": "Lagúna Hotel",
                                    "CIM": "1097 Budapest, Albert Flórián út 3"
                                },
                                {
                                    "NEV": "Czérna Krisztián",
                                    "SZALLAS_NEV": "Lagúna Hotel",
                                    "CIM": "1097 Budapest, Albert Flórián út 3"
                                },
                                {
                                    "NEV": "Papp Imre",
                                    "SZALLAS_NEV": "Hotel Három Hattyú",
                                    "CIM": "8623 Balatonföldvár, Rákóczi Ferenc út 45."
                                },
                                {
                                    "NEV": "Vígh András",
                                    "SZALLAS_NEV": "Hotel Három Hattyú",
                                    "CIM": "8623 Balatonföldvár, Rákóczi Ferenc út 45."
                                },
                                {
                                    "NEV": "Giliga János",
                                    "SZALLAS_NEV": "Lagúna Hotel",
                                    "CIM": "1097 Budapest, Albert Flórián út 3"
                                },
                                {
                                    "NEV": "Telek Gábor",
                                    "SZALLAS_NEV": "Hotel Három Hattyú",
                                    "CIM": "8623 Balatonföldvár, Rákóczi Ferenc út 45."
                                },
                                {
                                    "NEV": "Boros Vivien",
                                    "SZALLAS_NEV": "Lagúna Hotel",
                                    "CIM": "1097 Budapest, Albert Flórián út 3"
                                },
                                {
                                    "NEV": "Horváth Nikolett",
                                    "SZALLAS_NEV": "Hotel Három Hattyú",
                                    "CIM": "8623 Balatonföldvár, Rákóczi Ferenc út 45."
                                },
                                {
                                    "NEV": "Turcsik Tünde",
                                    "SZALLAS_NEV": "Lagúna Hotel",
                                    "CIM": "1097 Budapest, Albert Flórián út 3"
                                },
                                {
                                    "NEV": "Farkas Sándor",
                                    "SZALLAS_NEV": "Hotel Három Hattyú",
                                    "CIM": "8623 Balatonföldvár, Rákóczi Ferenc út 45."
                                },
                                {
                                    "NEV": "Oroszi György",
                                    "SZALLAS_NEV": "Hotel Három Hattyú",
                                    "CIM": "8623 Balatonföldvár, Rákóczi Ferenc út 45."
                                },
                                {
                                    "NEV": "Keresztúri Viktor",
                                    "SZALLAS_NEV": "Hotel Három Hattyú",
                                    "CIM": "8623 Balatonföldvár, Rákóczi Ferenc út 45."
                                },
                                {
                                    "NEV": "Tóth András",
                                    "SZALLAS_NEV": "Hotel Három Hattyú",
                                    "CIM": "8623 Balatonföldvár, Rákóczi Ferenc út 45."
                                },
                                {
                                    "NEV": "Baráth Mária",
                                    "SZALLAS_NEV": "Hotel Három Hattyú",
                                    "CIM": "8623 Balatonföldvár, Rákóczi Ferenc út 45."
                                },
                                {
                                    "NEV": "Kornseé Gyöngyi",
                                    "SZALLAS_NEV": "Lagúna Hotel",
                                    "CIM": "1097 Budapest, Albert Flórián út 3"
                                },
                                {
                                    "NEV": "Barna Zoltán",
                                    "SZALLAS_NEV": "Lagúna Hotel",
                                    "CIM": "1097 Budapest, Albert Flórián út 3"
                                },
                                {
                                    "NEV": "Pintér Zoltán",
                                    "SZALLAS_NEV": "Lagúna Hotel",
                                    "CIM": "1097 Budapest, Albert Flórián út 3"
                                },
                                {
                                    "NEV": "Ötvös Árpád",
                                    "SZALLAS_NEV": "Lagúna Hotel",
                                    "CIM": "1097 Budapest, Albert Flórián út 3"
                                },
                                {
                                    "NEV": "Pintér Zoltán",
                                    "SZALLAS_NEV": "Lagúna Hotel",
                                    "CIM": "1097 Budapest, Albert Flórián út 3"
                                },
                                {
                                    "NEV": "Szűcs Annamária",
                                    "SZALLAS_NEV": "Hotel Három Hattyú",
                                    "CIM": "8623 Balatonföldvár, Rákóczi Ferenc út 45."
                                },
                                {
                                    "NEV": "Antal László",
                                    "SZALLAS_NEV": "Hotel Három Hattyú",
                                    "CIM": "8623 Balatonföldvár, Rákóczi Ferenc út 45."
                                },
                                {
                                    "NEV": "Gondos Katalin",
                                    "SZALLAS_NEV": "Hotel Három Hattyú",
                                    "CIM": "8623 Balatonföldvár, Rákóczi Ferenc út 45."
                                },
                                {
                                    "NEV": "Orbán Bernadett",
                                    "SZALLAS_NEV": "Hotel Három Hattyú",
                                    "CIM": "8623 Balatonföldvár, Rákóczi Ferenc út 45."
                                },
                                {
                                    "NEV": "Nagymihály Csongor",
                                    "SZALLAS_NEV": "Hotel Három Hattyú",
                                    "CIM": "8623 Balatonföldvár, Rákóczi Ferenc út 45."
                                },
                                {
                                    "NEV": "Simon Bernadett",
                                    "SZALLAS_NEV": "Hotel Három Hattyú",
                                    "CIM": "8623 Balatonföldvár, Rákóczi Ferenc út 45."
                                },
                                {
                                    "NEV": "Kovács Katalin",
                                    "SZALLAS_NEV": "Lagúna Hotel",
                                    "CIM": "1097 Budapest, Albert Flórián út 3"
                                },
                                {
                                    "NEV": "Antal Tamás",
                                    "SZALLAS_NEV": "Hotel Három Hattyú",
                                    "CIM": "8623 Balatonföldvár, Rákóczi Ferenc út 45."
                                },
                                {
                                    "NEV": "Nyíri Georgij",
                                    "SZALLAS_NEV": "Hotel Három Hattyú",
                                    "CIM": "8623 Balatonföldvár, Rákóczi Ferenc út 45."
                                },
                                {
                                    "NEV": "Bori Krisztina",
                                    "SZALLAS_NEV": "Hotel Három Hattyú",
                                    "CIM": "8623 Balatonföldvár, Rákóczi Ferenc út 45."
                                },
                                {
                                    "NEV": "Orosz Ferenc",
                                    "SZALLAS_NEV": "Hotel Három Hattyú",
                                    "CIM": "8623 Balatonföldvár, Rákóczi Ferenc út 45."
                                },
                                {
                                    "NEV": "Mile Norbert",
                                    "SZALLAS_NEV": "Hotel Három Hattyú",
                                    "CIM": "8623 Balatonföldvár, Rákóczi Ferenc út 45."
                                },
                                {
                                    "NEV": "Molnár Zsófi",
                                    "SZALLAS_NEV": "Lagúna Hotel",
                                    "CIM": "1097 Budapest, Albert Flórián út 3"
                                },
                                {
                                    "NEV": "Kovács Bernadett",
                                    "SZALLAS_NEV": "Lagúna Hotel",
                                    "CIM": "1097 Budapest, Albert Flórián út 3"
                                },
                                {
                                    "NEV": "Horváth Ágnes",
                                    "SZALLAS_NEV": "Lagúna Hotel",
                                    "CIM": "1097 Budapest, Albert Flórián út 3"
                                },
                                {
                                    "NEV": "Molnár András",
                                    "SZALLAS_NEV": "Hotel Három Hattyú",
                                    "CIM": "8623 Balatonföldvár, Rákóczi Ferenc út 45."
                                },
                                {
                                    "NEV": "Kerényi Beatrix",
                                    "SZALLAS_NEV": "Hotel Három Hattyú",
                                    "CIM": "8623 Balatonföldvár, Rákóczi Ferenc út 45."
                                },
                                {
                                    "NEV": "Kő Nikoletta",
                                    "SZALLAS_NEV": "Hotel Három Hattyú",
                                    "CIM": "8623 Balatonföldvár, Rákóczi Ferenc út 45."
                                },
                                {
                                    "NEV": "Ambrus Dávid",
                                    "SZALLAS_NEV": "Hotel Három Hattyú",
                                    "CIM": "8623 Balatonföldvár, Rákóczi Ferenc út 45."
                                },
                                {
                                    "NEV": "Frank Fruzsina",
                                    "SZALLAS_NEV": "Hotel Három Hattyú",
                                    "CIM": "8623 Balatonföldvár, Rákóczi Ferenc út 45."
                                },
                                {
                                    "NEV": "Kertész Katalin",
                                    "SZALLAS_NEV": "Hotel Három Hattyú",
                                    "CIM": "8623 Balatonföldvár, Rákóczi Ferenc út 45."
                                },
                                {
                                    "NEV": "Varga István",
                                    "SZALLAS_NEV": "Hotel Három Hattyú",
                                    "CIM": "8623 Balatonföldvár, Rákóczi Ferenc út 45."
                                },
                                {
                                    "NEV": "Jakab Áron",
                                    "SZALLAS_NEV": "Hotel Három Hattyú",
                                    "CIM": "8623 Balatonföldvár, Rákóczi Ferenc út 45."
                                },
                                {
                                    "NEV": "Gondos Katalin",
                                    "SZALLAS_NEV": "Hotel Három Hattyú",
                                    "CIM": "8623 Balatonföldvár, Rákóczi Ferenc út 45."
                                },
                                {
                                    "NEV": "Erdei András",
                                    "SZALLAS_NEV": "Lagúna Hotel",
                                    "CIM": "1097 Budapest, Albert Flórián út 3"
                                },
                                {
                                    "NEV": "Barta Zsuzsanna",
                                    "SZALLAS_NEV": "Lagúna Hotel",
                                    "CIM": "1097 Budapest, Albert Flórián út 3"
                                },
                                {
                                    "NEV": "Köves Gábor",
                                    "SZALLAS_NEV": "Hotel Három Hattyú",
                                    "CIM": "8623 Balatonföldvár, Rákóczi Ferenc út 45."
                                },
                                {
                                    "NEV": "Kovács Katalin",
                                    "SZALLAS_NEV": "Hotel Három Hattyú",
                                    "CIM": "8623 Balatonföldvár, Rákóczi Ferenc út 45."
                                },
                                {
                                    "NEV": "Móra László",
                                    "SZALLAS_NEV": "Lagúna Hotel",
                                    "CIM": "1097 Budapest, Albert Flórián út 3"
                                },
                                {
                                    "NEV": "Bíró Ákos",
                                    "SZALLAS_NEV": "Hotel Három Hattyú",
                                    "CIM": "8623 Balatonföldvár, Rákóczi Ferenc út 45."
                                },
                                {
                                    "NEV": "Rácz Dániel",
                                    "SZALLAS_NEV": "Hotel Három Hattyú",
                                    "CIM": "8623 Balatonföldvár, Rákóczi Ferenc út 45."
                                },
                                {
                                    "NEV": "Barkóci Ádám",
                                    "SZALLAS_NEV": "Lagúna Hotel",
                                    "CIM": "1097 Budapest, Albert Flórián út 3"
                                },
                                {
                                    "NEV": "Neizer Andrea",
                                    "SZALLAS_NEV": "Lagúna Hotel",
                                    "CIM": "1097 Budapest, Albert Flórián út 3"
                                },
                                {
                                    "NEV": "Szedlár Krisztina",
                                    "SZALLAS_NEV": "Hotel Három Hattyú",
                                    "CIM": "8623 Balatonföldvár, Rákóczi Ferenc út 45."
                                },
                                {
                                    "NEV": "Maródi Andrea",
                                    "SZALLAS_NEV": "Hotel Három Hattyú",
                                    "CIM": "8623 Balatonföldvár, Rákóczi Ferenc út 45."
                                },
                                {
                                    "NEV": "Gergely József",
                                    "SZALLAS_NEV": "Hotel Három Hattyú",
                                    "CIM": "8623 Balatonföldvár, Rákóczi Ferenc út 45."
                                },
                                {
                                    "NEV": "Bucskó Róza",
                                    "SZALLAS_NEV": "Hotel Három Hattyú",
                                    "CIM": "8623 Balatonföldvár, Rákóczi Ferenc út 45."
                                },
                                {
                                    "NEV": "Kalacsi Márton",
                                    "SZALLAS_NEV": "Lagúna Hotel",
                                    "CIM": "1097 Budapest, Albert Flórián út 3"
                                },
                                {
                                    "NEV": "Barabás Pál",
                                    "SZALLAS_NEV": "Lagúna Hotel",
                                    "CIM": "1097 Budapest, Albert Flórián út 3"
                                },
                                {
                                    "NEV": "Bittmann Edit",
                                    "SZALLAS_NEV": "Lagúna Hotel",
                                    "CIM": "1097 Budapest, Albert Flórián út 3"
                                },
                                {
                                    "NEV": "Foltényi Sebastián",
                                    "SZALLAS_NEV": "Hotel Három Hattyú",
                                    "CIM": "8623 Balatonföldvár, Rákóczi Ferenc út 45."
                                },
                                {
                                    "NEV": "Nyíri Georgij",
                                    "SZALLAS_NEV": "Lagúna Hotel",
                                    "CIM": "1097 Budapest, Albert Flórián út 3"
                                },
                                {
                                    "NEV": "Sobják Dávid",
                                    "SZALLAS_NEV": "Hotel Három Hattyú",
                                    "CIM": "8623 Balatonföldvár, Rákóczi Ferenc út 45."
                                },
                                {
                                    "NEV": "Lukács Kornél",
                                    "SZALLAS_NEV": "Lagúna Hotel",
                                    "CIM": "1097 Budapest, Albert Flórián út 3"
                                },
                                {
                                    "NEV": "Szikszai Réka",
                                    "SZALLAS_NEV": "Hotel Három Hattyú",
                                    "CIM": "8623 Balatonföldvár, Rákóczi Ferenc út 45."
                                },
                                {
                                    "NEV": "Kuruc Emese",
                                    "SZALLAS_NEV": "Hotel Három Hattyú",
                                    "CIM": "8623 Balatonföldvár, Rákóczi Ferenc út 45."
                                },
                                {
                                    "NEV": "Hamvay-Kovács Anita",
                                    "SZALLAS_NEV": "Hotel Három Hattyú",
                                    "CIM": "8623 Balatonföldvár, Rákóczi Ferenc út 45."
                                },
                                {
                                    "NEV": "Balogh Eszter",
                                    "SZALLAS_NEV": "Hotel Három Hattyú",
                                    "CIM": "8623 Balatonföldvár, Rákóczi Ferenc út 45."
                                },
                                {
                                    "NEV": "Szekendi Beatrix",
                                    "SZALLAS_NEV": "Lagúna Hotel",
                                    "CIM": "1097 Budapest, Albert Flórián út 3"
                                },
                                {
                                    "NEV": "Józsa Zsolt",
                                    "SZALLAS_NEV": "Lagúna Hotel",
                                    "CIM": "1097 Budapest, Albert Flórián út 3"
                                },
                                {
                                    "NEV": "Varga István",
                                    "SZALLAS_NEV": "Lagúna Hotel",
                                    "CIM": "1097 Budapest, Albert Flórián út 3"
                                },
                                {
                                    "NEV": "Vörös Dániel",
                                    "SZALLAS_NEV": "Hotel Három Hattyú",
                                    "CIM": "8623 Balatonföldvár, Rákóczi Ferenc út 45."
                                },
                                {
                                    "NEV": "Horváth Krisztina",
                                    "SZALLAS_NEV": "Lagúna Hotel",
                                    "CIM": "1097 Budapest, Albert Flórián út 3"
                                },
                                {
                                    "NEV": "Balogh Eszter",
                                    "SZALLAS_NEV": "Hotel Három Hattyú",
                                    "CIM": "8623 Balatonföldvár, Rákóczi Ferenc út 45."
                                },
                                {
                                    "NEV": "Bagi Beáta",
                                    "SZALLAS_NEV": "Lagúna Hotel",
                                    "CIM": "1097 Budapest, Albert Flórián út 3"
                                },
                                {
                                    "NEV": "Bakó Klaudia",
                                    "SZALLAS_NEV": "Lagúna Hotel",
                                    "CIM": "1097 Budapest, Albert Flórián út 3"
                                },
                                {
                                    "NEV": "Bagi Beáta",
                                    "SZALLAS_NEV": "Lagúna Hotel",
                                    "CIM": "1097 Budapest, Albert Flórián út 3"
                                },
                                {
                                    "NEV": "Orbán Bernadett",
                                    "SZALLAS_NEV": "Lagúna Hotel",
                                    "CIM": "1097 Budapest, Albert Flórián út 3"
                                },
                                {
                                    "NEV": "Molnár András",
                                    "SZALLAS_NEV": "Hotel Három Hattyú",
                                    "CIM": "8623 Balatonföldvár, Rákóczi Ferenc út 45."
                                },
                                {
                                    "NEV": "Farkas Sára",
                                    "SZALLAS_NEV": "Hotel Három Hattyú",
                                    "CIM": "8623 Balatonföldvár, Rákóczi Ferenc út 45."
                                },
                                {
                                    "NEV": "Tornyos Andrea",
                                    "SZALLAS_NEV": "Hotel Három Hattyú",
                                    "CIM": "8623 Balatonföldvár, Rákóczi Ferenc út 45."
                                },
                                {
                                    "NEV": "Gondos Miklós",
                                    "SZALLAS_NEV": "Hotel Három Hattyú",
                                    "CIM": "8623 Balatonföldvár, Rákóczi Ferenc út 45."
                                },
                                {
                                    "NEV": "Gombos Tibor",
                                    "SZALLAS_NEV": "Lagúna Hotel",
                                    "CIM": "1097 Budapest, Albert Flórián út 3"
                                },
                                {
                                    "NEV": "Bozsó Péter",
                                    "SZALLAS_NEV": "Lagúna Hotel",
                                    "CIM": "1097 Budapest, Albert Flórián út 3"
                                },
                                {
                                    "NEV": "Csóti Attila",
                                    "SZALLAS_NEV": "Hotel Három Hattyú",
                                    "CIM": "8623 Balatonföldvár, Rákóczi Ferenc út 45."
                                },
                                {
                                    "NEV": "Simon Bernadett",
                                    "SZALLAS_NEV": "Lagúna Hotel",
                                    "CIM": "1097 Budapest, Albert Flórián út 3"
                                },
                                {
                                    "NEV": "Nagy Sándor",
                                    "SZALLAS_NEV": "Lagúna Hotel",
                                    "CIM": "1097 Budapest, Albert Flórián út 3"
                                },
                                {
                                    "NEV": "Viktor Éva",
                                    "SZALLAS_NEV": "Lagúna Hotel",
                                    "CIM": "1097 Budapest, Albert Flórián út 3"
                                },
                                {
                                    "NEV": "Kovács Ágnes",
                                    "SZALLAS_NEV": "Hotel Három Hattyú",
                                    "CIM": "8623 Balatonföldvár, Rákóczi Ferenc út 45."
                                },
                                {
                                    "NEV": "Pintér Zoltán",
                                    "SZALLAS_NEV": "Lagúna Hotel",
                                    "CIM": "1097 Budapest, Albert Flórián út 3"
                                },
                                {
                                    "NEV": "Köves Gábor",
                                    "SZALLAS_NEV": "Hotel Három Hattyú",
                                    "CIM": "8623 Balatonföldvár, Rákóczi Ferenc út 45."
                                },
                                {
                                    "NEV": "Hartyánszky Ágnes",
                                    "SZALLAS_NEV": "Hotel Három Hattyú",
                                    "CIM": "8623 Balatonföldvár, Rákóczi Ferenc út 45."
                                },
                                {
                                    "NEV": "Kazy Tihamér",
                                    "SZALLAS_NEV": "Hotel Három Hattyú",
                                    "CIM": "8623 Balatonföldvár, Rákóczi Ferenc út 45."
                                },
                                {
                                    "NEV": "Harangozó János",
                                    "SZALLAS_NEV": "Lagúna Hotel",
                                    "CIM": "1097 Budapest, Albert Flórián út 3"
                                },
                                {
                                    "NEV": "Zatykó Katalin",
                                    "SZALLAS_NEV": "Hotel Három Hattyú",
                                    "CIM": "8623 Balatonföldvár, Rákóczi Ferenc út 45."
                                },
                                {
                                    "NEV": "Molnár Eszter",
                                    "SZALLAS_NEV": "Lagúna Hotel",
                                    "CIM": "1097 Budapest, Albert Flórián út 3"
                                },
                                {
                                    "NEV": "Iván Róbert",
                                    "SZALLAS_NEV": "Lagúna Hotel",
                                    "CIM": "1097 Budapest, Albert Flórián út 3"
                                },
                                {
                                    "NEV": "Urbán Viktoria",
                                    "SZALLAS_NEV": "Lagúna Hotel",
                                    "CIM": "1097 Budapest, Albert Flórián út 3"
                                },
                                {
                                    "NEV": "Kozma Péter",
                                    "SZALLAS_NEV": "Lagúna Hotel",
                                    "CIM": "1097 Budapest, Albert Flórián út 3"
                                },
                                {
                                    "NEV": "Feró Valentin",
                                    "SZALLAS_NEV": "Lagúna Hotel",
                                    "CIM": "1097 Budapest, Albert Flórián út 3"
                                },
                                {
                                    "NEV": "Búza Imre",
                                    "SZALLAS_NEV": "Hotel Három Hattyú",
                                    "CIM": "8623 Balatonföldvár, Rákóczi Ferenc út 45."
                                },
                                {
                                    "NEV": "Simon Bernadett",
                                    "SZALLAS_NEV": "Hotel Három Hattyú",
                                    "CIM": "8623 Balatonföldvár, Rákóczi Ferenc út 45."
                                },
                                {
                                    "NEV": "Oroszi György",
                                    "SZALLAS_NEV": "Hotel Három Hattyú",
                                    "CIM": "8623 Balatonföldvár, Rákóczi Ferenc út 45."
                                },
                                {
                                    "NEV": "Bori Krisztina",
                                    "SZALLAS_NEV": "Hotel Három Hattyú",
                                    "CIM": "8623 Balatonföldvár, Rákóczi Ferenc út 45."
                                },
                                {
                                    "NEV": "Bíró Péter",
                                    "SZALLAS_NEV": "Lagúna Hotel",
                                    "CIM": "1097 Budapest, Albert Flórián út 3"
                                },
                                {
                                    "NEV": "Nagymihály Lajos",
                                    "SZALLAS_NEV": "Hotel Három Hattyú",
                                    "CIM": "8623 Balatonföldvár, Rákóczi Ferenc út 45."
                                },
                                {
                                    "NEV": "Sarodi Dóra",
                                    "SZALLAS_NEV": "Hotel Három Hattyú",
                                    "CIM": "8623 Balatonföldvár, Rákóczi Ferenc út 45."
                                },
                                {
                                    "NEV": "Szilágyi Mátyás",
                                    "SZALLAS_NEV": "Hotel Három Hattyú",
                                    "CIM": "8623 Balatonföldvár, Rákóczi Ferenc út 45."
                                },
                                {
                                    "NEV": "Szalai Péter",
                                    "SZALLAS_NEV": "Hotel Három Hattyú",
                                    "CIM": "8623 Balatonföldvár, Rákóczi Ferenc út 45."
                                },
                                {
                                    "NEV": "Kelemen Áron",
                                    "SZALLAS_NEV": "Lagúna Hotel",
                                    "CIM": "1097 Budapest, Albert Flórián út 3"
                                },
                                {
                                    "NEV": "Csiger Bertalan",
                                    "SZALLAS_NEV": "Hotel Három Hattyú",
                                    "CIM": "8623 Balatonföldvár, Rákóczi Ferenc út 45."
                                },
                                {
                                    "NEV": "Bosnyák Ilona",
                                    "SZALLAS_NEV": "Hotel Három Hattyú",
                                    "CIM": "8623 Balatonföldvár, Rákóczi Ferenc út 45."
                                },
                                {
                                    "NEV": "Kovács Katalin",
                                    "SZALLAS_NEV": "Hotel Három Hattyú",
                                    "CIM": "8623 Balatonföldvár, Rákóczi Ferenc út 45."
                                },
                                {
                                    "NEV": "Kuruc Emese",
                                    "SZALLAS_NEV": "Hotel Három Hattyú",
                                    "CIM": "8623 Balatonföldvár, Rákóczi Ferenc út 45."
                                },
                                {
                                    "NEV": "Tömböly Dénes",
                                    "SZALLAS_NEV": "Lagúna Hotel",
                                    "CIM": "1097 Budapest, Albert Flórián út 3"
                                },
                                {
                                    "NEV": "Ötvös Árpád",
                                    "SZALLAS_NEV": "Lagúna Hotel",
                                    "CIM": "1097 Budapest, Albert Flórián út 3"
                                },
                                {
                                    "NEV": "Orosz Ferenc",
                                    "SZALLAS_NEV": "Lagúna Hotel",
                                    "CIM": "1097 Budapest, Albert Flórián út 3"
                                },
                                {
                                    "NEV": "Rácz Rajmond",
                                    "SZALLAS_NEV": "Hotel Három Hattyú",
                                    "CIM": "8623 Balatonföldvár, Rákóczi Ferenc út 45."
                                },
                                {
                                    "NEV": "Giliga János",
                                    "SZALLAS_NEV": "Lagúna Hotel",
                                    "CIM": "1097 Budapest, Albert Flórián út 3"
                                },
                                {
                                    "NEV": "Simon Anikó",
                                    "SZALLAS_NEV": "Hotel Három Hattyú",
                                    "CIM": "8623 Balatonföldvár, Rákóczi Ferenc út 45."
                                },
                                {
                                    "NEV": "Miklós Tamara",
                                    "SZALLAS_NEV": "Lagúna Hotel",
                                    "CIM": "1097 Budapest, Albert Flórián út 3"
                                },
                                {
                                    "NEV": "Bozsó Péter",
                                    "SZALLAS_NEV": "Hotel Három Hattyú",
                                    "CIM": "8623 Balatonföldvár, Rákóczi Ferenc út 45."
                                },
                                {
                                    "NEV": "Gondos Miklós",
                                    "SZALLAS_NEV": "Lagúna Hotel",
                                    "CIM": "1097 Budapest, Albert Flórián út 3"
                                },
                                {
                                    "NEV": "Maródi Andrea",
                                    "SZALLAS_NEV": "Hotel Három Hattyú",
                                    "CIM": "8623 Balatonföldvár, Rákóczi Ferenc út 45."
                                },
                                {
                                    "NEV": "Farkas Sára",
                                    "SZALLAS_NEV": "Lagúna Hotel",
                                    "CIM": "1097 Budapest, Albert Flórián út 3"
                                },
                                {
                                    "NEV": "Turcsik Tünde",
                                    "SZALLAS_NEV": "Hotel Három Hattyú",
                                    "CIM": "8623 Balatonföldvár, Rákóczi Ferenc út 45."
                                },
                                {
                                    "NEV": "Tóth Roland",
                                    "SZALLAS_NEV": "Lagúna Hotel",
                                    "CIM": "1097 Budapest, Albert Flórián út 3"
                                },
                                {
                                    "NEV": "Sobják Dávid",
                                    "SZALLAS_NEV": "Hotel Három Hattyú",
                                    "CIM": "8623 Balatonföldvár, Rákóczi Ferenc út 45."
                                },
                                {
                                    "NEV": "Erdei András",
                                    "SZALLAS_NEV": "Lagúna Hotel",
                                    "CIM": "1097 Budapest, Albert Flórián út 3"
                                },
                                {
                                    "NEV": "Komjáti András",
                                    "SZALLAS_NEV": "Hotel Három Hattyú",
                                    "CIM": "8623 Balatonföldvár, Rákóczi Ferenc út 45."
                                },
                                {
                                    "NEV": "Frank Fruzsina",
                                    "SZALLAS_NEV": "Hotel Három Hattyú",
                                    "CIM": "8623 Balatonföldvár, Rákóczi Ferenc út 45."
                                },
                                {
                                    "NEV": "Molnár András",
                                    "SZALLAS_NEV": "Lagúna Hotel",
                                    "CIM": "1097 Budapest, Albert Flórián út 3"
                                },
                                {
                                    "NEV": "Kardos Renáta",
                                    "SZALLAS_NEV": "Hotel Három Hattyú",
                                    "CIM": "8623 Balatonföldvár, Rákóczi Ferenc út 45."
                                },
                                {
                                    "NEV": "Kuruc Emese",
                                    "SZALLAS_NEV": "Lagúna Hotel",
                                    "CIM": "1097 Budapest, Albert Flórián út 3"
                                },
                                {
                                    "NEV": "Horváth Bálint",
                                    "SZALLAS_NEV": "Hotel Három Hattyú",
                                    "CIM": "8623 Balatonföldvár, Rákóczi Ferenc út 45."
                                },
                                {
                                    "NEV": "Bagóczki Alexandra",
                                    "SZALLAS_NEV": "Hotel Három Hattyú",
                                    "CIM": "8623 Balatonföldvár, Rákóczi Ferenc út 45."
                                },
                                {
                                    "NEV": "Farkas Béla",
                                    "SZALLAS_NEV": "Hotel Három Hattyú",
                                    "CIM": "8623 Balatonföldvár, Rákóczi Ferenc út 45."
                                },
                                {
                                    "NEV": "Fényes Tamás",
                                    "SZALLAS_NEV": "Lagúna Hotel",
                                    "CIM": "1097 Budapest, Albert Flórián út 3"
                                },
                                {
                                    "NEV": "Nagy Sándor",
                                    "SZALLAS_NEV": "Hotel Három Hattyú",
                                    "CIM": "8623 Balatonföldvár, Rákóczi Ferenc út 45."
                                },
                                {
                                    "NEV": "Bodor Szabolcs",
                                    "SZALLAS_NEV": "Hotel Három Hattyú",
                                    "CIM": "8623 Balatonföldvár, Rákóczi Ferenc út 45."
                                },
                                {
                                    "NEV": "Erdei András",
                                    "SZALLAS_NEV": "Hotel Három Hattyú",
                                    "CIM": "8623 Balatonföldvár, Rákóczi Ferenc út 45."
                                },
                                {
                                    "NEV": "Pintér Zoltán",
                                    "SZALLAS_NEV": "Hotel Három Hattyú",
                                    "CIM": "8623 Balatonföldvár, Rákóczi Ferenc út 45."
                                },
                                {
                                    "NEV": "Kelemen Áron",
                                    "SZALLAS_NEV": "Hotel Három Hattyú",
                                    "CIM": "8623 Balatonföldvár, Rákóczi Ferenc út 45."
                                },
                                {
                                    "NEV": "Kuruc Emese",
                                    "SZALLAS_NEV": "Hotel Három Hattyú",
                                    "CIM": "8623 Balatonföldvár, Rákóczi Ferenc út 45."
                                },
                                {
                                    "NEV": "Kő Nikoletta",
                                    "SZALLAS_NEV": "Hotel Három Hattyú",
                                    "CIM": "8623 Balatonföldvár, Rákóczi Ferenc út 45."
                                },
                                {
                                    "NEV": "Fényes Tamás",
                                    "SZALLAS_NEV": "Lagúna Hotel",
                                    "CIM": "1097 Budapest, Albert Flórián út 3"
                                },
                                {
                                    "NEV": "Czérna Krisztián",
                                    "SZALLAS_NEV": "Lagúna Hotel",
                                    "CIM": "1097 Budapest, Albert Flórián út 3"
                                },
                                {
                                    "NEV": "Horváth Katalin",
                                    "SZALLAS_NEV": "Hotel Három Hattyú",
                                    "CIM": "8623 Balatonföldvár, Rákóczi Ferenc út 45."
                                },
                                {
                                    "NEV": "Móricz Árpád",
                                    "SZALLAS_NEV": "Lagúna Hotel",
                                    "CIM": "1097 Budapest, Albert Flórián út 3"
                                },
                                {
                                    "NEV": "Győrffy Bence",
                                    "SZALLAS_NEV": "Hotel Három Hattyú",
                                    "CIM": "8623 Balatonföldvár, Rákóczi Ferenc út 45."
                                },
                                {
                                    "NEV": "Barabás Pál",
                                    "SZALLAS_NEV": "Lagúna Hotel",
                                    "CIM": "1097 Budapest, Albert Flórián út 3"
                                },
                                {
                                    "NEV": "Kerényi Beatrix",
                                    "SZALLAS_NEV": "Lagúna Hotel",
                                    "CIM": "1097 Budapest, Albert Flórián út 3"
                                },
                                {
                                    "NEV": "Kovács Ágnes",
                                    "SZALLAS_NEV": "Lagúna Hotel",
                                    "CIM": "1097 Budapest, Albert Flórián út 3"
                                },
                                {
                                    "NEV": "Horváth Katalin",
                                    "SZALLAS_NEV": "Hotel Három Hattyú",
                                    "CIM": "8623 Balatonföldvár, Rákóczi Ferenc út 45."
                                },
                                {
                                    "NEV": "Székely Brigitta",
                                    "SZALLAS_NEV": "Hotel Három Hattyú",
                                    "CIM": "8623 Balatonföldvár, Rákóczi Ferenc út 45."
                                },
                                {
                                    "NEV": "Patay Róbert",
                                    "SZALLAS_NEV": "Hotel Három Hattyú",
                                    "CIM": "8623 Balatonföldvár, Rákóczi Ferenc út 45."
                                },
                                {
                                    "NEV": "Bíró Ákos",
                                    "SZALLAS_NEV": "Hotel Három Hattyú",
                                    "CIM": "8623 Balatonföldvár, Rákóczi Ferenc út 45."
                                },
                                {
                                    "NEV": "Pálinkás János",
                                    "SZALLAS_NEV": "Hotel Három Hattyú",
                                    "CIM": "8623 Balatonföldvár, Rákóczi Ferenc út 45."
                                },
                                {
                                    "NEV": "Molnár Eszter",
                                    "SZALLAS_NEV": "Hotel Három Hattyú",
                                    "CIM": "8623 Balatonföldvár, Rákóczi Ferenc út 45."
                                },
                                {
                                    "NEV": "Tari Szilvia",
                                    "SZALLAS_NEV": "Hotel Három Hattyú",
                                    "CIM": "8623 Balatonföldvár, Rákóczi Ferenc út 45."
                                },
                                {
                                    "NEV": "Mogyródi Krisztián",
                                    "SZALLAS_NEV": "Hotel Három Hattyú",
                                    "CIM": "8623 Balatonföldvár, Rákóczi Ferenc út 45."
                                },
                                {
                                    "NEV": "Bosnyák Ilona",
                                    "SZALLAS_NEV": "Hotel Három Hattyú",
                                    "CIM": "8623 Balatonföldvár, Rákóczi Ferenc út 45."
                                },
                                {
                                    "NEV": "Kiss Lajos",
                                    "SZALLAS_NEV": "Lagúna Hotel",
                                    "CIM": "1097 Budapest, Albert Flórián út 3"
                                },
                                {
                                    "NEV": "Rácz Dániel",
                                    "SZALLAS_NEV": "Hotel Három Hattyú",
                                    "CIM": "8623 Balatonföldvár, Rákóczi Ferenc út 45."
                                },
                                {
                                    "NEV": "Pintér Zoltán",
                                    "SZALLAS_NEV": "Hotel Három Hattyú",
                                    "CIM": "8623 Balatonföldvár, Rákóczi Ferenc út 45."
                                },
                                {
                                    "NEV": "Papós Tímea",
                                    "SZALLAS_NEV": "Hotel Három Hattyú",
                                    "CIM": "8623 Balatonföldvár, Rákóczi Ferenc út 45."
                                },
                                {
                                    "NEV": "Tari Szilvia",
                                    "SZALLAS_NEV": "Lagúna Hotel",
                                    "CIM": "1097 Budapest, Albert Flórián út 3"
                                },
                                {
                                    "NEV": "Giliga János",
                                    "SZALLAS_NEV": "Hotel Három Hattyú",
                                    "CIM": "8623 Balatonföldvár, Rákóczi Ferenc út 45."
                                },
                                {
                                    "NEV": "Barna Zoltán",
                                    "SZALLAS_NEV": "Hotel Három Hattyú",
                                    "CIM": "8623 Balatonföldvár, Rákóczi Ferenc út 45."
                                },
                                {
                                    "NEV": "Baróti Attila",
                                    "SZALLAS_NEV": "Hotel Három Hattyú",
                                    "CIM": "8623 Balatonföldvár, Rákóczi Ferenc út 45."
                                },
                                {
                                    "NEV": "Soós István",
                                    "SZALLAS_NEV": "Hotel Három Hattyú",
                                    "CIM": "8623 Balatonföldvár, Rákóczi Ferenc út 45."
                                },
                                {
                                    "NEV": "Keszler Dániel",
                                    "SZALLAS_NEV": "Hotel Három Hattyú",
                                    "CIM": "8623 Balatonföldvár, Rákóczi Ferenc út 45."
                                },
                                {
                                    "NEV": "Miklós Szabolcs",
                                    "SZALLAS_NEV": "Hotel Három Hattyú",
                                    "CIM": "8623 Balatonföldvár, Rákóczi Ferenc út 45."
                                },
                                {
                                    "NEV": "Horváth Ágnes",
                                    "SZALLAS_NEV": "Hotel Három Hattyú",
                                    "CIM": "8623 Balatonföldvár, Rákóczi Ferenc út 45."
                                },
                                {
                                    "NEV": "Barta Zsuzsanna",
                                    "SZALLAS_NEV": "Hotel Három Hattyú",
                                    "CIM": "8623 Balatonföldvár, Rákóczi Ferenc út 45."
                                },
                                {
                                    "NEV": "Regős Annamária",
                                    "SZALLAS_NEV": "Lagúna Hotel",
                                    "CIM": "1097 Budapest, Albert Flórián út 3"
                                },
                                {
                                    "NEV": "Bucskó Róza",
                                    "SZALLAS_NEV": "Lagúna Hotel",
                                    "CIM": "1097 Budapest, Albert Flórián út 3"
                                },
                                {
                                    "NEV": "Enyedi Éva",
                                    "SZALLAS_NEV": "Hotel Három Hattyú",
                                    "CIM": "8623 Balatonföldvár, Rákóczi Ferenc út 45."
                                },
                                {
                                    "NEV": "Bittmann Edit",
                                    "SZALLAS_NEV": "Hotel Három Hattyú",
                                    "CIM": "8623 Balatonföldvár, Rákóczi Ferenc út 45."
                                },
                                {
                                    "NEV": "Czérna Krisztián",
                                    "SZALLAS_NEV": "Hotel Három Hattyú",
                                    "CIM": "8623 Balatonföldvár, Rákóczi Ferenc út 45."
                                },
                                {
                                    "NEV": "Ferencz Roland",
                                    "SZALLAS_NEV": "Lagúna Hotel",
                                    "CIM": "1097 Budapest, Albert Flórián út 3"
                                },
                                {
                                    "NEV": "Mohos Mónika",
                                    "SZALLAS_NEV": "Lagúna Hotel",
                                    "CIM": "1097 Budapest, Albert Flórián út 3"
                                },
                                {
                                    "NEV": "Andor Ibolya",
                                    "SZALLAS_NEV": "Hotel Három Hattyú",
                                    "CIM": "8623 Balatonföldvár, Rákóczi Ferenc út 45."
                                },
                                {
                                    "NEV": "Kertész Katalin",
                                    "SZALLAS_NEV": "Hotel Három Hattyú",
                                    "CIM": "8623 Balatonföldvár, Rákóczi Ferenc út 45."
                                },
                                {
                                    "NEV": "Horváth Márk",
                                    "SZALLAS_NEV": "Lagúna Hotel",
                                    "CIM": "1097 Budapest, Albert Flórián út 3"
                                },
                                {
                                    "NEV": "Barna Debóra",
                                    "SZALLAS_NEV": "Lagúna Hotel",
                                    "CIM": "1097 Budapest, Albert Flórián út 3"
                                },
                                {
                                    "NEV": "Kardos Renáta",
                                    "SZALLAS_NEV": "Lagúna Hotel",
                                    "CIM": "1097 Budapest, Albert Flórián út 3"
                                },
                                {
                                    "NEV": "Kovács Bernadett",
                                    "SZALLAS_NEV": "Hotel Három Hattyú",
                                    "CIM": "8623 Balatonföldvár, Rákóczi Ferenc út 45."
                                },
                                {
                                    "NEV": "Bori Krisztina",
                                    "SZALLAS_NEV": "Lagúna Hotel",
                                    "CIM": "1097 Budapest, Albert Flórián út 3"
                                },
                                {
                                    "NEV": "Gulyás Attila",
                                    "SZALLAS_NEV": "Hotel Három Hattyú",
                                    "CIM": "8623 Balatonföldvár, Rákóczi Ferenc út 45."
                                },
                                {
                                    "NEV": "Palágyi Polla",
                                    "SZALLAS_NEV": "Hotel Három Hattyú",
                                    "CIM": "8623 Balatonföldvár, Rákóczi Ferenc út 45."
                                },
                                {
                                    "NEV": "Hegedűs Norbert",
                                    "SZALLAS_NEV": "Hotel Három Hattyú",
                                    "CIM": "8623 Balatonföldvár, Rákóczi Ferenc út 45."
                                },
                                {
                                    "NEV": "Szűcs Annamária",
                                    "SZALLAS_NEV": "Hotel Három Hattyú",
                                    "CIM": "8623 Balatonföldvár, Rákóczi Ferenc út 45."
                                },
                                {
                                    "NEV": "Tari Szilvia",
                                    "SZALLAS_NEV": "Lagúna Hotel",
                                    "CIM": "1097 Budapest, Albert Flórián út 3"
                                },
                                {
                                    "NEV": "Kelemen Áron",
                                    "SZALLAS_NEV": "Hotel Három Hattyú",
                                    "CIM": "8623 Balatonföldvár, Rákóczi Ferenc út 45."
                                },
                                {
                                    "NEV": "Giliga János",
                                    "SZALLAS_NEV": "Hotel Három Hattyú",
                                    "CIM": "8623 Balatonföldvár, Rákóczi Ferenc út 45."
                                },
                                {
                                    "NEV": "Kő Nikoletta",
                                    "SZALLAS_NEV": "Hotel Három Hattyú",
                                    "CIM": "8623 Balatonföldvár, Rákóczi Ferenc út 45."
                                },
                                {
                                    "NEV": "Vígh András",
                                    "SZALLAS_NEV": "Hotel Három Hattyú",
                                    "CIM": "8623 Balatonföldvár, Rákóczi Ferenc út 45."
                                },
                                {
                                    "NEV": "Szekendi Beatrix",
                                    "SZALLAS_NEV": "Lagúna Hotel",
                                    "CIM": "1097 Budapest, Albert Flórián út 3"
                                },
                                {
                                    "NEV": "Nagy Júlia",
                                    "SZALLAS_NEV": "Hotel Három Hattyú",
                                    "CIM": "8623 Balatonföldvár, Rákóczi Ferenc út 45."
                                },
                                {
                                    "NEV": "Barna Debóra",
                                    "SZALLAS_NEV": "Hotel Három Hattyú",
                                    "CIM": "8623 Balatonföldvár, Rákóczi Ferenc út 45."
                                },
                                {
                                    "NEV": "Viktor Éva",
                                    "SZALLAS_NEV": "Hotel Három Hattyú",
                                    "CIM": "8623 Balatonföldvár, Rákóczi Ferenc út 45."
                                },
                                {
                                    "NEV": "Papp Imre",
                                    "SZALLAS_NEV": "Hotel Három Hattyú",
                                    "CIM": "8623 Balatonföldvár, Rákóczi Ferenc út 45."
                                },
                                {
                                    "NEV": "Bíró Péter",
                                    "SZALLAS_NEV": "Hotel Három Hattyú",
                                    "CIM": "8623 Balatonföldvár, Rákóczi Ferenc út 45."
                                },
                                {
                                    "NEV": "Győrffy Bence",
                                    "SZALLAS_NEV": "Hotel Három Hattyú",
                                    "CIM": "8623 Balatonföldvár, Rákóczi Ferenc út 45."
                                },
                                {
                                    "NEV": "Bittmann Edit",
                                    "SZALLAS_NEV": "Hotel Három Hattyú",
                                    "CIM": "8623 Balatonföldvár, Rákóczi Ferenc út 45."
                                },
                                {
                                    "NEV": "Antal László",
                                    "SZALLAS_NEV": "Hotel Három Hattyú",
                                    "CIM": "8623 Balatonföldvár, Rákóczi Ferenc út 45."
                                },
                                {
                                    "NEV": "Vizi István",
                                    "SZALLAS_NEV": "Lagúna Hotel",
                                    "CIM": "1097 Budapest, Albert Flórián út 3"
                                },
                                {
                                    "NEV": "Kiss Andrea",
                                    "SZALLAS_NEV": "Lagúna Hotel",
                                    "CIM": "1097 Budapest, Albert Flórián út 3"
                                },
                                {
                                    "NEV": "Bozsik Balázs",
                                    "SZALLAS_NEV": "Hotel Három Hattyú",
                                    "CIM": "8623 Balatonföldvár, Rákóczi Ferenc út 45."
                                },
                                {
                                    "NEV": "Érsek Eszter",
                                    "SZALLAS_NEV": "Hotel Három Hattyú",
                                    "CIM": "8623 Balatonföldvár, Rákóczi Ferenc út 45."
                                },
                                {
                                    "NEV": "Móricz Árpád",
                                    "SZALLAS_NEV": "Hotel Három Hattyú",
                                    "CIM": "8623 Balatonföldvár, Rákóczi Ferenc út 45."
                                },
                                {
                                    "NEV": "Fényes Tamás",
                                    "SZALLAS_NEV": "Hotel Három Hattyú",
                                    "CIM": "8623 Balatonföldvár, Rákóczi Ferenc út 45."
                                },
                                {
                                    "NEV": "Oroszi György",
                                    "SZALLAS_NEV": "Hotel Három Hattyú",
                                    "CIM": "8623 Balatonföldvár, Rákóczi Ferenc út 45."
                                },
                                {
                                    "NEV": "Szűcs Norbert",
                                    "SZALLAS_NEV": "Hotel Három Hattyú",
                                    "CIM": "8623 Balatonföldvár, Rákóczi Ferenc út 45."
                                },
                                {
                                    "NEV": "Barabás Pál",
                                    "SZALLAS_NEV": "Hotel Három Hattyú",
                                    "CIM": "8623 Balatonföldvár, Rákóczi Ferenc út 45."
                                },
                                {
                                    "NEV": "Nagymihály Csongor",
                                    "SZALLAS_NEV": "Hotel Három Hattyú",
                                    "CIM": "8623 Balatonföldvár, Rákóczi Ferenc út 45."
                                },
                                {
                                    "NEV": "Szirmai Renáta",
                                    "SZALLAS_NEV": "Hotel Három Hattyú",
                                    "CIM": "8623 Balatonföldvár, Rákóczi Ferenc út 45."
                                },
                                {
                                    "NEV": "Regős Annamária",
                                    "SZALLAS_NEV": "Lagúna Hotel",
                                    "CIM": "1097 Budapest, Albert Flórián út 3"
                                },
                                {
                                    "NEV": "Berta Dávid",
                                    "SZALLAS_NEV": "Hotel Három Hattyú",
                                    "CIM": "8623 Balatonföldvár, Rákóczi Ferenc út 45."
                                },
                                {
                                    "NEV": "Mile Norbert",
                                    "SZALLAS_NEV": "Lagúna Hotel",
                                    "CIM": "1097 Budapest, Albert Flórián út 3"
                                },
                                {
                                    "NEV": "Kardos Renáta",
                                    "SZALLAS_NEV": "Hotel Három Hattyú",
                                    "CIM": "8623 Balatonföldvár, Rákóczi Ferenc út 45."
                                },
                                {
                                    "NEV": "Iván Róbert",
                                    "SZALLAS_NEV": "Lagúna Hotel",
                                    "CIM": "1097 Budapest, Albert Flórián út 3"
                                },
                                {
                                    "NEV": "Hamvay-Kovács Anita",
                                    "SZALLAS_NEV": "Lagúna Hotel",
                                    "CIM": "1097 Budapest, Albert Flórián út 3"
                                },
                                {
                                    "NEV": "Rácz Dániel",
                                    "SZALLAS_NEV": "Hotel Három Hattyú",
                                    "CIM": "8623 Balatonföldvár, Rákóczi Ferenc út 45."
                                },
                                {
                                    "NEV": "Csiger Bertalan",
                                    "SZALLAS_NEV": "Hotel Három Hattyú",
                                    "CIM": "8623 Balatonföldvár, Rákóczi Ferenc út 45."
                                },
                                {
                                    "NEV": "Tóth Anikó",
                                    "SZALLAS_NEV": "Hotel Három Hattyú",
                                    "CIM": "8623 Balatonföldvár, Rákóczi Ferenc út 45."
                                },
                                {
                                    "NEV": "Bieniek Ádám",
                                    "SZALLAS_NEV": "Lagúna Hotel",
                                    "CIM": "1097 Budapest, Albert Flórián út 3"
                                },
                                {
                                    "NEV": "Kelemen Áron",
                                    "SZALLAS_NEV": "Lagúna Hotel",
                                    "CIM": "1097 Budapest, Albert Flórián út 3"
                                },
                                {
                                    "NEV": "Czérna Krisztián",
                                    "SZALLAS_NEV": "Hotel Három Hattyú",
                                    "CIM": "8623 Balatonföldvár, Rákóczi Ferenc út 45."
                                },
                                {
                                    "NEV": "Oroszi György",
                                    "SZALLAS_NEV": "Hotel Három Hattyú",
                                    "CIM": "8623 Balatonföldvár, Rákóczi Ferenc út 45."
                                },
                                {
                                    "NEV": "Gyuris József",
                                    "SZALLAS_NEV": "Hotel Három Hattyú",
                                    "CIM": "8623 Balatonföldvár, Rákóczi Ferenc út 45."
                                },
                                {
                                    "NEV": "Sobják Dávid",
                                    "SZALLAS_NEV": "Lagúna Hotel",
                                    "CIM": "1097 Budapest, Albert Flórián út 3"
                                },
                                {
                                    "NEV": "Fülöp Eszter",
                                    "SZALLAS_NEV": "Hotel Három Hattyú",
                                    "CIM": "8623 Balatonföldvár, Rákóczi Ferenc út 45."
                                },
                                {
                                    "NEV": "Szűcs Balázs",
                                    "SZALLAS_NEV": "Lagúna Hotel",
                                    "CIM": "1097 Budapest, Albert Flórián út 3"
                                },
                                {
                                    "NEV": "Kozma Péter",
                                    "SZALLAS_NEV": "Hotel Három Hattyú",
                                    "CIM": "8623 Balatonföldvár, Rákóczi Ferenc út 45."
                                },
                                {
                                    "NEV": "Mile Norbert",
                                    "SZALLAS_NEV": "Hotel Három Hattyú",
                                    "CIM": "8623 Balatonföldvár, Rákóczi Ferenc út 45."
                                },
                                {
                                    "NEV": "Horváth Krisztina",
                                    "SZALLAS_NEV": "Kentaur Hotel",
                                    "CIM": "8600 Siófok (Széplak), Akácfa utca 1"
                                },
                                {
                                    "NEV": "Szűcs Norbert",
                                    "SZALLAS_NEV": "Gold Hotel",
                                    "CIM": "1016 Budapest, Hegyalja út 12"
                                },
                                {
                                    "NEV": "Tóth Júlia",
                                    "SZALLAS_NEV": "Kentaur Hotel",
                                    "CIM": "8600 Siófok (Széplak), Akácfa utca 1"
                                },
                                {
                                    "NEV": "Keszler Dániel",
                                    "SZALLAS_NEV": "Kentaur Hotel",
                                    "CIM": "8600 Siófok (Széplak), Akácfa utca 1"
                                },
                                {
                                    "NEV": "Kardos Renáta",
                                    "SZALLAS_NEV": "Fortuna Panzió",
                                    "CIM": "5900 Orosháza, Gyopárosfürdő Tópart utca 3."
                                },
                                {
                                    "NEV": "Kalacsi Márton",
                                    "SZALLAS_NEV": "Kentaur Hotel",
                                    "CIM": "8600 Siófok (Széplak), Akácfa utca 1"
                                },
                                {
                                    "NEV": "Jakab Áron",
                                    "SZALLAS_NEV": "Kentaur Hotel",
                                    "CIM": "8600 Siófok (Széplak), Akácfa utca 1"
                                },
                                {
                                    "NEV": "Horváth Katalin",
                                    "SZALLAS_NEV": "Gold Hotel",
                                    "CIM": "1016 Budapest, Hegyalja út 12"
                                },
                                {
                                    "NEV": "Baráth Mária",
                                    "SZALLAS_NEV": "Gold Hotel",
                                    "CIM": "1016 Budapest, Hegyalja út 12"
                                },
                                {
                                    "NEV": "Simon Bernadett",
                                    "SZALLAS_NEV": "Fortuna panzió",
                                    "CIM": "1019 Budapest XIV. Cinkotai út 86."
                                },
                                {
                                    "NEV": "Opra Attila",
                                    "SZALLAS_NEV": "Gold Hotel",
                                    "CIM": "1016 Budapest, Hegyalja út 12"
                                },
                                {
                                    "NEV": "Mohos Mónika",
                                    "SZALLAS_NEV": "Kentaur Hotel",
                                    "CIM": "8600 Siófok (Széplak), Akácfa utca 1"
                                },
                                {
                                    "NEV": "Bárci Gusztáv",
                                    "SZALLAS_NEV": "Gold Hotel",
                                    "CIM": "1016 Budapest, Hegyalja út 12"
                                },
                                {
                                    "NEV": "Nagy Gabriella",
                                    "SZALLAS_NEV": "Fortuna panzió",
                                    "CIM": "1019 Budapest XIV. Cinkotai út 86."
                                },
                                {
                                    "NEV": "Szalai Péter",
                                    "SZALLAS_NEV": "Kentaur Hotel",
                                    "CIM": "8600 Siófok (Széplak), Akácfa utca 1"
                                },
                                {
                                    "NEV": "Barabás Pál",
                                    "SZALLAS_NEV": "Fortuna Panzió",
                                    "CIM": "5900 Orosháza, Gyopárosfürdő Tópart utca 3."
                                },
                                {
                                    "NEV": "Hamvay-Kovács Anita",
                                    "SZALLAS_NEV": "Fortuna Panzió",
                                    "CIM": "5900 Orosháza, Gyopárosfürdő Tópart utca 3."
                                },
                                {
                                    "NEV": "Mohos Mónika",
                                    "SZALLAS_NEV": "Kentaur Hotel",
                                    "CIM": "8600 Siófok (Széplak), Akácfa utca 1"
                                },
                                {
                                    "NEV": "Ötvös Árpád",
                                    "SZALLAS_NEV": "Kentaur Hotel",
                                    "CIM": "8600 Siófok (Széplak), Akácfa utca 1"
                                },
                                {
                                    "NEV": "Sobják Dávid",
                                    "SZALLAS_NEV": "Fortuna Panzió",
                                    "CIM": "5900 Orosháza, Gyopárosfürdő Tópart utca 3."
                                },
                                {
                                    "NEV": "Molnár Zsófi",
                                    "SZALLAS_NEV": "Fortuna Panzió",
                                    "CIM": "5900 Orosháza, Gyopárosfürdő Tópart utca 3."
                                },
                                {
                                    "NEV": "Antal Tamás",
                                    "SZALLAS_NEV": "Kentaur Hotel",
                                    "CIM": "8600 Siófok (Széplak), Akácfa utca 1"
                                },
                                {
                                    "NEV": "Baróti Attila",
                                    "SZALLAS_NEV": "Jáde panzió",
                                    "CIM": "8624 Balatonföldvár, Kiss u.2."
                                },
                                {
                                    "NEV": "Csiger Bertalan",
                                    "SZALLAS_NEV": "Fortuna Panzió",
                                    "CIM": "5900 Orosháza, Gyopárosfürdő Tópart utca 3."
                                },
                                {
                                    "NEV": "Horváth Árpád",
                                    "SZALLAS_NEV": "Fortuna panzió",
                                    "CIM": "1019 Budapest XIV. Cinkotai út 86."
                                },
                                {
                                    "NEV": "Szirmai Renáta",
                                    "SZALLAS_NEV": "Fortuna panzió",
                                    "CIM": "1019 Budapest XIV. Cinkotai út 86."
                                },
                                {
                                    "NEV": "Harangozó János",
                                    "SZALLAS_NEV": "Gold Hotel",
                                    "CIM": "1016 Budapest, Hegyalja út 12"
                                },
                                {
                                    "NEV": "Nagy Gabriella",
                                    "SZALLAS_NEV": "Fortuna Panzió",
                                    "CIM": "5900 Orosháza, Gyopárosfürdő Tópart utca 3."
                                },
                                {
                                    "NEV": "Palágyi Polla",
                                    "SZALLAS_NEV": "Gold Hotel",
                                    "CIM": "1016 Budapest, Hegyalja út 12"
                                },
                                {
                                    "NEV": "Tóth Anikó",
                                    "SZALLAS_NEV": "Jáde panzió",
                                    "CIM": "8624 Balatonföldvár, Kiss u.2."
                                },
                                {
                                    "NEV": "Rácz Dániel",
                                    "SZALLAS_NEV": "Kentaur Hotel",
                                    "CIM": "8600 Siófok (Széplak), Akácfa utca 1"
                                },
                                {
                                    "NEV": "Bozsik Balázs",
                                    "SZALLAS_NEV": "Fortuna Panzió",
                                    "CIM": "5900 Orosháza, Gyopárosfürdő Tópart utca 3."
                                },
                                {
                                    "NEV": "Szalai Szilárd",
                                    "SZALLAS_NEV": "Gold Hotel",
                                    "CIM": "1016 Budapest, Hegyalja út 12"
                                },
                                {
                                    "NEV": "Tóth András",
                                    "SZALLAS_NEV": "Gold Hotel",
                                    "CIM": "1016 Budapest, Hegyalja út 12"
                                },
                                {
                                    "NEV": "Kerényi Beatrix",
                                    "SZALLAS_NEV": "Kentaur Hotel",
                                    "CIM": "8600 Siófok (Széplak), Akácfa utca 1"
                                },
                                {
                                    "NEV": "Szedlár Krisztina",
                                    "SZALLAS_NEV": "Gold Hotel",
                                    "CIM": "1016 Budapest, Hegyalja út 12"
                                },
                                {
                                    "NEV": "Fő Nándor",
                                    "SZALLAS_NEV": "Gold Hotel",
                                    "CIM": "1016 Budapest, Hegyalja út 12"
                                },
                                {
                                    "NEV": "Barkóci Ádám",
                                    "SZALLAS_NEV": "Kentaur Hotel",
                                    "CIM": "8600 Siófok (Széplak), Akácfa utca 1"
                                },
                                {
                                    "NEV": "Nagy Gabriella",
                                    "SZALLAS_NEV": "Kentaur Hotel",
                                    "CIM": "8600 Siófok (Széplak), Akácfa utca 1"
                                },
                                {
                                    "NEV": "Miklós Szabolcs",
                                    "SZALLAS_NEV": "Gold Hotel",
                                    "CIM": "1016 Budapest, Hegyalja út 12"
                                },
                                {
                                    "NEV": "Tankó Veronika",
                                    "SZALLAS_NEV": "Gold Hotel",
                                    "CIM": "1016 Budapest, Hegyalja út 12"
                                },
                                {
                                    "NEV": "Balogh Eszter",
                                    "SZALLAS_NEV": "Fortuna panzió",
                                    "CIM": "1019 Budapest XIV. Cinkotai út 86."
                                },
                                {
                                    "NEV": "Kuruc Emese",
                                    "SZALLAS_NEV": "Gold Hotel",
                                    "CIM": "1016 Budapest, Hegyalja út 12"
                                },
                                {
                                    "NEV": "Gyuris József",
                                    "SZALLAS_NEV": "Kentaur Hotel",
                                    "CIM": "8600 Siófok (Széplak), Akácfa utca 1"
                                },
                                {
                                    "NEV": "Kertész Katalin",
                                    "SZALLAS_NEV": "Gold Hotel",
                                    "CIM": "1016 Budapest, Hegyalja út 12"
                                },
                                {
                                    "NEV": "Gyárfás Krisztina",
                                    "SZALLAS_NEV": "Jáde panzió",
                                    "CIM": "8624 Balatonföldvár, Kiss u.2."
                                },
                                {
                                    "NEV": "Fülöp Eszter",
                                    "SZALLAS_NEV": "Jáde panzió",
                                    "CIM": "8624 Balatonföldvár, Kiss u.2."
                                },
                                {
                                    "NEV": "Nádudvari Henrik",
                                    "SZALLAS_NEV": "Fortuna panzió",
                                    "CIM": "1019 Budapest XIV. Cinkotai út 86."
                                },
                                {
                                    "NEV": "Orbán Bernadett",
                                    "SZALLAS_NEV": "Kentaur Hotel",
                                    "CIM": "8600 Siófok (Széplak), Akácfa utca 1"
                                },
                                {
                                    "NEV": "Molnár András",
                                    "SZALLAS_NEV": "Fortuna panzió",
                                    "CIM": "1019 Budapest XIV. Cinkotai út 86."
                                },
                                {
                                    "NEV": "Kornseé Gyöngyi",
                                    "SZALLAS_NEV": "Gold Hotel",
                                    "CIM": "1016 Budapest, Hegyalja út 12"
                                },
                                {
                                    "NEV": "Neizer Andrea",
                                    "SZALLAS_NEV": "Kentaur Hotel",
                                    "CIM": "8600 Siófok (Széplak), Akácfa utca 1"
                                },
                                {
                                    "NEV": "Nagy Sándor",
                                    "SZALLAS_NEV": "Kentaur Hotel",
                                    "CIM": "8600 Siófok (Széplak), Akácfa utca 1"
                                },
                                {
                                    "NEV": "Vörös Dániel",
                                    "SZALLAS_NEV": "Kentaur Hotel",
                                    "CIM": "8600 Siófok (Széplak), Akácfa utca 1"
                                },
                                {
                                    "NEV": "Frank Fruzsina",
                                    "SZALLAS_NEV": "Gold Hotel",
                                    "CIM": "1016 Budapest, Hegyalja út 12"
                                },
                                {
                                    "NEV": "Bagóczki Alexandra",
                                    "SZALLAS_NEV": "Kentaur Hotel",
                                    "CIM": "8600 Siófok (Széplak), Akácfa utca 1"
                                },
                                {
                                    "NEV": "Kovács Katalin",
                                    "SZALLAS_NEV": "Kentaur Hotel",
                                    "CIM": "8600 Siófok (Széplak), Akácfa utca 1"
                                },
                                {
                                    "NEV": "Bakódy Balázs",
                                    "SZALLAS_NEV": "Fortuna panzió",
                                    "CIM": "1019 Budapest XIV. Cinkotai út 86."
                                },
                                {
                                    "NEV": "Molnár Bálint",
                                    "SZALLAS_NEV": "Fortuna panzió",
                                    "CIM": "1019 Budapest XIV. Cinkotai út 86."
                                },
                                {
                                    "NEV": "Ambrus Dávid",
                                    "SZALLAS_NEV": "Fortuna panzió",
                                    "CIM": "1019 Budapest XIV. Cinkotai út 86."
                                },
                                {
                                    "NEV": "Vörös Dániel",
                                    "SZALLAS_NEV": "Kentaur Hotel",
                                    "CIM": "8600 Siófok (Széplak), Akácfa utca 1"
                                },
                                {
                                    "NEV": "Nagymihály Lajos",
                                    "SZALLAS_NEV": "Gold Hotel",
                                    "CIM": "1016 Budapest, Hegyalja út 12"
                                },
                                {
                                    "NEV": "Koza Máté",
                                    "SZALLAS_NEV": "Kentaur Hotel",
                                    "CIM": "8600 Siófok (Széplak), Akácfa utca 1"
                                },
                                {
                                    "NEV": "Tóth Zoltán",
                                    "SZALLAS_NEV": "Kentaur Hotel",
                                    "CIM": "8600 Siófok (Széplak), Akácfa utca 1"
                                },
                                {
                                    "NEV": "Mogyródi Krisztián",
                                    "SZALLAS_NEV": "Kentaur Hotel",
                                    "CIM": "8600 Siófok (Széplak), Akácfa utca 1"
                                },
                                {
                                    "NEV": "Barta Zsuzsanna",
                                    "SZALLAS_NEV": "Fortuna Panzió",
                                    "CIM": "5900 Orosháza, Gyopárosfürdő Tópart utca 3."
                                },
                                {
                                    "NEV": "Horváth Ágnes",
                                    "SZALLAS_NEV": "Gold Hotel",
                                    "CIM": "1016 Budapest, Hegyalja út 12"
                                },
                                {
                                    "NEV": "Gondos Katalin",
                                    "SZALLAS_NEV": "Kentaur Hotel",
                                    "CIM": "8600 Siófok (Széplak), Akácfa utca 1"
                                },
                                {
                                    "NEV": "Bieniek Ádám",
                                    "SZALLAS_NEV": "Fortuna panzió",
                                    "CIM": "1019 Budapest XIV. Cinkotai út 86."
                                },
                                {
                                    "NEV": "Bagóczki Alexandra",
                                    "SZALLAS_NEV": "Fortuna panzió",
                                    "CIM": "1019 Budapest XIV. Cinkotai út 86."
                                },
                                {
                                    "NEV": "Maródi Andrea",
                                    "SZALLAS_NEV": "Gold Hotel",
                                    "CIM": "1016 Budapest, Hegyalja út 12"
                                },
                                {
                                    "NEV": "Szilágyi Mátyás",
                                    "SZALLAS_NEV": "Gold Hotel",
                                    "CIM": "1016 Budapest, Hegyalja út 12"
                                },
                                {
                                    "NEV": "Giliga János",
                                    "SZALLAS_NEV": "Kentaur Hotel",
                                    "CIM": "8600 Siófok (Széplak), Akácfa utca 1"
                                },
                                {
                                    "NEV": "Nagymihály Lajos",
                                    "SZALLAS_NEV": "Fortuna Panzió",
                                    "CIM": "5900 Orosháza, Gyopárosfürdő Tópart utca 3."
                                },
                                {
                                    "NEV": "Gyuris József",
                                    "SZALLAS_NEV": "Kentaur Hotel",
                                    "CIM": "8600 Siófok (Széplak), Akácfa utca 1"
                                },
                                {
                                    "NEV": "Back András",
                                    "SZALLAS_NEV": "Gold Hotel",
                                    "CIM": "1016 Budapest, Hegyalja út 12"
                                },
                                {
                                    "NEV": "Móricz Árpád",
                                    "SZALLAS_NEV": "Gold Hotel",
                                    "CIM": "1016 Budapest, Hegyalja út 12"
                                },
                                {
                                    "NEV": "Fülöp Eszter",
                                    "SZALLAS_NEV": "Gold Hotel",
                                    "CIM": "1016 Budapest, Hegyalja út 12"
                                },
                                {
                                    "NEV": "Czérna Krisztián",
                                    "SZALLAS_NEV": "Gold Hotel",
                                    "CIM": "1016 Budapest, Hegyalja út 12"
                                },
                                {
                                    "NEV": "Kovács Katalin",
                                    "SZALLAS_NEV": "Gold Hotel",
                                    "CIM": "1016 Budapest, Hegyalja út 12"
                                },
                                {
                                    "NEV": "Bíró Ákos",
                                    "SZALLAS_NEV": "Kentaur Hotel",
                                    "CIM": "8600 Siófok (Széplak), Akácfa utca 1"
                                },
                                {
                                    "NEV": "Sobják Dávid",
                                    "SZALLAS_NEV": "Gold Hotel",
                                    "CIM": "1016 Budapest, Hegyalja út 12"
                                },
                                {
                                    "NEV": "Barna Zoltán",
                                    "SZALLAS_NEV": "Jáde panzió",
                                    "CIM": "8624 Balatonföldvár, Kiss u.2."
                                },
                                {
                                    "NEV": "Bozsik Balázs",
                                    "SZALLAS_NEV": "Gold Hotel",
                                    "CIM": "1016 Budapest, Hegyalja út 12"
                                },
                                {
                                    "NEV": "Orbán Bernadett",
                                    "SZALLAS_NEV": "Fortuna panzió",
                                    "CIM": "1019 Budapest XIV. Cinkotai út 86."
                                },
                                {
                                    "NEV": "Kelemen Áron",
                                    "SZALLAS_NEV": "Kentaur Hotel",
                                    "CIM": "8600 Siófok (Széplak), Akácfa utca 1"
                                },
                                {
                                    "NEV": "Molnár Bálint",
                                    "SZALLAS_NEV": "Gold Hotel",
                                    "CIM": "1016 Budapest, Hegyalja út 12"
                                },
                                {
                                    "NEV": "Szalai Péter",
                                    "SZALLAS_NEV": "Kentaur Hotel",
                                    "CIM": "8600 Siófok (Széplak), Akácfa utca 1"
                                },
                                {
                                    "NEV": "Boros Vivien",
                                    "SZALLAS_NEV": "Kentaur Hotel",
                                    "CIM": "8600 Siófok (Széplak), Akácfa utca 1"
                                },
                                {
                                    "NEV": "Ötvös Árpád",
                                    "SZALLAS_NEV": "Gold Hotel",
                                    "CIM": "1016 Budapest, Hegyalja út 12"
                                },
                                {
                                    "NEV": "Horváth Katalin",
                                    "SZALLAS_NEV": "Fortuna panzió",
                                    "CIM": "1019 Budapest XIV. Cinkotai út 86."
                                },
                                {
                                    "NEV": "Kazy Tihamér",
                                    "SZALLAS_NEV": "Kentaur Hotel",
                                    "CIM": "8600 Siófok (Széplak), Akácfa utca 1"
                                },
                                {
                                    "NEV": "Farkas Sára",
                                    "SZALLAS_NEV": "Gold Hotel",
                                    "CIM": "1016 Budapest, Hegyalja út 12"
                                },
                                {
                                    "NEV": "Hídasi Judit",
                                    "SZALLAS_NEV": "Kentaur Hotel",
                                    "CIM": "8600 Siófok (Széplak), Akácfa utca 1"
                                },
                                {
                                    "NEV": "Szilágyi Mátyás",
                                    "SZALLAS_NEV": "Fortuna panzió",
                                    "CIM": "1019 Budapest XIV. Cinkotai út 86."
                                },
                                {
                                    "NEV": "Szekendi Beatrix",
                                    "SZALLAS_NEV": "Fortuna panzió",
                                    "CIM": "1019 Budapest XIV. Cinkotai út 86."
                                },
                                {
                                    "NEV": "Endresz Bálint",
                                    "SZALLAS_NEV": "Kentaur Hotel",
                                    "CIM": "8600 Siófok (Széplak), Akácfa utca 1"
                                },
                                {
                                    "NEV": "Csóti Attila",
                                    "SZALLAS_NEV": "Gold Hotel",
                                    "CIM": "1016 Budapest, Hegyalja út 12"
                                },
                                {
                                    "NEV": "Ferencz Roland",
                                    "SZALLAS_NEV": "Kentaur Hotel",
                                    "CIM": "8600 Siófok (Széplak), Akácfa utca 1"
                                },
                                {
                                    "NEV": "Szűcs Norbert",
                                    "SZALLAS_NEV": "Kentaur Hotel",
                                    "CIM": "8600 Siófok (Széplak), Akácfa utca 1"
                                },
                                {
                                    "NEV": "Frank Fruzsina",
                                    "SZALLAS_NEV": "Kentaur Hotel",
                                    "CIM": "8600 Siófok (Széplak), Akácfa utca 1"
                                },
                                {
                                    "NEV": "Kovács Bernadett",
                                    "SZALLAS_NEV": "Kentaur Hotel",
                                    "CIM": "8600 Siófok (Széplak), Akácfa utca 1"
                                },
                                {
                                    "NEV": "Boros Vivien",
                                    "SZALLAS_NEV": "Gold Hotel",
                                    "CIM": "1016 Budapest, Hegyalja út 12"
                                },
                                {
                                    "NEV": "Molnár Bálint",
                                    "SZALLAS_NEV": "Kentaur Hotel",
                                    "CIM": "8600 Siófok (Széplak), Akácfa utca 1"
                                },
                                {
                                    "NEV": "Horváth Árpád",
                                    "SZALLAS_NEV": "Fortuna panzió",
                                    "CIM": "1019 Budapest XIV. Cinkotai út 86."
                                },
                                {
                                    "NEV": "Dusha Tímea",
                                    "SZALLAS_NEV": "Fortuna panzió",
                                    "CIM": "1019 Budapest XIV. Cinkotai út 86."
                                },
                                {
                                    "NEV": "Turcsik Tünde",
                                    "SZALLAS_NEV": "Jáde panzió",
                                    "CIM": "8624 Balatonföldvár, Kiss u.2."
                                },
                                {
                                    "NEV": "Farkas Béla",
                                    "SZALLAS_NEV": "Gold Hotel",
                                    "CIM": "1016 Budapest, Hegyalja út 12"
                                },
                                {
                                    "NEV": "Farkas Sára",
                                    "SZALLAS_NEV": "Fortuna panzió",
                                    "CIM": "1019 Budapest XIV. Cinkotai út 86."
                                },
                                {
                                    "NEV": "Botka Mátyás",
                                    "SZALLAS_NEV": "Gold Hotel",
                                    "CIM": "1016 Budapest, Hegyalja út 12"
                                },
                                {
                                    "NEV": "Nagy Sándor",
                                    "SZALLAS_NEV": "Kentaur Hotel",
                                    "CIM": "8600 Siófok (Széplak), Akácfa utca 1"
                                },
                                {
                                    "NEV": "Gergely József",
                                    "SZALLAS_NEV": "Kentaur Hotel",
                                    "CIM": "8600 Siófok (Széplak), Akácfa utca 1"
                                },
                                {
                                    "NEV": "Balla Miklós",
                                    "SZALLAS_NEV": "Fortuna panzió",
                                    "CIM": "1019 Budapest XIV. Cinkotai út 86."
                                },
                                {
                                    "NEV": "Balogh Eszter",
                                    "SZALLAS_NEV": "Kentaur Hotel",
                                    "CIM": "8600 Siófok (Széplak), Akácfa utca 1"
                                },
                                {
                                    "NEV": "Bakódy Balázs",
                                    "SZALLAS_NEV": "Gold Hotel",
                                    "CIM": "1016 Budapest, Hegyalja út 12"
                                },
                                {
                                    "NEV": "Kertész Katalin",
                                    "SZALLAS_NEV": "Gold Hotel",
                                    "CIM": "1016 Budapest, Hegyalja út 12"
                                },
                                {
                                    "NEV": "Vukasinovity Bálint",
                                    "SZALLAS_NEV": "Kentaur Hotel",
                                    "CIM": "8600 Siófok (Széplak), Akácfa utca 1"
                                },
                                {
                                    "NEV": "Horváth Árpád",
                                    "SZALLAS_NEV": "Gold Hotel",
                                    "CIM": "1016 Budapest, Hegyalja út 12"
                                },
                                {
                                    "NEV": "Mile Norbert",
                                    "SZALLAS_NEV": "Kentaur Hotel",
                                    "CIM": "8600 Siófok (Széplak), Akácfa utca 1"
                                },
                                {
                                    "NEV": "Kornseé Gyöngyi",
                                    "SZALLAS_NEV": "Fortuna panzió",
                                    "CIM": "1019 Budapest XIV. Cinkotai út 86."
                                },
                                {
                                    "NEV": "Balogh Eszter",
                                    "SZALLAS_NEV": "Gold Hotel",
                                    "CIM": "1016 Budapest, Hegyalja út 12"
                                },
                                {
                                    "NEV": "Back András",
                                    "SZALLAS_NEV": "Gold Hotel",
                                    "CIM": "1016 Budapest, Hegyalja út 12"
                                },
                                {
                                    "NEV": "Pálinkás János",
                                    "SZALLAS_NEV": "Kentaur Hotel",
                                    "CIM": "8600 Siófok (Széplak), Akácfa utca 1"
                                },
                                {
                                    "NEV": "Pálinkás János",
                                    "SZALLAS_NEV": "Gold Hotel",
                                    "CIM": "1016 Budapest, Hegyalja út 12"
                                },
                                {
                                    "NEV": "Szedlár Krisztina",
                                    "SZALLAS_NEV": "Jáde panzió",
                                    "CIM": "8624 Balatonföldvár, Kiss u.2."
                                },
                                {
                                    "NEV": "Vajda József",
                                    "SZALLAS_NEV": "Kentaur Hotel",
                                    "CIM": "8600 Siófok (Széplak), Akácfa utca 1"
                                },
                                {
                                    "NEV": "Komjáti András",
                                    "SZALLAS_NEV": "Gold Hotel",
                                    "CIM": "1016 Budapest, Hegyalja út 12"
                                },
                                {
                                    "NEV": "Keszler Dániel",
                                    "SZALLAS_NEV": "Fortuna Panzió",
                                    "CIM": "5900 Orosháza, Gyopárosfürdő Tópart utca 3."
                                },
                                {
                                    "NEV": "Vajda József",
                                    "SZALLAS_NEV": "Fortuna panzió",
                                    "CIM": "1019 Budapest XIV. Cinkotai út 86."
                                },
                                {
                                    "NEV": "Csiger Bertalan",
                                    "SZALLAS_NEV": "Kentaur Hotel",
                                    "CIM": "8600 Siófok (Széplak), Akácfa utca 1"
                                },
                                {
                                    "NEV": "Szabó Julianna",
                                    "SZALLAS_NEV": "Gold Hotel",
                                    "CIM": "1016 Budapest, Hegyalja út 12"
                                },
                                {
                                    "NEV": "Dusha Tímea",
                                    "SZALLAS_NEV": "Kentaur Hotel",
                                    "CIM": "8600 Siófok (Széplak), Akácfa utca 1"
                                },
                                {
                                    "NEV": "Kertész Katalin",
                                    "SZALLAS_NEV": "Kentaur Hotel",
                                    "CIM": "8600 Siófok (Széplak), Akácfa utca 1"
                                },
                                {
                                    "NEV": "Bajusz Bence",
                                    "SZALLAS_NEV": "Gold Hotel",
                                    "CIM": "1016 Budapest, Hegyalja út 12"
                                },
                                {
                                    "NEV": "Pusztai Zsuzsanna",
                                    "SZALLAS_NEV": "Kentaur Hotel",
                                    "CIM": "8600 Siófok (Széplak), Akácfa utca 1"
                                },
                                {
                                    "NEV": "Vígh András",
                                    "SZALLAS_NEV": "Kentaur Hotel",
                                    "CIM": "8600 Siófok (Széplak), Akácfa utca 1"
                                },
                                {
                                    "NEV": "Nagy László",
                                    "SZALLAS_NEV": "Gold Hotel",
                                    "CIM": "1016 Budapest, Hegyalja út 12"
                                },
                                {
                                    "NEV": "Soós István",
                                    "SZALLAS_NEV": "Jáde panzió",
                                    "CIM": "8624 Balatonföldvár, Kiss u.2."
                                },
                                {
                                    "NEV": "Dunai Aladár",
                                    "SZALLAS_NEV": "Gold Hotel",
                                    "CIM": "1016 Budapest, Hegyalja út 12"
                                },
                                {
                                    "NEV": "Vörös Dániel",
                                    "SZALLAS_NEV": "Fortuna Panzió",
                                    "CIM": "5900 Orosháza, Gyopárosfürdő Tópart utca 3."
                                },
                                {
                                    "NEV": "Sarodi Dóra",
                                    "SZALLAS_NEV": "Gold Hotel",
                                    "CIM": "1016 Budapest, Hegyalja út 12"
                                },
                                {
                                    "NEV": "Szomor Andrea",
                                    "SZALLAS_NEV": "Fortuna Panzió",
                                    "CIM": "5900 Orosháza, Gyopárosfürdő Tópart utca 3."
                                },
                                {
                                    "NEV": "Boros Vivien",
                                    "SZALLAS_NEV": "Kentaur Hotel",
                                    "CIM": "8600 Siófok (Széplak), Akácfa utca 1"
                                },
                                {
                                    "NEV": "Kispál Márk",
                                    "SZALLAS_NEV": "Kentaur Hotel",
                                    "CIM": "8600 Siófok (Széplak), Akácfa utca 1"
                                },
                                {
                                    "NEV": "Köves Gábor",
                                    "SZALLAS_NEV": "Fortuna Panzió",
                                    "CIM": "5900 Orosháza, Gyopárosfürdő Tópart utca 3."
                                },
                                {
                                    "NEV": "Gulyás Attila",
                                    "SZALLAS_NEV": "Fortuna Panzió",
                                    "CIM": "5900 Orosháza, Gyopárosfürdő Tópart utca 3."
                                },
                                {
                                    "NEV": "Szűcs Norbert",
                                    "SZALLAS_NEV": "Kentaur Hotel",
                                    "CIM": "8600 Siófok (Széplak), Akácfa utca 1"
                                },
                                {
                                    "NEV": "Bieniek Ádám",
                                    "SZALLAS_NEV": "Kentaur Hotel",
                                    "CIM": "8600 Siófok (Széplak), Akácfa utca 1"
                                },
                                {
                                    "NEV": "Farkas Sándor",
                                    "SZALLAS_NEV": "Kentaur Hotel",
                                    "CIM": "8600 Siófok (Széplak), Akácfa utca 1"
                                },
                                {
                                    "NEV": "Lengyel Ágnes",
                                    "SZALLAS_NEV": "Kentaur Hotel",
                                    "CIM": "8600 Siófok (Széplak), Akácfa utca 1"
                                },
                                {
                                    "NEV": "Feró Valentin",
                                    "SZALLAS_NEV": "Fortuna panzió",
                                    "CIM": "1019 Budapest XIV. Cinkotai út 86."
                                },
                                {
                                    "NEV": "Miklós Szabolcs",
                                    "SZALLAS_NEV": "Gold Hotel",
                                    "CIM": "1016 Budapest, Hegyalja út 12"
                                },
                                {
                                    "NEV": "Nagymihály Csongor",
                                    "SZALLAS_NEV": "Kentaur Hotel",
                                    "CIM": "8600 Siófok (Széplak), Akácfa utca 1"
                                },
                                {
                                    "NEV": "Rácz Dániel",
                                    "SZALLAS_NEV": "Gold Hotel",
                                    "CIM": "1016 Budapest, Hegyalja út 12"
                                },
                                {
                                    "NEV": "Kerényi Beatrix",
                                    "SZALLAS_NEV": "Kentaur Hotel",
                                    "CIM": "8600 Siófok (Széplak), Akácfa utca 1"
                                },
                                {
                                    "NEV": "Baráth Mária",
                                    "SZALLAS_NEV": "Kentaur Hotel",
                                    "CIM": "8600 Siófok (Széplak), Akácfa utca 1"
                                },
                                {
                                    "NEV": "Szedlár Krisztina",
                                    "SZALLAS_NEV": "Gold Hotel",
                                    "CIM": "1016 Budapest, Hegyalja út 12"
                                },
                                {
                                    "NEV": "Mohos Mónika",
                                    "SZALLAS_NEV": "Gold Hotel",
                                    "CIM": "1016 Budapest, Hegyalja út 12"
                                },
                                {
                                    "NEV": "Móricz Árpád",
                                    "SZALLAS_NEV": "Kentaur Hotel",
                                    "CIM": "8600 Siófok (Széplak), Akácfa utca 1"
                                },
                                {
                                    "NEV": "Nagy Júlia",
                                    "SZALLAS_NEV": "Kentaur Hotel",
                                    "CIM": "8600 Siófok (Széplak), Akácfa utca 1"
                                },
                                {
                                    "NEV": "Perlinger Éva",
                                    "SZALLAS_NEV": "Kentaur Hotel",
                                    "CIM": "8600 Siófok (Széplak), Akácfa utca 1"
                                },
                                {
                                    "NEV": "Gombos Tibor",
                                    "SZALLAS_NEV": "Gold Hotel",
                                    "CIM": "1016 Budapest, Hegyalja út 12"
                                },
                                {
                                    "NEV": "Kelemen Áron",
                                    "SZALLAS_NEV": "Gold Hotel",
                                    "CIM": "1016 Budapest, Hegyalja út 12"
                                },
                                {
                                    "NEV": "Jakab Áron",
                                    "SZALLAS_NEV": "Gold Hotel",
                                    "CIM": "1016 Budapest, Hegyalja út 12"
                                },
                                {
                                    "NEV": "Balogh Eszter",
                                    "SZALLAS_NEV": "Kentaur Hotel",
                                    "CIM": "8600 Siófok (Széplak), Akácfa utca 1"
                                },
                                {
                                    "NEV": "Farkas Béla",
                                    "SZALLAS_NEV": "Gold Hotel",
                                    "CIM": "1016 Budapest, Hegyalja út 12"
                                },
                                {
                                    "NEV": "Szűcs Balázs",
                                    "SZALLAS_NEV": "Kentaur Hotel",
                                    "CIM": "8600 Siófok (Széplak), Akácfa utca 1"
                                },
                                {
                                    "NEV": "Fő Nándor",
                                    "SZALLAS_NEV": "Gold Hotel",
                                    "CIM": "1016 Budapest, Hegyalja út 12"
                                },
                                {
                                    "NEV": "Pataki Brigitta",
                                    "SZALLAS_NEV": "Fortuna Panzió",
                                    "CIM": "5900 Orosháza, Gyopárosfürdő Tópart utca 3."
                                },
                                {
                                    "NEV": "Kovács Bernadett",
                                    "SZALLAS_NEV": "Kentaur Hotel",
                                    "CIM": "8600 Siófok (Széplak), Akácfa utca 1"
                                },
                                {
                                    "NEV": "Barna Zoltán",
                                    "SZALLAS_NEV": "Gold Hotel",
                                    "CIM": "1016 Budapest, Hegyalja út 12"
                                },
                                {
                                    "NEV": "Opra Attila",
                                    "SZALLAS_NEV": "Gold Hotel",
                                    "CIM": "1016 Budapest, Hegyalja út 12"
                                },
                                {
                                    "NEV": "Neizer Andrea",
                                    "SZALLAS_NEV": "Kentaur Hotel",
                                    "CIM": "8600 Siófok (Széplak), Akácfa utca 1"
                                },
                                {
                                    "NEV": "Hegedűs Norbert",
                                    "SZALLAS_NEV": "Kentaur Hotel",
                                    "CIM": "8600 Siófok (Széplak), Akácfa utca 1"
                                },
                                {
                                    "NEV": "Juhász Mihály",
                                    "SZALLAS_NEV": "Kentaur Hotel",
                                    "CIM": "8600 Siófok (Széplak), Akácfa utca 1"
                                },
                                {
                                    "NEV": "Érsek Eszter",
                                    "SZALLAS_NEV": "Fortuna panzió",
                                    "CIM": "1019 Budapest XIV. Cinkotai út 86."
                                },
                                {
                                    "NEV": "Ambrus Dávid",
                                    "SZALLAS_NEV": "Fortuna Panzió",
                                    "CIM": "5900 Orosháza, Gyopárosfürdő Tópart utca 3."
                                },
                                {
                                    "NEV": "Simon Anikó",
                                    "SZALLAS_NEV": "Gold Hotel",
                                    "CIM": "1016 Budapest, Hegyalja út 12"
                                },
                                {
                                    "NEV": "Kardos Renáta",
                                    "SZALLAS_NEV": "Kentaur Hotel",
                                    "CIM": "8600 Siófok (Széplak), Akácfa utca 1"
                                },
                                {
                                    "NEV": "Horváth Ágnes",
                                    "SZALLAS_NEV": "Kentaur Hotel",
                                    "CIM": "8600 Siófok (Széplak), Akácfa utca 1"
                                },
                                {
                                    "NEV": "Szabó Julianna",
                                    "SZALLAS_NEV": "Kentaur Hotel",
                                    "CIM": "8600 Siófok (Széplak), Akácfa utca 1"
                                },
                                {
                                    "NEV": "Gulyás Attila",
                                    "SZALLAS_NEV": "Jáde panzió",
                                    "CIM": "8624 Balatonföldvár, Kiss u.2."
                                },
                                {
                                    "NEV": "Zatykó Katalin",
                                    "SZALLAS_NEV": "Fortuna Panzió",
                                    "CIM": "5900 Orosháza, Gyopárosfürdő Tópart utca 3."
                                },
                                {
                                    "NEV": "Barna Debóra",
                                    "SZALLAS_NEV": "Fortuna panzió",
                                    "CIM": "1019 Budapest XIV. Cinkotai út 86."
                                },
                                {
                                    "NEV": "Tari Szilvia",
                                    "SZALLAS_NEV": "Fortuna Panzió",
                                    "CIM": "5900 Orosháza, Gyopárosfürdő Tópart utca 3."
                                },
                                {
                                    "NEV": "Miklós Szabolcs",
                                    "SZALLAS_NEV": "Kentaur Hotel",
                                    "CIM": "8600 Siófok (Széplak), Akácfa utca 1"
                                },
                                {
                                    "NEV": "Mile Norbert",
                                    "SZALLAS_NEV": "Gold Hotel",
                                    "CIM": "1016 Budapest, Hegyalja út 12"
                                },
                                {
                                    "NEV": "Kardos Renáta",
                                    "SZALLAS_NEV": "Gold Hotel",
                                    "CIM": "1016 Budapest, Hegyalja út 12"
                                },
                                {
                                    "NEV": "Vajda Zsuzsa",
                                    "SZALLAS_NEV": "Kentaur Hotel",
                                    "CIM": "8600 Siófok (Széplak), Akácfa utca 1"
                                },
                                {
                                    "NEV": "Simon Bernadett",
                                    "SZALLAS_NEV": "Fortuna Panzió",
                                    "CIM": "5900 Orosháza, Gyopárosfürdő Tópart utca 3."
                                },
                                {
                                    "NEV": "Barna Zoltán",
                                    "SZALLAS_NEV": "Gold Hotel",
                                    "CIM": "1016 Budapest, Hegyalja út 12"
                                },
                                {
                                    "NEV": "Tari Szilvia",
                                    "SZALLAS_NEV": "Kentaur Hotel",
                                    "CIM": "8600 Siófok (Széplak), Akácfa utca 1"
                                },
                                {
                                    "NEV": "Barna Zoltán",
                                    "SZALLAS_NEV": "Gold Hotel",
                                    "CIM": "1016 Budapest, Hegyalja út 12"
                                },
                                {
                                    "NEV": "Horváth Nikolett",
                                    "SZALLAS_NEV": "Jáde panzió",
                                    "CIM": "8624 Balatonföldvár, Kiss u.2."
                                },
                                {
                                    "NEV": "Bajusz Bence",
                                    "SZALLAS_NEV": "Kentaur Hotel",
                                    "CIM": "8600 Siófok (Széplak), Akácfa utca 1"
                                },
                                {
                                    "NEV": "Farkas Sándor",
                                    "SZALLAS_NEV": "Gold Hotel",
                                    "CIM": "1016 Budapest, Hegyalja út 12"
                                },
                                {
                                    "NEV": "Patay Róbert",
                                    "SZALLAS_NEV": "Gold Hotel",
                                    "CIM": "1016 Budapest, Hegyalja út 12"
                                },
                                {
                                    "NEV": "Andor Ibolya",
                                    "SZALLAS_NEV": "Gold Hotel",
                                    "CIM": "1016 Budapest, Hegyalja út 12"
                                },
                                {
                                    "NEV": "Kerényi Beatrix",
                                    "SZALLAS_NEV": "Fortuna panzió",
                                    "CIM": "1019 Budapest XIV. Cinkotai út 86."
                                },
                                {
                                    "NEV": "Iván Róbert",
                                    "SZALLAS_NEV": "Kentaur Hotel",
                                    "CIM": "8600 Siófok (Széplak), Akácfa utca 1"
                                },
                                {
                                    "NEV": "Balogh Eszter",
                                    "SZALLAS_NEV": "Fortuna Panzió",
                                    "CIM": "5900 Orosháza, Gyopárosfürdő Tópart utca 3."
                                },
                                {
                                    "NEV": "Bíró Péter",
                                    "SZALLAS_NEV": "Gold Hotel",
                                    "CIM": "1016 Budapest, Hegyalja út 12"
                                },
                                {
                                    "NEV": "Dániel Tibor",
                                    "SZALLAS_NEV": "Kentaur Hotel",
                                    "CIM": "8600 Siófok (Széplak), Akácfa utca 1"
                                },
                                {
                                    "NEV": "Balogh Eszter",
                                    "SZALLAS_NEV": "Gold Hotel",
                                    "CIM": "1016 Budapest, Hegyalja út 12"
                                },
                                {
                                    "NEV": "Kispál Márk",
                                    "SZALLAS_NEV": "Gold Hotel",
                                    "CIM": "1016 Budapest, Hegyalja út 12"
                                },
                                {
                                    "NEV": "Miklós Szabolcs",
                                    "SZALLAS_NEV": "Kentaur Hotel",
                                    "CIM": "8600 Siófok (Széplak), Akácfa utca 1"
                                },
                                {
                                    "NEV": "Kiss Ádám",
                                    "SZALLAS_NEV": "Kentaur Hotel",
                                    "CIM": "8600 Siófok (Széplak), Akácfa utca 1"
                                },
                                {
                                    "NEV": "Czérna Krisztián",
                                    "SZALLAS_NEV": "Gold Hotel",
                                    "CIM": "1016 Budapest, Hegyalja út 12"
                                },
                                {
                                    "NEV": "Böröcz Anikó",
                                    "SZALLAS_NEV": "Fortuna panzió",
                                    "CIM": "1019 Budapest XIV. Cinkotai út 86."
                                },
                                {
                                    "NEV": "Pivarcsi Anett",
                                    "SZALLAS_NEV": "Kentaur Hotel",
                                    "CIM": "8600 Siófok (Széplak), Akácfa utca 1"
                                },
                                {
                                    "NEV": "Pataki Brigitta",
                                    "SZALLAS_NEV": "Gold Hotel",
                                    "CIM": "1016 Budapest, Hegyalja út 12"
                                },
                                {
                                    "NEV": "Farkas Sára",
                                    "SZALLAS_NEV": "Kentaur Hotel",
                                    "CIM": "8600 Siófok (Széplak), Akácfa utca 1"
                                },
                                {
                                    "NEV": "Pivarcsi Anett",
                                    "SZALLAS_NEV": "Jáde panzió",
                                    "CIM": "8624 Balatonföldvár, Kiss u.2."
                                },
                                {
                                    "NEV": "Ötvös Árpád",
                                    "SZALLAS_NEV": "Fortuna panzió",
                                    "CIM": "1019 Budapest XIV. Cinkotai út 86."
                                },
                                {
                                    "NEV": "Komjáti András",
                                    "SZALLAS_NEV": "Gold Hotel",
                                    "CIM": "1016 Budapest, Hegyalja út 12"
                                },
                                {
                                    "NEV": "Gulyás Attila",
                                    "SZALLAS_NEV": "Fortuna Panzió",
                                    "CIM": "5900 Orosháza, Gyopárosfürdő Tópart utca 3."
                                },
                                {
                                    "NEV": "Nagy László",
                                    "SZALLAS_NEV": "Fortuna panzió",
                                    "CIM": "1019 Budapest XIV. Cinkotai út 86."
                                },
                                {
                                    "NEV": "Farkas Sándor",
                                    "SZALLAS_NEV": "Gold Hotel",
                                    "CIM": "1016 Budapest, Hegyalja út 12"
                                },
                                {
                                    "NEV": "Iván Róbert",
                                    "SZALLAS_NEV": "Gold Hotel",
                                    "CIM": "1016 Budapest, Hegyalja út 12"
                                },
                                {
                                    "NEV": "Komjáti András",
                                    "SZALLAS_NEV": "Gold Hotel",
                                    "CIM": "1016 Budapest, Hegyalja út 12"
                                },
                                {
                                    "NEV": "Szilágyi Mátyás",
                                    "SZALLAS_NEV": "Gold Hotel",
                                    "CIM": "1016 Budapest, Hegyalja út 12"
                                },
                                {
                                    "NEV": "Tari Szilvia",
                                    "SZALLAS_NEV": "Fortuna Panzió",
                                    "CIM": "5900 Orosháza, Gyopárosfürdő Tópart utca 3."
                                },
                                {
                                    "NEV": "Sobják Dávid",
                                    "SZALLAS_NEV": "Kentaur Hotel",
                                    "CIM": "8600 Siófok (Széplak), Akácfa utca 1"
                                },
                                {
                                    "NEV": "Gergely József",
                                    "SZALLAS_NEV": "Gold Hotel",
                                    "CIM": "1016 Budapest, Hegyalja út 12"
                                },
                                {
                                    "NEV": "Enyedi Éva",
                                    "SZALLAS_NEV": "Gold Hotel",
                                    "CIM": "1016 Budapest, Hegyalja út 12"
                                },
                                {
                                    "NEV": "Tóth András",
                                    "SZALLAS_NEV": "Kentaur Hotel",
                                    "CIM": "8600 Siófok (Széplak), Akácfa utca 1"
                                },
                                {
                                    "NEV": "Bíró Ákos",
                                    "SZALLAS_NEV": "Kentaur Hotel",
                                    "CIM": "8600 Siófok (Széplak), Akácfa utca 1"
                                },
                                {
                                    "NEV": "Harangozó János",
                                    "SZALLAS_NEV": "Fortuna Panzió",
                                    "CIM": "5900 Orosháza, Gyopárosfürdő Tópart utca 3."
                                },
                                {
                                    "NEV": "Molnár Eszter",
                                    "SZALLAS_NEV": "Kentaur Hotel",
                                    "CIM": "8600 Siófok (Széplak), Akácfa utca 1"
                                },
                                {
                                    "NEV": "Rácz Rajmond",
                                    "SZALLAS_NEV": "Gold Hotel",
                                    "CIM": "1016 Budapest, Hegyalja út 12"
                                },
                                {
                                    "NEV": "Hamvay-Kovács Anita",
                                    "SZALLAS_NEV": "Kentaur Hotel",
                                    "CIM": "8600 Siófok (Széplak), Akácfa utca 1"
                                },
                                {
                                    "NEV": "Nagy László",
                                    "SZALLAS_NEV": "Jáde panzió",
                                    "CIM": "8624 Balatonföldvár, Kiss u.2."
                                },
                                {
                                    "NEV": "Frank Fruzsina",
                                    "SZALLAS_NEV": "Fortuna Panzió",
                                    "CIM": "5900 Orosháza, Gyopárosfürdő Tópart utca 3."
                                },
                                {
                                    "NEV": "Varsányi Zsuzsa",
                                    "SZALLAS_NEV": "Kentaur Hotel",
                                    "CIM": "8600 Siófok (Széplak), Akácfa utca 1"
                                },
                                {
                                    "NEV": "Ötvös Árpád",
                                    "SZALLAS_NEV": "Kentaur Hotel",
                                    "CIM": "8600 Siófok (Széplak), Akácfa utca 1"
                                },
                                {
                                    "NEV": "Csóti Attila",
                                    "SZALLAS_NEV": "Jáde panzió",
                                    "CIM": "8624 Balatonföldvár, Kiss u.2."
                                },
                                {
                                    "NEV": "Barna Zoltán",
                                    "SZALLAS_NEV": "Gold Hotel",
                                    "CIM": "1016 Budapest, Hegyalja út 12"
                                },
                                {
                                    "NEV": "Tóth András",
                                    "SZALLAS_NEV": "Kentaur Hotel",
                                    "CIM": "8600 Siófok (Széplak), Akácfa utca 1"
                                },
                                {
                                    "NEV": "Bíró Péter",
                                    "SZALLAS_NEV": "Kentaur Hotel",
                                    "CIM": "8600 Siófok (Széplak), Akácfa utca 1"
                                },
                                {
                                    "NEV": "Komjáti András",
                                    "SZALLAS_NEV": "Gold Hotel",
                                    "CIM": "1016 Budapest, Hegyalja út 12"
                                },
                                {
                                    "NEV": "Horváth Krisztina",
                                    "SZALLAS_NEV": "Gold Hotel",
                                    "CIM": "1016 Budapest, Hegyalja út 12"
                                },
                                {
                                    "NEV": "Poprádi Kristóf",
                                    "SZALLAS_NEV": "Kentaur Hotel",
                                    "CIM": "8600 Siófok (Széplak), Akácfa utca 1"
                                },
                                {
                                    "NEV": "Farkas László",
                                    "SZALLAS_NEV": "Fortuna panzió",
                                    "CIM": "1019 Budapest XIV. Cinkotai út 86."
                                },
                                {
                                    "NEV": "Bíró Péter",
                                    "SZALLAS_NEV": "Kentaur Hotel",
                                    "CIM": "8600 Siófok (Széplak), Akácfa utca 1"
                                },
                                {
                                    "NEV": "Tankó Veronika",
                                    "SZALLAS_NEV": "Kentaur Hotel",
                                    "CIM": "8600 Siófok (Széplak), Akácfa utca 1"
                                },
                                {
                                    "NEV": "Horváth Márk",
                                    "SZALLAS_NEV": "Fortuna panzió",
                                    "CIM": "1019 Budapest XIV. Cinkotai út 86."
                                },
                                {
                                    "NEV": "Komjáti András",
                                    "SZALLAS_NEV": "Gold Hotel",
                                    "CIM": "1016 Budapest, Hegyalja út 12"
                                },
                                {
                                    "NEV": "Szalai Szilárd",
                                    "SZALLAS_NEV": "Kentaur Hotel",
                                    "CIM": "8600 Siófok (Széplak), Akácfa utca 1"
                                },
                                {
                                    "NEV": "Horváth Márk",
                                    "SZALLAS_NEV": "Fortuna panzió",
                                    "CIM": "1019 Budapest XIV. Cinkotai út 86."
                                },
                                {
                                    "NEV": "Bittmann Edit",
                                    "SZALLAS_NEV": "Gold Hotel",
                                    "CIM": "1016 Budapest, Hegyalja út 12"
                                },
                                {
                                    "NEV": "Horváth Árpád",
                                    "SZALLAS_NEV": "Fortuna Panzió",
                                    "CIM": "5900 Orosháza, Gyopárosfürdő Tópart utca 3."
                                },
                                {
                                    "NEV": "Szedlár Krisztina",
                                    "SZALLAS_NEV": "Gold Hotel",
                                    "CIM": "1016 Budapest, Hegyalja út 12"
                                },
                                {
                                    "NEV": "Vajda Zsuzsa",
                                    "SZALLAS_NEV": "Kentaur Hotel",
                                    "CIM": "8600 Siófok (Széplak), Akácfa utca 1"
                                },
                                {
                                    "NEV": "Szűcs Balázs",
                                    "SZALLAS_NEV": "Jáde panzió",
                                    "CIM": "8624 Balatonföldvár, Kiss u.2."
                                },
                                {
                                    "NEV": "Búza Imre",
                                    "SZALLAS_NEV": "Fortuna panzió",
                                    "CIM": "1019 Budapest XIV. Cinkotai út 86."
                                },
                                {
                                    "NEV": "Vajda József",
                                    "SZALLAS_NEV": "Gold Hotel",
                                    "CIM": "1016 Budapest, Hegyalja út 12"
                                },
                                {
                                    "NEV": "Varsányi Zsuzsa",
                                    "SZALLAS_NEV": "Jáde panzió",
                                    "CIM": "8624 Balatonföldvár, Kiss u.2."
                                },
                                {
                                    "NEV": "Bíró Péter",
                                    "SZALLAS_NEV": "Gold Hotel",
                                    "CIM": "1016 Budapest, Hegyalja út 12"
                                },
                                {
                                    "NEV": "Horváth Márk",
                                    "SZALLAS_NEV": "Fortuna panzió",
                                    "CIM": "1019 Budapest XIV. Cinkotai út 86."
                                },
                                {
                                    "NEV": "Tornyos Andrea",
                                    "SZALLAS_NEV": "Fortuna panzió",
                                    "CIM": "1019 Budapest XIV. Cinkotai út 86."
                                },
                                {
                                    "NEV": "Bakódy Balázs",
                                    "SZALLAS_NEV": "Kentaur Hotel",
                                    "CIM": "8600 Siófok (Széplak), Akácfa utca 1"
                                },
                                {
                                    "NEV": "Bori Krisztina",
                                    "SZALLAS_NEV": "Kentaur Hotel",
                                    "CIM": "8600 Siófok (Széplak), Akácfa utca 1"
                                },
                                {
                                    "NEV": "Horváth Árpád",
                                    "SZALLAS_NEV": "Fortuna Panzió",
                                    "CIM": "5900 Orosháza, Gyopárosfürdő Tópart utca 3."
                                },
                                {
                                    "NEV": "Szikszai Réka",
                                    "SZALLAS_NEV": "Fortuna panzió",
                                    "CIM": "1019 Budapest XIV. Cinkotai út 86."
                                },
                                {
                                    "NEV": "Fodor Zoltán",
                                    "SZALLAS_NEV": "Gold Hotel",
                                    "CIM": "1016 Budapest, Hegyalja út 12"
                                },
                                {
                                    "NEV": "Böröcz Anikó",
                                    "SZALLAS_NEV": "Fortuna panzió",
                                    "CIM": "1019 Budapest XIV. Cinkotai út 86."
                                },
                                {
                                    "NEV": "Iván Róbert",
                                    "SZALLAS_NEV": "Kentaur Hotel",
                                    "CIM": "8600 Siófok (Széplak), Akácfa utca 1"
                                },
                                {
                                    "NEV": "Horváth Katalin",
                                    "SZALLAS_NEV": "Gold Hotel",
                                    "CIM": "1016 Budapest, Hegyalja út 12"
                                },
                                {
                                    "NEV": "Pálinkás János",
                                    "SZALLAS_NEV": "Gold Hotel",
                                    "CIM": "1016 Budapest, Hegyalja út 12"
                                },
                                {
                                    "NEV": "Szedlár Krisztina",
                                    "SZALLAS_NEV": "Fortuna panzió",
                                    "CIM": "1019 Budapest XIV. Cinkotai út 86."
                                },
                                {
                                    "NEV": "Vajda József",
                                    "SZALLAS_NEV": "Kentaur Hotel",
                                    "CIM": "8600 Siófok (Széplak), Akácfa utca 1"
                                },
                                {
                                    "NEV": "Balogh Eszter",
                                    "SZALLAS_NEV": "Gold Hotel",
                                    "CIM": "1016 Budapest, Hegyalja út 12"
                                },
                                {
                                    "NEV": "Szűcs Norbert",
                                    "SZALLAS_NEV": "Fortuna Panzió",
                                    "CIM": "5900 Orosháza, Gyopárosfürdő Tópart utca 3."
                                },
                                {
                                    "NEV": "Szűcs Balázs",
                                    "SZALLAS_NEV": "Fortuna Panzió",
                                    "CIM": "5900 Orosháza, Gyopárosfürdő Tópart utca 3."
                                },
                                {
                                    "NEV": "Nagymihály Csongor",
                                    "SZALLAS_NEV": "Gold Hotel",
                                    "CIM": "1016 Budapest, Hegyalja út 12"
                                },
                                {
                                    "NEV": "Nagy Gabriella",
                                    "SZALLAS_NEV": "Gold Hotel",
                                    "CIM": "1016 Budapest, Hegyalja út 12"
                                },
                                {
                                    "NEV": "Szűcs Balázs",
                                    "SZALLAS_NEV": "Fortuna panzió",
                                    "CIM": "1019 Budapest XIV. Cinkotai út 86."
                                },
                                {
                                    "NEV": "Vörös Dániel",
                                    "SZALLAS_NEV": "Jáde panzió",
                                    "CIM": "8624 Balatonföldvár, Kiss u.2."
                                },
                                {
                                    "NEV": "Fényes Tamás",
                                    "SZALLAS_NEV": "Gold Hotel",
                                    "CIM": "1016 Budapest, Hegyalja út 12"
                                },
                                {
                                    "NEV": "Molnár András",
                                    "SZALLAS_NEV": "Kentaur Hotel",
                                    "CIM": "8600 Siófok (Széplak), Akácfa utca 1"
                                },
                                {
                                    "NEV": "Gondos Katalin",
                                    "SZALLAS_NEV": "Jáde panzió",
                                    "CIM": "8624 Balatonföldvár, Kiss u.2."
                                },
                                {
                                    "NEV": "Kornseé Gyöngyi",
                                    "SZALLAS_NEV": "Kentaur Hotel",
                                    "CIM": "8600 Siófok (Széplak), Akácfa utca 1"
                                },
                                {
                                    "NEV": "Csiger Bertalan",
                                    "SZALLAS_NEV": "Gold Hotel",
                                    "CIM": "1016 Budapest, Hegyalja út 12"
                                },
                                {
                                    "NEV": "Gondos Katalin",
                                    "SZALLAS_NEV": "Kentaur Hotel",
                                    "CIM": "8600 Siófok (Széplak), Akácfa utca 1"
                                },
                                {
                                    "NEV": "Kelemen Áron",
                                    "SZALLAS_NEV": "Fortuna panzió",
                                    "CIM": "1019 Budapest XIV. Cinkotai út 86."
                                },
                                {
                                    "NEV": "Bozsó Péter",
                                    "SZALLAS_NEV": "Jáde panzió",
                                    "CIM": "8624 Balatonföldvár, Kiss u.2."
                                },
                                {
                                    "NEV": "Kertész Katalin",
                                    "SZALLAS_NEV": "Kentaur Hotel",
                                    "CIM": "8600 Siófok (Széplak), Akácfa utca 1"
                                },
                                {
                                    "NEV": "Szalai Péter",
                                    "SZALLAS_NEV": "Kentaur Hotel",
                                    "CIM": "8600 Siófok (Széplak), Akácfa utca 1"
                                },
                                {
                                    "NEV": "Balogh Eszter",
                                    "SZALLAS_NEV": "Gold Hotel",
                                    "CIM": "1016 Budapest, Hegyalja út 12"
                                },
                                {
                                    "NEV": "Horváth Nikolett",
                                    "SZALLAS_NEV": "Kentaur Hotel",
                                    "CIM": "8600 Siófok (Széplak), Akácfa utca 1"
                                },
                                {
                                    "NEV": "Barna Debóra",
                                    "SZALLAS_NEV": "Gold Hotel",
                                    "CIM": "1016 Budapest, Hegyalja út 12"
                                },
                                {
                                    "NEV": "Tóth Roland",
                                    "SZALLAS_NEV": "Gold Hotel",
                                    "CIM": "1016 Budapest, Hegyalja út 12"
                                },
                                {
                                    "NEV": "Kalacsi Márton",
                                    "SZALLAS_NEV": "Fortuna panzió",
                                    "CIM": "1019 Budapest XIV. Cinkotai út 86."
                                },
                                {
                                    "NEV": "Baráth Mária",
                                    "SZALLAS_NEV": "Gold Hotel",
                                    "CIM": "1016 Budapest, Hegyalja út 12"
                                },
                                {
                                    "NEV": "Papp Imre",
                                    "SZALLAS_NEV": "Kentaur Hotel",
                                    "CIM": "8600 Siófok (Széplak), Akácfa utca 1"
                                },
                                {
                                    "NEV": "Komjáti András",
                                    "SZALLAS_NEV": "Kentaur Hotel",
                                    "CIM": "8600 Siófok (Széplak), Akácfa utca 1"
                                },
                                {
                                    "NEV": "Béres Norbert",
                                    "SZALLAS_NEV": "Gold Hotel",
                                    "CIM": "1016 Budapest, Hegyalja út 12"
                                },
                                {
                                    "NEV": "Szirmai Renáta",
                                    "SZALLAS_NEV": "Fortuna panzió",
                                    "CIM": "1019 Budapest XIV. Cinkotai út 86."
                                },
                                {
                                    "NEV": "Tóth Anikó",
                                    "SZALLAS_NEV": "Fortuna Panzió",
                                    "CIM": "5900 Orosháza, Gyopárosfürdő Tópart utca 3."
                                },
                                {
                                    "NEV": "Balla Miklós",
                                    "SZALLAS_NEV": "Kentaur Hotel",
                                    "CIM": "8600 Siófok (Széplak), Akácfa utca 1"
                                },
                                {
                                    "NEV": "Simon Anikó",
                                    "SZALLAS_NEV": "Jáde panzió",
                                    "CIM": "8624 Balatonföldvár, Kiss u.2."
                                },
                                {
                                    "NEV": "Papp Imre",
                                    "SZALLAS_NEV": "Gold Hotel",
                                    "CIM": "1016 Budapest, Hegyalja út 12"
                                },
                                {
                                    "NEV": "Fényes Tamás",
                                    "SZALLAS_NEV": "Gold Hotel",
                                    "CIM": "1016 Budapest, Hegyalja út 12"
                                },
                                {
                                    "NEV": "Miklós Szabolcs",
                                    "SZALLAS_NEV": "Fortuna panzió",
                                    "CIM": "1019 Budapest XIV. Cinkotai út 86."
                                },
                                {
                                    "NEV": "Mile Norbert",
                                    "SZALLAS_NEV": "Kentaur Hotel",
                                    "CIM": "8600 Siófok (Széplak), Akácfa utca 1"
                                },
                                {
                                    "NEV": "Vajda Zsuzsa",
                                    "SZALLAS_NEV": "Fortuna Panzió",
                                    "CIM": "5900 Orosháza, Gyopárosfürdő Tópart utca 3."
                                },
                                {
                                    "NEV": "Nagymihály Lajos",
                                    "SZALLAS_NEV": "Kentaur Hotel",
                                    "CIM": "8600 Siófok (Széplak), Akácfa utca 1"
                                },
                                {
                                    "NEV": "Pataki Brigitta",
                                    "SZALLAS_NEV": "Gold Hotel",
                                    "CIM": "1016 Budapest, Hegyalja út 12"
                                },
                                {
                                    "NEV": "Kispál Márk",
                                    "SZALLAS_NEV": "Gold Hotel",
                                    "CIM": "1016 Budapest, Hegyalja út 12"
                                },
                                {
                                    "NEV": "Kovács Katalin",
                                    "SZALLAS_NEV": "Kentaur Hotel",
                                    "CIM": "8600 Siófok (Széplak), Akácfa utca 1"
                                },
                                {
                                    "NEV": "Maródi Andrea",
                                    "SZALLAS_NEV": "Fortuna Panzió",
                                    "CIM": "5900 Orosháza, Gyopárosfürdő Tópart utca 3."
                                },
                                {
                                    "NEV": "Tatár Nikoletta",
                                    "SZALLAS_NEV": "Gold Hotel",
                                    "CIM": "1016 Budapest, Hegyalja út 12"
                                },
                                {
                                    "NEV": "Czérna Krisztián",
                                    "SZALLAS_NEV": "Kentaur Hotel",
                                    "CIM": "8600 Siófok (Széplak), Akácfa utca 1"
                                },
                                {
                                    "NEV": "Pulai Zsolt",
                                    "SZALLAS_NEV": "Gold Hotel",
                                    "CIM": "1016 Budapest, Hegyalja út 12"
                                },
                                {
                                    "NEV": "Fényes Tamás",
                                    "SZALLAS_NEV": "Kentaur Hotel",
                                    "CIM": "8600 Siófok (Széplak), Akácfa utca 1"
                                },
                                {
                                    "NEV": "Szekendi Beatrix",
                                    "SZALLAS_NEV": "Gold Hotel",
                                    "CIM": "1016 Budapest, Hegyalja út 12"
                                },
                                {
                                    "NEV": "Kerényi Beatrix",
                                    "SZALLAS_NEV": "Gold Hotel",
                                    "CIM": "1016 Budapest, Hegyalja út 12"
                                },
                                {
                                    "NEV": "Gyárfás Krisztina",
                                    "SZALLAS_NEV": "Kentaur Hotel",
                                    "CIM": "8600 Siófok (Széplak), Akácfa utca 1"
                                },
                                {
                                    "NEV": "Regős Annamária",
                                    "SZALLAS_NEV": "Kentaur Hotel",
                                    "CIM": "8600 Siófok (Széplak), Akácfa utca 1"
                                },
                                {
                                    "NEV": "Bagóczki Alexandra",
                                    "SZALLAS_NEV": "Gold Hotel",
                                    "CIM": "1016 Budapest, Hegyalja út 12"
                                },
                                {
                                    "NEV": "Ambrus Dávid",
                                    "SZALLAS_NEV": "Kentaur Hotel",
                                    "CIM": "8600 Siófok (Széplak), Akácfa utca 1"
                                },
                                {
                                    "NEV": "Tóth Roland",
                                    "SZALLAS_NEV": "Gold Hotel",
                                    "CIM": "1016 Budapest, Hegyalja út 12"
                                },
                                {
                                    "NEV": "Rab Sebestyén",
                                    "SZALLAS_NEV": "Kentaur Hotel",
                                    "CIM": "8600 Siófok (Széplak), Akácfa utca 1"
                                },
                                {
                                    "NEV": "Kelemen Áron",
                                    "SZALLAS_NEV": "Fortuna Panzió",
                                    "CIM": "5900 Orosháza, Gyopárosfürdő Tópart utca 3."
                                },
                                {
                                    "NEV": "Molnár Bálint",
                                    "SZALLAS_NEV": "Fortuna Panzió",
                                    "CIM": "5900 Orosháza, Gyopárosfürdő Tópart utca 3."
                                },
                                {
                                    "NEV": "Orbán Bernadett",
                                    "SZALLAS_NEV": "Gold Hotel",
                                    "CIM": "1016 Budapest, Hegyalja út 12"
                                },
                                {
                                    "NEV": "Tóth Júlia",
                                    "SZALLAS_NEV": "Gold Hotel",
                                    "CIM": "1016 Budapest, Hegyalja út 12"
                                },
                                {
                                    "NEV": "Pulai Zsolt",
                                    "SZALLAS_NEV": "Gold Hotel",
                                    "CIM": "1016 Budapest, Hegyalja út 12"
                                },
                                {
                                    "NEV": "Keresztúri Viktor",
                                    "SZALLAS_NEV": "Fortuna panzió",
                                    "CIM": "1019 Budapest XIV. Cinkotai út 86."
                                },
                                {
                                    "NEV": "Hídasi Judit",
                                    "SZALLAS_NEV": "Fortuna panzió",
                                    "CIM": "1019 Budapest XIV. Cinkotai út 86."
                                },
                                {
                                    "NEV": "Horváth Árpád",
                                    "SZALLAS_NEV": "Gold Hotel",
                                    "CIM": "1016 Budapest, Hegyalja út 12"
                                },
                                {
                                    "NEV": "Dusha Tímea",
                                    "SZALLAS_NEV": "Gold Hotel",
                                    "CIM": "1016 Budapest, Hegyalja út 12"
                                },
                                {
                                    "NEV": "Zatykó Katalin",
                                    "SZALLAS_NEV": "Fortuna Panzió",
                                    "CIM": "5900 Orosháza, Gyopárosfürdő Tópart utca 3."
                                },
                                {
                                    "NEV": "Vörös Dániel",
                                    "SZALLAS_NEV": "Jáde panzió",
                                    "CIM": "8624 Balatonföldvár, Kiss u.2."
                                },
                                {
                                    "NEV": "Farkas Sára",
                                    "SZALLAS_NEV": "Jáde panzió",
                                    "CIM": "8624 Balatonföldvár, Kiss u.2."
                                },
                                {
                                    "NEV": "Czérna Krisztián",
                                    "SZALLAS_NEV": "Fortuna panzió",
                                    "CIM": "1019 Budapest XIV. Cinkotai út 86."
                                },
                                {
                                    "NEV": "Kazy Tihamér",
                                    "SZALLAS_NEV": "Fortuna panzió",
                                    "CIM": "1019 Budapest XIV. Cinkotai út 86."
                                },
                                {
                                    "NEV": "Horváth Nikolett",
                                    "SZALLAS_NEV": "Gold Hotel",
                                    "CIM": "1016 Budapest, Hegyalja út 12"
                                },
                                {
                                    "NEV": "Turcsik Tünde",
                                    "SZALLAS_NEV": "Gold Hotel",
                                    "CIM": "1016 Budapest, Hegyalja út 12"
                                },
                                {
                                    "NEV": "Antal László",
                                    "SZALLAS_NEV": "Fortuna panzió",
                                    "CIM": "1019 Budapest XIV. Cinkotai út 86."
                                },
                                {
                                    "NEV": "Bajusz Bence",
                                    "SZALLAS_NEV": "Gold Hotel",
                                    "CIM": "1016 Budapest, Hegyalja út 12"
                                },
                                {
                                    "NEV": "Mogyródi Krisztián",
                                    "SZALLAS_NEV": "Fortuna panzió",
                                    "CIM": "1019 Budapest XIV. Cinkotai út 86."
                                },
                                {
                                    "NEV": "Kelemen Áron",
                                    "SZALLAS_NEV": "Kentaur Hotel",
                                    "CIM": "8600 Siófok (Széplak), Akácfa utca 1"
                                },
                                {
                                    "NEV": "Opra Attila",
                                    "SZALLAS_NEV": "Gold Hotel",
                                    "CIM": "1016 Budapest, Hegyalja út 12"
                                },
                                {
                                    "NEV": "Harangozó János",
                                    "SZALLAS_NEV": "Fortuna panzió",
                                    "CIM": "1019 Budapest XIV. Cinkotai út 86."
                                },
                                {
                                    "NEV": "Gyuris József",
                                    "SZALLAS_NEV": "Gold Hotel",
                                    "CIM": "1016 Budapest, Hegyalja út 12"
                                },
                                {
                                    "NEV": "Szilágyi Mátyás",
                                    "SZALLAS_NEV": "Kentaur Hotel",
                                    "CIM": "8600 Siófok (Széplak), Akácfa utca 1"
                                },
                                {
                                    "NEV": "Nagy László",
                                    "SZALLAS_NEV": "Gold Hotel",
                                    "CIM": "1016 Budapest, Hegyalja út 12"
                                },
                                {
                                    "NEV": "Palágyi Polla",
                                    "SZALLAS_NEV": "Kentaur Hotel",
                                    "CIM": "8600 Siófok (Széplak), Akácfa utca 1"
                                },
                                {
                                    "NEV": "Gondos Katalin",
                                    "SZALLAS_NEV": "Kentaur Hotel",
                                    "CIM": "8600 Siófok (Széplak), Akácfa utca 1"
                                },
                                {
                                    "NEV": "Pataki Brigitta",
                                    "SZALLAS_NEV": "Fortuna panzió",
                                    "CIM": "1019 Budapest XIV. Cinkotai út 86."
                                },
                                {
                                    "NEV": "Oroszi György",
                                    "SZALLAS_NEV": "Kentaur Hotel",
                                    "CIM": "8600 Siófok (Széplak), Akácfa utca 1"
                                },
                                {
                                    "NEV": "Lukács Kornél",
                                    "SZALLAS_NEV": "Fortuna Panzió",
                                    "CIM": "5900 Orosháza, Gyopárosfürdő Tópart utca 3."
                                },
                                {
                                    "NEV": "Frank Fruzsina",
                                    "SZALLAS_NEV": "Kentaur Hotel",
                                    "CIM": "8600 Siófok (Széplak), Akácfa utca 1"
                                },
                                {
                                    "NEV": "Vígh András",
                                    "SZALLAS_NEV": "Gold Hotel",
                                    "CIM": "1016 Budapest, Hegyalja út 12"
                                },
                                {
                                    "NEV": "Kazy Tihamér",
                                    "SZALLAS_NEV": "Jáde panzió",
                                    "CIM": "8624 Balatonföldvár, Kiss u.2."
                                },
                                {
                                    "NEV": "Tankó Veronika",
                                    "SZALLAS_NEV": "Kentaur Hotel",
                                    "CIM": "8600 Siófok (Széplak), Akácfa utca 1"
                                },
                                {
                                    "NEV": "Tömböly Dénes",
                                    "SZALLAS_NEV": "Kentaur Hotel",
                                    "CIM": "8600 Siófok (Széplak), Akácfa utca 1"
                                },
                                {
                                    "NEV": "Szűcs Balázs",
                                    "SZALLAS_NEV": "Gold Hotel",
                                    "CIM": "1016 Budapest, Hegyalja út 12"
                                },
                                {
                                    "NEV": "Lengyel Ágnes",
                                    "SZALLAS_NEV": "Gold Hotel",
                                    "CIM": "1016 Budapest, Hegyalja út 12"
                                },
                                {
                                    "NEV": "Neizer Andrea",
                                    "SZALLAS_NEV": "Kentaur Hotel",
                                    "CIM": "8600 Siófok (Széplak), Akácfa utca 1"
                                },
                                {
                                    "NEV": "Szűcs Balázs",
                                    "SZALLAS_NEV": "Fortuna Panzió",
                                    "CIM": "5900 Orosháza, Gyopárosfürdő Tópart utca 3."
                                },
                                {
                                    "NEV": "Gyárfás Krisztina",
                                    "SZALLAS_NEV": "Gold Hotel",
                                    "CIM": "1016 Budapest, Hegyalja út 12"
                                },
                                {
                                    "NEV": "Simon Anikó",
                                    "SZALLAS_NEV": "Kentaur Hotel",
                                    "CIM": "8600 Siófok (Széplak), Akácfa utca 1"
                                },
                                {
                                    "NEV": "Józsa Zsolt",
                                    "SZALLAS_NEV": "Gold Hotel",
                                    "CIM": "1016 Budapest, Hegyalja út 12"
                                },
                                {
                                    "NEV": "Vajda Zsuzsa",
                                    "SZALLAS_NEV": "Gold Hotel",
                                    "CIM": "1016 Budapest, Hegyalja út 12"
                                },
                                {
                                    "NEV": "Kiss Ádám",
                                    "SZALLAS_NEV": "Kentaur Hotel",
                                    "CIM": "8600 Siófok (Széplak), Akácfa utca 1"
                                },
                                {
                                    "NEV": "Tari Szilvia",
                                    "SZALLAS_NEV": "Fortuna panzió",
                                    "CIM": "1019 Budapest XIV. Cinkotai út 86."
                                },
                                {
                                    "NEV": "Mile Norbert",
                                    "SZALLAS_NEV": "Kentaur Hotel",
                                    "CIM": "8600 Siófok (Széplak), Akácfa utca 1"
                                },
                                {
                                    "NEV": "Győrffy Bence",
                                    "SZALLAS_NEV": "Fortuna panzió",
                                    "CIM": "1019 Budapest XIV. Cinkotai út 86."
                                },
                                {
                                    "NEV": "Érsek Eszter",
                                    "SZALLAS_NEV": "Kentaur Hotel",
                                    "CIM": "8600 Siófok (Széplak), Akácfa utca 1"
                                },
                                {
                                    "NEV": "Juhász Mihály",
                                    "SZALLAS_NEV": "Kentaur Hotel",
                                    "CIM": "8600 Siófok (Széplak), Akácfa utca 1"
                                },
                                {
                                    "NEV": "Kő Nikoletta",
                                    "SZALLAS_NEV": "Kentaur Hotel",
                                    "CIM": "8600 Siófok (Széplak), Akácfa utca 1"
                                },
                                {
                                    "NEV": "Telek Gábor",
                                    "SZALLAS_NEV": "Kentaur Hotel",
                                    "CIM": "8600 Siófok (Széplak), Akácfa utca 1"
                                },
                                {
                                    "NEV": "Viktor Éva",
                                    "SZALLAS_NEV": "Gold Hotel",
                                    "CIM": "1016 Budapest, Hegyalja út 12"
                                },
                                {
                                    "NEV": "Perlinger Éva",
                                    "SZALLAS_NEV": "Kentaur Hotel",
                                    "CIM": "8600 Siófok (Széplak), Akácfa utca 1"
                                },
                                {
                                    "NEV": "Baráth Mária",
                                    "SZALLAS_NEV": "Fortuna Panzió",
                                    "CIM": "5900 Orosháza, Gyopárosfürdő Tópart utca 3."
                                },
                                {
                                    "NEV": "Győrffy Bence",
                                    "SZALLAS_NEV": "Kentaur Hotel",
                                    "CIM": "8600 Siófok (Széplak), Akácfa utca 1"
                                },
                                {
                                    "NEV": "Farkas Béla",
                                    "SZALLAS_NEV": "Kentaur Hotel",
                                    "CIM": "8600 Siófok (Széplak), Akácfa utca 1"
                                },
                                {
                                    "NEV": "Juhász Mihály",
                                    "SZALLAS_NEV": "Gold Hotel",
                                    "CIM": "1016 Budapest, Hegyalja út 12"
                                },
                                {
                                    "NEV": "Andor Ibolya",
                                    "SZALLAS_NEV": "Gold Hotel",
                                    "CIM": "1016 Budapest, Hegyalja út 12"
                                },
                                {
                                    "NEV": "Kiss Andrea",
                                    "SZALLAS_NEV": "Fortuna Panzió",
                                    "CIM": "5900 Orosháza, Gyopárosfürdő Tópart utca 3."
                                },
                                {
                                    "NEV": "Bieniek Ádám",
                                    "SZALLAS_NEV": "Fortuna panzió",
                                    "CIM": "1019 Budapest XIV. Cinkotai út 86."
                                },
                                {
                                    "NEV": "Szalai Szilárd",
                                    "SZALLAS_NEV": "Kentaur Hotel",
                                    "CIM": "8600 Siófok (Széplak), Akácfa utca 1"
                                },
                                {
                                    "NEV": "Nyíri Georgij",
                                    "SZALLAS_NEV": "Gold Hotel",
                                    "CIM": "1016 Budapest, Hegyalja út 12"
                                },
                                {
                                    "NEV": "Horváth Krisztina",
                                    "SZALLAS_NEV": "Fortuna panzió",
                                    "CIM": "1019 Budapest XIV. Cinkotai út 86."
                                },
                                {
                                    "NEV": "Fodor Zoltán",
                                    "SZALLAS_NEV": "Kentaur Hotel",
                                    "CIM": "8600 Siófok (Széplak), Akácfa utca 1"
                                },
                                {
                                    "NEV": "Bagi Beáta",
                                    "SZALLAS_NEV": "Fortuna Panzió",
                                    "CIM": "5900 Orosháza, Gyopárosfürdő Tópart utca 3."
                                },
                                {
                                    "NEV": "Kovács Bernadett",
                                    "SZALLAS_NEV": "Fortuna Panzió",
                                    "CIM": "5900 Orosháza, Gyopárosfürdő Tópart utca 3."
                                },
                                {
                                    "NEV": "Bakódy Balázs",
                                    "SZALLAS_NEV": "Gold Hotel",
                                    "CIM": "1016 Budapest, Hegyalja út 12"
                                },
                                {
                                    "NEV": "Kovács Katalin",
                                    "SZALLAS_NEV": "Kentaur Hotel",
                                    "CIM": "8600 Siófok (Széplak), Akácfa utca 1"
                                },
                                {
                                    "NEV": "Barna Zoltán",
                                    "SZALLAS_NEV": "Jáde panzió",
                                    "CIM": "8624 Balatonföldvár, Kiss u.2."
                                },
                                {
                                    "NEV": "Gondos Katalin",
                                    "SZALLAS_NEV": "Kentaur Hotel",
                                    "CIM": "8600 Siófok (Széplak), Akácfa utca 1"
                                },
                                {
                                    "NEV": "Ötvös Árpád",
                                    "SZALLAS_NEV": "Kentaur Hotel",
                                    "CIM": "8600 Siófok (Széplak), Akácfa utca 1"
                                },
                                {
                                    "NEV": "Ambrus Dávid",
                                    "SZALLAS_NEV": "Fortuna panzió",
                                    "CIM": "1019 Budapest XIV. Cinkotai út 86."
                                },
                                {
                                    "NEV": "Patay Róbert",
                                    "SZALLAS_NEV": "Fortuna Panzió",
                                    "CIM": "5900 Orosháza, Gyopárosfürdő Tópart utca 3."
                                },
                                {
                                    "NEV": "Palágyi Polla",
                                    "SZALLAS_NEV": "Gold Hotel",
                                    "CIM": "1016 Budapest, Hegyalja út 12"
                                },
                                {
                                    "NEV": "Pivarcsi Anett",
                                    "SZALLAS_NEV": "Fortuna Panzió",
                                    "CIM": "5900 Orosháza, Gyopárosfürdő Tópart utca 3."
                                },
                                {
                                    "NEV": "Koza Máté",
                                    "SZALLAS_NEV": "Gold Hotel",
                                    "CIM": "1016 Budapest, Hegyalja út 12"
                                },
                                {
                                    "NEV": "Baróti Attila",
                                    "SZALLAS_NEV": "Kentaur Hotel",
                                    "CIM": "8600 Siófok (Széplak), Akácfa utca 1"
                                },
                                {
                                    "NEV": "Kazy Tihamér",
                                    "SZALLAS_NEV": "Kentaur Hotel",
                                    "CIM": "8600 Siófok (Széplak), Akácfa utca 1"
                                },
                                {
                                    "NEV": "Komjáti András",
                                    "SZALLAS_NEV": "Gold Hotel",
                                    "CIM": "1016 Budapest, Hegyalja út 12"
                                },
                                {
                                    "NEV": "Karasz Sándor",
                                    "SZALLAS_NEV": "Fortuna Panzió",
                                    "CIM": "5900 Orosháza, Gyopárosfürdő Tópart utca 3."
                                },
                                {
                                    "NEV": "Czérna Krisztián",
                                    "SZALLAS_NEV": "Kentaur Hotel",
                                    "CIM": "8600 Siófok (Széplak), Akácfa utca 1"
                                },
                                {
                                    "NEV": "Sarodi Dóra",
                                    "SZALLAS_NEV": "Gold Hotel",
                                    "CIM": "1016 Budapest, Hegyalja út 12"
                                },
                                {
                                    "NEV": "Berendi Péter",
                                    "SZALLAS_NEV": "Gold Hotel",
                                    "CIM": "1016 Budapest, Hegyalja út 12"
                                },
                                {
                                    "NEV": "Palágyi Polla",
                                    "SZALLAS_NEV": "Fortuna panzió",
                                    "CIM": "1019 Budapest XIV. Cinkotai út 86."
                                },
                                {
                                    "NEV": "Bittmann Edit",
                                    "SZALLAS_NEV": "Kentaur Hotel",
                                    "CIM": "8600 Siófok (Széplak), Akácfa utca 1"
                                },
                                {
                                    "NEV": "Boros Vivien",
                                    "SZALLAS_NEV": "Gold Hotel",
                                    "CIM": "1016 Budapest, Hegyalja út 12"
                                },
                                {
                                    "NEV": "Kalacsi Márton",
                                    "SZALLAS_NEV": "Kentaur Hotel",
                                    "CIM": "8600 Siófok (Széplak), Akácfa utca 1"
                                },
                                {
                                    "NEV": "Miklós Tamara",
                                    "SZALLAS_NEV": "Fortuna Panzió",
                                    "CIM": "5900 Orosháza, Gyopárosfürdő Tópart utca 3."
                                },
                                {
                                    "NEV": "Béres Norbert",
                                    "SZALLAS_NEV": "Gold Hotel",
                                    "CIM": "1016 Budapest, Hegyalja út 12"
                                },
                                {
                                    "NEV": "Szikszai Réka",
                                    "SZALLAS_NEV": "Gold Hotel",
                                    "CIM": "1016 Budapest, Hegyalja út 12"
                                },
                                {
                                    "NEV": "Kispál Márk",
                                    "SZALLAS_NEV": "Gold Hotel",
                                    "CIM": "1016 Budapest, Hegyalja út 12"
                                },
                                {
                                    "NEV": "Bárci Gusztáv",
                                    "SZALLAS_NEV": "Kentaur Hotel",
                                    "CIM": "8600 Siófok (Széplak), Akácfa utca 1"
                                },
                                {
                                    "NEV": "Kelemen Áron",
                                    "SZALLAS_NEV": "Fortuna panzió",
                                    "CIM": "1019 Budapest XIV. Cinkotai út 86."
                                },
                                {
                                    "NEV": "Endresz Bálint",
                                    "SZALLAS_NEV": "Jáde panzió",
                                    "CIM": "8624 Balatonföldvár, Kiss u.2."
                                },
                                {
                                    "NEV": "Molnár Bálint",
                                    "SZALLAS_NEV": "Fortuna Panzió",
                                    "CIM": "5900 Orosháza, Gyopárosfürdő Tópart utca 3."
                                },
                                {
                                    "NEV": "Urbán Viktoria",
                                    "SZALLAS_NEV": "Gold Hotel",
                                    "CIM": "1016 Budapest, Hegyalja út 12"
                                },
                                {
                                    "NEV": "Tömböly Dénes",
                                    "SZALLAS_NEV": "Gold Hotel",
                                    "CIM": "1016 Budapest, Hegyalja út 12"
                                },
                                {
                                    "NEV": "Czérna Krisztián",
                                    "SZALLAS_NEV": "Gold Hotel",
                                    "CIM": "1016 Budapest, Hegyalja út 12"
                                },
                                {
                                    "NEV": "Szikszai Réka",
                                    "SZALLAS_NEV": "Fortuna panzió",
                                    "CIM": "1019 Budapest XIV. Cinkotai út 86."
                                },
                                {
                                    "NEV": "Mogyródi Krisztián",
                                    "SZALLAS_NEV": "Gold Hotel",
                                    "CIM": "1016 Budapest, Hegyalja út 12"
                                },
                                {
                                    "NEV": "Bittmann Edit",
                                    "SZALLAS_NEV": "Fortuna panzió",
                                    "CIM": "1019 Budapest XIV. Cinkotai út 86."
                                },
                                {
                                    "NEV": "Pulai Zsolt",
                                    "SZALLAS_NEV": "Gold Hotel",
                                    "CIM": "1016 Budapest, Hegyalja út 12"
                                },
                                {
                                    "NEV": "Varsányi Zsuzsa",
                                    "SZALLAS_NEV": "Gold Hotel",
                                    "CIM": "1016 Budapest, Hegyalja út 12"
                                },
                                {
                                    "NEV": "Kovács Ágnes",
                                    "SZALLAS_NEV": "Kentaur Hotel",
                                    "CIM": "8600 Siófok (Széplak), Akácfa utca 1"
                                },
                                {
                                    "NEV": "Oroszi György",
                                    "SZALLAS_NEV": "Kentaur Hotel",
                                    "CIM": "8600 Siófok (Széplak), Akácfa utca 1"
                                },
                                {
                                    "NEV": "Komjáti András",
                                    "SZALLAS_NEV": "Gold Hotel",
                                    "CIM": "1016 Budapest, Hegyalja út 12"
                                },
                                {
                                    "NEV": "Bakódy Balázs",
                                    "SZALLAS_NEV": "Fortuna panzió",
                                    "CIM": "1019 Budapest XIV. Cinkotai út 86."
                                },
                                {
                                    "NEV": "Tornyos Andrea",
                                    "SZALLAS_NEV": "Fortuna panzió",
                                    "CIM": "1019 Budapest XIV. Cinkotai út 86."
                                },
                                {
                                    "NEV": "Farkas Béla",
                                    "SZALLAS_NEV": "Kentaur Hotel",
                                    "CIM": "8600 Siófok (Széplak), Akácfa utca 1"
                                },
                                {
                                    "NEV": "Szilágyi Mátyás",
                                    "SZALLAS_NEV": "Fortuna panzió",
                                    "CIM": "1019 Budapest XIV. Cinkotai út 86."
                                },
                                {
                                    "NEV": "Érsek Eszter",
                                    "SZALLAS_NEV": "Fortuna panzió",
                                    "CIM": "1019 Budapest XIV. Cinkotai út 86."
                                },
                                {
                                    "NEV": "Győrffy Bence",
                                    "SZALLAS_NEV": "Kentaur Hotel",
                                    "CIM": "8600 Siófok (Széplak), Akácfa utca 1"
                                },
                                {
                                    "NEV": "Feró Valentin",
                                    "SZALLAS_NEV": "Gold Hotel",
                                    "CIM": "1016 Budapest, Hegyalja út 12"
                                },
                                {
                                    "NEV": "Nagy Gabriella",
                                    "SZALLAS_NEV": "Gold Hotel",
                                    "CIM": "1016 Budapest, Hegyalja út 12"
                                },
                                {
                                    "NEV": "Farkas Sára",
                                    "SZALLAS_NEV": "Gold Hotel",
                                    "CIM": "1016 Budapest, Hegyalja út 12"
                                },
                                {
                                    "NEV": "Pusztai Zsuzsanna",
                                    "SZALLAS_NEV": "Kentaur Hotel",
                                    "CIM": "8600 Siófok (Széplak), Akácfa utca 1"
                                },
                                {
                                    "NEV": "Böröcz Anikó",
                                    "SZALLAS_NEV": "Kentaur Hotel",
                                    "CIM": "8600 Siófok (Széplak), Akácfa utca 1"
                                },
                                {
                                    "NEV": "Bíró Ákos",
                                    "SZALLAS_NEV": "Fortuna panzió",
                                    "CIM": "1019 Budapest XIV. Cinkotai út 86."
                                },
                                {
                                    "NEV": "Tömböly Dénes",
                                    "SZALLAS_NEV": "Gold Hotel",
                                    "CIM": "1016 Budapest, Hegyalja út 12"
                                },
                                {
                                    "NEV": "Kazy Tihamér",
                                    "SZALLAS_NEV": "Kentaur Hotel",
                                    "CIM": "8600 Siófok (Széplak), Akácfa utca 1"
                                },
                                {
                                    "NEV": "Tóth Júlia",
                                    "SZALLAS_NEV": "Gold Hotel",
                                    "CIM": "1016 Budapest, Hegyalja út 12"
                                },
                                {
                                    "NEV": "Pintér Zoltán",
                                    "SZALLAS_NEV": "Kentaur Hotel",
                                    "CIM": "8600 Siófok (Széplak), Akácfa utca 1"
                                },
                                {
                                    "NEV": "Vígh András",
                                    "SZALLAS_NEV": "Kentaur Hotel",
                                    "CIM": "8600 Siófok (Széplak), Akácfa utca 1"
                                },
                                {
                                    "NEV": "Vukasinovity Bálint",
                                    "SZALLAS_NEV": "Kentaur Hotel",
                                    "CIM": "8600 Siófok (Széplak), Akácfa utca 1"
                                },
                                {
                                    "NEV": "Tóth András",
                                    "SZALLAS_NEV": "Gold Hotel",
                                    "CIM": "1016 Budapest, Hegyalja út 12"
                                },
                                {
                                    "NEV": "Tankó Veronika",
                                    "SZALLAS_NEV": "Gold Hotel",
                                    "CIM": "1016 Budapest, Hegyalja út 12"
                                },
                                {
                                    "NEV": "Karasz Sándor",
                                    "SZALLAS_NEV": "Fortuna panzió",
                                    "CIM": "1019 Budapest XIV. Cinkotai út 86."
                                },
                                {
                                    "NEV": "Komjáti András",
                                    "SZALLAS_NEV": "Gold Hotel",
                                    "CIM": "1016 Budapest, Hegyalja út 12"
                                },
                                {
                                    "NEV": "Simon Anikó",
                                    "SZALLAS_NEV": "Gold Hotel",
                                    "CIM": "1016 Budapest, Hegyalja út 12"
                                },
                                {
                                    "NEV": "Foltényi Sebastián",
                                    "SZALLAS_NEV": "Gold Hotel",
                                    "CIM": "1016 Budapest, Hegyalja út 12"
                                },
                                {
                                    "NEV": "Ambrus Dávid",
                                    "SZALLAS_NEV": "Kentaur Hotel",
                                    "CIM": "8600 Siófok (Széplak), Akácfa utca 1"
                                },
                                {
                                    "NEV": "Kiss Lajos",
                                    "SZALLAS_NEV": "Gold Hotel",
                                    "CIM": "1016 Budapest, Hegyalja út 12"
                                },
                                {
                                    "NEV": "Oroszi György",
                                    "SZALLAS_NEV": "Kentaur Hotel",
                                    "CIM": "8600 Siófok (Széplak), Akácfa utca 1"
                                },
                                {
                                    "NEV": "Regős Annamária",
                                    "SZALLAS_NEV": "Gold Hotel",
                                    "CIM": "1016 Budapest, Hegyalja út 12"
                                },
                                {
                                    "NEV": "Bittmann Edit",
                                    "SZALLAS_NEV": "Gold Hotel",
                                    "CIM": "1016 Budapest, Hegyalja út 12"
                                },
                                {
                                    "NEV": "Bíró Ákos",
                                    "SZALLAS_NEV": "Gold Hotel",
                                    "CIM": "1016 Budapest, Hegyalja út 12"
                                },
                                {
                                    "NEV": "Vígh András",
                                    "SZALLAS_NEV": "Kentaur Hotel",
                                    "CIM": "8600 Siófok (Széplak), Akácfa utca 1"
                                },
                                {
                                    "NEV": "Farkas Sára",
                                    "SZALLAS_NEV": "Gold Hotel",
                                    "CIM": "1016 Budapest, Hegyalja út 12"
                                },
                                {
                                    "NEV": "Bíró Ákos",
                                    "SZALLAS_NEV": "Kentaur Hotel",
                                    "CIM": "8600 Siófok (Széplak), Akácfa utca 1"
                                },
                                {
                                    "NEV": "Vajda József",
                                    "SZALLAS_NEV": "Gold Hotel",
                                    "CIM": "1016 Budapest, Hegyalja út 12"
                                },
                                {
                                    "NEV": "Frank Fruzsina",
                                    "SZALLAS_NEV": "Kentaur Hotel",
                                    "CIM": "8600 Siófok (Széplak), Akácfa utca 1"
                                },
                                {
                                    "NEV": "Tóth Zoltán",
                                    "SZALLAS_NEV": "Kentaur Hotel",
                                    "CIM": "8600 Siófok (Széplak), Akácfa utca 1"
                                },
                                {
                                    "NEV": "Turcsik Tünde",
                                    "SZALLAS_NEV": "Gold Hotel",
                                    "CIM": "1016 Budapest, Hegyalja út 12"
                                },
                                {
                                    "NEV": "Horváth Árpád",
                                    "SZALLAS_NEV": "Fortuna Panzió",
                                    "CIM": "5900 Orosháza, Gyopárosfürdő Tópart utca 3."
                                },
                                {
                                    "NEV": "Bagóczki Alexandra",
                                    "SZALLAS_NEV": "Fortuna Panzió",
                                    "CIM": "5900 Orosháza, Gyopárosfürdő Tópart utca 3."
                                },
                                {
                                    "NEV": "Szedlár Krisztina",
                                    "SZALLAS_NEV": "Gold Hotel",
                                    "CIM": "1016 Budapest, Hegyalja út 12"
                                },
                                {
                                    "NEV": "Bíró Ákos",
                                    "SZALLAS_NEV": "Jáde panzió",
                                    "CIM": "8624 Balatonföldvár, Kiss u.2."
                                },
                                {
                                    "NEV": "Barta Zsuzsanna",
                                    "SZALLAS_NEV": "Kentaur Hotel",
                                    "CIM": "8600 Siófok (Széplak), Akácfa utca 1"
                                },
                                {
                                    "NEV": "Baráth Mária",
                                    "SZALLAS_NEV": "Kentaur Hotel",
                                    "CIM": "8600 Siófok (Széplak), Akácfa utca 1"
                                },
                                {
                                    "NEV": "Tari Szilvia",
                                    "SZALLAS_NEV": "Gold Hotel",
                                    "CIM": "1016 Budapest, Hegyalja út 12"
                                },
                                {
                                    "NEV": "Kelemen Áron",
                                    "SZALLAS_NEV": "Kentaur Hotel",
                                    "CIM": "8600 Siófok (Széplak), Akácfa utca 1"
                                },
                                {
                                    "NEV": "Bajusz Bence",
                                    "SZALLAS_NEV": "Kentaur Hotel",
                                    "CIM": "8600 Siófok (Széplak), Akácfa utca 1"
                                },
                                {
                                    "NEV": "Lukács Kornél",
                                    "SZALLAS_NEV": "Fortuna panzió",
                                    "CIM": "1019 Budapest XIV. Cinkotai út 86."
                                },
                                {
                                    "NEV": "Lengyel Ágnes",
                                    "SZALLAS_NEV": "Fortuna Panzió",
                                    "CIM": "5900 Orosháza, Gyopárosfürdő Tópart utca 3."
                                },
                                {
                                    "NEV": "Farkas Sándor",
                                    "SZALLAS_NEV": "Gold Hotel",
                                    "CIM": "1016 Budapest, Hegyalja út 12"
                                },
                                {
                                    "NEV": "Tóth Júlia",
                                    "SZALLAS_NEV": "Kentaur Hotel",
                                    "CIM": "8600 Siófok (Széplak), Akácfa utca 1"
                                },
                                {
                                    "NEV": "Kovács Katalin",
                                    "SZALLAS_NEV": "Gold Hotel",
                                    "CIM": "1016 Budapest, Hegyalja út 12"
                                },
                                {
                                    "NEV": "Kő Nikoletta",
                                    "SZALLAS_NEV": "Gold Hotel",
                                    "CIM": "1016 Budapest, Hegyalja út 12"
                                },
                                {
                                    "NEV": "Maródi Andrea",
                                    "SZALLAS_NEV": "Fortuna panzió",
                                    "CIM": "1019 Budapest XIV. Cinkotai út 86."
                                },
                                {
                                    "NEV": "Orosz Ferenc",
                                    "SZALLAS_NEV": "Kentaur Hotel",
                                    "CIM": "8600 Siófok (Széplak), Akácfa utca 1"
                                },
                                {
                                    "NEV": "Bozsik Balázs",
                                    "SZALLAS_NEV": "Kentaur Hotel",
                                    "CIM": "8600 Siófok (Széplak), Akácfa utca 1"
                                },
                                {
                                    "NEV": "Tóth Zoltán",
                                    "SZALLAS_NEV": "Gold Hotel",
                                    "CIM": "1016 Budapest, Hegyalja út 12"
                                },
                                {
                                    "NEV": "Szirmai Renáta",
                                    "SZALLAS_NEV": "Jáde panzió",
                                    "CIM": "8624 Balatonföldvár, Kiss u.2."
                                },
                                {
                                    "NEV": "Nagymihály Csongor",
                                    "SZALLAS_NEV": "Jáde panzió",
                                    "CIM": "8624 Balatonföldvár, Kiss u.2."
                                },
                                {
                                    "NEV": "Vígh András",
                                    "SZALLAS_NEV": "Fortuna panzió",
                                    "CIM": "1019 Budapest XIV. Cinkotai út 86."
                                },
                                {
                                    "NEV": "Bori Krisztina",
                                    "SZALLAS_NEV": "Gold Hotel",
                                    "CIM": "1016 Budapest, Hegyalja út 12"
                                },
                                {
                                    "NEV": "Horváth Ágnes",
                                    "SZALLAS_NEV": "Fortuna panzió",
                                    "CIM": "1019 Budapest XIV. Cinkotai út 86."
                                },
                                {
                                    "NEV": "Erdei András",
                                    "SZALLAS_NEV": "Gold Hotel",
                                    "CIM": "1016 Budapest, Hegyalja út 12"
                                },
                                {
                                    "NEV": "Gondos Katalin",
                                    "SZALLAS_NEV": "Fortuna panzió",
                                    "CIM": "1019 Budapest XIV. Cinkotai út 86."
                                },
                                {
                                    "NEV": "Telek Gábor",
                                    "SZALLAS_NEV": "Fortuna Panzió",
                                    "CIM": "5900 Orosháza, Gyopárosfürdő Tópart utca 3."
                                },
                                {
                                    "NEV": "Móra László",
                                    "SZALLAS_NEV": "Fortuna panzió",
                                    "CIM": "1019 Budapest XIV. Cinkotai út 86."
                                },
                                {
                                    "NEV": "Józsa Zsolt",
                                    "SZALLAS_NEV": "Fortuna panzió",
                                    "CIM": "1019 Budapest XIV. Cinkotai út 86."
                                },
                                {
                                    "NEV": "Horváth Bálint",
                                    "SZALLAS_NEV": "Kentaur Hotel",
                                    "CIM": "8600 Siófok (Széplak), Akácfa utca 1"
                                },
                                {
                                    "NEV": "Tóth Júlia",
                                    "SZALLAS_NEV": "Gold Hotel",
                                    "CIM": "1016 Budapest, Hegyalja út 12"
                                },
                                {
                                    "NEV": "Nagy Gabriella",
                                    "SZALLAS_NEV": "Kentaur Hotel",
                                    "CIM": "8600 Siófok (Széplak), Akácfa utca 1"
                                },
                                {
                                    "NEV": "Gondos Miklós",
                                    "SZALLAS_NEV": "Fortuna Panzió",
                                    "CIM": "5900 Orosháza, Gyopárosfürdő Tópart utca 3."
                                },
                                {
                                    "NEV": "Simon Anikó",
                                    "SZALLAS_NEV": "Fortuna Panzió",
                                    "CIM": "5900 Orosháza, Gyopárosfürdő Tópart utca 3."
                                },
                                {
                                    "NEV": "Palágyi Polla",
                                    "SZALLAS_NEV": "Kentaur Hotel",
                                    "CIM": "8600 Siófok (Széplak), Akácfa utca 1"
                                },
                                {
                                    "NEV": "Vizi István",
                                    "SZALLAS_NEV": "Kentaur Hotel",
                                    "CIM": "8600 Siófok (Széplak), Akácfa utca 1"
                                },
                                {
                                    "NEV": "Pulai Zsolt",
                                    "SZALLAS_NEV": "Jáde panzió",
                                    "CIM": "8624 Balatonföldvár, Kiss u.2."
                                },
                                {
                                    "NEV": "Pivarcsi Anett",
                                    "SZALLAS_NEV": "Gold Hotel",
                                    "CIM": "1016 Budapest, Hegyalja út 12"
                                },
                                {
                                    "NEV": "Gondos Katalin",
                                    "SZALLAS_NEV": "Kentaur Hotel",
                                    "CIM": "8600 Siófok (Széplak), Akácfa utca 1"
                                },
                                {
                                    "NEV": "Pivarcsi Anett",
                                    "SZALLAS_NEV": "Gold Hotel",
                                    "CIM": "1016 Budapest, Hegyalja út 12"
                                },
                                {
                                    "NEV": "Kelemen Áron",
                                    "SZALLAS_NEV": "Jáde panzió",
                                    "CIM": "8624 Balatonföldvár, Kiss u.2."
                                },
                                {
                                    "NEV": "Móra László",
                                    "SZALLAS_NEV": "Fortuna Panzió",
                                    "CIM": "5900 Orosháza, Gyopárosfürdő Tópart utca 3."
                                },
                                {
                                    "NEV": "Rab Sebestyén",
                                    "SZALLAS_NEV": "Kentaur Hotel",
                                    "CIM": "8600 Siófok (Széplak), Akácfa utca 1"
                                },
                                {
                                    "NEV": "Horváth Ágnes",
                                    "SZALLAS_NEV": "Gold Hotel",
                                    "CIM": "1016 Budapest, Hegyalja út 12"
                                },
                                {
                                    "NEV": "Horváth Katalin",
                                    "SZALLAS_NEV": "Kentaur Hotel",
                                    "CIM": "8600 Siófok (Széplak), Akácfa utca 1"
                                },
                                {
                                    "NEV": "Keszler Dániel",
                                    "SZALLAS_NEV": "Gold Hotel",
                                    "CIM": "1016 Budapest, Hegyalja út 12"
                                },
                                {
                                    "NEV": "Kovács Katalin",
                                    "SZALLAS_NEV": "Gold Hotel",
                                    "CIM": "1016 Budapest, Hegyalja út 12"
                                },
                                {
                                    "NEV": "Mogyródi Krisztián",
                                    "SZALLAS_NEV": "Fortuna Apartman",
                                    "CIM": "4200 Hajdúszoboszló, Wesselényi utca 56."
                                },
                                {
                                    "NEV": "Orbán Bernadett",
                                    "SZALLAS_NEV": "Partiszél Vendégház",
                                    "CIM": "8220 Balatonalmádi Neptun u. 23."
                                },
                                {
                                    "NEV": "Vizi István",
                                    "SZALLAS_NEV": "Partiszél Vendégház",
                                    "CIM": "8220 Balatonalmádi Neptun u. 23."
                                },
                                {
                                    "NEV": "Rab Sebestyén",
                                    "SZALLAS_NEV": "Fortuna Apartman",
                                    "CIM": "4200 Hajdúszoboszló, Wesselényi utca 56."
                                },
                                {
                                    "NEV": "Győrffy Bence",
                                    "SZALLAS_NEV": "Fortuna Apartman",
                                    "CIM": "4200 Hajdúszoboszló, Wesselényi utca 56."
                                },
                                {
                                    "NEV": "Barna Zoltán",
                                    "SZALLAS_NEV": "Partiszél Vendégház",
                                    "CIM": "8220 Balatonalmádi Neptun u. 23."
                                },
                                {
                                    "NEV": "Fő Nándor",
                                    "SZALLAS_NEV": "Szieszta Apartmanház",
                                    "CIM": "8630 Balatonboglár, Dózsa György utca 108"
                                },
                                {
                                    "NEV": "Józsa Zsolt",
                                    "SZALLAS_NEV": "Partiszél Vendégház",
                                    "CIM": "8220 Balatonalmádi Neptun u. 23."
                                },
                                {
                                    "NEV": "Patay Róbert",
                                    "SZALLAS_NEV": "Szieszta Apartmanház",
                                    "CIM": "8630 Balatonboglár, Dózsa György utca 108"
                                },
                                {
                                    "NEV": "Ambrus Dávid",
                                    "SZALLAS_NEV": "Partiszél Vendégház",
                                    "CIM": "8220 Balatonalmádi Neptun u. 23."
                                },
                                {
                                    "NEV": "Opra Attila",
                                    "SZALLAS_NEV": "Fortuna Apartman",
                                    "CIM": "4200 Hajdúszoboszló, Wesselényi utca 56."
                                },
                                {
                                    "NEV": "Tatár Nikoletta",
                                    "SZALLAS_NEV": "Családi Ház",
                                    "CIM": "8630 Balatonboglár, József Attila utca 25"
                                },
                                {
                                    "NEV": "Balla Miklós",
                                    "SZALLAS_NEV": "Családi Ház",
                                    "CIM": "8630 Balatonboglár, József Attila utca 25"
                                },
                                {
                                    "NEV": "Nagymihály Lajos",
                                    "SZALLAS_NEV": "Fortuna Apartman",
                                    "CIM": "4200 Hajdúszoboszló, Wesselényi utca 56."
                                },
                                {
                                    "NEV": "Győrffy Bence",
                                    "SZALLAS_NEV": "Fortuna Apartman",
                                    "CIM": "4200 Hajdúszoboszló, Wesselényi utca 56."
                                },
                                {
                                    "NEV": "Tatár Nikoletta",
                                    "SZALLAS_NEV": "Partiszél Vendégház",
                                    "CIM": "8220 Balatonalmádi Neptun u. 23."
                                },
                                {
                                    "NEV": "Hídasi Judit",
                                    "SZALLAS_NEV": "Szieszta Apartmanház",
                                    "CIM": "8630 Balatonboglár, Dózsa György utca 108"
                                },
                                {
                                    "NEV": "Kiss Andrea",
                                    "SZALLAS_NEV": "Fortuna Apartman",
                                    "CIM": "4200 Hajdúszoboszló, Wesselényi utca 56."
                                },
                                {
                                    "NEV": "Bosnyák Ilona",
                                    "SZALLAS_NEV": "Partiszél Vendégház",
                                    "CIM": "8220 Balatonalmádi Neptun u. 23."
                                },
                                {
                                    "NEV": "Hartyánszky Ágnes",
                                    "SZALLAS_NEV": "Fortuna Apartman",
                                    "CIM": "4200 Hajdúszoboszló, Wesselényi utca 56."
                                },
                                {
                                    "NEV": "Ambrus Dávid",
                                    "SZALLAS_NEV": "Szieszta Apartmanház",
                                    "CIM": "8630 Balatonboglár, Dózsa György utca 108"
                                },
                                {
                                    "NEV": "Gyárfás Krisztina",
                                    "SZALLAS_NEV": "Családi Ház",
                                    "CIM": "8630 Balatonboglár, József Attila utca 25"
                                },
                                {
                                    "NEV": "Baráth Mária",
                                    "SZALLAS_NEV": "Fortuna Apartman",
                                    "CIM": "4200 Hajdúszoboszló, Wesselényi utca 56."
                                },
                                {
                                    "NEV": "Móra László",
                                    "SZALLAS_NEV": "Fortuna Apartman",
                                    "CIM": "4200 Hajdúszoboszló, Wesselényi utca 56."
                                },
                                {
                                    "NEV": "Hegedűs Norbert",
                                    "SZALLAS_NEV": "Partiszél Vendégház",
                                    "CIM": "8220 Balatonalmádi Neptun u. 23."
                                },
                                {
                                    "NEV": "Iván Róbert",
                                    "SZALLAS_NEV": "Családi Ház",
                                    "CIM": "8630 Balatonboglár, József Attila utca 25"
                                },
                                {
                                    "NEV": "Szűcs Balázs",
                                    "SZALLAS_NEV": "Fortuna Apartman",
                                    "CIM": "4200 Hajdúszoboszló, Wesselényi utca 56."
                                },
                                {
                                    "NEV": "Gyuris József",
                                    "SZALLAS_NEV": "Családi Ház",
                                    "CIM": "8630 Balatonboglár, József Attila utca 25"
                                },
                                {
                                    "NEV": "Harangozó János",
                                    "SZALLAS_NEV": "Fortuna Apartman",
                                    "CIM": "4200 Hajdúszoboszló, Wesselényi utca 56."
                                },
                                {
                                    "NEV": "Antal Tamás",
                                    "SZALLAS_NEV": "Szieszta Apartmanház",
                                    "CIM": "8630 Balatonboglár, Dózsa György utca 108"
                                },
                                {
                                    "NEV": "Tóth Roland",
                                    "SZALLAS_NEV": "Fortuna Apartman",
                                    "CIM": "4200 Hajdúszoboszló, Wesselényi utca 56."
                                },
                                {
                                    "NEV": "Köves Gábor",
                                    "SZALLAS_NEV": "Szieszta Apartmanház",
                                    "CIM": "8630 Balatonboglár, Dózsa György utca 108"
                                },
                                {
                                    "NEV": "Feró Valentin",
                                    "SZALLAS_NEV": "Családi Ház",
                                    "CIM": "8630 Balatonboglár, József Attila utca 25"
                                },
                                {
                                    "NEV": "Gyuris József",
                                    "SZALLAS_NEV": "Fortuna Apartman",
                                    "CIM": "4200 Hajdúszoboszló, Wesselényi utca 56."
                                },
                                {
                                    "NEV": "Keszler Dániel",
                                    "SZALLAS_NEV": "Szieszta Apartmanház",
                                    "CIM": "8630 Balatonboglár, Dózsa György utca 108"
                                },
                                {
                                    "NEV": "Farkas Sára",
                                    "SZALLAS_NEV": "Szieszta Apartmanház",
                                    "CIM": "8630 Balatonboglár, Dózsa György utca 108"
                                },
                                {
                                    "NEV": "Nagymihály Csongor",
                                    "SZALLAS_NEV": "Fortuna Apartman",
                                    "CIM": "4200 Hajdúszoboszló, Wesselényi utca 56."
                                },
                                {
                                    "NEV": "Bagi Beáta",
                                    "SZALLAS_NEV": "Családi Ház",
                                    "CIM": "8630 Balatonboglár, József Attila utca 25"
                                },
                                {
                                    "NEV": "Zatykó Katalin",
                                    "SZALLAS_NEV": "Partiszél Vendégház",
                                    "CIM": "8220 Balatonalmádi Neptun u. 23."
                                },
                                {
                                    "NEV": "Kalacsi Márton",
                                    "SZALLAS_NEV": "Fortuna Apartman",
                                    "CIM": "4200 Hajdúszoboszló, Wesselényi utca 56."
                                },
                                {
                                    "NEV": "Bakó Klaudia",
                                    "SZALLAS_NEV": "Partiszél Vendégház",
                                    "CIM": "8220 Balatonalmádi Neptun u. 23."
                                },
                                {
                                    "NEV": "Komjáti András",
                                    "SZALLAS_NEV": "Partiszél Vendégház",
                                    "CIM": "8220 Balatonalmádi Neptun u. 23."
                                },
                                {
                                    "NEV": "Molnár Bálint",
                                    "SZALLAS_NEV": "Partiszél Vendégház",
                                    "CIM": "8220 Balatonalmádi Neptun u. 23."
                                },
                                {
                                    "NEV": "Nagy László",
                                    "SZALLAS_NEV": "Fortuna Apartman",
                                    "CIM": "4200 Hajdúszoboszló, Wesselényi utca 56."
                                },
                                {
                                    "NEV": "Kerényi Beatrix",
                                    "SZALLAS_NEV": "Partiszél Vendégház",
                                    "CIM": "8220 Balatonalmádi Neptun u. 23."
                                },
                                {
                                    "NEV": "Kornseé Gyöngyi",
                                    "SZALLAS_NEV": "Fortuna Apartman",
                                    "CIM": "4200 Hajdúszoboszló, Wesselényi utca 56."
                                },
                                {
                                    "NEV": "Molnár Bálint",
                                    "SZALLAS_NEV": "Fortuna Apartman",
                                    "CIM": "4200 Hajdúszoboszló, Wesselényi utca 56."
                                },
                                {
                                    "NEV": "Köves Gábor",
                                    "SZALLAS_NEV": "Családi Ház",
                                    "CIM": "8630 Balatonboglár, József Attila utca 25"
                                },
                                {
                                    "NEV": "Bagi Beáta",
                                    "SZALLAS_NEV": "Fortuna Apartman",
                                    "CIM": "4200 Hajdúszoboszló, Wesselényi utca 56."
                                },
                                {
                                    "NEV": "Karasz Sándor",
                                    "SZALLAS_NEV": "Partiszél Vendégház",
                                    "CIM": "8220 Balatonalmádi Neptun u. 23."
                                },
                                {
                                    "NEV": "Hegedűs Norbert",
                                    "SZALLAS_NEV": "Családi Ház",
                                    "CIM": "8630 Balatonboglár, József Attila utca 25"
                                },
                                {
                                    "NEV": "Kelemen Áron",
                                    "SZALLAS_NEV": "Szieszta Apartmanház",
                                    "CIM": "8630 Balatonboglár, Dózsa György utca 108"
                                },
                                {
                                    "NEV": "Kovács Bernadett",
                                    "SZALLAS_NEV": "Fortuna Apartman",
                                    "CIM": "4200 Hajdúszoboszló, Wesselényi utca 56."
                                },
                                {
                                    "NEV": "Molnár Bálint",
                                    "SZALLAS_NEV": "Szieszta Apartmanház",
                                    "CIM": "8630 Balatonboglár, Dózsa György utca 108"
                                },
                                {
                                    "NEV": "Fényes Tamás",
                                    "SZALLAS_NEV": "Családi Ház",
                                    "CIM": "8630 Balatonboglár, József Attila utca 25"
                                },
                                {
                                    "NEV": "Back András",
                                    "SZALLAS_NEV": "Szieszta Apartmanház",
                                    "CIM": "8630 Balatonboglár, Dózsa György utca 108"
                                },
                                {
                                    "NEV": "Vörös Dániel",
                                    "SZALLAS_NEV": "Partiszél Vendégház",
                                    "CIM": "8220 Balatonalmádi Neptun u. 23."
                                },
                                {
                                    "NEV": "Gondos Katalin",
                                    "SZALLAS_NEV": "Fortuna Apartman",
                                    "CIM": "4200 Hajdúszoboszló, Wesselényi utca 56."
                                },
                                {
                                    "NEV": "Regős Annamária",
                                    "SZALLAS_NEV": "Partiszél Vendégház",
                                    "CIM": "8220 Balatonalmádi Neptun u. 23."
                                },
                                {
                                    "NEV": "Dunai Aladár",
                                    "SZALLAS_NEV": "Szieszta Apartmanház",
                                    "CIM": "8630 Balatonboglár, Dózsa György utca 108"
                                },
                                {
                                    "NEV": "Molnár András",
                                    "SZALLAS_NEV": "Szieszta Apartmanház",
                                    "CIM": "8630 Balatonboglár, Dózsa György utca 108"
                                },
                                {
                                    "NEV": "Boros Vivien",
                                    "SZALLAS_NEV": "Szieszta Apartmanház",
                                    "CIM": "8630 Balatonboglár, Dózsa György utca 108"
                                },
                                {
                                    "NEV": "Bárci Gusztáv",
                                    "SZALLAS_NEV": "Fortuna Apartman",
                                    "CIM": "4200 Hajdúszoboszló, Wesselényi utca 56."
                                },
                                {
                                    "NEV": "Koza Máté",
                                    "SZALLAS_NEV": "Partiszél Vendégház",
                                    "CIM": "8220 Balatonalmádi Neptun u. 23."
                                },
                                {
                                    "NEV": "Bakó Klaudia",
                                    "SZALLAS_NEV": "Szieszta Apartmanház",
                                    "CIM": "8630 Balatonboglár, Dózsa György utca 108"
                                },
                                {
                                    "NEV": "Vida Gabriella",
                                    "SZALLAS_NEV": "Fortuna Apartman",
                                    "CIM": "4200 Hajdúszoboszló, Wesselényi utca 56."
                                },
                                {
                                    "NEV": "Iván Róbert",
                                    "SZALLAS_NEV": "Családi Ház",
                                    "CIM": "8630 Balatonboglár, József Attila utca 25"
                                },
                                {
                                    "NEV": "Simon Bernadett",
                                    "SZALLAS_NEV": "Fortuna Apartman",
                                    "CIM": "4200 Hajdúszoboszló, Wesselényi utca 56."
                                },
                                {
                                    "NEV": "Bíró Péter",
                                    "SZALLAS_NEV": "Fortuna Apartman",
                                    "CIM": "4200 Hajdúszoboszló, Wesselényi utca 56."
                                },
                                {
                                    "NEV": "Kiss Andrea",
                                    "SZALLAS_NEV": "Fortuna Apartman",
                                    "CIM": "4200 Hajdúszoboszló, Wesselényi utca 56."
                                },
                                {
                                    "NEV": "Székely Brigitta",
                                    "SZALLAS_NEV": "Szieszta Apartmanház",
                                    "CIM": "8630 Balatonboglár, Dózsa György utca 108"
                                },
                                {
                                    "NEV": "Turcsik Tünde",
                                    "SZALLAS_NEV": "Szieszta Apartmanház",
                                    "CIM": "8630 Balatonboglár, Dózsa György utca 108"
                                },
                                {
                                    "NEV": "Szilágyi Mátyás",
                                    "SZALLAS_NEV": "Partiszél Vendégház",
                                    "CIM": "8220 Balatonalmádi Neptun u. 23."
                                },
                                {
                                    "NEV": "Berendi Péter",
                                    "SZALLAS_NEV": "Fortuna Apartman",
                                    "CIM": "4200 Hajdúszoboszló, Wesselényi utca 56."
                                },
                                {
                                    "NEV": "Rab Sebestyén",
                                    "SZALLAS_NEV": "Fortuna Apartman",
                                    "CIM": "4200 Hajdúszoboszló, Wesselényi utca 56."
                                },
                                {
                                    "NEV": "Dusha Tímea",
                                    "SZALLAS_NEV": "Szieszta Apartmanház",
                                    "CIM": "8630 Balatonboglár, Dózsa György utca 108"
                                },
                                {
                                    "NEV": "Horváth Katalin",
                                    "SZALLAS_NEV": "Fortuna Apartman",
                                    "CIM": "4200 Hajdúszoboszló, Wesselényi utca 56."
                                },
                                {
                                    "NEV": "Bieniek Ádám",
                                    "SZALLAS_NEV": "Partiszél Vendégház",
                                    "CIM": "8220 Balatonalmádi Neptun u. 23."
                                },
                                {
                                    "NEV": "Varsányi Zsuzsa",
                                    "SZALLAS_NEV": "Fortuna Apartman",
                                    "CIM": "4200 Hajdúszoboszló, Wesselényi utca 56."
                                },
                                {
                                    "NEV": "Farkas Sára",
                                    "SZALLAS_NEV": "Fortuna Apartman",
                                    "CIM": "4200 Hajdúszoboszló, Wesselényi utca 56."
                                },
                                {
                                    "NEV": "Czérna Krisztián",
                                    "SZALLAS_NEV": "Fortuna Apartman",
                                    "CIM": "4200 Hajdúszoboszló, Wesselényi utca 56."
                                },
                                {
                                    "NEV": "Szabó Julianna",
                                    "SZALLAS_NEV": "Családi Ház",
                                    "CIM": "8630 Balatonboglár, József Attila utca 25"
                                },
                                {
                                    "NEV": "Ferencz Roland",
                                    "SZALLAS_NEV": "Szieszta Apartmanház",
                                    "CIM": "8630 Balatonboglár, Dózsa György utca 108"
                                },
                                {
                                    "NEV": "Keszler Dániel",
                                    "SZALLAS_NEV": "Szieszta Apartmanház",
                                    "CIM": "8630 Balatonboglár, Dózsa György utca 108"
                                },
                                {
                                    "NEV": "Kornseé Gyöngyi",
                                    "SZALLAS_NEV": "Partiszél Vendégház",
                                    "CIM": "8220 Balatonalmádi Neptun u. 23."
                                },
                                {
                                    "NEV": "Bíró Péter",
                                    "SZALLAS_NEV": "Szieszta Apartmanház",
                                    "CIM": "8630 Balatonboglár, Dózsa György utca 108"
                                },
                                {
                                    "NEV": "Rácz Rajmond",
                                    "SZALLAS_NEV": "Partiszél Vendégház",
                                    "CIM": "8220 Balatonalmádi Neptun u. 23."
                                },
                                {
                                    "NEV": "Berendi Péter",
                                    "SZALLAS_NEV": "Fortuna Apartman",
                                    "CIM": "4200 Hajdúszoboszló, Wesselényi utca 56."
                                },
                                {
                                    "NEV": "Barna Zoltán",
                                    "SZALLAS_NEV": "Partiszél Vendégház",
                                    "CIM": "8220 Balatonalmádi Neptun u. 23."
                                },
                                {
                                    "NEV": "Bíró Ákos",
                                    "SZALLAS_NEV": "Szieszta Apartmanház",
                                    "CIM": "8630 Balatonboglár, Dózsa György utca 108"
                                },
                                {
                                    "NEV": "Vajda Zsuzsa",
                                    "SZALLAS_NEV": "Szieszta Apartmanház",
                                    "CIM": "8630 Balatonboglár, Dózsa György utca 108"
                                },
                                {
                                    "NEV": "Móra László",
                                    "SZALLAS_NEV": "Szieszta Apartmanház",
                                    "CIM": "8630 Balatonboglár, Dózsa György utca 108"
                                },
                                {
                                    "NEV": "Bíró Péter",
                                    "SZALLAS_NEV": "Fortuna Apartman",
                                    "CIM": "4200 Hajdúszoboszló, Wesselényi utca 56."
                                },
                                {
                                    "NEV": "Bieniek Ádám",
                                    "SZALLAS_NEV": "Családi Ház",
                                    "CIM": "8630 Balatonboglár, József Attila utca 25"
                                },
                                {
                                    "NEV": "Perlinger Éva",
                                    "SZALLAS_NEV": "Szieszta Apartmanház",
                                    "CIM": "8630 Balatonboglár, Dózsa György utca 108"
                                },
                                {
                                    "NEV": "Kerényi Beatrix",
                                    "SZALLAS_NEV": "Szieszta Apartmanház",
                                    "CIM": "8630 Balatonboglár, Dózsa György utca 108"
                                },
                                {
                                    "NEV": "Nádudvari Henrik",
                                    "SZALLAS_NEV": "Szieszta Apartmanház",
                                    "CIM": "8630 Balatonboglár, Dózsa György utca 108"
                                },
                                {
                                    "NEV": "Bozsik Balázs",
                                    "SZALLAS_NEV": "Szieszta Apartmanház",
                                    "CIM": "8630 Balatonboglár, Dózsa György utca 108"
                                },
                                {
                                    "NEV": "Győrffy Bence",
                                    "SZALLAS_NEV": "Partiszél Vendégház",
                                    "CIM": "8220 Balatonalmádi Neptun u. 23."
                                },
                                {
                                    "NEV": "Turcsik Tünde",
                                    "SZALLAS_NEV": "Fortuna Apartman",
                                    "CIM": "4200 Hajdúszoboszló, Wesselényi utca 56."
                                },
                                {
                                    "NEV": "Ferencz Roland",
                                    "SZALLAS_NEV": "Családi Ház",
                                    "CIM": "8630 Balatonboglár, József Attila utca 25"
                                },
                                {
                                    "NEV": "Szalai Szilárd",
                                    "SZALLAS_NEV": "Családi Ház",
                                    "CIM": "8630 Balatonboglár, József Attila utca 25"
                                },
                                {
                                    "NEV": "Jakab Áron",
                                    "SZALLAS_NEV": "Szieszta Apartmanház",
                                    "CIM": "8630 Balatonboglár, Dózsa György utca 108"
                                },
                                {
                                    "NEV": "Tankó Veronika",
                                    "SZALLAS_NEV": "Szieszta Apartmanház",
                                    "CIM": "8630 Balatonboglár, Dózsa György utca 108"
                                },
                                {
                                    "NEV": "Székely Brigitta",
                                    "SZALLAS_NEV": "Családi Ház",
                                    "CIM": "8630 Balatonboglár, József Attila utca 25"
                                },
                                {
                                    "NEV": "Papp Imre",
                                    "SZALLAS_NEV": "Partiszél Vendégház",
                                    "CIM": "8220 Balatonalmádi Neptun u. 23."
                                },
                                {
                                    "NEV": "Horváth Krisztina",
                                    "SZALLAS_NEV": "Családi Ház",
                                    "CIM": "8630 Balatonboglár, József Attila utca 25"
                                },
                                {
                                    "NEV": "Juhász Mihály",
                                    "SZALLAS_NEV": "Fortuna Apartman",
                                    "CIM": "4200 Hajdúszoboszló, Wesselényi utca 56."
                                },
                                {
                                    "NEV": "Pataki Brigitta",
                                    "SZALLAS_NEV": "Szieszta Apartmanház",
                                    "CIM": "8630 Balatonboglár, Dózsa György utca 108"
                                },
                                {
                                    "NEV": "Bajusz Bence",
                                    "SZALLAS_NEV": "Szieszta Apartmanház",
                                    "CIM": "8630 Balatonboglár, Dózsa György utca 108"
                                },
                                {
                                    "NEV": "Simon Bernadett",
                                    "SZALLAS_NEV": "Fortuna Apartman",
                                    "CIM": "4200 Hajdúszoboszló, Wesselényi utca 56."
                                },
                                {
                                    "NEV": "Szedlár Krisztina",
                                    "SZALLAS_NEV": "Családi Ház",
                                    "CIM": "8630 Balatonboglár, József Attila utca 25"
                                },
                                {
                                    "NEV": "Nagy László",
                                    "SZALLAS_NEV": "Szieszta Apartmanház",
                                    "CIM": "8630 Balatonboglár, Dózsa György utca 108"
                                },
                                {
                                    "NEV": "Bucskó Róza",
                                    "SZALLAS_NEV": "Fortuna Apartman",
                                    "CIM": "4200 Hajdúszoboszló, Wesselényi utca 56."
                                },
                                {
                                    "NEV": "Kozma Péter",
                                    "SZALLAS_NEV": "Partiszél Vendégház",
                                    "CIM": "8220 Balatonalmádi Neptun u. 23."
                                },
                                {
                                    "NEV": "Vörös Dániel",
                                    "SZALLAS_NEV": "Partiszél Vendégház",
                                    "CIM": "8220 Balatonalmádi Neptun u. 23."
                                },
                                {
                                    "NEV": "Szikszai Réka",
                                    "SZALLAS_NEV": "Szieszta Apartmanház",
                                    "CIM": "8630 Balatonboglár, Dózsa György utca 108"
                                }
                            ]
                        },
                        "text/html": [
                            "<table>",
                            "<tr><th>NEV</th><th>SZALLAS_NEV</th><th>CIM</th></tr>",
                            "<tr><td>Poprádi Kristóf</td><td>Lagúna Hotel</td><td>1097 Budapest, Albert Flórián út 3</td></tr>",
                            "<tr><td>Rácz Dániel</td><td>Lagúna Hotel</td><td>1097 Budapest, Albert Flórián út 3</td></tr>",
                            "<tr><td>Jakab Áron</td><td>Hotel Három Hattyú</td><td>8623 Balatonföldvár, Rákóczi Ferenc út 45.</td></tr>",
                            "<tr><td>Bíró Péter</td><td>Lagúna Hotel</td><td>1097 Budapest, Albert Flórián út 3</td></tr>",
                            "<tr><td>Vajda Zsuzsa</td><td>Lagúna Hotel</td><td>1097 Budapest, Albert Flórián út 3</td></tr>",
                            "<tr><td>Pivarcsi Anett</td><td>Lagúna Hotel</td><td>1097 Budapest, Albert Flórián út 3</td></tr>",
                            "<tr><td>Szűcs Balázs</td><td>Lagúna Hotel</td><td>1097 Budapest, Albert Flórián út 3</td></tr>",
                            "<tr><td>Orbán Bernadett</td><td>Lagúna Hotel</td><td>1097 Budapest, Albert Flórián út 3</td></tr>",
                            "<tr><td>Szekendi Beatrix</td><td>Hotel Három Hattyú</td><td>8623 Balatonföldvár, Rákóczi Ferenc út 45.</td></tr>",
                            "<tr><td>Hegedűs Norbert</td><td>Hotel Három Hattyú</td><td>8623 Balatonföldvár, Rákóczi Ferenc út 45.</td></tr>",
                            "<tr><td>Kispál Márk</td><td>Lagúna Hotel</td><td>1097 Budapest, Albert Flórián út 3</td></tr>",
                            "<tr><td>Bagi Beáta</td><td>Lagúna Hotel</td><td>1097 Budapest, Albert Flórián út 3</td></tr>",
                            "<tr><td>Rácz Dániel</td><td>Lagúna Hotel</td><td>1097 Budapest, Albert Flórián út 3</td></tr>",
                            "<tr><td>Szalai Szilárd</td><td>Hotel Három Hattyú</td><td>8623 Balatonföldvár, Rákóczi Ferenc út 45.</td></tr>",
                            "<tr><td>Gyárfás Krisztina</td><td>Hotel Három Hattyú</td><td>8623 Balatonföldvár, Rákóczi Ferenc út 45.</td></tr>",
                            "<tr><td>Kalacsi Márton</td><td>Hotel Három Hattyú</td><td>8623 Balatonföldvár, Rákóczi Ferenc út 45.</td></tr>",
                            "<tr><td>Pivarcsi Anett</td><td>Hotel Három Hattyú</td><td>8623 Balatonföldvár, Rákóczi Ferenc út 45.</td></tr>",
                            "<tr><td>Urbán Viktoria</td><td>Hotel Három Hattyú</td><td>8623 Balatonföldvár, Rákóczi Ferenc út 45.</td></tr>",
                            "<tr><td>Kovács Bernadett</td><td>Hotel Három Hattyú</td><td>8623 Balatonföldvár, Rákóczi Ferenc út 45.</td></tr>",
                            "<tr><td>Gyuris József</td><td>Hotel Három Hattyú</td><td>8623 Balatonföldvár, Rákóczi Ferenc út 45.</td></tr>",
                            "<tr><td>Boros Vivien</td><td>Hotel Három Hattyú</td><td>8623 Balatonföldvár, Rákóczi Ferenc út 45.</td></tr>",
                            "<tr><td>Fényes Tamás</td><td>Hotel Három Hattyú</td><td>8623 Balatonföldvár, Rákóczi Ferenc út 45.</td></tr>",
                            "<tr><td>Viktor Éva</td><td>Hotel Három Hattyú</td><td>8623 Balatonföldvár, Rákóczi Ferenc út 45.</td></tr>",
                            "<tr><td>Bárci Gusztáv</td><td>Hotel Három Hattyú</td><td>8623 Balatonföldvár, Rákóczi Ferenc út 45.</td></tr>",
                            "<tr><td>Nagymihály Csongor</td><td>Hotel Három Hattyú</td><td>8623 Balatonföldvár, Rákóczi Ferenc út 45.</td></tr>",
                            "<tr><td>Giliga János</td><td>Hotel Három Hattyú</td><td>8623 Balatonföldvár, Rákóczi Ferenc út 45.</td></tr>",
                            "<tr><td>Hegedűs Norbert</td><td>Hotel Három Hattyú</td><td>8623 Balatonföldvár, Rákóczi Ferenc út 45.</td></tr>",
                            "<tr><td>Keszler Dániel</td><td>Hotel Három Hattyú</td><td>8623 Balatonföldvár, Rákóczi Ferenc út 45.</td></tr>",
                            "<tr><td>Szilágyi Mátyás</td><td>Hotel Három Hattyú</td><td>8623 Balatonföldvár, Rákóczi Ferenc út 45.</td></tr>",
                            "<tr><td>Szirmai Renáta</td><td>Hotel Három Hattyú</td><td>8623 Balatonföldvár, Rákóczi Ferenc út 45.</td></tr>",
                            "<tr><td>Komjáti András</td><td>Hotel Három Hattyú</td><td>8623 Balatonföldvár, Rákóczi Ferenc út 45.</td></tr>",
                            "<tr><td>Barna Zoltán</td><td>Lagúna Hotel</td><td>1097 Budapest, Albert Flórián út 3</td></tr>",
                            "<tr><td>Bori Krisztina</td><td>Lagúna Hotel</td><td>1097 Budapest, Albert Flórián út 3</td></tr>",
                            "<tr><td>Antal Tamás</td><td>Lagúna Hotel</td><td>1097 Budapest, Albert Flórián út 3</td></tr>",
                            "<tr><td>Baráth Mária</td><td>Lagúna Hotel</td><td>1097 Budapest, Albert Flórián út 3</td></tr>",
                            "<tr><td>Csiger Bertalan</td><td>Hotel Három Hattyú</td><td>8623 Balatonföldvár, Rákóczi Ferenc út 45.</td></tr>",
                            "<tr><td>Horváth Krisztina</td><td>Hotel Három Hattyú</td><td>8623 Balatonföldvár, Rákóczi Ferenc út 45.</td></tr>",
                            "<tr><td>Gulyás Attila</td><td>Lagúna Hotel</td><td>1097 Budapest, Albert Flórián út 3</td></tr>",
                            "<tr><td>Botka Mátyás</td><td>Lagúna Hotel</td><td>1097 Budapest, Albert Flórián út 3</td></tr>",
                            "<tr><td>Zatykó Katalin</td><td>Hotel Három Hattyú</td><td>8623 Balatonföldvár, Rákóczi Ferenc út 45.</td></tr>",
                            "<tr><td>Kozma Péter</td><td>Hotel Három Hattyú</td><td>8623 Balatonföldvár, Rákóczi Ferenc út 45.</td></tr>",
                            "<tr><td>Bakódy Balázs</td><td>Lagúna Hotel</td><td>1097 Budapest, Albert Flórián út 3</td></tr>",
                            "<tr><td>Horváth Katalin</td><td>Lagúna Hotel</td><td>1097 Budapest, Albert Flórián út 3</td></tr>",
                            "<tr><td>Józsa Zsolt</td><td>Hotel Három Hattyú</td><td>8623 Balatonföldvár, Rákóczi Ferenc út 45.</td></tr>",
                            "<tr><td>Szűcs Balázs</td><td>Hotel Három Hattyú</td><td>8623 Balatonföldvár, Rákóczi Ferenc út 45.</td></tr>",
                            "<tr><td>Szabó Julianna</td><td>Lagúna Hotel</td><td>1097 Budapest, Albert Flórián út 3</td></tr>",
                            "<tr><td>Vizi István</td><td>Hotel Három Hattyú</td><td>8623 Balatonföldvár, Rákóczi Ferenc út 45.</td></tr>",
                            "<tr><td>Bozsik Balázs</td><td>Lagúna Hotel</td><td>1097 Budapest, Albert Flórián út 3</td></tr>",
                            "<tr><td>Mohos Mónika</td><td>Hotel Három Hattyú</td><td>8623 Balatonföldvár, Rákóczi Ferenc út 45.</td></tr>",
                            "<tr><td>Kuruc Emese</td><td>Hotel Három Hattyú</td><td>8623 Balatonföldvár, Rákóczi Ferenc út 45.</td></tr>",
                            "<tr><td>Tari Szilvia</td><td>Hotel Három Hattyú</td><td>8623 Balatonföldvár, Rákóczi Ferenc út 45.</td></tr>",
                            "<tr><td>Nagymihály Lajos</td><td>Hotel Három Hattyú</td><td>8623 Balatonföldvár, Rákóczi Ferenc út 45.</td></tr>",
                            "<tr><td>Molnár Bálint</td><td>Hotel Három Hattyú</td><td>8623 Balatonföldvár, Rákóczi Ferenc út 45.</td></tr>",
                            "<tr><td>Szalai Szilárd</td><td>Hotel Három Hattyú</td><td>8623 Balatonföldvár, Rákóczi Ferenc út 45.</td></tr>",
                            "<tr><td>Kiss Andrea</td><td>Hotel Három Hattyú</td><td>8623 Balatonföldvár, Rákóczi Ferenc út 45.</td></tr>",
                            "<tr><td>Zatykó Katalin</td><td>Hotel Három Hattyú</td><td>8623 Balatonföldvár, Rákóczi Ferenc út 45.</td></tr>",
                            "<tr><td>Hegedűs Norbert</td><td>Lagúna Hotel</td><td>1097 Budapest, Albert Flórián út 3</td></tr>",
                            "<tr><td>Szalai Péter</td><td>Hotel Három Hattyú</td><td>8623 Balatonföldvár, Rákóczi Ferenc út 45.</td></tr>",
                            "<tr><td>Bagóczki Alexandra</td><td>Hotel Három Hattyú</td><td>8623 Balatonföldvár, Rákóczi Ferenc út 45.</td></tr>",
                            "<tr><td>Köves Gábor</td><td>Lagúna Hotel</td><td>1097 Budapest, Albert Flórián út 3</td></tr>",
                            "<tr><td>Czérna Krisztián</td><td>Hotel Három Hattyú</td><td>8623 Balatonföldvár, Rákóczi Ferenc út 45.</td></tr>",
                            "<tr><td>Horváth Katalin</td><td>Lagúna Hotel</td><td>1097 Budapest, Albert Flórián út 3</td></tr>",
                            "<tr><td>Miklós Szabolcs</td><td>Hotel Három Hattyú</td><td>8623 Balatonföldvár, Rákóczi Ferenc út 45.</td></tr>",
                            "<tr><td>Farkas Béla</td><td>Hotel Három Hattyú</td><td>8623 Balatonföldvár, Rákóczi Ferenc út 45.</td></tr>",
                            "<tr><td>Pásztor Róbert</td><td>Hotel Három Hattyú</td><td>8623 Balatonföldvár, Rákóczi Ferenc út 45.</td></tr>",
                            "<tr><td>Foltényi Sebastián</td><td>Hotel Három Hattyú</td><td>8623 Balatonföldvár, Rákóczi Ferenc út 45.</td></tr>",
                            "<tr><td>Bajusz Bence</td><td>Lagúna Hotel</td><td>1097 Budapest, Albert Flórián út 3</td></tr>",
                            "<tr><td>Zatykó Katalin</td><td>Lagúna Hotel</td><td>1097 Budapest, Albert Flórián út 3</td></tr>",
                            "<tr><td>Bosnyák Ilona</td><td>Hotel Három Hattyú</td><td>8623 Balatonföldvár, Rákóczi Ferenc út 45.</td></tr>",
                            "<tr><td>Vörös Dániel</td><td>Lagúna Hotel</td><td>1097 Budapest, Albert Flórián út 3</td></tr>",
                            "<tr><td>Dusha Tímea</td><td>Hotel Három Hattyú</td><td>8623 Balatonföldvár, Rákóczi Ferenc út 45.</td></tr>",
                            "<tr><td>Kuruc Emese</td><td>Lagúna Hotel</td><td>1097 Budapest, Albert Flórián út 3</td></tr>",
                            "<tr><td>Kerényi Beatrix</td><td>Lagúna Hotel</td><td>1097 Budapest, Albert Flórián út 3</td></tr>",
                            "<tr><td>Móricz Árpád</td><td>Lagúna Hotel</td><td>1097 Budapest, Albert Flórián út 3</td></tr>",
                            "<tr><td>Barabás Pál</td><td>Hotel Három Hattyú</td><td>8623 Balatonföldvár, Rákóczi Ferenc út 45.</td></tr>",
                            "<tr><td>Pivarcsi Anett</td><td>Hotel Három Hattyú</td><td>8623 Balatonföldvár, Rákóczi Ferenc út 45.</td></tr>",
                            "<tr><td>Tömböly Dénes</td><td>Lagúna Hotel</td><td>1097 Budapest, Albert Flórián út 3</td></tr>",
                            "<tr><td>Barna Zoltán</td><td>Lagúna Hotel</td><td>1097 Budapest, Albert Flórián út 3</td></tr>",
                            "<tr><td>Erdei András</td><td>Hotel Három Hattyú</td><td>8623 Balatonföldvár, Rákóczi Ferenc út 45.</td></tr>",
                            "<tr><td>Giliga János</td><td>Lagúna Hotel</td><td>1097 Budapest, Albert Flórián út 3</td></tr>",
                            "<tr><td>Komjáti András</td><td>Lagúna Hotel</td><td>1097 Budapest, Albert Flórián út 3</td></tr>",
                            "<tr><td>Ambrus Dávid</td><td>Hotel Három Hattyú</td><td>8623 Balatonföldvár, Rákóczi Ferenc út 45.</td></tr>",
                            "<tr><td>Tömböly Dénes</td><td>Lagúna Hotel</td><td>1097 Budapest, Albert Flórián út 3</td></tr>",
                            "<tr><td>Papp Imre</td><td>Hotel Három Hattyú</td><td>8623 Balatonföldvár, Rákóczi Ferenc út 45.</td></tr>",
                            "<tr><td>Iván Róbert</td><td>Lagúna Hotel</td><td>1097 Budapest, Albert Flórián út 3</td></tr>",
                            "<tr><td>Kiss Andrea</td><td>Hotel Három Hattyú</td><td>8623 Balatonföldvár, Rákóczi Ferenc út 45.</td></tr>",
                            "<tr><td>Papp Imre</td><td>Hotel Három Hattyú</td><td>8623 Balatonföldvár, Rákóczi Ferenc út 45.</td></tr>",
                            "<tr><td>Kovács Bernadett</td><td>Lagúna Hotel</td><td>1097 Budapest, Albert Flórián út 3</td></tr>",
                            "<tr><td>Bíró Péter</td><td>Hotel Három Hattyú</td><td>8623 Balatonföldvár, Rákóczi Ferenc út 45.</td></tr>",
                            "<tr><td>Simon Anikó</td><td>Hotel Három Hattyú</td><td>8623 Balatonföldvár, Rákóczi Ferenc út 45.</td></tr>",
                            "<tr><td>Sarodi Dóra</td><td>Lagúna Hotel</td><td>1097 Budapest, Albert Flórián út 3</td></tr>",
                            "<tr><td>Pusztai Zsuzsanna</td><td>Lagúna Hotel</td><td>1097 Budapest, Albert Flórián út 3</td></tr>",
                            "<tr><td>Czérna Krisztián</td><td>Lagúna Hotel</td><td>1097 Budapest, Albert Flórián út 3</td></tr>",
                            "<tr><td>Papp Imre</td><td>Hotel Három Hattyú</td><td>8623 Balatonföldvár, Rákóczi Ferenc út 45.</td></tr>",
                            "<tr><td>Vígh András</td><td>Hotel Három Hattyú</td><td>8623 Balatonföldvár, Rákóczi Ferenc út 45.</td></tr>",
                            "<tr><td>Giliga János</td><td>Lagúna Hotel</td><td>1097 Budapest, Albert Flórián út 3</td></tr>",
                            "<tr><td>Telek Gábor</td><td>Hotel Három Hattyú</td><td>8623 Balatonföldvár, Rákóczi Ferenc út 45.</td></tr>",
                            "<tr><td>Boros Vivien</td><td>Lagúna Hotel</td><td>1097 Budapest, Albert Flórián út 3</td></tr>",
                            "<tr><td>Horváth Nikolett</td><td>Hotel Három Hattyú</td><td>8623 Balatonföldvár, Rákóczi Ferenc út 45.</td></tr>",
                            "<tr><td>Turcsik Tünde</td><td>Lagúna Hotel</td><td>1097 Budapest, Albert Flórián út 3</td></tr>",
                            "<tr><td>Farkas Sándor</td><td>Hotel Három Hattyú</td><td>8623 Balatonföldvár, Rákóczi Ferenc út 45.</td></tr>",
                            "<tr><td>Oroszi György</td><td>Hotel Három Hattyú</td><td>8623 Balatonföldvár, Rákóczi Ferenc út 45.</td></tr>",
                            "<tr><td>Keresztúri Viktor</td><td>Hotel Három Hattyú</td><td>8623 Balatonföldvár, Rákóczi Ferenc út 45.</td></tr>",
                            "<tr><td>Tóth András</td><td>Hotel Három Hattyú</td><td>8623 Balatonföldvár, Rákóczi Ferenc út 45.</td></tr>",
                            "<tr><td>Baráth Mária</td><td>Hotel Három Hattyú</td><td>8623 Balatonföldvár, Rákóczi Ferenc út 45.</td></tr>",
                            "<tr><td>Kornseé Gyöngyi</td><td>Lagúna Hotel</td><td>1097 Budapest, Albert Flórián út 3</td></tr>",
                            "<tr><td>Barna Zoltán</td><td>Lagúna Hotel</td><td>1097 Budapest, Albert Flórián út 3</td></tr>",
                            "<tr><td>Pintér Zoltán</td><td>Lagúna Hotel</td><td>1097 Budapest, Albert Flórián út 3</td></tr>",
                            "<tr><td>Ötvös Árpád</td><td>Lagúna Hotel</td><td>1097 Budapest, Albert Flórián út 3</td></tr>",
                            "<tr><td>Pintér Zoltán</td><td>Lagúna Hotel</td><td>1097 Budapest, Albert Flórián út 3</td></tr>",
                            "<tr><td>Szűcs Annamária</td><td>Hotel Három Hattyú</td><td>8623 Balatonföldvár, Rákóczi Ferenc út 45.</td></tr>",
                            "<tr><td>Antal László</td><td>Hotel Három Hattyú</td><td>8623 Balatonföldvár, Rákóczi Ferenc út 45.</td></tr>",
                            "<tr><td>Gondos Katalin</td><td>Hotel Három Hattyú</td><td>8623 Balatonföldvár, Rákóczi Ferenc út 45.</td></tr>",
                            "<tr><td>Orbán Bernadett</td><td>Hotel Három Hattyú</td><td>8623 Balatonföldvár, Rákóczi Ferenc út 45.</td></tr>",
                            "<tr><td>Nagymihály Csongor</td><td>Hotel Három Hattyú</td><td>8623 Balatonföldvár, Rákóczi Ferenc út 45.</td></tr>",
                            "<tr><td>Simon Bernadett</td><td>Hotel Három Hattyú</td><td>8623 Balatonföldvár, Rákóczi Ferenc út 45.</td></tr>",
                            "<tr><td>Kovács Katalin</td><td>Lagúna Hotel</td><td>1097 Budapest, Albert Flórián út 3</td></tr>",
                            "<tr><td>Antal Tamás</td><td>Hotel Három Hattyú</td><td>8623 Balatonföldvár, Rákóczi Ferenc út 45.</td></tr>",
                            "<tr><td>Nyíri Georgij</td><td>Hotel Három Hattyú</td><td>8623 Balatonföldvár, Rákóczi Ferenc út 45.</td></tr>",
                            "<tr><td>Bori Krisztina</td><td>Hotel Három Hattyú</td><td>8623 Balatonföldvár, Rákóczi Ferenc út 45.</td></tr>",
                            "<tr><td>Orosz Ferenc</td><td>Hotel Három Hattyú</td><td>8623 Balatonföldvár, Rákóczi Ferenc út 45.</td></tr>",
                            "<tr><td>Mile Norbert</td><td>Hotel Három Hattyú</td><td>8623 Balatonföldvár, Rákóczi Ferenc út 45.</td></tr>",
                            "<tr><td>Molnár Zsófi</td><td>Lagúna Hotel</td><td>1097 Budapest, Albert Flórián út 3</td></tr>",
                            "<tr><td>Kovács Bernadett</td><td>Lagúna Hotel</td><td>1097 Budapest, Albert Flórián út 3</td></tr>",
                            "<tr><td>Horváth Ágnes</td><td>Lagúna Hotel</td><td>1097 Budapest, Albert Flórián út 3</td></tr>",
                            "<tr><td>Molnár András</td><td>Hotel Három Hattyú</td><td>8623 Balatonföldvár, Rákóczi Ferenc út 45.</td></tr>",
                            "<tr><td>Kerényi Beatrix</td><td>Hotel Három Hattyú</td><td>8623 Balatonföldvár, Rákóczi Ferenc út 45.</td></tr>",
                            "<tr><td>Kő Nikoletta</td><td>Hotel Három Hattyú</td><td>8623 Balatonföldvár, Rákóczi Ferenc út 45.</td></tr>",
                            "<tr><td>Ambrus Dávid</td><td>Hotel Három Hattyú</td><td>8623 Balatonföldvár, Rákóczi Ferenc út 45.</td></tr>",
                            "<tr><td>Frank Fruzsina</td><td>Hotel Három Hattyú</td><td>8623 Balatonföldvár, Rákóczi Ferenc út 45.</td></tr>",
                            "<tr><td>Kertész Katalin</td><td>Hotel Három Hattyú</td><td>8623 Balatonföldvár, Rákóczi Ferenc út 45.</td></tr>",
                            "<tr><td>Varga István</td><td>Hotel Három Hattyú</td><td>8623 Balatonföldvár, Rákóczi Ferenc út 45.</td></tr>",
                            "<tr><td>Jakab Áron</td><td>Hotel Három Hattyú</td><td>8623 Balatonföldvár, Rákóczi Ferenc út 45.</td></tr>",
                            "<tr><td>Gondos Katalin</td><td>Hotel Három Hattyú</td><td>8623 Balatonföldvár, Rákóczi Ferenc út 45.</td></tr>",
                            "<tr><td>Erdei András</td><td>Lagúna Hotel</td><td>1097 Budapest, Albert Flórián út 3</td></tr>",
                            "<tr><td>Barta Zsuzsanna</td><td>Lagúna Hotel</td><td>1097 Budapest, Albert Flórián út 3</td></tr>",
                            "<tr><td>Köves Gábor</td><td>Hotel Három Hattyú</td><td>8623 Balatonföldvár, Rákóczi Ferenc út 45.</td></tr>",
                            "<tr><td>Kovács Katalin</td><td>Hotel Három Hattyú</td><td>8623 Balatonföldvár, Rákóczi Ferenc út 45.</td></tr>",
                            "<tr><td>Móra László</td><td>Lagúna Hotel</td><td>1097 Budapest, Albert Flórián út 3</td></tr>",
                            "<tr><td>Bíró Ákos</td><td>Hotel Három Hattyú</td><td>8623 Balatonföldvár, Rákóczi Ferenc út 45.</td></tr>",
                            "<tr><td>Rácz Dániel</td><td>Hotel Három Hattyú</td><td>8623 Balatonföldvár, Rákóczi Ferenc út 45.</td></tr>",
                            "<tr><td>Barkóci Ádám</td><td>Lagúna Hotel</td><td>1097 Budapest, Albert Flórián út 3</td></tr>",
                            "<tr><td>Neizer Andrea</td><td>Lagúna Hotel</td><td>1097 Budapest, Albert Flórián út 3</td></tr>",
                            "<tr><td>Szedlár Krisztina</td><td>Hotel Három Hattyú</td><td>8623 Balatonföldvár, Rákóczi Ferenc út 45.</td></tr>",
                            "<tr><td>Maródi Andrea</td><td>Hotel Három Hattyú</td><td>8623 Balatonföldvár, Rákóczi Ferenc út 45.</td></tr>",
                            "<tr><td>Gergely József</td><td>Hotel Három Hattyú</td><td>8623 Balatonföldvár, Rákóczi Ferenc út 45.</td></tr>",
                            "<tr><td>Bucskó Róza</td><td>Hotel Három Hattyú</td><td>8623 Balatonföldvár, Rákóczi Ferenc út 45.</td></tr>",
                            "<tr><td>Kalacsi Márton</td><td>Lagúna Hotel</td><td>1097 Budapest, Albert Flórián út 3</td></tr>",
                            "<tr><td>Barabás Pál</td><td>Lagúna Hotel</td><td>1097 Budapest, Albert Flórián út 3</td></tr>",
                            "<tr><td>Bittmann Edit</td><td>Lagúna Hotel</td><td>1097 Budapest, Albert Flórián út 3</td></tr>",
                            "<tr><td>Foltényi Sebastián</td><td>Hotel Három Hattyú</td><td>8623 Balatonföldvár, Rákóczi Ferenc út 45.</td></tr>",
                            "<tr><td>Nyíri Georgij</td><td>Lagúna Hotel</td><td>1097 Budapest, Albert Flórián út 3</td></tr>",
                            "<tr><td>Sobják Dávid</td><td>Hotel Három Hattyú</td><td>8623 Balatonföldvár, Rákóczi Ferenc út 45.</td></tr>",
                            "<tr><td>Lukács Kornél</td><td>Lagúna Hotel</td><td>1097 Budapest, Albert Flórián út 3</td></tr>",
                            "<tr><td>Szikszai Réka</td><td>Hotel Három Hattyú</td><td>8623 Balatonföldvár, Rákóczi Ferenc út 45.</td></tr>",
                            "<tr><td>Kuruc Emese</td><td>Hotel Három Hattyú</td><td>8623 Balatonföldvár, Rákóczi Ferenc út 45.</td></tr>",
                            "<tr><td>Hamvay-Kovács Anita</td><td>Hotel Három Hattyú</td><td>8623 Balatonföldvár, Rákóczi Ferenc út 45.</td></tr>",
                            "<tr><td>Balogh Eszter</td><td>Hotel Három Hattyú</td><td>8623 Balatonföldvár, Rákóczi Ferenc út 45.</td></tr>",
                            "<tr><td>Szekendi Beatrix</td><td>Lagúna Hotel</td><td>1097 Budapest, Albert Flórián út 3</td></tr>",
                            "<tr><td>Józsa Zsolt</td><td>Lagúna Hotel</td><td>1097 Budapest, Albert Flórián út 3</td></tr>",
                            "<tr><td>Varga István</td><td>Lagúna Hotel</td><td>1097 Budapest, Albert Flórián út 3</td></tr>",
                            "<tr><td>Vörös Dániel</td><td>Hotel Három Hattyú</td><td>8623 Balatonföldvár, Rákóczi Ferenc út 45.</td></tr>",
                            "<tr><td>Horváth Krisztina</td><td>Lagúna Hotel</td><td>1097 Budapest, Albert Flórián út 3</td></tr>",
                            "<tr><td>Balogh Eszter</td><td>Hotel Három Hattyú</td><td>8623 Balatonföldvár, Rákóczi Ferenc út 45.</td></tr>",
                            "<tr><td>Bagi Beáta</td><td>Lagúna Hotel</td><td>1097 Budapest, Albert Flórián út 3</td></tr>",
                            "<tr><td>Bakó Klaudia</td><td>Lagúna Hotel</td><td>1097 Budapest, Albert Flórián út 3</td></tr>",
                            "<tr><td>Bagi Beáta</td><td>Lagúna Hotel</td><td>1097 Budapest, Albert Flórián út 3</td></tr>",
                            "<tr><td>Orbán Bernadett</td><td>Lagúna Hotel</td><td>1097 Budapest, Albert Flórián út 3</td></tr>",
                            "<tr><td>Molnár András</td><td>Hotel Három Hattyú</td><td>8623 Balatonföldvár, Rákóczi Ferenc út 45.</td></tr>",
                            "<tr><td>Farkas Sára</td><td>Hotel Három Hattyú</td><td>8623 Balatonföldvár, Rákóczi Ferenc út 45.</td></tr>",
                            "<tr><td>Tornyos Andrea</td><td>Hotel Három Hattyú</td><td>8623 Balatonföldvár, Rákóczi Ferenc út 45.</td></tr>",
                            "<tr><td>Gondos Miklós</td><td>Hotel Három Hattyú</td><td>8623 Balatonföldvár, Rákóczi Ferenc út 45.</td></tr>",
                            "<tr><td>Gombos Tibor</td><td>Lagúna Hotel</td><td>1097 Budapest, Albert Flórián út 3</td></tr>",
                            "<tr><td>Bozsó Péter</td><td>Lagúna Hotel</td><td>1097 Budapest, Albert Flórián út 3</td></tr>",
                            "<tr><td>Csóti Attila</td><td>Hotel Három Hattyú</td><td>8623 Balatonföldvár, Rákóczi Ferenc út 45.</td></tr>",
                            "<tr><td>Simon Bernadett</td><td>Lagúna Hotel</td><td>1097 Budapest, Albert Flórián út 3</td></tr>",
                            "<tr><td>Nagy Sándor</td><td>Lagúna Hotel</td><td>1097 Budapest, Albert Flórián út 3</td></tr>",
                            "<tr><td>Viktor Éva</td><td>Lagúna Hotel</td><td>1097 Budapest, Albert Flórián út 3</td></tr>",
                            "<tr><td>Kovács Ágnes</td><td>Hotel Három Hattyú</td><td>8623 Balatonföldvár, Rákóczi Ferenc út 45.</td></tr>",
                            "<tr><td>Pintér Zoltán</td><td>Lagúna Hotel</td><td>1097 Budapest, Albert Flórián út 3</td></tr>",
                            "<tr><td>Köves Gábor</td><td>Hotel Három Hattyú</td><td>8623 Balatonföldvár, Rákóczi Ferenc út 45.</td></tr>",
                            "<tr><td>Hartyánszky Ágnes</td><td>Hotel Három Hattyú</td><td>8623 Balatonföldvár, Rákóczi Ferenc út 45.</td></tr>",
                            "<tr><td>Kazy Tihamér</td><td>Hotel Három Hattyú</td><td>8623 Balatonföldvár, Rákóczi Ferenc út 45.</td></tr>",
                            "<tr><td>Harangozó János</td><td>Lagúna Hotel</td><td>1097 Budapest, Albert Flórián út 3</td></tr>",
                            "<tr><td>Zatykó Katalin</td><td>Hotel Három Hattyú</td><td>8623 Balatonföldvár, Rákóczi Ferenc út 45.</td></tr>",
                            "<tr><td>Molnár Eszter</td><td>Lagúna Hotel</td><td>1097 Budapest, Albert Flórián út 3</td></tr>",
                            "<tr><td>Iván Róbert</td><td>Lagúna Hotel</td><td>1097 Budapest, Albert Flórián út 3</td></tr>",
                            "<tr><td>Urbán Viktoria</td><td>Lagúna Hotel</td><td>1097 Budapest, Albert Flórián út 3</td></tr>",
                            "<tr><td>Kozma Péter</td><td>Lagúna Hotel</td><td>1097 Budapest, Albert Flórián út 3</td></tr>",
                            "<tr><td>Feró Valentin</td><td>Lagúna Hotel</td><td>1097 Budapest, Albert Flórián út 3</td></tr>",
                            "<tr><td>Búza Imre</td><td>Hotel Három Hattyú</td><td>8623 Balatonföldvár, Rákóczi Ferenc út 45.</td></tr>",
                            "<tr><td>Simon Bernadett</td><td>Hotel Három Hattyú</td><td>8623 Balatonföldvár, Rákóczi Ferenc út 45.</td></tr>",
                            "<tr><td>Oroszi György</td><td>Hotel Három Hattyú</td><td>8623 Balatonföldvár, Rákóczi Ferenc út 45.</td></tr>",
                            "<tr><td>Bori Krisztina</td><td>Hotel Három Hattyú</td><td>8623 Balatonföldvár, Rákóczi Ferenc út 45.</td></tr>",
                            "<tr><td>Bíró Péter</td><td>Lagúna Hotel</td><td>1097 Budapest, Albert Flórián út 3</td></tr>",
                            "<tr><td>Nagymihály Lajos</td><td>Hotel Három Hattyú</td><td>8623 Balatonföldvár, Rákóczi Ferenc út 45.</td></tr>",
                            "<tr><td>Sarodi Dóra</td><td>Hotel Három Hattyú</td><td>8623 Balatonföldvár, Rákóczi Ferenc út 45.</td></tr>",
                            "<tr><td>Szilágyi Mátyás</td><td>Hotel Három Hattyú</td><td>8623 Balatonföldvár, Rákóczi Ferenc út 45.</td></tr>",
                            "<tr><td>Szalai Péter</td><td>Hotel Három Hattyú</td><td>8623 Balatonföldvár, Rákóczi Ferenc út 45.</td></tr>",
                            "<tr><td>Kelemen Áron</td><td>Lagúna Hotel</td><td>1097 Budapest, Albert Flórián út 3</td></tr>",
                            "<tr><td>Csiger Bertalan</td><td>Hotel Három Hattyú</td><td>8623 Balatonföldvár, Rákóczi Ferenc út 45.</td></tr>",
                            "<tr><td>Bosnyák Ilona</td><td>Hotel Három Hattyú</td><td>8623 Balatonföldvár, Rákóczi Ferenc út 45.</td></tr>",
                            "<tr><td>Kovács Katalin</td><td>Hotel Három Hattyú</td><td>8623 Balatonföldvár, Rákóczi Ferenc út 45.</td></tr>",
                            "<tr><td>Kuruc Emese</td><td>Hotel Három Hattyú</td><td>8623 Balatonföldvár, Rákóczi Ferenc út 45.</td></tr>",
                            "<tr><td>Tömböly Dénes</td><td>Lagúna Hotel</td><td>1097 Budapest, Albert Flórián út 3</td></tr>",
                            "<tr><td>Ötvös Árpád</td><td>Lagúna Hotel</td><td>1097 Budapest, Albert Flórián út 3</td></tr>",
                            "<tr><td>Orosz Ferenc</td><td>Lagúna Hotel</td><td>1097 Budapest, Albert Flórián út 3</td></tr>",
                            "<tr><td>Rácz Rajmond</td><td>Hotel Három Hattyú</td><td>8623 Balatonföldvár, Rákóczi Ferenc út 45.</td></tr>",
                            "<tr><td>Giliga János</td><td>Lagúna Hotel</td><td>1097 Budapest, Albert Flórián út 3</td></tr>",
                            "<tr><td>Simon Anikó</td><td>Hotel Három Hattyú</td><td>8623 Balatonföldvár, Rákóczi Ferenc út 45.</td></tr>",
                            "<tr><td>Miklós Tamara</td><td>Lagúna Hotel</td><td>1097 Budapest, Albert Flórián út 3</td></tr>",
                            "<tr><td>Bozsó Péter</td><td>Hotel Három Hattyú</td><td>8623 Balatonföldvár, Rákóczi Ferenc út 45.</td></tr>",
                            "<tr><td>Gondos Miklós</td><td>Lagúna Hotel</td><td>1097 Budapest, Albert Flórián út 3</td></tr>",
                            "<tr><td>Maródi Andrea</td><td>Hotel Három Hattyú</td><td>8623 Balatonföldvár, Rákóczi Ferenc út 45.</td></tr>",
                            "<tr><td>Farkas Sára</td><td>Lagúna Hotel</td><td>1097 Budapest, Albert Flórián út 3</td></tr>",
                            "<tr><td>Turcsik Tünde</td><td>Hotel Három Hattyú</td><td>8623 Balatonföldvár, Rákóczi Ferenc út 45.</td></tr>",
                            "<tr><td>Tóth Roland</td><td>Lagúna Hotel</td><td>1097 Budapest, Albert Flórián út 3</td></tr>",
                            "<tr><td>Sobják Dávid</td><td>Hotel Három Hattyú</td><td>8623 Balatonföldvár, Rákóczi Ferenc út 45.</td></tr>",
                            "<tr><td>Erdei András</td><td>Lagúna Hotel</td><td>1097 Budapest, Albert Flórián út 3</td></tr>",
                            "<tr><td>Komjáti András</td><td>Hotel Három Hattyú</td><td>8623 Balatonföldvár, Rákóczi Ferenc út 45.</td></tr>",
                            "<tr><td>Frank Fruzsina</td><td>Hotel Három Hattyú</td><td>8623 Balatonföldvár, Rákóczi Ferenc út 45.</td></tr>",
                            "<tr><td>Molnár András</td><td>Lagúna Hotel</td><td>1097 Budapest, Albert Flórián út 3</td></tr>",
                            "<tr><td>Kardos Renáta</td><td>Hotel Három Hattyú</td><td>8623 Balatonföldvár, Rákóczi Ferenc út 45.</td></tr>",
                            "<tr><td>Kuruc Emese</td><td>Lagúna Hotel</td><td>1097 Budapest, Albert Flórián út 3</td></tr>",
                            "<tr><td>Horváth Bálint</td><td>Hotel Három Hattyú</td><td>8623 Balatonföldvár, Rákóczi Ferenc út 45.</td></tr>",
                            "<tr><td>Bagóczki Alexandra</td><td>Hotel Három Hattyú</td><td>8623 Balatonföldvár, Rákóczi Ferenc út 45.</td></tr>",
                            "<tr><td>Farkas Béla</td><td>Hotel Három Hattyú</td><td>8623 Balatonföldvár, Rákóczi Ferenc út 45.</td></tr>",
                            "<tr><td>Fényes Tamás</td><td>Lagúna Hotel</td><td>1097 Budapest, Albert Flórián út 3</td></tr>",
                            "<tr><td>Nagy Sándor</td><td>Hotel Három Hattyú</td><td>8623 Balatonföldvár, Rákóczi Ferenc út 45.</td></tr>",
                            "<tr><td>Bodor Szabolcs</td><td>Hotel Három Hattyú</td><td>8623 Balatonföldvár, Rákóczi Ferenc út 45.</td></tr>",
                            "<tr><td>Erdei András</td><td>Hotel Három Hattyú</td><td>8623 Balatonföldvár, Rákóczi Ferenc út 45.</td></tr>",
                            "<tr><td>Pintér Zoltán</td><td>Hotel Három Hattyú</td><td>8623 Balatonföldvár, Rákóczi Ferenc út 45.</td></tr>",
                            "<tr><td>Kelemen Áron</td><td>Hotel Három Hattyú</td><td>8623 Balatonföldvár, Rákóczi Ferenc út 45.</td></tr>",
                            "<tr><td>Kuruc Emese</td><td>Hotel Három Hattyú</td><td>8623 Balatonföldvár, Rákóczi Ferenc út 45.</td></tr>",
                            "<tr><td>Kő Nikoletta</td><td>Hotel Három Hattyú</td><td>8623 Balatonföldvár, Rákóczi Ferenc út 45.</td></tr>",
                            "<tr><td>Fényes Tamás</td><td>Lagúna Hotel</td><td>1097 Budapest, Albert Flórián út 3</td></tr>",
                            "<tr><td>Czérna Krisztián</td><td>Lagúna Hotel</td><td>1097 Budapest, Albert Flórián út 3</td></tr>",
                            "<tr><td>Horváth Katalin</td><td>Hotel Három Hattyú</td><td>8623 Balatonföldvár, Rákóczi Ferenc út 45.</td></tr>",
                            "<tr><td>Móricz Árpád</td><td>Lagúna Hotel</td><td>1097 Budapest, Albert Flórián út 3</td></tr>",
                            "<tr><td>Győrffy Bence</td><td>Hotel Három Hattyú</td><td>8623 Balatonföldvár, Rákóczi Ferenc út 45.</td></tr>",
                            "<tr><td>Barabás Pál</td><td>Lagúna Hotel</td><td>1097 Budapest, Albert Flórián út 3</td></tr>",
                            "<tr><td>Kerényi Beatrix</td><td>Lagúna Hotel</td><td>1097 Budapest, Albert Flórián út 3</td></tr>",
                            "<tr><td>Kovács Ágnes</td><td>Lagúna Hotel</td><td>1097 Budapest, Albert Flórián út 3</td></tr>",
                            "<tr><td>Horváth Katalin</td><td>Hotel Három Hattyú</td><td>8623 Balatonföldvár, Rákóczi Ferenc út 45.</td></tr>",
                            "<tr><td>Székely Brigitta</td><td>Hotel Három Hattyú</td><td>8623 Balatonföldvár, Rákóczi Ferenc út 45.</td></tr>",
                            "<tr><td>Patay Róbert</td><td>Hotel Három Hattyú</td><td>8623 Balatonföldvár, Rákóczi Ferenc út 45.</td></tr>",
                            "<tr><td>Bíró Ákos</td><td>Hotel Három Hattyú</td><td>8623 Balatonföldvár, Rákóczi Ferenc út 45.</td></tr>",
                            "<tr><td>Pálinkás János</td><td>Hotel Három Hattyú</td><td>8623 Balatonföldvár, Rákóczi Ferenc út 45.</td></tr>",
                            "<tr><td>Molnár Eszter</td><td>Hotel Három Hattyú</td><td>8623 Balatonföldvár, Rákóczi Ferenc út 45.</td></tr>",
                            "<tr><td>Tari Szilvia</td><td>Hotel Három Hattyú</td><td>8623 Balatonföldvár, Rákóczi Ferenc út 45.</td></tr>",
                            "<tr><td>Mogyródi Krisztián</td><td>Hotel Három Hattyú</td><td>8623 Balatonföldvár, Rákóczi Ferenc út 45.</td></tr>",
                            "<tr><td>Bosnyák Ilona</td><td>Hotel Három Hattyú</td><td>8623 Balatonföldvár, Rákóczi Ferenc út 45.</td></tr>",
                            "<tr><td>Kiss Lajos</td><td>Lagúna Hotel</td><td>1097 Budapest, Albert Flórián út 3</td></tr>",
                            "<tr><td>Rácz Dániel</td><td>Hotel Három Hattyú</td><td>8623 Balatonföldvár, Rákóczi Ferenc út 45.</td></tr>",
                            "<tr><td>Pintér Zoltán</td><td>Hotel Három Hattyú</td><td>8623 Balatonföldvár, Rákóczi Ferenc út 45.</td></tr>",
                            "<tr><td>Papós Tímea</td><td>Hotel Három Hattyú</td><td>8623 Balatonföldvár, Rákóczi Ferenc út 45.</td></tr>",
                            "<tr><td>Tari Szilvia</td><td>Lagúna Hotel</td><td>1097 Budapest, Albert Flórián út 3</td></tr>",
                            "<tr><td>Giliga János</td><td>Hotel Három Hattyú</td><td>8623 Balatonföldvár, Rákóczi Ferenc út 45.</td></tr>",
                            "<tr><td>Barna Zoltán</td><td>Hotel Három Hattyú</td><td>8623 Balatonföldvár, Rákóczi Ferenc út 45.</td></tr>",
                            "<tr><td>Baróti Attila</td><td>Hotel Három Hattyú</td><td>8623 Balatonföldvár, Rákóczi Ferenc út 45.</td></tr>",
                            "<tr><td>Soós István</td><td>Hotel Három Hattyú</td><td>8623 Balatonföldvár, Rákóczi Ferenc út 45.</td></tr>",
                            "<tr><td>Keszler Dániel</td><td>Hotel Három Hattyú</td><td>8623 Balatonföldvár, Rákóczi Ferenc út 45.</td></tr>",
                            "<tr><td>Miklós Szabolcs</td><td>Hotel Három Hattyú</td><td>8623 Balatonföldvár, Rákóczi Ferenc út 45.</td></tr>",
                            "<tr><td>Horváth Ágnes</td><td>Hotel Három Hattyú</td><td>8623 Balatonföldvár, Rákóczi Ferenc út 45.</td></tr>",
                            "<tr><td>Barta Zsuzsanna</td><td>Hotel Három Hattyú</td><td>8623 Balatonföldvár, Rákóczi Ferenc út 45.</td></tr>",
                            "<tr><td>Regős Annamária</td><td>Lagúna Hotel</td><td>1097 Budapest, Albert Flórián út 3</td></tr>",
                            "<tr><td>Bucskó Róza</td><td>Lagúna Hotel</td><td>1097 Budapest, Albert Flórián út 3</td></tr>",
                            "<tr><td>Enyedi Éva</td><td>Hotel Három Hattyú</td><td>8623 Balatonföldvár, Rákóczi Ferenc út 45.</td></tr>",
                            "<tr><td>Bittmann Edit</td><td>Hotel Három Hattyú</td><td>8623 Balatonföldvár, Rákóczi Ferenc út 45.</td></tr>",
                            "<tr><td>Czérna Krisztián</td><td>Hotel Három Hattyú</td><td>8623 Balatonföldvár, Rákóczi Ferenc út 45.</td></tr>",
                            "<tr><td>Ferencz Roland</td><td>Lagúna Hotel</td><td>1097 Budapest, Albert Flórián út 3</td></tr>",
                            "<tr><td>Mohos Mónika</td><td>Lagúna Hotel</td><td>1097 Budapest, Albert Flórián út 3</td></tr>",
                            "<tr><td>Andor Ibolya</td><td>Hotel Három Hattyú</td><td>8623 Balatonföldvár, Rákóczi Ferenc út 45.</td></tr>",
                            "<tr><td>Kertész Katalin</td><td>Hotel Három Hattyú</td><td>8623 Balatonföldvár, Rákóczi Ferenc út 45.</td></tr>",
                            "<tr><td>Horváth Márk</td><td>Lagúna Hotel</td><td>1097 Budapest, Albert Flórián út 3</td></tr>",
                            "<tr><td>Barna Debóra</td><td>Lagúna Hotel</td><td>1097 Budapest, Albert Flórián út 3</td></tr>",
                            "<tr><td>Kardos Renáta</td><td>Lagúna Hotel</td><td>1097 Budapest, Albert Flórián út 3</td></tr>",
                            "<tr><td>Kovács Bernadett</td><td>Hotel Három Hattyú</td><td>8623 Balatonföldvár, Rákóczi Ferenc út 45.</td></tr>",
                            "<tr><td>Bori Krisztina</td><td>Lagúna Hotel</td><td>1097 Budapest, Albert Flórián út 3</td></tr>",
                            "<tr><td>Gulyás Attila</td><td>Hotel Három Hattyú</td><td>8623 Balatonföldvár, Rákóczi Ferenc út 45.</td></tr>",
                            "<tr><td>Palágyi Polla</td><td>Hotel Három Hattyú</td><td>8623 Balatonföldvár, Rákóczi Ferenc út 45.</td></tr>",
                            "<tr><td>Hegedűs Norbert</td><td>Hotel Három Hattyú</td><td>8623 Balatonföldvár, Rákóczi Ferenc út 45.</td></tr>",
                            "<tr><td>Szűcs Annamária</td><td>Hotel Három Hattyú</td><td>8623 Balatonföldvár, Rákóczi Ferenc út 45.</td></tr>",
                            "<tr><td>Tari Szilvia</td><td>Lagúna Hotel</td><td>1097 Budapest, Albert Flórián út 3</td></tr>",
                            "<tr><td>Kelemen Áron</td><td>Hotel Három Hattyú</td><td>8623 Balatonföldvár, Rákóczi Ferenc út 45.</td></tr>",
                            "<tr><td>Giliga János</td><td>Hotel Három Hattyú</td><td>8623 Balatonföldvár, Rákóczi Ferenc út 45.</td></tr>",
                            "<tr><td>Kő Nikoletta</td><td>Hotel Három Hattyú</td><td>8623 Balatonföldvár, Rákóczi Ferenc út 45.</td></tr>",
                            "<tr><td>Vígh András</td><td>Hotel Három Hattyú</td><td>8623 Balatonföldvár, Rákóczi Ferenc út 45.</td></tr>",
                            "<tr><td>Szekendi Beatrix</td><td>Lagúna Hotel</td><td>1097 Budapest, Albert Flórián út 3</td></tr>",
                            "<tr><td>Nagy Júlia</td><td>Hotel Három Hattyú</td><td>8623 Balatonföldvár, Rákóczi Ferenc út 45.</td></tr>",
                            "<tr><td>Barna Debóra</td><td>Hotel Három Hattyú</td><td>8623 Balatonföldvár, Rákóczi Ferenc út 45.</td></tr>",
                            "<tr><td>Viktor Éva</td><td>Hotel Három Hattyú</td><td>8623 Balatonföldvár, Rákóczi Ferenc út 45.</td></tr>",
                            "<tr><td>Papp Imre</td><td>Hotel Három Hattyú</td><td>8623 Balatonföldvár, Rákóczi Ferenc út 45.</td></tr>",
                            "<tr><td>Bíró Péter</td><td>Hotel Három Hattyú</td><td>8623 Balatonföldvár, Rákóczi Ferenc út 45.</td></tr>",
                            "<tr><td>Győrffy Bence</td><td>Hotel Három Hattyú</td><td>8623 Balatonföldvár, Rákóczi Ferenc út 45.</td></tr>",
                            "<tr><td>Bittmann Edit</td><td>Hotel Három Hattyú</td><td>8623 Balatonföldvár, Rákóczi Ferenc út 45.</td></tr>",
                            "<tr><td>Antal László</td><td>Hotel Három Hattyú</td><td>8623 Balatonföldvár, Rákóczi Ferenc út 45.</td></tr>",
                            "<tr><td>Vizi István</td><td>Lagúna Hotel</td><td>1097 Budapest, Albert Flórián út 3</td></tr>",
                            "<tr><td>Kiss Andrea</td><td>Lagúna Hotel</td><td>1097 Budapest, Albert Flórián út 3</td></tr>",
                            "<tr><td>Bozsik Balázs</td><td>Hotel Három Hattyú</td><td>8623 Balatonföldvár, Rákóczi Ferenc út 45.</td></tr>",
                            "<tr><td>Érsek Eszter</td><td>Hotel Három Hattyú</td><td>8623 Balatonföldvár, Rákóczi Ferenc út 45.</td></tr>",
                            "<tr><td>Móricz Árpád</td><td>Hotel Három Hattyú</td><td>8623 Balatonföldvár, Rákóczi Ferenc út 45.</td></tr>",
                            "<tr><td>Fényes Tamás</td><td>Hotel Három Hattyú</td><td>8623 Balatonföldvár, Rákóczi Ferenc út 45.</td></tr>",
                            "<tr><td>Oroszi György</td><td>Hotel Három Hattyú</td><td>8623 Balatonföldvár, Rákóczi Ferenc út 45.</td></tr>",
                            "<tr><td>Szűcs Norbert</td><td>Hotel Három Hattyú</td><td>8623 Balatonföldvár, Rákóczi Ferenc út 45.</td></tr>",
                            "<tr><td>Barabás Pál</td><td>Hotel Három Hattyú</td><td>8623 Balatonföldvár, Rákóczi Ferenc út 45.</td></tr>",
                            "<tr><td>Nagymihály Csongor</td><td>Hotel Három Hattyú</td><td>8623 Balatonföldvár, Rákóczi Ferenc út 45.</td></tr>",
                            "<tr><td>Szirmai Renáta</td><td>Hotel Három Hattyú</td><td>8623 Balatonföldvár, Rákóczi Ferenc út 45.</td></tr>",
                            "<tr><td>Regős Annamária</td><td>Lagúna Hotel</td><td>1097 Budapest, Albert Flórián út 3</td></tr>",
                            "<tr><td>Berta Dávid</td><td>Hotel Három Hattyú</td><td>8623 Balatonföldvár, Rákóczi Ferenc út 45.</td></tr>",
                            "<tr><td>Mile Norbert</td><td>Lagúna Hotel</td><td>1097 Budapest, Albert Flórián út 3</td></tr>",
                            "<tr><td>Kardos Renáta</td><td>Hotel Három Hattyú</td><td>8623 Balatonföldvár, Rákóczi Ferenc út 45.</td></tr>",
                            "<tr><td>Iván Róbert</td><td>Lagúna Hotel</td><td>1097 Budapest, Albert Flórián út 3</td></tr>",
                            "<tr><td>Hamvay-Kovács Anita</td><td>Lagúna Hotel</td><td>1097 Budapest, Albert Flórián út 3</td></tr>",
                            "<tr><td>Rácz Dániel</td><td>Hotel Három Hattyú</td><td>8623 Balatonföldvár, Rákóczi Ferenc út 45.</td></tr>",
                            "<tr><td>Csiger Bertalan</td><td>Hotel Három Hattyú</td><td>8623 Balatonföldvár, Rákóczi Ferenc út 45.</td></tr>",
                            "<tr><td>Tóth Anikó</td><td>Hotel Három Hattyú</td><td>8623 Balatonföldvár, Rákóczi Ferenc út 45.</td></tr>",
                            "<tr><td>Bieniek Ádám</td><td>Lagúna Hotel</td><td>1097 Budapest, Albert Flórián út 3</td></tr>",
                            "<tr><td>Kelemen Áron</td><td>Lagúna Hotel</td><td>1097 Budapest, Albert Flórián út 3</td></tr>",
                            "<tr><td>Czérna Krisztián</td><td>Hotel Három Hattyú</td><td>8623 Balatonföldvár, Rákóczi Ferenc út 45.</td></tr>",
                            "<tr><td>Oroszi György</td><td>Hotel Három Hattyú</td><td>8623 Balatonföldvár, Rákóczi Ferenc út 45.</td></tr>",
                            "<tr><td>Gyuris József</td><td>Hotel Három Hattyú</td><td>8623 Balatonföldvár, Rákóczi Ferenc út 45.</td></tr>",
                            "<tr><td>Sobják Dávid</td><td>Lagúna Hotel</td><td>1097 Budapest, Albert Flórián út 3</td></tr>",
                            "<tr><td>Fülöp Eszter</td><td>Hotel Három Hattyú</td><td>8623 Balatonföldvár, Rákóczi Ferenc út 45.</td></tr>",
                            "<tr><td>Szűcs Balázs</td><td>Lagúna Hotel</td><td>1097 Budapest, Albert Flórián út 3</td></tr>",
                            "<tr><td>Kozma Péter</td><td>Hotel Három Hattyú</td><td>8623 Balatonföldvár, Rákóczi Ferenc út 45.</td></tr>",
                            "<tr><td>Mile Norbert</td><td>Hotel Három Hattyú</td><td>8623 Balatonföldvár, Rákóczi Ferenc út 45.</td></tr>",
                            "<tr><td>Horváth Krisztina</td><td>Kentaur Hotel</td><td>8600 Siófok (Széplak), Akácfa utca 1</td></tr>",
                            "<tr><td>Szűcs Norbert</td><td>Gold Hotel</td><td>1016 Budapest, Hegyalja út 12</td></tr>",
                            "<tr><td>Tóth Júlia</td><td>Kentaur Hotel</td><td>8600 Siófok (Széplak), Akácfa utca 1</td></tr>",
                            "<tr><td>Keszler Dániel</td><td>Kentaur Hotel</td><td>8600 Siófok (Széplak), Akácfa utca 1</td></tr>",
                            "<tr><td>Kardos Renáta</td><td>Fortuna Panzió</td><td>5900 Orosháza, Gyopárosfürdő Tópart utca 3.</td></tr>",
                            "<tr><td>Kalacsi Márton</td><td>Kentaur Hotel</td><td>8600 Siófok (Széplak), Akácfa utca 1</td></tr>",
                            "<tr><td>Jakab Áron</td><td>Kentaur Hotel</td><td>8600 Siófok (Széplak), Akácfa utca 1</td></tr>",
                            "<tr><td>Horváth Katalin</td><td>Gold Hotel</td><td>1016 Budapest, Hegyalja út 12</td></tr>",
                            "<tr><td>Baráth Mária</td><td>Gold Hotel</td><td>1016 Budapest, Hegyalja út 12</td></tr>",
                            "<tr><td>Simon Bernadett</td><td>Fortuna panzió</td><td>1019 Budapest XIV. Cinkotai út 86.</td></tr>",
                            "<tr><td>Opra Attila</td><td>Gold Hotel</td><td>1016 Budapest, Hegyalja út 12</td></tr>",
                            "<tr><td>Mohos Mónika</td><td>Kentaur Hotel</td><td>8600 Siófok (Széplak), Akácfa utca 1</td></tr>",
                            "<tr><td>Bárci Gusztáv</td><td>Gold Hotel</td><td>1016 Budapest, Hegyalja út 12</td></tr>",
                            "<tr><td>Nagy Gabriella</td><td>Fortuna panzió</td><td>1019 Budapest XIV. Cinkotai út 86.</td></tr>",
                            "<tr><td>Szalai Péter</td><td>Kentaur Hotel</td><td>8600 Siófok (Széplak), Akácfa utca 1</td></tr>",
                            "<tr><td>Barabás Pál</td><td>Fortuna Panzió</td><td>5900 Orosháza, Gyopárosfürdő Tópart utca 3.</td></tr>",
                            "<tr><td>Hamvay-Kovács Anita</td><td>Fortuna Panzió</td><td>5900 Orosháza, Gyopárosfürdő Tópart utca 3.</td></tr>",
                            "<tr><td>Mohos Mónika</td><td>Kentaur Hotel</td><td>8600 Siófok (Széplak), Akácfa utca 1</td></tr>",
                            "<tr><td>Ötvös Árpád</td><td>Kentaur Hotel</td><td>8600 Siófok (Széplak), Akácfa utca 1</td></tr>",
                            "<tr><td>Sobják Dávid</td><td>Fortuna Panzió</td><td>5900 Orosháza, Gyopárosfürdő Tópart utca 3.</td></tr>",
                            "<tr><td>Molnár Zsófi</td><td>Fortuna Panzió</td><td>5900 Orosháza, Gyopárosfürdő Tópart utca 3.</td></tr>",
                            "<tr><td>Antal Tamás</td><td>Kentaur Hotel</td><td>8600 Siófok (Széplak), Akácfa utca 1</td></tr>",
                            "<tr><td>Baróti Attila</td><td>Jáde panzió</td><td>8624 Balatonföldvár, Kiss u.2.</td></tr>",
                            "<tr><td>Csiger Bertalan</td><td>Fortuna Panzió</td><td>5900 Orosháza, Gyopárosfürdő Tópart utca 3.</td></tr>",
                            "<tr><td>Horváth Árpád</td><td>Fortuna panzió</td><td>1019 Budapest XIV. Cinkotai út 86.</td></tr>",
                            "<tr><td>Szirmai Renáta</td><td>Fortuna panzió</td><td>1019 Budapest XIV. Cinkotai út 86.</td></tr>",
                            "<tr><td>Harangozó János</td><td>Gold Hotel</td><td>1016 Budapest, Hegyalja út 12</td></tr>",
                            "<tr><td>Nagy Gabriella</td><td>Fortuna Panzió</td><td>5900 Orosháza, Gyopárosfürdő Tópart utca 3.</td></tr>",
                            "<tr><td>Palágyi Polla</td><td>Gold Hotel</td><td>1016 Budapest, Hegyalja út 12</td></tr>",
                            "<tr><td>Tóth Anikó</td><td>Jáde panzió</td><td>8624 Balatonföldvár, Kiss u.2.</td></tr>",
                            "<tr><td>Rácz Dániel</td><td>Kentaur Hotel</td><td>8600 Siófok (Széplak), Akácfa utca 1</td></tr>",
                            "<tr><td>Bozsik Balázs</td><td>Fortuna Panzió</td><td>5900 Orosháza, Gyopárosfürdő Tópart utca 3.</td></tr>",
                            "<tr><td>Szalai Szilárd</td><td>Gold Hotel</td><td>1016 Budapest, Hegyalja út 12</td></tr>",
                            "<tr><td>Tóth András</td><td>Gold Hotel</td><td>1016 Budapest, Hegyalja út 12</td></tr>",
                            "<tr><td>Kerényi Beatrix</td><td>Kentaur Hotel</td><td>8600 Siófok (Széplak), Akácfa utca 1</td></tr>",
                            "<tr><td>Szedlár Krisztina</td><td>Gold Hotel</td><td>1016 Budapest, Hegyalja út 12</td></tr>",
                            "<tr><td>Fő Nándor</td><td>Gold Hotel</td><td>1016 Budapest, Hegyalja út 12</td></tr>",
                            "<tr><td>Barkóci Ádám</td><td>Kentaur Hotel</td><td>8600 Siófok (Széplak), Akácfa utca 1</td></tr>",
                            "<tr><td>Nagy Gabriella</td><td>Kentaur Hotel</td><td>8600 Siófok (Széplak), Akácfa utca 1</td></tr>",
                            "<tr><td>Miklós Szabolcs</td><td>Gold Hotel</td><td>1016 Budapest, Hegyalja út 12</td></tr>",
                            "<tr><td>Tankó Veronika</td><td>Gold Hotel</td><td>1016 Budapest, Hegyalja út 12</td></tr>",
                            "<tr><td>Balogh Eszter</td><td>Fortuna panzió</td><td>1019 Budapest XIV. Cinkotai út 86.</td></tr>",
                            "<tr><td>Kuruc Emese</td><td>Gold Hotel</td><td>1016 Budapest, Hegyalja út 12</td></tr>",
                            "<tr><td>Gyuris József</td><td>Kentaur Hotel</td><td>8600 Siófok (Széplak), Akácfa utca 1</td></tr>",
                            "<tr><td>Kertész Katalin</td><td>Gold Hotel</td><td>1016 Budapest, Hegyalja út 12</td></tr>",
                            "<tr><td>Gyárfás Krisztina</td><td>Jáde panzió</td><td>8624 Balatonföldvár, Kiss u.2.</td></tr>",
                            "<tr><td>Fülöp Eszter</td><td>Jáde panzió</td><td>8624 Balatonföldvár, Kiss u.2.</td></tr>",
                            "<tr><td>Nádudvari Henrik</td><td>Fortuna panzió</td><td>1019 Budapest XIV. Cinkotai út 86.</td></tr>",
                            "<tr><td>Orbán Bernadett</td><td>Kentaur Hotel</td><td>8600 Siófok (Széplak), Akácfa utca 1</td></tr>",
                            "<tr><td>Molnár András</td><td>Fortuna panzió</td><td>1019 Budapest XIV. Cinkotai út 86.</td></tr>",
                            "<tr><td>Kornseé Gyöngyi</td><td>Gold Hotel</td><td>1016 Budapest, Hegyalja út 12</td></tr>",
                            "<tr><td>Neizer Andrea</td><td>Kentaur Hotel</td><td>8600 Siófok (Széplak), Akácfa utca 1</td></tr>",
                            "<tr><td>Nagy Sándor</td><td>Kentaur Hotel</td><td>8600 Siófok (Széplak), Akácfa utca 1</td></tr>",
                            "<tr><td>Vörös Dániel</td><td>Kentaur Hotel</td><td>8600 Siófok (Széplak), Akácfa utca 1</td></tr>",
                            "<tr><td>Frank Fruzsina</td><td>Gold Hotel</td><td>1016 Budapest, Hegyalja út 12</td></tr>",
                            "<tr><td>Bagóczki Alexandra</td><td>Kentaur Hotel</td><td>8600 Siófok (Széplak), Akácfa utca 1</td></tr>",
                            "<tr><td>Kovács Katalin</td><td>Kentaur Hotel</td><td>8600 Siófok (Széplak), Akácfa utca 1</td></tr>",
                            "<tr><td>Bakódy Balázs</td><td>Fortuna panzió</td><td>1019 Budapest XIV. Cinkotai út 86.</td></tr>",
                            "<tr><td>Molnár Bálint</td><td>Fortuna panzió</td><td>1019 Budapest XIV. Cinkotai út 86.</td></tr>",
                            "<tr><td>Ambrus Dávid</td><td>Fortuna panzió</td><td>1019 Budapest XIV. Cinkotai út 86.</td></tr>",
                            "<tr><td>Vörös Dániel</td><td>Kentaur Hotel</td><td>8600 Siófok (Széplak), Akácfa utca 1</td></tr>",
                            "<tr><td>Nagymihály Lajos</td><td>Gold Hotel</td><td>1016 Budapest, Hegyalja út 12</td></tr>",
                            "<tr><td>Koza Máté</td><td>Kentaur Hotel</td><td>8600 Siófok (Széplak), Akácfa utca 1</td></tr>",
                            "<tr><td>Tóth Zoltán</td><td>Kentaur Hotel</td><td>8600 Siófok (Széplak), Akácfa utca 1</td></tr>",
                            "<tr><td>Mogyródi Krisztián</td><td>Kentaur Hotel</td><td>8600 Siófok (Széplak), Akácfa utca 1</td></tr>",
                            "<tr><td>Barta Zsuzsanna</td><td>Fortuna Panzió</td><td>5900 Orosháza, Gyopárosfürdő Tópart utca 3.</td></tr>",
                            "<tr><td>Horváth Ágnes</td><td>Gold Hotel</td><td>1016 Budapest, Hegyalja út 12</td></tr>",
                            "<tr><td>Gondos Katalin</td><td>Kentaur Hotel</td><td>8600 Siófok (Széplak), Akácfa utca 1</td></tr>",
                            "<tr><td>Bieniek Ádám</td><td>Fortuna panzió</td><td>1019 Budapest XIV. Cinkotai út 86.</td></tr>",
                            "<tr><td>Bagóczki Alexandra</td><td>Fortuna panzió</td><td>1019 Budapest XIV. Cinkotai út 86.</td></tr>",
                            "<tr><td>Maródi Andrea</td><td>Gold Hotel</td><td>1016 Budapest, Hegyalja út 12</td></tr>",
                            "<tr><td>Szilágyi Mátyás</td><td>Gold Hotel</td><td>1016 Budapest, Hegyalja út 12</td></tr>",
                            "<tr><td>Giliga János</td><td>Kentaur Hotel</td><td>8600 Siófok (Széplak), Akácfa utca 1</td></tr>",
                            "<tr><td>Nagymihály Lajos</td><td>Fortuna Panzió</td><td>5900 Orosháza, Gyopárosfürdő Tópart utca 3.</td></tr>",
                            "<tr><td>Gyuris József</td><td>Kentaur Hotel</td><td>8600 Siófok (Széplak), Akácfa utca 1</td></tr>",
                            "<tr><td>Back András</td><td>Gold Hotel</td><td>1016 Budapest, Hegyalja út 12</td></tr>",
                            "<tr><td>Móricz Árpád</td><td>Gold Hotel</td><td>1016 Budapest, Hegyalja út 12</td></tr>",
                            "<tr><td>Fülöp Eszter</td><td>Gold Hotel</td><td>1016 Budapest, Hegyalja út 12</td></tr>",
                            "<tr><td>Czérna Krisztián</td><td>Gold Hotel</td><td>1016 Budapest, Hegyalja út 12</td></tr>",
                            "<tr><td>Kovács Katalin</td><td>Gold Hotel</td><td>1016 Budapest, Hegyalja út 12</td></tr>",
                            "<tr><td>Bíró Ákos</td><td>Kentaur Hotel</td><td>8600 Siófok (Széplak), Akácfa utca 1</td></tr>",
                            "<tr><td>Sobják Dávid</td><td>Gold Hotel</td><td>1016 Budapest, Hegyalja út 12</td></tr>",
                            "<tr><td>Barna Zoltán</td><td>Jáde panzió</td><td>8624 Balatonföldvár, Kiss u.2.</td></tr>",
                            "<tr><td>Bozsik Balázs</td><td>Gold Hotel</td><td>1016 Budapest, Hegyalja út 12</td></tr>",
                            "<tr><td>Orbán Bernadett</td><td>Fortuna panzió</td><td>1019 Budapest XIV. Cinkotai út 86.</td></tr>",
                            "<tr><td>Kelemen Áron</td><td>Kentaur Hotel</td><td>8600 Siófok (Széplak), Akácfa utca 1</td></tr>",
                            "<tr><td>Molnár Bálint</td><td>Gold Hotel</td><td>1016 Budapest, Hegyalja út 12</td></tr>",
                            "<tr><td>Szalai Péter</td><td>Kentaur Hotel</td><td>8600 Siófok (Széplak), Akácfa utca 1</td></tr>",
                            "<tr><td>Boros Vivien</td><td>Kentaur Hotel</td><td>8600 Siófok (Széplak), Akácfa utca 1</td></tr>",
                            "<tr><td>Ötvös Árpád</td><td>Gold Hotel</td><td>1016 Budapest, Hegyalja út 12</td></tr>",
                            "<tr><td>Horváth Katalin</td><td>Fortuna panzió</td><td>1019 Budapest XIV. Cinkotai út 86.</td></tr>",
                            "<tr><td>Kazy Tihamér</td><td>Kentaur Hotel</td><td>8600 Siófok (Széplak), Akácfa utca 1</td></tr>",
                            "<tr><td>Farkas Sára</td><td>Gold Hotel</td><td>1016 Budapest, Hegyalja út 12</td></tr>",
                            "<tr><td>Hídasi Judit</td><td>Kentaur Hotel</td><td>8600 Siófok (Széplak), Akácfa utca 1</td></tr>",
                            "<tr><td>Szilágyi Mátyás</td><td>Fortuna panzió</td><td>1019 Budapest XIV. Cinkotai út 86.</td></tr>",
                            "<tr><td>Szekendi Beatrix</td><td>Fortuna panzió</td><td>1019 Budapest XIV. Cinkotai út 86.</td></tr>",
                            "<tr><td>Endresz Bálint</td><td>Kentaur Hotel</td><td>8600 Siófok (Széplak), Akácfa utca 1</td></tr>",
                            "<tr><td>Csóti Attila</td><td>Gold Hotel</td><td>1016 Budapest, Hegyalja út 12</td></tr>",
                            "<tr><td>Ferencz Roland</td><td>Kentaur Hotel</td><td>8600 Siófok (Széplak), Akácfa utca 1</td></tr>",
                            "<tr><td>Szűcs Norbert</td><td>Kentaur Hotel</td><td>8600 Siófok (Széplak), Akácfa utca 1</td></tr>",
                            "<tr><td>Frank Fruzsina</td><td>Kentaur Hotel</td><td>8600 Siófok (Széplak), Akácfa utca 1</td></tr>",
                            "<tr><td>Kovács Bernadett</td><td>Kentaur Hotel</td><td>8600 Siófok (Széplak), Akácfa utca 1</td></tr>",
                            "<tr><td>Boros Vivien</td><td>Gold Hotel</td><td>1016 Budapest, Hegyalja út 12</td></tr>",
                            "<tr><td>Molnár Bálint</td><td>Kentaur Hotel</td><td>8600 Siófok (Széplak), Akácfa utca 1</td></tr>",
                            "<tr><td>Horváth Árpád</td><td>Fortuna panzió</td><td>1019 Budapest XIV. Cinkotai út 86.</td></tr>",
                            "<tr><td>Dusha Tímea</td><td>Fortuna panzió</td><td>1019 Budapest XIV. Cinkotai út 86.</td></tr>",
                            "<tr><td>Turcsik Tünde</td><td>Jáde panzió</td><td>8624 Balatonföldvár, Kiss u.2.</td></tr>",
                            "<tr><td>Farkas Béla</td><td>Gold Hotel</td><td>1016 Budapest, Hegyalja út 12</td></tr>",
                            "<tr><td>Farkas Sára</td><td>Fortuna panzió</td><td>1019 Budapest XIV. Cinkotai út 86.</td></tr>",
                            "<tr><td>Botka Mátyás</td><td>Gold Hotel</td><td>1016 Budapest, Hegyalja út 12</td></tr>",
                            "<tr><td>Nagy Sándor</td><td>Kentaur Hotel</td><td>8600 Siófok (Széplak), Akácfa utca 1</td></tr>",
                            "<tr><td>Gergely József</td><td>Kentaur Hotel</td><td>8600 Siófok (Széplak), Akácfa utca 1</td></tr>",
                            "<tr><td>Balla Miklós</td><td>Fortuna panzió</td><td>1019 Budapest XIV. Cinkotai út 86.</td></tr>",
                            "<tr><td>Balogh Eszter</td><td>Kentaur Hotel</td><td>8600 Siófok (Széplak), Akácfa utca 1</td></tr>",
                            "<tr><td>Bakódy Balázs</td><td>Gold Hotel</td><td>1016 Budapest, Hegyalja út 12</td></tr>",
                            "<tr><td>Kertész Katalin</td><td>Gold Hotel</td><td>1016 Budapest, Hegyalja út 12</td></tr>",
                            "<tr><td>Vukasinovity Bálint</td><td>Kentaur Hotel</td><td>8600 Siófok (Széplak), Akácfa utca 1</td></tr>",
                            "<tr><td>Horváth Árpád</td><td>Gold Hotel</td><td>1016 Budapest, Hegyalja út 12</td></tr>",
                            "<tr><td>Mile Norbert</td><td>Kentaur Hotel</td><td>8600 Siófok (Széplak), Akácfa utca 1</td></tr>",
                            "<tr><td>Kornseé Gyöngyi</td><td>Fortuna panzió</td><td>1019 Budapest XIV. Cinkotai út 86.</td></tr>",
                            "<tr><td>Balogh Eszter</td><td>Gold Hotel</td><td>1016 Budapest, Hegyalja út 12</td></tr>",
                            "<tr><td>Back András</td><td>Gold Hotel</td><td>1016 Budapest, Hegyalja út 12</td></tr>",
                            "<tr><td>Pálinkás János</td><td>Kentaur Hotel</td><td>8600 Siófok (Széplak), Akácfa utca 1</td></tr>",
                            "<tr><td>Pálinkás János</td><td>Gold Hotel</td><td>1016 Budapest, Hegyalja út 12</td></tr>",
                            "<tr><td>Szedlár Krisztina</td><td>Jáde panzió</td><td>8624 Balatonföldvár, Kiss u.2.</td></tr>",
                            "<tr><td>Vajda József</td><td>Kentaur Hotel</td><td>8600 Siófok (Széplak), Akácfa utca 1</td></tr>",
                            "<tr><td>Komjáti András</td><td>Gold Hotel</td><td>1016 Budapest, Hegyalja út 12</td></tr>",
                            "<tr><td>Keszler Dániel</td><td>Fortuna Panzió</td><td>5900 Orosháza, Gyopárosfürdő Tópart utca 3.</td></tr>",
                            "<tr><td>Vajda József</td><td>Fortuna panzió</td><td>1019 Budapest XIV. Cinkotai út 86.</td></tr>",
                            "<tr><td>Csiger Bertalan</td><td>Kentaur Hotel</td><td>8600 Siófok (Széplak), Akácfa utca 1</td></tr>",
                            "<tr><td>Szabó Julianna</td><td>Gold Hotel</td><td>1016 Budapest, Hegyalja út 12</td></tr>",
                            "<tr><td>Dusha Tímea</td><td>Kentaur Hotel</td><td>8600 Siófok (Széplak), Akácfa utca 1</td></tr>",
                            "<tr><td>Kertész Katalin</td><td>Kentaur Hotel</td><td>8600 Siófok (Széplak), Akácfa utca 1</td></tr>",
                            "<tr><td>Bajusz Bence</td><td>Gold Hotel</td><td>1016 Budapest, Hegyalja út 12</td></tr>",
                            "<tr><td>Pusztai Zsuzsanna</td><td>Kentaur Hotel</td><td>8600 Siófok (Széplak), Akácfa utca 1</td></tr>",
                            "<tr><td>Vígh András</td><td>Kentaur Hotel</td><td>8600 Siófok (Széplak), Akácfa utca 1</td></tr>",
                            "<tr><td>Nagy László</td><td>Gold Hotel</td><td>1016 Budapest, Hegyalja út 12</td></tr>",
                            "<tr><td>Soós István</td><td>Jáde panzió</td><td>8624 Balatonföldvár, Kiss u.2.</td></tr>",
                            "<tr><td>Dunai Aladár</td><td>Gold Hotel</td><td>1016 Budapest, Hegyalja út 12</td></tr>",
                            "<tr><td>Vörös Dániel</td><td>Fortuna Panzió</td><td>5900 Orosháza, Gyopárosfürdő Tópart utca 3.</td></tr>",
                            "<tr><td>Sarodi Dóra</td><td>Gold Hotel</td><td>1016 Budapest, Hegyalja út 12</td></tr>",
                            "<tr><td>Szomor Andrea</td><td>Fortuna Panzió</td><td>5900 Orosháza, Gyopárosfürdő Tópart utca 3.</td></tr>",
                            "<tr><td>Boros Vivien</td><td>Kentaur Hotel</td><td>8600 Siófok (Széplak), Akácfa utca 1</td></tr>",
                            "<tr><td>Kispál Márk</td><td>Kentaur Hotel</td><td>8600 Siófok (Széplak), Akácfa utca 1</td></tr>",
                            "<tr><td>Köves Gábor</td><td>Fortuna Panzió</td><td>5900 Orosháza, Gyopárosfürdő Tópart utca 3.</td></tr>",
                            "<tr><td>Gulyás Attila</td><td>Fortuna Panzió</td><td>5900 Orosháza, Gyopárosfürdő Tópart utca 3.</td></tr>",
                            "<tr><td>Szűcs Norbert</td><td>Kentaur Hotel</td><td>8600 Siófok (Széplak), Akácfa utca 1</td></tr>",
                            "<tr><td>Bieniek Ádám</td><td>Kentaur Hotel</td><td>8600 Siófok (Széplak), Akácfa utca 1</td></tr>",
                            "<tr><td>Farkas Sándor</td><td>Kentaur Hotel</td><td>8600 Siófok (Széplak), Akácfa utca 1</td></tr>",
                            "<tr><td>Lengyel Ágnes</td><td>Kentaur Hotel</td><td>8600 Siófok (Széplak), Akácfa utca 1</td></tr>",
                            "<tr><td>Feró Valentin</td><td>Fortuna panzió</td><td>1019 Budapest XIV. Cinkotai út 86.</td></tr>",
                            "<tr><td>Miklós Szabolcs</td><td>Gold Hotel</td><td>1016 Budapest, Hegyalja út 12</td></tr>",
                            "<tr><td>Nagymihály Csongor</td><td>Kentaur Hotel</td><td>8600 Siófok (Széplak), Akácfa utca 1</td></tr>",
                            "<tr><td>Rácz Dániel</td><td>Gold Hotel</td><td>1016 Budapest, Hegyalja út 12</td></tr>",
                            "<tr><td>Kerényi Beatrix</td><td>Kentaur Hotel</td><td>8600 Siófok (Széplak), Akácfa utca 1</td></tr>",
                            "<tr><td>Baráth Mária</td><td>Kentaur Hotel</td><td>8600 Siófok (Széplak), Akácfa utca 1</td></tr>",
                            "<tr><td>Szedlár Krisztina</td><td>Gold Hotel</td><td>1016 Budapest, Hegyalja út 12</td></tr>",
                            "<tr><td>Mohos Mónika</td><td>Gold Hotel</td><td>1016 Budapest, Hegyalja út 12</td></tr>",
                            "<tr><td>Móricz Árpád</td><td>Kentaur Hotel</td><td>8600 Siófok (Széplak), Akácfa utca 1</td></tr>",
                            "<tr><td>Nagy Júlia</td><td>Kentaur Hotel</td><td>8600 Siófok (Széplak), Akácfa utca 1</td></tr>",
                            "<tr><td>Perlinger Éva</td><td>Kentaur Hotel</td><td>8600 Siófok (Széplak), Akácfa utca 1</td></tr>",
                            "<tr><td>Gombos Tibor</td><td>Gold Hotel</td><td>1016 Budapest, Hegyalja út 12</td></tr>",
                            "<tr><td>Kelemen Áron</td><td>Gold Hotel</td><td>1016 Budapest, Hegyalja út 12</td></tr>",
                            "<tr><td>Jakab Áron</td><td>Gold Hotel</td><td>1016 Budapest, Hegyalja út 12</td></tr>",
                            "<tr><td>Balogh Eszter</td><td>Kentaur Hotel</td><td>8600 Siófok (Széplak), Akácfa utca 1</td></tr>",
                            "<tr><td>Farkas Béla</td><td>Gold Hotel</td><td>1016 Budapest, Hegyalja út 12</td></tr>",
                            "<tr><td>Szűcs Balázs</td><td>Kentaur Hotel</td><td>8600 Siófok (Széplak), Akácfa utca 1</td></tr>",
                            "<tr><td>Fő Nándor</td><td>Gold Hotel</td><td>1016 Budapest, Hegyalja út 12</td></tr>",
                            "<tr><td>Pataki Brigitta</td><td>Fortuna Panzió</td><td>5900 Orosháza, Gyopárosfürdő Tópart utca 3.</td></tr>",
                            "<tr><td>Kovács Bernadett</td><td>Kentaur Hotel</td><td>8600 Siófok (Széplak), Akácfa utca 1</td></tr>",
                            "<tr><td>Barna Zoltán</td><td>Gold Hotel</td><td>1016 Budapest, Hegyalja út 12</td></tr>",
                            "<tr><td>Opra Attila</td><td>Gold Hotel</td><td>1016 Budapest, Hegyalja út 12</td></tr>",
                            "<tr><td>Neizer Andrea</td><td>Kentaur Hotel</td><td>8600 Siófok (Széplak), Akácfa utca 1</td></tr>",
                            "<tr><td>Hegedűs Norbert</td><td>Kentaur Hotel</td><td>8600 Siófok (Széplak), Akácfa utca 1</td></tr>",
                            "<tr><td>Juhász Mihály</td><td>Kentaur Hotel</td><td>8600 Siófok (Széplak), Akácfa utca 1</td></tr>",
                            "<tr><td>Érsek Eszter</td><td>Fortuna panzió</td><td>1019 Budapest XIV. Cinkotai út 86.</td></tr>",
                            "<tr><td>Ambrus Dávid</td><td>Fortuna Panzió</td><td>5900 Orosháza, Gyopárosfürdő Tópart utca 3.</td></tr>",
                            "<tr><td>Simon Anikó</td><td>Gold Hotel</td><td>1016 Budapest, Hegyalja út 12</td></tr>",
                            "<tr><td>Kardos Renáta</td><td>Kentaur Hotel</td><td>8600 Siófok (Széplak), Akácfa utca 1</td></tr>",
                            "<tr><td>Horváth Ágnes</td><td>Kentaur Hotel</td><td>8600 Siófok (Széplak), Akácfa utca 1</td></tr>",
                            "<tr><td>Szabó Julianna</td><td>Kentaur Hotel</td><td>8600 Siófok (Széplak), Akácfa utca 1</td></tr>",
                            "<tr><td>Gulyás Attila</td><td>Jáde panzió</td><td>8624 Balatonföldvár, Kiss u.2.</td></tr>",
                            "<tr><td>Zatykó Katalin</td><td>Fortuna Panzió</td><td>5900 Orosháza, Gyopárosfürdő Tópart utca 3.</td></tr>",
                            "<tr><td>Barna Debóra</td><td>Fortuna panzió</td><td>1019 Budapest XIV. Cinkotai út 86.</td></tr>",
                            "<tr><td>Tari Szilvia</td><td>Fortuna Panzió</td><td>5900 Orosháza, Gyopárosfürdő Tópart utca 3.</td></tr>",
                            "<tr><td>Miklós Szabolcs</td><td>Kentaur Hotel</td><td>8600 Siófok (Széplak), Akácfa utca 1</td></tr>",
                            "<tr><td>Mile Norbert</td><td>Gold Hotel</td><td>1016 Budapest, Hegyalja út 12</td></tr>",
                            "<tr><td>Kardos Renáta</td><td>Gold Hotel</td><td>1016 Budapest, Hegyalja út 12</td></tr>",
                            "<tr><td>Vajda Zsuzsa</td><td>Kentaur Hotel</td><td>8600 Siófok (Széplak), Akácfa utca 1</td></tr>",
                            "<tr><td>Simon Bernadett</td><td>Fortuna Panzió</td><td>5900 Orosháza, Gyopárosfürdő Tópart utca 3.</td></tr>",
                            "<tr><td>Barna Zoltán</td><td>Gold Hotel</td><td>1016 Budapest, Hegyalja út 12</td></tr>",
                            "<tr><td>Tari Szilvia</td><td>Kentaur Hotel</td><td>8600 Siófok (Széplak), Akácfa utca 1</td></tr>",
                            "<tr><td>Barna Zoltán</td><td>Gold Hotel</td><td>1016 Budapest, Hegyalja út 12</td></tr>",
                            "<tr><td>Horváth Nikolett</td><td>Jáde panzió</td><td>8624 Balatonföldvár, Kiss u.2.</td></tr>",
                            "<tr><td>Bajusz Bence</td><td>Kentaur Hotel</td><td>8600 Siófok (Széplak), Akácfa utca 1</td></tr>",
                            "<tr><td>Farkas Sándor</td><td>Gold Hotel</td><td>1016 Budapest, Hegyalja út 12</td></tr>",
                            "<tr><td>Patay Róbert</td><td>Gold Hotel</td><td>1016 Budapest, Hegyalja út 12</td></tr>",
                            "<tr><td>Andor Ibolya</td><td>Gold Hotel</td><td>1016 Budapest, Hegyalja út 12</td></tr>",
                            "<tr><td>Kerényi Beatrix</td><td>Fortuna panzió</td><td>1019 Budapest XIV. Cinkotai út 86.</td></tr>",
                            "<tr><td>Iván Róbert</td><td>Kentaur Hotel</td><td>8600 Siófok (Széplak), Akácfa utca 1</td></tr>",
                            "<tr><td>Balogh Eszter</td><td>Fortuna Panzió</td><td>5900 Orosháza, Gyopárosfürdő Tópart utca 3.</td></tr>",
                            "<tr><td>Bíró Péter</td><td>Gold Hotel</td><td>1016 Budapest, Hegyalja út 12</td></tr>",
                            "<tr><td>Dániel Tibor</td><td>Kentaur Hotel</td><td>8600 Siófok (Széplak), Akácfa utca 1</td></tr>",
                            "<tr><td>Balogh Eszter</td><td>Gold Hotel</td><td>1016 Budapest, Hegyalja út 12</td></tr>",
                            "<tr><td>Kispál Márk</td><td>Gold Hotel</td><td>1016 Budapest, Hegyalja út 12</td></tr>",
                            "<tr><td>Miklós Szabolcs</td><td>Kentaur Hotel</td><td>8600 Siófok (Széplak), Akácfa utca 1</td></tr>",
                            "<tr><td>Kiss Ádám</td><td>Kentaur Hotel</td><td>8600 Siófok (Széplak), Akácfa utca 1</td></tr>",
                            "<tr><td>Czérna Krisztián</td><td>Gold Hotel</td><td>1016 Budapest, Hegyalja út 12</td></tr>",
                            "<tr><td>Böröcz Anikó</td><td>Fortuna panzió</td><td>1019 Budapest XIV. Cinkotai út 86.</td></tr>",
                            "<tr><td>Pivarcsi Anett</td><td>Kentaur Hotel</td><td>8600 Siófok (Széplak), Akácfa utca 1</td></tr>",
                            "<tr><td>Pataki Brigitta</td><td>Gold Hotel</td><td>1016 Budapest, Hegyalja út 12</td></tr>",
                            "<tr><td>Farkas Sára</td><td>Kentaur Hotel</td><td>8600 Siófok (Széplak), Akácfa utca 1</td></tr>",
                            "<tr><td>Pivarcsi Anett</td><td>Jáde panzió</td><td>8624 Balatonföldvár, Kiss u.2.</td></tr>",
                            "<tr><td>Ötvös Árpád</td><td>Fortuna panzió</td><td>1019 Budapest XIV. Cinkotai út 86.</td></tr>",
                            "<tr><td>Komjáti András</td><td>Gold Hotel</td><td>1016 Budapest, Hegyalja út 12</td></tr>",
                            "<tr><td>Gulyás Attila</td><td>Fortuna Panzió</td><td>5900 Orosháza, Gyopárosfürdő Tópart utca 3.</td></tr>",
                            "<tr><td>Nagy László</td><td>Fortuna panzió</td><td>1019 Budapest XIV. Cinkotai út 86.</td></tr>",
                            "<tr><td>Farkas Sándor</td><td>Gold Hotel</td><td>1016 Budapest, Hegyalja út 12</td></tr>",
                            "<tr><td>Iván Róbert</td><td>Gold Hotel</td><td>1016 Budapest, Hegyalja út 12</td></tr>",
                            "<tr><td>Komjáti András</td><td>Gold Hotel</td><td>1016 Budapest, Hegyalja út 12</td></tr>",
                            "<tr><td>Szilágyi Mátyás</td><td>Gold Hotel</td><td>1016 Budapest, Hegyalja út 12</td></tr>",
                            "<tr><td>Tari Szilvia</td><td>Fortuna Panzió</td><td>5900 Orosháza, Gyopárosfürdő Tópart utca 3.</td></tr>",
                            "<tr><td>Sobják Dávid</td><td>Kentaur Hotel</td><td>8600 Siófok (Széplak), Akácfa utca 1</td></tr>",
                            "<tr><td>Gergely József</td><td>Gold Hotel</td><td>1016 Budapest, Hegyalja út 12</td></tr>",
                            "<tr><td>Enyedi Éva</td><td>Gold Hotel</td><td>1016 Budapest, Hegyalja út 12</td></tr>",
                            "<tr><td>Tóth András</td><td>Kentaur Hotel</td><td>8600 Siófok (Széplak), Akácfa utca 1</td></tr>",
                            "<tr><td>Bíró Ákos</td><td>Kentaur Hotel</td><td>8600 Siófok (Széplak), Akácfa utca 1</td></tr>",
                            "<tr><td>Harangozó János</td><td>Fortuna Panzió</td><td>5900 Orosháza, Gyopárosfürdő Tópart utca 3.</td></tr>",
                            "<tr><td>Molnár Eszter</td><td>Kentaur Hotel</td><td>8600 Siófok (Széplak), Akácfa utca 1</td></tr>",
                            "<tr><td>Rácz Rajmond</td><td>Gold Hotel</td><td>1016 Budapest, Hegyalja út 12</td></tr>",
                            "<tr><td>Hamvay-Kovács Anita</td><td>Kentaur Hotel</td><td>8600 Siófok (Széplak), Akácfa utca 1</td></tr>",
                            "<tr><td>Nagy László</td><td>Jáde panzió</td><td>8624 Balatonföldvár, Kiss u.2.</td></tr>",
                            "<tr><td>Frank Fruzsina</td><td>Fortuna Panzió</td><td>5900 Orosháza, Gyopárosfürdő Tópart utca 3.</td></tr>",
                            "<tr><td>Varsányi Zsuzsa</td><td>Kentaur Hotel</td><td>8600 Siófok (Széplak), Akácfa utca 1</td></tr>",
                            "<tr><td>Ötvös Árpád</td><td>Kentaur Hotel</td><td>8600 Siófok (Széplak), Akácfa utca 1</td></tr>",
                            "<tr><td>Csóti Attila</td><td>Jáde panzió</td><td>8624 Balatonföldvár, Kiss u.2.</td></tr>",
                            "<tr><td>Barna Zoltán</td><td>Gold Hotel</td><td>1016 Budapest, Hegyalja út 12</td></tr>",
                            "<tr><td>Tóth András</td><td>Kentaur Hotel</td><td>8600 Siófok (Széplak), Akácfa utca 1</td></tr>",
                            "<tr><td>Bíró Péter</td><td>Kentaur Hotel</td><td>8600 Siófok (Széplak), Akácfa utca 1</td></tr>",
                            "<tr><td>Komjáti András</td><td>Gold Hotel</td><td>1016 Budapest, Hegyalja út 12</td></tr>",
                            "<tr><td>Horváth Krisztina</td><td>Gold Hotel</td><td>1016 Budapest, Hegyalja út 12</td></tr>",
                            "<tr><td>Poprádi Kristóf</td><td>Kentaur Hotel</td><td>8600 Siófok (Széplak), Akácfa utca 1</td></tr>",
                            "<tr><td>Farkas László</td><td>Fortuna panzió</td><td>1019 Budapest XIV. Cinkotai út 86.</td></tr>",
                            "<tr><td>Bíró Péter</td><td>Kentaur Hotel</td><td>8600 Siófok (Széplak), Akácfa utca 1</td></tr>",
                            "<tr><td>Tankó Veronika</td><td>Kentaur Hotel</td><td>8600 Siófok (Széplak), Akácfa utca 1</td></tr>",
                            "<tr><td>Horváth Márk</td><td>Fortuna panzió</td><td>1019 Budapest XIV. Cinkotai út 86.</td></tr>",
                            "<tr><td>Komjáti András</td><td>Gold Hotel</td><td>1016 Budapest, Hegyalja út 12</td></tr>",
                            "<tr><td>Szalai Szilárd</td><td>Kentaur Hotel</td><td>8600 Siófok (Széplak), Akácfa utca 1</td></tr>",
                            "<tr><td>Horváth Márk</td><td>Fortuna panzió</td><td>1019 Budapest XIV. Cinkotai út 86.</td></tr>",
                            "<tr><td>Bittmann Edit</td><td>Gold Hotel</td><td>1016 Budapest, Hegyalja út 12</td></tr>",
                            "<tr><td>Horváth Árpád</td><td>Fortuna Panzió</td><td>5900 Orosháza, Gyopárosfürdő Tópart utca 3.</td></tr>",
                            "<tr><td>Szedlár Krisztina</td><td>Gold Hotel</td><td>1016 Budapest, Hegyalja út 12</td></tr>",
                            "<tr><td>Vajda Zsuzsa</td><td>Kentaur Hotel</td><td>8600 Siófok (Széplak), Akácfa utca 1</td></tr>",
                            "<tr><td>Szűcs Balázs</td><td>Jáde panzió</td><td>8624 Balatonföldvár, Kiss u.2.</td></tr>",
                            "<tr><td>Búza Imre</td><td>Fortuna panzió</td><td>1019 Budapest XIV. Cinkotai út 86.</td></tr>",
                            "<tr><td>Vajda József</td><td>Gold Hotel</td><td>1016 Budapest, Hegyalja út 12</td></tr>",
                            "<tr><td>Varsányi Zsuzsa</td><td>Jáde panzió</td><td>8624 Balatonföldvár, Kiss u.2.</td></tr>",
                            "<tr><td>Bíró Péter</td><td>Gold Hotel</td><td>1016 Budapest, Hegyalja út 12</td></tr>",
                            "<tr><td>Horváth Márk</td><td>Fortuna panzió</td><td>1019 Budapest XIV. Cinkotai út 86.</td></tr>",
                            "<tr><td>Tornyos Andrea</td><td>Fortuna panzió</td><td>1019 Budapest XIV. Cinkotai út 86.</td></tr>",
                            "<tr><td>Bakódy Balázs</td><td>Kentaur Hotel</td><td>8600 Siófok (Széplak), Akácfa utca 1</td></tr>",
                            "<tr><td>Bori Krisztina</td><td>Kentaur Hotel</td><td>8600 Siófok (Széplak), Akácfa utca 1</td></tr>",
                            "<tr><td>Horváth Árpád</td><td>Fortuna Panzió</td><td>5900 Orosháza, Gyopárosfürdő Tópart utca 3.</td></tr>",
                            "<tr><td>Szikszai Réka</td><td>Fortuna panzió</td><td>1019 Budapest XIV. Cinkotai út 86.</td></tr>",
                            "<tr><td>Fodor Zoltán</td><td>Gold Hotel</td><td>1016 Budapest, Hegyalja út 12</td></tr>",
                            "<tr><td>Böröcz Anikó</td><td>Fortuna panzió</td><td>1019 Budapest XIV. Cinkotai út 86.</td></tr>",
                            "<tr><td>Iván Róbert</td><td>Kentaur Hotel</td><td>8600 Siófok (Széplak), Akácfa utca 1</td></tr>",
                            "<tr><td>Horváth Katalin</td><td>Gold Hotel</td><td>1016 Budapest, Hegyalja út 12</td></tr>",
                            "<tr><td>Pálinkás János</td><td>Gold Hotel</td><td>1016 Budapest, Hegyalja út 12</td></tr>",
                            "<tr><td>Szedlár Krisztina</td><td>Fortuna panzió</td><td>1019 Budapest XIV. Cinkotai út 86.</td></tr>",
                            "<tr><td>Vajda József</td><td>Kentaur Hotel</td><td>8600 Siófok (Széplak), Akácfa utca 1</td></tr>",
                            "<tr><td>Balogh Eszter</td><td>Gold Hotel</td><td>1016 Budapest, Hegyalja út 12</td></tr>",
                            "<tr><td>Szűcs Norbert</td><td>Fortuna Panzió</td><td>5900 Orosháza, Gyopárosfürdő Tópart utca 3.</td></tr>",
                            "<tr><td>Szűcs Balázs</td><td>Fortuna Panzió</td><td>5900 Orosháza, Gyopárosfürdő Tópart utca 3.</td></tr>",
                            "<tr><td>Nagymihály Csongor</td><td>Gold Hotel</td><td>1016 Budapest, Hegyalja út 12</td></tr>",
                            "<tr><td>Nagy Gabriella</td><td>Gold Hotel</td><td>1016 Budapest, Hegyalja út 12</td></tr>",
                            "<tr><td>Szűcs Balázs</td><td>Fortuna panzió</td><td>1019 Budapest XIV. Cinkotai út 86.</td></tr>",
                            "<tr><td>Vörös Dániel</td><td>Jáde panzió</td><td>8624 Balatonföldvár, Kiss u.2.</td></tr>",
                            "<tr><td>Fényes Tamás</td><td>Gold Hotel</td><td>1016 Budapest, Hegyalja út 12</td></tr>",
                            "<tr><td>Molnár András</td><td>Kentaur Hotel</td><td>8600 Siófok (Széplak), Akácfa utca 1</td></tr>",
                            "<tr><td>Gondos Katalin</td><td>Jáde panzió</td><td>8624 Balatonföldvár, Kiss u.2.</td></tr>",
                            "<tr><td>Kornseé Gyöngyi</td><td>Kentaur Hotel</td><td>8600 Siófok (Széplak), Akácfa utca 1</td></tr>",
                            "<tr><td>Csiger Bertalan</td><td>Gold Hotel</td><td>1016 Budapest, Hegyalja út 12</td></tr>",
                            "<tr><td>Gondos Katalin</td><td>Kentaur Hotel</td><td>8600 Siófok (Széplak), Akácfa utca 1</td></tr>",
                            "<tr><td>Kelemen Áron</td><td>Fortuna panzió</td><td>1019 Budapest XIV. Cinkotai út 86.</td></tr>",
                            "<tr><td>Bozsó Péter</td><td>Jáde panzió</td><td>8624 Balatonföldvár, Kiss u.2.</td></tr>",
                            "<tr><td>Kertész Katalin</td><td>Kentaur Hotel</td><td>8600 Siófok (Széplak), Akácfa utca 1</td></tr>",
                            "<tr><td>Szalai Péter</td><td>Kentaur Hotel</td><td>8600 Siófok (Széplak), Akácfa utca 1</td></tr>",
                            "<tr><td>Balogh Eszter</td><td>Gold Hotel</td><td>1016 Budapest, Hegyalja út 12</td></tr>",
                            "<tr><td>Horváth Nikolett</td><td>Kentaur Hotel</td><td>8600 Siófok (Széplak), Akácfa utca 1</td></tr>",
                            "<tr><td>Barna Debóra</td><td>Gold Hotel</td><td>1016 Budapest, Hegyalja út 12</td></tr>",
                            "<tr><td>Tóth Roland</td><td>Gold Hotel</td><td>1016 Budapest, Hegyalja út 12</td></tr>",
                            "<tr><td>Kalacsi Márton</td><td>Fortuna panzió</td><td>1019 Budapest XIV. Cinkotai út 86.</td></tr>",
                            "<tr><td>Baráth Mária</td><td>Gold Hotel</td><td>1016 Budapest, Hegyalja út 12</td></tr>",
                            "<tr><td>Papp Imre</td><td>Kentaur Hotel</td><td>8600 Siófok (Széplak), Akácfa utca 1</td></tr>",
                            "<tr><td>Komjáti András</td><td>Kentaur Hotel</td><td>8600 Siófok (Széplak), Akácfa utca 1</td></tr>",
                            "<tr><td>Béres Norbert</td><td>Gold Hotel</td><td>1016 Budapest, Hegyalja út 12</td></tr>",
                            "<tr><td>Szirmai Renáta</td><td>Fortuna panzió</td><td>1019 Budapest XIV. Cinkotai út 86.</td></tr>",
                            "<tr><td>Tóth Anikó</td><td>Fortuna Panzió</td><td>5900 Orosháza, Gyopárosfürdő Tópart utca 3.</td></tr>",
                            "<tr><td>Balla Miklós</td><td>Kentaur Hotel</td><td>8600 Siófok (Széplak), Akácfa utca 1</td></tr>",
                            "<tr><td>Simon Anikó</td><td>Jáde panzió</td><td>8624 Balatonföldvár, Kiss u.2.</td></tr>",
                            "<tr><td>Papp Imre</td><td>Gold Hotel</td><td>1016 Budapest, Hegyalja út 12</td></tr>",
                            "<tr><td>Fényes Tamás</td><td>Gold Hotel</td><td>1016 Budapest, Hegyalja út 12</td></tr>",
                            "<tr><td>Miklós Szabolcs</td><td>Fortuna panzió</td><td>1019 Budapest XIV. Cinkotai út 86.</td></tr>",
                            "<tr><td>Mile Norbert</td><td>Kentaur Hotel</td><td>8600 Siófok (Széplak), Akácfa utca 1</td></tr>",
                            "<tr><td>Vajda Zsuzsa</td><td>Fortuna Panzió</td><td>5900 Orosháza, Gyopárosfürdő Tópart utca 3.</td></tr>",
                            "<tr><td>Nagymihály Lajos</td><td>Kentaur Hotel</td><td>8600 Siófok (Széplak), Akácfa utca 1</td></tr>",
                            "<tr><td>Pataki Brigitta</td><td>Gold Hotel</td><td>1016 Budapest, Hegyalja út 12</td></tr>",
                            "<tr><td>Kispál Márk</td><td>Gold Hotel</td><td>1016 Budapest, Hegyalja út 12</td></tr>",
                            "<tr><td>Kovács Katalin</td><td>Kentaur Hotel</td><td>8600 Siófok (Széplak), Akácfa utca 1</td></tr>",
                            "<tr><td>Maródi Andrea</td><td>Fortuna Panzió</td><td>5900 Orosháza, Gyopárosfürdő Tópart utca 3.</td></tr>",
                            "<tr><td>Tatár Nikoletta</td><td>Gold Hotel</td><td>1016 Budapest, Hegyalja út 12</td></tr>",
                            "<tr><td>Czérna Krisztián</td><td>Kentaur Hotel</td><td>8600 Siófok (Széplak), Akácfa utca 1</td></tr>",
                            "<tr><td>Pulai Zsolt</td><td>Gold Hotel</td><td>1016 Budapest, Hegyalja út 12</td></tr>",
                            "<tr><td>Fényes Tamás</td><td>Kentaur Hotel</td><td>8600 Siófok (Széplak), Akácfa utca 1</td></tr>",
                            "<tr><td>Szekendi Beatrix</td><td>Gold Hotel</td><td>1016 Budapest, Hegyalja út 12</td></tr>",
                            "<tr><td>Kerényi Beatrix</td><td>Gold Hotel</td><td>1016 Budapest, Hegyalja út 12</td></tr>",
                            "<tr><td>Gyárfás Krisztina</td><td>Kentaur Hotel</td><td>8600 Siófok (Széplak), Akácfa utca 1</td></tr>",
                            "<tr><td>Regős Annamária</td><td>Kentaur Hotel</td><td>8600 Siófok (Széplak), Akácfa utca 1</td></tr>",
                            "<tr><td>Bagóczki Alexandra</td><td>Gold Hotel</td><td>1016 Budapest, Hegyalja út 12</td></tr>",
                            "<tr><td>Ambrus Dávid</td><td>Kentaur Hotel</td><td>8600 Siófok (Széplak), Akácfa utca 1</td></tr>",
                            "<tr><td>Tóth Roland</td><td>Gold Hotel</td><td>1016 Budapest, Hegyalja út 12</td></tr>",
                            "<tr><td>Rab Sebestyén</td><td>Kentaur Hotel</td><td>8600 Siófok (Széplak), Akácfa utca 1</td></tr>",
                            "<tr><td>Kelemen Áron</td><td>Fortuna Panzió</td><td>5900 Orosháza, Gyopárosfürdő Tópart utca 3.</td></tr>",
                            "<tr><td>Molnár Bálint</td><td>Fortuna Panzió</td><td>5900 Orosháza, Gyopárosfürdő Tópart utca 3.</td></tr>",
                            "<tr><td>Orbán Bernadett</td><td>Gold Hotel</td><td>1016 Budapest, Hegyalja út 12</td></tr>",
                            "<tr><td>Tóth Júlia</td><td>Gold Hotel</td><td>1016 Budapest, Hegyalja út 12</td></tr>",
                            "<tr><td>Pulai Zsolt</td><td>Gold Hotel</td><td>1016 Budapest, Hegyalja út 12</td></tr>",
                            "<tr><td>Keresztúri Viktor</td><td>Fortuna panzió</td><td>1019 Budapest XIV. Cinkotai út 86.</td></tr>",
                            "<tr><td>Hídasi Judit</td><td>Fortuna panzió</td><td>1019 Budapest XIV. Cinkotai út 86.</td></tr>",
                            "<tr><td>Horváth Árpád</td><td>Gold Hotel</td><td>1016 Budapest, Hegyalja út 12</td></tr>",
                            "<tr><td>Dusha Tímea</td><td>Gold Hotel</td><td>1016 Budapest, Hegyalja út 12</td></tr>",
                            "<tr><td>Zatykó Katalin</td><td>Fortuna Panzió</td><td>5900 Orosháza, Gyopárosfürdő Tópart utca 3.</td></tr>",
                            "<tr><td>Vörös Dániel</td><td>Jáde panzió</td><td>8624 Balatonföldvár, Kiss u.2.</td></tr>",
                            "<tr><td>Farkas Sára</td><td>Jáde panzió</td><td>8624 Balatonföldvár, Kiss u.2.</td></tr>",
                            "<tr><td>Czérna Krisztián</td><td>Fortuna panzió</td><td>1019 Budapest XIV. Cinkotai út 86.</td></tr>",
                            "<tr><td>Kazy Tihamér</td><td>Fortuna panzió</td><td>1019 Budapest XIV. Cinkotai út 86.</td></tr>",
                            "<tr><td>Horváth Nikolett</td><td>Gold Hotel</td><td>1016 Budapest, Hegyalja út 12</td></tr>",
                            "<tr><td>Turcsik Tünde</td><td>Gold Hotel</td><td>1016 Budapest, Hegyalja út 12</td></tr>",
                            "<tr><td>Antal László</td><td>Fortuna panzió</td><td>1019 Budapest XIV. Cinkotai út 86.</td></tr>",
                            "<tr><td>Bajusz Bence</td><td>Gold Hotel</td><td>1016 Budapest, Hegyalja út 12</td></tr>",
                            "<tr><td>Mogyródi Krisztián</td><td>Fortuna panzió</td><td>1019 Budapest XIV. Cinkotai út 86.</td></tr>",
                            "<tr><td>Kelemen Áron</td><td>Kentaur Hotel</td><td>8600 Siófok (Széplak), Akácfa utca 1</td></tr>",
                            "<tr><td>Opra Attila</td><td>Gold Hotel</td><td>1016 Budapest, Hegyalja út 12</td></tr>",
                            "<tr><td>Harangozó János</td><td>Fortuna panzió</td><td>1019 Budapest XIV. Cinkotai út 86.</td></tr>",
                            "<tr><td>Gyuris József</td><td>Gold Hotel</td><td>1016 Budapest, Hegyalja út 12</td></tr>",
                            "<tr><td>Szilágyi Mátyás</td><td>Kentaur Hotel</td><td>8600 Siófok (Széplak), Akácfa utca 1</td></tr>",
                            "<tr><td>Nagy László</td><td>Gold Hotel</td><td>1016 Budapest, Hegyalja út 12</td></tr>",
                            "<tr><td>Palágyi Polla</td><td>Kentaur Hotel</td><td>8600 Siófok (Széplak), Akácfa utca 1</td></tr>",
                            "<tr><td>Gondos Katalin</td><td>Kentaur Hotel</td><td>8600 Siófok (Széplak), Akácfa utca 1</td></tr>",
                            "<tr><td>Pataki Brigitta</td><td>Fortuna panzió</td><td>1019 Budapest XIV. Cinkotai út 86.</td></tr>",
                            "<tr><td>Oroszi György</td><td>Kentaur Hotel</td><td>8600 Siófok (Széplak), Akácfa utca 1</td></tr>",
                            "<tr><td>Lukács Kornél</td><td>Fortuna Panzió</td><td>5900 Orosháza, Gyopárosfürdő Tópart utca 3.</td></tr>",
                            "<tr><td>Frank Fruzsina</td><td>Kentaur Hotel</td><td>8600 Siófok (Széplak), Akácfa utca 1</td></tr>",
                            "<tr><td>Vígh András</td><td>Gold Hotel</td><td>1016 Budapest, Hegyalja út 12</td></tr>",
                            "<tr><td>Kazy Tihamér</td><td>Jáde panzió</td><td>8624 Balatonföldvár, Kiss u.2.</td></tr>",
                            "<tr><td>Tankó Veronika</td><td>Kentaur Hotel</td><td>8600 Siófok (Széplak), Akácfa utca 1</td></tr>",
                            "<tr><td>Tömböly Dénes</td><td>Kentaur Hotel</td><td>8600 Siófok (Széplak), Akácfa utca 1</td></tr>",
                            "<tr><td>Szűcs Balázs</td><td>Gold Hotel</td><td>1016 Budapest, Hegyalja út 12</td></tr>",
                            "<tr><td>Lengyel Ágnes</td><td>Gold Hotel</td><td>1016 Budapest, Hegyalja út 12</td></tr>",
                            "<tr><td>Neizer Andrea</td><td>Kentaur Hotel</td><td>8600 Siófok (Széplak), Akácfa utca 1</td></tr>",
                            "<tr><td>Szűcs Balázs</td><td>Fortuna Panzió</td><td>5900 Orosháza, Gyopárosfürdő Tópart utca 3.</td></tr>",
                            "<tr><td>Gyárfás Krisztina</td><td>Gold Hotel</td><td>1016 Budapest, Hegyalja út 12</td></tr>",
                            "<tr><td>Simon Anikó</td><td>Kentaur Hotel</td><td>8600 Siófok (Széplak), Akácfa utca 1</td></tr>",
                            "<tr><td>Józsa Zsolt</td><td>Gold Hotel</td><td>1016 Budapest, Hegyalja út 12</td></tr>",
                            "<tr><td>Vajda Zsuzsa</td><td>Gold Hotel</td><td>1016 Budapest, Hegyalja út 12</td></tr>",
                            "<tr><td>Kiss Ádám</td><td>Kentaur Hotel</td><td>8600 Siófok (Széplak), Akácfa utca 1</td></tr>",
                            "<tr><td>Tari Szilvia</td><td>Fortuna panzió</td><td>1019 Budapest XIV. Cinkotai út 86.</td></tr>",
                            "<tr><td>Mile Norbert</td><td>Kentaur Hotel</td><td>8600 Siófok (Széplak), Akácfa utca 1</td></tr>",
                            "<tr><td>Győrffy Bence</td><td>Fortuna panzió</td><td>1019 Budapest XIV. Cinkotai út 86.</td></tr>",
                            "<tr><td>Érsek Eszter</td><td>Kentaur Hotel</td><td>8600 Siófok (Széplak), Akácfa utca 1</td></tr>",
                            "<tr><td>Juhász Mihály</td><td>Kentaur Hotel</td><td>8600 Siófok (Széplak), Akácfa utca 1</td></tr>",
                            "<tr><td>Kő Nikoletta</td><td>Kentaur Hotel</td><td>8600 Siófok (Széplak), Akácfa utca 1</td></tr>",
                            "<tr><td>Telek Gábor</td><td>Kentaur Hotel</td><td>8600 Siófok (Széplak), Akácfa utca 1</td></tr>",
                            "<tr><td>Viktor Éva</td><td>Gold Hotel</td><td>1016 Budapest, Hegyalja út 12</td></tr>",
                            "<tr><td>Perlinger Éva</td><td>Kentaur Hotel</td><td>8600 Siófok (Széplak), Akácfa utca 1</td></tr>",
                            "<tr><td>Baráth Mária</td><td>Fortuna Panzió</td><td>5900 Orosháza, Gyopárosfürdő Tópart utca 3.</td></tr>",
                            "<tr><td>Győrffy Bence</td><td>Kentaur Hotel</td><td>8600 Siófok (Széplak), Akácfa utca 1</td></tr>",
                            "<tr><td>Farkas Béla</td><td>Kentaur Hotel</td><td>8600 Siófok (Széplak), Akácfa utca 1</td></tr>",
                            "<tr><td>Juhász Mihály</td><td>Gold Hotel</td><td>1016 Budapest, Hegyalja út 12</td></tr>",
                            "<tr><td>Andor Ibolya</td><td>Gold Hotel</td><td>1016 Budapest, Hegyalja út 12</td></tr>",
                            "<tr><td>Kiss Andrea</td><td>Fortuna Panzió</td><td>5900 Orosháza, Gyopárosfürdő Tópart utca 3.</td></tr>",
                            "<tr><td>Bieniek Ádám</td><td>Fortuna panzió</td><td>1019 Budapest XIV. Cinkotai út 86.</td></tr>",
                            "<tr><td>Szalai Szilárd</td><td>Kentaur Hotel</td><td>8600 Siófok (Széplak), Akácfa utca 1</td></tr>",
                            "<tr><td>Nyíri Georgij</td><td>Gold Hotel</td><td>1016 Budapest, Hegyalja út 12</td></tr>",
                            "<tr><td>Horváth Krisztina</td><td>Fortuna panzió</td><td>1019 Budapest XIV. Cinkotai út 86.</td></tr>",
                            "<tr><td>Fodor Zoltán</td><td>Kentaur Hotel</td><td>8600 Siófok (Széplak), Akácfa utca 1</td></tr>",
                            "<tr><td>Bagi Beáta</td><td>Fortuna Panzió</td><td>5900 Orosháza, Gyopárosfürdő Tópart utca 3.</td></tr>",
                            "<tr><td>Kovács Bernadett</td><td>Fortuna Panzió</td><td>5900 Orosháza, Gyopárosfürdő Tópart utca 3.</td></tr>",
                            "<tr><td>Bakódy Balázs</td><td>Gold Hotel</td><td>1016 Budapest, Hegyalja út 12</td></tr>",
                            "<tr><td>Kovács Katalin</td><td>Kentaur Hotel</td><td>8600 Siófok (Széplak), Akácfa utca 1</td></tr>",
                            "<tr><td>Barna Zoltán</td><td>Jáde panzió</td><td>8624 Balatonföldvár, Kiss u.2.</td></tr>",
                            "<tr><td>Gondos Katalin</td><td>Kentaur Hotel</td><td>8600 Siófok (Széplak), Akácfa utca 1</td></tr>",
                            "<tr><td>Ötvös Árpád</td><td>Kentaur Hotel</td><td>8600 Siófok (Széplak), Akácfa utca 1</td></tr>",
                            "<tr><td>Ambrus Dávid</td><td>Fortuna panzió</td><td>1019 Budapest XIV. Cinkotai út 86.</td></tr>",
                            "<tr><td>Patay Róbert</td><td>Fortuna Panzió</td><td>5900 Orosháza, Gyopárosfürdő Tópart utca 3.</td></tr>",
                            "<tr><td>Palágyi Polla</td><td>Gold Hotel</td><td>1016 Budapest, Hegyalja út 12</td></tr>",
                            "<tr><td>Pivarcsi Anett</td><td>Fortuna Panzió</td><td>5900 Orosháza, Gyopárosfürdő Tópart utca 3.</td></tr>",
                            "<tr><td>Koza Máté</td><td>Gold Hotel</td><td>1016 Budapest, Hegyalja út 12</td></tr>",
                            "<tr><td>Baróti Attila</td><td>Kentaur Hotel</td><td>8600 Siófok (Széplak), Akácfa utca 1</td></tr>",
                            "<tr><td>Kazy Tihamér</td><td>Kentaur Hotel</td><td>8600 Siófok (Széplak), Akácfa utca 1</td></tr>",
                            "<tr><td>Komjáti András</td><td>Gold Hotel</td><td>1016 Budapest, Hegyalja út 12</td></tr>",
                            "<tr><td>Karasz Sándor</td><td>Fortuna Panzió</td><td>5900 Orosháza, Gyopárosfürdő Tópart utca 3.</td></tr>",
                            "<tr><td>Czérna Krisztián</td><td>Kentaur Hotel</td><td>8600 Siófok (Széplak), Akácfa utca 1</td></tr>",
                            "<tr><td>Sarodi Dóra</td><td>Gold Hotel</td><td>1016 Budapest, Hegyalja út 12</td></tr>",
                            "<tr><td>Berendi Péter</td><td>Gold Hotel</td><td>1016 Budapest, Hegyalja út 12</td></tr>",
                            "<tr><td>Palágyi Polla</td><td>Fortuna panzió</td><td>1019 Budapest XIV. Cinkotai út 86.</td></tr>",
                            "<tr><td>Bittmann Edit</td><td>Kentaur Hotel</td><td>8600 Siófok (Széplak), Akácfa utca 1</td></tr>",
                            "<tr><td>Boros Vivien</td><td>Gold Hotel</td><td>1016 Budapest, Hegyalja út 12</td></tr>",
                            "<tr><td>Kalacsi Márton</td><td>Kentaur Hotel</td><td>8600 Siófok (Széplak), Akácfa utca 1</td></tr>",
                            "<tr><td>Miklós Tamara</td><td>Fortuna Panzió</td><td>5900 Orosháza, Gyopárosfürdő Tópart utca 3.</td></tr>",
                            "<tr><td>Béres Norbert</td><td>Gold Hotel</td><td>1016 Budapest, Hegyalja út 12</td></tr>",
                            "<tr><td>Szikszai Réka</td><td>Gold Hotel</td><td>1016 Budapest, Hegyalja út 12</td></tr>",
                            "<tr><td>Kispál Márk</td><td>Gold Hotel</td><td>1016 Budapest, Hegyalja út 12</td></tr>",
                            "<tr><td>Bárci Gusztáv</td><td>Kentaur Hotel</td><td>8600 Siófok (Széplak), Akácfa utca 1</td></tr>",
                            "<tr><td>Kelemen Áron</td><td>Fortuna panzió</td><td>1019 Budapest XIV. Cinkotai út 86.</td></tr>",
                            "<tr><td>Endresz Bálint</td><td>Jáde panzió</td><td>8624 Balatonföldvár, Kiss u.2.</td></tr>",
                            "<tr><td>Molnár Bálint</td><td>Fortuna Panzió</td><td>5900 Orosháza, Gyopárosfürdő Tópart utca 3.</td></tr>",
                            "<tr><td>Urbán Viktoria</td><td>Gold Hotel</td><td>1016 Budapest, Hegyalja út 12</td></tr>",
                            "<tr><td>Tömböly Dénes</td><td>Gold Hotel</td><td>1016 Budapest, Hegyalja út 12</td></tr>",
                            "<tr><td>Czérna Krisztián</td><td>Gold Hotel</td><td>1016 Budapest, Hegyalja út 12</td></tr>",
                            "<tr><td>Szikszai Réka</td><td>Fortuna panzió</td><td>1019 Budapest XIV. Cinkotai út 86.</td></tr>",
                            "<tr><td>Mogyródi Krisztián</td><td>Gold Hotel</td><td>1016 Budapest, Hegyalja út 12</td></tr>",
                            "<tr><td>Bittmann Edit</td><td>Fortuna panzió</td><td>1019 Budapest XIV. Cinkotai út 86.</td></tr>",
                            "<tr><td>Pulai Zsolt</td><td>Gold Hotel</td><td>1016 Budapest, Hegyalja út 12</td></tr>",
                            "<tr><td>Varsányi Zsuzsa</td><td>Gold Hotel</td><td>1016 Budapest, Hegyalja út 12</td></tr>",
                            "<tr><td>Kovács Ágnes</td><td>Kentaur Hotel</td><td>8600 Siófok (Széplak), Akácfa utca 1</td></tr>",
                            "<tr><td>Oroszi György</td><td>Kentaur Hotel</td><td>8600 Siófok (Széplak), Akácfa utca 1</td></tr>",
                            "<tr><td>Komjáti András</td><td>Gold Hotel</td><td>1016 Budapest, Hegyalja út 12</td></tr>",
                            "<tr><td>Bakódy Balázs</td><td>Fortuna panzió</td><td>1019 Budapest XIV. Cinkotai út 86.</td></tr>",
                            "<tr><td>Tornyos Andrea</td><td>Fortuna panzió</td><td>1019 Budapest XIV. Cinkotai út 86.</td></tr>",
                            "<tr><td>Farkas Béla</td><td>Kentaur Hotel</td><td>8600 Siófok (Széplak), Akácfa utca 1</td></tr>",
                            "<tr><td>Szilágyi Mátyás</td><td>Fortuna panzió</td><td>1019 Budapest XIV. Cinkotai út 86.</td></tr>",
                            "<tr><td>Érsek Eszter</td><td>Fortuna panzió</td><td>1019 Budapest XIV. Cinkotai út 86.</td></tr>",
                            "<tr><td>Győrffy Bence</td><td>Kentaur Hotel</td><td>8600 Siófok (Széplak), Akácfa utca 1</td></tr>",
                            "<tr><td>Feró Valentin</td><td>Gold Hotel</td><td>1016 Budapest, Hegyalja út 12</td></tr>",
                            "<tr><td>Nagy Gabriella</td><td>Gold Hotel</td><td>1016 Budapest, Hegyalja út 12</td></tr>",
                            "<tr><td>Farkas Sára</td><td>Gold Hotel</td><td>1016 Budapest, Hegyalja út 12</td></tr>",
                            "<tr><td>Pusztai Zsuzsanna</td><td>Kentaur Hotel</td><td>8600 Siófok (Széplak), Akácfa utca 1</td></tr>",
                            "<tr><td>Böröcz Anikó</td><td>Kentaur Hotel</td><td>8600 Siófok (Széplak), Akácfa utca 1</td></tr>",
                            "<tr><td>Bíró Ákos</td><td>Fortuna panzió</td><td>1019 Budapest XIV. Cinkotai út 86.</td></tr>",
                            "<tr><td>Tömböly Dénes</td><td>Gold Hotel</td><td>1016 Budapest, Hegyalja út 12</td></tr>",
                            "<tr><td>Kazy Tihamér</td><td>Kentaur Hotel</td><td>8600 Siófok (Széplak), Akácfa utca 1</td></tr>",
                            "<tr><td>Tóth Júlia</td><td>Gold Hotel</td><td>1016 Budapest, Hegyalja út 12</td></tr>",
                            "<tr><td>Pintér Zoltán</td><td>Kentaur Hotel</td><td>8600 Siófok (Széplak), Akácfa utca 1</td></tr>",
                            "<tr><td>Vígh András</td><td>Kentaur Hotel</td><td>8600 Siófok (Széplak), Akácfa utca 1</td></tr>",
                            "<tr><td>Vukasinovity Bálint</td><td>Kentaur Hotel</td><td>8600 Siófok (Széplak), Akácfa utca 1</td></tr>",
                            "<tr><td>Tóth András</td><td>Gold Hotel</td><td>1016 Budapest, Hegyalja út 12</td></tr>",
                            "<tr><td>Tankó Veronika</td><td>Gold Hotel</td><td>1016 Budapest, Hegyalja út 12</td></tr>",
                            "<tr><td>Karasz Sándor</td><td>Fortuna panzió</td><td>1019 Budapest XIV. Cinkotai út 86.</td></tr>",
                            "<tr><td>Komjáti András</td><td>Gold Hotel</td><td>1016 Budapest, Hegyalja út 12</td></tr>",
                            "<tr><td>Simon Anikó</td><td>Gold Hotel</td><td>1016 Budapest, Hegyalja út 12</td></tr>",
                            "<tr><td>Foltényi Sebastián</td><td>Gold Hotel</td><td>1016 Budapest, Hegyalja út 12</td></tr>",
                            "<tr><td>Ambrus Dávid</td><td>Kentaur Hotel</td><td>8600 Siófok (Széplak), Akácfa utca 1</td></tr>",
                            "<tr><td>Kiss Lajos</td><td>Gold Hotel</td><td>1016 Budapest, Hegyalja út 12</td></tr>",
                            "<tr><td>Oroszi György</td><td>Kentaur Hotel</td><td>8600 Siófok (Széplak), Akácfa utca 1</td></tr>",
                            "<tr><td>Regős Annamária</td><td>Gold Hotel</td><td>1016 Budapest, Hegyalja út 12</td></tr>",
                            "<tr><td>Bittmann Edit</td><td>Gold Hotel</td><td>1016 Budapest, Hegyalja út 12</td></tr>",
                            "<tr><td>Bíró Ákos</td><td>Gold Hotel</td><td>1016 Budapest, Hegyalja út 12</td></tr>",
                            "<tr><td>Vígh András</td><td>Kentaur Hotel</td><td>8600 Siófok (Széplak), Akácfa utca 1</td></tr>",
                            "<tr><td>Farkas Sára</td><td>Gold Hotel</td><td>1016 Budapest, Hegyalja út 12</td></tr>",
                            "<tr><td>Bíró Ákos</td><td>Kentaur Hotel</td><td>8600 Siófok (Széplak), Akácfa utca 1</td></tr>",
                            "<tr><td>Vajda József</td><td>Gold Hotel</td><td>1016 Budapest, Hegyalja út 12</td></tr>",
                            "<tr><td>Frank Fruzsina</td><td>Kentaur Hotel</td><td>8600 Siófok (Széplak), Akácfa utca 1</td></tr>",
                            "<tr><td>Tóth Zoltán</td><td>Kentaur Hotel</td><td>8600 Siófok (Széplak), Akácfa utca 1</td></tr>",
                            "<tr><td>Turcsik Tünde</td><td>Gold Hotel</td><td>1016 Budapest, Hegyalja út 12</td></tr>",
                            "<tr><td>Horváth Árpád</td><td>Fortuna Panzió</td><td>5900 Orosháza, Gyopárosfürdő Tópart utca 3.</td></tr>",
                            "<tr><td>Bagóczki Alexandra</td><td>Fortuna Panzió</td><td>5900 Orosháza, Gyopárosfürdő Tópart utca 3.</td></tr>",
                            "<tr><td>Szedlár Krisztina</td><td>Gold Hotel</td><td>1016 Budapest, Hegyalja út 12</td></tr>",
                            "<tr><td>Bíró Ákos</td><td>Jáde panzió</td><td>8624 Balatonföldvár, Kiss u.2.</td></tr>",
                            "<tr><td>Barta Zsuzsanna</td><td>Kentaur Hotel</td><td>8600 Siófok (Széplak), Akácfa utca 1</td></tr>",
                            "<tr><td>Baráth Mária</td><td>Kentaur Hotel</td><td>8600 Siófok (Széplak), Akácfa utca 1</td></tr>",
                            "<tr><td>Tari Szilvia</td><td>Gold Hotel</td><td>1016 Budapest, Hegyalja út 12</td></tr>",
                            "<tr><td>Kelemen Áron</td><td>Kentaur Hotel</td><td>8600 Siófok (Széplak), Akácfa utca 1</td></tr>",
                            "<tr><td>Bajusz Bence</td><td>Kentaur Hotel</td><td>8600 Siófok (Széplak), Akácfa utca 1</td></tr>",
                            "<tr><td>Lukács Kornél</td><td>Fortuna panzió</td><td>1019 Budapest XIV. Cinkotai út 86.</td></tr>",
                            "<tr><td>Lengyel Ágnes</td><td>Fortuna Panzió</td><td>5900 Orosháza, Gyopárosfürdő Tópart utca 3.</td></tr>",
                            "<tr><td>Farkas Sándor</td><td>Gold Hotel</td><td>1016 Budapest, Hegyalja út 12</td></tr>",
                            "<tr><td>Tóth Júlia</td><td>Kentaur Hotel</td><td>8600 Siófok (Széplak), Akácfa utca 1</td></tr>",
                            "<tr><td>Kovács Katalin</td><td>Gold Hotel</td><td>1016 Budapest, Hegyalja út 12</td></tr>",
                            "<tr><td>Kő Nikoletta</td><td>Gold Hotel</td><td>1016 Budapest, Hegyalja út 12</td></tr>",
                            "<tr><td>Maródi Andrea</td><td>Fortuna panzió</td><td>1019 Budapest XIV. Cinkotai út 86.</td></tr>",
                            "<tr><td>Orosz Ferenc</td><td>Kentaur Hotel</td><td>8600 Siófok (Széplak), Akácfa utca 1</td></tr>",
                            "<tr><td>Bozsik Balázs</td><td>Kentaur Hotel</td><td>8600 Siófok (Széplak), Akácfa utca 1</td></tr>",
                            "<tr><td>Tóth Zoltán</td><td>Gold Hotel</td><td>1016 Budapest, Hegyalja út 12</td></tr>",
                            "<tr><td>Szirmai Renáta</td><td>Jáde panzió</td><td>8624 Balatonföldvár, Kiss u.2.</td></tr>",
                            "<tr><td>Nagymihály Csongor</td><td>Jáde panzió</td><td>8624 Balatonföldvár, Kiss u.2.</td></tr>",
                            "<tr><td>Vígh András</td><td>Fortuna panzió</td><td>1019 Budapest XIV. Cinkotai út 86.</td></tr>",
                            "<tr><td>Bori Krisztina</td><td>Gold Hotel</td><td>1016 Budapest, Hegyalja út 12</td></tr>",
                            "<tr><td>Horváth Ágnes</td><td>Fortuna panzió</td><td>1019 Budapest XIV. Cinkotai út 86.</td></tr>",
                            "<tr><td>Erdei András</td><td>Gold Hotel</td><td>1016 Budapest, Hegyalja út 12</td></tr>",
                            "<tr><td>Gondos Katalin</td><td>Fortuna panzió</td><td>1019 Budapest XIV. Cinkotai út 86.</td></tr>",
                            "<tr><td>Telek Gábor</td><td>Fortuna Panzió</td><td>5900 Orosháza, Gyopárosfürdő Tópart utca 3.</td></tr>",
                            "<tr><td>Móra László</td><td>Fortuna panzió</td><td>1019 Budapest XIV. Cinkotai út 86.</td></tr>",
                            "<tr><td>Józsa Zsolt</td><td>Fortuna panzió</td><td>1019 Budapest XIV. Cinkotai út 86.</td></tr>",
                            "<tr><td>Horváth Bálint</td><td>Kentaur Hotel</td><td>8600 Siófok (Széplak), Akácfa utca 1</td></tr>",
                            "<tr><td>Tóth Júlia</td><td>Gold Hotel</td><td>1016 Budapest, Hegyalja út 12</td></tr>",
                            "<tr><td>Nagy Gabriella</td><td>Kentaur Hotel</td><td>8600 Siófok (Széplak), Akácfa utca 1</td></tr>",
                            "<tr><td>Gondos Miklós</td><td>Fortuna Panzió</td><td>5900 Orosháza, Gyopárosfürdő Tópart utca 3.</td></tr>",
                            "<tr><td>Simon Anikó</td><td>Fortuna Panzió</td><td>5900 Orosháza, Gyopárosfürdő Tópart utca 3.</td></tr>",
                            "<tr><td>Palágyi Polla</td><td>Kentaur Hotel</td><td>8600 Siófok (Széplak), Akácfa utca 1</td></tr>",
                            "<tr><td>Vizi István</td><td>Kentaur Hotel</td><td>8600 Siófok (Széplak), Akácfa utca 1</td></tr>",
                            "<tr><td>Pulai Zsolt</td><td>Jáde panzió</td><td>8624 Balatonföldvár, Kiss u.2.</td></tr>",
                            "<tr><td>Pivarcsi Anett</td><td>Gold Hotel</td><td>1016 Budapest, Hegyalja út 12</td></tr>",
                            "<tr><td>Gondos Katalin</td><td>Kentaur Hotel</td><td>8600 Siófok (Széplak), Akácfa utca 1</td></tr>",
                            "<tr><td>Pivarcsi Anett</td><td>Gold Hotel</td><td>1016 Budapest, Hegyalja út 12</td></tr>",
                            "<tr><td>Kelemen Áron</td><td>Jáde panzió</td><td>8624 Balatonföldvár, Kiss u.2.</td></tr>",
                            "<tr><td>Móra László</td><td>Fortuna Panzió</td><td>5900 Orosháza, Gyopárosfürdő Tópart utca 3.</td></tr>",
                            "<tr><td>Rab Sebestyén</td><td>Kentaur Hotel</td><td>8600 Siófok (Széplak), Akácfa utca 1</td></tr>",
                            "<tr><td>Horváth Ágnes</td><td>Gold Hotel</td><td>1016 Budapest, Hegyalja út 12</td></tr>",
                            "<tr><td>Horváth Katalin</td><td>Kentaur Hotel</td><td>8600 Siófok (Széplak), Akácfa utca 1</td></tr>",
                            "<tr><td>Keszler Dániel</td><td>Gold Hotel</td><td>1016 Budapest, Hegyalja út 12</td></tr>",
                            "<tr><td>Kovács Katalin</td><td>Gold Hotel</td><td>1016 Budapest, Hegyalja út 12</td></tr>",
                            "<tr><td>Mogyródi Krisztián</td><td>Fortuna Apartman</td><td>4200 Hajdúszoboszló, Wesselényi utca 56.</td></tr>",
                            "<tr><td>Orbán Bernadett</td><td>Partiszél Vendégház</td><td>8220 Balatonalmádi Neptun u. 23.</td></tr>",
                            "<tr><td>Vizi István</td><td>Partiszél Vendégház</td><td>8220 Balatonalmádi Neptun u. 23.</td></tr>",
                            "<tr><td>Rab Sebestyén</td><td>Fortuna Apartman</td><td>4200 Hajdúszoboszló, Wesselényi utca 56.</td></tr>",
                            "<tr><td>Győrffy Bence</td><td>Fortuna Apartman</td><td>4200 Hajdúszoboszló, Wesselényi utca 56.</td></tr>",
                            "<tr><td>Barna Zoltán</td><td>Partiszél Vendégház</td><td>8220 Balatonalmádi Neptun u. 23.</td></tr>",
                            "<tr><td>Fő Nándor</td><td>Szieszta Apartmanház</td><td>8630 Balatonboglár, Dózsa György utca 108</td></tr>",
                            "<tr><td>Józsa Zsolt</td><td>Partiszél Vendégház</td><td>8220 Balatonalmádi Neptun u. 23.</td></tr>",
                            "<tr><td>Patay Róbert</td><td>Szieszta Apartmanház</td><td>8630 Balatonboglár, Dózsa György utca 108</td></tr>",
                            "<tr><td>Ambrus Dávid</td><td>Partiszél Vendégház</td><td>8220 Balatonalmádi Neptun u. 23.</td></tr>",
                            "<tr><td>Opra Attila</td><td>Fortuna Apartman</td><td>4200 Hajdúszoboszló, Wesselényi utca 56.</td></tr>",
                            "<tr><td>Tatár Nikoletta</td><td>Családi Ház</td><td>8630 Balatonboglár, József Attila utca 25</td></tr>",
                            "<tr><td>Balla Miklós</td><td>Családi Ház</td><td>8630 Balatonboglár, József Attila utca 25</td></tr>",
                            "<tr><td>Nagymihály Lajos</td><td>Fortuna Apartman</td><td>4200 Hajdúszoboszló, Wesselényi utca 56.</td></tr>",
                            "<tr><td>Győrffy Bence</td><td>Fortuna Apartman</td><td>4200 Hajdúszoboszló, Wesselényi utca 56.</td></tr>",
                            "<tr><td>Tatár Nikoletta</td><td>Partiszél Vendégház</td><td>8220 Balatonalmádi Neptun u. 23.</td></tr>",
                            "<tr><td>Hídasi Judit</td><td>Szieszta Apartmanház</td><td>8630 Balatonboglár, Dózsa György utca 108</td></tr>",
                            "<tr><td>Kiss Andrea</td><td>Fortuna Apartman</td><td>4200 Hajdúszoboszló, Wesselényi utca 56.</td></tr>",
                            "<tr><td>Bosnyák Ilona</td><td>Partiszél Vendégház</td><td>8220 Balatonalmádi Neptun u. 23.</td></tr>",
                            "<tr><td>Hartyánszky Ágnes</td><td>Fortuna Apartman</td><td>4200 Hajdúszoboszló, Wesselényi utca 56.</td></tr>",
                            "<tr><td>Ambrus Dávid</td><td>Szieszta Apartmanház</td><td>8630 Balatonboglár, Dózsa György utca 108</td></tr>",
                            "<tr><td>Gyárfás Krisztina</td><td>Családi Ház</td><td>8630 Balatonboglár, József Attila utca 25</td></tr>",
                            "<tr><td>Baráth Mária</td><td>Fortuna Apartman</td><td>4200 Hajdúszoboszló, Wesselényi utca 56.</td></tr>",
                            "<tr><td>Móra László</td><td>Fortuna Apartman</td><td>4200 Hajdúszoboszló, Wesselényi utca 56.</td></tr>",
                            "<tr><td>Hegedűs Norbert</td><td>Partiszél Vendégház</td><td>8220 Balatonalmádi Neptun u. 23.</td></tr>",
                            "<tr><td>Iván Róbert</td><td>Családi Ház</td><td>8630 Balatonboglár, József Attila utca 25</td></tr>",
                            "<tr><td>Szűcs Balázs</td><td>Fortuna Apartman</td><td>4200 Hajdúszoboszló, Wesselényi utca 56.</td></tr>",
                            "<tr><td>Gyuris József</td><td>Családi Ház</td><td>8630 Balatonboglár, József Attila utca 25</td></tr>",
                            "<tr><td>Harangozó János</td><td>Fortuna Apartman</td><td>4200 Hajdúszoboszló, Wesselényi utca 56.</td></tr>",
                            "<tr><td>Antal Tamás</td><td>Szieszta Apartmanház</td><td>8630 Balatonboglár, Dózsa György utca 108</td></tr>",
                            "<tr><td>Tóth Roland</td><td>Fortuna Apartman</td><td>4200 Hajdúszoboszló, Wesselényi utca 56.</td></tr>",
                            "<tr><td>Köves Gábor</td><td>Szieszta Apartmanház</td><td>8630 Balatonboglár, Dózsa György utca 108</td></tr>",
                            "<tr><td>Feró Valentin</td><td>Családi Ház</td><td>8630 Balatonboglár, József Attila utca 25</td></tr>",
                            "<tr><td>Gyuris József</td><td>Fortuna Apartman</td><td>4200 Hajdúszoboszló, Wesselényi utca 56.</td></tr>",
                            "<tr><td>Keszler Dániel</td><td>Szieszta Apartmanház</td><td>8630 Balatonboglár, Dózsa György utca 108</td></tr>",
                            "<tr><td>Farkas Sára</td><td>Szieszta Apartmanház</td><td>8630 Balatonboglár, Dózsa György utca 108</td></tr>",
                            "<tr><td>Nagymihály Csongor</td><td>Fortuna Apartman</td><td>4200 Hajdúszoboszló, Wesselényi utca 56.</td></tr>",
                            "<tr><td>Bagi Beáta</td><td>Családi Ház</td><td>8630 Balatonboglár, József Attila utca 25</td></tr>",
                            "<tr><td>Zatykó Katalin</td><td>Partiszél Vendégház</td><td>8220 Balatonalmádi Neptun u. 23.</td></tr>",
                            "<tr><td>Kalacsi Márton</td><td>Fortuna Apartman</td><td>4200 Hajdúszoboszló, Wesselényi utca 56.</td></tr>",
                            "<tr><td>Bakó Klaudia</td><td>Partiszél Vendégház</td><td>8220 Balatonalmádi Neptun u. 23.</td></tr>",
                            "<tr><td>Komjáti András</td><td>Partiszél Vendégház</td><td>8220 Balatonalmádi Neptun u. 23.</td></tr>",
                            "<tr><td>Molnár Bálint</td><td>Partiszél Vendégház</td><td>8220 Balatonalmádi Neptun u. 23.</td></tr>",
                            "<tr><td>Nagy László</td><td>Fortuna Apartman</td><td>4200 Hajdúszoboszló, Wesselényi utca 56.</td></tr>",
                            "<tr><td>Kerényi Beatrix</td><td>Partiszél Vendégház</td><td>8220 Balatonalmádi Neptun u. 23.</td></tr>",
                            "<tr><td>Kornseé Gyöngyi</td><td>Fortuna Apartman</td><td>4200 Hajdúszoboszló, Wesselényi utca 56.</td></tr>",
                            "<tr><td>Molnár Bálint</td><td>Fortuna Apartman</td><td>4200 Hajdúszoboszló, Wesselényi utca 56.</td></tr>",
                            "<tr><td>Köves Gábor</td><td>Családi Ház</td><td>8630 Balatonboglár, József Attila utca 25</td></tr>",
                            "<tr><td>Bagi Beáta</td><td>Fortuna Apartman</td><td>4200 Hajdúszoboszló, Wesselényi utca 56.</td></tr>",
                            "<tr><td>Karasz Sándor</td><td>Partiszél Vendégház</td><td>8220 Balatonalmádi Neptun u. 23.</td></tr>",
                            "<tr><td>Hegedűs Norbert</td><td>Családi Ház</td><td>8630 Balatonboglár, József Attila utca 25</td></tr>",
                            "<tr><td>Kelemen Áron</td><td>Szieszta Apartmanház</td><td>8630 Balatonboglár, Dózsa György utca 108</td></tr>",
                            "<tr><td>Kovács Bernadett</td><td>Fortuna Apartman</td><td>4200 Hajdúszoboszló, Wesselényi utca 56.</td></tr>",
                            "<tr><td>Molnár Bálint</td><td>Szieszta Apartmanház</td><td>8630 Balatonboglár, Dózsa György utca 108</td></tr>",
                            "<tr><td>Fényes Tamás</td><td>Családi Ház</td><td>8630 Balatonboglár, József Attila utca 25</td></tr>",
                            "<tr><td>Back András</td><td>Szieszta Apartmanház</td><td>8630 Balatonboglár, Dózsa György utca 108</td></tr>",
                            "<tr><td>Vörös Dániel</td><td>Partiszél Vendégház</td><td>8220 Balatonalmádi Neptun u. 23.</td></tr>",
                            "<tr><td>Gondos Katalin</td><td>Fortuna Apartman</td><td>4200 Hajdúszoboszló, Wesselényi utca 56.</td></tr>",
                            "<tr><td>Regős Annamária</td><td>Partiszél Vendégház</td><td>8220 Balatonalmádi Neptun u. 23.</td></tr>",
                            "<tr><td>Dunai Aladár</td><td>Szieszta Apartmanház</td><td>8630 Balatonboglár, Dózsa György utca 108</td></tr>",
                            "<tr><td>Molnár András</td><td>Szieszta Apartmanház</td><td>8630 Balatonboglár, Dózsa György utca 108</td></tr>",
                            "<tr><td>Boros Vivien</td><td>Szieszta Apartmanház</td><td>8630 Balatonboglár, Dózsa György utca 108</td></tr>",
                            "<tr><td>Bárci Gusztáv</td><td>Fortuna Apartman</td><td>4200 Hajdúszoboszló, Wesselényi utca 56.</td></tr>",
                            "<tr><td>Koza Máté</td><td>Partiszél Vendégház</td><td>8220 Balatonalmádi Neptun u. 23.</td></tr>",
                            "<tr><td>Bakó Klaudia</td><td>Szieszta Apartmanház</td><td>8630 Balatonboglár, Dózsa György utca 108</td></tr>",
                            "<tr><td>Vida Gabriella</td><td>Fortuna Apartman</td><td>4200 Hajdúszoboszló, Wesselényi utca 56.</td></tr>",
                            "<tr><td>Iván Róbert</td><td>Családi Ház</td><td>8630 Balatonboglár, József Attila utca 25</td></tr>",
                            "<tr><td>Simon Bernadett</td><td>Fortuna Apartman</td><td>4200 Hajdúszoboszló, Wesselényi utca 56.</td></tr>",
                            "<tr><td>Bíró Péter</td><td>Fortuna Apartman</td><td>4200 Hajdúszoboszló, Wesselényi utca 56.</td></tr>",
                            "<tr><td>Kiss Andrea</td><td>Fortuna Apartman</td><td>4200 Hajdúszoboszló, Wesselényi utca 56.</td></tr>",
                            "<tr><td>Székely Brigitta</td><td>Szieszta Apartmanház</td><td>8630 Balatonboglár, Dózsa György utca 108</td></tr>",
                            "<tr><td>Turcsik Tünde</td><td>Szieszta Apartmanház</td><td>8630 Balatonboglár, Dózsa György utca 108</td></tr>",
                            "<tr><td>Szilágyi Mátyás</td><td>Partiszél Vendégház</td><td>8220 Balatonalmádi Neptun u. 23.</td></tr>",
                            "<tr><td>Berendi Péter</td><td>Fortuna Apartman</td><td>4200 Hajdúszoboszló, Wesselényi utca 56.</td></tr>",
                            "<tr><td>Rab Sebestyén</td><td>Fortuna Apartman</td><td>4200 Hajdúszoboszló, Wesselényi utca 56.</td></tr>",
                            "<tr><td>Dusha Tímea</td><td>Szieszta Apartmanház</td><td>8630 Balatonboglár, Dózsa György utca 108</td></tr>",
                            "<tr><td>Horváth Katalin</td><td>Fortuna Apartman</td><td>4200 Hajdúszoboszló, Wesselényi utca 56.</td></tr>",
                            "<tr><td>Bieniek Ádám</td><td>Partiszél Vendégház</td><td>8220 Balatonalmádi Neptun u. 23.</td></tr>",
                            "<tr><td>Varsányi Zsuzsa</td><td>Fortuna Apartman</td><td>4200 Hajdúszoboszló, Wesselényi utca 56.</td></tr>",
                            "<tr><td>Farkas Sára</td><td>Fortuna Apartman</td><td>4200 Hajdúszoboszló, Wesselényi utca 56.</td></tr>",
                            "<tr><td>Czérna Krisztián</td><td>Fortuna Apartman</td><td>4200 Hajdúszoboszló, Wesselényi utca 56.</td></tr>",
                            "<tr><td>Szabó Julianna</td><td>Családi Ház</td><td>8630 Balatonboglár, József Attila utca 25</td></tr>",
                            "<tr><td>Ferencz Roland</td><td>Szieszta Apartmanház</td><td>8630 Balatonboglár, Dózsa György utca 108</td></tr>",
                            "<tr><td>Keszler Dániel</td><td>Szieszta Apartmanház</td><td>8630 Balatonboglár, Dózsa György utca 108</td></tr>",
                            "<tr><td>Kornseé Gyöngyi</td><td>Partiszél Vendégház</td><td>8220 Balatonalmádi Neptun u. 23.</td></tr>",
                            "<tr><td>Bíró Péter</td><td>Szieszta Apartmanház</td><td>8630 Balatonboglár, Dózsa György utca 108</td></tr>",
                            "<tr><td>Rácz Rajmond</td><td>Partiszél Vendégház</td><td>8220 Balatonalmádi Neptun u. 23.</td></tr>",
                            "<tr><td>Berendi Péter</td><td>Fortuna Apartman</td><td>4200 Hajdúszoboszló, Wesselényi utca 56.</td></tr>",
                            "<tr><td>Barna Zoltán</td><td>Partiszél Vendégház</td><td>8220 Balatonalmádi Neptun u. 23.</td></tr>",
                            "<tr><td>Bíró Ákos</td><td>Szieszta Apartmanház</td><td>8630 Balatonboglár, Dózsa György utca 108</td></tr>",
                            "<tr><td>Vajda Zsuzsa</td><td>Szieszta Apartmanház</td><td>8630 Balatonboglár, Dózsa György utca 108</td></tr>",
                            "<tr><td>Móra László</td><td>Szieszta Apartmanház</td><td>8630 Balatonboglár, Dózsa György utca 108</td></tr>",
                            "<tr><td>Bíró Péter</td><td>Fortuna Apartman</td><td>4200 Hajdúszoboszló, Wesselényi utca 56.</td></tr>",
                            "<tr><td>Bieniek Ádám</td><td>Családi Ház</td><td>8630 Balatonboglár, József Attila utca 25</td></tr>",
                            "<tr><td>Perlinger Éva</td><td>Szieszta Apartmanház</td><td>8630 Balatonboglár, Dózsa György utca 108</td></tr>",
                            "<tr><td>Kerényi Beatrix</td><td>Szieszta Apartmanház</td><td>8630 Balatonboglár, Dózsa György utca 108</td></tr>",
                            "<tr><td>Nádudvari Henrik</td><td>Szieszta Apartmanház</td><td>8630 Balatonboglár, Dózsa György utca 108</td></tr>",
                            "<tr><td>Bozsik Balázs</td><td>Szieszta Apartmanház</td><td>8630 Balatonboglár, Dózsa György utca 108</td></tr>",
                            "<tr><td>Győrffy Bence</td><td>Partiszél Vendégház</td><td>8220 Balatonalmádi Neptun u. 23.</td></tr>",
                            "<tr><td>Turcsik Tünde</td><td>Fortuna Apartman</td><td>4200 Hajdúszoboszló, Wesselényi utca 56.</td></tr>",
                            "<tr><td>Ferencz Roland</td><td>Családi Ház</td><td>8630 Balatonboglár, József Attila utca 25</td></tr>",
                            "<tr><td>Szalai Szilárd</td><td>Családi Ház</td><td>8630 Balatonboglár, József Attila utca 25</td></tr>",
                            "<tr><td>Jakab Áron</td><td>Szieszta Apartmanház</td><td>8630 Balatonboglár, Dózsa György utca 108</td></tr>",
                            "<tr><td>Tankó Veronika</td><td>Szieszta Apartmanház</td><td>8630 Balatonboglár, Dózsa György utca 108</td></tr>",
                            "<tr><td>Székely Brigitta</td><td>Családi Ház</td><td>8630 Balatonboglár, József Attila utca 25</td></tr>",
                            "<tr><td>Papp Imre</td><td>Partiszél Vendégház</td><td>8220 Balatonalmádi Neptun u. 23.</td></tr>",
                            "<tr><td>Horváth Krisztina</td><td>Családi Ház</td><td>8630 Balatonboglár, József Attila utca 25</td></tr>",
                            "<tr><td>Juhász Mihály</td><td>Fortuna Apartman</td><td>4200 Hajdúszoboszló, Wesselényi utca 56.</td></tr>",
                            "<tr><td>Pataki Brigitta</td><td>Szieszta Apartmanház</td><td>8630 Balatonboglár, Dózsa György utca 108</td></tr>",
                            "<tr><td>Bajusz Bence</td><td>Szieszta Apartmanház</td><td>8630 Balatonboglár, Dózsa György utca 108</td></tr>",
                            "<tr><td>Simon Bernadett</td><td>Fortuna Apartman</td><td>4200 Hajdúszoboszló, Wesselényi utca 56.</td></tr>",
                            "<tr><td>Szedlár Krisztina</td><td>Családi Ház</td><td>8630 Balatonboglár, József Attila utca 25</td></tr>",
                            "<tr><td>Nagy László</td><td>Szieszta Apartmanház</td><td>8630 Balatonboglár, Dózsa György utca 108</td></tr>",
                            "<tr><td>Bucskó Róza</td><td>Fortuna Apartman</td><td>4200 Hajdúszoboszló, Wesselényi utca 56.</td></tr>",
                            "<tr><td>Kozma Péter</td><td>Partiszél Vendégház</td><td>8220 Balatonalmádi Neptun u. 23.</td></tr>",
                            "<tr><td>Vörös Dániel</td><td>Partiszél Vendégház</td><td>8220 Balatonalmádi Neptun u. 23.</td></tr>",
                            "<tr><td>Szikszai Réka</td><td>Szieszta Apartmanház</td><td>8630 Balatonboglár, Dózsa György utca 108</td></tr>",
                            "</table>"
                        ]
                    }
                }
            ],
            "execution_count": 3
        },
        {
            "cell_type": "code",
            "source": [
                "SELECT  szoba.SZOBA_ID, YEAR(f.METTOL) AS \"Foglalás évszáma\", COUNT(*) AS \"Foglalások_száma\"\r\n",
                "FROM Foglalas f JOIN Vendeg v ON v.USERNEV = f.UGYFEL_FK\r\n",
                "                JOIN Szoba szoba ON f.SZOBA_FK = szoba.SZOBA_ID\r\n",
                "                JOIN Szallashely s ON s.SZALLAS_ID = szoba.SZALLAS_FK\r\n",
                "WHERE szoba.SZOBA_SZAMA%2<>0\r\n",
                "GROUP BY szoba.SZOBA_ID, YEAR(f.METTOL)\r\n",
                "HAVING COUNT(*) >=10"
            ],
            "metadata": {
                "azdata_cell_guid": "9e558e67-40e7-48a1-a094-57c0c17bacb5",
                "language": "sql"
            },
            "outputs": [
                {
                    "output_type": "display_data",
                    "data": {
                        "text/html": "(3 rows affected)"
                    },
                    "metadata": {}
                },
                {
                    "output_type": "display_data",
                    "data": {
                        "text/html": "Total execution time: 00:00:00.005"
                    },
                    "metadata": {}
                },
                {
                    "output_type": "execute_result",
                    "metadata": {},
                    "execution_count": 11,
                    "data": {
                        "application/vnd.dataresource+json": {
                            "schema": {
                                "fields": [
                                    {
                                        "name": "SZOBA_ID"
                                    },
                                    {
                                        "name": "Foglalás évszáma"
                                    },
                                    {
                                        "name": "Foglalások_száma"
                                    }
                                ]
                            },
                            "data": [
                                {
                                    "SZOBA_ID": "58",
                                    "Foglalás évszáma": "2016",
                                    "Foglalások_száma": "12"
                                },
                                {
                                    "SZOBA_ID": "70",
                                    "Foglalás évszáma": "2016",
                                    "Foglalások_száma": "10"
                                },
                                {
                                    "SZOBA_ID": "185",
                                    "Foglalás évszáma": "2016",
                                    "Foglalások_száma": "10"
                                }
                            ]
                        },
                        "text/html": [
                            "<table>",
                            "<tr><th>SZOBA_ID</th><th>Foglalás évszáma</th><th>Foglalások_száma</th></tr>",
                            "<tr><td>58</td><td>2016</td><td>12</td></tr>",
                            "<tr><td>70</td><td>2016</td><td>10</td></tr>",
                            "<tr><td>185</td><td>2016</td><td>10</td></tr>",
                            "</table>"
                        ]
                    }
                }
            ],
            "execution_count": 11
        },
        {
            "cell_type": "code",
            "source": [
                "SELECT szh.SZALLAS_ID, szh.SZALLAS_NEV, COUNT(*)\r\n",
                "FROM Szallashely szh JOIN Szoba sz ON sz.SZALLAS_FK = szh.SZALLAS_ID\r\n",
                "WHERE sz.KLIMAS=1\r\n",
                "GROUP BY szh.SZALLAS_ID, szh.SZALLAS_NEV"
            ],
            "metadata": {
                "azdata_cell_guid": "339180d8-7eef-4887-886c-ada52ff6e976",
                "language": "sql",
                "tags": []
            },
            "outputs": [
                {
                    "output_type": "display_data",
                    "data": {
                        "text/html": "Total execution time: 00:00:00.009"
                    },
                    "metadata": {}
                },
                {
                    "output_type": "execute_result",
                    "metadata": {},
                    "execution_count": 17,
                    "data": {
                        "application/vnd.dataresource+json": {
                            "schema": {
                                "fields": [
                                    {
                                        "name": "SZALLAS_ID"
                                    },
                                    {
                                        "name": "SZALLAS_NEV"
                                    },
                                    {
                                        "name": "(No column name)"
                                    }
                                ]
                            },
                            "data": []
                        },
                        "text/html": [
                            "<table>",
                            "<tr><th>SZALLAS_ID</th><th>SZALLAS_NEV</th><th>(No column name)</th></tr>",
                            "</table>"
                        ]
                    }
                },
                {
                    "output_type": "error",
                    "evalue": "Msg 245, Level 16, State 1, Line 1\r\nConversion failed when converting the nvarchar value 'n' to data type int.",
                    "ename": "",
                    "traceback": []
                }
            ],
            "execution_count": 17
        }
    ]
}