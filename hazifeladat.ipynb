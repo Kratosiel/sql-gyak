{
    "metadata": {
        "kernelspec": {
            "name": "SQL",
            "display_name": "SQL",
            "language": "sql"
        },
        "language_info": {
            "name": "sql",
            "version": ""
        }
    },
    "nbformat_minor": 2,
    "nbformat": 4,
    "cells": [
        {
            "cell_type": "markdown",
            "source": [
                "Foglalás --\\> FELNOTT\\_SZAM oszlop"
            ],
            "metadata": {
                "language": "sql",
                "azdata_cell_guid": "d96bd4ea-375c-4121-a9c5-87cf9c0e5651"
            },
            "attachments": {}
        },
        {
            "cell_type": "code",
            "source": [
                "DECLARE \r\n",
                "@min int = 2,\r\n",
                "@max int = 2;   \r\n",
                "\r\n",
                "SELECT \r\n",
                "    SUM(CASE WHEN FELNOTT_SZAM < @min THEN 1 ELSE 0 end) AS \"0-1 felnőtt\",\r\n",
                "    SUM(CASE WHEN FELNOTT_SZAM BETWEEN @min and @max THEN 1 ELSE 0 end) AS \"2 felnőtt elfér\",\r\n",
                "    SUM(CASE WHEN FELNOTT_SZAM > @max THEN 1 ELSE 0 end) AS \"2-nél több felnőtt\"\r\n",
                "FROM Foglalas"
            ],
            "metadata": {
                "azdata_cell_guid": "05b115bc-0f11-4bc0-af8e-8a557659a959",
                "language": "sql"
            },
            "outputs": [
                {
                    "output_type": "display_data",
                    "data": {
                        "text/html": "(1 row affected)"
                    },
                    "metadata": {}
                },
                {
                    "output_type": "display_data",
                    "data": {
                        "text/html": "Total execution time: 00:00:00.020"
                    },
                    "metadata": {}
                },
                {
                    "output_type": "execute_result",
                    "metadata": {},
                    "execution_count": 1,
                    "data": {
                        "application/vnd.dataresource+json": {
                            "schema": {
                                "fields": [
                                    {
                                        "name": "0-1 felnőtt"
                                    },
                                    {
                                        "name": "2 felnőtt elfér"
                                    },
                                    {
                                        "name": "2-nél tbb felnőtt"
                                    }
                                ]
                            },
                            "data": [
                                {
                                    "0-1 felnőtt": "467",
                                    "2 felnőtt elfér": "412",
                                    "2-nél tbb felnőtt": "148"
                                }
                            ]
                        },
                        "text/html": [
                            "<table>",
                            "<tr><th>0-1 felnőtt</th><th>2 felnőtt elfér</th><th>2-nél tbb felnőtt</th></tr>",
                            "<tr><td>467</td><td>412</td><td>148</td></tr>",
                            "</table>"
                        ]
                    }
                }
            ],
            "execution_count": 1
        },
        {
            "cell_type": "markdown",
            "source": [
                "Foglalás --\\> FELNOTT\\_SZAM oszlop"
            ],
            "metadata": {
                "language": "sql",
                "azdata_cell_guid": "8c6f05ac-7bf6-410a-96fc-a94206553450"
            },
            "attachments": {}
        },
        {
            "cell_type": "code",
            "source": [
                "SELECT TOP 10\r\n",
                "    FELNOTT_SZAM AS \"felnőtt/szoba\", \r\n",
                "    COUNT(*) AS \"előfordulás\"\r\n",
                "FROM Foglalas\r\n",
                "WHERE FELNOTT_SZAM IS NOT null\r\n",
                "GROUP BY FELNOTT_SZAM\r\n",
                "ORDER BY COUNT(*) desc"
            ],
            "metadata": {
                "azdata_cell_guid": "dafd0822-fbb8-4015-b476-458a6e4441e3",
                "language": "sql"
            },
            "outputs": [
                {
                    "output_type": "display_data",
                    "data": {
                        "text/html": "(4 rows affected)"
                    },
                    "metadata": {}
                },
                {
                    "output_type": "display_data",
                    "data": {
                        "text/html": "Total execution time: 00:00:00.009"
                    },
                    "metadata": {}
                },
                {
                    "output_type": "execute_result",
                    "metadata": {},
                    "execution_count": 3,
                    "data": {
                        "application/vnd.dataresource+json": {
                            "schema": {
                                "fields": [
                                    {
                                        "name": "felnőtt/szoba"
                                    },
                                    {
                                        "name": "előfordulás"
                                    }
                                ]
                            },
                            "data": [
                                {
                                    "felnőtt/szoba": "1",
                                    "előfordulás": "467"
                                },
                                {
                                    "felnőtt/szoba": "2",
                                    "előfordulás": "412"
                                },
                                {
                                    "felnőtt/szoba": "3",
                                    "előfordulás": "147"
                                },
                                {
                                    "felnőtt/szoba": "4",
                                    "előfordulás": "1"
                                }
                            ]
                        },
                        "text/html": [
                            "<table>",
                            "<tr><th>felnőtt/szoba</th><th>előfordulás</th></tr>",
                            "<tr><td>1</td><td>467</td></tr>",
                            "<tr><td>2</td><td>412</td></tr>",
                            "<tr><td>3</td><td>147</td></tr>",
                            "<tr><td>4</td><td>1</td></tr>",
                            "</table>"
                        ]
                    }
                }
            ],
            "execution_count": 3
        },
        {
            "cell_type": "markdown",
            "source": [
                "Foglalás --\\> FELNOTT\\_SZAM oszlop"
            ],
            "metadata": {
                "azdata_cell_guid": "cf6eb378-da48-44b0-b11c-bc71db0d9966"
            },
            "attachments": {}
        },
        {
            "cell_type": "code",
            "source": [
                "SELECT MIN(FELNOTT_SZAM) AS value_min, \r\n",
                "       MAX(FELNOTT_SZAM) AS value_max, \r\n",
                "       AVG(FELNOTT_SZAM) AS value_avg, \r\n",
                "       STDEV(FELNOTT_SZAM) AS value_stddev, \r\n",
                "       VAR(FELNOTT_SZAM) AS value_var\r\n",
                "FROM Foglalas\r\n",
                "WHERE FELNOTT_SZAM IS NOT NULL"
            ],
            "metadata": {
                "azdata_cell_guid": "782add62-a36b-4b4b-a562-aa7a91f566a7",
                "language": "sql"
            },
            "outputs": [
                {
                    "output_type": "display_data",
                    "data": {
                        "text/html": "(1 row affected)"
                    },
                    "metadata": {}
                },
                {
                    "output_type": "display_data",
                    "data": {
                        "text/html": "Total execution time: 00:00:00.015"
                    },
                    "metadata": {}
                },
                {
                    "output_type": "execute_result",
                    "metadata": {},
                    "execution_count": 4,
                    "data": {
                        "application/vnd.dataresource+json": {
                            "schema": {
                                "fields": [
                                    {
                                        "name": "value_min"
                                    },
                                    {
                                        "name": "value_max"
                                    },
                                    {
                                        "name": "value_avg"
                                    },
                                    {
                                        "name": "value_stddev"
                                    },
                                    {
                                        "name": "value_var"
                                    }
                                ]
                            },
                            "data": [
                                {
                                    "value_min": "1",
                                    "value_max": "4",
                                    "value_avg": "1",
                                    "value_stddev": "0,7115960746033938",
                                    "value_var": "0,5063689733909589"
                                }
                            ]
                        },
                        "text/html": [
                            "<table>",
                            "<tr><th>value_min</th><th>value_max</th><th>value_avg</th><th>value_stddev</th><th>value_var</th></tr>",
                            "<tr><td>1</td><td>4</td><td>1</td><td>0,7115960746033938</td><td>0,5063689733909589</td></tr>",
                            "</table>"
                        ]
                    }
                }
            ],
            "execution_count": 4
        },
        {
            "cell_type": "markdown",
            "source": [
                "Foglalás ---\\> UGYFEL\\_FK"
            ],
            "metadata": {
                "language": "sql",
                "azdata_cell_guid": "dfc4b748-43ee-42cd-847f-a8eaefeee18f"
            },
            "attachments": {}
        },
        {
            "cell_type": "code",
            "source": [
                "SELECT MIN(UGYFEL_FK) AS \"abc első\", \r\n",
                "       MAX(UGYFEL_FK) AS \"abc utolsó\"\r\n",
                "FROM Foglalas\r\n",
                "WHERE UGYFEL_FK IS NOT NULL\r\n",
                "AND LEN(UGYFEL_FK) > 0"
            ],
            "metadata": {
                "language": "sql",
                "azdata_cell_guid": "ba2a2a37-0597-4bfe-9c5b-c79a967afef3"
            },
            "outputs": [
                {
                    "output_type": "display_data",
                    "data": {
                        "text/html": "(1 row affected)"
                    },
                    "metadata": {}
                },
                {
                    "output_type": "display_data",
                    "data": {
                        "text/html": "Total execution time: 00:00:00.010"
                    },
                    "metadata": {}
                },
                {
                    "output_type": "execute_result",
                    "metadata": {},
                    "execution_count": 7,
                    "data": {
                        "application/vnd.dataresource+json": {
                            "schema": {
                                "fields": [
                                    {
                                        "name": "abc első"
                                    },
                                    {
                                        "name": "abc utolsó"
                                    }
                                ]
                            },
                            "data": [
                                {
                                    "abc első": "adam1",
                                    "abc utolsó": "ZSUZSAV"
                                }
                            ]
                        },
                        "text/html": [
                            "<table>",
                            "<tr><th>abc első</th><th>abc utolsó</th></tr>",
                            "<tr><td>adam1</td><td>ZSUZSAV</td></tr>",
                            "</table>"
                        ]
                    }
                }
            ],
            "execution_count": 7
        },
        {
            "cell_type": "code",
            "source": [
                "SELECT LEN(UGYFEL_FK) AS string_length,\r\n",
                "       count(*) AS row_count\r\n",
                "FROM Foglalas\r\n",
                "GROUP BY LEN(UGYFEL_FK)\r\n",
                "ORDER BY 1"
            ],
            "metadata": {
                "language": "sql",
                "azdata_cell_guid": "00bc1e62-3fe9-45bb-9d0e-ce1399fcd0d5"
            },
            "outputs": [
                {
                    "output_type": "display_data",
                    "data": {
                        "text/html": "(9 rows affected)"
                    },
                    "metadata": {}
                },
                {
                    "output_type": "display_data",
                    "data": {
                        "text/html": "Total execution time: 00:00:00.015"
                    },
                    "metadata": {}
                },
                {
                    "output_type": "execute_result",
                    "metadata": {},
                    "execution_count": 6,
                    "data": {
                        "application/vnd.dataresource+json": {
                            "schema": {
                                "fields": [
                                    {
                                        "name": "string_length"
                                    },
                                    {
                                        "name": "row_count"
                                    }
                                ]
                            },
                            "data": [
                                {
                                    "string_length": "3",
                                    "row_count": "7"
                                },
                                {
                                    "string_length": "4",
                                    "row_count": "84"
                                },
                                {
                                    "string_length": "5",
                                    "row_count": "144"
                                },
                                {
                                    "string_length": "6",
                                    "row_count": "231"
                                },
                                {
                                    "string_length": "7",
                                    "row_count": "301"
                                },
                                {
                                    "string_length": "8",
                                    "row_count": "117"
                                },
                                {
                                    "string_length": "9",
                                    "row_count": "61"
                                },
                                {
                                    "string_length": "10",
                                    "row_count": "81"
                                },
                                {
                                    "string_length": "11",
                                    "row_count": "1"
                                }
                            ]
                        },
                        "text/html": [
                            "<table>",
                            "<tr><th>string_length</th><th>row_count</th></tr>",
                            "<tr><td>3</td><td>7</td></tr>",
                            "<tr><td>4</td><td>84</td></tr>",
                            "<tr><td>5</td><td>144</td></tr>",
                            "<tr><td>6</td><td>231</td></tr>",
                            "<tr><td>7</td><td>301</td></tr>",
                            "<tr><td>8</td><td>117</td></tr>",
                            "<tr><td>9</td><td>61</td></tr>",
                            "<tr><td>10</td><td>81</td></tr>",
                            "<tr><td>11</td><td>1</td></tr>",
                            "</table>"
                        ]
                    }
                }
            ],
            "execution_count": 6
        },
        {
            "cell_type": "markdown",
            "source": [
                "Megvizsgáljuk, hogy valóban megfelelő kulcs oszlop"
            ],
            "metadata": {
                "language": "sql",
                "azdata_cell_guid": "26db163b-51e2-477b-8b6d-8511c2f2ddc3"
            },
            "attachments": {}
        },
        {
            "cell_type": "code",
            "source": [
                "SELECT COUNT(DISTINCT UGYFEL_FK) AS unique_values_count, COUNT(*) AS Összes\r\n",
                "FROM Foglalas\r\n",
                "WHERE UGYFEL_FK IS NOT NULL"
            ],
            "metadata": {
                "language": "sql",
                "azdata_cell_guid": "5cef489f-88c6-460b-980f-37d7e83ae5d2"
            },
            "outputs": [
                {
                    "output_type": "display_data",
                    "data": {
                        "text/html": "(1 row affected)"
                    },
                    "metadata": {}
                },
                {
                    "output_type": "display_data",
                    "data": {
                        "text/html": "Total execution time: 00:00:00.013"
                    },
                    "metadata": {}
                },
                {
                    "output_type": "execute_result",
                    "metadata": {},
                    "execution_count": 10,
                    "data": {
                        "application/vnd.dataresource+json": {
                            "schema": {
                                "fields": [
                                    {
                                        "name": "unique_values_count"
                                    },
                                    {
                                        "name": "Összes"
                                    }
                                ]
                            },
                            "data": [
                                {
                                    "unique_values_count": "195",
                                    "Összes": "1027"
                                }
                            ]
                        },
                        "text/html": [
                            "<table>",
                            "<tr><th>unique_values_count</th><th>Összes</th></tr>",
                            "<tr><td>195</td><td>1027</td></tr>",
                            "</table>"
                        ]
                    }
                }
            ],
            "execution_count": 10
        }
    ]
}